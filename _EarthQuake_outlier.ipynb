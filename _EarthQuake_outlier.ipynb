{
  "nbformat": 4,
  "nbformat_minor": 0,
  "metadata": {
    "colab": {
      "name": "_EarthQuake_outlier",
      "provenance": [],
      "collapsed_sections": [],
      "authorship_tag": "ABX9TyNqHiMTZU4LLustB1noRJBH",
      "include_colab_link": true
    },
    "kernelspec": {
      "name": "python3",
      "display_name": "Python 3"
    }
  },
  "cells": [
    {
      "cell_type": "markdown",
      "metadata": {
        "id": "view-in-github",
        "colab_type": "text"
      },
      "source": [
        "<a href=\"https://colab.research.google.com/github/sipocz/_earthQuake/blob/main/_EarthQuake_outlier.ipynb\" target=\"_parent\"><img src=\"https://colab.research.google.com/assets/colab-badge.svg\" alt=\"Open In Colab\"/></a>"
      ]
    },
    {
      "cell_type": "code",
      "metadata": {
        "id": "ourMOFA7tuMi"
      },
      "source": [
        "from sklearn.ensemble import IsolationForest\n",
        "import numpy as np\n",
        "\n"
      ],
      "execution_count": 119,
      "outputs": []
    },
    {
      "cell_type": "code",
      "metadata": {
        "colab": {
          "base_uri": "https://localhost:8080/"
        },
        "id": "eu94_AfLv0aj",
        "outputId": "55d2d73c-751b-4e98-c577-353992bf2f2d"
      },
      "source": [
        "#EarthQuake\n",
        "from google.colab import drive\n",
        "drive.mount('/content/drive',force_remount=True)\n",
        "import numpy as np\n",
        "import pandas as pd\n",
        "import matplotlib.pyplot as plt\n",
        "#import sweetviz as sw\n",
        "\n",
        "#!pip install sweetviz\n",
        "#import sweetviz as sw\n",
        "from sklearn.preprocessing import MinMaxScaler\n",
        "from sklearn.model_selection import train_test_split"
      ],
      "execution_count": 120,
      "outputs": [
        {
          "output_type": "stream",
          "text": [
            "Mounted at /content/drive\n"
          ],
          "name": "stdout"
        }
      ]
    },
    {
      "cell_type": "code",
      "metadata": {
        "id": "Hd2wpZ8TwEMv"
      },
      "source": [
        "df=pd.read_csv(\"/content/drive/My Drive/001_AI/_EarthQuake/features_a.csv\")\n",
        "df_clasters=pd.read_csv(\"/content/drive/My Drive/001_AI/_EarthQuake/train_labels.csv\")\n",
        "df_testvalues=pd.read_csv(\"/content/drive/My Drive/001_AI/_EarthQuake/test_a.csv\")\n",
        "#official_testvalues=pd.read_csv(\"/content/drive/My Drive/001_AI/_EarthQuake/test_values.csv\")\n"
      ],
      "execution_count": 140,
      "outputs": []
    },
    {
      "cell_type": "code",
      "metadata": {
        "colab": {
          "base_uri": "https://localhost:8080/"
        },
        "id": "j9rIQ6sqwJgX",
        "outputId": "e18e9bd6-be5c-4449-e4d1-482a947de2bb"
      },
      "source": [
        "numx=260601\n",
        "#numx=50000\n",
        "Y=df_clasters[[\"damage_grade\"]]\n",
        "X=df\n",
        "scaler=MinMaxScaler()\n",
        "Xt=X[:numx]\n",
        "Xt=scaler.fit_transform(Xt)\n",
        "Xt=Xt[:numx]\n",
        "Y=Y[[\"damage_grade\"]]\n",
        "Y=Y[:numx]\n",
        "X_train, X_test, y_train, y_test = train_test_split(Xt, Y, random_state=2,test_size=0.05)\n",
        "\n",
        "heads=df.columns\n",
        "print(len(heads))\n",
        "print(len(df_testvalues.columns))\n",
        "for i in df_testvalues.columns:\n",
        "    if i not in heads:\n",
        "        df_testvalues.drop(columns=[i], inplace=True)\n",
        "\n",
        "print(len(df_testvalues.columns))\n",
        "print(len(X_train))\n",
        "print(X_train)"
      ],
      "execution_count": 141,
      "outputs": [
        {
          "output_type": "stream",
          "text": [
            "57\n",
            "78\n",
            "57\n",
            "247570\n",
            "[[0.65874904 0.56666667 0.69516468 ... 0.         1.         0.        ]\n",
            " [0.15169992 0.43333333 0.14926419 ... 0.         0.         1.        ]\n",
            " [0.87421335 0.2        0.40084093 ... 0.         0.         1.        ]\n",
            " ...\n",
            " [0.77991174 0.86666667 0.51857043 ... 0.         0.         1.        ]\n",
            " [0.38710284 0.16666667 0.18710582 ... 0.         0.         1.        ]\n",
            " [0.34250192 0.26666667 0.99088998 ... 0.         0.         1.        ]]\n"
          ],
          "name": "stdout"
        }
      ]
    },
    {
      "cell_type": "code",
      "metadata": {
        "colab": {
          "base_uri": "https://localhost:8080/"
        },
        "id": "pzZEUQ8vv6HQ",
        "outputId": "31dbbba9-aa7f-4a95-9338-b853915140aa"
      },
      "source": [
        "clf = IsolationForest(n_estimators=3, warm_start=True, max_features=3)\n",
        "clf.fit(X_train)  # fit 10 trees  \n",
        "#clf.set_params()  # add 10 more trees  \n",
        "#clf.fit(X)  # fit the added trees "
      ],
      "execution_count": 123,
      "outputs": [
        {
          "output_type": "execute_result",
          "data": {
            "text/plain": [
              "IsolationForest(behaviour='deprecated', bootstrap=False, contamination='auto',\n",
              "                max_features=3, max_samples='auto', n_estimators=3, n_jobs=None,\n",
              "                random_state=None, verbose=0, warm_start=True)"
            ]
          },
          "metadata": {
            "tags": []
          },
          "execution_count": 123
        }
      ]
    },
    {
      "cell_type": "code",
      "metadata": {
        "colab": {
          "base_uri": "https://localhost:8080/"
        },
        "id": "iazEsgr_wDqr",
        "outputId": "713bf160-c478-4b81-9c4a-25a2b6107345"
      },
      "source": [
        "X_train_predict=clf.predict(X_train)\n",
        "print(len(X_train))\n",
        "print(X_train)"
      ],
      "execution_count": 124,
      "outputs": [
        {
          "output_type": "stream",
          "text": [
            "247570\n",
            "[[0.65874904 0.56666667 0.69516468 ... 0.         1.         0.        ]\n",
            " [0.15169992 0.43333333 0.14926419 ... 0.         0.         1.        ]\n",
            " [0.87421335 0.2        0.40084093 ... 0.         0.         1.        ]\n",
            " ...\n",
            " [0.77991174 0.86666667 0.51857043 ... 0.         0.         1.        ]\n",
            " [0.38710284 0.16666667 0.18710582 ... 0.         0.         1.        ]\n",
            " [0.34250192 0.26666667 0.99088998 ... 0.         0.         1.        ]]\n"
          ],
          "name": "stdout"
        }
      ]
    },
    {
      "cell_type": "code",
      "metadata": {
        "colab": {
          "base_uri": "https://localhost:8080/"
        },
        "id": "w7dpyxTuw03D",
        "outputId": "23a7fed9-3f00-400d-afc9-9bde67f23cec"
      },
      "source": [
        "def outlierStatistic(X_train_predict):\n",
        "    print(X_train_predict)\n",
        "    maxX=len(X_train_predict)\n",
        "    outlier=0\n",
        "    for i in X_train_predict:\n",
        "        if i==-1:\n",
        "            outlier+=1\n",
        "    print(f\"A összes ({maxX} darabból {outlier} darab outlier van. Az {outlier/maxX*100:5.1f} %.)\")\n",
        "outlierStatistic(X_train_predict)"
      ],
      "execution_count": 144,
      "outputs": [
        {
          "output_type": "stream",
          "text": [
            "[1 1 1 ... 1 1 1]\n",
            "A összes (247570 darabból 35805 darab outlier van. Az  14.5 %.)\n"
          ],
          "name": "stdout"
        }
      ]
    },
    {
      "cell_type": "code",
      "metadata": {
        "id": "CYLuRZ7kFAlk"
      },
      "source": [
        "# az official test vizsgálata outlierekre nézve:\n",
        "outlier_official_predikt=clf.predict(df_testvalues)"
      ],
      "execution_count": 147,
      "outputs": []
    },
    {
      "cell_type": "code",
      "metadata": {
        "colab": {
          "base_uri": "https://localhost:8080/"
        },
        "id": "9SgQCJDTFswv",
        "outputId": "537c4cc6-5147-472b-aa74-977afa5db140"
      },
      "source": [
        "outlierStatistic(outlier_official_predikt)"
      ],
      "execution_count": 148,
      "outputs": [
        {
          "output_type": "stream",
          "text": [
            "[ 1  1  1 ... -1 -1  1]\n",
            "A összes (86868 darabból 26798 darab outlier van. Az  30.8 %.)\n"
          ],
          "name": "stdout"
        }
      ]
    },
    {
      "cell_type": "code",
      "metadata": {
        "colab": {
          "base_uri": "https://localhost:8080/"
        },
        "id": "mjXOHMz1-lMs",
        "outputId": "995ce248-6a13-4c28-c281-dd771d3f9ea1"
      },
      "source": [
        "print(list(y_train[[\"damage_grade\"]].index)[0])"
      ],
      "execution_count": 126,
      "outputs": [
        {
          "output_type": "stream",
          "text": [
            "171670\n"
          ],
          "name": "stdout"
        }
      ]
    },
    {
      "cell_type": "code",
      "metadata": {
        "colab": {
          "base_uri": "https://localhost:8080/"
        },
        "id": "189eiLBcNMDe",
        "outputId": "2714e0e9-5e16-47a5-d678-f5bde12eb943"
      },
      "source": [
        "print(X_train[1])"
      ],
      "execution_count": 127,
      "outputs": [
        {
          "output_type": "stream",
          "text": [
            "[0.15169992 0.43333333 0.14926419 0.         0.02512563 0.06060606\n",
            " 0.03333333 0.         1.         0.         0.         0.\n",
            " 0.         0.         0.         0.         0.         0.\n",
            " 0.11111111 0.         0.         0.         0.         0.\n",
            " 0.         0.         0.         1.         0.         0.\n",
            " 0.         0.         1.         0.         0.         1.\n",
            " 0.         0.         0.         1.         0.         0.\n",
            " 0.         1.         0.         0.         1.         0.\n",
            " 0.         0.         1.         0.         0.         0.\n",
            " 0.         0.         1.        ]\n"
          ],
          "name": "stdout"
        }
      ]
    },
    {
      "cell_type": "code",
      "metadata": {
        "colab": {
          "base_uri": "https://localhost:8080/"
        },
        "id": "xESw_txRjtfp",
        "outputId": "51db817d-cbb4-4d3e-f9c0-e544781a98a3"
      },
      "source": [
        "\n",
        "y_train[\"damage_grade\"].values"
      ],
      "execution_count": 128,
      "outputs": [
        {
          "output_type": "execute_result",
          "data": {
            "text/plain": [
              "array([2, 2, 2, ..., 2, 2, 3])"
            ]
          },
          "metadata": {
            "tags": []
          },
          "execution_count": 128
        }
      ]
    },
    {
      "cell_type": "code",
      "metadata": {
        "id": "KBEZnsQd5ces"
      },
      "source": [
        "\n",
        "\n",
        "X_train_inliers=[X_train[inx] for inx,i in enumerate(X_train_predict) if i==1 ]\n",
        "X_train_outliers=[X_train[index] for index,i in enumerate(X_train_predict) if i==-1 ]\n",
        "tmp=list(y_train[\"damage_grade\"].values)\n",
        "y_train_inliers=[tmp[inx] for inx,i in enumerate(X_train_predict) if i==1 ]\n",
        "y_train_outliers=[tmp[inx] for inx,i in enumerate(X_train_predict) if i==-1 ]\n",
        "\n"
      ],
      "execution_count": 129,
      "outputs": []
    },
    {
      "cell_type": "code",
      "metadata": {
        "id": "tOrPzBrGMvY5"
      },
      "source": [
        "dX1=pd.DataFrame (X_train_inliers)\n",
        "dY1=pd.DataFrame (y_train_inliers)\n",
        "DtX=pd.DataFrame(X_test)"
      ],
      "execution_count": 130,
      "outputs": []
    },
    {
      "cell_type": "code",
      "metadata": {
        "id": "emF0IgUY9Y7I",
        "colab": {
          "base_uri": "https://localhost:8080/"
        },
        "outputId": "769b2420-891f-4b91-d092-e8363a995b72"
      },
      "source": [
        "# KNN inlier modell\n",
        "\n",
        "from xgboost import XGBClassifier  # 72.09\n",
        "# max_depth=10 : 72.79857561664441\n",
        "\n",
        "\n",
        "\n",
        "knn_inlier = XGBClassifier(verbosity=3,max_depth = 35)"
      ],
      "execution_count": 131,
      "outputs": [
        {
          "output_type": "stream",
          "text": [
            "[17:32:21] ======== Monitor: Learner ========\n",
            "[17:32:21] GetGradient: 3.02159s, 100 calls @ 30215us\n",
            "[17:32:21] PredictRaw: 0.220522s, 100 calls @ 2205us\n",
            "[17:32:21] UpdateOneIter: 818.077s, 100 calls @ 8180771us\n",
            "[17:32:21] ======== Monitor: GBTree ========\n",
            "[17:32:21] BoostNewTrees: 784.672s, 100 calls @ 7846721us\n",
            "[17:32:21] CommitModel: 30.1615s, 100 calls @ 301615us\n"
          ],
          "name": "stdout"
        }
      ]
    },
    {
      "cell_type": "code",
      "metadata": {
        "colab": {
          "base_uri": "https://localhost:8080/"
        },
        "id": "U7qMZnpO9tlR",
        "outputId": "ad692ac8-24b8-4b36-af6e-fbb2b0c16c78"
      },
      "source": [
        "print(\"Fit Start--\")\n",
        "knn_inliers.fit(dX1, dY1)\n",
        "print(\"Fit End--\")"
      ],
      "execution_count": 133,
      "outputs": [
        {
          "output_type": "stream",
          "text": [
            "Fit Start--\n"
          ],
          "name": "stdout"
        },
        {
          "output_type": "stream",
          "text": [
            "/usr/local/lib/python3.6/dist-packages/sklearn/preprocessing/_label.py:235: DataConversionWarning: A column-vector y was passed when a 1d array was expected. Please change the shape of y to (n_samples, ), for example using ravel().\n",
            "  y = column_or_1d(y, warn=True)\n",
            "/usr/local/lib/python3.6/dist-packages/sklearn/preprocessing/_label.py:268: DataConversionWarning: A column-vector y was passed when a 1d array was expected. Please change the shape of y to (n_samples, ), for example using ravel().\n",
            "  y = column_or_1d(y, warn=True)\n"
          ],
          "name": "stderr"
        },
        {
          "output_type": "stream",
          "text": [
            "[17:32:27] INFO: /workspace/src/tree/updater_prune.cc:74: tree pruning end, 1 roots, 16198 extra nodes, 0 pruned nodes, max_depth=35\n",
            "[17:32:33] INFO: /workspace/src/tree/updater_prune.cc:74: tree pruning end, 1 roots, 47452 extra nodes, 0 pruned nodes, max_depth=35\n",
            "[17:32:38] INFO: /workspace/src/tree/updater_prune.cc:74: tree pruning end, 1 roots, 43450 extra nodes, 0 pruned nodes, max_depth=35\n",
            "[17:32:43] INFO: /workspace/src/tree/updater_prune.cc:74: tree pruning end, 1 roots, 16598 extra nodes, 0 pruned nodes, max_depth=35\n",
            "[17:32:48] INFO: /workspace/src/tree/updater_prune.cc:74: tree pruning end, 1 roots, 49164 extra nodes, 0 pruned nodes, max_depth=35\n",
            "[17:32:54] INFO: /workspace/src/tree/updater_prune.cc:74: tree pruning end, 1 roots, 44846 extra nodes, 0 pruned nodes, max_depth=35\n",
            "[17:32:59] INFO: /workspace/src/tree/updater_prune.cc:74: tree pruning end, 1 roots, 17218 extra nodes, 0 pruned nodes, max_depth=35\n",
            "[17:33:05] INFO: /workspace/src/tree/updater_prune.cc:74: tree pruning end, 1 roots, 51218 extra nodes, 0 pruned nodes, max_depth=35\n",
            "[17:33:10] INFO: /workspace/src/tree/updater_prune.cc:74: tree pruning end, 1 roots, 45780 extra nodes, 0 pruned nodes, max_depth=35\n",
            "[17:33:15] INFO: /workspace/src/tree/updater_prune.cc:74: tree pruning end, 1 roots, 17676 extra nodes, 0 pruned nodes, max_depth=35\n",
            "[17:33:21] INFO: /workspace/src/tree/updater_prune.cc:74: tree pruning end, 1 roots, 52782 extra nodes, 0 pruned nodes, max_depth=35\n",
            "[17:33:26] INFO: /workspace/src/tree/updater_prune.cc:74: tree pruning end, 1 roots, 46664 extra nodes, 0 pruned nodes, max_depth=35\n",
            "[17:33:31] INFO: /workspace/src/tree/updater_prune.cc:74: tree pruning end, 1 roots, 17892 extra nodes, 0 pruned nodes, max_depth=35\n",
            "[17:33:37] INFO: /workspace/src/tree/updater_prune.cc:74: tree pruning end, 1 roots, 54002 extra nodes, 0 pruned nodes, max_depth=35\n",
            "[17:33:42] INFO: /workspace/src/tree/updater_prune.cc:74: tree pruning end, 1 roots, 47458 extra nodes, 0 pruned nodes, max_depth=35\n",
            "[17:33:48] INFO: /workspace/src/tree/updater_prune.cc:74: tree pruning end, 1 roots, 18338 extra nodes, 0 pruned nodes, max_depth=34\n",
            "[17:33:54] INFO: /workspace/src/tree/updater_prune.cc:74: tree pruning end, 1 roots, 55592 extra nodes, 0 pruned nodes, max_depth=35\n",
            "[17:34:01] INFO: /workspace/src/tree/updater_prune.cc:74: tree pruning end, 1 roots, 48226 extra nodes, 0 pruned nodes, max_depth=35\n",
            "[17:34:06] INFO: /workspace/src/tree/updater_prune.cc:74: tree pruning end, 1 roots, 18542 extra nodes, 0 pruned nodes, max_depth=35\n",
            "[17:34:13] INFO: /workspace/src/tree/updater_prune.cc:74: tree pruning end, 1 roots, 56590 extra nodes, 0 pruned nodes, max_depth=35\n",
            "[17:34:18] INFO: /workspace/src/tree/updater_prune.cc:74: tree pruning end, 1 roots, 48812 extra nodes, 0 pruned nodes, max_depth=35\n",
            "[17:34:23] INFO: /workspace/src/tree/updater_prune.cc:74: tree pruning end, 1 roots, 18608 extra nodes, 0 pruned nodes, max_depth=35\n",
            "[17:34:30] INFO: /workspace/src/tree/updater_prune.cc:74: tree pruning end, 1 roots, 57604 extra nodes, 0 pruned nodes, max_depth=35\n",
            "[17:34:35] INFO: /workspace/src/tree/updater_prune.cc:74: tree pruning end, 1 roots, 49572 extra nodes, 0 pruned nodes, max_depth=35\n",
            "[17:34:40] INFO: /workspace/src/tree/updater_prune.cc:74: tree pruning end, 1 roots, 19070 extra nodes, 0 pruned nodes, max_depth=35\n",
            "[17:34:46] INFO: /workspace/src/tree/updater_prune.cc:74: tree pruning end, 1 roots, 57620 extra nodes, 0 pruned nodes, max_depth=35\n",
            "[17:34:52] INFO: /workspace/src/tree/updater_prune.cc:74: tree pruning end, 1 roots, 50090 extra nodes, 0 pruned nodes, max_depth=35\n",
            "[17:34:57] INFO: /workspace/src/tree/updater_prune.cc:74: tree pruning end, 1 roots, 19036 extra nodes, 0 pruned nodes, max_depth=35\n",
            "[17:35:03] INFO: /workspace/src/tree/updater_prune.cc:74: tree pruning end, 1 roots, 58614 extra nodes, 0 pruned nodes, max_depth=35\n",
            "[17:35:08] INFO: /workspace/src/tree/updater_prune.cc:74: tree pruning end, 1 roots, 50328 extra nodes, 0 pruned nodes, max_depth=35\n",
            "[17:35:13] INFO: /workspace/src/tree/updater_prune.cc:74: tree pruning end, 1 roots, 19156 extra nodes, 0 pruned nodes, max_depth=35\n",
            "[17:35:19] INFO: /workspace/src/tree/updater_prune.cc:74: tree pruning end, 1 roots, 59566 extra nodes, 0 pruned nodes, max_depth=35\n",
            "[17:35:25] INFO: /workspace/src/tree/updater_prune.cc:74: tree pruning end, 1 roots, 50074 extra nodes, 0 pruned nodes, max_depth=35\n",
            "[17:35:30] INFO: /workspace/src/tree/updater_prune.cc:74: tree pruning end, 1 roots, 19278 extra nodes, 0 pruned nodes, max_depth=35\n",
            "[17:35:36] INFO: /workspace/src/tree/updater_prune.cc:74: tree pruning end, 1 roots, 60234 extra nodes, 0 pruned nodes, max_depth=35\n",
            "[17:35:42] INFO: /workspace/src/tree/updater_prune.cc:74: tree pruning end, 1 roots, 49966 extra nodes, 0 pruned nodes, max_depth=35\n",
            "[17:35:47] INFO: /workspace/src/tree/updater_prune.cc:74: tree pruning end, 1 roots, 19402 extra nodes, 0 pruned nodes, max_depth=35\n",
            "[17:35:53] INFO: /workspace/src/tree/updater_prune.cc:74: tree pruning end, 1 roots, 60798 extra nodes, 0 pruned nodes, max_depth=35\n",
            "[17:35:58] INFO: /workspace/src/tree/updater_prune.cc:74: tree pruning end, 1 roots, 49976 extra nodes, 0 pruned nodes, max_depth=35\n",
            "[17:36:03] INFO: /workspace/src/tree/updater_prune.cc:74: tree pruning end, 1 roots, 19580 extra nodes, 0 pruned nodes, max_depth=35\n",
            "[17:36:09] INFO: /workspace/src/tree/updater_prune.cc:74: tree pruning end, 1 roots, 60730 extra nodes, 0 pruned nodes, max_depth=35\n",
            "[17:36:15] INFO: /workspace/src/tree/updater_prune.cc:74: tree pruning end, 1 roots, 49618 extra nodes, 0 pruned nodes, max_depth=35\n",
            "[17:36:20] INFO: /workspace/src/tree/updater_prune.cc:74: tree pruning end, 1 roots, 18994 extra nodes, 0 pruned nodes, max_depth=35\n",
            "[17:36:26] INFO: /workspace/src/tree/updater_prune.cc:74: tree pruning end, 1 roots, 60238 extra nodes, 0 pruned nodes, max_depth=35\n",
            "[17:36:32] INFO: /workspace/src/tree/updater_prune.cc:74: tree pruning end, 1 roots, 48828 extra nodes, 0 pruned nodes, max_depth=35\n",
            "[17:36:37] INFO: /workspace/src/tree/updater_prune.cc:74: tree pruning end, 1 roots, 19014 extra nodes, 0 pruned nodes, max_depth=35\n",
            "[17:36:43] INFO: /workspace/src/tree/updater_prune.cc:74: tree pruning end, 1 roots, 60586 extra nodes, 0 pruned nodes, max_depth=35\n",
            "[17:36:48] INFO: /workspace/src/tree/updater_prune.cc:74: tree pruning end, 1 roots, 48896 extra nodes, 0 pruned nodes, max_depth=35\n",
            "[17:36:53] INFO: /workspace/src/tree/updater_prune.cc:74: tree pruning end, 1 roots, 19196 extra nodes, 0 pruned nodes, max_depth=35\n",
            "[17:36:59] INFO: /workspace/src/tree/updater_prune.cc:74: tree pruning end, 1 roots, 61084 extra nodes, 0 pruned nodes, max_depth=35\n",
            "[17:37:05] INFO: /workspace/src/tree/updater_prune.cc:74: tree pruning end, 1 roots, 48466 extra nodes, 0 pruned nodes, max_depth=35\n",
            "[17:37:10] INFO: /workspace/src/tree/updater_prune.cc:74: tree pruning end, 1 roots, 19186 extra nodes, 0 pruned nodes, max_depth=35\n",
            "[17:37:17] INFO: /workspace/src/tree/updater_prune.cc:74: tree pruning end, 1 roots, 59320 extra nodes, 0 pruned nodes, max_depth=35\n",
            "[17:37:23] INFO: /workspace/src/tree/updater_prune.cc:74: tree pruning end, 1 roots, 47934 extra nodes, 0 pruned nodes, max_depth=35\n",
            "[17:37:28] INFO: /workspace/src/tree/updater_prune.cc:74: tree pruning end, 1 roots, 18588 extra nodes, 0 pruned nodes, max_depth=35\n",
            "[17:37:34] INFO: /workspace/src/tree/updater_prune.cc:74: tree pruning end, 1 roots, 58746 extra nodes, 0 pruned nodes, max_depth=35\n",
            "[17:37:39] INFO: /workspace/src/tree/updater_prune.cc:74: tree pruning end, 1 roots, 47768 extra nodes, 0 pruned nodes, max_depth=35\n",
            "[17:37:44] INFO: /workspace/src/tree/updater_prune.cc:74: tree pruning end, 1 roots, 18810 extra nodes, 0 pruned nodes, max_depth=35\n",
            "[17:37:51] INFO: /workspace/src/tree/updater_prune.cc:74: tree pruning end, 1 roots, 57804 extra nodes, 0 pruned nodes, max_depth=35\n",
            "[17:37:56] INFO: /workspace/src/tree/updater_prune.cc:74: tree pruning end, 1 roots, 46904 extra nodes, 0 pruned nodes, max_depth=35\n",
            "[17:38:01] INFO: /workspace/src/tree/updater_prune.cc:74: tree pruning end, 1 roots, 18386 extra nodes, 0 pruned nodes, max_depth=35\n",
            "[17:38:07] INFO: /workspace/src/tree/updater_prune.cc:74: tree pruning end, 1 roots, 56814 extra nodes, 0 pruned nodes, max_depth=35\n",
            "[17:38:13] INFO: /workspace/src/tree/updater_prune.cc:74: tree pruning end, 1 roots, 46354 extra nodes, 0 pruned nodes, max_depth=35\n",
            "[17:38:18] INFO: /workspace/src/tree/updater_prune.cc:74: tree pruning end, 1 roots, 18210 extra nodes, 0 pruned nodes, max_depth=35\n",
            "[17:38:24] INFO: /workspace/src/tree/updater_prune.cc:74: tree pruning end, 1 roots, 54318 extra nodes, 0 pruned nodes, max_depth=35\n",
            "[17:38:30] INFO: /workspace/src/tree/updater_prune.cc:74: tree pruning end, 1 roots, 44544 extra nodes, 0 pruned nodes, max_depth=35\n",
            "[17:38:35] INFO: /workspace/src/tree/updater_prune.cc:74: tree pruning end, 1 roots, 18308 extra nodes, 0 pruned nodes, max_depth=35\n",
            "[17:38:41] INFO: /workspace/src/tree/updater_prune.cc:74: tree pruning end, 1 roots, 53614 extra nodes, 0 pruned nodes, max_depth=35\n",
            "[17:38:46] INFO: /workspace/src/tree/updater_prune.cc:74: tree pruning end, 1 roots, 43822 extra nodes, 0 pruned nodes, max_depth=35\n",
            "[17:38:51] INFO: /workspace/src/tree/updater_prune.cc:74: tree pruning end, 1 roots, 17988 extra nodes, 0 pruned nodes, max_depth=35\n",
            "[17:38:58] INFO: /workspace/src/tree/updater_prune.cc:74: tree pruning end, 1 roots, 51528 extra nodes, 0 pruned nodes, max_depth=35\n",
            "[17:39:04] INFO: /workspace/src/tree/updater_prune.cc:74: tree pruning end, 1 roots, 43652 extra nodes, 0 pruned nodes, max_depth=35\n",
            "[17:39:09] INFO: /workspace/src/tree/updater_prune.cc:74: tree pruning end, 1 roots, 17548 extra nodes, 0 pruned nodes, max_depth=35\n",
            "[17:39:18] INFO: /workspace/src/tree/updater_prune.cc:74: tree pruning end, 1 roots, 49866 extra nodes, 0 pruned nodes, max_depth=35\n",
            "[17:39:24] INFO: /workspace/src/tree/updater_prune.cc:74: tree pruning end, 1 roots, 43788 extra nodes, 0 pruned nodes, max_depth=35\n",
            "[17:39:31] INFO: /workspace/src/tree/updater_prune.cc:74: tree pruning end, 1 roots, 17586 extra nodes, 0 pruned nodes, max_depth=35\n",
            "[17:39:38] INFO: /workspace/src/tree/updater_prune.cc:74: tree pruning end, 1 roots, 48508 extra nodes, 0 pruned nodes, max_depth=35\n",
            "[17:39:43] INFO: /workspace/src/tree/updater_prune.cc:74: tree pruning end, 1 roots, 41586 extra nodes, 0 pruned nodes, max_depth=35\n",
            "[17:39:48] INFO: /workspace/src/tree/updater_prune.cc:74: tree pruning end, 1 roots, 17036 extra nodes, 0 pruned nodes, max_depth=35\n",
            "[17:39:55] INFO: /workspace/src/tree/updater_prune.cc:74: tree pruning end, 1 roots, 45394 extra nodes, 0 pruned nodes, max_depth=35\n",
            "[17:40:00] INFO: /workspace/src/tree/updater_prune.cc:74: tree pruning end, 1 roots, 40644 extra nodes, 0 pruned nodes, max_depth=35\n",
            "[17:40:06] INFO: /workspace/src/tree/updater_prune.cc:74: tree pruning end, 1 roots, 16792 extra nodes, 0 pruned nodes, max_depth=35\n",
            "[17:40:12] INFO: /workspace/src/tree/updater_prune.cc:74: tree pruning end, 1 roots, 46034 extra nodes, 0 pruned nodes, max_depth=35\n",
            "[17:40:18] INFO: /workspace/src/tree/updater_prune.cc:74: tree pruning end, 1 roots, 40062 extra nodes, 0 pruned nodes, max_depth=35\n",
            "[17:40:23] INFO: /workspace/src/tree/updater_prune.cc:74: tree pruning end, 1 roots, 16426 extra nodes, 0 pruned nodes, max_depth=35\n",
            "[17:40:30] INFO: /workspace/src/tree/updater_prune.cc:74: tree pruning end, 1 roots, 45176 extra nodes, 0 pruned nodes, max_depth=35\n",
            "[17:40:35] INFO: /workspace/src/tree/updater_prune.cc:74: tree pruning end, 1 roots, 39300 extra nodes, 0 pruned nodes, max_depth=35\n",
            "[17:40:41] INFO: /workspace/src/tree/updater_prune.cc:74: tree pruning end, 1 roots, 16276 extra nodes, 0 pruned nodes, max_depth=35\n",
            "[17:40:47] INFO: /workspace/src/tree/updater_prune.cc:74: tree pruning end, 1 roots, 43002 extra nodes, 0 pruned nodes, max_depth=35\n",
            "[17:40:53] INFO: /workspace/src/tree/updater_prune.cc:74: tree pruning end, 1 roots, 37918 extra nodes, 0 pruned nodes, max_depth=35\n",
            "[17:40:58] INFO: /workspace/src/tree/updater_prune.cc:74: tree pruning end, 1 roots, 16120 extra nodes, 0 pruned nodes, max_depth=35\n",
            "[17:41:04] INFO: /workspace/src/tree/updater_prune.cc:74: tree pruning end, 1 roots, 41364 extra nodes, 0 pruned nodes, max_depth=35\n",
            "[17:41:10] INFO: /workspace/src/tree/updater_prune.cc:74: tree pruning end, 1 roots, 35332 extra nodes, 0 pruned nodes, max_depth=35\n",
            "[17:41:15] INFO: /workspace/src/tree/updater_prune.cc:74: tree pruning end, 1 roots, 16246 extra nodes, 0 pruned nodes, max_depth=35\n",
            "[17:41:22] INFO: /workspace/src/tree/updater_prune.cc:74: tree pruning end, 1 roots, 42798 extra nodes, 0 pruned nodes, max_depth=35\n",
            "[17:41:27] INFO: /workspace/src/tree/updater_prune.cc:74: tree pruning end, 1 roots, 35552 extra nodes, 0 pruned nodes, max_depth=35\n",
            "[17:41:32] INFO: /workspace/src/tree/updater_prune.cc:74: tree pruning end, 1 roots, 15968 extra nodes, 0 pruned nodes, max_depth=35\n",
            "[17:41:38] INFO: /workspace/src/tree/updater_prune.cc:74: tree pruning end, 1 roots, 41776 extra nodes, 0 pruned nodes, max_depth=35\n",
            "[17:41:44] INFO: /workspace/src/tree/updater_prune.cc:74: tree pruning end, 1 roots, 33828 extra nodes, 0 pruned nodes, max_depth=35\n",
            "[17:41:49] INFO: /workspace/src/tree/updater_prune.cc:74: tree pruning end, 1 roots, 15610 extra nodes, 0 pruned nodes, max_depth=35\n",
            "[17:41:55] INFO: /workspace/src/tree/updater_prune.cc:74: tree pruning end, 1 roots, 38682 extra nodes, 0 pruned nodes, max_depth=35\n",
            "[17:42:00] INFO: /workspace/src/tree/updater_prune.cc:74: tree pruning end, 1 roots, 32342 extra nodes, 0 pruned nodes, max_depth=35\n",
            "[17:42:05] INFO: /workspace/src/tree/updater_prune.cc:74: tree pruning end, 1 roots, 15620 extra nodes, 0 pruned nodes, max_depth=35\n",
            "[17:42:11] INFO: /workspace/src/tree/updater_prune.cc:74: tree pruning end, 1 roots, 36396 extra nodes, 0 pruned nodes, max_depth=35\n",
            "[17:42:17] INFO: /workspace/src/tree/updater_prune.cc:74: tree pruning end, 1 roots, 31828 extra nodes, 0 pruned nodes, max_depth=35\n",
            "[17:42:23] INFO: /workspace/src/tree/updater_prune.cc:74: tree pruning end, 1 roots, 15030 extra nodes, 0 pruned nodes, max_depth=35\n",
            "[17:42:29] INFO: /workspace/src/tree/updater_prune.cc:74: tree pruning end, 1 roots, 32536 extra nodes, 0 pruned nodes, max_depth=35\n",
            "[17:42:34] INFO: /workspace/src/tree/updater_prune.cc:74: tree pruning end, 1 roots, 32392 extra nodes, 0 pruned nodes, max_depth=35\n",
            "[17:42:39] INFO: /workspace/src/tree/updater_prune.cc:74: tree pruning end, 1 roots, 14048 extra nodes, 0 pruned nodes, max_depth=35\n",
            "[17:42:45] INFO: /workspace/src/tree/updater_prune.cc:74: tree pruning end, 1 roots, 33548 extra nodes, 0 pruned nodes, max_depth=35\n",
            "[17:42:51] INFO: /workspace/src/tree/updater_prune.cc:74: tree pruning end, 1 roots, 33470 extra nodes, 0 pruned nodes, max_depth=35\n",
            "[17:42:56] INFO: /workspace/src/tree/updater_prune.cc:74: tree pruning end, 1 roots, 14156 extra nodes, 0 pruned nodes, max_depth=35\n",
            "[17:43:02] INFO: /workspace/src/tree/updater_prune.cc:74: tree pruning end, 1 roots, 30798 extra nodes, 0 pruned nodes, max_depth=35\n",
            "[17:43:07] INFO: /workspace/src/tree/updater_prune.cc:74: tree pruning end, 1 roots, 32372 extra nodes, 0 pruned nodes, max_depth=35\n",
            "[17:43:12] INFO: /workspace/src/tree/updater_prune.cc:74: tree pruning end, 1 roots, 13740 extra nodes, 0 pruned nodes, max_depth=35\n",
            "[17:43:18] INFO: /workspace/src/tree/updater_prune.cc:74: tree pruning end, 1 roots, 29778 extra nodes, 0 pruned nodes, max_depth=35\n",
            "[17:43:24] INFO: /workspace/src/tree/updater_prune.cc:74: tree pruning end, 1 roots, 29020 extra nodes, 0 pruned nodes, max_depth=35\n",
            "[17:43:29] INFO: /workspace/src/tree/updater_prune.cc:74: tree pruning end, 1 roots, 13574 extra nodes, 0 pruned nodes, max_depth=35\n",
            "[17:43:35] INFO: /workspace/src/tree/updater_prune.cc:74: tree pruning end, 1 roots, 29856 extra nodes, 0 pruned nodes, max_depth=35\n",
            "[17:43:40] INFO: /workspace/src/tree/updater_prune.cc:74: tree pruning end, 1 roots, 28334 extra nodes, 0 pruned nodes, max_depth=35\n",
            "[17:43:46] INFO: /workspace/src/tree/updater_prune.cc:74: tree pruning end, 1 roots, 13428 extra nodes, 0 pruned nodes, max_depth=35\n",
            "[17:43:51] INFO: /workspace/src/tree/updater_prune.cc:74: tree pruning end, 1 roots, 25820 extra nodes, 0 pruned nodes, max_depth=35\n",
            "[17:43:57] INFO: /workspace/src/tree/updater_prune.cc:74: tree pruning end, 1 roots, 28028 extra nodes, 0 pruned nodes, max_depth=35\n",
            "[17:44:02] INFO: /workspace/src/tree/updater_prune.cc:74: tree pruning end, 1 roots, 13376 extra nodes, 0 pruned nodes, max_depth=35\n",
            "[17:44:08] INFO: /workspace/src/tree/updater_prune.cc:74: tree pruning end, 1 roots, 29624 extra nodes, 0 pruned nodes, max_depth=35\n",
            "[17:44:13] INFO: /workspace/src/tree/updater_prune.cc:74: tree pruning end, 1 roots, 28868 extra nodes, 0 pruned nodes, max_depth=35\n",
            "[17:44:18] INFO: /workspace/src/tree/updater_prune.cc:74: tree pruning end, 1 roots, 13336 extra nodes, 0 pruned nodes, max_depth=35\n",
            "[17:44:23] INFO: /workspace/src/tree/updater_prune.cc:74: tree pruning end, 1 roots, 23734 extra nodes, 0 pruned nodes, max_depth=35\n",
            "[17:44:29] INFO: /workspace/src/tree/updater_prune.cc:74: tree pruning end, 1 roots, 26826 extra nodes, 0 pruned nodes, max_depth=35\n",
            "[17:44:34] INFO: /workspace/src/tree/updater_prune.cc:74: tree pruning end, 1 roots, 12890 extra nodes, 0 pruned nodes, max_depth=35\n",
            "[17:44:41] INFO: /workspace/src/tree/updater_prune.cc:74: tree pruning end, 1 roots, 23864 extra nodes, 0 pruned nodes, max_depth=35\n",
            "[17:44:47] INFO: /workspace/src/tree/updater_prune.cc:74: tree pruning end, 1 roots, 26658 extra nodes, 0 pruned nodes, max_depth=35\n",
            "[17:44:53] INFO: /workspace/src/tree/updater_prune.cc:74: tree pruning end, 1 roots, 13166 extra nodes, 0 pruned nodes, max_depth=35\n",
            "[17:44:59] INFO: /workspace/src/tree/updater_prune.cc:74: tree pruning end, 1 roots, 27718 extra nodes, 0 pruned nodes, max_depth=35\n",
            "[17:45:05] INFO: /workspace/src/tree/updater_prune.cc:74: tree pruning end, 1 roots, 24332 extra nodes, 0 pruned nodes, max_depth=35\n",
            "[17:45:09] INFO: /workspace/src/tree/updater_prune.cc:74: tree pruning end, 1 roots, 13024 extra nodes, 0 pruned nodes, max_depth=35\n",
            "[17:45:15] INFO: /workspace/src/tree/updater_prune.cc:74: tree pruning end, 1 roots, 18508 extra nodes, 0 pruned nodes, max_depth=35\n",
            "[17:45:20] INFO: /workspace/src/tree/updater_prune.cc:74: tree pruning end, 1 roots, 25466 extra nodes, 0 pruned nodes, max_depth=35\n",
            "[17:45:25] INFO: /workspace/src/tree/updater_prune.cc:74: tree pruning end, 1 roots, 12128 extra nodes, 0 pruned nodes, max_depth=35\n",
            "[17:45:30] INFO: /workspace/src/tree/updater_prune.cc:74: tree pruning end, 1 roots, 19054 extra nodes, 0 pruned nodes, max_depth=35\n",
            "[17:45:36] INFO: /workspace/src/tree/updater_prune.cc:74: tree pruning end, 1 roots, 23932 extra nodes, 0 pruned nodes, max_depth=35\n",
            "[17:45:40] INFO: /workspace/src/tree/updater_prune.cc:74: tree pruning end, 1 roots, 12336 extra nodes, 0 pruned nodes, max_depth=35\n",
            "[17:45:46] INFO: /workspace/src/tree/updater_prune.cc:74: tree pruning end, 1 roots, 21640 extra nodes, 0 pruned nodes, max_depth=35\n",
            "[17:45:51] INFO: /workspace/src/tree/updater_prune.cc:74: tree pruning end, 1 roots, 23950 extra nodes, 0 pruned nodes, max_depth=35\n",
            "[17:45:56] INFO: /workspace/src/tree/updater_prune.cc:74: tree pruning end, 1 roots, 12262 extra nodes, 0 pruned nodes, max_depth=35\n",
            "[17:46:01] INFO: /workspace/src/tree/updater_prune.cc:74: tree pruning end, 1 roots, 21800 extra nodes, 0 pruned nodes, max_depth=35\n",
            "[17:46:07] INFO: /workspace/src/tree/updater_prune.cc:74: tree pruning end, 1 roots, 22554 extra nodes, 0 pruned nodes, max_depth=35\n",
            "[17:46:12] INFO: /workspace/src/tree/updater_prune.cc:74: tree pruning end, 1 roots, 11598 extra nodes, 0 pruned nodes, max_depth=35\n",
            "[17:46:17] INFO: /workspace/src/tree/updater_prune.cc:74: tree pruning end, 1 roots, 22040 extra nodes, 0 pruned nodes, max_depth=35\n",
            "[17:46:22] INFO: /workspace/src/tree/updater_prune.cc:74: tree pruning end, 1 roots, 22142 extra nodes, 0 pruned nodes, max_depth=35\n",
            "[17:46:27] INFO: /workspace/src/tree/updater_prune.cc:74: tree pruning end, 1 roots, 11312 extra nodes, 0 pruned nodes, max_depth=35\n",
            "[17:46:32] INFO: /workspace/src/tree/updater_prune.cc:74: tree pruning end, 1 roots, 16610 extra nodes, 0 pruned nodes, max_depth=35\n",
            "[17:46:38] INFO: /workspace/src/tree/updater_prune.cc:74: tree pruning end, 1 roots, 23936 extra nodes, 0 pruned nodes, max_depth=35\n",
            "[17:46:42] INFO: /workspace/src/tree/updater_prune.cc:74: tree pruning end, 1 roots, 11102 extra nodes, 0 pruned nodes, max_depth=35\n",
            "[17:46:48] INFO: /workspace/src/tree/updater_prune.cc:74: tree pruning end, 1 roots, 21784 extra nodes, 0 pruned nodes, max_depth=35\n",
            "[17:46:53] INFO: /workspace/src/tree/updater_prune.cc:74: tree pruning end, 1 roots, 20492 extra nodes, 0 pruned nodes, max_depth=35\n",
            "[17:46:58] INFO: /workspace/src/tree/updater_prune.cc:74: tree pruning end, 1 roots, 11302 extra nodes, 0 pruned nodes, max_depth=35\n",
            "[17:47:03] INFO: /workspace/src/tree/updater_prune.cc:74: tree pruning end, 1 roots, 20020 extra nodes, 0 pruned nodes, max_depth=35\n",
            "[17:47:08] INFO: /workspace/src/tree/updater_prune.cc:74: tree pruning end, 1 roots, 19250 extra nodes, 0 pruned nodes, max_depth=35\n",
            "[17:47:13] INFO: /workspace/src/tree/updater_prune.cc:74: tree pruning end, 1 roots, 10696 extra nodes, 0 pruned nodes, max_depth=35\n",
            "[17:47:18] INFO: /workspace/src/tree/updater_prune.cc:74: tree pruning end, 1 roots, 20076 extra nodes, 0 pruned nodes, max_depth=35\n",
            "[17:47:23] INFO: /workspace/src/tree/updater_prune.cc:74: tree pruning end, 1 roots, 19976 extra nodes, 0 pruned nodes, max_depth=35\n",
            "[17:47:28] INFO: /workspace/src/tree/updater_prune.cc:74: tree pruning end, 1 roots, 11544 extra nodes, 0 pruned nodes, max_depth=35\n",
            "[17:47:34] INFO: /workspace/src/tree/updater_prune.cc:74: tree pruning end, 1 roots, 18548 extra nodes, 0 pruned nodes, max_depth=35\n",
            "[17:47:39] INFO: /workspace/src/tree/updater_prune.cc:74: tree pruning end, 1 roots, 18848 extra nodes, 0 pruned nodes, max_depth=35\n",
            "[17:47:44] INFO: /workspace/src/tree/updater_prune.cc:74: tree pruning end, 1 roots, 10680 extra nodes, 0 pruned nodes, max_depth=35\n",
            "[17:47:49] INFO: /workspace/src/tree/updater_prune.cc:74: tree pruning end, 1 roots, 20256 extra nodes, 0 pruned nodes, max_depth=35\n",
            "[17:47:54] INFO: /workspace/src/tree/updater_prune.cc:74: tree pruning end, 1 roots, 19806 extra nodes, 0 pruned nodes, max_depth=35\n",
            "[17:47:59] INFO: /workspace/src/tree/updater_prune.cc:74: tree pruning end, 1 roots, 10562 extra nodes, 0 pruned nodes, max_depth=35\n",
            "[17:48:04] INFO: /workspace/src/tree/updater_prune.cc:74: tree pruning end, 1 roots, 19698 extra nodes, 0 pruned nodes, max_depth=35\n",
            "[17:48:09] INFO: /workspace/src/tree/updater_prune.cc:74: tree pruning end, 1 roots, 18462 extra nodes, 0 pruned nodes, max_depth=35\n",
            "[17:48:14] INFO: /workspace/src/tree/updater_prune.cc:74: tree pruning end, 1 roots, 11028 extra nodes, 0 pruned nodes, max_depth=35\n",
            "[17:48:19] INFO: /workspace/src/tree/updater_prune.cc:74: tree pruning end, 1 roots, 18960 extra nodes, 0 pruned nodes, max_depth=35\n",
            "[17:48:24] INFO: /workspace/src/tree/updater_prune.cc:74: tree pruning end, 1 roots, 18356 extra nodes, 0 pruned nodes, max_depth=35\n",
            "[17:48:29] INFO: /workspace/src/tree/updater_prune.cc:74: tree pruning end, 1 roots, 10018 extra nodes, 0 pruned nodes, max_depth=35\n",
            "[17:48:34] INFO: /workspace/src/tree/updater_prune.cc:74: tree pruning end, 1 roots, 19818 extra nodes, 0 pruned nodes, max_depth=35\n",
            "[17:48:39] INFO: /workspace/src/tree/updater_prune.cc:74: tree pruning end, 1 roots, 17142 extra nodes, 0 pruned nodes, max_depth=35\n",
            "[17:48:44] INFO: /workspace/src/tree/updater_prune.cc:74: tree pruning end, 1 roots, 9936 extra nodes, 0 pruned nodes, max_depth=35\n",
            "[17:48:49] INFO: /workspace/src/tree/updater_prune.cc:74: tree pruning end, 1 roots, 16582 extra nodes, 0 pruned nodes, max_depth=35\n",
            "[17:48:54] INFO: /workspace/src/tree/updater_prune.cc:74: tree pruning end, 1 roots, 18656 extra nodes, 0 pruned nodes, max_depth=35\n",
            "[17:48:59] INFO: /workspace/src/tree/updater_prune.cc:74: tree pruning end, 1 roots, 10708 extra nodes, 0 pruned nodes, max_depth=35\n",
            "[17:49:04] INFO: /workspace/src/tree/updater_prune.cc:74: tree pruning end, 1 roots, 16014 extra nodes, 0 pruned nodes, max_depth=35\n",
            "[17:49:09] INFO: /workspace/src/tree/updater_prune.cc:74: tree pruning end, 1 roots, 19078 extra nodes, 0 pruned nodes, max_depth=35\n",
            "[17:49:13] INFO: /workspace/src/tree/updater_prune.cc:74: tree pruning end, 1 roots, 9786 extra nodes, 0 pruned nodes, max_depth=35\n",
            "[17:49:18] INFO: /workspace/src/tree/updater_prune.cc:74: tree pruning end, 1 roots, 14972 extra nodes, 0 pruned nodes, max_depth=35\n",
            "[17:49:23] INFO: /workspace/src/tree/updater_prune.cc:74: tree pruning end, 1 roots, 17312 extra nodes, 0 pruned nodes, max_depth=35\n",
            "[17:49:28] INFO: /workspace/src/tree/updater_prune.cc:74: tree pruning end, 1 roots, 10166 extra nodes, 0 pruned nodes, max_depth=35\n",
            "[17:49:33] INFO: /workspace/src/tree/updater_prune.cc:74: tree pruning end, 1 roots, 13934 extra nodes, 0 pruned nodes, max_depth=35\n",
            "[17:49:38] INFO: /workspace/src/tree/updater_prune.cc:74: tree pruning end, 1 roots, 17438 extra nodes, 0 pruned nodes, max_depth=35\n",
            "[17:49:43] INFO: /workspace/src/tree/updater_prune.cc:74: tree pruning end, 1 roots, 9830 extra nodes, 0 pruned nodes, max_depth=35\n",
            "[17:49:48] INFO: /workspace/src/tree/updater_prune.cc:74: tree pruning end, 1 roots, 15930 extra nodes, 0 pruned nodes, max_depth=35\n",
            "[17:49:53] INFO: /workspace/src/tree/updater_prune.cc:74: tree pruning end, 1 roots, 17652 extra nodes, 0 pruned nodes, max_depth=35\n",
            "[17:49:58] INFO: /workspace/src/tree/updater_prune.cc:74: tree pruning end, 1 roots, 9728 extra nodes, 0 pruned nodes, max_depth=35\n",
            "[17:50:03] INFO: /workspace/src/tree/updater_prune.cc:74: tree pruning end, 1 roots, 11430 extra nodes, 0 pruned nodes, max_depth=35\n",
            "[17:50:08] INFO: /workspace/src/tree/updater_prune.cc:74: tree pruning end, 1 roots, 17122 extra nodes, 0 pruned nodes, max_depth=35\n",
            "[17:50:13] INFO: /workspace/src/tree/updater_prune.cc:74: tree pruning end, 1 roots, 10200 extra nodes, 0 pruned nodes, max_depth=35\n",
            "[17:50:19] INFO: /workspace/src/tree/updater_prune.cc:74: tree pruning end, 1 roots, 13568 extra nodes, 0 pruned nodes, max_depth=35\n",
            "[17:50:24] INFO: /workspace/src/tree/updater_prune.cc:74: tree pruning end, 1 roots, 15250 extra nodes, 0 pruned nodes, max_depth=35\n",
            "[17:50:29] INFO: /workspace/src/tree/updater_prune.cc:74: tree pruning end, 1 roots, 9062 extra nodes, 0 pruned nodes, max_depth=35\n",
            "[17:50:33] INFO: /workspace/src/tree/updater_prune.cc:74: tree pruning end, 1 roots, 11186 extra nodes, 0 pruned nodes, max_depth=35\n",
            "[17:50:38] INFO: /workspace/src/tree/updater_prune.cc:74: tree pruning end, 1 roots, 16138 extra nodes, 0 pruned nodes, max_depth=35\n",
            "[17:50:43] INFO: /workspace/src/tree/updater_prune.cc:74: tree pruning end, 1 roots, 9874 extra nodes, 0 pruned nodes, max_depth=35\n",
            "[17:50:48] INFO: /workspace/src/tree/updater_prune.cc:74: tree pruning end, 1 roots, 11860 extra nodes, 0 pruned nodes, max_depth=35\n",
            "[17:50:53] INFO: /workspace/src/tree/updater_prune.cc:74: tree pruning end, 1 roots, 16060 extra nodes, 0 pruned nodes, max_depth=35\n",
            "[17:50:57] INFO: /workspace/src/tree/updater_prune.cc:74: tree pruning end, 1 roots, 9634 extra nodes, 0 pruned nodes, max_depth=35\n",
            "[17:51:02] INFO: /workspace/src/tree/updater_prune.cc:74: tree pruning end, 1 roots, 11422 extra nodes, 0 pruned nodes, max_depth=35\n",
            "[17:51:07] INFO: /workspace/src/tree/updater_prune.cc:74: tree pruning end, 1 roots, 15896 extra nodes, 0 pruned nodes, max_depth=35\n",
            "[17:51:11] INFO: /workspace/src/tree/updater_prune.cc:74: tree pruning end, 1 roots, 9452 extra nodes, 0 pruned nodes, max_depth=35\n",
            "[17:51:16] INFO: /workspace/src/tree/updater_prune.cc:74: tree pruning end, 1 roots, 10560 extra nodes, 0 pruned nodes, max_depth=35\n",
            "[17:51:21] INFO: /workspace/src/tree/updater_prune.cc:74: tree pruning end, 1 roots, 16036 extra nodes, 0 pruned nodes, max_depth=35\n",
            "[17:51:25] INFO: /workspace/src/tree/updater_prune.cc:74: tree pruning end, 1 roots, 8888 extra nodes, 0 pruned nodes, max_depth=35\n",
            "[17:51:30] INFO: /workspace/src/tree/updater_prune.cc:74: tree pruning end, 1 roots, 9864 extra nodes, 0 pruned nodes, max_depth=35\n",
            "[17:51:35] INFO: /workspace/src/tree/updater_prune.cc:74: tree pruning end, 1 roots, 15834 extra nodes, 0 pruned nodes, max_depth=35\n",
            "[17:51:39] INFO: /workspace/src/tree/updater_prune.cc:74: tree pruning end, 1 roots, 8980 extra nodes, 0 pruned nodes, max_depth=35\n",
            "[17:51:44] INFO: /workspace/src/tree/updater_prune.cc:74: tree pruning end, 1 roots, 11694 extra nodes, 0 pruned nodes, max_depth=35\n",
            "[17:51:49] INFO: /workspace/src/tree/updater_prune.cc:74: tree pruning end, 1 roots, 16724 extra nodes, 0 pruned nodes, max_depth=35\n",
            "[17:51:53] INFO: /workspace/src/tree/updater_prune.cc:74: tree pruning end, 1 roots, 9276 extra nodes, 0 pruned nodes, max_depth=35\n",
            "[17:51:58] INFO: /workspace/src/tree/updater_prune.cc:74: tree pruning end, 1 roots, 11554 extra nodes, 0 pruned nodes, max_depth=35\n",
            "[17:52:03] INFO: /workspace/src/tree/updater_prune.cc:74: tree pruning end, 1 roots, 16520 extra nodes, 0 pruned nodes, max_depth=35\n",
            "[17:52:08] INFO: /workspace/src/tree/updater_prune.cc:74: tree pruning end, 1 roots, 8588 extra nodes, 0 pruned nodes, max_depth=35\n",
            "[17:52:12] INFO: /workspace/src/tree/updater_prune.cc:74: tree pruning end, 1 roots, 11278 extra nodes, 0 pruned nodes, max_depth=35\n",
            "[17:52:17] INFO: /workspace/src/tree/updater_prune.cc:74: tree pruning end, 1 roots, 13564 extra nodes, 0 pruned nodes, max_depth=35\n",
            "[17:52:21] INFO: /workspace/src/tree/updater_prune.cc:74: tree pruning end, 1 roots, 8864 extra nodes, 0 pruned nodes, max_depth=35\n",
            "[17:52:26] INFO: /workspace/src/tree/updater_prune.cc:74: tree pruning end, 1 roots, 11462 extra nodes, 0 pruned nodes, max_depth=35\n",
            "[17:52:31] INFO: /workspace/src/tree/updater_prune.cc:74: tree pruning end, 1 roots, 13984 extra nodes, 0 pruned nodes, max_depth=35\n",
            "[17:52:36] INFO: /workspace/src/tree/updater_prune.cc:74: tree pruning end, 1 roots, 8734 extra nodes, 0 pruned nodes, max_depth=35\n",
            "[17:52:42] INFO: /workspace/src/tree/updater_prune.cc:74: tree pruning end, 1 roots, 10332 extra nodes, 0 pruned nodes, max_depth=35\n",
            "[17:52:47] INFO: /workspace/src/tree/updater_prune.cc:74: tree pruning end, 1 roots, 15856 extra nodes, 0 pruned nodes, max_depth=35\n",
            "[17:52:52] INFO: /workspace/src/tree/updater_prune.cc:74: tree pruning end, 1 roots, 8818 extra nodes, 0 pruned nodes, max_depth=35\n",
            "[17:52:56] INFO: /workspace/src/tree/updater_prune.cc:74: tree pruning end, 1 roots, 11050 extra nodes, 0 pruned nodes, max_depth=35\n",
            "[17:53:01] INFO: /workspace/src/tree/updater_prune.cc:74: tree pruning end, 1 roots, 14942 extra nodes, 0 pruned nodes, max_depth=35\n",
            "[17:53:06] INFO: /workspace/src/tree/updater_prune.cc:74: tree pruning end, 1 roots, 8700 extra nodes, 0 pruned nodes, max_depth=35\n",
            "[17:53:10] INFO: /workspace/src/tree/updater_prune.cc:74: tree pruning end, 1 roots, 10130 extra nodes, 0 pruned nodes, max_depth=35\n",
            "[17:53:15] INFO: /workspace/src/tree/updater_prune.cc:74: tree pruning end, 1 roots, 12958 extra nodes, 0 pruned nodes, max_depth=35\n",
            "[17:53:20] INFO: /workspace/src/tree/updater_prune.cc:74: tree pruning end, 1 roots, 8160 extra nodes, 0 pruned nodes, max_depth=35\n",
            "[17:53:25] INFO: /workspace/src/tree/updater_prune.cc:74: tree pruning end, 1 roots, 12664 extra nodes, 0 pruned nodes, max_depth=35\n",
            "[17:53:29] INFO: /workspace/src/tree/updater_prune.cc:74: tree pruning end, 1 roots, 15092 extra nodes, 0 pruned nodes, max_depth=35\n",
            "[17:53:34] INFO: /workspace/src/tree/updater_prune.cc:74: tree pruning end, 1 roots, 8168 extra nodes, 0 pruned nodes, max_depth=35\n",
            "[17:53:38] INFO: /workspace/src/tree/updater_prune.cc:74: tree pruning end, 1 roots, 10986 extra nodes, 0 pruned nodes, max_depth=35\n",
            "[17:53:43] INFO: /workspace/src/tree/updater_prune.cc:74: tree pruning end, 1 roots, 11382 extra nodes, 0 pruned nodes, max_depth=35\n",
            "[17:53:48] INFO: /workspace/src/tree/updater_prune.cc:74: tree pruning end, 1 roots, 7848 extra nodes, 0 pruned nodes, max_depth=35\n",
            "[17:53:52] INFO: /workspace/src/tree/updater_prune.cc:74: tree pruning end, 1 roots, 7976 extra nodes, 0 pruned nodes, max_depth=35\n",
            "[17:53:57] INFO: /workspace/src/tree/updater_prune.cc:74: tree pruning end, 1 roots, 12170 extra nodes, 0 pruned nodes, max_depth=35\n",
            "[17:54:02] INFO: /workspace/src/tree/updater_prune.cc:74: tree pruning end, 1 roots, 7704 extra nodes, 0 pruned nodes, max_depth=35\n",
            "[17:54:06] INFO: /workspace/src/tree/updater_prune.cc:74: tree pruning end, 1 roots, 11568 extra nodes, 0 pruned nodes, max_depth=35\n",
            "[17:54:11] INFO: /workspace/src/tree/updater_prune.cc:74: tree pruning end, 1 roots, 6822 extra nodes, 0 pruned nodes, max_depth=35\n",
            "[17:54:16] INFO: /workspace/src/tree/updater_prune.cc:74: tree pruning end, 1 roots, 7844 extra nodes, 0 pruned nodes, max_depth=35\n",
            "[17:54:21] INFO: /workspace/src/tree/updater_prune.cc:74: tree pruning end, 1 roots, 11850 extra nodes, 0 pruned nodes, max_depth=35\n",
            "[17:54:26] INFO: /workspace/src/tree/updater_prune.cc:74: tree pruning end, 1 roots, 13032 extra nodes, 0 pruned nodes, max_depth=35\n",
            "[17:54:31] INFO: /workspace/src/tree/updater_prune.cc:74: tree pruning end, 1 roots, 7782 extra nodes, 0 pruned nodes, max_depth=35\n",
            "[17:54:35] INFO: /workspace/src/tree/updater_prune.cc:74: tree pruning end, 1 roots, 12196 extra nodes, 0 pruned nodes, max_depth=35\n",
            "[17:54:40] INFO: /workspace/src/tree/updater_prune.cc:74: tree pruning end, 1 roots, 14066 extra nodes, 0 pruned nodes, max_depth=35\n",
            "[17:54:45] INFO: /workspace/src/tree/updater_prune.cc:74: tree pruning end, 1 roots, 7550 extra nodes, 0 pruned nodes, max_depth=35\n",
            "[17:54:49] INFO: /workspace/src/tree/updater_prune.cc:74: tree pruning end, 1 roots, 8208 extra nodes, 0 pruned nodes, max_depth=35\n",
            "[17:54:54] INFO: /workspace/src/tree/updater_prune.cc:74: tree pruning end, 1 roots, 12772 extra nodes, 0 pruned nodes, max_depth=35\n",
            "[17:54:59] INFO: /workspace/src/tree/updater_prune.cc:74: tree pruning end, 1 roots, 6904 extra nodes, 0 pruned nodes, max_depth=35\n",
            "[17:55:03] INFO: /workspace/src/tree/updater_prune.cc:74: tree pruning end, 1 roots, 12044 extra nodes, 0 pruned nodes, max_depth=35\n",
            "[17:55:08] INFO: /workspace/src/tree/updater_prune.cc:74: tree pruning end, 1 roots, 14652 extra nodes, 0 pruned nodes, max_depth=35\n",
            "[17:55:13] INFO: /workspace/src/tree/updater_prune.cc:74: tree pruning end, 1 roots, 7578 extra nodes, 0 pruned nodes, max_depth=35\n",
            "[17:55:17] INFO: /workspace/src/tree/updater_prune.cc:74: tree pruning end, 1 roots, 7676 extra nodes, 0 pruned nodes, max_depth=35\n",
            "[17:55:22] INFO: /workspace/src/tree/updater_prune.cc:74: tree pruning end, 1 roots, 11660 extra nodes, 0 pruned nodes, max_depth=35\n",
            "[17:55:28] INFO: /workspace/src/tree/updater_prune.cc:74: tree pruning end, 1 roots, 6740 extra nodes, 0 pruned nodes, max_depth=35\n",
            "[17:55:33] INFO: /workspace/src/tree/updater_prune.cc:74: tree pruning end, 1 roots, 13620 extra nodes, 0 pruned nodes, max_depth=35\n",
            "[17:55:38] INFO: /workspace/src/tree/updater_prune.cc:74: tree pruning end, 1 roots, 12632 extra nodes, 0 pruned nodes, max_depth=35\n",
            "[17:55:43] INFO: /workspace/src/tree/updater_prune.cc:74: tree pruning end, 1 roots, 7624 extra nodes, 0 pruned nodes, max_depth=35\n",
            "[17:55:48] INFO: /workspace/src/tree/updater_prune.cc:74: tree pruning end, 1 roots, 8888 extra nodes, 0 pruned nodes, max_depth=35\n",
            "[17:55:52] INFO: /workspace/src/tree/updater_prune.cc:74: tree pruning end, 1 roots, 12364 extra nodes, 0 pruned nodes, max_depth=35\n",
            "[17:55:57] INFO: /workspace/src/tree/updater_prune.cc:74: tree pruning end, 1 roots, 7302 extra nodes, 0 pruned nodes, max_depth=35\n",
            "[17:56:02] INFO: /workspace/src/tree/updater_prune.cc:74: tree pruning end, 1 roots, 9306 extra nodes, 0 pruned nodes, max_depth=35\n",
            "[17:56:07] INFO: /workspace/src/tree/updater_prune.cc:74: tree pruning end, 1 roots, 10020 extra nodes, 0 pruned nodes, max_depth=35\n",
            "[17:56:11] INFO: /workspace/src/tree/updater_prune.cc:74: tree pruning end, 1 roots, 7490 extra nodes, 0 pruned nodes, max_depth=35\n",
            "[17:56:15] INFO: /workspace/src/tree/updater_prune.cc:74: tree pruning end, 1 roots, 4904 extra nodes, 0 pruned nodes, max_depth=35\n",
            "[17:56:20] INFO: /workspace/src/tree/updater_prune.cc:74: tree pruning end, 1 roots, 10396 extra nodes, 0 pruned nodes, max_depth=35\n",
            "[17:56:25] INFO: /workspace/src/tree/updater_prune.cc:74: tree pruning end, 1 roots, 7244 extra nodes, 0 pruned nodes, max_depth=35\n",
            "[17:56:29] INFO: /workspace/src/tree/updater_prune.cc:74: tree pruning end, 1 roots, 12844 extra nodes, 0 pruned nodes, max_depth=35\n",
            "[17:56:34] INFO: /workspace/src/tree/updater_prune.cc:74: tree pruning end, 1 roots, 9476 extra nodes, 0 pruned nodes, max_depth=35\n",
            "[17:56:39] INFO: /workspace/src/tree/updater_prune.cc:74: tree pruning end, 1 roots, 7452 extra nodes, 0 pruned nodes, max_depth=35\n",
            "[17:56:44] INFO: /workspace/src/tree/updater_prune.cc:74: tree pruning end, 1 roots, 11698 extra nodes, 0 pruned nodes, max_depth=35\n",
            "[17:56:48] INFO: /workspace/src/tree/updater_prune.cc:74: tree pruning end, 1 roots, 11652 extra nodes, 0 pruned nodes, max_depth=35\n",
            "[17:56:53] INFO: /workspace/src/tree/updater_prune.cc:74: tree pruning end, 1 roots, 7114 extra nodes, 0 pruned nodes, max_depth=35\n",
            "[17:56:58] INFO: /workspace/src/tree/updater_prune.cc:74: tree pruning end, 1 roots, 9204 extra nodes, 0 pruned nodes, max_depth=35\n",
            "[17:57:03] INFO: /workspace/src/tree/updater_prune.cc:74: tree pruning end, 1 roots, 11294 extra nodes, 0 pruned nodes, max_depth=35\n",
            "[17:57:07] INFO: /workspace/src/tree/updater_prune.cc:74: tree pruning end, 1 roots, 7048 extra nodes, 0 pruned nodes, max_depth=35\n",
            "[17:57:12] INFO: /workspace/src/tree/updater_prune.cc:74: tree pruning end, 1 roots, 9496 extra nodes, 0 pruned nodes, max_depth=35\n",
            "[17:57:17] INFO: /workspace/src/tree/updater_prune.cc:74: tree pruning end, 1 roots, 13708 extra nodes, 0 pruned nodes, max_depth=35\n",
            "[17:57:21] INFO: /workspace/src/tree/updater_prune.cc:74: tree pruning end, 1 roots, 6578 extra nodes, 0 pruned nodes, max_depth=35\n",
            "[17:57:26] INFO: /workspace/src/tree/updater_prune.cc:74: tree pruning end, 1 roots, 16268 extra nodes, 0 pruned nodes, max_depth=35\n",
            "[17:57:31] INFO: /workspace/src/tree/updater_prune.cc:74: tree pruning end, 1 roots, 14784 extra nodes, 0 pruned nodes, max_depth=35\n",
            "[17:57:36] INFO: /workspace/src/tree/updater_prune.cc:74: tree pruning end, 1 roots, 7092 extra nodes, 0 pruned nodes, max_depth=35\n",
            "[17:57:40] INFO: /workspace/src/tree/updater_prune.cc:74: tree pruning end, 1 roots, 13022 extra nodes, 0 pruned nodes, max_depth=35\n",
            "[17:57:45] INFO: /workspace/src/tree/updater_prune.cc:74: tree pruning end, 1 roots, 12888 extra nodes, 0 pruned nodes, max_depth=35\n",
            "[17:57:50] INFO: /workspace/src/tree/updater_prune.cc:74: tree pruning end, 1 roots, 6948 extra nodes, 0 pruned nodes, max_depth=35\n",
            "[17:57:55] INFO: /workspace/src/tree/updater_prune.cc:74: tree pruning end, 1 roots, 13238 extra nodes, 0 pruned nodes, max_depth=35\n",
            "[17:58:00] INFO: /workspace/src/tree/updater_prune.cc:74: tree pruning end, 1 roots, 12742 extra nodes, 0 pruned nodes, max_depth=35\n",
            "[17:58:04] INFO: /workspace/src/tree/updater_prune.cc:74: tree pruning end, 1 roots, 6556 extra nodes, 0 pruned nodes, max_depth=35\n",
            "[17:58:09] INFO: /workspace/src/tree/updater_prune.cc:74: tree pruning end, 1 roots, 8466 extra nodes, 0 pruned nodes, max_depth=35\n",
            "[17:58:14] INFO: /workspace/src/tree/updater_prune.cc:74: tree pruning end, 1 roots, 10716 extra nodes, 0 pruned nodes, max_depth=35\n",
            "[17:58:18] INFO: /workspace/src/tree/updater_prune.cc:74: tree pruning end, 1 roots, 6638 extra nodes, 0 pruned nodes, max_depth=35\n",
            "[17:58:23] INFO: /workspace/src/tree/updater_prune.cc:74: tree pruning end, 1 roots, 8890 extra nodes, 0 pruned nodes, max_depth=35\n",
            "[17:58:27] INFO: /workspace/src/tree/updater_prune.cc:74: tree pruning end, 1 roots, 6902 extra nodes, 0 pruned nodes, max_depth=35\n",
            "Fit End--\n"
          ],
          "name": "stdout"
        }
      ]
    },
    {
      "cell_type": "code",
      "metadata": {
        "colab": {
          "base_uri": "https://localhost:8080/"
        },
        "id": "ifZAM9pcnMKA",
        "outputId": "ed42f257-fd5f-4c6a-ebe3-96eaeea9f0e6"
      },
      "source": [
        "y_pred=knn_inliers.predict(DtX)\n",
        "print(\"Prediction End--\")"
      ],
      "execution_count": 134,
      "outputs": [
        {
          "output_type": "stream",
          "text": [
            "Prediction End--\n"
          ],
          "name": "stdout"
        }
      ]
    },
    {
      "cell_type": "code",
      "metadata": {
        "colab": {
          "base_uri": "https://localhost:8080/"
        },
        "id": "X-Nzj3gInc5p",
        "outputId": "d7a03003-0c27-4a06-ce50-20cf694ceca4"
      },
      "source": [
        "# Inlier statistics\n",
        "from sklearn.metrics import accuracy_score\n",
        "accuracy =  accuracy_score(y_test, y_pred) * 100\n",
        "print(f\"Accuracy a testhalmazra nézve: {accuracy}\")\n",
        "y_pred2=knn.predict(dX1)\n",
        "accuracy =  accuracy_score(y_pred2, y_train_inliers) * 100\n",
        "print(f\"Accuracy a betanított halmazra : {accuracy}\")\n",
        "\n"
      ],
      "execution_count": 149,
      "outputs": [
        {
          "output_type": "stream",
          "text": [
            "Accuracy a testhalmazra nézve: 71.6522139513468\n",
            "Accuracy a betanított halmazra : 99.99102779023919\n"
          ],
          "name": "stdout"
        }
      ]
    },
    {
      "cell_type": "code",
      "metadata": {
        "id": "mFm0B_zrIzo2"
      },
      "source": [
        "dX1_ol=pd.DataFrame (X_train_outliers)\n",
        "dY1_ol=pd.DataFrame (y_train_outliers)\n",
        "DtX=pd.DataFrame(X_test)"
      ],
      "execution_count": 150,
      "outputs": []
    },
    {
      "cell_type": "code",
      "metadata": {
        "id": "yQnY70jTrX31"
      },
      "source": [
        "# készítsünk modell az outlierekre is\n",
        "# KNN outlier modell\n",
        "\n",
        "from xgboost import XGBClassifier  \n",
        "knn_outlier = XGBClassifier(verbosity=3,max_depth = 35)"
      ],
      "execution_count": 153,
      "outputs": []
    },
    {
      "cell_type": "code",
      "metadata": {
        "colab": {
          "base_uri": "https://localhost:8080/"
        },
        "id": "WqBZVsj5Ihxz",
        "outputId": "d16774ee-933c-4811-90aa-299a64f2454e"
      },
      "source": [
        "print(\"Fit Start--\")\n",
        "knn_outlier.fit(dX1_ol, dY1_ol)\n",
        "print(\"Fit End--\")"
      ],
      "execution_count": 154,
      "outputs": [
        {
          "output_type": "stream",
          "text": [
            "Fit Start--\n"
          ],
          "name": "stdout"
        },
        {
          "output_type": "stream",
          "text": [
            "/usr/local/lib/python3.6/dist-packages/sklearn/preprocessing/_label.py:235: DataConversionWarning: A column-vector y was passed when a 1d array was expected. Please change the shape of y to (n_samples, ), for example using ravel().\n",
            "  y = column_or_1d(y, warn=True)\n",
            "/usr/local/lib/python3.6/dist-packages/sklearn/preprocessing/_label.py:268: DataConversionWarning: A column-vector y was passed when a 1d array was expected. Please change the shape of y to (n_samples, ), for example using ravel().\n",
            "  y = column_or_1d(y, warn=True)\n"
          ],
          "name": "stderr"
        },
        {
          "output_type": "stream",
          "text": [
            "[19:07:28] INFO: /workspace/src/tree/updater_prune.cc:74: tree pruning end, 1 roots, 3164 extra nodes, 0 pruned nodes, max_depth=31\n",
            "[19:07:29] INFO: /workspace/src/tree/updater_prune.cc:74: tree pruning end, 1 roots, 8710 extra nodes, 0 pruned nodes, max_depth=35\n",
            "[19:07:29] INFO: /workspace/src/tree/updater_prune.cc:74: tree pruning end, 1 roots, 8116 extra nodes, 0 pruned nodes, max_depth=34\n",
            "[19:07:30] INFO: /workspace/src/tree/updater_prune.cc:74: tree pruning end, 1 roots, 3194 extra nodes, 0 pruned nodes, max_depth=26\n",
            "[19:07:31] INFO: /workspace/src/tree/updater_prune.cc:74: tree pruning end, 1 roots, 8954 extra nodes, 0 pruned nodes, max_depth=35\n",
            "[19:07:31] INFO: /workspace/src/tree/updater_prune.cc:74: tree pruning end, 1 roots, 8284 extra nodes, 0 pruned nodes, max_depth=35\n",
            "[19:07:32] INFO: /workspace/src/tree/updater_prune.cc:74: tree pruning end, 1 roots, 3232 extra nodes, 0 pruned nodes, max_depth=29\n",
            "[19:07:33] INFO: /workspace/src/tree/updater_prune.cc:74: tree pruning end, 1 roots, 9280 extra nodes, 0 pruned nodes, max_depth=35\n",
            "[19:07:33] INFO: /workspace/src/tree/updater_prune.cc:74: tree pruning end, 1 roots, 8488 extra nodes, 0 pruned nodes, max_depth=35\n",
            "[19:07:34] INFO: /workspace/src/tree/updater_prune.cc:74: tree pruning end, 1 roots, 3358 extra nodes, 0 pruned nodes, max_depth=32\n",
            "[19:07:35] INFO: /workspace/src/tree/updater_prune.cc:74: tree pruning end, 1 roots, 9638 extra nodes, 0 pruned nodes, max_depth=35\n",
            "[19:07:35] INFO: /workspace/src/tree/updater_prune.cc:74: tree pruning end, 1 roots, 8572 extra nodes, 0 pruned nodes, max_depth=35\n",
            "[19:07:36] INFO: /workspace/src/tree/updater_prune.cc:74: tree pruning end, 1 roots, 3422 extra nodes, 0 pruned nodes, max_depth=29\n",
            "[19:07:37] INFO: /workspace/src/tree/updater_prune.cc:74: tree pruning end, 1 roots, 9876 extra nodes, 0 pruned nodes, max_depth=35\n",
            "[19:07:37] INFO: /workspace/src/tree/updater_prune.cc:74: tree pruning end, 1 roots, 8658 extra nodes, 0 pruned nodes, max_depth=35\n",
            "[19:07:38] INFO: /workspace/src/tree/updater_prune.cc:74: tree pruning end, 1 roots, 3532 extra nodes, 0 pruned nodes, max_depth=34\n",
            "[19:07:39] INFO: /workspace/src/tree/updater_prune.cc:74: tree pruning end, 1 roots, 9968 extra nodes, 0 pruned nodes, max_depth=35\n",
            "[19:07:39] INFO: /workspace/src/tree/updater_prune.cc:74: tree pruning end, 1 roots, 8634 extra nodes, 0 pruned nodes, max_depth=35\n",
            "[19:07:40] INFO: /workspace/src/tree/updater_prune.cc:74: tree pruning end, 1 roots, 3534 extra nodes, 0 pruned nodes, max_depth=34\n",
            "[19:07:41] INFO: /workspace/src/tree/updater_prune.cc:74: tree pruning end, 1 roots, 10034 extra nodes, 0 pruned nodes, max_depth=35\n",
            "[19:07:41] INFO: /workspace/src/tree/updater_prune.cc:74: tree pruning end, 1 roots, 8764 extra nodes, 0 pruned nodes, max_depth=35\n",
            "[19:07:42] INFO: /workspace/src/tree/updater_prune.cc:74: tree pruning end, 1 roots, 3558 extra nodes, 0 pruned nodes, max_depth=31\n",
            "[19:07:43] INFO: /workspace/src/tree/updater_prune.cc:74: tree pruning end, 1 roots, 10376 extra nodes, 0 pruned nodes, max_depth=35\n",
            "[19:07:43] INFO: /workspace/src/tree/updater_prune.cc:74: tree pruning end, 1 roots, 8786 extra nodes, 0 pruned nodes, max_depth=35\n",
            "[19:07:44] INFO: /workspace/src/tree/updater_prune.cc:74: tree pruning end, 1 roots, 3540 extra nodes, 0 pruned nodes, max_depth=28\n",
            "[19:07:45] INFO: /workspace/src/tree/updater_prune.cc:74: tree pruning end, 1 roots, 10462 extra nodes, 0 pruned nodes, max_depth=35\n",
            "[19:07:45] INFO: /workspace/src/tree/updater_prune.cc:74: tree pruning end, 1 roots, 8932 extra nodes, 0 pruned nodes, max_depth=35\n",
            "[19:07:46] INFO: /workspace/src/tree/updater_prune.cc:74: tree pruning end, 1 roots, 3596 extra nodes, 0 pruned nodes, max_depth=34\n",
            "[19:07:47] INFO: /workspace/src/tree/updater_prune.cc:74: tree pruning end, 1 roots, 10654 extra nodes, 0 pruned nodes, max_depth=35\n",
            "[19:07:47] INFO: /workspace/src/tree/updater_prune.cc:74: tree pruning end, 1 roots, 9026 extra nodes, 0 pruned nodes, max_depth=35\n",
            "[19:07:48] INFO: /workspace/src/tree/updater_prune.cc:74: tree pruning end, 1 roots, 3614 extra nodes, 0 pruned nodes, max_depth=25\n",
            "[19:07:49] INFO: /workspace/src/tree/updater_prune.cc:74: tree pruning end, 1 roots, 10462 extra nodes, 0 pruned nodes, max_depth=35\n",
            "[19:07:49] INFO: /workspace/src/tree/updater_prune.cc:74: tree pruning end, 1 roots, 8978 extra nodes, 0 pruned nodes, max_depth=35\n",
            "[19:07:50] INFO: /workspace/src/tree/updater_prune.cc:74: tree pruning end, 1 roots, 3674 extra nodes, 0 pruned nodes, max_depth=26\n",
            "[19:07:51] INFO: /workspace/src/tree/updater_prune.cc:74: tree pruning end, 1 roots, 10648 extra nodes, 0 pruned nodes, max_depth=35\n",
            "[19:07:51] INFO: /workspace/src/tree/updater_prune.cc:74: tree pruning end, 1 roots, 8796 extra nodes, 0 pruned nodes, max_depth=35\n",
            "[19:07:52] INFO: /workspace/src/tree/updater_prune.cc:74: tree pruning end, 1 roots, 3690 extra nodes, 0 pruned nodes, max_depth=26\n",
            "[19:07:53] INFO: /workspace/src/tree/updater_prune.cc:74: tree pruning end, 1 roots, 10728 extra nodes, 0 pruned nodes, max_depth=35\n",
            "[19:07:53] INFO: /workspace/src/tree/updater_prune.cc:74: tree pruning end, 1 roots, 8932 extra nodes, 0 pruned nodes, max_depth=35\n",
            "[19:07:54] INFO: /workspace/src/tree/updater_prune.cc:74: tree pruning end, 1 roots, 3688 extra nodes, 0 pruned nodes, max_depth=29\n",
            "[19:07:55] INFO: /workspace/src/tree/updater_prune.cc:74: tree pruning end, 1 roots, 10894 extra nodes, 0 pruned nodes, max_depth=35\n",
            "[19:07:56] INFO: /workspace/src/tree/updater_prune.cc:74: tree pruning end, 1 roots, 8846 extra nodes, 0 pruned nodes, max_depth=35\n",
            "[19:07:56] INFO: /workspace/src/tree/updater_prune.cc:74: tree pruning end, 1 roots, 3710 extra nodes, 0 pruned nodes, max_depth=28\n",
            "[19:07:57] INFO: /workspace/src/tree/updater_prune.cc:74: tree pruning end, 1 roots, 10670 extra nodes, 0 pruned nodes, max_depth=35\n",
            "[19:07:58] INFO: /workspace/src/tree/updater_prune.cc:74: tree pruning end, 1 roots, 8836 extra nodes, 0 pruned nodes, max_depth=35\n",
            "[19:07:58] INFO: /workspace/src/tree/updater_prune.cc:74: tree pruning end, 1 roots, 3784 extra nodes, 0 pruned nodes, max_depth=28\n",
            "[19:07:59] INFO: /workspace/src/tree/updater_prune.cc:74: tree pruning end, 1 roots, 10440 extra nodes, 0 pruned nodes, max_depth=35\n",
            "[19:08:00] INFO: /workspace/src/tree/updater_prune.cc:74: tree pruning end, 1 roots, 8768 extra nodes, 0 pruned nodes, max_depth=35\n",
            "[19:08:00] INFO: /workspace/src/tree/updater_prune.cc:74: tree pruning end, 1 roots, 3744 extra nodes, 0 pruned nodes, max_depth=28\n",
            "[19:08:01] INFO: /workspace/src/tree/updater_prune.cc:74: tree pruning end, 1 roots, 10494 extra nodes, 0 pruned nodes, max_depth=35\n",
            "[19:08:02] INFO: /workspace/src/tree/updater_prune.cc:74: tree pruning end, 1 roots, 8580 extra nodes, 0 pruned nodes, max_depth=35\n",
            "[19:08:02] INFO: /workspace/src/tree/updater_prune.cc:74: tree pruning end, 1 roots, 3660 extra nodes, 0 pruned nodes, max_depth=29\n",
            "[19:08:03] INFO: /workspace/src/tree/updater_prune.cc:74: tree pruning end, 1 roots, 10438 extra nodes, 0 pruned nodes, max_depth=35\n",
            "[19:08:04] INFO: /workspace/src/tree/updater_prune.cc:74: tree pruning end, 1 roots, 8430 extra nodes, 0 pruned nodes, max_depth=35\n",
            "[19:08:04] INFO: /workspace/src/tree/updater_prune.cc:74: tree pruning end, 1 roots, 3584 extra nodes, 0 pruned nodes, max_depth=29\n",
            "[19:08:05] INFO: /workspace/src/tree/updater_prune.cc:74: tree pruning end, 1 roots, 10314 extra nodes, 0 pruned nodes, max_depth=35\n",
            "[19:08:06] INFO: /workspace/src/tree/updater_prune.cc:74: tree pruning end, 1 roots, 8450 extra nodes, 0 pruned nodes, max_depth=35\n",
            "[19:08:06] INFO: /workspace/src/tree/updater_prune.cc:74: tree pruning end, 1 roots, 3556 extra nodes, 0 pruned nodes, max_depth=33\n",
            "[19:08:07] INFO: /workspace/src/tree/updater_prune.cc:74: tree pruning end, 1 roots, 10486 extra nodes, 0 pruned nodes, max_depth=35\n",
            "[19:08:08] INFO: /workspace/src/tree/updater_prune.cc:74: tree pruning end, 1 roots, 8278 extra nodes, 0 pruned nodes, max_depth=35\n",
            "[19:08:08] INFO: /workspace/src/tree/updater_prune.cc:74: tree pruning end, 1 roots, 3510 extra nodes, 0 pruned nodes, max_depth=28\n",
            "[19:08:09] INFO: /workspace/src/tree/updater_prune.cc:74: tree pruning end, 1 roots, 9970 extra nodes, 0 pruned nodes, max_depth=35\n",
            "[19:08:10] INFO: /workspace/src/tree/updater_prune.cc:74: tree pruning end, 1 roots, 8198 extra nodes, 0 pruned nodes, max_depth=35\n",
            "[19:08:10] INFO: /workspace/src/tree/updater_prune.cc:74: tree pruning end, 1 roots, 3362 extra nodes, 0 pruned nodes, max_depth=25\n",
            "[19:08:11] INFO: /workspace/src/tree/updater_prune.cc:74: tree pruning end, 1 roots, 9864 extra nodes, 0 pruned nodes, max_depth=35\n",
            "[19:08:12] INFO: /workspace/src/tree/updater_prune.cc:74: tree pruning end, 1 roots, 8060 extra nodes, 0 pruned nodes, max_depth=35\n",
            "[19:08:13] INFO: /workspace/src/tree/updater_prune.cc:74: tree pruning end, 1 roots, 3374 extra nodes, 0 pruned nodes, max_depth=28\n",
            "[19:08:13] INFO: /workspace/src/tree/updater_prune.cc:74: tree pruning end, 1 roots, 9576 extra nodes, 0 pruned nodes, max_depth=35\n",
            "[19:08:14] INFO: /workspace/src/tree/updater_prune.cc:74: tree pruning end, 1 roots, 7912 extra nodes, 0 pruned nodes, max_depth=35\n",
            "[19:08:15] INFO: /workspace/src/tree/updater_prune.cc:74: tree pruning end, 1 roots, 3274 extra nodes, 0 pruned nodes, max_depth=31\n",
            "[19:08:15] INFO: /workspace/src/tree/updater_prune.cc:74: tree pruning end, 1 roots, 9358 extra nodes, 0 pruned nodes, max_depth=35\n",
            "[19:08:16] INFO: /workspace/src/tree/updater_prune.cc:74: tree pruning end, 1 roots, 7880 extra nodes, 0 pruned nodes, max_depth=35\n",
            "[19:08:17] INFO: /workspace/src/tree/updater_prune.cc:74: tree pruning end, 1 roots, 3294 extra nodes, 0 pruned nodes, max_depth=28\n",
            "[19:08:17] INFO: /workspace/src/tree/updater_prune.cc:74: tree pruning end, 1 roots, 9134 extra nodes, 0 pruned nodes, max_depth=35\n",
            "[19:08:18] INFO: /workspace/src/tree/updater_prune.cc:74: tree pruning end, 1 roots, 7626 extra nodes, 0 pruned nodes, max_depth=35\n",
            "[19:08:19] INFO: /workspace/src/tree/updater_prune.cc:74: tree pruning end, 1 roots, 3232 extra nodes, 0 pruned nodes, max_depth=31\n",
            "[19:08:19] INFO: /workspace/src/tree/updater_prune.cc:74: tree pruning end, 1 roots, 9240 extra nodes, 0 pruned nodes, max_depth=35\n",
            "[19:08:20] INFO: /workspace/src/tree/updater_prune.cc:74: tree pruning end, 1 roots, 7218 extra nodes, 0 pruned nodes, max_depth=35\n",
            "[19:08:21] INFO: /workspace/src/tree/updater_prune.cc:74: tree pruning end, 1 roots, 3146 extra nodes, 0 pruned nodes, max_depth=28\n",
            "[19:08:21] INFO: /workspace/src/tree/updater_prune.cc:74: tree pruning end, 1 roots, 9122 extra nodes, 0 pruned nodes, max_depth=35\n",
            "[19:08:22] INFO: /workspace/src/tree/updater_prune.cc:74: tree pruning end, 1 roots, 7310 extra nodes, 0 pruned nodes, max_depth=35\n",
            "[19:08:23] INFO: /workspace/src/tree/updater_prune.cc:74: tree pruning end, 1 roots, 3044 extra nodes, 0 pruned nodes, max_depth=31\n",
            "[19:08:24] INFO: /workspace/src/tree/updater_prune.cc:74: tree pruning end, 1 roots, 8898 extra nodes, 0 pruned nodes, max_depth=35\n",
            "[19:08:24] INFO: /workspace/src/tree/updater_prune.cc:74: tree pruning end, 1 roots, 6982 extra nodes, 0 pruned nodes, max_depth=35\n",
            "[19:08:25] INFO: /workspace/src/tree/updater_prune.cc:74: tree pruning end, 1 roots, 3094 extra nodes, 0 pruned nodes, max_depth=29\n",
            "[19:08:26] INFO: /workspace/src/tree/updater_prune.cc:74: tree pruning end, 1 roots, 8614 extra nodes, 0 pruned nodes, max_depth=35\n",
            "[19:08:26] INFO: /workspace/src/tree/updater_prune.cc:74: tree pruning end, 1 roots, 6948 extra nodes, 0 pruned nodes, max_depth=35\n",
            "[19:08:27] INFO: /workspace/src/tree/updater_prune.cc:74: tree pruning end, 1 roots, 3040 extra nodes, 0 pruned nodes, max_depth=33\n",
            "[19:08:28] INFO: /workspace/src/tree/updater_prune.cc:74: tree pruning end, 1 roots, 8658 extra nodes, 0 pruned nodes, max_depth=35\n",
            "[19:08:28] INFO: /workspace/src/tree/updater_prune.cc:74: tree pruning end, 1 roots, 6702 extra nodes, 0 pruned nodes, max_depth=35\n",
            "[19:08:29] INFO: /workspace/src/tree/updater_prune.cc:74: tree pruning end, 1 roots, 2990 extra nodes, 0 pruned nodes, max_depth=26\n",
            "[19:08:30] INFO: /workspace/src/tree/updater_prune.cc:74: tree pruning end, 1 roots, 8292 extra nodes, 0 pruned nodes, max_depth=35\n",
            "[19:08:30] INFO: /workspace/src/tree/updater_prune.cc:74: tree pruning end, 1 roots, 6592 extra nodes, 0 pruned nodes, max_depth=35\n",
            "[19:08:31] INFO: /workspace/src/tree/updater_prune.cc:74: tree pruning end, 1 roots, 2962 extra nodes, 0 pruned nodes, max_depth=33\n",
            "[19:08:32] INFO: /workspace/src/tree/updater_prune.cc:74: tree pruning end, 1 roots, 7886 extra nodes, 0 pruned nodes, max_depth=35\n",
            "[19:08:32] INFO: /workspace/src/tree/updater_prune.cc:74: tree pruning end, 1 roots, 6610 extra nodes, 0 pruned nodes, max_depth=35\n",
            "[19:08:33] INFO: /workspace/src/tree/updater_prune.cc:74: tree pruning end, 1 roots, 2846 extra nodes, 0 pruned nodes, max_depth=30\n",
            "[19:08:34] INFO: /workspace/src/tree/updater_prune.cc:74: tree pruning end, 1 roots, 7708 extra nodes, 0 pruned nodes, max_depth=35\n",
            "[19:08:34] INFO: /workspace/src/tree/updater_prune.cc:74: tree pruning end, 1 roots, 6482 extra nodes, 0 pruned nodes, max_depth=35\n",
            "[19:08:35] INFO: /workspace/src/tree/updater_prune.cc:74: tree pruning end, 1 roots, 2828 extra nodes, 0 pruned nodes, max_depth=31\n",
            "[19:08:36] INFO: /workspace/src/tree/updater_prune.cc:74: tree pruning end, 1 roots, 7092 extra nodes, 0 pruned nodes, max_depth=35\n",
            "[19:08:36] INFO: /workspace/src/tree/updater_prune.cc:74: tree pruning end, 1 roots, 6314 extra nodes, 0 pruned nodes, max_depth=35\n",
            "[19:08:37] INFO: /workspace/src/tree/updater_prune.cc:74: tree pruning end, 1 roots, 2778 extra nodes, 0 pruned nodes, max_depth=28\n",
            "[19:08:38] INFO: /workspace/src/tree/updater_prune.cc:74: tree pruning end, 1 roots, 6932 extra nodes, 0 pruned nodes, max_depth=35\n",
            "[19:08:38] INFO: /workspace/src/tree/updater_prune.cc:74: tree pruning end, 1 roots, 6080 extra nodes, 0 pruned nodes, max_depth=35\n",
            "[19:08:39] INFO: /workspace/src/tree/updater_prune.cc:74: tree pruning end, 1 roots, 2730 extra nodes, 0 pruned nodes, max_depth=28\n",
            "[19:08:40] INFO: /workspace/src/tree/updater_prune.cc:74: tree pruning end, 1 roots, 7260 extra nodes, 0 pruned nodes, max_depth=35\n",
            "[19:08:40] INFO: /workspace/src/tree/updater_prune.cc:74: tree pruning end, 1 roots, 5942 extra nodes, 0 pruned nodes, max_depth=35\n",
            "[19:08:41] INFO: /workspace/src/tree/updater_prune.cc:74: tree pruning end, 1 roots, 2692 extra nodes, 0 pruned nodes, max_depth=31\n",
            "[19:08:42] INFO: /workspace/src/tree/updater_prune.cc:74: tree pruning end, 1 roots, 6416 extra nodes, 0 pruned nodes, max_depth=35\n",
            "[19:08:43] INFO: /workspace/src/tree/updater_prune.cc:74: tree pruning end, 1 roots, 5994 extra nodes, 0 pruned nodes, max_depth=35\n",
            "[19:08:43] INFO: /workspace/src/tree/updater_prune.cc:74: tree pruning end, 1 roots, 2660 extra nodes, 0 pruned nodes, max_depth=31\n",
            "[19:08:44] INFO: /workspace/src/tree/updater_prune.cc:74: tree pruning end, 1 roots, 6278 extra nodes, 0 pruned nodes, max_depth=35\n",
            "[19:08:44] INFO: /workspace/src/tree/updater_prune.cc:74: tree pruning end, 1 roots, 5716 extra nodes, 0 pruned nodes, max_depth=35\n",
            "[19:08:45] INFO: /workspace/src/tree/updater_prune.cc:74: tree pruning end, 1 roots, 2588 extra nodes, 0 pruned nodes, max_depth=31\n",
            "[19:08:46] INFO: /workspace/src/tree/updater_prune.cc:74: tree pruning end, 1 roots, 5934 extra nodes, 0 pruned nodes, max_depth=35\n",
            "[19:08:46] INFO: /workspace/src/tree/updater_prune.cc:74: tree pruning end, 1 roots, 5638 extra nodes, 0 pruned nodes, max_depth=35\n",
            "[19:08:47] INFO: /workspace/src/tree/updater_prune.cc:74: tree pruning end, 1 roots, 2560 extra nodes, 0 pruned nodes, max_depth=30\n",
            "[19:08:48] INFO: /workspace/src/tree/updater_prune.cc:74: tree pruning end, 1 roots, 6852 extra nodes, 0 pruned nodes, max_depth=35\n",
            "[19:08:48] INFO: /workspace/src/tree/updater_prune.cc:74: tree pruning end, 1 roots, 5582 extra nodes, 0 pruned nodes, max_depth=35\n",
            "[19:08:49] INFO: /workspace/src/tree/updater_prune.cc:74: tree pruning end, 1 roots, 2458 extra nodes, 0 pruned nodes, max_depth=32\n",
            "[19:08:50] INFO: /workspace/src/tree/updater_prune.cc:74: tree pruning end, 1 roots, 6252 extra nodes, 0 pruned nodes, max_depth=35\n",
            "[19:08:50] INFO: /workspace/src/tree/updater_prune.cc:74: tree pruning end, 1 roots, 5152 extra nodes, 0 pruned nodes, max_depth=35\n",
            "[19:08:51] INFO: /workspace/src/tree/updater_prune.cc:74: tree pruning end, 1 roots, 2482 extra nodes, 0 pruned nodes, max_depth=30\n",
            "[19:08:52] INFO: /workspace/src/tree/updater_prune.cc:74: tree pruning end, 1 roots, 5802 extra nodes, 0 pruned nodes, max_depth=35\n",
            "[19:08:52] INFO: /workspace/src/tree/updater_prune.cc:74: tree pruning end, 1 roots, 5360 extra nodes, 0 pruned nodes, max_depth=35\n",
            "[19:08:53] INFO: /workspace/src/tree/updater_prune.cc:74: tree pruning end, 1 roots, 2404 extra nodes, 0 pruned nodes, max_depth=34\n",
            "[19:08:54] INFO: /workspace/src/tree/updater_prune.cc:74: tree pruning end, 1 roots, 5544 extra nodes, 0 pruned nodes, max_depth=35\n",
            "[19:08:54] INFO: /workspace/src/tree/updater_prune.cc:74: tree pruning end, 1 roots, 5058 extra nodes, 0 pruned nodes, max_depth=35\n",
            "[19:08:55] INFO: /workspace/src/tree/updater_prune.cc:74: tree pruning end, 1 roots, 2366 extra nodes, 0 pruned nodes, max_depth=28\n",
            "[19:08:56] INFO: /workspace/src/tree/updater_prune.cc:74: tree pruning end, 1 roots, 5720 extra nodes, 0 pruned nodes, max_depth=35\n",
            "[19:08:56] INFO: /workspace/src/tree/updater_prune.cc:74: tree pruning end, 1 roots, 5022 extra nodes, 0 pruned nodes, max_depth=35\n",
            "[19:08:57] INFO: /workspace/src/tree/updater_prune.cc:74: tree pruning end, 1 roots, 2288 extra nodes, 0 pruned nodes, max_depth=34\n",
            "[19:08:58] INFO: /workspace/src/tree/updater_prune.cc:74: tree pruning end, 1 roots, 4902 extra nodes, 0 pruned nodes, max_depth=35\n",
            "[19:08:58] INFO: /workspace/src/tree/updater_prune.cc:74: tree pruning end, 1 roots, 4864 extra nodes, 0 pruned nodes, max_depth=35\n",
            "[19:08:59] INFO: /workspace/src/tree/updater_prune.cc:74: tree pruning end, 1 roots, 2296 extra nodes, 0 pruned nodes, max_depth=28\n",
            "[19:09:00] INFO: /workspace/src/tree/updater_prune.cc:74: tree pruning end, 1 roots, 5020 extra nodes, 0 pruned nodes, max_depth=35\n",
            "[19:09:00] INFO: /workspace/src/tree/updater_prune.cc:74: tree pruning end, 1 roots, 4906 extra nodes, 0 pruned nodes, max_depth=35\n",
            "[19:09:01] INFO: /workspace/src/tree/updater_prune.cc:74: tree pruning end, 1 roots, 2188 extra nodes, 0 pruned nodes, max_depth=31\n",
            "[19:09:02] INFO: /workspace/src/tree/updater_prune.cc:74: tree pruning end, 1 roots, 4710 extra nodes, 0 pruned nodes, max_depth=35\n",
            "[19:09:02] INFO: /workspace/src/tree/updater_prune.cc:74: tree pruning end, 1 roots, 4930 extra nodes, 0 pruned nodes, max_depth=35\n",
            "[19:09:03] INFO: /workspace/src/tree/updater_prune.cc:74: tree pruning end, 1 roots, 2206 extra nodes, 0 pruned nodes, max_depth=35\n",
            "[19:09:04] INFO: /workspace/src/tree/updater_prune.cc:74: tree pruning end, 1 roots, 4118 extra nodes, 0 pruned nodes, max_depth=35\n",
            "[19:09:05] INFO: /workspace/src/tree/updater_prune.cc:74: tree pruning end, 1 roots, 4848 extra nodes, 0 pruned nodes, max_depth=35\n",
            "[19:09:05] INFO: /workspace/src/tree/updater_prune.cc:74: tree pruning end, 1 roots, 2176 extra nodes, 0 pruned nodes, max_depth=35\n",
            "[19:09:06] INFO: /workspace/src/tree/updater_prune.cc:74: tree pruning end, 1 roots, 4762 extra nodes, 0 pruned nodes, max_depth=35\n",
            "[19:09:07] INFO: /workspace/src/tree/updater_prune.cc:74: tree pruning end, 1 roots, 4654 extra nodes, 0 pruned nodes, max_depth=35\n",
            "[19:09:07] INFO: /workspace/src/tree/updater_prune.cc:74: tree pruning end, 1 roots, 2134 extra nodes, 0 pruned nodes, max_depth=28\n",
            "[19:09:08] INFO: /workspace/src/tree/updater_prune.cc:74: tree pruning end, 1 roots, 3864 extra nodes, 0 pruned nodes, max_depth=35\n",
            "[19:09:09] INFO: /workspace/src/tree/updater_prune.cc:74: tree pruning end, 1 roots, 4666 extra nodes, 0 pruned nodes, max_depth=35\n",
            "[19:09:09] INFO: /workspace/src/tree/updater_prune.cc:74: tree pruning end, 1 roots, 2110 extra nodes, 0 pruned nodes, max_depth=31\n",
            "[19:09:10] INFO: /workspace/src/tree/updater_prune.cc:74: tree pruning end, 1 roots, 4864 extra nodes, 0 pruned nodes, max_depth=35\n",
            "[19:09:10] INFO: /workspace/src/tree/updater_prune.cc:74: tree pruning end, 1 roots, 4576 extra nodes, 0 pruned nodes, max_depth=35\n",
            "[19:09:11] INFO: /workspace/src/tree/updater_prune.cc:74: tree pruning end, 1 roots, 2042 extra nodes, 0 pruned nodes, max_depth=29\n",
            "[19:09:12] INFO: /workspace/src/tree/updater_prune.cc:74: tree pruning end, 1 roots, 3400 extra nodes, 0 pruned nodes, max_depth=35\n",
            "[19:09:12] INFO: /workspace/src/tree/updater_prune.cc:74: tree pruning end, 1 roots, 4336 extra nodes, 0 pruned nodes, max_depth=35\n",
            "[19:09:13] INFO: /workspace/src/tree/updater_prune.cc:74: tree pruning end, 1 roots, 2050 extra nodes, 0 pruned nodes, max_depth=32\n",
            "[19:09:14] INFO: /workspace/src/tree/updater_prune.cc:74: tree pruning end, 1 roots, 3424 extra nodes, 0 pruned nodes, max_depth=35\n",
            "[19:09:14] INFO: /workspace/src/tree/updater_prune.cc:74: tree pruning end, 1 roots, 4254 extra nodes, 0 pruned nodes, max_depth=35\n",
            "[19:09:15] INFO: /workspace/src/tree/updater_prune.cc:74: tree pruning end, 1 roots, 2016 extra nodes, 0 pruned nodes, max_depth=32\n",
            "[19:09:16] INFO: /workspace/src/tree/updater_prune.cc:74: tree pruning end, 1 roots, 4166 extra nodes, 0 pruned nodes, max_depth=35\n",
            "[19:09:16] INFO: /workspace/src/tree/updater_prune.cc:74: tree pruning end, 1 roots, 3690 extra nodes, 0 pruned nodes, max_depth=35\n",
            "[19:09:17] INFO: /workspace/src/tree/updater_prune.cc:74: tree pruning end, 1 roots, 1992 extra nodes, 0 pruned nodes, max_depth=29\n",
            "[19:09:18] INFO: /workspace/src/tree/updater_prune.cc:74: tree pruning end, 1 roots, 3182 extra nodes, 0 pruned nodes, max_depth=35\n",
            "[19:09:18] INFO: /workspace/src/tree/updater_prune.cc:74: tree pruning end, 1 roots, 3612 extra nodes, 0 pruned nodes, max_depth=35\n",
            "[19:09:19] INFO: /workspace/src/tree/updater_prune.cc:74: tree pruning end, 1 roots, 1972 extra nodes, 0 pruned nodes, max_depth=30\n",
            "[19:09:19] INFO: /workspace/src/tree/updater_prune.cc:74: tree pruning end, 1 roots, 3032 extra nodes, 0 pruned nodes, max_depth=35\n",
            "[19:09:20] INFO: /workspace/src/tree/updater_prune.cc:74: tree pruning end, 1 roots, 3396 extra nodes, 0 pruned nodes, max_depth=35\n",
            "[19:09:21] INFO: /workspace/src/tree/updater_prune.cc:74: tree pruning end, 1 roots, 1900 extra nodes, 0 pruned nodes, max_depth=34\n",
            "[19:09:21] INFO: /workspace/src/tree/updater_prune.cc:74: tree pruning end, 1 roots, 4488 extra nodes, 0 pruned nodes, max_depth=35\n",
            "[19:09:22] INFO: /workspace/src/tree/updater_prune.cc:74: tree pruning end, 1 roots, 4126 extra nodes, 0 pruned nodes, max_depth=35\n",
            "[19:09:23] INFO: /workspace/src/tree/updater_prune.cc:74: tree pruning end, 1 roots, 1904 extra nodes, 0 pruned nodes, max_depth=34\n",
            "[19:09:23] INFO: /workspace/src/tree/updater_prune.cc:74: tree pruning end, 1 roots, 3936 extra nodes, 0 pruned nodes, max_depth=35\n",
            "[19:09:24] INFO: /workspace/src/tree/updater_prune.cc:74: tree pruning end, 1 roots, 3118 extra nodes, 0 pruned nodes, max_depth=35\n",
            "[19:09:25] INFO: /workspace/src/tree/updater_prune.cc:74: tree pruning end, 1 roots, 1844 extra nodes, 0 pruned nodes, max_depth=35\n",
            "[19:09:25] INFO: /workspace/src/tree/updater_prune.cc:74: tree pruning end, 1 roots, 4000 extra nodes, 0 pruned nodes, max_depth=35\n",
            "[19:09:26] INFO: /workspace/src/tree/updater_prune.cc:74: tree pruning end, 1 roots, 3780 extra nodes, 0 pruned nodes, max_depth=35\n",
            "[19:09:27] INFO: /workspace/src/tree/updater_prune.cc:74: tree pruning end, 1 roots, 1868 extra nodes, 0 pruned nodes, max_depth=28\n",
            "[19:09:27] INFO: /workspace/src/tree/updater_prune.cc:74: tree pruning end, 1 roots, 3662 extra nodes, 0 pruned nodes, max_depth=35\n",
            "[19:09:28] INFO: /workspace/src/tree/updater_prune.cc:74: tree pruning end, 1 roots, 3890 extra nodes, 0 pruned nodes, max_depth=35\n",
            "[19:09:29] INFO: /workspace/src/tree/updater_prune.cc:74: tree pruning end, 1 roots, 1784 extra nodes, 0 pruned nodes, max_depth=31\n",
            "[19:09:29] INFO: /workspace/src/tree/updater_prune.cc:74: tree pruning end, 1 roots, 3704 extra nodes, 0 pruned nodes, max_depth=35\n",
            "[19:09:30] INFO: /workspace/src/tree/updater_prune.cc:74: tree pruning end, 1 roots, 3366 extra nodes, 0 pruned nodes, max_depth=35\n",
            "[19:09:31] INFO: /workspace/src/tree/updater_prune.cc:74: tree pruning end, 1 roots, 1830 extra nodes, 0 pruned nodes, max_depth=27\n",
            "[19:09:31] INFO: /workspace/src/tree/updater_prune.cc:74: tree pruning end, 1 roots, 3536 extra nodes, 0 pruned nodes, max_depth=35\n",
            "[19:09:32] INFO: /workspace/src/tree/updater_prune.cc:74: tree pruning end, 1 roots, 3498 extra nodes, 0 pruned nodes, max_depth=35\n",
            "[19:09:32] INFO: /workspace/src/tree/updater_prune.cc:74: tree pruning end, 1 roots, 1736 extra nodes, 0 pruned nodes, max_depth=32\n",
            "[19:09:33] INFO: /workspace/src/tree/updater_prune.cc:74: tree pruning end, 1 roots, 4210 extra nodes, 0 pruned nodes, max_depth=35\n",
            "[19:09:34] INFO: /workspace/src/tree/updater_prune.cc:74: tree pruning end, 1 roots, 3478 extra nodes, 0 pruned nodes, max_depth=35\n",
            "[19:09:34] INFO: /workspace/src/tree/updater_prune.cc:74: tree pruning end, 1 roots, 1736 extra nodes, 0 pruned nodes, max_depth=30\n",
            "[19:09:35] INFO: /workspace/src/tree/updater_prune.cc:74: tree pruning end, 1 roots, 4314 extra nodes, 0 pruned nodes, max_depth=35\n",
            "[19:09:36] INFO: /workspace/src/tree/updater_prune.cc:74: tree pruning end, 1 roots, 3652 extra nodes, 0 pruned nodes, max_depth=35\n",
            "[19:09:36] INFO: /workspace/src/tree/updater_prune.cc:74: tree pruning end, 1 roots, 1712 extra nodes, 0 pruned nodes, max_depth=30\n",
            "[19:09:37] INFO: /workspace/src/tree/updater_prune.cc:74: tree pruning end, 1 roots, 2864 extra nodes, 0 pruned nodes, max_depth=35\n",
            "[19:09:38] INFO: /workspace/src/tree/updater_prune.cc:74: tree pruning end, 1 roots, 3006 extra nodes, 0 pruned nodes, max_depth=35\n",
            "[19:09:38] INFO: /workspace/src/tree/updater_prune.cc:74: tree pruning end, 1 roots, 1698 extra nodes, 0 pruned nodes, max_depth=31\n",
            "[19:09:39] INFO: /workspace/src/tree/updater_prune.cc:74: tree pruning end, 1 roots, 4738 extra nodes, 0 pruned nodes, max_depth=35\n",
            "[19:09:39] INFO: /workspace/src/tree/updater_prune.cc:74: tree pruning end, 1 roots, 3684 extra nodes, 0 pruned nodes, max_depth=35\n",
            "[19:09:40] INFO: /workspace/src/tree/updater_prune.cc:74: tree pruning end, 1 roots, 1648 extra nodes, 0 pruned nodes, max_depth=32\n",
            "[19:09:41] INFO: /workspace/src/tree/updater_prune.cc:74: tree pruning end, 1 roots, 4262 extra nodes, 0 pruned nodes, max_depth=35\n",
            "[19:09:41] INFO: /workspace/src/tree/updater_prune.cc:74: tree pruning end, 1 roots, 3514 extra nodes, 0 pruned nodes, max_depth=35\n",
            "[19:09:42] INFO: /workspace/src/tree/updater_prune.cc:74: tree pruning end, 1 roots, 1634 extra nodes, 0 pruned nodes, max_depth=31\n",
            "[19:09:43] INFO: /workspace/src/tree/updater_prune.cc:74: tree pruning end, 1 roots, 3484 extra nodes, 0 pruned nodes, max_depth=35\n",
            "[19:09:43] INFO: /workspace/src/tree/updater_prune.cc:74: tree pruning end, 1 roots, 3542 extra nodes, 0 pruned nodes, max_depth=35\n",
            "[19:09:44] INFO: /workspace/src/tree/updater_prune.cc:74: tree pruning end, 1 roots, 1632 extra nodes, 0 pruned nodes, max_depth=34\n",
            "[19:09:44] INFO: /workspace/src/tree/updater_prune.cc:74: tree pruning end, 1 roots, 3614 extra nodes, 0 pruned nodes, max_depth=35\n",
            "[19:09:45] INFO: /workspace/src/tree/updater_prune.cc:74: tree pruning end, 1 roots, 2800 extra nodes, 0 pruned nodes, max_depth=35\n",
            "[19:09:46] INFO: /workspace/src/tree/updater_prune.cc:74: tree pruning end, 1 roots, 1604 extra nodes, 0 pruned nodes, max_depth=25\n",
            "[19:09:46] INFO: /workspace/src/tree/updater_prune.cc:74: tree pruning end, 1 roots, 2132 extra nodes, 0 pruned nodes, max_depth=35\n",
            "[19:09:47] INFO: /workspace/src/tree/updater_prune.cc:74: tree pruning end, 1 roots, 3044 extra nodes, 0 pruned nodes, max_depth=35\n",
            "[19:09:48] INFO: /workspace/src/tree/updater_prune.cc:74: tree pruning end, 1 roots, 1586 extra nodes, 0 pruned nodes, max_depth=30\n",
            "[19:09:48] INFO: /workspace/src/tree/updater_prune.cc:74: tree pruning end, 1 roots, 4042 extra nodes, 0 pruned nodes, max_depth=35\n",
            "[19:09:49] INFO: /workspace/src/tree/updater_prune.cc:74: tree pruning end, 1 roots, 2990 extra nodes, 0 pruned nodes, max_depth=35\n",
            "[19:09:50] INFO: /workspace/src/tree/updater_prune.cc:74: tree pruning end, 1 roots, 1448 extra nodes, 0 pruned nodes, max_depth=35\n",
            "[19:09:50] INFO: /workspace/src/tree/updater_prune.cc:74: tree pruning end, 1 roots, 2852 extra nodes, 0 pruned nodes, max_depth=35\n",
            "[19:09:51] INFO: /workspace/src/tree/updater_prune.cc:74: tree pruning end, 1 roots, 2838 extra nodes, 0 pruned nodes, max_depth=35\n",
            "[19:09:52] INFO: /workspace/src/tree/updater_prune.cc:74: tree pruning end, 1 roots, 1490 extra nodes, 0 pruned nodes, max_depth=35\n",
            "[19:09:52] INFO: /workspace/src/tree/updater_prune.cc:74: tree pruning end, 1 roots, 3376 extra nodes, 0 pruned nodes, max_depth=35\n",
            "[19:09:53] INFO: /workspace/src/tree/updater_prune.cc:74: tree pruning end, 1 roots, 3230 extra nodes, 0 pruned nodes, max_depth=35\n",
            "[19:09:54] INFO: /workspace/src/tree/updater_prune.cc:74: tree pruning end, 1 roots, 1500 extra nodes, 0 pruned nodes, max_depth=33\n",
            "[19:09:54] INFO: /workspace/src/tree/updater_prune.cc:74: tree pruning end, 1 roots, 3934 extra nodes, 0 pruned nodes, max_depth=35\n",
            "[19:09:55] INFO: /workspace/src/tree/updater_prune.cc:74: tree pruning end, 1 roots, 2380 extra nodes, 0 pruned nodes, max_depth=35\n",
            "[19:09:55] INFO: /workspace/src/tree/updater_prune.cc:74: tree pruning end, 1 roots, 1492 extra nodes, 0 pruned nodes, max_depth=32\n",
            "[19:09:56] INFO: /workspace/src/tree/updater_prune.cc:74: tree pruning end, 1 roots, 3060 extra nodes, 0 pruned nodes, max_depth=35\n",
            "[19:09:57] INFO: /workspace/src/tree/updater_prune.cc:74: tree pruning end, 1 roots, 2992 extra nodes, 0 pruned nodes, max_depth=35\n",
            "[19:09:57] INFO: /workspace/src/tree/updater_prune.cc:74: tree pruning end, 1 roots, 1436 extra nodes, 0 pruned nodes, max_depth=28\n",
            "[19:09:58] INFO: /workspace/src/tree/updater_prune.cc:74: tree pruning end, 1 roots, 3360 extra nodes, 0 pruned nodes, max_depth=35\n",
            "[19:09:59] INFO: /workspace/src/tree/updater_prune.cc:74: tree pruning end, 1 roots, 2600 extra nodes, 0 pruned nodes, max_depth=35\n",
            "[19:09:59] INFO: /workspace/src/tree/updater_prune.cc:74: tree pruning end, 1 roots, 1474 extra nodes, 0 pruned nodes, max_depth=30\n",
            "[19:10:00] INFO: /workspace/src/tree/updater_prune.cc:74: tree pruning end, 1 roots, 2896 extra nodes, 0 pruned nodes, max_depth=35\n",
            "[19:10:00] INFO: /workspace/src/tree/updater_prune.cc:74: tree pruning end, 1 roots, 2026 extra nodes, 0 pruned nodes, max_depth=35\n",
            "[19:10:01] INFO: /workspace/src/tree/updater_prune.cc:74: tree pruning end, 1 roots, 1392 extra nodes, 0 pruned nodes, max_depth=35\n",
            "[19:10:02] INFO: /workspace/src/tree/updater_prune.cc:74: tree pruning end, 1 roots, 2762 extra nodes, 0 pruned nodes, max_depth=35\n",
            "[19:10:02] INFO: /workspace/src/tree/updater_prune.cc:74: tree pruning end, 1 roots, 2430 extra nodes, 0 pruned nodes, max_depth=35\n",
            "[19:10:03] INFO: /workspace/src/tree/updater_prune.cc:74: tree pruning end, 1 roots, 1410 extra nodes, 0 pruned nodes, max_depth=35\n",
            "[19:10:04] INFO: /workspace/src/tree/updater_prune.cc:74: tree pruning end, 1 roots, 3472 extra nodes, 0 pruned nodes, max_depth=35\n",
            "[19:10:04] INFO: /workspace/src/tree/updater_prune.cc:74: tree pruning end, 1 roots, 2968 extra nodes, 0 pruned nodes, max_depth=35\n",
            "[19:10:05] INFO: /workspace/src/tree/updater_prune.cc:74: tree pruning end, 1 roots, 1396 extra nodes, 0 pruned nodes, max_depth=34\n",
            "[19:10:06] INFO: /workspace/src/tree/updater_prune.cc:74: tree pruning end, 1 roots, 3116 extra nodes, 0 pruned nodes, max_depth=35\n",
            "[19:10:06] INFO: /workspace/src/tree/updater_prune.cc:74: tree pruning end, 1 roots, 3268 extra nodes, 0 pruned nodes, max_depth=35\n",
            "[19:10:07] INFO: /workspace/src/tree/updater_prune.cc:74: tree pruning end, 1 roots, 1342 extra nodes, 0 pruned nodes, max_depth=35\n",
            "[19:10:07] INFO: /workspace/src/tree/updater_prune.cc:74: tree pruning end, 1 roots, 1728 extra nodes, 0 pruned nodes, max_depth=35\n",
            "[19:10:08] INFO: /workspace/src/tree/updater_prune.cc:74: tree pruning end, 1 roots, 2742 extra nodes, 0 pruned nodes, max_depth=35\n",
            "[19:10:09] INFO: /workspace/src/tree/updater_prune.cc:74: tree pruning end, 1 roots, 1366 extra nodes, 0 pruned nodes, max_depth=34\n",
            "[19:10:09] INFO: /workspace/src/tree/updater_prune.cc:74: tree pruning end, 1 roots, 3546 extra nodes, 0 pruned nodes, max_depth=35\n",
            "[19:10:10] INFO: /workspace/src/tree/updater_prune.cc:74: tree pruning end, 1 roots, 3114 extra nodes, 0 pruned nodes, max_depth=35\n",
            "[19:10:10] INFO: /workspace/src/tree/updater_prune.cc:74: tree pruning end, 1 roots, 1290 extra nodes, 0 pruned nodes, max_depth=30\n",
            "[19:10:11] INFO: /workspace/src/tree/updater_prune.cc:74: tree pruning end, 1 roots, 2006 extra nodes, 0 pruned nodes, max_depth=35\n",
            "[19:10:12] INFO: /workspace/src/tree/updater_prune.cc:74: tree pruning end, 1 roots, 1708 extra nodes, 0 pruned nodes, max_depth=35\n",
            "[19:10:12] INFO: /workspace/src/tree/updater_prune.cc:74: tree pruning end, 1 roots, 1308 extra nodes, 0 pruned nodes, max_depth=33\n",
            "[19:10:13] INFO: /workspace/src/tree/updater_prune.cc:74: tree pruning end, 1 roots, 1680 extra nodes, 0 pruned nodes, max_depth=35\n",
            "[19:10:13] INFO: /workspace/src/tree/updater_prune.cc:74: tree pruning end, 1 roots, 1290 extra nodes, 0 pruned nodes, max_depth=35\n",
            "[19:10:14] INFO: /workspace/src/tree/updater_prune.cc:74: tree pruning end, 1 roots, 1304 extra nodes, 0 pruned nodes, max_depth=28\n",
            "[19:10:15] INFO: /workspace/src/tree/updater_prune.cc:74: tree pruning end, 1 roots, 1512 extra nodes, 0 pruned nodes, max_depth=35\n",
            "[19:10:15] INFO: /workspace/src/tree/updater_prune.cc:74: tree pruning end, 1 roots, 2676 extra nodes, 0 pruned nodes, max_depth=35\n",
            "[19:10:16] INFO: /workspace/src/tree/updater_prune.cc:74: tree pruning end, 1 roots, 1286 extra nodes, 0 pruned nodes, max_depth=35\n",
            "[19:10:16] INFO: /workspace/src/tree/updater_prune.cc:74: tree pruning end, 1 roots, 2900 extra nodes, 0 pruned nodes, max_depth=35\n",
            "[19:10:17] INFO: /workspace/src/tree/updater_prune.cc:74: tree pruning end, 1 roots, 3066 extra nodes, 0 pruned nodes, max_depth=35\n",
            "[19:10:18] INFO: /workspace/src/tree/updater_prune.cc:74: tree pruning end, 1 roots, 1246 extra nodes, 0 pruned nodes, max_depth=32\n",
            "[19:10:18] INFO: /workspace/src/tree/updater_prune.cc:74: tree pruning end, 1 roots, 3166 extra nodes, 0 pruned nodes, max_depth=35\n",
            "[19:10:19] INFO: /workspace/src/tree/updater_prune.cc:74: tree pruning end, 1 roots, 3014 extra nodes, 0 pruned nodes, max_depth=35\n",
            "[19:10:19] INFO: /workspace/src/tree/updater_prune.cc:74: tree pruning end, 1 roots, 1206 extra nodes, 0 pruned nodes, max_depth=29\n",
            "[19:10:20] INFO: /workspace/src/tree/updater_prune.cc:74: tree pruning end, 1 roots, 2168 extra nodes, 0 pruned nodes, max_depth=35\n",
            "[19:10:21] INFO: /workspace/src/tree/updater_prune.cc:74: tree pruning end, 1 roots, 2830 extra nodes, 0 pruned nodes, max_depth=35\n",
            "[19:10:21] INFO: /workspace/src/tree/updater_prune.cc:74: tree pruning end, 1 roots, 1174 extra nodes, 0 pruned nodes, max_depth=28\n",
            "[19:10:22] INFO: /workspace/src/tree/updater_prune.cc:74: tree pruning end, 1 roots, 998 extra nodes, 0 pruned nodes, max_depth=35\n",
            "[19:10:22] INFO: /workspace/src/tree/updater_prune.cc:74: tree pruning end, 1 roots, 2514 extra nodes, 0 pruned nodes, max_depth=35\n",
            "[19:10:23] INFO: /workspace/src/tree/updater_prune.cc:74: tree pruning end, 1 roots, 1206 extra nodes, 0 pruned nodes, max_depth=29\n",
            "[19:10:23] INFO: /workspace/src/tree/updater_prune.cc:74: tree pruning end, 1 roots, 998 extra nodes, 0 pruned nodes, max_depth=35\n",
            "[19:10:24] INFO: /workspace/src/tree/updater_prune.cc:74: tree pruning end, 1 roots, 2342 extra nodes, 0 pruned nodes, max_depth=35\n",
            "[19:10:25] INFO: /workspace/src/tree/updater_prune.cc:74: tree pruning end, 1 roots, 1164 extra nodes, 0 pruned nodes, max_depth=35\n",
            "[19:10:25] INFO: /workspace/src/tree/updater_prune.cc:74: tree pruning end, 1 roots, 2668 extra nodes, 0 pruned nodes, max_depth=35\n",
            "[19:10:26] INFO: /workspace/src/tree/updater_prune.cc:74: tree pruning end, 1 roots, 2282 extra nodes, 0 pruned nodes, max_depth=35\n",
            "[19:10:26] INFO: /workspace/src/tree/updater_prune.cc:74: tree pruning end, 1 roots, 1200 extra nodes, 0 pruned nodes, max_depth=33\n",
            "[19:10:27] INFO: /workspace/src/tree/updater_prune.cc:74: tree pruning end, 1 roots, 2824 extra nodes, 0 pruned nodes, max_depth=35\n",
            "[19:10:28] INFO: /workspace/src/tree/updater_prune.cc:74: tree pruning end, 1 roots, 2712 extra nodes, 0 pruned nodes, max_depth=35\n",
            "[19:10:28] INFO: /workspace/src/tree/updater_prune.cc:74: tree pruning end, 1 roots, 1182 extra nodes, 0 pruned nodes, max_depth=35\n",
            "[19:10:29] INFO: /workspace/src/tree/updater_prune.cc:74: tree pruning end, 1 roots, 3104 extra nodes, 0 pruned nodes, max_depth=35\n",
            "[19:10:30] INFO: /workspace/src/tree/updater_prune.cc:74: tree pruning end, 1 roots, 2766 extra nodes, 0 pruned nodes, max_depth=35\n",
            "[19:10:30] INFO: /workspace/src/tree/updater_prune.cc:74: tree pruning end, 1 roots, 1192 extra nodes, 0 pruned nodes, max_depth=35\n",
            "[19:10:31] INFO: /workspace/src/tree/updater_prune.cc:74: tree pruning end, 1 roots, 2646 extra nodes, 0 pruned nodes, max_depth=35\n",
            "[19:10:31] INFO: /workspace/src/tree/updater_prune.cc:74: tree pruning end, 1 roots, 2866 extra nodes, 0 pruned nodes, max_depth=35\n",
            "[19:10:32] INFO: /workspace/src/tree/updater_prune.cc:74: tree pruning end, 1 roots, 1156 extra nodes, 0 pruned nodes, max_depth=32\n",
            "[19:10:33] INFO: /workspace/src/tree/updater_prune.cc:74: tree pruning end, 1 roots, 2444 extra nodes, 0 pruned nodes, max_depth=35\n",
            "[19:10:33] INFO: /workspace/src/tree/updater_prune.cc:74: tree pruning end, 1 roots, 2746 extra nodes, 0 pruned nodes, max_depth=35\n",
            "[19:10:34] INFO: /workspace/src/tree/updater_prune.cc:74: tree pruning end, 1 roots, 1152 extra nodes, 0 pruned nodes, max_depth=28\n",
            "[19:10:34] INFO: /workspace/src/tree/updater_prune.cc:74: tree pruning end, 1 roots, 2702 extra nodes, 0 pruned nodes, max_depth=35\n",
            "[19:10:35] INFO: /workspace/src/tree/updater_prune.cc:74: tree pruning end, 1 roots, 2600 extra nodes, 0 pruned nodes, max_depth=35\n",
            "[19:10:35] INFO: /workspace/src/tree/updater_prune.cc:74: tree pruning end, 1 roots, 1118 extra nodes, 0 pruned nodes, max_depth=27\n",
            "[19:10:36] INFO: /workspace/src/tree/updater_prune.cc:74: tree pruning end, 1 roots, 1428 extra nodes, 0 pruned nodes, max_depth=35\n",
            "[19:10:37] INFO: /workspace/src/tree/updater_prune.cc:74: tree pruning end, 1 roots, 2354 extra nodes, 0 pruned nodes, max_depth=35\n",
            "[19:10:37] INFO: /workspace/src/tree/updater_prune.cc:74: tree pruning end, 1 roots, 1122 extra nodes, 0 pruned nodes, max_depth=30\n",
            "[19:10:38] INFO: /workspace/src/tree/updater_prune.cc:74: tree pruning end, 1 roots, 3110 extra nodes, 0 pruned nodes, max_depth=35\n",
            "[19:10:39] INFO: /workspace/src/tree/updater_prune.cc:74: tree pruning end, 1 roots, 2242 extra nodes, 0 pruned nodes, max_depth=35\n",
            "[19:10:39] INFO: /workspace/src/tree/updater_prune.cc:74: tree pruning end, 1 roots, 1128 extra nodes, 0 pruned nodes, max_depth=29\n",
            "[19:10:40] INFO: /workspace/src/tree/updater_prune.cc:74: tree pruning end, 1 roots, 2330 extra nodes, 0 pruned nodes, max_depth=35\n",
            "[19:10:40] INFO: /workspace/src/tree/updater_prune.cc:74: tree pruning end, 1 roots, 1404 extra nodes, 0 pruned nodes, max_depth=35\n",
            "[19:10:41] INFO: /workspace/src/tree/updater_prune.cc:74: tree pruning end, 1 roots, 1006 extra nodes, 0 pruned nodes, max_depth=35\n",
            "[19:10:42] INFO: /workspace/src/tree/updater_prune.cc:74: tree pruning end, 1 roots, 2202 extra nodes, 0 pruned nodes, max_depth=35\n",
            "[19:10:42] INFO: /workspace/src/tree/updater_prune.cc:74: tree pruning end, 1 roots, 1876 extra nodes, 0 pruned nodes, max_depth=35\n",
            "Fit End--\n"
          ],
          "name": "stdout"
        }
      ]
    },
    {
      "cell_type": "code",
      "metadata": {
        "colab": {
          "base_uri": "https://localhost:8080/"
        },
        "id": "kSsVLwd6IyUs",
        "outputId": "147a5d63-dbf3-49f0-b043-f5126fb97ea8"
      },
      "source": [
        "from sklearn.metrics import accuracy_score\n",
        "y_pred_ol=knn_outlier.predict(dX1_ol)\n",
        "accuracy =  accuracy_score(y_pred_ol, y_train_outliers) * 100\n",
        "print(f\"Accuracy a betanított halmazra : {accuracy}\")\n",
        "\n"
      ],
      "execution_count": 155,
      "outputs": [
        {
          "output_type": "stream",
          "text": [
            "Accuracy a betanított halmazra : 99.99720709398129\n"
          ],
          "name": "stdout"
        }
      ]
    }
  ]
}