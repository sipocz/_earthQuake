{
  "nbformat": 4,
  "nbformat_minor": 0,
  "metadata": {
    "colab": {
      "name": "_earthquake_distance_LDA.ipynb",
      "provenance": []
    },
    "kernelspec": {
      "name": "python3",
      "display_name": "Python 3",
      "language": "python"
    }
  },
  "cells": [
    {
      "cell_type": "code",
      "execution_count": 83,
      "metadata": {},
      "outputs": [],
      "source": [
        "\n"
      ]
    },
    {
      "cell_type": "code",
      "execution_count": 84,
      "metadata": {},
      "outputs": [],
      "source": [
        "\n",
        "\n",
        "_PCVERSION_=True\n",
        "\n",
        "\n",
        "if _PCVERSION_:\n",
        "    basedir=\"C:/Users/sipocz/OneDrive/Dokumentumok/GitHub/_EarthQuake/gpos_lin\"\n",
        "else:\n",
        "    from google.colab import drive\n",
        "    drive.mount('/content/drive',force_remount=True)\n",
        "    basedir=\"/content/drive/My Drive/001_AI/_EarthQuake/gpos_lin\"\n",
        "\n",
        "import numpy as np\n",
        "import pandas as pd\n",
        "import matplotlib.pyplot as plt\n",
        "\n",
        "\n",
        "#--------------scikit import \n",
        "from sklearn.ensemble import IsolationForest\n",
        "from sklearn.metrics import accuracy_score\n",
        "from sklearn.preprocessing import MinMaxScaler\n",
        "from sklearn.model_selection import train_test_split\n",
        "#--------------\n",
        "\n",
        "def outlierStatistic(X_train_predict):\n",
        "    print(X_train_predict)\n",
        "    maxX=len(X_train_predict)\n",
        "    outlier=0\n",
        "    for i in X_train_predict:\n",
        "        if i==-1:\n",
        "            outlier+=1\n",
        "    print(f\"A összes ({maxX} darabból {outlier} darab outlier van. Az {outlier/maxX*100:5.1f} %.)\")\n",
        "\n",
        "\n",
        "def checkvalues(df,columnname,key):\n",
        "    print(f\"{columnname} ellenőrzése !\")\n",
        "    numok=0\n",
        "    numerr=0\n",
        "    for i in df.index:\n",
        "        if df.at[i,columnname] in key:\n",
        "            #print(df.at[i,columnname])\n",
        "            numok+=1\n",
        "            pass\n",
        "        else:\n",
        "            numerr+=1\n",
        "            print(df.at[i,columnname],end=\", \")\n",
        "    sumall=numok+numerr\n",
        "    print(f\"\\n{sumall} mintából {numerr} db nem volt megfelelő\")\n",
        "\n",
        "\n",
        "def createcolumn(df,columnname,keys):\n",
        "    print(f\"{columnname} cseréje megy\")\n",
        "    for key in keys:\n",
        "        df[keys[key]]=0.0\n",
        "    for key in keys:\n",
        "        for i in df.index:\n",
        "            if df.at[i,columnname]==key:\n",
        "                df.at[i,keys[key]]=1.0\n",
        "\n",
        "\n",
        "def create_dict(idx,list):\n",
        "    o={}\n",
        "    for i in list:\n",
        "        o[i]=idx+\"_\"+i\n",
        "    return o\n",
        "\n",
        "def create_base_data(df):\n",
        "    t=['n', 't', 'o']\n",
        "    columnname=\"land_surface_condition\"\n",
        "    key=create_dict(columnname,t)\n",
        "\n",
        "\n",
        "    #checkvalues(df,columnname,key)\n",
        "    createcolumn(df,columnname,key)\n",
        "\n",
        "    t= ['h', 'w', 'i', 'r', 'u']\n",
        "    columnname=\"foundation_type\"\n",
        "    key=create_dict(columnname,t)\n",
        "\n",
        "    #checkvalues(df,columnname,key)\n",
        "    createcolumn(df,columnname,key)\n",
        "\n",
        "    t=  ['q', 'n', 'x']\n",
        "    columnname=\"roof_type\"\n",
        "    key=create_dict(columnname,t)\n",
        "\n",
        "    #checkvalues(df,columnname,key)\n",
        "    createcolumn(df,columnname,key)\n",
        "\n",
        "    t=  ['z', 'v', 'f', 'm', 'x']\n",
        "    columnname=\"ground_floor_type\"\n",
        "    key=create_dict(columnname,t)\n",
        "\n",
        "    #checkvalues(df,columnname,key)\n",
        "    createcolumn(df,columnname,key)\n",
        "\n",
        "    t=   ['q', 's', 'j', 'x']\n",
        "    columnname=\"other_floor_type\"\n",
        "    key=create_dict(columnname,t)\n",
        "\n",
        "    #checkvalues(df,columnname,key)\n",
        "    createcolumn(df,columnname,key)\n",
        "\n",
        "    t=   ['j', 's', 't', 'o']\n",
        "    columnname=\"position\"\n",
        "    key=create_dict(columnname,t)\n",
        "\n",
        "    #checkvalues(df,columnname,key)\n",
        "    createcolumn(df,columnname,key)\n",
        "\n",
        "    t=   ['c', 's', 'f', 'd', 'm', 'a', 'q', 'u', 'n', 'o']\n",
        "    columnname=\"plan_configuration\"\n",
        "    key=create_dict(columnname,t)\n",
        "\n",
        "    #checkvalues(df,columnname,key)\n",
        "    createcolumn(df,columnname,key)\n",
        "\n",
        "    t=['a', 'w', 'r', 'v']\n",
        "    columnname=\"legal_ownership_status\"\n",
        "    key=create_dict(columnname,t)\n",
        "\n",
        "    #checkvalues(df,columnname,key)\n",
        "    createcolumn(df,columnname,key)\n",
        "\n",
        "    # level 1: 0-30, level 2: 0-1427, level 3: 0-12567.\n",
        "    # level1:0--30\n",
        "    # level2: 0.0000-----------0.9999\n",
        "    # level3: 0.000000000------0.000099999\n",
        "    l1=df.geo_level_1_id\n",
        "    l2=(df.geo_level_2_id/1427*9999)/10000\n",
        "    l3=(df.geo_level_2_id/12567*99999)/1000000000\n",
        "    df[\"geopos\"]=l1+l2+l3\n",
        "    return(df)\n",
        "\n",
        "\n",
        "\n",
        "def kill_columns(df):\n",
        "    notkey=[\"Unnamed: 0\",\"building_id\",\"legal_ownership_status\",\"geo_level_1_id\",\t\"geo_level_2_id\",\t\"geo_level_3_id\", \"land_surface_condition\",\t\"foundation_type\",\t\"roof_type\",\t\"ground_floor_type\",\t\"other_floor_type\",\t\"position\",\t\"plan_configuration\"]\n",
        "    for i in df.columns:\n",
        "        #print(i)\n",
        "        if i in notkey:\n",
        "            df.drop(columns=[i], inplace=True)\n",
        "    return df\n",
        "\n",
        "\n",
        "\n",
        "\n",
        "\n"
      ]
    },
    {
      "cell_type": "code",
      "execution_count": null,
      "metadata": {},
      "outputs": [],
      "source": []
    },
    {
      "cell_type": "code",
      "execution_count": 85,
      "metadata": {},
      "outputs": [],
      "source": [
        "def check_similarity_np(np1,np2):\n",
        "    db=0\n",
        "    maxi=0\n",
        "    for ind, i1 in enumerate(np1):\n",
        "        maxi+=1\n",
        "        i2=np2[ind]\n",
        "        if i1!=i2:\n",
        "            db+=1\n",
        "    #print(f\"{ind}. eset:  {i:3},{i2:3}\")\n",
        "    print(f\"hiba:{db} max:{maxi} -- error:{db/maxi*100.0 : 2.6} good %:{100-db/maxi*100.0 : 2.6} %\")"
      ]
    },
    {
      "cell_type": "code",
      "metadata": {
        "colab": {
          "base_uri": "https://localhost:8080/",
          "height": 502
        },
        "id": "HZHYUIgKIlT9",
        "outputId": "3740844a-f48c-4b06-87fd-f1eddb0431ab"
      },
      "source": [
        "\n",
        "features_train=basedir+\"/orig/train_values.csv\"\n",
        "labels_train=basedir+\"/orig/train_labels.csv\"\n",
        "features_predict=basedir+\"/orig/test_values.csv\"\n",
        "\n",
        "X_train=pd.read_csv(features_train)\n",
        "y_train=pd.read_csv(labels_train)\n",
        "X_pred=pd.read_csv(features_predict)\n",
        "#\n",
        "X_pred_conv=create_base_data(X_pred)\n",
        "X_train_conv=create_base_data(X_train)\n",
        "#\n",
        "X_train_ok=kill_columns(X_train_conv)\n",
        "X_pred_ok=kill_columns(X_pred_conv)\n",
        "y_train_ok=kill_columns(y_train)\n",
        "\n",
        "X_train_ok.to_csv(basedir+\"/tmp/X_tran_ok.csv\",index=False)\n",
        "X_pred_ok.to_csv(basedir+\"/tmp/X_pred_ok.csv\",index=False)\n",
        "y_train_ok.to_csv(basedir+\"/tmp/y_train_ok.csv\",index=False)\n",
        "\n",
        "\n",
        "\n",
        "\n",
        "#f=open(basedir+\"/tmp/similarity.csv\",\"a\")\n",
        "X_train_ok=pd.read_csv(basedir+\"/tmp/X_tran_ok.csv\",)\n",
        "X_pred_ok=pd.read_csv(basedir+\"/tmp/X_pred_ok.csv\")\n",
        "y_train_ok=pd.read_csv(basedir+\"/tmp/y_train_ok.csv\")\n",
        "\n",
        "X_train_ok.head()\n",
        "X_pred_ok.head()\n",
        "#print(\"Ready\")"
      ],
      "execution_count": 86,
      "outputs": [
        {
          "output_type": "stream",
          "name": "stdout",
          "text": [
            "land_surface_condition cseréje megy\n",
            "foundation_type cseréje megy\n",
            "roof_type cseréje megy\n",
            "ground_floor_type cseréje megy\n",
            "other_floor_type cseréje megy\n",
            "position cseréje megy\n",
            "plan_configuration cseréje megy\n",
            "legal_ownership_status cseréje megy\n",
            "land_surface_condition cseréje megy\n",
            "foundation_type cseréje megy\n",
            "roof_type cseréje megy\n",
            "ground_floor_type cseréje megy\n",
            "other_floor_type cseréje megy\n",
            "position cseréje megy\n",
            "plan_configuration cseréje megy\n",
            "legal_ownership_status cseréje megy\n"
          ]
        },
        {
          "output_type": "execute_result",
          "data": {
            "text/plain": [
              "   count_floors_pre_eq  age  area_percentage  height_percentage  \\\n",
              "0                    3   20                7                  6   \n",
              "1                    2   25               13                  5   \n",
              "2                    2    5                4                  5   \n",
              "3                    1    0               19                  3   \n",
              "4                    3   15                8                  7   \n",
              "\n",
              "   has_superstructure_adobe_mud  has_superstructure_mud_mortar_stone  \\\n",
              "0                             0                                    1   \n",
              "1                             0                                    1   \n",
              "2                             0                                    1   \n",
              "3                             0                                    0   \n",
              "4                             0                                    1   \n",
              "\n",
              "   has_superstructure_stone_flag  has_superstructure_cement_mortar_stone  \\\n",
              "0                              0                                       0   \n",
              "1                              0                                       0   \n",
              "2                              0                                       0   \n",
              "3                              0                                       0   \n",
              "4                              0                                       0   \n",
              "\n",
              "   has_superstructure_mud_mortar_brick  \\\n",
              "0                                    0   \n",
              "1                                    0   \n",
              "2                                    0   \n",
              "3                                    0   \n",
              "4                                    0   \n",
              "\n",
              "   has_superstructure_cement_mortar_brick  ...  plan_configuration_a  \\\n",
              "0                                       0  ...                   0.0   \n",
              "1                                       0  ...                   0.0   \n",
              "2                                       0  ...                   0.0   \n",
              "3                                       1  ...                   0.0   \n",
              "4                                       0  ...                   0.0   \n",
              "\n",
              "   plan_configuration_q  plan_configuration_u  plan_configuration_n  \\\n",
              "0                   0.0                   0.0                   0.0   \n",
              "1                   0.0                   0.0                   0.0   \n",
              "2                   0.0                   0.0                   0.0   \n",
              "3                   0.0                   0.0                   0.0   \n",
              "4                   0.0                   0.0                   0.0   \n",
              "\n",
              "   plan_configuration_o  legal_ownership_status_a  legal_ownership_status_w  \\\n",
              "0                   0.0                       0.0                       0.0   \n",
              "1                   0.0                       0.0                       0.0   \n",
              "2                   0.0                       0.0                       0.0   \n",
              "3                   0.0                       0.0                       0.0   \n",
              "4                   0.0                       0.0                       0.0   \n",
              "\n",
              "   legal_ownership_status_r  legal_ownership_status_v     geopos  \n",
              "0                       0.0                       1.0  17.417622  \n",
              "1                       0.0                       1.0   6.098800  \n",
              "2                       0.0                       1.0  22.013313  \n",
              "3                       0.0                       1.0  26.027328  \n",
              "4                       0.0                       1.0  17.202505  \n",
              "\n",
              "[5 rows x 66 columns]"
            ],
            "text/html": "<div>\n<style scoped>\n    .dataframe tbody tr th:only-of-type {\n        vertical-align: middle;\n    }\n\n    .dataframe tbody tr th {\n        vertical-align: top;\n    }\n\n    .dataframe thead th {\n        text-align: right;\n    }\n</style>\n<table border=\"1\" class=\"dataframe\">\n  <thead>\n    <tr style=\"text-align: right;\">\n      <th></th>\n      <th>count_floors_pre_eq</th>\n      <th>age</th>\n      <th>area_percentage</th>\n      <th>height_percentage</th>\n      <th>has_superstructure_adobe_mud</th>\n      <th>has_superstructure_mud_mortar_stone</th>\n      <th>has_superstructure_stone_flag</th>\n      <th>has_superstructure_cement_mortar_stone</th>\n      <th>has_superstructure_mud_mortar_brick</th>\n      <th>has_superstructure_cement_mortar_brick</th>\n      <th>...</th>\n      <th>plan_configuration_a</th>\n      <th>plan_configuration_q</th>\n      <th>plan_configuration_u</th>\n      <th>plan_configuration_n</th>\n      <th>plan_configuration_o</th>\n      <th>legal_ownership_status_a</th>\n      <th>legal_ownership_status_w</th>\n      <th>legal_ownership_status_r</th>\n      <th>legal_ownership_status_v</th>\n      <th>geopos</th>\n    </tr>\n  </thead>\n  <tbody>\n    <tr>\n      <th>0</th>\n      <td>3</td>\n      <td>20</td>\n      <td>7</td>\n      <td>6</td>\n      <td>0</td>\n      <td>1</td>\n      <td>0</td>\n      <td>0</td>\n      <td>0</td>\n      <td>0</td>\n      <td>...</td>\n      <td>0.0</td>\n      <td>0.0</td>\n      <td>0.0</td>\n      <td>0.0</td>\n      <td>0.0</td>\n      <td>0.0</td>\n      <td>0.0</td>\n      <td>0.0</td>\n      <td>1.0</td>\n      <td>17.417622</td>\n    </tr>\n    <tr>\n      <th>1</th>\n      <td>2</td>\n      <td>25</td>\n      <td>13</td>\n      <td>5</td>\n      <td>0</td>\n      <td>1</td>\n      <td>0</td>\n      <td>0</td>\n      <td>0</td>\n      <td>0</td>\n      <td>...</td>\n      <td>0.0</td>\n      <td>0.0</td>\n      <td>0.0</td>\n      <td>0.0</td>\n      <td>0.0</td>\n      <td>0.0</td>\n      <td>0.0</td>\n      <td>0.0</td>\n      <td>1.0</td>\n      <td>6.098800</td>\n    </tr>\n    <tr>\n      <th>2</th>\n      <td>2</td>\n      <td>5</td>\n      <td>4</td>\n      <td>5</td>\n      <td>0</td>\n      <td>1</td>\n      <td>0</td>\n      <td>0</td>\n      <td>0</td>\n      <td>0</td>\n      <td>...</td>\n      <td>0.0</td>\n      <td>0.0</td>\n      <td>0.0</td>\n      <td>0.0</td>\n      <td>0.0</td>\n      <td>0.0</td>\n      <td>0.0</td>\n      <td>0.0</td>\n      <td>1.0</td>\n      <td>22.013313</td>\n    </tr>\n    <tr>\n      <th>3</th>\n      <td>1</td>\n      <td>0</td>\n      <td>19</td>\n      <td>3</td>\n      <td>0</td>\n      <td>0</td>\n      <td>0</td>\n      <td>0</td>\n      <td>0</td>\n      <td>1</td>\n      <td>...</td>\n      <td>0.0</td>\n      <td>0.0</td>\n      <td>0.0</td>\n      <td>0.0</td>\n      <td>0.0</td>\n      <td>0.0</td>\n      <td>0.0</td>\n      <td>0.0</td>\n      <td>1.0</td>\n      <td>26.027328</td>\n    </tr>\n    <tr>\n      <th>4</th>\n      <td>3</td>\n      <td>15</td>\n      <td>8</td>\n      <td>7</td>\n      <td>0</td>\n      <td>1</td>\n      <td>0</td>\n      <td>0</td>\n      <td>0</td>\n      <td>0</td>\n      <td>...</td>\n      <td>0.0</td>\n      <td>0.0</td>\n      <td>0.0</td>\n      <td>0.0</td>\n      <td>0.0</td>\n      <td>0.0</td>\n      <td>0.0</td>\n      <td>0.0</td>\n      <td>1.0</td>\n      <td>17.202505</td>\n    </tr>\n  </tbody>\n</table>\n<p>5 rows × 66 columns</p>\n</div>"
          },
          "metadata": {},
          "execution_count": 86
        }
      ]
    },
    {
      "cell_type": "code",
      "metadata": {
        "id": "ZkluH7RwmL_M"
      },
      "source": [
        "X_pred_ok=kill_columns(X_pred_ok)\r\n",
        "X_train_ok=kill_columns(X_train_ok)\r\n",
        "y_train_ok=kill_columns(y_train_ok)"
      ],
      "execution_count": 87,
      "outputs": []
    },
    {
      "cell_type": "code",
      "metadata": {
        "id": "Q0rn-7TBQfRp"
      },
      "source": [
        "from sklearn.preprocessing import StandardScaler\n",
        "\n",
        "\n",
        "\n",
        "scaler2=StandardScaler()\n",
        "X_train_scale=scaler2.fit_transform(X_train_ok)\n",
        "\n",
        "#scaler1=StandardScaler()\n",
        "X_pred_scale=scaler2.fit_transform(X_pred_ok)\n",
        "\"\"\"\n",
        "scaler3=StandardScaler()\n",
        "y_train_scale=scaler3.fit_transform(y_train_ok)\n",
        "\"\"\"\n",
        "y_train_np=y_train_ok.to_numpy()\n",
        "\n",
        "# szétszedjük a train és test részekre\n",
        "from sklearn.model_selection import train_test_split\n",
        "#X_train_train, X_train_test,y_train_train, y_train_test  = train_test_split( X_train_scale, y_train_scale, test_size=0.10, random_state=0)\n",
        "X_train_train, X_train_test,y_train_train, y_train_test  = train_test_split( X_train_scale, y_train_np, test_size=0.30, random_state=0)\n",
        "\n",
        "\n"
      ],
      "execution_count": 88,
      "outputs": []
    },
    {
      "cell_type": "code",
      "execution_count": 89,
      "metadata": {},
      "outputs": [],
      "source": [
        "# *************\n",
        "# * LDA       *\n",
        "# *************\n",
        "\n",
        "from sklearn.discriminant_analysis import LinearDiscriminantAnalysis\n",
        "\n",
        "lda = LinearDiscriminantAnalysis(n_components=2, solver=\"svd\", tol=0.000000001)\n",
        "lda.fit(X_train_train, y_train_train)\n",
        "\n",
        "X_train_lda = lda.transform(X_train_train)\n",
        "#y_train = lda.transform(y_train_train)\n",
        "X_test_lda=lda.transform(X_train_test)\n",
        "\n",
        "\n",
        "\n",
        "\n"
      ]
    },
    {
      "cell_type": "code",
      "execution_count": 90,
      "metadata": {},
      "outputs": [],
      "source": [
        "def outlierDropfrom_df(df,inxlist):\n",
        "    a=df\n",
        "    out=a.drop(inxlist,axis=0)\n",
        "    return(out)"
      ]
    },
    {
      "cell_type": "code",
      "execution_count": 91,
      "metadata": {},
      "outputs": [],
      "source": [
        "def outlierDropfrom_numpyarray(na,inxlist):\n",
        "    \n",
        "    out=np.delete (na ,inxlist, axis=0)\n",
        "    return(out)"
      ]
    },
    {
      "cell_type": "code",
      "execution_count": 118,
      "metadata": {},
      "outputs": [],
      "source": [
        "def calc_the_range(y_train,hist):    \n",
        "    num1=sum(1 for val in y_train if val==1)\n",
        "    #print(num1)\n",
        "    num2=sum(1 for val in y_train if val==2)\n",
        "    #print(num2)\n",
        "    num3=sum(1 for val in y_train if val==3)\n",
        "    #print(num3)\n",
        "    \n",
        "    out=(num1,num1+num2,num1+num2+num3)\n",
        "    print(\"out: \" ,out)\n",
        "    steps=[]\n",
        "    for i in range(len(hist[0])):\n",
        "        print(hist[0][i], end=\"\")\n",
        "        if hist[0][i]>out[0]:\n",
        "            steps.append(i)\n",
        "            break\n",
        "    for i in range(len(hist[0])):\n",
        "        #print(hist[0][i])\n",
        "        if hist[0][i]>out[1]:\n",
        "            steps.append(i)\n",
        "            break\n",
        "    print(\"step:\",steps)\n",
        "    limits_out=(hist[1][steps[0]],hist[1][steps[1]])\n",
        "    print(\"Limits:\",limits_out)\n",
        "    return (limits_out)"
      ]
    },
    {
      "cell_type": "code",
      "execution_count": 108,
      "metadata": {},
      "outputs": [],
      "source": [
        "def conv_a_floatlist(alist, range_x):\n",
        "    o=[]\n",
        "    print(\"conv:\" ,range_x)\n",
        "    for i in alist:\n",
        "        if i<=range_x[0]:\n",
        "            o.append(1)\n",
        "        if range_x[0]< i <=range_x[1]:\n",
        "            o.append(2)\n",
        "        if range_x[1]<i:\n",
        "            o.append(3)\n",
        "    return(o)"
      ]
    },
    {
      "cell_type": "code",
      "execution_count": 91,
      "metadata": {},
      "outputs": [],
      "source": [
        "\n",
        "\n",
        "\n",
        "\n"
      ]
    },
    {
      "cell_type": "code",
      "execution_count": 92,
      "metadata": {},
      "outputs": [
        {
          "output_type": "stream",
          "name": "stdout",
          "text": [
            "[[3]\n [2]\n [2]\n ...\n [3]\n [3]\n [2]]\n"
          ]
        }
      ],
      "source": [
        "print(y_train_train)"
      ]
    },
    {
      "cell_type": "code",
      "metadata": {
        "colab": {
          "base_uri": "https://localhost:8080/"
        },
        "id": "KpEo_arRSK-Y",
        "outputId": "ed01a5e0-f52e-4b28-afc5-4711ca297ada",
        "tags": []
      },
      "source": [
        "# XGBClassifier\n",
        "'''\n",
        "from xgboost import XGBClassifier  # 72.09\n",
        "# max_depth=10 : 72.79857561664441\n",
        "\n",
        "knn = XGBClassifier(verbosity=3,max_depth = 13,n_estimators=100,loss=\"deviance\", criterion=\"mae\")\n",
        "\n",
        "print(\"Fit: Inlier betanitás Start--\")\n",
        "\n",
        "knn.fit(X_train_train_out, y_train_train_out)\n",
        "\n",
        "print(\"Fit End - Prediction Start \")\n",
        "'''"
      ],
      "execution_count": 93,
      "outputs": [
        {
          "output_type": "execute_result",
          "data": {
            "text/plain": [
              "'\\nfrom xgboost import XGBClassifier  # 72.09\\n# max_depth=10 : 72.79857561664441\\n\\nknn = XGBClassifier(verbosity=3,max_depth = 13,n_estimators=100,loss=\"deviance\", criterion=\"mae\")\\n\\nprint(\"Fit: Inlier betanitás Start--\")\\n\\nknn.fit(X_train_train_out, y_train_train_out)\\n\\nprint(\"Fit End - Prediction Start \")\\n'"
            ]
          },
          "metadata": {},
          "execution_count": 93
        }
      ]
    },
    {
      "cell_type": "code",
      "execution_count": 176,
      "metadata": {
        "tags": [
          "outputPrepend"
        ]
      },
      "outputs": [
        {
          "output_type": "stream",
          "name": "stdout",
          "text": [
            "89/4000] 1 tree, 31 leaves, max depth = 13, train loss: 0.04381, val loss: 0.05099, in 0.030s\n",
            "[1490/4000] 1 tree, 31 leaves, max depth = 15, train loss: 0.04381, val loss: 0.05099, in 0.050s\n",
            "[1491/4000] 1 tree, 31 leaves, max depth = 12, train loss: 0.04381, val loss: 0.05099, in 0.058s\n",
            "[1492/4000] 1 tree, 31 leaves, max depth = 12, train loss: 0.04380, val loss: 0.05099, in 0.038s\n",
            "[1493/4000] 1 tree, 31 leaves, max depth = 14, train loss: 0.04380, val loss: 0.05099, in 0.035s\n",
            "[1494/4000] 1 tree, 31 leaves, max depth = 16, train loss: 0.04379, val loss: 0.05099, in 0.031s\n",
            "[1495/4000] 1 tree, 31 leaves, max depth = 11, train loss: 0.04379, val loss: 0.05099, in 0.031s\n",
            "[1496/4000] 1 tree, 31 leaves, max depth = 9, train loss: 0.04379, val loss: 0.05099, in 0.029s\n",
            "[1497/4000] 1 tree, 31 leaves, max depth = 9, train loss: 0.04378, val loss: 0.05099, in 0.034s\n",
            "[1498/4000] 1 tree, 31 leaves, max depth = 12, train loss: 0.04378, val loss: 0.05099, in 0.033s\n",
            "[1499/4000] 1 tree, 31 leaves, max depth = 11, train loss: 0.04378, val loss: 0.05099, in 0.032s\n",
            "[1500/4000] 1 tree, 31 leaves, max depth = 13, train loss: 0.04378, val loss: 0.05099, in 0.030s\n",
            "[1501/4000] 1 tree, 31 leaves, max depth = 12, train loss: 0.04377, val loss: 0.05099, in 0.032s\n",
            "[1502/4000] 1 tree, 31 leaves, max depth = 16, train loss: 0.04377, val loss: 0.05099, in 0.032s\n",
            "[1503/4000] 1 tree, 31 leaves, max depth = 11, train loss: 0.04377, val loss: 0.05099, in 0.028s\n",
            "[1504/4000] 1 tree, 31 leaves, max depth = 9, train loss: 0.04376, val loss: 0.05099, in 0.029s\n",
            "[1505/4000] 1 tree, 31 leaves, max depth = 12, train loss: 0.04376, val loss: 0.05100, in 0.033s\n",
            "[1506/4000] 1 tree, 31 leaves, max depth = 11, train loss: 0.04376, val loss: 0.05100, in 0.031s\n",
            "[1507/4000] 1 tree, 31 leaves, max depth = 11, train loss: 0.04375, val loss: 0.05100, in 0.034s\n",
            "[1508/4000] 1 tree, 31 leaves, max depth = 11, train loss: 0.04375, val loss: 0.05100, in 0.032s\n",
            "[1509/4000] 1 tree, 31 leaves, max depth = 9, train loss: 0.04374, val loss: 0.05100, in 0.037s\n",
            "[1510/4000] 1 tree, 31 leaves, max depth = 17, train loss: 0.04374, val loss: 0.05099, in 0.032s\n",
            "[1511/4000] 1 tree, 31 leaves, max depth = 10, train loss: 0.04374, val loss: 0.05100, in 0.042s\n",
            "[1512/4000] 1 tree, 31 leaves, max depth = 16, train loss: 0.04373, val loss: 0.05099, in 0.033s\n",
            "[1513/4000] 1 tree, 31 leaves, max depth = 13, train loss: 0.04373, val loss: 0.05099, in 0.032s\n",
            "[1514/4000] 1 tree, 31 leaves, max depth = 14, train loss: 0.04373, val loss: 0.05099, in 0.029s\n",
            "[1515/4000] 1 tree, 31 leaves, max depth = 10, train loss: 0.04372, val loss: 0.05099, in 0.031s\n",
            "[1516/4000] 1 tree, 31 leaves, max depth = 10, train loss: 0.04372, val loss: 0.05099, in 0.031s\n",
            "[1517/4000] 1 tree, 31 leaves, max depth = 12, train loss: 0.04371, val loss: 0.05099, in 0.031s\n",
            "[1518/4000] 1 tree, 31 leaves, max depth = 13, train loss: 0.04371, val loss: 0.05099, in 0.028s\n",
            "[1519/4000] 1 tree, 31 leaves, max depth = 9, train loss: 0.04371, val loss: 0.05099, in 0.032s\n",
            "[1520/4000] 1 tree, 31 leaves, max depth = 9, train loss: 0.04370, val loss: 0.05099, in 0.033s\n",
            "[1521/4000] 1 tree, 31 leaves, max depth = 12, train loss: 0.04370, val loss: 0.05099, in 0.031s\n",
            "[1522/4000] 1 tree, 31 leaves, max depth = 12, train loss: 0.04370, val loss: 0.05099, in 0.032s\n",
            "[1523/4000] 1 tree, 31 leaves, max depth = 12, train loss: 0.04369, val loss: 0.05098, in 0.034s\n",
            "[1524/4000] 1 tree, 31 leaves, max depth = 14, train loss: 0.04369, val loss: 0.05098, in 0.029s\n",
            "[1525/4000] 1 tree, 31 leaves, max depth = 13, train loss: 0.04369, val loss: 0.05099, in 0.030s\n",
            "[1526/4000] 1 tree, 31 leaves, max depth = 15, train loss: 0.04369, val loss: 0.05099, in 0.034s\n",
            "[1527/4000] 1 tree, 31 leaves, max depth = 13, train loss: 0.04368, val loss: 0.05099, in 0.032s\n",
            "[1528/4000] 1 tree, 31 leaves, max depth = 11, train loss: 0.04368, val loss: 0.05099, in 0.032s\n",
            "[1529/4000] 1 tree, 31 leaves, max depth = 9, train loss: 0.04368, val loss: 0.05099, in 0.033s\n",
            "[1530/4000] 1 tree, 31 leaves, max depth = 16, train loss: 0.04367, val loss: 0.05099, in 0.030s\n",
            "[1531/4000] 1 tree, 31 leaves, max depth = 15, train loss: 0.04367, val loss: 0.05099, in 0.030s\n",
            "[1532/4000] 1 tree, 31 leaves, max depth = 11, train loss: 0.04367, val loss: 0.05099, in 0.032s\n",
            "[1533/4000] 1 tree, 31 leaves, max depth = 10, train loss: 0.04366, val loss: 0.05099, in 0.031s\n",
            "[1534/4000] 1 tree, 31 leaves, max depth = 11, train loss: 0.04366, val loss: 0.05099, in 0.032s\n",
            "[1535/4000] 1 tree, 31 leaves, max depth = 16, train loss: 0.04365, val loss: 0.05099, in 0.046s\n",
            "[1536/4000] 1 tree, 31 leaves, max depth = 9, train loss: 0.04365, val loss: 0.05099, in 0.031s\n",
            "[1537/4000] 1 tree, 31 leaves, max depth = 13, train loss: 0.04365, val loss: 0.05099, in 0.028s\n",
            "[1538/4000] 1 tree, 31 leaves, max depth = 11, train loss: 0.04364, val loss: 0.05099, in 0.031s\n",
            "[1539/4000] 1 tree, 31 leaves, max depth = 14, train loss: 0.04364, val loss: 0.05099, in 0.030s\n",
            "[1540/4000] 1 tree, 31 leaves, max depth = 12, train loss: 0.04364, val loss: 0.05099, in 0.032s\n",
            "[1541/4000] 1 tree, 31 leaves, max depth = 9, train loss: 0.04363, val loss: 0.05099, in 0.032s\n",
            "[1542/4000] 1 tree, 31 leaves, max depth = 15, train loss: 0.04363, val loss: 0.05099, in 0.029s\n",
            "[1543/4000] 1 tree, 31 leaves, max depth = 13, train loss: 0.04362, val loss: 0.05099, in 0.032s\n",
            "[1544/4000] 1 tree, 31 leaves, max depth = 10, train loss: 0.04362, val loss: 0.05099, in 0.032s\n",
            "[1545/4000] 1 tree, 31 leaves, max depth = 10, train loss: 0.04362, val loss: 0.05099, in 0.033s\n",
            "[1546/4000] 1 tree, 31 leaves, max depth = 15, train loss: 0.04361, val loss: 0.05099, in 0.031s\n",
            "[1547/4000] 1 tree, 31 leaves, max depth = 16, train loss: 0.04361, val loss: 0.05099, in 0.032s\n",
            "[1548/4000] 1 tree, 31 leaves, max depth = 10, train loss: 0.04361, val loss: 0.05099, in 0.031s\n",
            "[1549/4000] 1 tree, 31 leaves, max depth = 11, train loss: 0.04360, val loss: 0.05099, in 0.030s\n",
            "[1550/4000] 1 tree, 31 leaves, max depth = 14, train loss: 0.04360, val loss: 0.05099, in 0.029s\n",
            "[1551/4000] 1 tree, 31 leaves, max depth = 11, train loss: 0.04360, val loss: 0.05099, in 0.031s\n",
            "[1552/4000] 1 tree, 31 leaves, max depth = 14, train loss: 0.04359, val loss: 0.05099, in 0.033s\n",
            "[1553/4000] 1 tree, 31 leaves, max depth = 10, train loss: 0.04359, val loss: 0.05099, in 0.030s\n",
            "[1554/4000] 1 tree, 31 leaves, max depth = 15, train loss: 0.04359, val loss: 0.05099, in 0.036s\n",
            "[1555/4000] 1 tree, 31 leaves, max depth = 12, train loss: 0.04358, val loss: 0.05099, in 0.034s\n",
            "[1556/4000] 1 tree, 31 leaves, max depth = 9, train loss: 0.04358, val loss: 0.05099, in 0.037s\n",
            "[1557/4000] 1 tree, 31 leaves, max depth = 12, train loss: 0.04358, val loss: 0.05099, in 0.028s\n",
            "[1558/4000] 1 tree, 31 leaves, max depth = 12, train loss: 0.04358, val loss: 0.05099, in 0.035s\n",
            "[1559/4000] 1 tree, 31 leaves, max depth = 13, train loss: 0.04357, val loss: 0.05099, in 0.046s\n",
            "[1560/4000] 1 tree, 31 leaves, max depth = 12, train loss: 0.04357, val loss: 0.05099, in 0.029s\n",
            "[1561/4000] 1 tree, 31 leaves, max depth = 12, train loss: 0.04357, val loss: 0.05099, in 0.030s\n",
            "[1562/4000] 1 tree, 31 leaves, max depth = 13, train loss: 0.04356, val loss: 0.05099, in 0.029s\n",
            "[1563/4000] 1 tree, 31 leaves, max depth = 10, train loss: 0.04356, val loss: 0.05099, in 0.033s\n",
            "[1564/4000] 1 tree, 31 leaves, max depth = 12, train loss: 0.04356, val loss: 0.05099, in 0.033s\n",
            "[1565/4000] 1 tree, 31 leaves, max depth = 9, train loss: 0.04355, val loss: 0.05099, in 0.035s\n",
            "[1566/4000] 1 tree, 31 leaves, max depth = 17, train loss: 0.04355, val loss: 0.05099, in 0.029s\n",
            "[1567/4000] 1 tree, 31 leaves, max depth = 14, train loss: 0.04355, val loss: 0.05099, in 0.030s\n",
            "[1568/4000] 1 tree, 31 leaves, max depth = 13, train loss: 0.04354, val loss: 0.05099, in 0.031s\n",
            "[1569/4000] 1 tree, 31 leaves, max depth = 11, train loss: 0.04354, val loss: 0.05099, in 0.033s\n",
            "[1570/4000] 1 tree, 31 leaves, max depth = 13, train loss: 0.04354, val loss: 0.05099, in 0.033s\n",
            "[1571/4000] 1 tree, 31 leaves, max depth = 16, train loss: 0.04354, val loss: 0.05099, in 0.032s\n",
            "[1572/4000] 1 tree, 31 leaves, max depth = 11, train loss: 0.04353, val loss: 0.05099, in 0.032s\n",
            "[1573/4000] 1 tree, 31 leaves, max depth = 10, train loss: 0.04353, val loss: 0.05099, in 0.034s\n",
            "[1574/4000] 1 tree, 31 leaves, max depth = 9, train loss: 0.04352, val loss: 0.05099, in 0.033s\n",
            "[1575/4000] 1 tree, 31 leaves, max depth = 10, train loss: 0.04352, val loss: 0.05099, in 0.030s\n",
            "[1576/4000] 1 tree, 31 leaves, max depth = 9, train loss: 0.04352, val loss: 0.05099, in 0.030s\n",
            "[1577/4000] 1 tree, 31 leaves, max depth = 13, train loss: 0.04351, val loss: 0.05099, in 0.035s\n",
            "[1578/4000] 1 tree, 31 leaves, max depth = 15, train loss: 0.04351, val loss: 0.05099, in 0.032s\n",
            "[1579/4000] 1 tree, 31 leaves, max depth = 11, train loss: 0.04351, val loss: 0.05099, in 0.031s\n",
            "[1580/4000] 1 tree, 31 leaves, max depth = 11, train loss: 0.04350, val loss: 0.05098, in 0.035s\n",
            "[1581/4000] 1 tree, 31 leaves, max depth = 11, train loss: 0.04350, val loss: 0.05098, in 0.033s\n",
            "[1582/4000] 1 tree, 31 leaves, max depth = 18, train loss: 0.04349, val loss: 0.05098, in 0.030s\n",
            "[1583/4000] 1 tree, 31 leaves, max depth = 10, train loss: 0.04349, val loss: 0.05098, in 0.035s\n",
            "[1584/4000] 1 tree, 31 leaves, max depth = 13, train loss: 0.04348, val loss: 0.05098, in 0.041s\n",
            "[1585/4000] 1 tree, 31 leaves, max depth = 15, train loss: 0.04348, val loss: 0.05099, in 0.028s\n",
            "[1586/4000] 1 tree, 31 leaves, max depth = 11, train loss: 0.04348, val loss: 0.05099, in 0.033s\n",
            "[1587/4000] 1 tree, 31 leaves, max depth = 10, train loss: 0.04347, val loss: 0.05098, in 0.030s\n",
            "[1588/4000] 1 tree, 31 leaves, max depth = 13, train loss: 0.04347, val loss: 0.05099, in 0.031s\n",
            "[1589/4000] 1 tree, 31 leaves, max depth = 9, train loss: 0.04347, val loss: 0.05098, in 0.033s\n",
            "[1590/4000] 1 tree, 31 leaves, max depth = 12, train loss: 0.04346, val loss: 0.05098, in 0.033s\n",
            "[1591/4000] 1 tree, 31 leaves, max depth = 12, train loss: 0.04346, val loss: 0.05098, in 0.029s\n",
            "[1592/4000] 1 tree, 31 leaves, max depth = 16, train loss: 0.04346, val loss: 0.05099, in 0.032s\n",
            "[1593/4000] 1 tree, 31 leaves, max depth = 12, train loss: 0.04345, val loss: 0.05099, in 0.029s\n",
            "[1594/4000] 1 tree, 31 leaves, max depth = 10, train loss: 0.04345, val loss: 0.05099, in 0.031s\n",
            "[1595/4000] 1 tree, 31 leaves, max depth = 13, train loss: 0.04345, val loss: 0.05098, in 0.029s\n",
            "[1596/4000] 1 tree, 31 leaves, max depth = 12, train loss: 0.04344, val loss: 0.05098, in 0.030s\n",
            "[1597/4000] 1 tree, 31 leaves, max depth = 17, train loss: 0.04344, val loss: 0.05099, in 0.031s\n",
            "[1598/4000] 1 tree, 31 leaves, max depth = 11, train loss: 0.04344, val loss: 0.05098, in 0.031s\n",
            "[1599/4000] 1 tree, 31 leaves, max depth = 12, train loss: 0.04343, val loss: 0.05098, in 0.029s\n",
            "[1600/4000] 1 tree, 31 leaves, max depth = 10, train loss: 0.04343, val loss: 0.05098, in 0.030s\n",
            "[1601/4000] 1 tree, 31 leaves, max depth = 14, train loss: 0.04343, val loss: 0.05098, in 0.031s\n",
            "[1602/4000] 1 tree, 31 leaves, max depth = 12, train loss: 0.04342, val loss: 0.05098, in 0.030s\n",
            "[1603/4000] 1 tree, 31 leaves, max depth = 12, train loss: 0.04342, val loss: 0.05098, in 0.033s\n",
            "[1604/4000] 1 tree, 31 leaves, max depth = 12, train loss: 0.04341, val loss: 0.05098, in 0.030s\n",
            "[1605/4000] 1 tree, 31 leaves, max depth = 19, train loss: 0.04341, val loss: 0.05098, in 0.031s\n",
            "[1606/4000] 1 tree, 31 leaves, max depth = 13, train loss: 0.04341, val loss: 0.05098, in 0.032s\n",
            "[1607/4000] 1 tree, 31 leaves, max depth = 19, train loss: 0.04341, val loss: 0.05098, in 0.030s\n",
            "[1608/4000] 1 tree, 31 leaves, max depth = 11, train loss: 0.04341, val loss: 0.05098, in 0.042s\n",
            "[1609/4000] 1 tree, 31 leaves, max depth = 15, train loss: 0.04340, val loss: 0.05099, in 0.031s\n",
            "[1610/4000] 1 tree, 31 leaves, max depth = 14, train loss: 0.04340, val loss: 0.05099, in 0.033s\n",
            "[1611/4000] 1 tree, 31 leaves, max depth = 8, train loss: 0.04339, val loss: 0.05098, in 0.030s\n",
            "[1612/4000] 1 tree, 31 leaves, max depth = 13, train loss: 0.04339, val loss: 0.05098, in 0.030s\n",
            "[1613/4000] 1 tree, 31 leaves, max depth = 10, train loss: 0.04339, val loss: 0.05098, in 0.030s\n",
            "[1614/4000] 1 tree, 31 leaves, max depth = 17, train loss: 0.04339, val loss: 0.05098, in 0.031s\n",
            "[1615/4000] 1 tree, 31 leaves, max depth = 10, train loss: 0.04338, val loss: 0.05098, in 0.034s\n",
            "[1616/4000] 1 tree, 31 leaves, max depth = 13, train loss: 0.04338, val loss: 0.05099, in 0.033s\n",
            "[1617/4000] 1 tree, 31 leaves, max depth = 13, train loss: 0.04337, val loss: 0.05099, in 0.034s\n",
            "[1618/4000] 1 tree, 31 leaves, max depth = 16, train loss: 0.04337, val loss: 0.05099, in 0.033s\n",
            "[1619/4000] 1 tree, 31 leaves, max depth = 13, train loss: 0.04337, val loss: 0.05099, in 0.048s\n",
            "[1620/4000] 1 tree, 31 leaves, max depth = 12, train loss: 0.04336, val loss: 0.05099, in 0.031s\n",
            "[1621/4000] 1 tree, 31 leaves, max depth = 10, train loss: 0.04336, val loss: 0.05099, in 0.033s\n",
            "[1622/4000] 1 tree, 31 leaves, max depth = 13, train loss: 0.04335, val loss: 0.05099, in 0.031s\n",
            "[1623/4000] 1 tree, 31 leaves, max depth = 11, train loss: 0.04335, val loss: 0.05099, in 0.030s\n",
            "[1624/4000] 1 tree, 31 leaves, max depth = 14, train loss: 0.04334, val loss: 0.05099, in 0.032s\n",
            "[1625/4000] 1 tree, 31 leaves, max depth = 8, train loss: 0.04334, val loss: 0.05099, in 0.034s\n",
            "[1626/4000] 1 tree, 31 leaves, max depth = 11, train loss: 0.04333, val loss: 0.05099, in 0.030s\n",
            "[1627/4000] 1 tree, 31 leaves, max depth = 8, train loss: 0.04333, val loss: 0.05099, in 0.034s\n",
            "[1628/4000] 1 tree, 31 leaves, max depth = 9, train loss: 0.04333, val loss: 0.05099, in 0.036s\n",
            "[1629/4000] 1 tree, 31 leaves, max depth = 16, train loss: 0.04332, val loss: 0.05099, in 0.028s\n",
            "[1630/4000] 1 tree, 31 leaves, max depth = 13, train loss: 0.04332, val loss: 0.05099, in 0.030s\n",
            "[1631/4000] 1 tree, 31 leaves, max depth = 14, train loss: 0.04332, val loss: 0.05099, in 0.035s\n",
            "[1632/4000] 1 tree, 31 leaves, max depth = 9, train loss: 0.04332, val loss: 0.05099, in 0.046s\n",
            "[1633/4000] 1 tree, 31 leaves, max depth = 9, train loss: 0.04331, val loss: 0.05098, in 0.032s\n",
            "[1634/4000] 1 tree, 31 leaves, max depth = 13, train loss: 0.04331, val loss: 0.05099, in 0.038s\n",
            "[1635/4000] 1 tree, 31 leaves, max depth = 10, train loss: 0.04330, val loss: 0.05099, in 0.031s\n",
            "[1636/4000] 1 tree, 31 leaves, max depth = 20, train loss: 0.04330, val loss: 0.05099, in 0.028s\n",
            "[1637/4000] 1 tree, 31 leaves, max depth = 17, train loss: 0.04330, val loss: 0.05099, in 0.032s\n",
            "[1638/4000] 1 tree, 31 leaves, max depth = 11, train loss: 0.04329, val loss: 0.05099, in 0.032s\n",
            "[1639/4000] 1 tree, 31 leaves, max depth = 10, train loss: 0.04329, val loss: 0.05099, in 0.030s\n",
            "[1640/4000] 1 tree, 31 leaves, max depth = 13, train loss: 0.04329, val loss: 0.05099, in 0.033s\n",
            "[1641/4000] 1 tree, 31 leaves, max depth = 19, train loss: 0.04328, val loss: 0.05099, in 0.030s\n",
            "[1642/4000] 1 tree, 31 leaves, max depth = 14, train loss: 0.04328, val loss: 0.05099, in 0.035s\n",
            "[1643/4000] 1 tree, 31 leaves, max depth = 16, train loss: 0.04328, val loss: 0.05099, in 0.031s\n",
            "[1644/4000] 1 tree, 31 leaves, max depth = 13, train loss: 0.04327, val loss: 0.05099, in 0.036s\n",
            "[1645/4000] 1 tree, 31 leaves, max depth = 10, train loss: 0.04327, val loss: 0.05099, in 0.034s\n",
            "[1646/4000] 1 tree, 31 leaves, max depth = 9, train loss: 0.04326, val loss: 0.05099, in 0.032s\n",
            "[1647/4000] 1 tree, 31 leaves, max depth = 13, train loss: 0.04326, val loss: 0.05099, in 0.031s\n",
            "[1648/4000] 1 tree, 31 leaves, max depth = 15, train loss: 0.04326, val loss: 0.05099, in 0.030s\n",
            "[1649/4000] 1 tree, 31 leaves, max depth = 11, train loss: 0.04326, val loss: 0.05099, in 0.029s\n",
            "[1650/4000] 1 tree, 31 leaves, max depth = 12, train loss: 0.04325, val loss: 0.05099, in 0.031s\n",
            "[1651/4000] 1 tree, 31 leaves, max depth = 13, train loss: 0.04325, val loss: 0.05099, in 0.031s\n",
            "[1652/4000] 1 tree, 31 leaves, max depth = 11, train loss: 0.04325, val loss: 0.05099, in 0.031s\n",
            "[1653/4000] 1 tree, 31 leaves, max depth = 15, train loss: 0.04324, val loss: 0.05099, in 0.029s\n",
            "[1654/4000] 1 tree, 31 leaves, max depth = 17, train loss: 0.04324, val loss: 0.05099, in 0.036s\n",
            "[1655/4000] 1 tree, 31 leaves, max depth = 15, train loss: 0.04324, val loss: 0.05099, in 0.035s\n",
            "[1656/4000] 1 tree, 31 leaves, max depth = 9, train loss: 0.04323, val loss: 0.05099, in 0.044s\n",
            "[1657/4000] 1 tree, 31 leaves, max depth = 10, train loss: 0.04323, val loss: 0.05099, in 0.030s\n",
            "[1658/4000] 1 tree, 31 leaves, max depth = 13, train loss: 0.04323, val loss: 0.05099, in 0.031s\n",
            "[1659/4000] 1 tree, 31 leaves, max depth = 17, train loss: 0.04323, val loss: 0.05099, in 0.028s\n",
            "[1660/4000] 1 tree, 31 leaves, max depth = 14, train loss: 0.04322, val loss: 0.05099, in 0.030s\n",
            "[1661/4000] 1 tree, 31 leaves, max depth = 20, train loss: 0.04322, val loss: 0.05099, in 0.029s\n",
            "[1662/4000] 1 tree, 31 leaves, max depth = 16, train loss: 0.04322, val loss: 0.05100, in 0.032s\n",
            "[1663/4000] 1 tree, 31 leaves, max depth = 13, train loss: 0.04322, val loss: 0.05100, in 0.030s\n",
            "[1664/4000] 1 tree, 31 leaves, max depth = 12, train loss: 0.04321, val loss: 0.05100, in 0.030s\n",
            "[1665/4000] 1 tree, 31 leaves, max depth = 10, train loss: 0.04321, val loss: 0.05100, in 0.035s\n",
            "[1666/4000] 1 tree, 31 leaves, max depth = 11, train loss: 0.04320, val loss: 0.05100, in 0.032s\n",
            "[1667/4000] 1 tree, 31 leaves, max depth = 10, train loss: 0.04320, val loss: 0.05100, in 0.034s\n",
            "[1668/4000] 1 tree, 31 leaves, max depth = 12, train loss: 0.04319, val loss: 0.05100, in 0.032s\n",
            "[1669/4000] 1 tree, 31 leaves, max depth = 16, train loss: 0.04319, val loss: 0.05101, in 0.032s\n",
            "[1670/4000] 1 tree, 31 leaves, max depth = 10, train loss: 0.04319, val loss: 0.05101, in 0.049s\n",
            "[1671/4000] 1 tree, 31 leaves, max depth = 13, train loss: 0.04318, val loss: 0.05101, in 0.035s\n",
            "[1672/4000] 1 tree, 31 leaves, max depth = 8, train loss: 0.04318, val loss: 0.05101, in 0.041s\n",
            "[1673/4000] 1 tree, 31 leaves, max depth = 11, train loss: 0.04318, val loss: 0.05101, in 0.036s\n",
            "[1674/4000] 1 tree, 31 leaves, max depth = 11, train loss: 0.04318, val loss: 0.05101, in 0.035s\n",
            "[1675/4000] 1 tree, 31 leaves, max depth = 15, train loss: 0.04317, val loss: 0.05100, in 0.032s\n",
            "[1676/4000] 1 tree, 31 leaves, max depth = 12, train loss: 0.04317, val loss: 0.05101, in 0.029s\n",
            "[1677/4000] 1 tree, 31 leaves, max depth = 17, train loss: 0.04317, val loss: 0.05101, in 0.030s\n",
            "[1678/4000] 1 tree, 31 leaves, max depth = 14, train loss: 0.04317, val loss: 0.05100, in 0.033s\n",
            "[1679/4000] 1 tree, 31 leaves, max depth = 13, train loss: 0.04316, val loss: 0.05100, in 0.043s\n",
            "[1680/4000] 1 tree, 31 leaves, max depth = 12, train loss: 0.04316, val loss: 0.05101, in 0.080s\n",
            "[1681/4000] 1 tree, 31 leaves, max depth = 11, train loss: 0.04315, val loss: 0.05101, in 0.030s\n",
            "[1682/4000] 1 tree, 31 leaves, max depth = 10, train loss: 0.04315, val loss: 0.05100, in 0.035s\n",
            "[1683/4000] 1 tree, 31 leaves, max depth = 13, train loss: 0.04315, val loss: 0.05100, in 0.030s\n",
            "[1684/4000] 1 tree, 31 leaves, max depth = 13, train loss: 0.04315, val loss: 0.05100, in 0.030s\n",
            "[1685/4000] 1 tree, 31 leaves, max depth = 10, train loss: 0.04314, val loss: 0.05100, in 0.032s\n",
            "[1686/4000] 1 tree, 31 leaves, max depth = 15, train loss: 0.04314, val loss: 0.05100, in 0.027s\n",
            "[1687/4000] 1 tree, 31 leaves, max depth = 13, train loss: 0.04313, val loss: 0.05100, in 0.035s\n",
            "[1688/4000] 1 tree, 31 leaves, max depth = 11, train loss: 0.04313, val loss: 0.05100, in 0.033s\n",
            "[1689/4000] 1 tree, 31 leaves, max depth = 16, train loss: 0.04312, val loss: 0.05100, in 0.037s\n",
            "[1690/4000] 1 tree, 31 leaves, max depth = 15, train loss: 0.04312, val loss: 0.05100, in 0.031s\n",
            "[1691/4000] 1 tree, 31 leaves, max depth = 13, train loss: 0.04312, val loss: 0.05100, in 0.028s\n",
            "[1692/4000] 1 tree, 31 leaves, max depth = 18, train loss: 0.04312, val loss: 0.05100, in 0.032s\n",
            "Fit 1692 trees in 59.418 s, (52452 total leaves)\n",
            "Time spent computing histograms: 20.329s\n",
            "Time spent finding best splits:  1.740s\n",
            "Time spent applying splits:      4.091s\n",
            "Time spent predicting:           0.554s\n",
            "Fit End - Prediction Start \n"
          ]
        }
      ],
      "source": [
        "# explicitly require this experimental feature\n",
        "from sklearn.experimental import enable_hist_gradient_boosting  # noqa\n",
        "# now you can import normally from ensemble\n",
        "#from sklearn.ensemble import HistGradientBoostingClassifier\n",
        "from sklearn.ensemble import HistGradientBoostingRegressor\n",
        "from sklearn.ensemble import GradientBoostingClassifier\n",
        "#clf = GradientBoostingClassifier(random_state=0,n_estimators=5250, max_depth=43, verbose=3, tol=0.0001)\n",
        "#clf = HistGradientBoostingClassifier(random_state=1, max_depth=53, verbose=3, tol=0.000001, learning_rate=0.6, max_iter=2000,early_stopping=False,min_samples_leaf=5000, scoring=\"balanced_accuracy\")\n",
        "clf=HistGradientBoostingRegressor(random_state=1, max_depth=113, verbose=3, tol=0.00000001, learning_rate=0.1, max_iter=4000,early_stopping=True,min_samples_leaf=50, loss=\"poisson\",n_iter_no_change=80)\n",
        "\n",
        "clf.fit(X_train_train, y_train_train)\n",
        "print(\"Fit End - Prediction Start \")"
      ]
    },
    {
      "cell_type": "code",
      "execution_count": 177,
      "metadata": {},
      "outputs": [],
      "source": [
        "# test the training set\n",
        "#------------------------------------\n",
        "\n",
        "y_train_train_pred=clf.predict(X_train_train)\n",
        "\n",
        "\n",
        "#------------------------------------"
      ]
    },
    {
      "cell_type": "code",
      "execution_count": 182,
      "metadata": {},
      "outputs": [
        {
          "output_type": "stream",
          "name": "stdout",
          "text": [
            "[1.00000e+00 1.00000e+00 1.00000e+00 3.00000e+00 5.00000e+00 6.00000e+00\n 7.00000e+00 1.10000e+01 1.40000e+01 1.40000e+01 2.00000e+01 2.90000e+01\n 4.00000e+01 4.90000e+01 6.60000e+01 9.50000e+01 1.25000e+02 1.54000e+02\n 1.79000e+02 2.25000e+02 2.77000e+02 3.24000e+02 3.89000e+02 4.70000e+02\n 5.50000e+02 6.29000e+02 7.08000e+02 8.22000e+02 9.30000e+02 1.05200e+03\n 1.17600e+03 1.30900e+03 1.45300e+03 1.60700e+03 1.74300e+03 1.90300e+03\n 2.05400e+03 2.23200e+03 2.42600e+03 2.59700e+03 2.80300e+03 3.00000e+03\n 3.20500e+03 3.41500e+03 3.65500e+03 3.88900e+03 4.10300e+03 4.34000e+03\n 4.59200e+03 4.83200e+03 5.07700e+03 5.33200e+03 5.59800e+03 5.87800e+03\n 6.16200e+03 6.41900e+03 6.70000e+03 6.94400e+03 7.23700e+03 7.50300e+03\n 7.80600e+03 8.07800e+03 8.37900e+03 8.66900e+03 8.98300e+03 9.31500e+03\n 9.58800e+03 9.89200e+03 1.02160e+04 1.05170e+04 1.08540e+04 1.11710e+04\n 1.14820e+04 1.18440e+04 1.21750e+04 1.25650e+04 1.28710e+04 1.32500e+04\n 1.35810e+04 1.39020e+04 1.43150e+04 1.47050e+04 1.50640e+04 1.54580e+04\n 1.58670e+04 1.62720e+04 1.67200e+04 1.71190e+04 1.75270e+04 1.79970e+04\n 1.84670e+04 1.89540e+04 1.94570e+04 1.99550e+04 2.04600e+04 2.09960e+04\n 2.15420e+04 2.21360e+04 2.28320e+04 2.35040e+04 2.41970e+04 2.48820e+04\n 2.55780e+04 2.63190e+04 2.70650e+04 2.78650e+04 2.87010e+04 2.96170e+04\n 3.06320e+04 3.16700e+04 3.27070e+04 3.39250e+04 3.51030e+04 3.62700e+04\n 3.75420e+04 3.89680e+04 4.05020e+04 4.20900e+04 4.38070e+04 4.57400e+04\n 4.75570e+04 4.95920e+04 5.16370e+04 5.38920e+04 5.62550e+04 5.86670e+04\n 6.11180e+04 6.36140e+04 6.61240e+04 6.86090e+04 7.11110e+04 7.35170e+04\n 7.61030e+04 7.86670e+04 8.10990e+04 8.34830e+04 8.57630e+04 8.80310e+04\n 9.02010e+04 9.22180e+04 9.41770e+04 9.61410e+04 9.80520e+04 9.98380e+04\n 1.01603e+05 1.03247e+05 1.04993e+05 1.06672e+05 1.08328e+05 1.10011e+05\n 1.11794e+05 1.13460e+05 1.15110e+05 1.16716e+05 1.18291e+05 1.19849e+05\n 1.21458e+05 1.23058e+05 1.24605e+05 1.26142e+05 1.27679e+05 1.29156e+05\n 1.30586e+05 1.31911e+05 1.33371e+05 1.34730e+05 1.36066e+05 1.37459e+05\n 1.38799e+05 1.40090e+05 1.41340e+05 1.42524e+05 1.43765e+05 1.45040e+05\n 1.46200e+05 1.47329e+05 1.48399e+05 1.49488e+05 1.50584e+05 1.51653e+05\n 1.52677e+05 1.53701e+05 1.54682e+05 1.55639e+05 1.56585e+05 1.57528e+05\n 1.58474e+05 1.59397e+05 1.60333e+05 1.61303e+05 1.62222e+05 1.63111e+05\n 1.64131e+05 1.65039e+05 1.65968e+05 1.66982e+05 1.67986e+05 1.69048e+05\n 1.70104e+05 1.71278e+05 1.72348e+05 1.73446e+05 1.74442e+05 1.75375e+05\n 1.76273e+05 1.77109e+05 1.77884e+05 1.78534e+05 1.79098e+05 1.79619e+05\n 1.80147e+05 1.80548e+05 1.80910e+05 1.81214e+05 1.81451e+05 1.81634e+05\n 1.81787e+05 1.81908e+05 1.82028e+05 1.82100e+05 1.82160e+05 1.82222e+05\n 1.82252e+05 1.82275e+05 1.82304e+05 1.82322e+05 1.82345e+05 1.82367e+05\n 1.82374e+05 1.82383e+05 1.82392e+05 1.82401e+05 1.82406e+05 1.82409e+05\n 1.82410e+05 1.82412e+05 1.82414e+05 1.82414e+05 1.82414e+05 1.82415e+05\n 1.82416e+05 1.82418e+05 1.82418e+05 1.82419e+05 1.82419e+05 1.82419e+05\n 1.82419e+05 1.82419e+05 1.82419e+05 1.82420e+05]\n"
          ]
        },
        {
          "output_type": "display_data",
          "data": {
            "text/plain": "<Figure size 432x288 with 1 Axes>",
            "image/svg+xml": "<?xml version=\"1.0\" encoding=\"utf-8\" standalone=\"no\"?>\r\n<!DOCTYPE svg PUBLIC \"-//W3C//DTD SVG 1.1//EN\"\r\n  \"http://www.w3.org/Graphics/SVG/1.1/DTD/svg11.dtd\">\r\n<!-- Created with matplotlib (https://matplotlib.org/) -->\r\n<svg height=\"248.518125pt\" version=\"1.1\" viewBox=\"0 0 401.860698 248.518125\" width=\"401.860698pt\" xmlns=\"http://www.w3.org/2000/svg\" xmlns:xlink=\"http://www.w3.org/1999/xlink\">\r\n <metadata>\r\n  <rdf:RDF xmlns:cc=\"http://creativecommons.org/ns#\" xmlns:dc=\"http://purl.org/dc/elements/1.1/\" xmlns:rdf=\"http://www.w3.org/1999/02/22-rdf-syntax-ns#\">\r\n   <cc:Work>\r\n    <dc:type rdf:resource=\"http://purl.org/dc/dcmitype/StillImage\"/>\r\n    <dc:date>2020-12-14T19:46:08.402454</dc:date>\r\n    <dc:format>image/svg+xml</dc:format>\r\n    <dc:creator>\r\n     <cc:Agent>\r\n      <dc:title>Matplotlib v3.3.3, https://matplotlib.org/</dc:title>\r\n     </cc:Agent>\r\n    </dc:creator>\r\n   </cc:Work>\r\n  </rdf:RDF>\r\n </metadata>\r\n <defs>\r\n  <style type=\"text/css\">*{stroke-linecap:butt;stroke-linejoin:round;}</style>\r\n </defs>\r\n <g id=\"figure_1\">\r\n  <g id=\"patch_1\">\r\n   <path d=\"M 0 248.518125 \r\nL 401.860698 248.518125 \r\nL 401.860698 0 \r\nL 0 0 \r\nz\r\n\" style=\"fill:none;\"/>\r\n  </g>\r\n  <g id=\"axes_1\">\r\n   <g id=\"patch_2\">\r\n    <path d=\"M 52.375 224.64 \r\nL 387.175 224.64 \r\nL 387.175 7.2 \r\nL 52.375 7.2 \r\nz\r\n\" style=\"fill:#ffffff;\"/>\r\n   </g>\r\n   <g id=\"patch_3\">\r\n    <path clip-path=\"url(#pe4f7a55f68)\" d=\"M 67.593182 224.64 \r\nL 68.810636 224.64 \r\nL 68.810636 224.638865 \r\nL 67.593182 224.638865 \r\nz\r\n\" style=\"fill:#1f77b4;\"/>\r\n   </g>\r\n   <g id=\"patch_4\">\r\n    <path clip-path=\"url(#pe4f7a55f68)\" d=\"M 68.810636 224.64 \r\nL 70.028091 224.64 \r\nL 70.028091 224.638865 \r\nL 68.810636 224.638865 \r\nz\r\n\" style=\"fill:#1f77b4;\"/>\r\n   </g>\r\n   <g id=\"patch_5\">\r\n    <path clip-path=\"url(#pe4f7a55f68)\" d=\"M 70.028091 224.64 \r\nL 71.245545 224.64 \r\nL 71.245545 224.638865 \r\nL 70.028091 224.638865 \r\nz\r\n\" style=\"fill:#1f77b4;\"/>\r\n   </g>\r\n   <g id=\"patch_6\">\r\n    <path clip-path=\"url(#pe4f7a55f68)\" d=\"M 71.245545 224.64 \r\nL 72.463 224.64 \r\nL 72.463 224.636594 \r\nL 71.245545 224.636594 \r\nz\r\n\" style=\"fill:#1f77b4;\"/>\r\n   </g>\r\n   <g id=\"patch_7\">\r\n    <path clip-path=\"url(#pe4f7a55f68)\" d=\"M 72.463 224.64 \r\nL 73.680455 224.64 \r\nL 73.680455 224.634324 \r\nL 72.463 224.634324 \r\nz\r\n\" style=\"fill:#1f77b4;\"/>\r\n   </g>\r\n   <g id=\"patch_8\">\r\n    <path clip-path=\"url(#pe4f7a55f68)\" d=\"M 73.680455 224.64 \r\nL 74.897909 224.64 \r\nL 74.897909 224.633189 \r\nL 73.680455 224.633189 \r\nz\r\n\" style=\"fill:#1f77b4;\"/>\r\n   </g>\r\n   <g id=\"patch_9\">\r\n    <path clip-path=\"url(#pe4f7a55f68)\" d=\"M 74.897909 224.64 \r\nL 76.115364 224.64 \r\nL 76.115364 224.632054 \r\nL 74.897909 224.632054 \r\nz\r\n\" style=\"fill:#1f77b4;\"/>\r\n   </g>\r\n   <g id=\"patch_10\">\r\n    <path clip-path=\"url(#pe4f7a55f68)\" d=\"M 76.115364 224.64 \r\nL 77.332818 224.64 \r\nL 77.332818 224.627513 \r\nL 76.115364 224.627513 \r\nz\r\n\" style=\"fill:#1f77b4;\"/>\r\n   </g>\r\n   <g id=\"patch_11\">\r\n    <path clip-path=\"url(#pe4f7a55f68)\" d=\"M 77.332818 224.64 \r\nL 78.550273 224.64 \r\nL 78.550273 224.624107 \r\nL 77.332818 224.624107 \r\nz\r\n\" style=\"fill:#1f77b4;\"/>\r\n   </g>\r\n   <g id=\"patch_12\">\r\n    <path clip-path=\"url(#pe4f7a55f68)\" d=\"M 78.550273 224.64 \r\nL 79.767727 224.64 \r\nL 79.767727 224.624107 \r\nL 78.550273 224.624107 \r\nz\r\n\" style=\"fill:#1f77b4;\"/>\r\n   </g>\r\n   <g id=\"patch_13\">\r\n    <path clip-path=\"url(#pe4f7a55f68)\" d=\"M 79.767727 224.64 \r\nL 80.985182 224.64 \r\nL 80.985182 224.617296 \r\nL 79.767727 224.617296 \r\nz\r\n\" style=\"fill:#1f77b4;\"/>\r\n   </g>\r\n   <g id=\"patch_14\">\r\n    <path clip-path=\"url(#pe4f7a55f68)\" d=\"M 80.985182 224.64 \r\nL 82.202636 224.64 \r\nL 82.202636 224.607079 \r\nL 80.985182 224.607079 \r\nz\r\n\" style=\"fill:#1f77b4;\"/>\r\n   </g>\r\n   <g id=\"patch_15\">\r\n    <path clip-path=\"url(#pe4f7a55f68)\" d=\"M 82.202636 224.64 \r\nL 83.420091 224.64 \r\nL 83.420091 224.594591 \r\nL 82.202636 224.594591 \r\nz\r\n\" style=\"fill:#1f77b4;\"/>\r\n   </g>\r\n   <g id=\"patch_16\">\r\n    <path clip-path=\"url(#pe4f7a55f68)\" d=\"M 83.420091 224.64 \r\nL 84.637545 224.64 \r\nL 84.637545 224.584375 \r\nL 83.420091 224.584375 \r\nz\r\n\" style=\"fill:#1f77b4;\"/>\r\n   </g>\r\n   <g id=\"patch_17\">\r\n    <path clip-path=\"url(#pe4f7a55f68)\" d=\"M 84.637545 224.64 \r\nL 85.855 224.64 \r\nL 85.855 224.565076 \r\nL 84.637545 224.565076 \r\nz\r\n\" style=\"fill:#1f77b4;\"/>\r\n   </g>\r\n   <g id=\"patch_18\">\r\n    <path clip-path=\"url(#pe4f7a55f68)\" d=\"M 85.855 224.64 \r\nL 87.072455 224.64 \r\nL 87.072455 224.532155 \r\nL 85.855 224.532155 \r\nz\r\n\" style=\"fill:#1f77b4;\"/>\r\n   </g>\r\n   <g id=\"patch_19\">\r\n    <path clip-path=\"url(#pe4f7a55f68)\" d=\"M 87.072455 224.64 \r\nL 88.289909 224.64 \r\nL 88.289909 224.498098 \r\nL 87.072455 224.498098 \r\nz\r\n\" style=\"fill:#1f77b4;\"/>\r\n   </g>\r\n   <g id=\"patch_20\">\r\n    <path clip-path=\"url(#pe4f7a55f68)\" d=\"M 88.289909 224.64 \r\nL 89.507364 224.64 \r\nL 89.507364 224.465177 \r\nL 88.289909 224.465177 \r\nz\r\n\" style=\"fill:#1f77b4;\"/>\r\n   </g>\r\n   <g id=\"patch_21\">\r\n    <path clip-path=\"url(#pe4f7a55f68)\" d=\"M 89.507364 224.64 \r\nL 90.724818 224.64 \r\nL 90.724818 224.436797 \r\nL 89.507364 224.436797 \r\nz\r\n\" style=\"fill:#1f77b4;\"/>\r\n   </g>\r\n   <g id=\"patch_22\">\r\n    <path clip-path=\"url(#pe4f7a55f68)\" d=\"M 90.724818 224.64 \r\nL 91.942273 224.64 \r\nL 91.942273 224.384577 \r\nL 90.724818 224.384577 \r\nz\r\n\" style=\"fill:#1f77b4;\"/>\r\n   </g>\r\n   <g id=\"patch_23\">\r\n    <path clip-path=\"url(#pe4f7a55f68)\" d=\"M 91.942273 224.64 \r\nL 93.159727 224.64 \r\nL 93.159727 224.325546 \r\nL 91.942273 224.325546 \r\nz\r\n\" style=\"fill:#1f77b4;\"/>\r\n   </g>\r\n   <g id=\"patch_24\">\r\n    <path clip-path=\"url(#pe4f7a55f68)\" d=\"M 93.159727 224.64 \r\nL 94.377182 224.64 \r\nL 94.377182 224.272191 \r\nL 93.159727 224.272191 \r\nz\r\n\" style=\"fill:#1f77b4;\"/>\r\n   </g>\r\n   <g id=\"patch_25\">\r\n    <path clip-path=\"url(#pe4f7a55f68)\" d=\"M 94.377182 224.64 \r\nL 95.594636 224.64 \r\nL 95.594636 224.198402 \r\nL 94.377182 224.198402 \r\nz\r\n\" style=\"fill:#1f77b4;\"/>\r\n   </g>\r\n   <g id=\"patch_26\">\r\n    <path clip-path=\"url(#pe4f7a55f68)\" d=\"M 95.594636 224.64 \r\nL 96.812091 224.64 \r\nL 96.812091 224.106449 \r\nL 95.594636 224.106449 \r\nz\r\n\" style=\"fill:#1f77b4;\"/>\r\n   </g>\r\n   <g id=\"patch_27\">\r\n    <path clip-path=\"url(#pe4f7a55f68)\" d=\"M 96.812091 224.64 \r\nL 98.029545 224.64 \r\nL 98.029545 224.015632 \r\nL 96.812091 224.015632 \r\nz\r\n\" style=\"fill:#1f77b4;\"/>\r\n   </g>\r\n   <g id=\"patch_28\">\r\n    <path clip-path=\"url(#pe4f7a55f68)\" d=\"M 98.029545 224.64 \r\nL 99.247 224.64 \r\nL 99.247 223.92595 \r\nL 98.029545 223.92595 \r\nz\r\n\" style=\"fill:#1f77b4;\"/>\r\n   </g>\r\n   <g id=\"patch_29\">\r\n    <path clip-path=\"url(#pe4f7a55f68)\" d=\"M 99.247 224.64 \r\nL 100.464455 224.64 \r\nL 100.464455 223.836269 \r\nL 99.247 223.836269 \r\nz\r\n\" style=\"fill:#1f77b4;\"/>\r\n   </g>\r\n   <g id=\"patch_30\">\r\n    <path clip-path=\"url(#pe4f7a55f68)\" d=\"M 100.464455 224.64 \r\nL 101.681909 224.64 \r\nL 101.681909 223.706854 \r\nL 100.464455 223.706854 \r\nz\r\n\" style=\"fill:#1f77b4;\"/>\r\n   </g>\r\n   <g id=\"patch_31\">\r\n    <path clip-path=\"url(#pe4f7a55f68)\" d=\"M 101.681909 224.64 \r\nL 102.899364 224.64 \r\nL 102.899364 223.584251 \r\nL 101.681909 223.584251 \r\nz\r\n\" style=\"fill:#1f77b4;\"/>\r\n   </g>\r\n   <g id=\"patch_32\">\r\n    <path clip-path=\"url(#pe4f7a55f68)\" d=\"M 102.899364 224.64 \r\nL 104.116818 224.64 \r\nL 104.116818 223.445755 \r\nL 102.899364 223.445755 \r\nz\r\n\" style=\"fill:#1f77b4;\"/>\r\n   </g>\r\n   <g id=\"patch_33\">\r\n    <path clip-path=\"url(#pe4f7a55f68)\" d=\"M 104.116818 224.64 \r\nL 105.334273 224.64 \r\nL 105.334273 223.304988 \r\nL 104.116818 223.304988 \r\nz\r\n\" style=\"fill:#1f77b4;\"/>\r\n   </g>\r\n   <g id=\"patch_34\">\r\n    <path clip-path=\"url(#pe4f7a55f68)\" d=\"M 105.334273 224.64 \r\nL 106.551727 224.64 \r\nL 106.551727 223.154005 \r\nL 105.334273 223.154005 \r\nz\r\n\" style=\"fill:#1f77b4;\"/>\r\n   </g>\r\n   <g id=\"patch_35\">\r\n    <path clip-path=\"url(#pe4f7a55f68)\" d=\"M 106.551727 224.64 \r\nL 107.769182 224.64 \r\nL 107.769182 222.990534 \r\nL 106.551727 222.990534 \r\nz\r\n\" style=\"fill:#1f77b4;\"/>\r\n   </g>\r\n   <g id=\"patch_36\">\r\n    <path clip-path=\"url(#pe4f7a55f68)\" d=\"M 107.769182 224.64 \r\nL 108.986636 224.64 \r\nL 108.986636 222.815711 \r\nL 107.769182 222.815711 \r\nz\r\n\" style=\"fill:#1f77b4;\"/>\r\n   </g>\r\n   <g id=\"patch_37\">\r\n    <path clip-path=\"url(#pe4f7a55f68)\" d=\"M 108.986636 224.64 \r\nL 110.204091 224.64 \r\nL 110.204091 222.661322 \r\nL 108.986636 222.661322 \r\nz\r\n\" style=\"fill:#1f77b4;\"/>\r\n   </g>\r\n   <g id=\"patch_38\">\r\n    <path clip-path=\"url(#pe4f7a55f68)\" d=\"M 110.204091 224.64 \r\nL 111.421545 224.64 \r\nL 111.421545 222.479688 \r\nL 110.204091 222.479688 \r\nz\r\n\" style=\"fill:#1f77b4;\"/>\r\n   </g>\r\n   <g id=\"patch_39\">\r\n    <path clip-path=\"url(#pe4f7a55f68)\" d=\"M 111.421545 224.64 \r\nL 112.639 224.64 \r\nL 112.639 222.308271 \r\nL 111.421545 222.308271 \r\nz\r\n\" style=\"fill:#1f77b4;\"/>\r\n   </g>\r\n   <g id=\"patch_40\">\r\n    <path clip-path=\"url(#pe4f7a55f68)\" d=\"M 112.639 224.64 \r\nL 113.856455 224.64 \r\nL 113.856455 222.106203 \r\nL 112.639 222.106203 \r\nz\r\n\" style=\"fill:#1f77b4;\"/>\r\n   </g>\r\n   <g id=\"patch_41\">\r\n    <path clip-path=\"url(#pe4f7a55f68)\" d=\"M 113.856455 224.64 \r\nL 115.073909 224.64 \r\nL 115.073909 221.885971 \r\nL 113.856455 221.885971 \r\nz\r\n\" style=\"fill:#1f77b4;\"/>\r\n   </g>\r\n   <g id=\"patch_42\">\r\n    <path clip-path=\"url(#pe4f7a55f68)\" d=\"M 115.073909 224.64 \r\nL 116.291364 224.64 \r\nL 116.291364 221.69185 \r\nL 115.073909 221.69185 \r\nz\r\n\" style=\"fill:#1f77b4;\"/>\r\n   </g>\r\n   <g id=\"patch_43\">\r\n    <path clip-path=\"url(#pe4f7a55f68)\" d=\"M 116.291364 224.64 \r\nL 117.508818 224.64 \r\nL 117.508818 221.457996 \r\nL 116.291364 221.457996 \r\nz\r\n\" style=\"fill:#1f77b4;\"/>\r\n   </g>\r\n   <g id=\"patch_44\">\r\n    <path clip-path=\"url(#pe4f7a55f68)\" d=\"M 117.508818 224.64 \r\nL 118.726273 224.64 \r\nL 118.726273 221.234358 \r\nL 117.508818 221.234358 \r\nz\r\n\" style=\"fill:#1f77b4;\"/>\r\n   </g>\r\n   <g id=\"patch_45\">\r\n    <path clip-path=\"url(#pe4f7a55f68)\" d=\"M 118.726273 224.64 \r\nL 119.943727 224.64 \r\nL 119.943727 221.00164 \r\nL 118.726273 221.00164 \r\nz\r\n\" style=\"fill:#1f77b4;\"/>\r\n   </g>\r\n   <g id=\"patch_46\">\r\n    <path clip-path=\"url(#pe4f7a55f68)\" d=\"M 119.943727 224.64 \r\nL 121.161182 224.64 \r\nL 121.161182 220.763245 \r\nL 119.943727 220.763245 \r\nz\r\n\" style=\"fill:#1f77b4;\"/>\r\n   </g>\r\n   <g id=\"patch_47\">\r\n    <path clip-path=\"url(#pe4f7a55f68)\" d=\"M 121.161182 224.64 \r\nL 122.378636 224.64 \r\nL 122.378636 220.490793 \r\nL 121.161182 220.490793 \r\nz\r\n\" style=\"fill:#1f77b4;\"/>\r\n   </g>\r\n   <g id=\"patch_48\">\r\n    <path clip-path=\"url(#pe4f7a55f68)\" d=\"M 122.378636 224.64 \r\nL 123.596091 224.64 \r\nL 123.596091 220.225153 \r\nL 122.378636 220.225153 \r\nz\r\n\" style=\"fill:#1f77b4;\"/>\r\n   </g>\r\n   <g id=\"patch_49\">\r\n    <path clip-path=\"url(#pe4f7a55f68)\" d=\"M 123.596091 224.64 \r\nL 124.813545 224.64 \r\nL 124.813545 219.982217 \r\nL 123.596091 219.982217 \r\nz\r\n\" style=\"fill:#1f77b4;\"/>\r\n   </g>\r\n   <g id=\"patch_50\">\r\n    <path clip-path=\"url(#pe4f7a55f68)\" d=\"M 124.813545 224.64 \r\nL 126.031 224.64 \r\nL 126.031 219.713172 \r\nL 124.813545 219.713172 \r\nz\r\n\" style=\"fill:#1f77b4;\"/>\r\n   </g>\r\n   <g id=\"patch_51\">\r\n    <path clip-path=\"url(#pe4f7a55f68)\" d=\"M 126.031 224.64 \r\nL 127.248455 224.64 \r\nL 127.248455 219.427098 \r\nL 126.031 219.427098 \r\nz\r\n\" style=\"fill:#1f77b4;\"/>\r\n   </g>\r\n   <g id=\"patch_52\">\r\n    <path clip-path=\"url(#pe4f7a55f68)\" d=\"M 127.248455 224.64 \r\nL 128.465909 224.64 \r\nL 128.465909 219.154647 \r\nL 127.248455 219.154647 \r\nz\r\n\" style=\"fill:#1f77b4;\"/>\r\n   </g>\r\n   <g id=\"patch_53\">\r\n    <path clip-path=\"url(#pe4f7a55f68)\" d=\"M 128.465909 224.64 \r\nL 129.683364 224.64 \r\nL 129.683364 218.876519 \r\nL 128.465909 218.876519 \r\nz\r\n\" style=\"fill:#1f77b4;\"/>\r\n   </g>\r\n   <g id=\"patch_54\">\r\n    <path clip-path=\"url(#pe4f7a55f68)\" d=\"M 129.683364 224.64 \r\nL 130.900818 224.64 \r\nL 130.900818 218.58704 \r\nL 129.683364 218.58704 \r\nz\r\n\" style=\"fill:#1f77b4;\"/>\r\n   </g>\r\n   <g id=\"patch_55\">\r\n    <path clip-path=\"url(#pe4f7a55f68)\" d=\"M 130.900818 224.64 \r\nL 132.118273 224.64 \r\nL 132.118273 218.285073 \r\nL 130.900818 218.285073 \r\nz\r\n\" style=\"fill:#1f77b4;\"/>\r\n   </g>\r\n   <g id=\"patch_56\">\r\n    <path clip-path=\"url(#pe4f7a55f68)\" d=\"M 132.118273 224.64 \r\nL 133.335727 224.64 \r\nL 133.335727 217.967213 \r\nL 132.118273 217.967213 \r\nz\r\n\" style=\"fill:#1f77b4;\"/>\r\n   </g>\r\n   <g id=\"patch_57\">\r\n    <path clip-path=\"url(#pe4f7a55f68)\" d=\"M 133.335727 224.64 \r\nL 134.553182 224.64 \r\nL 134.553182 217.644812 \r\nL 133.335727 217.644812 \r\nz\r\n\" style=\"fill:#1f77b4;\"/>\r\n   </g>\r\n   <g id=\"patch_58\">\r\n    <path clip-path=\"url(#pe4f7a55f68)\" d=\"M 134.553182 224.64 \r\nL 135.770636 224.64 \r\nL 135.770636 217.353062 \r\nL 134.553182 217.353062 \r\nz\r\n\" style=\"fill:#1f77b4;\"/>\r\n   </g>\r\n   <g id=\"patch_59\">\r\n    <path clip-path=\"url(#pe4f7a55f68)\" d=\"M 135.770636 224.64 \r\nL 136.988091 224.64 \r\nL 136.988091 217.034067 \r\nL 135.770636 217.034067 \r\nz\r\n\" style=\"fill:#1f77b4;\"/>\r\n   </g>\r\n   <g id=\"patch_60\">\r\n    <path clip-path=\"url(#pe4f7a55f68)\" d=\"M 136.988091 224.64 \r\nL 138.205545 224.64 \r\nL 138.205545 216.757075 \r\nL 136.988091 216.757075 \r\nz\r\n\" style=\"fill:#1f77b4;\"/>\r\n   </g>\r\n   <g id=\"patch_61\">\r\n    <path clip-path=\"url(#pe4f7a55f68)\" d=\"M 138.205545 224.64 \r\nL 139.423 224.64 \r\nL 139.423 216.424457 \r\nL 138.205545 216.424457 \r\nz\r\n\" style=\"fill:#1f77b4;\"/>\r\n   </g>\r\n   <g id=\"patch_62\">\r\n    <path clip-path=\"url(#pe4f7a55f68)\" d=\"M 139.423 224.64 \r\nL 140.640455 224.64 \r\nL 140.640455 216.12249 \r\nL 139.423 216.12249 \r\nz\r\n\" style=\"fill:#1f77b4;\"/>\r\n   </g>\r\n   <g id=\"patch_63\">\r\n    <path clip-path=\"url(#pe4f7a55f68)\" d=\"M 140.640455 224.64 \r\nL 141.857909 224.64 \r\nL 141.857909 215.778521 \r\nL 140.640455 215.778521 \r\nz\r\n\" style=\"fill:#1f77b4;\"/>\r\n   </g>\r\n   <g id=\"patch_64\">\r\n    <path clip-path=\"url(#pe4f7a55f68)\" d=\"M 141.857909 224.64 \r\nL 143.075364 224.64 \r\nL 143.075364 215.469742 \r\nL 141.857909 215.469742 \r\nz\r\n\" style=\"fill:#1f77b4;\"/>\r\n   </g>\r\n   <g id=\"patch_65\">\r\n    <path clip-path=\"url(#pe4f7a55f68)\" d=\"M 143.075364 224.64 \r\nL 144.292818 224.64 \r\nL 144.292818 215.128043 \r\nL 143.075364 215.128043 \r\nz\r\n\" style=\"fill:#1f77b4;\"/>\r\n   </g>\r\n   <g id=\"patch_66\">\r\n    <path clip-path=\"url(#pe4f7a55f68)\" d=\"M 144.292818 224.64 \r\nL 145.510273 224.64 \r\nL 145.510273 214.798831 \r\nL 144.292818 214.798831 \r\nz\r\n\" style=\"fill:#1f77b4;\"/>\r\n   </g>\r\n   <g id=\"patch_67\">\r\n    <path clip-path=\"url(#pe4f7a55f68)\" d=\"M 145.510273 224.64 \r\nL 146.727727 224.64 \r\nL 146.727727 214.442374 \r\nL 145.510273 214.442374 \r\nz\r\n\" style=\"fill:#1f77b4;\"/>\r\n   </g>\r\n   <g id=\"patch_68\">\r\n    <path clip-path=\"url(#pe4f7a55f68)\" d=\"M 146.727727 224.64 \r\nL 147.945182 224.64 \r\nL 147.945182 214.065483 \r\nL 146.727727 214.065483 \r\nz\r\n\" style=\"fill:#1f77b4;\"/>\r\n   </g>\r\n   <g id=\"patch_69\">\r\n    <path clip-path=\"url(#pe4f7a55f68)\" d=\"M 147.945182 224.64 \r\nL 149.162636 224.64 \r\nL 149.162636 213.755569 \r\nL 147.945182 213.755569 \r\nz\r\n\" style=\"fill:#1f77b4;\"/>\r\n   </g>\r\n   <g id=\"patch_70\">\r\n    <path clip-path=\"url(#pe4f7a55f68)\" d=\"M 149.162636 224.64 \r\nL 150.380091 224.64 \r\nL 150.380091 213.410464 \r\nL 149.162636 213.410464 \r\nz\r\n\" style=\"fill:#1f77b4;\"/>\r\n   </g>\r\n   <g id=\"patch_71\">\r\n    <path clip-path=\"url(#pe4f7a55f68)\" d=\"M 150.380091 224.64 \r\nL 151.597545 224.64 \r\nL 151.597545 213.042655 \r\nL 150.380091 213.042655 \r\nz\r\n\" style=\"fill:#1f77b4;\"/>\r\n   </g>\r\n   <g id=\"patch_72\">\r\n    <path clip-path=\"url(#pe4f7a55f68)\" d=\"M 151.597545 224.64 \r\nL 152.815 224.64 \r\nL 152.815 212.700956 \r\nL 151.597545 212.700956 \r\nz\r\n\" style=\"fill:#1f77b4;\"/>\r\n   </g>\r\n   <g id=\"patch_73\">\r\n    <path clip-path=\"url(#pe4f7a55f68)\" d=\"M 152.815 224.64 \r\nL 154.032455 224.64 \r\nL 154.032455 212.318389 \r\nL 152.815 212.318389 \r\nz\r\n\" style=\"fill:#1f77b4;\"/>\r\n   </g>\r\n   <g id=\"patch_74\">\r\n    <path clip-path=\"url(#pe4f7a55f68)\" d=\"M 154.032455 224.64 \r\nL 155.249909 224.64 \r\nL 155.249909 211.958526 \r\nL 154.032455 211.958526 \r\nz\r\n\" style=\"fill:#1f77b4;\"/>\r\n   </g>\r\n   <g id=\"patch_75\">\r\n    <path clip-path=\"url(#pe4f7a55f68)\" d=\"M 155.249909 224.64 \r\nL 156.467364 224.64 \r\nL 156.467364 211.605474 \r\nL 155.249909 211.605474 \r\nz\r\n\" style=\"fill:#1f77b4;\"/>\r\n   </g>\r\n   <g id=\"patch_76\">\r\n    <path clip-path=\"url(#pe4f7a55f68)\" d=\"M 156.467364 224.64 \r\nL 157.684818 224.64 \r\nL 157.684818 211.194527 \r\nL 156.467364 211.194527 \r\nz\r\n\" style=\"fill:#1f77b4;\"/>\r\n   </g>\r\n   <g id=\"patch_77\">\r\n    <path clip-path=\"url(#pe4f7a55f68)\" d=\"M 157.684818 224.64 \r\nL 158.902273 224.64 \r\nL 158.902273 210.818771 \r\nL 157.684818 210.818771 \r\nz\r\n\" style=\"fill:#1f77b4;\"/>\r\n   </g>\r\n   <g id=\"patch_78\">\r\n    <path clip-path=\"url(#pe4f7a55f68)\" d=\"M 158.902273 224.64 \r\nL 160.119727 224.64 \r\nL 160.119727 210.376038 \r\nL 158.902273 210.376038 \r\nz\r\n\" style=\"fill:#1f77b4;\"/>\r\n   </g>\r\n   <g id=\"patch_79\">\r\n    <path clip-path=\"url(#pe4f7a55f68)\" d=\"M 160.119727 224.64 \r\nL 161.337182 224.64 \r\nL 161.337182 210.028662 \r\nL 160.119727 210.028662 \r\nz\r\n\" style=\"fill:#1f77b4;\"/>\r\n   </g>\r\n   <g id=\"patch_80\">\r\n    <path clip-path=\"url(#pe4f7a55f68)\" d=\"M 161.337182 224.64 \r\nL 162.554636 224.64 \r\nL 162.554636 209.598416 \r\nL 161.337182 209.598416 \r\nz\r\n\" style=\"fill:#1f77b4;\"/>\r\n   </g>\r\n   <g id=\"patch_81\">\r\n    <path clip-path=\"url(#pe4f7a55f68)\" d=\"M 162.554636 224.64 \r\nL 163.772091 224.64 \r\nL 163.772091 209.22266 \r\nL 162.554636 209.22266 \r\nz\r\n\" style=\"fill:#1f77b4;\"/>\r\n   </g>\r\n   <g id=\"patch_82\">\r\n    <path clip-path=\"url(#pe4f7a55f68)\" d=\"M 163.772091 224.64 \r\nL 164.989545 224.64 \r\nL 164.989545 208.858257 \r\nL 163.772091 208.858257 \r\nz\r\n\" style=\"fill:#1f77b4;\"/>\r\n   </g>\r\n   <g id=\"patch_83\">\r\n    <path clip-path=\"url(#pe4f7a55f68)\" d=\"M 164.989545 224.64 \r\nL 166.207 224.64 \r\nL 166.207 208.389413 \r\nL 164.989545 208.389413 \r\nz\r\n\" style=\"fill:#1f77b4;\"/>\r\n   </g>\r\n   <g id=\"patch_84\">\r\n    <path clip-path=\"url(#pe4f7a55f68)\" d=\"M 166.207 224.64 \r\nL 167.424455 224.64 \r\nL 167.424455 207.94668 \r\nL 166.207 207.94668 \r\nz\r\n\" style=\"fill:#1f77b4;\"/>\r\n   </g>\r\n   <g id=\"patch_85\">\r\n    <path clip-path=\"url(#pe4f7a55f68)\" d=\"M 167.424455 224.64 \r\nL 168.641909 224.64 \r\nL 168.641909 207.539138 \r\nL 167.424455 207.539138 \r\nz\r\n\" style=\"fill:#1f77b4;\"/>\r\n   </g>\r\n   <g id=\"patch_86\">\r\n    <path clip-path=\"url(#pe4f7a55f68)\" d=\"M 168.641909 224.64 \r\nL 169.859364 224.64 \r\nL 169.859364 207.091864 \r\nL 168.641909 207.091864 \r\nz\r\n\" style=\"fill:#1f77b4;\"/>\r\n   </g>\r\n   <g id=\"patch_87\">\r\n    <path clip-path=\"url(#pe4f7a55f68)\" d=\"M 169.859364 224.64 \r\nL 171.076818 224.64 \r\nL 171.076818 206.627562 \r\nL 169.859364 206.627562 \r\nz\r\n\" style=\"fill:#1f77b4;\"/>\r\n   </g>\r\n   <g id=\"patch_88\">\r\n    <path clip-path=\"url(#pe4f7a55f68)\" d=\"M 171.076818 224.64 \r\nL 172.294273 224.64 \r\nL 172.294273 206.1678 \r\nL 171.076818 206.1678 \r\nz\r\n\" style=\"fill:#1f77b4;\"/>\r\n   </g>\r\n   <g id=\"patch_89\">\r\n    <path clip-path=\"url(#pe4f7a55f68)\" d=\"M 172.294273 224.64 \r\nL 173.511727 224.64 \r\nL 173.511727 205.659224 \r\nL 172.294273 205.659224 \r\nz\r\n\" style=\"fill:#1f77b4;\"/>\r\n   </g>\r\n   <g id=\"patch_90\">\r\n    <path clip-path=\"url(#pe4f7a55f68)\" d=\"M 173.511727 224.64 \r\nL 174.729182 224.64 \r\nL 174.729182 205.206274 \r\nL 173.511727 205.206274 \r\nz\r\n\" style=\"fill:#1f77b4;\"/>\r\n   </g>\r\n   <g id=\"patch_91\">\r\n    <path clip-path=\"url(#pe4f7a55f68)\" d=\"M 174.729182 224.64 \r\nL 175.946636 224.64 \r\nL 175.946636 204.743106 \r\nL 174.729182 204.743106 \r\nz\r\n\" style=\"fill:#1f77b4;\"/>\r\n   </g>\r\n   <g id=\"patch_92\">\r\n    <path clip-path=\"url(#pe4f7a55f68)\" d=\"M 175.946636 224.64 \r\nL 177.164091 224.64 \r\nL 177.164091 204.209556 \r\nL 175.946636 204.209556 \r\nz\r\n\" style=\"fill:#1f77b4;\"/>\r\n   </g>\r\n   <g id=\"patch_93\">\r\n    <path clip-path=\"url(#pe4f7a55f68)\" d=\"M 177.164091 224.64 \r\nL 178.381545 224.64 \r\nL 178.381545 203.676005 \r\nL 177.164091 203.676005 \r\nz\r\n\" style=\"fill:#1f77b4;\"/>\r\n   </g>\r\n   <g id=\"patch_94\">\r\n    <path clip-path=\"url(#pe4f7a55f68)\" d=\"M 178.381545 224.64 \r\nL 179.599 224.64 \r\nL 179.599 203.123156 \r\nL 178.381545 203.123156 \r\nz\r\n\" style=\"fill:#1f77b4;\"/>\r\n   </g>\r\n   <g id=\"patch_95\">\r\n    <path clip-path=\"url(#pe4f7a55f68)\" d=\"M 179.599 224.64 \r\nL 180.816455 224.64 \r\nL 180.816455 202.552144 \r\nL 179.599 202.552144 \r\nz\r\n\" style=\"fill:#1f77b4;\"/>\r\n   </g>\r\n   <g id=\"patch_96\">\r\n    <path clip-path=\"url(#pe4f7a55f68)\" d=\"M 180.816455 224.64 \r\nL 182.033909 224.64 \r\nL 182.033909 201.986807 \r\nL 180.816455 201.986807 \r\nz\r\n\" style=\"fill:#1f77b4;\"/>\r\n   </g>\r\n   <g id=\"patch_97\">\r\n    <path clip-path=\"url(#pe4f7a55f68)\" d=\"M 182.033909 224.64 \r\nL 183.251364 224.64 \r\nL 183.251364 201.413524 \r\nL 182.033909 201.413524 \r\nz\r\n\" style=\"fill:#1f77b4;\"/>\r\n   </g>\r\n   <g id=\"patch_98\">\r\n    <path clip-path=\"url(#pe4f7a55f68)\" d=\"M 183.251364 224.64 \r\nL 184.468818 224.64 \r\nL 184.468818 200.80505 \r\nL 183.251364 200.80505 \r\nz\r\n\" style=\"fill:#1f77b4;\"/>\r\n   </g>\r\n   <g id=\"patch_99\">\r\n    <path clip-path=\"url(#pe4f7a55f68)\" d=\"M 184.468818 224.64 \r\nL 185.686273 224.64 \r\nL 185.686273 200.185223 \r\nL 184.468818 200.185223 \r\nz\r\n\" style=\"fill:#1f77b4;\"/>\r\n   </g>\r\n   <g id=\"patch_100\">\r\n    <path clip-path=\"url(#pe4f7a55f68)\" d=\"M 185.686273 224.64 \r\nL 186.903727 224.64 \r\nL 186.903727 199.510906 \r\nL 185.686273 199.510906 \r\nz\r\n\" style=\"fill:#1f77b4;\"/>\r\n   </g>\r\n   <g id=\"patch_101\">\r\n    <path clip-path=\"url(#pe4f7a55f68)\" d=\"M 186.903727 224.64 \r\nL 188.121182 224.64 \r\nL 188.121182 198.720797 \r\nL 186.903727 198.720797 \r\nz\r\n\" style=\"fill:#1f77b4;\"/>\r\n   </g>\r\n   <g id=\"patch_102\">\r\n    <path clip-path=\"url(#pe4f7a55f68)\" d=\"M 188.121182 224.64 \r\nL 189.338636 224.64 \r\nL 189.338636 197.957933 \r\nL 188.121182 197.957933 \r\nz\r\n\" style=\"fill:#1f77b4;\"/>\r\n   </g>\r\n   <g id=\"patch_103\">\r\n    <path clip-path=\"url(#pe4f7a55f68)\" d=\"M 189.338636 224.64 \r\nL 190.556091 224.64 \r\nL 190.556091 197.17123 \r\nL 189.338636 197.17123 \r\nz\r\n\" style=\"fill:#1f77b4;\"/>\r\n   </g>\r\n   <g id=\"patch_104\">\r\n    <path clip-path=\"url(#pe4f7a55f68)\" d=\"M 190.556091 224.64 \r\nL 191.773545 224.64 \r\nL 191.773545 196.393608 \r\nL 190.556091 196.393608 \r\nz\r\n\" style=\"fill:#1f77b4;\"/>\r\n   </g>\r\n   <g id=\"patch_105\">\r\n    <path clip-path=\"url(#pe4f7a55f68)\" d=\"M 191.773545 224.64 \r\nL 192.991 224.64 \r\nL 192.991 195.6035 \r\nL 191.773545 195.6035 \r\nz\r\n\" style=\"fill:#1f77b4;\"/>\r\n   </g>\r\n   <g id=\"patch_106\">\r\n    <path clip-path=\"url(#pe4f7a55f68)\" d=\"M 192.991 224.64 \r\nL 194.208455 224.64 \r\nL 194.208455 194.762306 \r\nL 192.991 194.762306 \r\nz\r\n\" style=\"fill:#1f77b4;\"/>\r\n   </g>\r\n   <g id=\"patch_107\">\r\n    <path clip-path=\"url(#pe4f7a55f68)\" d=\"M 194.208455 224.64 \r\nL 195.425909 224.64 \r\nL 195.425909 193.915437 \r\nL 194.208455 193.915437 \r\nz\r\n\" style=\"fill:#1f77b4;\"/>\r\n   </g>\r\n   <g id=\"patch_108\">\r\n    <path clip-path=\"url(#pe4f7a55f68)\" d=\"M 195.425909 224.64 \r\nL 196.643364 224.64 \r\nL 196.643364 193.007265 \r\nL 195.425909 193.007265 \r\nz\r\n\" style=\"fill:#1f77b4;\"/>\r\n   </g>\r\n   <g id=\"patch_109\">\r\n    <path clip-path=\"url(#pe4f7a55f68)\" d=\"M 196.643364 224.64 \r\nL 197.860818 224.64 \r\nL 197.860818 192.058227 \r\nL 196.643364 192.058227 \r\nz\r\n\" style=\"fill:#1f77b4;\"/>\r\n   </g>\r\n   <g id=\"patch_110\">\r\n    <path clip-path=\"url(#pe4f7a55f68)\" d=\"M 197.860818 224.64 \r\nL 199.078273 224.64 \r\nL 199.078273 191.018371 \r\nL 197.860818 191.018371 \r\nz\r\n\" style=\"fill:#1f77b4;\"/>\r\n   </g>\r\n   <g id=\"patch_111\">\r\n    <path clip-path=\"url(#pe4f7a55f68)\" d=\"M 199.078273 224.64 \r\nL 200.295727 224.64 \r\nL 200.295727 189.866129 \r\nL 199.078273 189.866129 \r\nz\r\n\" style=\"fill:#1f77b4;\"/>\r\n   </g>\r\n   <g id=\"patch_112\">\r\n    <path clip-path=\"url(#pe4f7a55f68)\" d=\"M 200.295727 224.64 \r\nL 201.513182 224.64 \r\nL 201.513182 188.687777 \r\nL 200.295727 188.687777 \r\nz\r\n\" style=\"fill:#1f77b4;\"/>\r\n   </g>\r\n   <g id=\"patch_113\">\r\n    <path clip-path=\"url(#pe4f7a55f68)\" d=\"M 201.513182 224.64 \r\nL 202.730636 224.64 \r\nL 202.730636 187.51056 \r\nL 201.513182 187.51056 \r\nz\r\n\" style=\"fill:#1f77b4;\"/>\r\n   </g>\r\n   <g id=\"patch_114\">\r\n    <path clip-path=\"url(#pe4f7a55f68)\" d=\"M 202.730636 224.64 \r\nL 203.948091 224.64 \r\nL 203.948091 186.127869 \r\nL 202.730636 186.127869 \r\nz\r\n\" style=\"fill:#1f77b4;\"/>\r\n   </g>\r\n   <g id=\"patch_115\">\r\n    <path clip-path=\"url(#pe4f7a55f68)\" d=\"M 203.948091 224.64 \r\nL 205.165545 224.64 \r\nL 205.165545 184.790587 \r\nL 203.948091 184.790587 \r\nz\r\n\" style=\"fill:#1f77b4;\"/>\r\n   </g>\r\n   <g id=\"patch_116\">\r\n    <path clip-path=\"url(#pe4f7a55f68)\" d=\"M 205.165545 224.64 \r\nL 206.383 224.64 \r\nL 206.383 183.465793 \r\nL 205.165545 183.465793 \r\nz\r\n\" style=\"fill:#1f77b4;\"/>\r\n   </g>\r\n   <g id=\"patch_117\">\r\n    <path clip-path=\"url(#pe4f7a55f68)\" d=\"M 206.383 224.64 \r\nL 207.600455 224.64 \r\nL 207.600455 182.021801 \r\nL 206.383 182.021801 \r\nz\r\n\" style=\"fill:#1f77b4;\"/>\r\n   </g>\r\n   <g id=\"patch_118\">\r\n    <path clip-path=\"url(#pe4f7a55f68)\" d=\"M 207.600455 224.64 \r\nL 208.817909 224.64 \r\nL 208.817909 180.402986 \r\nL 207.600455 180.402986 \r\nz\r\n\" style=\"fill:#1f77b4;\"/>\r\n   </g>\r\n   <g id=\"patch_119\">\r\n    <path clip-path=\"url(#pe4f7a55f68)\" d=\"M 208.817909 224.64 \r\nL 210.035364 224.64 \r\nL 210.035364 178.661568 \r\nL 208.817909 178.661568 \r\nz\r\n\" style=\"fill:#1f77b4;\"/>\r\n   </g>\r\n   <g id=\"patch_120\">\r\n    <path clip-path=\"url(#pe4f7a55f68)\" d=\"M 210.035364 224.64 \r\nL 211.252818 224.64 \r\nL 211.252818 176.858848 \r\nL 210.035364 176.858848 \r\nz\r\n\" style=\"fill:#1f77b4;\"/>\r\n   </g>\r\n   <g id=\"patch_121\">\r\n    <path clip-path=\"url(#pe4f7a55f68)\" d=\"M 211.252818 224.64 \r\nL 212.470273 224.64 \r\nL 212.470273 174.909686 \r\nL 211.252818 174.909686 \r\nz\r\n\" style=\"fill:#1f77b4;\"/>\r\n   </g>\r\n   <g id=\"patch_122\">\r\n    <path clip-path=\"url(#pe4f7a55f68)\" d=\"M 212.470273 224.64 \r\nL 213.687727 224.64 \r\nL 213.687727 172.715318 \r\nL 212.470273 172.715318 \r\nz\r\n\" style=\"fill:#1f77b4;\"/>\r\n   </g>\r\n   <g id=\"patch_123\">\r\n    <path clip-path=\"url(#pe4f7a55f68)\" d=\"M 213.687727 224.64 \r\nL 214.905182 224.64 \r\nL 214.905182 170.652634 \r\nL 213.687727 170.652634 \r\nz\r\n\" style=\"fill:#1f77b4;\"/>\r\n   </g>\r\n   <g id=\"patch_124\">\r\n    <path clip-path=\"url(#pe4f7a55f68)\" d=\"M 214.905182 224.64 \r\nL 216.122636 224.64 \r\nL 216.122636 168.342474 \r\nL 214.905182 168.342474 \r\nz\r\n\" style=\"fill:#1f77b4;\"/>\r\n   </g>\r\n   <g id=\"patch_125\">\r\n    <path clip-path=\"url(#pe4f7a55f68)\" d=\"M 216.122636 224.64 \r\nL 217.340091 224.64 \r\nL 217.340091 166.020961 \r\nL 216.122636 166.020961 \r\nz\r\n\" style=\"fill:#1f77b4;\"/>\r\n   </g>\r\n   <g id=\"patch_126\">\r\n    <path clip-path=\"url(#pe4f7a55f68)\" d=\"M 217.340091 224.64 \r\nL 218.557545 224.64 \r\nL 218.557545 163.461054 \r\nL 217.340091 163.461054 \r\nz\r\n\" style=\"fill:#1f77b4;\"/>\r\n   </g>\r\n   <g id=\"patch_127\">\r\n    <path clip-path=\"url(#pe4f7a55f68)\" d=\"M 218.557545 224.64 \r\nL 219.775 224.64 \r\nL 219.775 160.778544 \r\nL 218.557545 160.778544 \r\nz\r\n\" style=\"fill:#1f77b4;\"/>\r\n   </g>\r\n   <g id=\"patch_128\">\r\n    <path clip-path=\"url(#pe4f7a55f68)\" d=\"M 219.775 224.64 \r\nL 220.992455 224.64 \r\nL 220.992455 158.040408 \r\nL 219.775 158.040408 \r\nz\r\n\" style=\"fill:#1f77b4;\"/>\r\n   </g>\r\n   <g id=\"patch_129\">\r\n    <path clip-path=\"url(#pe4f7a55f68)\" d=\"M 220.992455 224.64 \r\nL 222.209909 224.64 \r\nL 222.209909 155.257999 \r\nL 220.992455 155.257999 \r\nz\r\n\" style=\"fill:#1f77b4;\"/>\r\n   </g>\r\n   <g id=\"patch_130\">\r\n    <path clip-path=\"url(#pe4f7a55f68)\" d=\"M 222.209909 224.64 \r\nL 223.427364 224.64 \r\nL 223.427364 152.424505 \r\nL 222.209909 152.424505 \r\nz\r\n\" style=\"fill:#1f77b4;\"/>\r\n   </g>\r\n   <g id=\"patch_131\">\r\n    <path clip-path=\"url(#pe4f7a55f68)\" d=\"M 223.427364 224.64 \r\nL 224.644818 224.64 \r\nL 224.644818 149.575118 \r\nL 223.427364 149.575118 \r\nz\r\n\" style=\"fill:#1f77b4;\"/>\r\n   </g>\r\n   <g id=\"patch_132\">\r\n    <path clip-path=\"url(#pe4f7a55f68)\" d=\"M 224.644818 224.64 \r\nL 225.862273 224.64 \r\nL 225.862273 146.754112 \r\nL 224.644818 146.754112 \r\nz\r\n\" style=\"fill:#1f77b4;\"/>\r\n   </g>\r\n   <g id=\"patch_133\">\r\n    <path clip-path=\"url(#pe4f7a55f68)\" d=\"M 225.862273 224.64 \r\nL 227.079727 224.64 \r\nL 227.079727 143.913806 \r\nL 225.862273 143.913806 \r\nz\r\n\" style=\"fill:#1f77b4;\"/>\r\n   </g>\r\n   <g id=\"patch_134\">\r\n    <path clip-path=\"url(#pe4f7a55f68)\" d=\"M 227.079727 224.64 \r\nL 228.297182 224.64 \r\nL 228.297182 141.182482 \r\nL 227.079727 141.182482 \r\nz\r\n\" style=\"fill:#1f77b4;\"/>\r\n   </g>\r\n   <g id=\"patch_135\">\r\n    <path clip-path=\"url(#pe4f7a55f68)\" d=\"M 228.297182 224.64 \r\nL 229.514636 224.64 \r\nL 229.514636 138.246819 \r\nL 228.297182 138.246819 \r\nz\r\n\" style=\"fill:#1f77b4;\"/>\r\n   </g>\r\n   <g id=\"patch_136\">\r\n    <path clip-path=\"url(#pe4f7a55f68)\" d=\"M 229.514636 224.64 \r\nL 230.732091 224.64 \r\nL 230.732091 135.33613 \r\nL 229.514636 135.33613 \r\nz\r\n\" style=\"fill:#1f77b4;\"/>\r\n   </g>\r\n   <g id=\"patch_137\">\r\n    <path clip-path=\"url(#pe4f7a55f68)\" d=\"M 230.732091 224.64 \r\nL 231.949545 224.64 \r\nL 231.949545 132.57529 \r\nL 230.732091 132.57529 \r\nz\r\n\" style=\"fill:#1f77b4;\"/>\r\n   </g>\r\n   <g id=\"patch_138\">\r\n    <path clip-path=\"url(#pe4f7a55f68)\" d=\"M 231.949545 224.64 \r\nL 233.167 224.64 \r\nL 233.167 129.86894 \r\nL 231.949545 129.86894 \r\nz\r\n\" style=\"fill:#1f77b4;\"/>\r\n   </g>\r\n   <g id=\"patch_139\">\r\n    <path clip-path=\"url(#pe4f7a55f68)\" d=\"M 233.167 224.64 \r\nL 234.384455 224.64 \r\nL 234.384455 127.280653 \r\nL 233.167 127.280653 \r\nz\r\n\" style=\"fill:#1f77b4;\"/>\r\n   </g>\r\n   <g id=\"patch_140\">\r\n    <path clip-path=\"url(#pe4f7a55f68)\" d=\"M 234.384455 224.64 \r\nL 235.601909 224.64 \r\nL 235.601909 124.705988 \r\nL 234.384455 124.705988 \r\nz\r\n\" style=\"fill:#1f77b4;\"/>\r\n   </g>\r\n   <g id=\"patch_141\">\r\n    <path clip-path=\"url(#pe4f7a55f68)\" d=\"M 235.601909 224.64 \r\nL 236.819364 224.64 \r\nL 236.819364 122.242574 \r\nL 235.601909 122.242574 \r\nz\r\n\" style=\"fill:#1f77b4;\"/>\r\n   </g>\r\n   <g id=\"patch_142\">\r\n    <path clip-path=\"url(#pe4f7a55f68)\" d=\"M 236.819364 224.64 \r\nL 238.036818 224.64 \r\nL 238.036818 119.952847 \r\nL 236.819364 119.952847 \r\nz\r\n\" style=\"fill:#1f77b4;\"/>\r\n   </g>\r\n   <g id=\"patch_143\">\r\n    <path clip-path=\"url(#pe4f7a55f68)\" d=\"M 238.036818 224.64 \r\nL 239.254273 224.64 \r\nL 239.254273 117.728963 \r\nL 238.036818 117.728963 \r\nz\r\n\" style=\"fill:#1f77b4;\"/>\r\n   </g>\r\n   <g id=\"patch_144\">\r\n    <path clip-path=\"url(#pe4f7a55f68)\" d=\"M 239.254273 224.64 \r\nL 240.471727 224.64 \r\nL 240.471727 115.499403 \r\nL 239.254273 115.499403 \r\nz\r\n\" style=\"fill:#1f77b4;\"/>\r\n   </g>\r\n   <g id=\"patch_145\">\r\n    <path clip-path=\"url(#pe4f7a55f68)\" d=\"M 240.471727 224.64 \r\nL 241.689182 224.64 \r\nL 241.689182 113.33001 \r\nL 240.471727 113.33001 \r\nz\r\n\" style=\"fill:#1f77b4;\"/>\r\n   </g>\r\n   <g id=\"patch_146\">\r\n    <path clip-path=\"url(#pe4f7a55f68)\" d=\"M 241.689182 224.64 \r\nL 242.906636 224.64 \r\nL 242.906636 111.302518 \r\nL 241.689182 111.302518 \r\nz\r\n\" style=\"fill:#1f77b4;\"/>\r\n   </g>\r\n   <g id=\"patch_147\">\r\n    <path clip-path=\"url(#pe4f7a55f68)\" d=\"M 242.906636 224.64 \r\nL 244.124091 224.64 \r\nL 244.124091 109.298865 \r\nL 242.906636 109.298865 \r\nz\r\n\" style=\"fill:#1f77b4;\"/>\r\n   </g>\r\n   <g id=\"patch_148\">\r\n    <path clip-path=\"url(#pe4f7a55f68)\" d=\"M 244.124091 224.64 \r\nL 245.341545 224.64 \r\nL 245.341545 107.432573 \r\nL 244.124091 107.432573 \r\nz\r\n\" style=\"fill:#1f77b4;\"/>\r\n   </g>\r\n   <g id=\"patch_149\">\r\n    <path clip-path=\"url(#pe4f7a55f68)\" d=\"M 245.341545 224.64 \r\nL 246.559 224.64 \r\nL 246.559 105.45049 \r\nL 245.341545 105.45049 \r\nz\r\n\" style=\"fill:#1f77b4;\"/>\r\n   </g>\r\n   <g id=\"patch_150\">\r\n    <path clip-path=\"url(#pe4f7a55f68)\" d=\"M 246.559 224.64 \r\nL 247.776455 224.64 \r\nL 247.776455 103.544466 \r\nL 246.559 103.544466 \r\nz\r\n\" style=\"fill:#1f77b4;\"/>\r\n   </g>\r\n   <g id=\"patch_151\">\r\n    <path clip-path=\"url(#pe4f7a55f68)\" d=\"M 247.776455 224.64 \r\nL 248.993909 224.64 \r\nL 248.993909 101.664552 \r\nL 247.776455 101.664552 \r\nz\r\n\" style=\"fill:#1f77b4;\"/>\r\n   </g>\r\n   <g id=\"patch_152\">\r\n    <path clip-path=\"url(#pe4f7a55f68)\" d=\"M 248.993909 224.64 \r\nL 250.211364 224.64 \r\nL 250.211364 99.753987 \r\nL 248.993909 99.753987 \r\nz\r\n\" style=\"fill:#1f77b4;\"/>\r\n   </g>\r\n   <g id=\"patch_153\">\r\n    <path clip-path=\"url(#pe4f7a55f68)\" d=\"M 250.211364 224.64 \r\nL 251.428818 224.64 \r\nL 251.428818 97.729901 \r\nL 250.211364 97.729901 \r\nz\r\n\" style=\"fill:#1f77b4;\"/>\r\n   </g>\r\n   <g id=\"patch_154\">\r\n    <path clip-path=\"url(#pe4f7a55f68)\" d=\"M 251.428818 224.64 \r\nL 252.646273 224.64 \r\nL 252.646273 95.838634 \r\nL 251.428818 95.838634 \r\nz\r\n\" style=\"fill:#1f77b4;\"/>\r\n   </g>\r\n   <g id=\"patch_155\">\r\n    <path clip-path=\"url(#pe4f7a55f68)\" d=\"M 252.646273 224.64 \r\nL 253.863727 224.64 \r\nL 253.863727 93.965531 \r\nL 252.646273 93.965531 \r\nz\r\n\" style=\"fill:#1f77b4;\"/>\r\n   </g>\r\n   <g id=\"patch_156\">\r\n    <path clip-path=\"url(#pe4f7a55f68)\" d=\"M 253.863727 224.64 \r\nL 255.081182 224.64 \r\nL 255.081182 92.142378 \r\nL 253.863727 92.142378 \r\nz\r\n\" style=\"fill:#1f77b4;\"/>\r\n   </g>\r\n   <g id=\"patch_157\">\r\n    <path clip-path=\"url(#pe4f7a55f68)\" d=\"M 255.081182 224.64 \r\nL 256.298636 224.64 \r\nL 256.298636 90.354416 \r\nL 255.081182 90.354416 \r\nz\r\n\" style=\"fill:#1f77b4;\"/>\r\n   </g>\r\n   <g id=\"patch_158\">\r\n    <path clip-path=\"url(#pe4f7a55f68)\" d=\"M 256.298636 224.64 \r\nL 257.516091 224.64 \r\nL 257.516091 88.585753 \r\nL 256.298636 88.585753 \r\nz\r\n\" style=\"fill:#1f77b4;\"/>\r\n   </g>\r\n   <g id=\"patch_159\">\r\n    <path clip-path=\"url(#pe4f7a55f68)\" d=\"M 257.516091 224.64 \r\nL 258.733545 224.64 \r\nL 258.733545 86.759194 \r\nL 257.516091 86.759194 \r\nz\r\n\" style=\"fill:#1f77b4;\"/>\r\n   </g>\r\n   <g id=\"patch_160\">\r\n    <path clip-path=\"url(#pe4f7a55f68)\" d=\"M 258.733545 224.64 \r\nL 259.951 224.64 \r\nL 259.951 84.942852 \r\nL 258.733545 84.942852 \r\nz\r\n\" style=\"fill:#1f77b4;\"/>\r\n   </g>\r\n   <g id=\"patch_161\">\r\n    <path clip-path=\"url(#pe4f7a55f68)\" d=\"M 259.951 224.64 \r\nL 261.168455 224.64 \r\nL 261.168455 83.186676 \r\nL 259.951 83.186676 \r\nz\r\n\" style=\"fill:#1f77b4;\"/>\r\n   </g>\r\n   <g id=\"patch_162\">\r\n    <path clip-path=\"url(#pe4f7a55f68)\" d=\"M 261.168455 224.64 \r\nL 262.385909 224.64 \r\nL 262.385909 81.441852 \r\nL 261.168455 81.441852 \r\nz\r\n\" style=\"fill:#1f77b4;\"/>\r\n   </g>\r\n   <g id=\"patch_163\">\r\n    <path clip-path=\"url(#pe4f7a55f68)\" d=\"M 262.385909 224.64 \r\nL 263.603364 224.64 \r\nL 263.603364 79.697028 \r\nL 262.385909 79.697028 \r\nz\r\n\" style=\"fill:#1f77b4;\"/>\r\n   </g>\r\n   <g id=\"patch_164\">\r\n    <path clip-path=\"url(#pe4f7a55f68)\" d=\"M 263.603364 224.64 \r\nL 264.820818 224.64 \r\nL 264.820818 78.020317 \r\nL 263.603364 78.020317 \r\nz\r\n\" style=\"fill:#1f77b4;\"/>\r\n   </g>\r\n   <g id=\"patch_165\">\r\n    <path clip-path=\"url(#pe4f7a55f68)\" d=\"M 264.820818 224.64 \r\nL 266.038273 224.64 \r\nL 266.038273 76.396961 \r\nL 264.820818 76.396961 \r\nz\r\n\" style=\"fill:#1f77b4;\"/>\r\n   </g>\r\n   <g id=\"patch_166\">\r\n    <path clip-path=\"url(#pe4f7a55f68)\" d=\"M 266.038273 224.64 \r\nL 267.255727 224.64 \r\nL 267.255727 74.892803 \r\nL 266.038273 74.892803 \r\nz\r\n\" style=\"fill:#1f77b4;\"/>\r\n   </g>\r\n   <g id=\"patch_167\">\r\n    <path clip-path=\"url(#pe4f7a55f68)\" d=\"M 267.255727 224.64 \r\nL 268.473182 224.64 \r\nL 268.473182 73.235391 \r\nL 267.255727 73.235391 \r\nz\r\n\" style=\"fill:#1f77b4;\"/>\r\n   </g>\r\n   <g id=\"patch_168\">\r\n    <path clip-path=\"url(#pe4f7a55f68)\" d=\"M 268.473182 224.64 \r\nL 269.690636 224.64 \r\nL 269.690636 71.692635 \r\nL 268.473182 71.692635 \r\nz\r\n\" style=\"fill:#1f77b4;\"/>\r\n   </g>\r\n   <g id=\"patch_169\">\r\n    <path clip-path=\"url(#pe4f7a55f68)\" d=\"M 269.690636 224.64 \r\nL 270.908091 224.64 \r\nL 270.908091 70.175989 \r\nL 269.690636 70.175989 \r\nz\r\n\" style=\"fill:#1f77b4;\"/>\r\n   </g>\r\n   <g id=\"patch_170\">\r\n    <path clip-path=\"url(#pe4f7a55f68)\" d=\"M 270.908091 224.64 \r\nL 272.125545 224.64 \r\nL 272.125545 68.594637 \r\nL 270.908091 68.594637 \r\nz\r\n\" style=\"fill:#1f77b4;\"/>\r\n   </g>\r\n   <g id=\"patch_171\">\r\n    <path clip-path=\"url(#pe4f7a55f68)\" d=\"M 272.125545 224.64 \r\nL 273.343 224.64 \r\nL 273.343 67.07345 \r\nL 272.125545 67.07345 \r\nz\r\n\" style=\"fill:#1f77b4;\"/>\r\n   </g>\r\n   <g id=\"patch_172\">\r\n    <path clip-path=\"url(#pe4f7a55f68)\" d=\"M 273.343 224.64 \r\nL 274.560455 224.64 \r\nL 274.560455 65.607889 \r\nL 273.343 65.607889 \r\nz\r\n\" style=\"fill:#1f77b4;\"/>\r\n   </g>\r\n   <g id=\"patch_173\">\r\n    <path clip-path=\"url(#pe4f7a55f68)\" d=\"M 274.560455 224.64 \r\nL 275.777909 224.64 \r\nL 275.777909 64.188872 \r\nL 274.560455 64.188872 \r\nz\r\n\" style=\"fill:#1f77b4;\"/>\r\n   </g>\r\n   <g id=\"patch_174\">\r\n    <path clip-path=\"url(#pe4f7a55f68)\" d=\"M 275.777909 224.64 \r\nL 276.995364 224.64 \r\nL 276.995364 62.844778 \r\nL 275.777909 62.844778 \r\nz\r\n\" style=\"fill:#1f77b4;\"/>\r\n   </g>\r\n   <g id=\"patch_175\">\r\n    <path clip-path=\"url(#pe4f7a55f68)\" d=\"M 276.995364 224.64 \r\nL 278.212818 224.64 \r\nL 278.212818 61.435978 \r\nL 276.995364 61.435978 \r\nz\r\n\" style=\"fill:#1f77b4;\"/>\r\n   </g>\r\n   <g id=\"patch_176\">\r\n    <path clip-path=\"url(#pe4f7a55f68)\" d=\"M 278.212818 224.64 \r\nL 279.430273 224.64 \r\nL 279.430273 59.98858 \r\nL 278.212818 59.98858 \r\nz\r\n\" style=\"fill:#1f77b4;\"/>\r\n   </g>\r\n   <g id=\"patch_177\">\r\n    <path clip-path=\"url(#pe4f7a55f68)\" d=\"M 279.430273 224.64 \r\nL 280.647727 224.64 \r\nL 280.647727 58.671732 \r\nL 279.430273 58.671732 \r\nz\r\n\" style=\"fill:#1f77b4;\"/>\r\n   </g>\r\n   <g id=\"patch_178\">\r\n    <path clip-path=\"url(#pe4f7a55f68)\" d=\"M 280.647727 224.64 \r\nL 281.865182 224.64 \r\nL 281.865182 57.390076 \r\nL 280.647727 57.390076 \r\nz\r\n\" style=\"fill:#1f77b4;\"/>\r\n   </g>\r\n   <g id=\"patch_179\">\r\n    <path clip-path=\"url(#pe4f7a55f68)\" d=\"M 281.865182 224.64 \r\nL 283.082636 224.64 \r\nL 283.082636 56.175397 \r\nL 281.865182 56.175397 \r\nz\r\n\" style=\"fill:#1f77b4;\"/>\r\n   </g>\r\n   <g id=\"patch_180\">\r\n    <path clip-path=\"url(#pe4f7a55f68)\" d=\"M 283.082636 224.64 \r\nL 284.300091 224.64 \r\nL 284.300091 54.939149 \r\nL 283.082636 54.939149 \r\nz\r\n\" style=\"fill:#1f77b4;\"/>\r\n   </g>\r\n   <g id=\"patch_181\">\r\n    <path clip-path=\"url(#pe4f7a55f68)\" d=\"M 284.300091 224.64 \r\nL 285.517545 224.64 \r\nL 285.517545 53.694955 \r\nL 284.300091 53.694955 \r\nz\r\n\" style=\"fill:#1f77b4;\"/>\r\n   </g>\r\n   <g id=\"patch_182\">\r\n    <path clip-path=\"url(#pe4f7a55f68)\" d=\"M 285.517545 224.64 \r\nL 286.735 224.64 \r\nL 286.735 52.481411 \r\nL 285.517545 52.481411 \r\nz\r\n\" style=\"fill:#1f77b4;\"/>\r\n   </g>\r\n   <g id=\"patch_183\">\r\n    <path clip-path=\"url(#pe4f7a55f68)\" d=\"M 286.735 224.64 \r\nL 287.952455 224.64 \r\nL 287.952455 51.318952 \r\nL 286.735 51.318952 \r\nz\r\n\" style=\"fill:#1f77b4;\"/>\r\n   </g>\r\n   <g id=\"patch_184\">\r\n    <path clip-path=\"url(#pe4f7a55f68)\" d=\"M 287.952455 224.64 \r\nL 289.169909 224.64 \r\nL 289.169909 50.156493 \r\nL 287.952455 50.156493 \r\nz\r\n\" style=\"fill:#1f77b4;\"/>\r\n   </g>\r\n   <g id=\"patch_185\">\r\n    <path clip-path=\"url(#pe4f7a55f68)\" d=\"M 289.169909 224.64 \r\nL 290.387364 224.64 \r\nL 290.387364 49.042848 \r\nL 289.169909 49.042848 \r\nz\r\n\" style=\"fill:#1f77b4;\"/>\r\n   </g>\r\n   <g id=\"patch_186\">\r\n    <path clip-path=\"url(#pe4f7a55f68)\" d=\"M 290.387364 224.64 \r\nL 291.604818 224.64 \r\nL 291.604818 47.956448 \r\nL 290.387364 47.956448 \r\nz\r\n\" style=\"fill:#1f77b4;\"/>\r\n   </g>\r\n   <g id=\"patch_187\">\r\n    <path clip-path=\"url(#pe4f7a55f68)\" d=\"M 291.604818 224.64 \r\nL 292.822273 224.64 \r\nL 292.822273 46.882536 \r\nL 291.604818 46.882536 \r\nz\r\n\" style=\"fill:#1f77b4;\"/>\r\n   </g>\r\n   <g id=\"patch_188\">\r\n    <path clip-path=\"url(#pe4f7a55f68)\" d=\"M 292.822273 224.64 \r\nL 294.039727 224.64 \r\nL 294.039727 45.812029 \r\nL 292.822273 45.812029 \r\nz\r\n\" style=\"fill:#1f77b4;\"/>\r\n   </g>\r\n   <g id=\"patch_189\">\r\n    <path clip-path=\"url(#pe4f7a55f68)\" d=\"M 294.039727 224.64 \r\nL 295.257182 224.64 \r\nL 295.257182 44.738117 \r\nL 294.039727 44.738117 \r\nz\r\n\" style=\"fill:#1f77b4;\"/>\r\n   </g>\r\n   <g id=\"patch_190\">\r\n    <path clip-path=\"url(#pe4f7a55f68)\" d=\"M 295.257182 224.64 \r\nL 296.474636 224.64 \r\nL 296.474636 43.690315 \r\nL 295.257182 43.690315 \r\nz\r\n\" style=\"fill:#1f77b4;\"/>\r\n   </g>\r\n   <g id=\"patch_191\">\r\n    <path clip-path=\"url(#pe4f7a55f68)\" d=\"M 296.474636 224.64 \r\nL 297.692091 224.64 \r\nL 297.692091 42.627754 \r\nL 296.474636 42.627754 \r\nz\r\n\" style=\"fill:#1f77b4;\"/>\r\n   </g>\r\n   <g id=\"patch_192\">\r\n    <path clip-path=\"url(#pe4f7a55f68)\" d=\"M 297.692091 224.64 \r\nL 298.909545 224.64 \r\nL 298.909545 41.526597 \r\nL 297.692091 41.526597 \r\nz\r\n\" style=\"fill:#1f77b4;\"/>\r\n   </g>\r\n   <g id=\"patch_193\">\r\n    <path clip-path=\"url(#pe4f7a55f68)\" d=\"M 298.909545 224.64 \r\nL 300.127 224.64 \r\nL 300.127 40.483335 \r\nL 298.909545 40.483335 \r\nz\r\n\" style=\"fill:#1f77b4;\"/>\r\n   </g>\r\n   <g id=\"patch_194\">\r\n    <path clip-path=\"url(#pe4f7a55f68)\" d=\"M 300.127 224.64 \r\nL 301.344455 224.64 \r\nL 301.344455 39.47413 \r\nL 300.127 39.47413 \r\nz\r\n\" style=\"fill:#1f77b4;\"/>\r\n   </g>\r\n   <g id=\"patch_195\">\r\n    <path clip-path=\"url(#pe4f7a55f68)\" d=\"M 301.344455 224.64 \r\nL 302.561909 224.64 \r\nL 302.561909 38.316212 \r\nL 301.344455 38.316212 \r\nz\r\n\" style=\"fill:#1f77b4;\"/>\r\n   </g>\r\n   <g id=\"patch_196\">\r\n    <path clip-path=\"url(#pe4f7a55f68)\" d=\"M 302.561909 224.64 \r\nL 303.779364 224.64 \r\nL 303.779364 37.285438 \r\nL 302.561909 37.285438 \r\nz\r\n\" style=\"fill:#1f77b4;\"/>\r\n   </g>\r\n   <g id=\"patch_197\">\r\n    <path clip-path=\"url(#pe4f7a55f68)\" d=\"M 303.779364 224.64 \r\nL 304.996818 224.64 \r\nL 304.996818 36.230824 \r\nL 303.779364 36.230824 \r\nz\r\n\" style=\"fill:#1f77b4;\"/>\r\n   </g>\r\n   <g id=\"patch_198\">\r\n    <path clip-path=\"url(#pe4f7a55f68)\" d=\"M 304.996818 224.64 \r\nL 306.214273 224.64 \r\nL 306.214273 35.079717 \r\nL 304.996818 35.079717 \r\nz\r\n\" style=\"fill:#1f77b4;\"/>\r\n   </g>\r\n   <g id=\"patch_199\">\r\n    <path clip-path=\"url(#pe4f7a55f68)\" d=\"M 306.214273 224.64 \r\nL 307.431727 224.64 \r\nL 307.431727 33.939963 \r\nL 306.214273 33.939963 \r\nz\r\n\" style=\"fill:#1f77b4;\"/>\r\n   </g>\r\n   <g id=\"patch_200\">\r\n    <path clip-path=\"url(#pe4f7a55f68)\" d=\"M 307.431727 224.64 \r\nL 308.649182 224.64 \r\nL 308.649182 32.734366 \r\nL 307.431727 32.734366 \r\nz\r\n\" style=\"fill:#1f77b4;\"/>\r\n   </g>\r\n   <g id=\"patch_201\">\r\n    <path clip-path=\"url(#pe4f7a55f68)\" d=\"M 308.649182 224.64 \r\nL 309.866636 224.64 \r\nL 309.866636 31.53558 \r\nL 308.649182 31.53558 \r\nz\r\n\" style=\"fill:#1f77b4;\"/>\r\n   </g>\r\n   <g id=\"patch_202\">\r\n    <path clip-path=\"url(#pe4f7a55f68)\" d=\"M 309.866636 224.64 \r\nL 311.084091 224.64 \r\nL 311.084091 30.202839 \r\nL 309.866636 30.202839 \r\nz\r\n\" style=\"fill:#1f77b4;\"/>\r\n   </g>\r\n   <g id=\"patch_203\">\r\n    <path clip-path=\"url(#pe4f7a55f68)\" d=\"M 311.084091 224.64 \r\nL 312.301545 224.64 \r\nL 312.301545 28.98816 \r\nL 311.084091 28.98816 \r\nz\r\n\" style=\"fill:#1f77b4;\"/>\r\n   </g>\r\n   <g id=\"patch_204\">\r\n    <path clip-path=\"url(#pe4f7a55f68)\" d=\"M 312.301545 224.64 \r\nL 313.519 224.64 \r\nL 313.519 27.741695 \r\nL 312.301545 27.741695 \r\nz\r\n\" style=\"fill:#1f77b4;\"/>\r\n   </g>\r\n   <g id=\"patch_205\">\r\n    <path clip-path=\"url(#pe4f7a55f68)\" d=\"M 313.519 224.64 \r\nL 314.736455 224.64 \r\nL 314.736455 26.611022 \r\nL 313.519 26.611022 \r\nz\r\n\" style=\"fill:#1f77b4;\"/>\r\n   </g>\r\n   <g id=\"patch_206\">\r\n    <path clip-path=\"url(#pe4f7a55f68)\" d=\"M 314.736455 224.64 \r\nL 315.953909 224.64 \r\nL 315.953909 25.551867 \r\nL 314.736455 25.551867 \r\nz\r\n\" style=\"fill:#1f77b4;\"/>\r\n   </g>\r\n   <g id=\"patch_207\">\r\n    <path clip-path=\"url(#pe4f7a55f68)\" d=\"M 315.953909 224.64 \r\nL 317.171364 224.64 \r\nL 317.171364 24.532445 \r\nL 315.953909 24.532445 \r\nz\r\n\" style=\"fill:#1f77b4;\"/>\r\n   </g>\r\n   <g id=\"patch_208\">\r\n    <path clip-path=\"url(#pe4f7a55f68)\" d=\"M 317.171364 224.64 \r\nL 318.388818 224.64 \r\nL 318.388818 23.583407 \r\nL 317.171364 23.583407 \r\nz\r\n\" style=\"fill:#1f77b4;\"/>\r\n   </g>\r\n   <g id=\"patch_209\">\r\n    <path clip-path=\"url(#pe4f7a55f68)\" d=\"M 318.388818 224.64 \r\nL 319.606273 224.64 \r\nL 319.606273 22.703616 \r\nL 318.388818 22.703616 \r\nz\r\n\" style=\"fill:#1f77b4;\"/>\r\n   </g>\r\n   <g id=\"patch_210\">\r\n    <path clip-path=\"url(#pe4f7a55f68)\" d=\"M 319.606273 224.64 \r\nL 320.823727 224.64 \r\nL 320.823727 21.965727 \r\nL 319.606273 21.965727 \r\nz\r\n\" style=\"fill:#1f77b4;\"/>\r\n   </g>\r\n   <g id=\"patch_211\">\r\n    <path clip-path=\"url(#pe4f7a55f68)\" d=\"M 320.823727 224.64 \r\nL 322.041182 224.64 \r\nL 322.041182 21.325466 \r\nL 320.823727 21.325466 \r\nz\r\n\" style=\"fill:#1f77b4;\"/>\r\n   </g>\r\n   <g id=\"patch_212\">\r\n    <path clip-path=\"url(#pe4f7a55f68)\" d=\"M 322.041182 224.64 \r\nL 323.258636 224.64 \r\nL 323.258636 20.73402 \r\nL 322.041182 20.73402 \r\nz\r\n\" style=\"fill:#1f77b4;\"/>\r\n   </g>\r\n   <g id=\"patch_213\">\r\n    <path clip-path=\"url(#pe4f7a55f68)\" d=\"M 323.258636 224.64 \r\nL 324.476091 224.64 \r\nL 324.476091 20.134627 \r\nL 323.258636 20.134627 \r\nz\r\n\" style=\"fill:#1f77b4;\"/>\r\n   </g>\r\n   <g id=\"patch_214\">\r\n    <path clip-path=\"url(#pe4f7a55f68)\" d=\"M 324.476091 224.64 \r\nL 325.693545 224.64 \r\nL 325.693545 19.679406 \r\nL 324.476091 19.679406 \r\nz\r\n\" style=\"fill:#1f77b4;\"/>\r\n   </g>\r\n   <g id=\"patch_215\">\r\n    <path clip-path=\"url(#pe4f7a55f68)\" d=\"M 325.693545 224.64 \r\nL 326.911 224.64 \r\nL 326.911 19.268459 \r\nL 325.693545 19.268459 \r\nz\r\n\" style=\"fill:#1f77b4;\"/>\r\n   </g>\r\n   <g id=\"patch_216\">\r\n    <path clip-path=\"url(#pe4f7a55f68)\" d=\"M 326.911 224.64 \r\nL 328.128455 224.64 \r\nL 328.128455 18.923354 \r\nL 326.911 18.923354 \r\nz\r\n\" style=\"fill:#1f77b4;\"/>\r\n   </g>\r\n   <g id=\"patch_217\">\r\n    <path clip-path=\"url(#pe4f7a55f68)\" d=\"M 328.128455 224.64 \r\nL 329.345909 224.64 \r\nL 329.345909 18.654308 \r\nL 328.128455 18.654308 \r\nz\r\n\" style=\"fill:#1f77b4;\"/>\r\n   </g>\r\n   <g id=\"patch_218\">\r\n    <path clip-path=\"url(#pe4f7a55f68)\" d=\"M 329.345909 224.64 \r\nL 330.563364 224.64 \r\nL 330.563364 18.446564 \r\nL 329.345909 18.446564 \r\nz\r\n\" style=\"fill:#1f77b4;\"/>\r\n   </g>\r\n   <g id=\"patch_219\">\r\n    <path clip-path=\"url(#pe4f7a55f68)\" d=\"M 330.563364 224.64 \r\nL 331.780818 224.64 \r\nL 331.780818 18.272876 \r\nL 330.563364 18.272876 \r\nz\r\n\" style=\"fill:#1f77b4;\"/>\r\n   </g>\r\n   <g id=\"patch_220\">\r\n    <path clip-path=\"url(#pe4f7a55f68)\" d=\"M 331.780818 224.64 \r\nL 332.998273 224.64 \r\nL 332.998273 18.135515 \r\nL 331.780818 18.135515 \r\nz\r\n\" style=\"fill:#1f77b4;\"/>\r\n   </g>\r\n   <g id=\"patch_221\">\r\n    <path clip-path=\"url(#pe4f7a55f68)\" d=\"M 332.998273 224.64 \r\nL 334.215727 224.64 \r\nL 334.215727 17.99929 \r\nL 332.998273 17.99929 \r\nz\r\n\" style=\"fill:#1f77b4;\"/>\r\n   </g>\r\n   <g id=\"patch_222\">\r\n    <path clip-path=\"url(#pe4f7a55f68)\" d=\"M 334.215727 224.64 \r\nL 335.433182 224.64 \r\nL 335.433182 17.917554 \r\nL 334.215727 17.917554 \r\nz\r\n\" style=\"fill:#1f77b4;\"/>\r\n   </g>\r\n   <g id=\"patch_223\">\r\n    <path clip-path=\"url(#pe4f7a55f68)\" d=\"M 335.433182 224.64 \r\nL 336.650636 224.64 \r\nL 336.650636 17.849441 \r\nL 335.433182 17.849441 \r\nz\r\n\" style=\"fill:#1f77b4;\"/>\r\n   </g>\r\n   <g id=\"patch_224\">\r\n    <path clip-path=\"url(#pe4f7a55f68)\" d=\"M 336.650636 224.64 \r\nL 337.868091 224.64 \r\nL 337.868091 17.779058 \r\nL 336.650636 17.779058 \r\nz\r\n\" style=\"fill:#1f77b4;\"/>\r\n   </g>\r\n   <g id=\"patch_225\">\r\n    <path clip-path=\"url(#pe4f7a55f68)\" d=\"M 337.868091 224.64 \r\nL 339.085545 224.64 \r\nL 339.085545 17.745002 \r\nL 337.868091 17.745002 \r\nz\r\n\" style=\"fill:#1f77b4;\"/>\r\n   </g>\r\n   <g id=\"patch_226\">\r\n    <path clip-path=\"url(#pe4f7a55f68)\" d=\"M 339.085545 224.64 \r\nL 340.303 224.64 \r\nL 340.303 17.718892 \r\nL 339.085545 17.718892 \r\nz\r\n\" style=\"fill:#1f77b4;\"/>\r\n   </g>\r\n   <g id=\"patch_227\">\r\n    <path clip-path=\"url(#pe4f7a55f68)\" d=\"M 340.303 224.64 \r\nL 341.520455 224.64 \r\nL 341.520455 17.685971 \r\nL 340.303 17.685971 \r\nz\r\n\" style=\"fill:#1f77b4;\"/>\r\n   </g>\r\n   <g id=\"patch_228\">\r\n    <path clip-path=\"url(#pe4f7a55f68)\" d=\"M 341.520455 224.64 \r\nL 342.737909 224.64 \r\nL 342.737909 17.665537 \r\nL 341.520455 17.665537 \r\nz\r\n\" style=\"fill:#1f77b4;\"/>\r\n   </g>\r\n   <g id=\"patch_229\">\r\n    <path clip-path=\"url(#pe4f7a55f68)\" d=\"M 342.737909 224.64 \r\nL 343.955364 224.64 \r\nL 343.955364 17.639427 \r\nL 342.737909 17.639427 \r\nz\r\n\" style=\"fill:#1f77b4;\"/>\r\n   </g>\r\n   <g id=\"patch_230\">\r\n    <path clip-path=\"url(#pe4f7a55f68)\" d=\"M 343.955364 224.64 \r\nL 345.172818 224.64 \r\nL 345.172818 17.614452 \r\nL 343.955364 17.614452 \r\nz\r\n\" style=\"fill:#1f77b4;\"/>\r\n   </g>\r\n   <g id=\"patch_231\">\r\n    <path clip-path=\"url(#pe4f7a55f68)\" d=\"M 345.172818 224.64 \r\nL 346.390273 224.64 \r\nL 346.390273 17.606506 \r\nL 345.172818 17.606506 \r\nz\r\n\" style=\"fill:#1f77b4;\"/>\r\n   </g>\r\n   <g id=\"patch_232\">\r\n    <path clip-path=\"url(#pe4f7a55f68)\" d=\"M 346.390273 224.64 \r\nL 347.607727 224.64 \r\nL 347.607727 17.596289 \r\nL 346.390273 17.596289 \r\nz\r\n\" style=\"fill:#1f77b4;\"/>\r\n   </g>\r\n   <g id=\"patch_233\">\r\n    <path clip-path=\"url(#pe4f7a55f68)\" d=\"M 347.607727 224.64 \r\nL 348.825182 224.64 \r\nL 348.825182 17.586072 \r\nL 347.607727 17.586072 \r\nz\r\n\" style=\"fill:#1f77b4;\"/>\r\n   </g>\r\n   <g id=\"patch_234\">\r\n    <path clip-path=\"url(#pe4f7a55f68)\" d=\"M 348.825182 224.64 \r\nL 350.042636 224.64 \r\nL 350.042636 17.575855 \r\nL 348.825182 17.575855 \r\nz\r\n\" style=\"fill:#1f77b4;\"/>\r\n   </g>\r\n   <g id=\"patch_235\">\r\n    <path clip-path=\"url(#pe4f7a55f68)\" d=\"M 350.042636 224.64 \r\nL 351.260091 224.64 \r\nL 351.260091 17.570179 \r\nL 350.042636 17.570179 \r\nz\r\n\" style=\"fill:#1f77b4;\"/>\r\n   </g>\r\n   <g id=\"patch_236\">\r\n    <path clip-path=\"url(#pe4f7a55f68)\" d=\"M 351.260091 224.64 \r\nL 352.477545 224.64 \r\nL 352.477545 17.566773 \r\nL 351.260091 17.566773 \r\nz\r\n\" style=\"fill:#1f77b4;\"/>\r\n   </g>\r\n   <g id=\"patch_237\">\r\n    <path clip-path=\"url(#pe4f7a55f68)\" d=\"M 352.477545 224.64 \r\nL 353.695 224.64 \r\nL 353.695 17.565638 \r\nL 352.477545 17.565638 \r\nz\r\n\" style=\"fill:#1f77b4;\"/>\r\n   </g>\r\n   <g id=\"patch_238\">\r\n    <path clip-path=\"url(#pe4f7a55f68)\" d=\"M 353.695 224.64 \r\nL 354.912455 224.64 \r\nL 354.912455 17.563367 \r\nL 353.695 17.563367 \r\nz\r\n\" style=\"fill:#1f77b4;\"/>\r\n   </g>\r\n   <g id=\"patch_239\">\r\n    <path clip-path=\"url(#pe4f7a55f68)\" d=\"M 354.912455 224.64 \r\nL 356.129909 224.64 \r\nL 356.129909 17.561097 \r\nL 354.912455 17.561097 \r\nz\r\n\" style=\"fill:#1f77b4;\"/>\r\n   </g>\r\n   <g id=\"patch_240\">\r\n    <path clip-path=\"url(#pe4f7a55f68)\" d=\"M 356.129909 224.64 \r\nL 357.347364 224.64 \r\nL 357.347364 17.561097 \r\nL 356.129909 17.561097 \r\nz\r\n\" style=\"fill:#1f77b4;\"/>\r\n   </g>\r\n   <g id=\"patch_241\">\r\n    <path clip-path=\"url(#pe4f7a55f68)\" d=\"M 357.347364 224.64 \r\nL 358.564818 224.64 \r\nL 358.564818 17.561097 \r\nL 357.347364 17.561097 \r\nz\r\n\" style=\"fill:#1f77b4;\"/>\r\n   </g>\r\n   <g id=\"patch_242\">\r\n    <path clip-path=\"url(#pe4f7a55f68)\" d=\"M 358.564818 224.64 \r\nL 359.782273 224.64 \r\nL 359.782273 17.559962 \r\nL 358.564818 17.559962 \r\nz\r\n\" style=\"fill:#1f77b4;\"/>\r\n   </g>\r\n   <g id=\"patch_243\">\r\n    <path clip-path=\"url(#pe4f7a55f68)\" d=\"M 359.782273 224.64 \r\nL 360.999727 224.64 \r\nL 360.999727 17.558827 \r\nL 359.782273 17.558827 \r\nz\r\n\" style=\"fill:#1f77b4;\"/>\r\n   </g>\r\n   <g id=\"patch_244\">\r\n    <path clip-path=\"url(#pe4f7a55f68)\" d=\"M 360.999727 224.64 \r\nL 362.217182 224.64 \r\nL 362.217182 17.556556 \r\nL 360.999727 17.556556 \r\nz\r\n\" style=\"fill:#1f77b4;\"/>\r\n   </g>\r\n   <g id=\"patch_245\">\r\n    <path clip-path=\"url(#pe4f7a55f68)\" d=\"M 362.217182 224.64 \r\nL 363.434636 224.64 \r\nL 363.434636 17.556556 \r\nL 362.217182 17.556556 \r\nz\r\n\" style=\"fill:#1f77b4;\"/>\r\n   </g>\r\n   <g id=\"patch_246\">\r\n    <path clip-path=\"url(#pe4f7a55f68)\" d=\"M 363.434636 224.64 \r\nL 364.652091 224.64 \r\nL 364.652091 17.555421 \r\nL 363.434636 17.555421 \r\nz\r\n\" style=\"fill:#1f77b4;\"/>\r\n   </g>\r\n   <g id=\"patch_247\">\r\n    <path clip-path=\"url(#pe4f7a55f68)\" d=\"M 364.652091 224.64 \r\nL 365.869545 224.64 \r\nL 365.869545 17.555421 \r\nL 364.652091 17.555421 \r\nz\r\n\" style=\"fill:#1f77b4;\"/>\r\n   </g>\r\n   <g id=\"patch_248\">\r\n    <path clip-path=\"url(#pe4f7a55f68)\" d=\"M 365.869545 224.64 \r\nL 367.087 224.64 \r\nL 367.087 17.555421 \r\nL 365.869545 17.555421 \r\nz\r\n\" style=\"fill:#1f77b4;\"/>\r\n   </g>\r\n   <g id=\"patch_249\">\r\n    <path clip-path=\"url(#pe4f7a55f68)\" d=\"M 367.087 224.64 \r\nL 368.304455 224.64 \r\nL 368.304455 17.555421 \r\nL 367.087 17.555421 \r\nz\r\n\" style=\"fill:#1f77b4;\"/>\r\n   </g>\r\n   <g id=\"patch_250\">\r\n    <path clip-path=\"url(#pe4f7a55f68)\" d=\"M 368.304455 224.64 \r\nL 369.521909 224.64 \r\nL 369.521909 17.555421 \r\nL 368.304455 17.555421 \r\nz\r\n\" style=\"fill:#1f77b4;\"/>\r\n   </g>\r\n   <g id=\"patch_251\">\r\n    <path clip-path=\"url(#pe4f7a55f68)\" d=\"M 369.521909 224.64 \r\nL 370.739364 224.64 \r\nL 370.739364 17.555421 \r\nL 369.521909 17.555421 \r\nz\r\n\" style=\"fill:#1f77b4;\"/>\r\n   </g>\r\n   <g id=\"patch_252\">\r\n    <path clip-path=\"url(#pe4f7a55f68)\" d=\"M 370.739364 224.64 \r\nL 371.956818 224.64 \r\nL 371.956818 17.554286 \r\nL 370.739364 17.554286 \r\nz\r\n\" style=\"fill:#1f77b4;\"/>\r\n   </g>\r\n   <g id=\"matplotlib.axis_1\">\r\n    <g id=\"xtick_1\">\r\n     <g id=\"line2d_1\">\r\n      <defs>\r\n       <path d=\"M 0 0 \r\nL 0 3.5 \r\n\" id=\"m48bb50d231\" style=\"stroke:#000000;stroke-width:0.8;\"/>\r\n      </defs>\r\n      <g>\r\n       <use style=\"stroke:#000000;stroke-width:0.8;\" x=\"93.304573\" xlink:href=\"#m48bb50d231\" y=\"224.64\"/>\r\n      </g>\r\n     </g>\r\n     <g id=\"text_1\">\r\n      <!-- 1.0 -->\r\n      <g transform=\"translate(85.35301 239.238437)scale(0.1 -0.1)\">\r\n       <defs>\r\n        <path d=\"M 12.40625 8.296875 \r\nL 28.515625 8.296875 \r\nL 28.515625 63.921875 \r\nL 10.984375 60.40625 \r\nL 10.984375 69.390625 \r\nL 28.421875 72.90625 \r\nL 38.28125 72.90625 \r\nL 38.28125 8.296875 \r\nL 54.390625 8.296875 \r\nL 54.390625 0 \r\nL 12.40625 0 \r\nz\r\n\" id=\"DejaVuSans-49\"/>\r\n        <path d=\"M 10.6875 12.40625 \r\nL 21 12.40625 \r\nL 21 0 \r\nL 10.6875 0 \r\nz\r\n\" id=\"DejaVuSans-46\"/>\r\n        <path d=\"M 31.78125 66.40625 \r\nQ 24.171875 66.40625 20.328125 58.90625 \r\nQ 16.5 51.421875 16.5 36.375 \r\nQ 16.5 21.390625 20.328125 13.890625 \r\nQ 24.171875 6.390625 31.78125 6.390625 \r\nQ 39.453125 6.390625 43.28125 13.890625 \r\nQ 47.125 21.390625 47.125 36.375 \r\nQ 47.125 51.421875 43.28125 58.90625 \r\nQ 39.453125 66.40625 31.78125 66.40625 \r\nz\r\nM 31.78125 74.21875 \r\nQ 44.046875 74.21875 50.515625 64.515625 \r\nQ 56.984375 54.828125 56.984375 36.375 \r\nQ 56.984375 17.96875 50.515625 8.265625 \r\nQ 44.046875 -1.421875 31.78125 -1.421875 \r\nQ 19.53125 -1.421875 13.0625 8.265625 \r\nQ 6.59375 17.96875 6.59375 36.375 \r\nQ 6.59375 54.828125 13.0625 64.515625 \r\nQ 19.53125 74.21875 31.78125 74.21875 \r\nz\r\n\" id=\"DejaVuSans-48\"/>\r\n       </defs>\r\n       <use xlink:href=\"#DejaVuSans-49\"/>\r\n       <use x=\"63.623047\" xlink:href=\"#DejaVuSans-46\"/>\r\n       <use x=\"95.410156\" xlink:href=\"#DejaVuSans-48\"/>\r\n      </g>\r\n     </g>\r\n    </g>\r\n    <g id=\"xtick_2\">\r\n     <g id=\"line2d_2\">\r\n      <g>\r\n       <use style=\"stroke:#000000;stroke-width:0.8;\" x=\"151.985485\" xlink:href=\"#m48bb50d231\" y=\"224.64\"/>\r\n      </g>\r\n     </g>\r\n     <g id=\"text_2\">\r\n      <!-- 1.5 -->\r\n      <g transform=\"translate(144.033923 239.238437)scale(0.1 -0.1)\">\r\n       <defs>\r\n        <path d=\"M 10.796875 72.90625 \r\nL 49.515625 72.90625 \r\nL 49.515625 64.59375 \r\nL 19.828125 64.59375 \r\nL 19.828125 46.734375 \r\nQ 21.96875 47.46875 24.109375 47.828125 \r\nQ 26.265625 48.1875 28.421875 48.1875 \r\nQ 40.625 48.1875 47.75 41.5 \r\nQ 54.890625 34.8125 54.890625 23.390625 \r\nQ 54.890625 11.625 47.5625 5.09375 \r\nQ 40.234375 -1.421875 26.90625 -1.421875 \r\nQ 22.3125 -1.421875 17.546875 -0.640625 \r\nQ 12.796875 0.140625 7.71875 1.703125 \r\nL 7.71875 11.625 \r\nQ 12.109375 9.234375 16.796875 8.0625 \r\nQ 21.484375 6.890625 26.703125 6.890625 \r\nQ 35.15625 6.890625 40.078125 11.328125 \r\nQ 45.015625 15.765625 45.015625 23.390625 \r\nQ 45.015625 31 40.078125 35.4375 \r\nQ 35.15625 39.890625 26.703125 39.890625 \r\nQ 22.75 39.890625 18.8125 39.015625 \r\nQ 14.890625 38.140625 10.796875 36.28125 \r\nz\r\n\" id=\"DejaVuSans-53\"/>\r\n       </defs>\r\n       <use xlink:href=\"#DejaVuSans-49\"/>\r\n       <use x=\"63.623047\" xlink:href=\"#DejaVuSans-46\"/>\r\n       <use x=\"95.410156\" xlink:href=\"#DejaVuSans-53\"/>\r\n      </g>\r\n     </g>\r\n    </g>\r\n    <g id=\"xtick_3\">\r\n     <g id=\"line2d_3\">\r\n      <g>\r\n       <use style=\"stroke:#000000;stroke-width:0.8;\" x=\"210.666398\" xlink:href=\"#m48bb50d231\" y=\"224.64\"/>\r\n      </g>\r\n     </g>\r\n     <g id=\"text_3\">\r\n      <!-- 2.0 -->\r\n      <g transform=\"translate(202.714835 239.238437)scale(0.1 -0.1)\">\r\n       <defs>\r\n        <path d=\"M 19.1875 8.296875 \r\nL 53.609375 8.296875 \r\nL 53.609375 0 \r\nL 7.328125 0 \r\nL 7.328125 8.296875 \r\nQ 12.9375 14.109375 22.625 23.890625 \r\nQ 32.328125 33.6875 34.8125 36.53125 \r\nQ 39.546875 41.84375 41.421875 45.53125 \r\nQ 43.3125 49.21875 43.3125 52.78125 \r\nQ 43.3125 58.59375 39.234375 62.25 \r\nQ 35.15625 65.921875 28.609375 65.921875 \r\nQ 23.96875 65.921875 18.8125 64.3125 \r\nQ 13.671875 62.703125 7.8125 59.421875 \r\nL 7.8125 69.390625 \r\nQ 13.765625 71.78125 18.9375 73 \r\nQ 24.125 74.21875 28.421875 74.21875 \r\nQ 39.75 74.21875 46.484375 68.546875 \r\nQ 53.21875 62.890625 53.21875 53.421875 \r\nQ 53.21875 48.921875 51.53125 44.890625 \r\nQ 49.859375 40.875 45.40625 35.40625 \r\nQ 44.1875 33.984375 37.640625 27.21875 \r\nQ 31.109375 20.453125 19.1875 8.296875 \r\nz\r\n\" id=\"DejaVuSans-50\"/>\r\n       </defs>\r\n       <use xlink:href=\"#DejaVuSans-50\"/>\r\n       <use x=\"63.623047\" xlink:href=\"#DejaVuSans-46\"/>\r\n       <use x=\"95.410156\" xlink:href=\"#DejaVuSans-48\"/>\r\n      </g>\r\n     </g>\r\n    </g>\r\n    <g id=\"xtick_4\">\r\n     <g id=\"line2d_4\">\r\n      <g>\r\n       <use style=\"stroke:#000000;stroke-width:0.8;\" x=\"269.34731\" xlink:href=\"#m48bb50d231\" y=\"224.64\"/>\r\n      </g>\r\n     </g>\r\n     <g id=\"text_4\">\r\n      <!-- 2.5 -->\r\n      <g transform=\"translate(261.395748 239.238437)scale(0.1 -0.1)\">\r\n       <use xlink:href=\"#DejaVuSans-50\"/>\r\n       <use x=\"63.623047\" xlink:href=\"#DejaVuSans-46\"/>\r\n       <use x=\"95.410156\" xlink:href=\"#DejaVuSans-53\"/>\r\n      </g>\r\n     </g>\r\n    </g>\r\n    <g id=\"xtick_5\">\r\n     <g id=\"line2d_5\">\r\n      <g>\r\n       <use style=\"stroke:#000000;stroke-width:0.8;\" x=\"328.028223\" xlink:href=\"#m48bb50d231\" y=\"224.64\"/>\r\n      </g>\r\n     </g>\r\n     <g id=\"text_5\">\r\n      <!-- 3.0 -->\r\n      <g transform=\"translate(320.07666 239.238437)scale(0.1 -0.1)\">\r\n       <defs>\r\n        <path d=\"M 40.578125 39.3125 \r\nQ 47.65625 37.796875 51.625 33 \r\nQ 55.609375 28.21875 55.609375 21.1875 \r\nQ 55.609375 10.40625 48.1875 4.484375 \r\nQ 40.765625 -1.421875 27.09375 -1.421875 \r\nQ 22.515625 -1.421875 17.65625 -0.515625 \r\nQ 12.796875 0.390625 7.625 2.203125 \r\nL 7.625 11.71875 \r\nQ 11.71875 9.328125 16.59375 8.109375 \r\nQ 21.484375 6.890625 26.8125 6.890625 \r\nQ 36.078125 6.890625 40.9375 10.546875 \r\nQ 45.796875 14.203125 45.796875 21.1875 \r\nQ 45.796875 27.640625 41.28125 31.265625 \r\nQ 36.765625 34.90625 28.71875 34.90625 \r\nL 20.21875 34.90625 \r\nL 20.21875 43.015625 \r\nL 29.109375 43.015625 \r\nQ 36.375 43.015625 40.234375 45.921875 \r\nQ 44.09375 48.828125 44.09375 54.296875 \r\nQ 44.09375 59.90625 40.109375 62.90625 \r\nQ 36.140625 65.921875 28.71875 65.921875 \r\nQ 24.65625 65.921875 20.015625 65.03125 \r\nQ 15.375 64.15625 9.8125 62.3125 \r\nL 9.8125 71.09375 \r\nQ 15.4375 72.65625 20.34375 73.4375 \r\nQ 25.25 74.21875 29.59375 74.21875 \r\nQ 40.828125 74.21875 47.359375 69.109375 \r\nQ 53.90625 64.015625 53.90625 55.328125 \r\nQ 53.90625 49.265625 50.4375 45.09375 \r\nQ 46.96875 40.921875 40.578125 39.3125 \r\nz\r\n\" id=\"DejaVuSans-51\"/>\r\n       </defs>\r\n       <use xlink:href=\"#DejaVuSans-51\"/>\r\n       <use x=\"63.623047\" xlink:href=\"#DejaVuSans-46\"/>\r\n       <use x=\"95.410156\" xlink:href=\"#DejaVuSans-48\"/>\r\n      </g>\r\n     </g>\r\n    </g>\r\n    <g id=\"xtick_6\">\r\n     <g id=\"line2d_6\">\r\n      <g>\r\n       <use style=\"stroke:#000000;stroke-width:0.8;\" x=\"386.709135\" xlink:href=\"#m48bb50d231\" y=\"224.64\"/>\r\n      </g>\r\n     </g>\r\n     <g id=\"text_6\">\r\n      <!-- 3.5 -->\r\n      <g transform=\"translate(378.757573 239.238437)scale(0.1 -0.1)\">\r\n       <use xlink:href=\"#DejaVuSans-51\"/>\r\n       <use x=\"63.623047\" xlink:href=\"#DejaVuSans-46\"/>\r\n       <use x=\"95.410156\" xlink:href=\"#DejaVuSans-53\"/>\r\n      </g>\r\n     </g>\r\n    </g>\r\n   </g>\r\n   <g id=\"matplotlib.axis_2\">\r\n    <g id=\"ytick_1\">\r\n     <g id=\"line2d_7\">\r\n      <defs>\r\n       <path d=\"M 0 0 \r\nL -3.5 0 \r\n\" id=\"ma5786c9803\" style=\"stroke:#000000;stroke-width:0.8;\"/>\r\n      </defs>\r\n      <g>\r\n       <use style=\"stroke:#000000;stroke-width:0.8;\" x=\"52.375\" xlink:href=\"#ma5786c9803\" y=\"224.64\"/>\r\n      </g>\r\n     </g>\r\n     <g id=\"text_7\">\r\n      <!-- 0 -->\r\n      <g transform=\"translate(39.0125 228.439219)scale(0.1 -0.1)\">\r\n       <use xlink:href=\"#DejaVuSans-48\"/>\r\n      </g>\r\n     </g>\r\n    </g>\r\n    <g id=\"ytick_2\">\r\n     <g id=\"line2d_8\">\r\n      <g>\r\n       <use style=\"stroke:#000000;stroke-width:0.8;\" x=\"52.375\" xlink:href=\"#ma5786c9803\" y=\"196.259653\"/>\r\n      </g>\r\n     </g>\r\n     <g id=\"text_8\">\r\n      <!-- 25000 -->\r\n      <g transform=\"translate(13.5625 200.058872)scale(0.1 -0.1)\">\r\n       <use xlink:href=\"#DejaVuSans-50\"/>\r\n       <use x=\"63.623047\" xlink:href=\"#DejaVuSans-53\"/>\r\n       <use x=\"127.246094\" xlink:href=\"#DejaVuSans-48\"/>\r\n       <use x=\"190.869141\" xlink:href=\"#DejaVuSans-48\"/>\r\n       <use x=\"254.492188\" xlink:href=\"#DejaVuSans-48\"/>\r\n      </g>\r\n     </g>\r\n    </g>\r\n    <g id=\"ytick_3\">\r\n     <g id=\"line2d_9\">\r\n      <g>\r\n       <use style=\"stroke:#000000;stroke-width:0.8;\" x=\"52.375\" xlink:href=\"#ma5786c9803\" y=\"167.879306\"/>\r\n      </g>\r\n     </g>\r\n     <g id=\"text_9\">\r\n      <!-- 50000 -->\r\n      <g transform=\"translate(13.5625 171.678525)scale(0.1 -0.1)\">\r\n       <use xlink:href=\"#DejaVuSans-53\"/>\r\n       <use x=\"63.623047\" xlink:href=\"#DejaVuSans-48\"/>\r\n       <use x=\"127.246094\" xlink:href=\"#DejaVuSans-48\"/>\r\n       <use x=\"190.869141\" xlink:href=\"#DejaVuSans-48\"/>\r\n       <use x=\"254.492188\" xlink:href=\"#DejaVuSans-48\"/>\r\n      </g>\r\n     </g>\r\n    </g>\r\n    <g id=\"ytick_4\">\r\n     <g id=\"line2d_10\">\r\n      <g>\r\n       <use style=\"stroke:#000000;stroke-width:0.8;\" x=\"52.375\" xlink:href=\"#ma5786c9803\" y=\"139.49896\"/>\r\n      </g>\r\n     </g>\r\n     <g id=\"text_10\">\r\n      <!-- 75000 -->\r\n      <g transform=\"translate(13.5625 143.298178)scale(0.1 -0.1)\">\r\n       <defs>\r\n        <path d=\"M 8.203125 72.90625 \r\nL 55.078125 72.90625 \r\nL 55.078125 68.703125 \r\nL 28.609375 0 \r\nL 18.3125 0 \r\nL 43.21875 64.59375 \r\nL 8.203125 64.59375 \r\nz\r\n\" id=\"DejaVuSans-55\"/>\r\n       </defs>\r\n       <use xlink:href=\"#DejaVuSans-55\"/>\r\n       <use x=\"63.623047\" xlink:href=\"#DejaVuSans-53\"/>\r\n       <use x=\"127.246094\" xlink:href=\"#DejaVuSans-48\"/>\r\n       <use x=\"190.869141\" xlink:href=\"#DejaVuSans-48\"/>\r\n       <use x=\"254.492188\" xlink:href=\"#DejaVuSans-48\"/>\r\n      </g>\r\n     </g>\r\n    </g>\r\n    <g id=\"ytick_5\">\r\n     <g id=\"line2d_11\">\r\n      <g>\r\n       <use style=\"stroke:#000000;stroke-width:0.8;\" x=\"52.375\" xlink:href=\"#ma5786c9803\" y=\"111.118613\"/>\r\n      </g>\r\n     </g>\r\n     <g id=\"text_11\">\r\n      <!-- 100000 -->\r\n      <g transform=\"translate(7.2 114.917832)scale(0.1 -0.1)\">\r\n       <use xlink:href=\"#DejaVuSans-49\"/>\r\n       <use x=\"63.623047\" xlink:href=\"#DejaVuSans-48\"/>\r\n       <use x=\"127.246094\" xlink:href=\"#DejaVuSans-48\"/>\r\n       <use x=\"190.869141\" xlink:href=\"#DejaVuSans-48\"/>\r\n       <use x=\"254.492188\" xlink:href=\"#DejaVuSans-48\"/>\r\n       <use x=\"318.115234\" xlink:href=\"#DejaVuSans-48\"/>\r\n      </g>\r\n     </g>\r\n    </g>\r\n    <g id=\"ytick_6\">\r\n     <g id=\"line2d_12\">\r\n      <g>\r\n       <use style=\"stroke:#000000;stroke-width:0.8;\" x=\"52.375\" xlink:href=\"#ma5786c9803\" y=\"82.738266\"/>\r\n      </g>\r\n     </g>\r\n     <g id=\"text_12\">\r\n      <!-- 125000 -->\r\n      <g transform=\"translate(7.2 86.537485)scale(0.1 -0.1)\">\r\n       <use xlink:href=\"#DejaVuSans-49\"/>\r\n       <use x=\"63.623047\" xlink:href=\"#DejaVuSans-50\"/>\r\n       <use x=\"127.246094\" xlink:href=\"#DejaVuSans-53\"/>\r\n       <use x=\"190.869141\" xlink:href=\"#DejaVuSans-48\"/>\r\n       <use x=\"254.492188\" xlink:href=\"#DejaVuSans-48\"/>\r\n       <use x=\"318.115234\" xlink:href=\"#DejaVuSans-48\"/>\r\n      </g>\r\n     </g>\r\n    </g>\r\n    <g id=\"ytick_7\">\r\n     <g id=\"line2d_13\">\r\n      <g>\r\n       <use style=\"stroke:#000000;stroke-width:0.8;\" x=\"52.375\" xlink:href=\"#ma5786c9803\" y=\"54.357919\"/>\r\n      </g>\r\n     </g>\r\n     <g id=\"text_13\">\r\n      <!-- 150000 -->\r\n      <g transform=\"translate(7.2 58.157138)scale(0.1 -0.1)\">\r\n       <use xlink:href=\"#DejaVuSans-49\"/>\r\n       <use x=\"63.623047\" xlink:href=\"#DejaVuSans-53\"/>\r\n       <use x=\"127.246094\" xlink:href=\"#DejaVuSans-48\"/>\r\n       <use x=\"190.869141\" xlink:href=\"#DejaVuSans-48\"/>\r\n       <use x=\"254.492188\" xlink:href=\"#DejaVuSans-48\"/>\r\n       <use x=\"318.115234\" xlink:href=\"#DejaVuSans-48\"/>\r\n      </g>\r\n     </g>\r\n    </g>\r\n    <g id=\"ytick_8\">\r\n     <g id=\"line2d_14\">\r\n      <g>\r\n       <use style=\"stroke:#000000;stroke-width:0.8;\" x=\"52.375\" xlink:href=\"#ma5786c9803\" y=\"25.977573\"/>\r\n      </g>\r\n     </g>\r\n     <g id=\"text_14\">\r\n      <!-- 175000 -->\r\n      <g transform=\"translate(7.2 29.776791)scale(0.1 -0.1)\">\r\n       <use xlink:href=\"#DejaVuSans-49\"/>\r\n       <use x=\"63.623047\" xlink:href=\"#DejaVuSans-55\"/>\r\n       <use x=\"127.246094\" xlink:href=\"#DejaVuSans-53\"/>\r\n       <use x=\"190.869141\" xlink:href=\"#DejaVuSans-48\"/>\r\n       <use x=\"254.492188\" xlink:href=\"#DejaVuSans-48\"/>\r\n       <use x=\"318.115234\" xlink:href=\"#DejaVuSans-48\"/>\r\n      </g>\r\n     </g>\r\n    </g>\r\n   </g>\r\n   <g id=\"patch_253\">\r\n    <path d=\"M 52.375 224.64 \r\nL 52.375 7.2 \r\n\" style=\"fill:none;stroke:#000000;stroke-linecap:square;stroke-linejoin:miter;stroke-width:0.8;\"/>\r\n   </g>\r\n   <g id=\"patch_254\">\r\n    <path d=\"M 387.175 224.64 \r\nL 387.175 7.2 \r\n\" style=\"fill:none;stroke:#000000;stroke-linecap:square;stroke-linejoin:miter;stroke-width:0.8;\"/>\r\n   </g>\r\n   <g id=\"patch_255\">\r\n    <path d=\"M 52.375 224.64 \r\nL 387.175 224.64 \r\n\" style=\"fill:none;stroke:#000000;stroke-linecap:square;stroke-linejoin:miter;stroke-width:0.8;\"/>\r\n   </g>\r\n   <g id=\"patch_256\">\r\n    <path d=\"M 52.375 7.2 \r\nL 387.175 7.2 \r\n\" style=\"fill:none;stroke:#000000;stroke-linecap:square;stroke-linejoin:miter;stroke-width:0.8;\"/>\r\n   </g>\r\n  </g>\r\n </g>\r\n <defs>\r\n  <clipPath id=\"pe4f7a55f68\">\r\n   <rect height=\"217.44\" width=\"334.8\" x=\"52.375\" y=\"7.2\"/>\r\n  </clipPath>\r\n </defs>\r\n</svg>\r\n",
            "image/png": "[encoded data removed]"
          },
          "metadata": {
            "needs_background": "light"
          }
        }
      ],
      "source": [
        "a=plt.hist(y_train_train_pred,250,cumulative=True);\n",
        "print(a[0])"
      ]
    },
    {
      "cell_type": "code",
      "execution_count": 183,
      "metadata": {},
      "outputs": [],
      "source": [
        "def show_similarity(a,b):\n",
        "    for i in range(min(len(a),1000)):\n",
        "        print(f\"{a[i]}-{b[i]} \",end=\"\")"
      ]
    },
    {
      "cell_type": "code",
      "execution_count": 184,
      "metadata": {
        "tags": []
      },
      "outputs": [
        {
          "output_type": "stream",
          "name": "stdout",
          "text": [
            "out:  (17667, 121503, 182420)\n",
            "1.01.01.03.05.06.07.011.014.014.020.029.040.049.066.095.0125.0154.0179.0225.0277.0324.0389.0470.0550.0629.0708.0822.0930.01052.01176.01309.01453.01607.01743.01903.02054.02232.02426.02597.02803.03000.03205.03415.03655.03889.04103.04340.04592.04832.05077.05332.05598.05878.06162.06419.06700.06944.07237.07503.07806.08078.08379.08669.08983.09315.09588.09892.010216.010517.010854.011171.011482.011844.012175.012565.012871.013250.013581.013902.014315.014705.015064.015458.015867.016272.016720.017119.017527.017997.0step: [89, 157]\n",
            "Limits: (1.7041647788855192, 2.4095637369131087)\n",
            "conv: (1.7041647788855192, 2.4095637369131087)\n",
            "hiba:46335 max:182420 -- error: 25.4002 good %: 74.5998 %\n",
            "2-[3] 2-[2] 3-[2] 2-[3] 2-[2] 3-[3] 2-[2] 3-[3] 3-[3] 2-[2] 1-[2] 3-[3] 2-[2] 1-[2] 2-[2] 3-[3] 3-[2] 2-[1] 2-[3] 2-[2] 3-[3] 2-[2] 3-[3] 3-[3] 2-[2] 3-[3] 1-[1] 3-[2] 2-[2] 2-[2] 2-[2] 1-[1] 3-[3] 2-[2] 3-[2] 3-[2] 2-[2] 1-[2] 3-[3] 3-[2] 2-[2] 2-[2] 3-[2] 1-[1] 3-[2] 2-[3] 2-[2] 2-[2] 3-[2] 3-[3] 1-[2] 2-[2] 2-[2] 2-[2] 3-[3] 2-[2] 2-[2] 3-[3] 1-[2] 2-[2] 2-[2] 2-[2] 2-[2] 2-[3] 2-[3] 3-[2] 2-[2] 2-[2] 1-[2] 1-[2] 1-[2] 1-[1] 2-[2] 3-[3] 3-[3] 3-[3] 2-[2] 2-[3] 2-[2] 2-[3] 2-[1] 3-[2] 3-[3] 2-[2] 3-[2] 2-[3] 3-[3] 2-[2] 2-[2] 2-[2] 3-[3] 2-[3] 2-[2] 2-[2] 2-[2] 3-[2] 2-[3] 2-[2] 2-[2] 3-[3] 2-[2] 1-[1] 1-[1] 2-[3] 2-[2] 3-[2] 3-[3] 3-[3] 1-[2] 1-[1] 2-[3] 2-[2] 3-[2] 2-[3] 1-[1] 2-[2] 2-[2] 2-[3] 2-[3] 1-[1] 2-[2] 3-[2] 2-[1] 2-[3] 3-[3] 3-[3] 2-[2] 2-[2] 3-[3] 1-[2] 3-[2] 1-[1] 3-[2] 2-[3] 2-[2] 3-[3] 2-[2] 2-[2] 3-[3] 2-[2] 1-[1] 3-[3] 2-[3] 1-[2] 3-[3] 2-[2] 2-[2] 2-[2] 3-[3] 3-[2] 3-[3] 2-[2] 2-[2] 3-[3] 3-[3] 2-[3] 3-[3] 1-[1] 2-[2] 3-[2] 3-[3] 2-[1] 2-[2] 2-[3] 2-[2] 3-[3] 2-[2] 3-[2] 3-[3] 3-[2] 2-[2] 3-[2] 2-[2] 2-[2] 2-[2] 2-[2] 2-[2] 2-[3] 2-[2] 1-[1] 2-[2] 2-[3] 2-[2] 3-[3] 3-[2] 1-[1] 3-[3] 2-[3] 3-[3] 2-[2] 3-[3] 2-[2] 3-[3] 2-[2] 2-[3] 3-[3] 2-[2] 3-[3] 3-[3] 3-[2] 2-[3] 3-[3] 2-[3] 1-[1] 2-[2] 3-[2] 3-[3] 1-[1] 2-[1] 3-[3] 3-[3] 3-[3] 2-[2] 2-[2] 1-[1] 2-[2] 2-[2] 3-[3] 3-[3] 2-[2] 1-[2] 2-[2] 2-[2] 3-[3] 1-[1] 2-[2] 3-[3] 3-[2] 2-[2] 1-[1] 3-[2] 3-[3] 2-[2] 3-[3] 3-[3] 3-[2] 2-[2] 2-[2] 1-[1] 2-[2] 2-[2] 3-[2] 2-[2] 3-[2] 2-[2] 1-[2] 3-[2] 3-[2] 2-[2] 3-[3] 2-[2] 2-[2] 2-[2] 2-[2] 3-[3] 3-[2] 3-[3] 2-[2] 2-[2] 2-[2] 3-[3] 2-[2] 2-[2] 2-[2] 2-[2] 2-[1] 3-[3] 1-[2] 3-[3] 2-[2] 2-[2] 1-[1] 2-[2] 1-[1] 1-[1] 2-[1] 3-[2] 2-[3] 1-[1] 2-[2] 2-[2] 3-[2] 3-[2] 2-[2] 2-[2] 2-[2] 2-[2] 2-[2] 1-[1] 1-[1] 3-[3] 2-[1] 1-[1] 3-[2] 2-[2] 3-[3] 2-[2] 3-[3] 3-[3] 3-[3] 2-[2] 2-[2] 3-[2] 3-[3] 1-[2] 3-[2] 2-[2] 3-[3] 3-[3] 3-[3] 2-[3] 3-[3] 2-[2] 3-[3] 2-[3] 3-[2] 3-[3] 2-[2] 3-[3] 2-[2] 2-[2] 2-[2] 1-[2] 2-[3] 2-[3] 3-[2] 3-[2] 2-[2] 3-[3] 2-[1] 2-[3] 2-[3] 1-[1] 3-[2] 2-[3] 2-[3] 2-[2] 1-[2] 2-[2] 3-[2] 3-[3] 2-[2] 1-[2] 2-[1] 1-[2] 2-[3] 3-[3] 1-[1] 3-[3] 3-[3] 3-[3] 3-[3] 2-[2] 1-[1] 2-[2] 3-[3] 2-[3] 1-[2] 2-[3] 3-[2] 2-[2] 2-[3] 3-[3] 1-[2] 3-[2] 1-[1] 3-[3] 3-[3] 1-[1] 2-[3] 3-[2] 2-[2] 2-[2] 3-[3] 2-[1] 2-[2] 2-[2] 3-[2] 3-[3] 3-[3] 2-[2] 3-[3] 2-[2] 2-[3] 2-[2] 3-[3] 1-[1] 2-[3] 2-[2] 2-[2] 3-[3] 3-[3] 3-[3] 2-[2] 2-[2] 2-[2] 2-[3] 3-[3] 2-[2] 2-[1] 3-[3] 2-[2] 1-[1] 2-[3] 3-[3] 3-[2] 2-[2] 3-[2] 2-[3] 3-[2] 3-[3] 2-[2] 1-[1] 3-[3] 2-[2] 2-[2] 2-[2] 2-[2] 1-[1] 3-[3] 2-[2] 2-[2] 2-[2] 2-[2] 3-[3] 2-[2] 1-[2] 2-[2] 3-[3] 1-[1] 3-[3] 3-[3] 2-[2] 2-[2] 2-[3] 2-[2] 3-[3] 3-[3] 3-[3] 2-[2] 1-[1] 2-[2] 2-[2] 2-[3] 2-[2] 2-[2] 3-[3] 3-[2] 2-[2] 3-[2] 2-[3] 3-[3] 2-[3] 2-[3] 2-[3] 3-[2] 2-[2] 2-[2] 2-[2] 3-[3] 2-[2] 2-[2] 2-[2] 2-[3] 2-[2] 2-[2] 1-[2] 3-[3] 2-[2] 3-[3] 1-[1] 3-[3] 2-[2] 2-[3] 2-[2] 2-[1] 2-[2] 2-[2] 2-[2] 2-[3] 2-[2] 2-[2] 2-[2] 3-[3] 2-[1] 2-[1] 2-[3] 2-[2] 2-[3] 2-[2] 3-[3] 3-[3] 2-[2] 2-[3] 2-[3] 3-[2] 2-[2] 2-[2] 2-[3] 3-[3] 3-[3] 2-[2] 2-[2] 2-[2] 3-[3] 1-[1] 2-[2] 2-[2] 2-[2] 2-[2] 2-[2] 3-[2] 3-[3] 2-[2] 2-[2] 2-[3] 2-[2] 2-[2] 3-[2] 2-[2] 1-[1] 2-[2] 3-[3] 2-[3] 3-[3] 2-[2] 2-[3] 2-[2] 3-[2] 3-[2] 1-[2] 1-[1] 3-[3] 2-[2] 3-[3] 2-[3] 3-[3] 2-[2] 2-[1] 3-[3] 3-[3] 2-[3] 2-[2] 2-[2] 3-[2] 2-[3] 2-[2] 1-[2] 2-[2] 2-[2] 3-[3] 3-[3] 3-[2] 3-[2] 2-[2] 3-[3] 2-[2] 2-[2] 2-[2] 2-[2] 1-[1] 2-[2] 3-[3] 2-[3] 2-[2] 2-[2] 2-[2] 2-[2] 3-[2] 2-[2] 2-[2] 2-[3] 2-[2] 1-[1] 2-[2] 1-[3] 2-[2] 2-[3] 2-[3] 3-[2] 2-[2] 1-[1] 2-[2] 3-[3] 3-[3] 1-[2] 2-[2] 3-[3] 2-[2] 3-[3] 3-[3] 1-[2] 2-[2] 3-[2] 2-[2] 2-[2] 2-[2] 2-[2] 2-[3] 2-[2] 3-[3] 1-[2] 3-[3] 1-[1] 2-[2] 2-[2] 2-[2] 2-[1] 2-[2] 2-[2] 2-[2] 3-[3] 3-[3] 3-[3] 3-[3] 2-[2] 2-[2] 1-[2] 2-[2] 2-[2] 3-[3] 2-[2] 2-[2] 3-[3] 2-[2] 1-[1] 2-[2] 2-[2] 2-[2] 1-[1] 3-[2] 3-[2] 2-[2] 2-[2] 2-[2] 3-[3] 2-[1] 2-[2] 1-[2] 3-[2] 2-[2] 2-[2] 2-[2] 2-[3] 2-[2] 2-[2] 2-[3] 3-[3] 1-[1] 3-[3] 2-[1] 2-[2] 2-[2] 2-[2] 3-[3] 3-[3] 2-[2] 2-[2] 2-[2] 2-[1] 2-[2] 2-[2] 2-[2] 2-[3] 2-[2] 2-[2] 2-[2] 2-[2] 3-[3] 2-[2] 3-[2] 2-[2] 2-[1] 2-[2] 2-[2] 2-[2] 3-[3] 2-[2] 2-[3] 2-[2] 2-[2] 2-[2] 1-[1] 3-[2] 3-[3] 2-[2] 2-[2] 2-[3] 3-[2] 3-[3] 3-[3] 2-[2] 2-[2] 2-[2] 2-[2] 2-[2] 3-[3] 2-[2] 1-[1] 2-[2] 3-[2] 2-[2] 2-[2] 2-[2] 2-[3] 3-[3] 2-[2] 2-[3] 2-[2] 3-[3] 2-[2] 1-[1] 2-[2] 2-[2] 2-[2] 2-[2] 3-[3] 3-[2] 2-[3] 2-[2] 2-[2] 3-[2] 3-[3] 3-[3] 3-[3] 2-[1] 2-[2] 2-[2] 2-[1] 3-[3] 2-[3] 2-[2] 2-[3] 1-[1] 3-[3] 2-[2] 3-[2] 2-[2] 2-[2] 2-[3] 1-[1] 1-[2] 3-[2] 2-[2] 2-[2] 2-[2] 3-[2] 2-[2] 2-[2] 2-[2] 3-[3] 2-[2] 3-[3] 2-[2] 3-[2] 2-[3] 2-[2] 2-[2] 2-[3] 2-[2] 2-[2] 3-[2] 2-[2] 2-[2] 2-[2] 2-[3] 3-[3] 2-[3] 2-[2] 2-[2] 1-[1] 3-[3] 2-[2] 2-[2] 3-[2] 1-[2] 3-[3] 2-[2] 2-[2] 2-[3] 2-[2] 2-[2] 3-[3] 3-[3] 2-[3] 3-[3] 3-[2] 2-[2] 2-[2] 3-[3] 2-[2] 3-[3] 2-[2] 2-[2] 3-[3] 2-[2] 2-[2] 2-[2] 1-[1] 3-[3] 3-[2] 3-[3] 3-[3] 1-[2] 2-[2] 3-[3] 2-[2] 1-[1] 2-[2] 2-[2] 3-[2] 2-[2] 2-[2] 2-[2] 2-[3] 3-[3] 3-[3] 2-[3] 2-[2] 2-[3] 2-[2] 3-[2] 3-[3] 2-[2] 2-[2] 2-[2] 3-[2] 2-[2] 3-[3] 2-[2] 2-[2] 2-[2] 3-[3] 2-[2] 2-[1] 3-[3] 3-[3] 2-[2] 3-[2] 1-[1] 1-[1] 3-[3] 2-[2] 2-[2] 3-[3] 3-[2] 2-[2] 3-[2] 2-[2] 3-[2] 1-[2] 3-[3] 2-[2] 3-[2] 2-[1] 2-[3] 2-[2] 3-[2] 3-[3] 2-[2] 2-[2] 3-[3] 2-[2] 2-[2] 2-[2] 3-[3] 3-[3] 2-[3] 2-[2] 2-[2] 3-[2] 3-[3] 2-[2] 3-[2] 2-[2] 2-[2] 2-[2] 3-[3] 2-[2] 2-[2] 3-[3] 2-[2] 3-[3] 3-[2] 2-[3] 3-[2] 2-[1] 2-[2] 2-[2] 2-[3] 3-[3] 3-[2] 2-[3] 3-[3] 1-[1] 2-[2] 2-[2] 2-[2] 2-[2] 2-[2] 2-[3] 3-[3] 3-[3] 2-[2] 3-[3] 2-[2] 2-[2] 3-[2] 2-[2] 2-[1] 3-[3] 2-[2] 2-[3] 1-[2] 3-[3] 1-[2] 3-[3] 3-[2] 1-[2] 2-[2] 2-[2] 2-[2] 2-[2] 3-[3] 3-[3] 1-[1] 2-[3] 3-[3] 3-[3] 2-[2] 2-[2] 2-[2] 2-[2] 1-[1] 2-[2] 2-[2] 1-[2] 2-[2] 2-[2] 3-[2] 2-[2] 2-[2] 1-[1] 1-[2] 1-[1] 1-[1] 2-[2] 2-[2] 2-[2] 3-[3] 3-[2] 2-[2] 2-[2] 2-[3] 2-[2] 2-[2] 2-[3] 2-[2] 2-[2] 3-[3] 2-[2] 2-[3] 3-[3] 3-[3] 2-[2] 2-[2] 2-[3] 1-[1] 3-[3] 2-[2] 2-[2] 3-[3] 2-[2] 2-[2] 2-[2] 2-[2] 2-[3] 2-[1] 3-[3] 2-[2] 2-[2] 3-[3] 3-[3] 1-[1] 2-[2] 2-[2] 3-[3] 2-[2] 3-[3] 3-[3] 3-[3] 3-[3] 2-[2] 2-[2] 2-[2] 3-[3] 3-[3] 2-[2] 3-[3] 2-[2] "
          ]
        }
      ],
      "source": [
        "range_x=calc_the_range(y_train_train,a)\n",
        "y_train_train_conv=conv_a_floatlist(y_train_train_pred,range_x)\n",
        "check_similarity_np(y_train_train_conv,y_train_train)\n",
        "show_similarity(y_train_train_conv,y_train_train)\n"
      ]
    },
    {
      "cell_type": "code",
      "execution_count": 185,
      "metadata": {},
      "outputs": [
        {
          "output_type": "stream",
          "name": "stdout",
          "text": [
            "conv: (1.7041647788855192, 2.4095637369131087)\nhiba:22715 max:78181 -- error: 29.0544 good %: 70.9456 %\n"
          ]
        }
      ],
      "source": [
        "# test the test set\n",
        "#------------------------------------\n",
        "\n",
        "y_train_test_pred=clf.predict(X_train_test)\n",
        "y_train_test_conv=conv_a_floatlist(y_train_test_pred,range_x)\n",
        "check_similarity_np(y_train_test_conv,y_train_test)\n",
        "#------------------------------------"
      ]
    },
    {
      "cell_type": "code",
      "execution_count": 137,
      "metadata": {},
      "outputs": [],
      "source": [
        "# futtass ez felett !!"
      ]
    },
    {
      "cell_type": "code",
      "metadata": {
        "colab": {
          "base_uri": "https://localhost:8080/"
        },
        "id": "QAuqcJ7xke4c",
        "outputId": "cf1018c8-fad5-4bb6-9bfa-788d2c5e5ab9"
      },
      "source": [
        "#outfile generation\n",
        "y_pred_ok=clf.predict(X_pred_scale)\n",
        "print(\"Prediction End\")\n",
        "\n",
        "X_pred_bd=pd.read_csv(basedir+\"/orig/test_values.csv\")\n",
        "\n",
        "y_pred_ok_int=conv_a_floatlist(y_pred_ok,range_x)\n"
      ],
      "execution_count": 186,
      "outputs": [
        {
          "output_type": "stream",
          "name": "stdout",
          "text": [
            "Prediction End\nconv: (1.7041647788855192, 2.4095637369131087)\n"
          ]
        }
      ]
    },
    {
      "cell_type": "code",
      "metadata": {
        "colab": {
          "base_uri": "https://localhost:8080/"
        },
        "id": "wD9rzAN4pBR5",
        "outputId": "ab2363f0-11eb-4e5a-c1a4-a71d12168323"
      },
      "source": [
        "buildingid=X_pred_bd[\"building_id\"]\n",
        "head2=y_pred_ok_int\n",
        "\n",
        "\n",
        "outdf=pd.DataFrame(data={\"damage_grade\":y_pred_ok_int} ,index=buildingid)\n",
        "outdf.index.name=\"building_id\"\n",
        "\n",
        "\n",
        "outdf.head()\n",
        "st=30\n",
        "sts=str(st)\n",
        "outdf.to_csv(basedir+\"/out/submission_\"+sts+\"_xgboost.csv\")\n",
        "print()\n",
        "print(basedir+\"/out/submission_\"+sts+\"_xgboost.csv\")"
      ],
      "execution_count": 187,
      "outputs": [
        {
          "output_type": "stream",
          "name": "stdout",
          "text": [
            "\nC:/Users/sipocz/OneDrive/Dokumentumok/GitHub/_EarthQuake/gpos_lin/out/submission_30_xgboost.csv\n"
          ]
        }
      ]
    },
    {
      "cell_type": "code",
      "metadata": {
        "colab": {
          "base_uri": "https://localhost:8080/"
        },
        "id": "PjkOA2B1Pys6",
        "outputId": "e76ee986-189a-401e-9df9-722850ff2e5b"
      },
      "source": [
        "if not( _PCVERSION_):\r\n",
        "    !head \"/content/drive/My Drive/001_AI/_EarthQuake/gpos_lin/out/submission_24_xgboost.csv\""
      ],
      "execution_count": null,
      "outputs": []
    }
  ]
}