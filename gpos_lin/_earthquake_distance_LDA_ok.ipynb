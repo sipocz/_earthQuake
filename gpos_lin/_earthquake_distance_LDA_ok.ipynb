{
  "nbformat": 4,
  "nbformat_minor": 0,
  "metadata": {
    "colab": {
      "name": "_earthquake_distance_LDA.ipynb",
      "provenance": []
    },
    "kernelspec": {
      "name": "python3",
      "display_name": "Python 3",
      "language": "python"
    }
  },
  "cells": [
    {
      "cell_type": "code",
      "execution_count": 46,
      "metadata": {},
      "outputs": [],
      "source": [
        "\n",
        "\n",
        "_PCVERSION_=True\n",
        "\n",
        "\n",
        "if _PCVERSION_:\n",
        "    basedir=\"C:/Users/sipocz/OneDrive/Dokumentumok/GitHub/_EarthQuake/gpos_lin\"\n",
        "else:\n",
        "    from google.colab import drive\n",
        "    drive.mount('/content/drive',force_remount=True)\n",
        "    basedir=\"/content/drive/My Drive/001_AI/_EarthQuake/gpos_lin\"\n",
        "\n",
        "import numpy as np\n",
        "import pandas as pd\n",
        "import matplotlib.pyplot as plt\n",
        "\n",
        "\n",
        "#--------------scikit import \n",
        "from sklearn.ensemble import IsolationForest\n",
        "from sklearn.metrics import accuracy_score\n",
        "from sklearn.preprocessing import MinMaxScaler\n",
        "from sklearn.model_selection import train_test_split\n",
        "#--------------\n",
        "\n",
        "def outlierStatistic(X_train_predict):\n",
        "    print(X_train_predict)\n",
        "    maxX=len(X_train_predict)\n",
        "    outlier=0\n",
        "    for i in X_train_predict:\n",
        "        if i==-1:\n",
        "            outlier+=1\n",
        "    print(f\"A összes ({maxX} darabból {outlier} darab outlier van. Az {outlier/maxX*100:5.1f} %.)\")\n",
        "\n",
        "\n",
        "def checkvalues(df,columnname,key):\n",
        "    print(f\"{columnname} ellenőrzése !\")\n",
        "    numok=0\n",
        "    numerr=0\n",
        "    for i in df.index:\n",
        "        if df.at[i,columnname] in key:\n",
        "            #print(df.at[i,columnname])\n",
        "            numok+=1\n",
        "            pass\n",
        "        else:\n",
        "            numerr+=1\n",
        "            print(df.at[i,columnname],end=\", \")\n",
        "    sumall=numok+numerr\n",
        "    print(f\"\\n{sumall} mintából {numerr} db nem volt megfelelő\")\n",
        "\n",
        "\n",
        "def createcolumn(df,columnname,keys):\n",
        "    print(f\"{columnname} cseréje megy\")\n",
        "    for key in keys:\n",
        "        df[keys[key]]=0.0\n",
        "    for key in keys:\n",
        "        for i in df.index:\n",
        "            if df.at[i,columnname]==key:\n",
        "                df.at[i,keys[key]]=1.0\n",
        "\n",
        "\n",
        "def create_dict(idx,list):\n",
        "    o={}\n",
        "    for i in list:\n",
        "        o[i]=idx+\"_\"+i\n",
        "    return o\n",
        "\n",
        "def create_base_data(df):\n",
        "    t=['n', 't', 'o']\n",
        "    columnname=\"land_surface_condition\"\n",
        "    key=create_dict(columnname,t)\n",
        "\n",
        "\n",
        "    #checkvalues(df,columnname,key)\n",
        "    createcolumn(df,columnname,key)\n",
        "\n",
        "    t= ['h', 'w', 'i', 'r', 'u']\n",
        "    columnname=\"foundation_type\"\n",
        "    key=create_dict(columnname,t)\n",
        "\n",
        "    #checkvalues(df,columnname,key)\n",
        "    createcolumn(df,columnname,key)\n",
        "\n",
        "    t=  ['q', 'n', 'x']\n",
        "    columnname=\"roof_type\"\n",
        "    key=create_dict(columnname,t)\n",
        "\n",
        "    #checkvalues(df,columnname,key)\n",
        "    createcolumn(df,columnname,key)\n",
        "\n",
        "    t=  ['z', 'v', 'f', 'm', 'x']\n",
        "    columnname=\"ground_floor_type\"\n",
        "    key=create_dict(columnname,t)\n",
        "\n",
        "    #checkvalues(df,columnname,key)\n",
        "    createcolumn(df,columnname,key)\n",
        "\n",
        "    t=   ['q', 's', 'j', 'x']\n",
        "    columnname=\"other_floor_type\"\n",
        "    key=create_dict(columnname,t)\n",
        "\n",
        "    #checkvalues(df,columnname,key)\n",
        "    createcolumn(df,columnname,key)\n",
        "\n",
        "    t=   ['j', 's', 't', 'o']\n",
        "    columnname=\"position\"\n",
        "    key=create_dict(columnname,t)\n",
        "\n",
        "    #checkvalues(df,columnname,key)\n",
        "    createcolumn(df,columnname,key)\n",
        "\n",
        "    t=   ['c', 's', 'f', 'd', 'm', 'a', 'q', 'u', 'n', 'o']\n",
        "    columnname=\"plan_configuration\"\n",
        "    key=create_dict(columnname,t)\n",
        "\n",
        "    #checkvalues(df,columnname,key)\n",
        "    createcolumn(df,columnname,key)\n",
        "\n",
        "    t=['a', 'w', 'r', 'v']\n",
        "    columnname=\"legal_ownership_status\"\n",
        "    key=create_dict(columnname,t)\n",
        "\n",
        "    #checkvalues(df,columnname,key)\n",
        "    createcolumn(df,columnname,key)\n",
        "\n",
        "    # level 1: 0-30, level 2: 0-1427, level 3: 0-12567.\n",
        "    # level1:0--30\n",
        "    # level2: 0.0000-----------0.9999\n",
        "    # level3: 0.000000000------0.000099999\n",
        "    l1=df.geo_level_1_id\n",
        "    l2=(df.geo_level_2_id/1427*9999)/10000\n",
        "    l3=(df.geo_level_2_id/12567*99999)/1000000000\n",
        "    df[\"geopos\"]=l1+l2+l3\n",
        "    return(df)\n",
        "\n",
        "\n",
        "\n",
        "def kill_columns(df):\n",
        "    notkey=[\"Unnamed: 0\",\"building_id\",\"legal_ownership_status\",\"geo_level_1_id\",\t\"geo_level_2_id\",\t\"geo_level_3_id\", \"land_surface_condition\",\t\"foundation_type\",\t\"roof_type\",\t\"ground_floor_type\",\t\"other_floor_type\",\t\"position\",\t\"plan_configuration\"]\n",
        "    for i in df.columns:\n",
        "        #print(i)\n",
        "        if i in notkey:\n",
        "            df.drop(columns=[i], inplace=True)\n",
        "    return df\n",
        "\n",
        "\n",
        "\n",
        "\n",
        "\n"
      ]
    },
    {
      "cell_type": "code",
      "metadata": {
        "colab": {
          "base_uri": "https://localhost:8080/",
          "height": 502
        },
        "id": "HZHYUIgKIlT9",
        "outputId": "3740844a-f48c-4b06-87fd-f1eddb0431ab"
      },
      "source": [
        "features_train=basedir+\"/orig/train_values.csv\"\r\n",
        "labels_train=basedir+\"/orig/train_labels.csv\"\r\n",
        "features_predict=basedir+\"/orig/test_values.csv\"\r\n",
        "\r\n",
        "X_train=pd.read_csv(features_train)\r\n",
        "y_train=pd.read_csv(labels_train)\r\n",
        "X_pred=pd.read_csv(features_predict)\r\n",
        "#\r\n",
        "X_pred_conv=create_base_data(X_pred)\r\n",
        "X_train_conv=create_base_data(X_train)\r\n",
        "#\r\n",
        "X_train_ok=kill_columns(X_train_conv)\r\n",
        "X_pred_ok=kill_columns(X_pred_conv)\r\n",
        "y_train_ok=kill_columns(y_train)\r\n",
        "\r\n",
        "X_train_ok.to_csv(basedir+\"/tmp/X_tran_ok.csv\",index=False)\r\n",
        "X_pred_ok.to_csv(basedir+\"/tmp/X_pred_ok.csv\",index=False)\r\n",
        "y_train_ok.to_csv(basedir+\"/tmp/y_train_ok.csv\",index=False)\r\n",
        "\r\n",
        "\r\n",
        "\r\n",
        "\r\n",
        "#f=open(basedir+\"/tmp/similarity.csv\",\"a\")\r\n",
        "X_train_ok=pd.read_csv(basedir+\"/tmp/X_tran_ok.csv\",)\r\n",
        "X_pred_ok=pd.read_csv(basedir+\"/tmp/X_pred_ok.csv\")\r\n",
        "y_train_ok=pd.read_csv(basedir+\"/tmp/y_train_ok.csv\")\r\n",
        "\r\n",
        "X_train_ok.head()\r\n",
        "X_pred_ok.head()\r\n",
        "#print(\"Ready\")"
      ],
      "execution_count": 47,
      "outputs": [
        {
          "output_type": "stream",
          "name": "stdout",
          "text": [
            "land_surface_condition cseréje megy\n",
            "foundation_type cseréje megy\n",
            "roof_type cseréje megy\n",
            "ground_floor_type cseréje megy\n",
            "other_floor_type cseréje megy\n",
            "position cseréje megy\n",
            "plan_configuration cseréje megy\n",
            "legal_ownership_status cseréje megy\n",
            "land_surface_condition cseréje megy\n",
            "foundation_type cseréje megy\n",
            "roof_type cseréje megy\n",
            "ground_floor_type cseréje megy\n",
            "other_floor_type cseréje megy\n",
            "position cseréje megy\n",
            "plan_configuration cseréje megy\n",
            "legal_ownership_status cseréje megy\n"
          ]
        },
        {
          "output_type": "execute_result",
          "data": {
            "text/plain": [
              "   count_floors_pre_eq  age  area_percentage  height_percentage  \\\n",
              "0                    3   20                7                  6   \n",
              "1                    2   25               13                  5   \n",
              "2                    2    5                4                  5   \n",
              "3                    1    0               19                  3   \n",
              "4                    3   15                8                  7   \n",
              "\n",
              "   has_superstructure_adobe_mud  has_superstructure_mud_mortar_stone  \\\n",
              "0                             0                                    1   \n",
              "1                             0                                    1   \n",
              "2                             0                                    1   \n",
              "3                             0                                    0   \n",
              "4                             0                                    1   \n",
              "\n",
              "   has_superstructure_stone_flag  has_superstructure_cement_mortar_stone  \\\n",
              "0                              0                                       0   \n",
              "1                              0                                       0   \n",
              "2                              0                                       0   \n",
              "3                              0                                       0   \n",
              "4                              0                                       0   \n",
              "\n",
              "   has_superstructure_mud_mortar_brick  \\\n",
              "0                                    0   \n",
              "1                                    0   \n",
              "2                                    0   \n",
              "3                                    0   \n",
              "4                                    0   \n",
              "\n",
              "   has_superstructure_cement_mortar_brick  ...  plan_configuration_a  \\\n",
              "0                                       0  ...                   0.0   \n",
              "1                                       0  ...                   0.0   \n",
              "2                                       0  ...                   0.0   \n",
              "3                                       1  ...                   0.0   \n",
              "4                                       0  ...                   0.0   \n",
              "\n",
              "   plan_configuration_q  plan_configuration_u  plan_configuration_n  \\\n",
              "0                   0.0                   0.0                   0.0   \n",
              "1                   0.0                   0.0                   0.0   \n",
              "2                   0.0                   0.0                   0.0   \n",
              "3                   0.0                   0.0                   0.0   \n",
              "4                   0.0                   0.0                   0.0   \n",
              "\n",
              "   plan_configuration_o  legal_ownership_status_a  legal_ownership_status_w  \\\n",
              "0                   0.0                       0.0                       0.0   \n",
              "1                   0.0                       0.0                       0.0   \n",
              "2                   0.0                       0.0                       0.0   \n",
              "3                   0.0                       0.0                       0.0   \n",
              "4                   0.0                       0.0                       0.0   \n",
              "\n",
              "   legal_ownership_status_r  legal_ownership_status_v     geopos  \n",
              "0                       0.0                       1.0  17.417622  \n",
              "1                       0.0                       1.0   6.098800  \n",
              "2                       0.0                       1.0  22.013313  \n",
              "3                       0.0                       1.0  26.027328  \n",
              "4                       0.0                       1.0  17.202505  \n",
              "\n",
              "[5 rows x 66 columns]"
            ],
            "text/html": "<div>\n<style scoped>\n    .dataframe tbody tr th:only-of-type {\n        vertical-align: middle;\n    }\n\n    .dataframe tbody tr th {\n        vertical-align: top;\n    }\n\n    .dataframe thead th {\n        text-align: right;\n    }\n</style>\n<table border=\"1\" class=\"dataframe\">\n  <thead>\n    <tr style=\"text-align: right;\">\n      <th></th>\n      <th>count_floors_pre_eq</th>\n      <th>age</th>\n      <th>area_percentage</th>\n      <th>height_percentage</th>\n      <th>has_superstructure_adobe_mud</th>\n      <th>has_superstructure_mud_mortar_stone</th>\n      <th>has_superstructure_stone_flag</th>\n      <th>has_superstructure_cement_mortar_stone</th>\n      <th>has_superstructure_mud_mortar_brick</th>\n      <th>has_superstructure_cement_mortar_brick</th>\n      <th>...</th>\n      <th>plan_configuration_a</th>\n      <th>plan_configuration_q</th>\n      <th>plan_configuration_u</th>\n      <th>plan_configuration_n</th>\n      <th>plan_configuration_o</th>\n      <th>legal_ownership_status_a</th>\n      <th>legal_ownership_status_w</th>\n      <th>legal_ownership_status_r</th>\n      <th>legal_ownership_status_v</th>\n      <th>geopos</th>\n    </tr>\n  </thead>\n  <tbody>\n    <tr>\n      <th>0</th>\n      <td>3</td>\n      <td>20</td>\n      <td>7</td>\n      <td>6</td>\n      <td>0</td>\n      <td>1</td>\n      <td>0</td>\n      <td>0</td>\n      <td>0</td>\n      <td>0</td>\n      <td>...</td>\n      <td>0.0</td>\n      <td>0.0</td>\n      <td>0.0</td>\n      <td>0.0</td>\n      <td>0.0</td>\n      <td>0.0</td>\n      <td>0.0</td>\n      <td>0.0</td>\n      <td>1.0</td>\n      <td>17.417622</td>\n    </tr>\n    <tr>\n      <th>1</th>\n      <td>2</td>\n      <td>25</td>\n      <td>13</td>\n      <td>5</td>\n      <td>0</td>\n      <td>1</td>\n      <td>0</td>\n      <td>0</td>\n      <td>0</td>\n      <td>0</td>\n      <td>...</td>\n      <td>0.0</td>\n      <td>0.0</td>\n      <td>0.0</td>\n      <td>0.0</td>\n      <td>0.0</td>\n      <td>0.0</td>\n      <td>0.0</td>\n      <td>0.0</td>\n      <td>1.0</td>\n      <td>6.098800</td>\n    </tr>\n    <tr>\n      <th>2</th>\n      <td>2</td>\n      <td>5</td>\n      <td>4</td>\n      <td>5</td>\n      <td>0</td>\n      <td>1</td>\n      <td>0</td>\n      <td>0</td>\n      <td>0</td>\n      <td>0</td>\n      <td>...</td>\n      <td>0.0</td>\n      <td>0.0</td>\n      <td>0.0</td>\n      <td>0.0</td>\n      <td>0.0</td>\n      <td>0.0</td>\n      <td>0.0</td>\n      <td>0.0</td>\n      <td>1.0</td>\n      <td>22.013313</td>\n    </tr>\n    <tr>\n      <th>3</th>\n      <td>1</td>\n      <td>0</td>\n      <td>19</td>\n      <td>3</td>\n      <td>0</td>\n      <td>0</td>\n      <td>0</td>\n      <td>0</td>\n      <td>0</td>\n      <td>1</td>\n      <td>...</td>\n      <td>0.0</td>\n      <td>0.0</td>\n      <td>0.0</td>\n      <td>0.0</td>\n      <td>0.0</td>\n      <td>0.0</td>\n      <td>0.0</td>\n      <td>0.0</td>\n      <td>1.0</td>\n      <td>26.027328</td>\n    </tr>\n    <tr>\n      <th>4</th>\n      <td>3</td>\n      <td>15</td>\n      <td>8</td>\n      <td>7</td>\n      <td>0</td>\n      <td>1</td>\n      <td>0</td>\n      <td>0</td>\n      <td>0</td>\n      <td>0</td>\n      <td>...</td>\n      <td>0.0</td>\n      <td>0.0</td>\n      <td>0.0</td>\n      <td>0.0</td>\n      <td>0.0</td>\n      <td>0.0</td>\n      <td>0.0</td>\n      <td>0.0</td>\n      <td>1.0</td>\n      <td>17.202505</td>\n    </tr>\n  </tbody>\n</table>\n<p>5 rows × 66 columns</p>\n</div>"
          },
          "metadata": {},
          "execution_count": 47
        }
      ]
    },
    {
      "cell_type": "code",
      "metadata": {
        "id": "ZkluH7RwmL_M"
      },
      "source": [
        "X_pred_ok=kill_columns(X_pred_ok)\r\n",
        "X_train_ok=kill_columns(X_train_ok)\r\n",
        "y_train_ok=kill_columns(y_train_ok)"
      ],
      "execution_count": 48,
      "outputs": []
    },
    {
      "cell_type": "code",
      "metadata": {
        "id": "oFWkbCwqrI32"
      },
      "source": [],
      "execution_count": null,
      "outputs": []
    },
    {
      "cell_type": "code",
      "metadata": {
        "id": "Q0rn-7TBQfRp"
      },
      "source": [
        "from sklearn.preprocessing import StandardScaler\r\n",
        "\"\"\"\r\n",
        "scaler1=StandardScaler()\r\n",
        "X_pred_scale=scaler1.fit_transform(X_pred_ok)\r\n",
        "\r\n",
        "scaler2=StandardScaler()\r\n",
        "X_train_scale=scaler2.fit_transform(X_train_ok)\r\n",
        "\r\n",
        "scaler3=StandardScaler()\r\n",
        "y_train_scale=scaler3.fit_transform(y_train_ok)\r\n",
        "\"\"\"\r\n",
        "\r\n",
        "# szétszedjük a train és test részekre\r\n",
        "from sklearn.model_selection import train_test_split\r\n",
        "#X_train_train, X_train_test,y_train_train, y_train_test  = train_test_split( X_train_scale, y_train_scale, test_size=0.10, random_state=0)\r\n",
        "X_train_train, X_train_test,y_train_train, y_train_test  = train_test_split( X_train_ok, y_train_ok, test_size=0.10, random_state=0)\r\n",
        "\r\n"
      ],
      "execution_count": 49,
      "outputs": []
    },
    {
      "cell_type": "code",
      "execution_count": 50,
      "metadata": {},
      "outputs": [],
      "source": [
        "from sklearn.discriminant_analysis import LinearDiscriminantAnalysis\n",
        "\n",
        "lda = LinearDiscriminantAnalysis(n_components=2)\n",
        "lda.fit(X_train_train, y_train_train)\n",
        "X_train = lda.transform(X_train_train)\n",
        "#y_train = lda.transform(y_train_train)\n",
        "X_test=lda.transform(X_train_test)\n",
        "\n",
        "\n",
        "\n"
      ]
    },
    {
      "cell_type": "code",
      "execution_count": 51,
      "metadata": {},
      "outputs": [
        {
          "output_type": "stream",
          "name": "stdout",
          "text": [
            "Outlier Detection ENDED\n"
          ]
        }
      ],
      "source": [
        "# OTLET:\n",
        "# lda térben keressünk outliereket... \n",
        "# ha nincs túl sok tanítsuk a modellt az inlierekre\n",
        "# \n",
        "#  \n",
        "from sklearn.ensemble import IsolationForest\n",
        "rng=1\n",
        "outliers_fraction=0.05\n",
        "clf=IsolationForest(contamination=outliers_fraction, random_state=rng)\n",
        "clf.fit(X_train_train)\n",
        "outlier_predict=clf.predict(X_train_train)\n",
        "\n",
        "outlier_index=[]\n",
        "print(\"Outlier Detection ENDED\")\n",
        "for inx,i in enumerate(X_train_train.index):\n",
        "    if outlier_predict[inx]==-1:\n",
        "        outlier_index.append(i)\n"
      ]
    },
    {
      "cell_type": "code",
      "execution_count": 53,
      "metadata": {},
      "outputs": [
        {
          "output_type": "stream",
          "name": "stdout",
          "text": [
            "11727\n"
          ]
        }
      ],
      "source": [
        "print(len(outlier_index))"
      ]
    },
    {
      "cell_type": "code",
      "execution_count": 54,
      "metadata": {},
      "outputs": [],
      "source": [
        "def outlierDrop(df,inxlist):\n",
        "    a=df\n",
        "    a.drop(axis=0, index=inxlist,inplace=True)\n",
        "    return(a)"
      ]
    },
    {
      "cell_type": "code",
      "execution_count": 55,
      "metadata": {},
      "outputs": [
        {
          "output_type": "stream",
          "name": "stdout",
          "text": [
            "Drop1\nDrop1\n"
          ]
        }
      ],
      "source": [
        "X_train_train_out=X_train_train\n",
        "y_train_train_out=y_train_train\n",
        "#print(X_train_train_out)\n",
        "#print(outlier_predict)\n",
        "print(\"Drop1\")\n",
        "X_train_train_out=outlierDrop(X_train_train_out,outlier_index)\n",
        "print(\"Drop1\")\n",
        "\n",
        "y_train_train_out=outlierDrop(y_train_train_out,outlier_index)\n",
        "\n",
        "\n"
      ]
    },
    {
      "cell_type": "code",
      "metadata": {
        "colab": {
          "base_uri": "https://localhost:8080/"
        },
        "id": "KpEo_arRSK-Y",
        "outputId": "ed01a5e0-f52e-4b28-afc5-4711ca297ada",
        "tags": [
          "outputPrepend"
        ]
      },
      "source": [
        "from xgboost import XGBClassifier  # 72.09\n",
        "# max_depth=10 : 72.79857561664441\n",
        "\n",
        "knn = XGBClassifier(verbosity=3,max_depth = 13,n_estimators=50,loss=\"deviance\", criterion=\"mae\")\n",
        "\n",
        "print(\"Fit: Inlier betanitás Start--\")\n",
        "knn.fit(X_train_train_out, y_train_train_out)\n",
        "print(\"Fit End - Prediction Start \")\n"
      ],
      "execution_count": 77,
      "outputs": [
        {
          "output_type": "stream",
          "name": "stdout",
          "text": [
            "FO: C:\\Users\\Administrator\\workspace\\xgboost-win64_release_1.2.0\\src\\tree\\updater_prune.cc:101: tree pruning end, 2144 extra nodes, 0 pruned nodes, max_depth=13\n",
            "[15:51:26] INFO: C:\\Users\\Administrator\\workspace\\xgboost-win64_release_1.2.0\\src\\tree\\updater_prune.cc:101: tree pruning end, 2676 extra nodes, 0 pruned nodes, max_depth=13\n",
            "[15:51:26] INFO: C:\\Users\\Administrator\\workspace\\xgboost-win64_release_1.2.0\\src\\tree\\updater_prune.cc:101: tree pruning end, 2360 extra nodes, 0 pruned nodes, max_depth=13\n",
            "[15:51:26] INFO: C:\\Users\\Administrator\\workspace\\xgboost-win64_release_1.2.0\\src\\tree\\updater_prune.cc:101: tree pruning end, 1968 extra nodes, 0 pruned nodes, max_depth=13\n",
            "[15:51:26] INFO: C:\\Users\\Administrator\\workspace\\xgboost-win64_release_1.2.0\\src\\tree\\updater_prune.cc:101: tree pruning end, 2890 extra nodes, 0 pruned nodes, max_depth=13\n",
            "[15:51:26] INFO: C:\\Users\\Administrator\\workspace\\xgboost-win64_release_1.2.0\\src\\tree\\updater_prune.cc:101: tree pruning end, 2430 extra nodes, 0 pruned nodes, max_depth=13\n",
            "[15:51:27] INFO: C:\\Users\\Administrator\\workspace\\xgboost-win64_release_1.2.0\\src\\tree\\updater_prune.cc:101: tree pruning end, 1966 extra nodes, 0 pruned nodes, max_depth=13\n",
            "[15:51:27] INFO: C:\\Users\\Administrator\\workspace\\xgboost-win64_release_1.2.0\\src\\tree\\updater_prune.cc:101: tree pruning end, 2824 extra nodes, 0 pruned nodes, max_depth=13\n",
            "[15:51:27] INFO: C:\\Users\\Administrator\\workspace\\xgboost-win64_release_1.2.0\\src\\tree\\updater_prune.cc:101: tree pruning end, 966 extra nodes, 0 pruned nodes, max_depth=13\n",
            "[15:51:27] INFO: C:\\Users\\Administrator\\workspace\\xgboost-win64_release_1.2.0\\src\\tree\\updater_prune.cc:101: tree pruning end, 1736 extra nodes, 0 pruned nodes, max_depth=13\n",
            "[15:51:27] INFO: C:\\Users\\Administrator\\workspace\\xgboost-win64_release_1.2.0\\src\\tree\\updater_prune.cc:101: tree pruning end, 2584 extra nodes, 0 pruned nodes, max_depth=13\n",
            "[15:51:28] INFO: C:\\Users\\Administrator\\workspace\\xgboost-win64_release_1.2.0\\src\\tree\\updater_prune.cc:101: tree pruning end, 784 extra nodes, 0 pruned nodes, max_depth=13\n",
            "[15:51:28] INFO: C:\\Users\\Administrator\\workspace\\xgboost-win64_release_1.2.0\\src\\tree\\updater_prune.cc:101: tree pruning end, 1684 extra nodes, 0 pruned nodes, max_depth=13\n",
            "[15:51:28] INFO: C:\\Users\\Administrator\\workspace\\xgboost-win64_release_1.2.0\\src\\tree\\updater_prune.cc:101: tree pruning end, 2932 extra nodes, 0 pruned nodes, max_depth=13\n",
            "[15:51:28] INFO: C:\\Users\\Administrator\\workspace\\xgboost-win64_release_1.2.0\\src\\tree\\updater_prune.cc:101: tree pruning end, 1502 extra nodes, 0 pruned nodes, max_depth=13\n",
            "[15:51:28] INFO: C:\\Users\\Administrator\\workspace\\xgboost-win64_release_1.2.0\\src\\tree\\updater_prune.cc:101: tree pruning end, 1602 extra nodes, 0 pruned nodes, max_depth=13\n",
            "[15:51:28] INFO: C:\\Users\\Administrator\\workspace\\xgboost-win64_release_1.2.0\\src\\tree\\updater_prune.cc:101: tree pruning end, 2492 extra nodes, 0 pruned nodes, max_depth=13\n",
            "[15:51:29] INFO: C:\\Users\\Administrator\\workspace\\xgboost-win64_release_1.2.0\\src\\tree\\updater_prune.cc:101: tree pruning end, 3042 extra nodes, 0 pruned nodes, max_depth=13\n",
            "[15:51:29] INFO: C:\\Users\\Administrator\\workspace\\xgboost-win64_release_1.2.0\\src\\tree\\updater_prune.cc:101: tree pruning end, 1974 extra nodes, 0 pruned nodes, max_depth=13\n",
            "[15:51:29] INFO: C:\\Users\\Administrator\\workspace\\xgboost-win64_release_1.2.0\\src\\tree\\updater_prune.cc:101: tree pruning end, 2326 extra nodes, 0 pruned nodes, max_depth=13\n",
            "[15:51:29] INFO: C:\\Users\\Administrator\\workspace\\xgboost-win64_release_1.2.0\\src\\tree\\updater_prune.cc:101: tree pruning end, 764 extra nodes, 0 pruned nodes, max_depth=13\n",
            "[15:51:29] INFO: C:\\Users\\Administrator\\workspace\\xgboost-win64_release_1.2.0\\src\\tree\\updater_prune.cc:101: tree pruning end, 1590 extra nodes, 0 pruned nodes, max_depth=13\n",
            "[15:51:30] INFO: C:\\Users\\Administrator\\workspace\\xgboost-win64_release_1.2.0\\src\\tree\\updater_prune.cc:101: tree pruning end, 2470 extra nodes, 0 pruned nodes, max_depth=13\n",
            "[15:51:30] INFO: C:\\Users\\Administrator\\workspace\\xgboost-win64_release_1.2.0\\src\\tree\\updater_prune.cc:101: tree pruning end, 1974 extra nodes, 0 pruned nodes, max_depth=13\n",
            "[15:51:30] INFO: C:\\Users\\Administrator\\workspace\\xgboost-win64_release_1.2.0\\src\\tree\\updater_prune.cc:101: tree pruning end, 1760 extra nodes, 0 pruned nodes, max_depth=13\n",
            "[15:51:30] INFO: C:\\Users\\Administrator\\workspace\\xgboost-win64_release_1.2.0\\src\\tree\\updater_prune.cc:101: tree pruning end, 2508 extra nodes, 0 pruned nodes, max_depth=13\n",
            "[15:51:30] INFO: C:\\Users\\Administrator\\workspace\\xgboost-win64_release_1.2.0\\src\\tree\\updater_prune.cc:101: tree pruning end, 796 extra nodes, 0 pruned nodes, max_depth=13\n",
            "[15:51:30] INFO: C:\\Users\\Administrator\\workspace\\xgboost-win64_release_1.2.0\\src\\tree\\updater_prune.cc:101: tree pruning end, 1236 extra nodes, 0 pruned nodes, max_depth=13\n",
            "[15:51:31] INFO: C:\\Users\\Administrator\\workspace\\xgboost-win64_release_1.2.0\\src\\tree\\updater_prune.cc:101: tree pruning end, 2414 extra nodes, 0 pruned nodes, max_depth=13\n",
            "[15:51:31] INFO: C:\\Users\\Administrator\\workspace\\xgboost-win64_release_1.2.0\\src\\tree\\updater_prune.cc:101: tree pruning end, 964 extra nodes, 0 pruned nodes, max_depth=13\n",
            "[15:51:31] INFO: C:\\Users\\Administrator\\workspace\\xgboost-win64_release_1.2.0\\src\\tree\\updater_prune.cc:101: tree pruning end, 1262 extra nodes, 0 pruned nodes, max_depth=13\n",
            "[15:51:31] INFO: C:\\Users\\Administrator\\workspace\\xgboost-win64_release_1.2.0\\src\\tree\\updater_prune.cc:101: tree pruning end, 2318 extra nodes, 0 pruned nodes, max_depth=13\n",
            "[15:51:31] INFO: C:\\Users\\Administrator\\workspace\\xgboost-win64_release_1.2.0\\src\\tree\\updater_prune.cc:101: tree pruning end, 1022 extra nodes, 0 pruned nodes, max_depth=13\n",
            "[15:51:32] INFO: C:\\Users\\Administrator\\workspace\\xgboost-win64_release_1.2.0\\src\\tree\\updater_prune.cc:101: tree pruning end, 1278 extra nodes, 0 pruned nodes, max_depth=13\n",
            "[15:51:32] INFO: C:\\Users\\Administrator\\workspace\\xgboost-win64_release_1.2.0\\src\\tree\\updater_prune.cc:101: tree pruning end, 1968 extra nodes, 0 pruned nodes, max_depth=13\n",
            "[15:51:32] INFO: C:\\Users\\Administrator\\workspace\\xgboost-win64_release_1.2.0\\src\\tree\\updater_prune.cc:101: tree pruning end, 1558 extra nodes, 0 pruned nodes, max_depth=13\n",
            "[15:51:32] INFO: C:\\Users\\Administrator\\workspace\\xgboost-win64_release_1.2.0\\src\\tree\\updater_prune.cc:101: tree pruning end, 1194 extra nodes, 0 pruned nodes, max_depth=13\n",
            "[15:51:32] INFO: C:\\Users\\Administrator\\workspace\\xgboost-win64_release_1.2.0\\src\\tree\\updater_prune.cc:101: tree pruning end, 2034 extra nodes, 0 pruned nodes, max_depth=13\n",
            "[15:51:32] INFO: C:\\Users\\Administrator\\workspace\\xgboost-win64_release_1.2.0\\src\\tree\\updater_prune.cc:101: tree pruning end, 2556 extra nodes, 0 pruned nodes, max_depth=13\n",
            "[15:51:33] INFO: C:\\Users\\Administrator\\workspace\\xgboost-win64_release_1.2.0\\src\\tree\\updater_prune.cc:101: tree pruning end, 1078 extra nodes, 0 pruned nodes, max_depth=13\n",
            "[15:51:33] INFO: C:\\Users\\Administrator\\workspace\\xgboost-win64_release_1.2.0\\src\\tree\\updater_prune.cc:101: tree pruning end, 1968 extra nodes, 0 pruned nodes, max_depth=13\n",
            "[15:51:33] INFO: C:\\Users\\Administrator\\workspace\\xgboost-win64_release_1.2.0\\src\\tree\\updater_prune.cc:101: tree pruning end, 1180 extra nodes, 0 pruned nodes, max_depth=13\n",
            "[15:51:33] INFO: C:\\Users\\Administrator\\workspace\\xgboost-win64_release_1.2.0\\src\\tree\\updater_prune.cc:101: tree pruning end, 1062 extra nodes, 0 pruned nodes, max_depth=13\n",
            "[15:51:33] INFO: C:\\Users\\Administrator\\workspace\\xgboost-win64_release_1.2.0\\src\\tree\\updater_prune.cc:101: tree pruning end, 1898 extra nodes, 0 pruned nodes, max_depth=13\n",
            "[15:51:33] INFO: C:\\Users\\Administrator\\workspace\\xgboost-win64_release_1.2.0\\src\\tree\\updater_prune.cc:101: tree pruning end, 1628 extra nodes, 0 pruned nodes, max_depth=13\n",
            "[15:51:34] INFO: C:\\Users\\Administrator\\workspace\\xgboost-win64_release_1.2.0\\src\\tree\\updater_prune.cc:101: tree pruning end, 1752 extra nodes, 0 pruned nodes, max_depth=13\n",
            "[15:51:34] INFO: C:\\Users\\Administrator\\workspace\\xgboost-win64_release_1.2.0\\src\\tree\\updater_prune.cc:101: tree pruning end, 1156 extra nodes, 0 pruned nodes, max_depth=13\n",
            "[15:51:34] INFO: C:\\Users\\Administrator\\workspace\\xgboost-win64_release_1.2.0\\src\\tree\\updater_prune.cc:101: tree pruning end, 1200 extra nodes, 0 pruned nodes, max_depth=13\n",
            "[15:51:34] INFO: C:\\Users\\Administrator\\workspace\\xgboost-win64_release_1.2.0\\src\\tree\\updater_prune.cc:101: tree pruning end, 1192 extra nodes, 0 pruned nodes, max_depth=13\n",
            "[15:51:34] INFO: C:\\Users\\Administrator\\workspace\\xgboost-win64_release_1.2.0\\src\\tree\\updater_prune.cc:101: tree pruning end, 1468 extra nodes, 0 pruned nodes, max_depth=13\n",
            "[15:51:35] INFO: C:\\Users\\Administrator\\workspace\\xgboost-win64_release_1.2.0\\src\\tree\\updater_prune.cc:101: tree pruning end, 968 extra nodes, 0 pruned nodes, max_depth=13\n",
            "[15:51:35] INFO: C:\\Users\\Administrator\\workspace\\xgboost-win64_release_1.2.0\\src\\tree\\updater_prune.cc:101: tree pruning end, 934 extra nodes, 0 pruned nodes, max_depth=13\n",
            "[15:51:35] INFO: C:\\Users\\Administrator\\workspace\\xgboost-win64_release_1.2.0\\src\\tree\\updater_prune.cc:101: tree pruning end, 1294 extra nodes, 0 pruned nodes, max_depth=13\n",
            "[15:51:35] INFO: C:\\Users\\Administrator\\workspace\\xgboost-win64_release_1.2.0\\src\\tree\\updater_prune.cc:101: tree pruning end, 266 extra nodes, 0 pruned nodes, max_depth=13\n",
            "[15:51:35] INFO: C:\\Users\\Administrator\\workspace\\xgboost-win64_release_1.2.0\\src\\tree\\updater_prune.cc:101: tree pruning end, 1358 extra nodes, 0 pruned nodes, max_depth=13\n",
            "[15:51:35] INFO: C:\\Users\\Administrator\\workspace\\xgboost-win64_release_1.2.0\\src\\tree\\updater_prune.cc:101: tree pruning end, 1096 extra nodes, 0 pruned nodes, max_depth=13\n",
            "[15:51:36] INFO: C:\\Users\\Administrator\\workspace\\xgboost-win64_release_1.2.0\\src\\tree\\updater_prune.cc:101: tree pruning end, 1444 extra nodes, 0 pruned nodes, max_depth=13\n",
            "[15:51:36] INFO: C:\\Users\\Administrator\\workspace\\xgboost-win64_release_1.2.0\\src\\tree\\updater_prune.cc:101: tree pruning end, 1310 extra nodes, 0 pruned nodes, max_depth=13\n",
            "[15:51:36] INFO: C:\\Users\\Administrator\\workspace\\xgboost-win64_release_1.2.0\\src\\tree\\updater_prune.cc:101: tree pruning end, 1440 extra nodes, 0 pruned nodes, max_depth=13\n",
            "[15:51:36] INFO: C:\\Users\\Administrator\\workspace\\xgboost-win64_release_1.2.0\\src\\tree\\updater_prune.cc:101: tree pruning end, 1426 extra nodes, 0 pruned nodes, max_depth=13\n",
            "[15:51:36] INFO: C:\\Users\\Administrator\\workspace\\xgboost-win64_release_1.2.0\\src\\tree\\updater_prune.cc:101: tree pruning end, 660 extra nodes, 0 pruned nodes, max_depth=13\n",
            "[15:51:36] INFO: C:\\Users\\Administrator\\workspace\\xgboost-win64_release_1.2.0\\src\\tree\\updater_prune.cc:101: tree pruning end, 1334 extra nodes, 0 pruned nodes, max_depth=13\n",
            "[15:51:36] INFO: C:\\Users\\Administrator\\workspace\\xgboost-win64_release_1.2.0\\src\\tree\\updater_prune.cc:101: tree pruning end, 1346 extra nodes, 0 pruned nodes, max_depth=13\n",
            "[15:51:37] INFO: C:\\Users\\Administrator\\workspace\\xgboost-win64_release_1.2.0\\src\\tree\\updater_prune.cc:101: tree pruning end, 596 extra nodes, 0 pruned nodes, max_depth=13\n",
            "[15:51:37] INFO: C:\\Users\\Administrator\\workspace\\xgboost-win64_release_1.2.0\\src\\tree\\updater_prune.cc:101: tree pruning end, 1324 extra nodes, 0 pruned nodes, max_depth=13\n",
            "[15:51:37] INFO: C:\\Users\\Administrator\\workspace\\xgboost-win64_release_1.2.0\\src\\tree\\updater_prune.cc:101: tree pruning end, 1954 extra nodes, 0 pruned nodes, max_depth=13\n",
            "[15:51:37] INFO: C:\\Users\\Administrator\\workspace\\xgboost-win64_release_1.2.0\\src\\tree\\updater_prune.cc:101: tree pruning end, 1054 extra nodes, 0 pruned nodes, max_depth=13\n",
            "[15:51:37] INFO: C:\\Users\\Administrator\\workspace\\xgboost-win64_release_1.2.0\\src\\tree\\updater_prune.cc:101: tree pruning end, 1376 extra nodes, 0 pruned nodes, max_depth=13\n",
            "[15:51:37] INFO: C:\\Users\\Administrator\\workspace\\xgboost-win64_release_1.2.0\\src\\tree\\updater_prune.cc:101: tree pruning end, 964 extra nodes, 0 pruned nodes, max_depth=13\n",
            "[15:51:38] INFO: C:\\Users\\Administrator\\workspace\\xgboost-win64_release_1.2.0\\src\\tree\\updater_prune.cc:101: tree pruning end, 996 extra nodes, 0 pruned nodes, max_depth=13\n",
            "[15:51:38] INFO: C:\\Users\\Administrator\\workspace\\xgboost-win64_release_1.2.0\\src\\tree\\updater_prune.cc:101: tree pruning end, 1184 extra nodes, 0 pruned nodes, max_depth=13\n",
            "[15:51:38] INFO: C:\\Users\\Administrator\\workspace\\xgboost-win64_release_1.2.0\\src\\tree\\updater_prune.cc:101: tree pruning end, 1536 extra nodes, 0 pruned nodes, max_depth=13\n",
            "[15:51:38] INFO: C:\\Users\\Administrator\\workspace\\xgboost-win64_release_1.2.0\\src\\tree\\updater_prune.cc:101: tree pruning end, 1344 extra nodes, 0 pruned nodes, max_depth=13\n",
            "[15:51:38] INFO: C:\\Users\\Administrator\\workspace\\xgboost-win64_release_1.2.0\\src\\tree\\updater_prune.cc:101: tree pruning end, 1186 extra nodes, 0 pruned nodes, max_depth=13\n",
            "[15:51:38] INFO: C:\\Users\\Administrator\\workspace\\xgboost-win64_release_1.2.0\\src\\tree\\updater_prune.cc:101: tree pruning end, 822 extra nodes, 0 pruned nodes, max_depth=13\n",
            "[15:51:39] INFO: C:\\Users\\Administrator\\workspace\\xgboost-win64_release_1.2.0\\src\\tree\\updater_prune.cc:101: tree pruning end, 836 extra nodes, 0 pruned nodes, max_depth=13\n",
            "[15:51:39] INFO: C:\\Users\\Administrator\\workspace\\xgboost-win64_release_1.2.0\\src\\tree\\updater_prune.cc:101: tree pruning end, 944 extra nodes, 0 pruned nodes, max_depth=13\n",
            "[15:51:39] INFO: C:\\Users\\Administrator\\workspace\\xgboost-win64_release_1.2.0\\src\\tree\\updater_prune.cc:101: tree pruning end, 2050 extra nodes, 0 pruned nodes, max_depth=13\n",
            "[15:51:39] INFO: C:\\Users\\Administrator\\workspace\\xgboost-win64_release_1.2.0\\src\\tree\\updater_prune.cc:101: tree pruning end, 2274 extra nodes, 0 pruned nodes, max_depth=13\n",
            "[15:51:39] INFO: C:\\Users\\Administrator\\workspace\\xgboost-win64_release_1.2.0\\src\\tree\\updater_prune.cc:101: tree pruning end, 872 extra nodes, 0 pruned nodes, max_depth=13\n",
            "[15:51:40] INFO: C:\\Users\\Administrator\\workspace\\xgboost-win64_release_1.2.0\\src\\tree\\updater_prune.cc:101: tree pruning end, 1608 extra nodes, 0 pruned nodes, max_depth=13\n",
            "[15:51:40] INFO: C:\\Users\\Administrator\\workspace\\xgboost-win64_release_1.2.0\\src\\tree\\updater_prune.cc:101: tree pruning end, 732 extra nodes, 0 pruned nodes, max_depth=13\n",
            "[15:51:40] INFO: C:\\Users\\Administrator\\workspace\\xgboost-win64_release_1.2.0\\src\\tree\\updater_prune.cc:101: tree pruning end, 1754 extra nodes, 0 pruned nodes, max_depth=13\n",
            "[15:51:40] INFO: C:\\Users\\Administrator\\workspace\\xgboost-win64_release_1.2.0\\src\\tree\\updater_prune.cc:101: tree pruning end, 1080 extra nodes, 0 pruned nodes, max_depth=13\n",
            "[15:51:40] INFO: C:\\Users\\Administrator\\workspace\\xgboost-win64_release_1.2.0\\src\\tree\\updater_prune.cc:101: tree pruning end, 1110 extra nodes, 0 pruned nodes, max_depth=13\n",
            "[15:51:40] INFO: C:\\Users\\Administrator\\workspace\\xgboost-win64_release_1.2.0\\src\\tree\\updater_prune.cc:101: tree pruning end, 1050 extra nodes, 0 pruned nodes, max_depth=13\n",
            "[15:51:41] INFO: C:\\Users\\Administrator\\workspace\\xgboost-win64_release_1.2.0\\src\\tree\\updater_prune.cc:101: tree pruning end, 956 extra nodes, 0 pruned nodes, max_depth=13\n",
            "[15:51:41] INFO: C:\\Users\\Administrator\\workspace\\xgboost-win64_release_1.2.0\\src\\tree\\updater_prune.cc:101: tree pruning end, 1134 extra nodes, 0 pruned nodes, max_depth=13\n",
            "[15:51:41] INFO: C:\\Users\\Administrator\\workspace\\xgboost-win64_release_1.2.0\\src\\tree\\updater_prune.cc:101: tree pruning end, 954 extra nodes, 0 pruned nodes, max_depth=13\n",
            "[15:51:41] INFO: C:\\Users\\Administrator\\workspace\\xgboost-win64_release_1.2.0\\src\\tree\\updater_prune.cc:101: tree pruning end, 1238 extra nodes, 0 pruned nodes, max_depth=13\n",
            "[15:51:41] INFO: C:\\Users\\Administrator\\workspace\\xgboost-win64_release_1.2.0\\src\\tree\\updater_prune.cc:101: tree pruning end, 1020 extra nodes, 0 pruned nodes, max_depth=13\n",
            "[15:51:41] INFO: C:\\Users\\Administrator\\workspace\\xgboost-win64_release_1.2.0\\src\\tree\\updater_prune.cc:101: tree pruning end, 726 extra nodes, 0 pruned nodes, max_depth=13\n",
            "[15:51:41] INFO: C:\\Users\\Administrator\\workspace\\xgboost-win64_release_1.2.0\\src\\tree\\updater_prune.cc:101: tree pruning end, 880 extra nodes, 0 pruned nodes, max_depth=13\n",
            "[15:51:42] INFO: C:\\Users\\Administrator\\workspace\\xgboost-win64_release_1.2.0\\src\\tree\\updater_prune.cc:101: tree pruning end, 596 extra nodes, 0 pruned nodes, max_depth=13\n",
            "[15:51:42] INFO: C:\\Users\\Administrator\\workspace\\xgboost-win64_release_1.2.0\\src\\tree\\updater_prune.cc:101: tree pruning end, 868 extra nodes, 0 pruned nodes, max_depth=13\n",
            "[15:51:42] INFO: C:\\Users\\Administrator\\workspace\\xgboost-win64_release_1.2.0\\src\\tree\\updater_prune.cc:101: tree pruning end, 876 extra nodes, 0 pruned nodes, max_depth=13\n",
            "[15:51:42] INFO: C:\\Users\\Administrator\\workspace\\xgboost-win64_release_1.2.0\\src\\tree\\updater_prune.cc:101: tree pruning end, 1008 extra nodes, 0 pruned nodes, max_depth=13\n",
            "[15:51:42] INFO: C:\\Users\\Administrator\\workspace\\xgboost-win64_release_1.2.0\\src\\tree\\updater_prune.cc:101: tree pruning end, 1172 extra nodes, 0 pruned nodes, max_depth=13\n",
            "[15:51:42] INFO: C:\\Users\\Administrator\\workspace\\xgboost-win64_release_1.2.0\\src\\tree\\updater_prune.cc:101: tree pruning end, 438 extra nodes, 0 pruned nodes, max_depth=13\n",
            "[15:51:43] INFO: C:\\Users\\Administrator\\workspace\\xgboost-win64_release_1.2.0\\src\\tree\\updater_prune.cc:101: tree pruning end, 494 extra nodes, 0 pruned nodes, max_depth=13\n",
            "[15:51:43] INFO: C:\\Users\\Administrator\\workspace\\xgboost-win64_release_1.2.0\\src\\tree\\updater_prune.cc:101: tree pruning end, 1044 extra nodes, 0 pruned nodes, max_depth=13\n",
            "[15:51:43] INFO: C:\\Users\\Administrator\\workspace\\xgboost-win64_release_1.2.0\\src\\tree\\updater_prune.cc:101: tree pruning end, 412 extra nodes, 0 pruned nodes, max_depth=13\n",
            "[15:51:43] INFO: C:\\Users\\Administrator\\workspace\\xgboost-win64_release_1.2.0\\src\\tree\\updater_prune.cc:101: tree pruning end, 1252 extra nodes, 0 pruned nodes, max_depth=13\n",
            "[15:51:43] INFO: C:\\Users\\Administrator\\workspace\\xgboost-win64_release_1.2.0\\src\\tree\\updater_prune.cc:101: tree pruning end, 864 extra nodes, 0 pruned nodes, max_depth=13\n",
            "[15:51:43] INFO: C:\\Users\\Administrator\\workspace\\xgboost-win64_release_1.2.0\\src\\tree\\updater_prune.cc:101: tree pruning end, 1976 extra nodes, 0 pruned nodes, max_depth=13\n",
            "[15:51:44] INFO: C:\\Users\\Administrator\\workspace\\xgboost-win64_release_1.2.0\\src\\tree\\updater_prune.cc:101: tree pruning end, 1880 extra nodes, 0 pruned nodes, max_depth=13\n",
            "[15:51:44] INFO: C:\\Users\\Administrator\\workspace\\xgboost-win64_release_1.2.0\\src\\tree\\updater_prune.cc:101: tree pruning end, 1452 extra nodes, 0 pruned nodes, max_depth=13\n",
            "[15:51:44] INFO: C:\\Users\\Administrator\\workspace\\xgboost-win64_release_1.2.0\\src\\tree\\updater_prune.cc:101: tree pruning end, 1070 extra nodes, 0 pruned nodes, max_depth=13\n",
            "[15:51:44] INFO: C:\\Users\\Administrator\\workspace\\xgboost-win64_release_1.2.0\\src\\tree\\updater_prune.cc:101: tree pruning end, 392 extra nodes, 0 pruned nodes, max_depth=13\n",
            "[15:51:44] INFO: C:\\Users\\Administrator\\workspace\\xgboost-win64_release_1.2.0\\src\\tree\\updater_prune.cc:101: tree pruning end, 1424 extra nodes, 0 pruned nodes, max_depth=13\n",
            "[15:51:44] INFO: C:\\Users\\Administrator\\workspace\\xgboost-win64_release_1.2.0\\src\\tree\\updater_prune.cc:101: tree pruning end, 482 extra nodes, 0 pruned nodes, max_depth=13\n",
            "[15:51:45] INFO: C:\\Users\\Administrator\\workspace\\xgboost-win64_release_1.2.0\\src\\tree\\updater_prune.cc:101: tree pruning end, 1192 extra nodes, 0 pruned nodes, max_depth=13\n",
            "[15:51:45] ======== Monitor: Learner ========\n",
            "[15:51:45] Configure: 0.00049s, 1 calls @ 490us\n",
            "\n",
            "[15:51:45] GetGradient: 0.383445s, 50 calls @ 383445us\n",
            "\n",
            "[15:51:45] PredictRaw: 1.29001s, 50 calls @ 1290012us\n",
            "\n",
            "[15:51:45] UpdateOneIter: 26.771s, 50 calls @ 26770993us\n",
            "\n",
            "[15:51:45] ======== Monitor: GBTree ========\n",
            "[15:51:45] BoostNewTrees: 25.0959s, 50 calls @ 25095869us\n",
            "\n",
            "[15:51:45] CommitModel: 0.000113s, 50 calls @ 113us\n",
            "\n",
            "[15:51:45] ======== Monitor: TreePruner ========\n",
            "[15:51:45] PrunerUpdate: 0.071057s, 150 calls @ 71057us\n",
            "\n",
            "Fit End - Prediction Start \n"
          ]
        }
      ]
    },
    {
      "cell_type": "code",
      "metadata": {
        "id": "ut8Tk6p4tMUr"
      },
      "source": [
        "#test the prediction\r\n",
        "\r\n",
        "y_pred_test=knn.predict(X_train_test)\r\n"
      ],
      "execution_count": 78,
      "outputs": []
    },
    {
      "cell_type": "code",
      "metadata": {
        "colab": {
          "base_uri": "https://localhost:8080/"
        },
        "id": "kO3mqs94C9k5",
        "outputId": "5c642ee9-e958-44b9-bf2a-369e3360ad62"
      },
      "source": [
        "y_train_test.damage_grade.iloc[5]"
      ],
      "execution_count": 79,
      "outputs": [
        {
          "output_type": "execute_result",
          "data": {
            "text/plain": [
              "2"
            ]
          },
          "metadata": {},
          "execution_count": 79
        }
      ]
    },
    {
      "cell_type": "code",
      "metadata": {
        "colab": {
          "base_uri": "https://localhost:8080/"
        },
        "id": "FRRlt9VpDuy7",
        "outputId": "f1f4d025-6022-4cf7-95a0-150eb0cf7f7d"
      },
      "source": [
        "y_pred_test"
      ],
      "execution_count": 83,
      "outputs": [
        {
          "output_type": "execute_result",
          "data": {
            "text/plain": [
              "array([2, 3, 2, ..., 2, 3, 1], dtype=int64)"
            ]
          },
          "metadata": {},
          "execution_count": 83
        }
      ]
    },
    {
      "cell_type": "code",
      "metadata": {
        "colab": {
          "base_uri": "https://localhost:8080/"
        },
        "id": "IyQx3aPoyim9",
        "outputId": "785937c2-57e6-4e74-edd6-7e3b81a4748e"
      },
      "source": [
        "db=0\n",
        "maxi=0\n",
        "for ind, i in enumerate(y_pred_test):\n",
        "    maxi+=1\n",
        "    i2=y_train_test.damage_grade.iloc[ind]\n",
        "    if i!=i2:\n",
        "        db+=1\n",
        "    #print(f\"{ind}. eset:  {i:3},{i2:3}\")\n",
        "print(f\"hiba:{db} max:{maxi} -- error:{db/maxi*100.0 : 2.5} good %:{100-db/maxi*100.0 : 2.5} %\")"
      ],
      "execution_count": 92,
      "outputs": [
        {
          "output_type": "stream",
          "name": "stdout",
          "text": [
            "hiba:7077 max:26061 -- error: 27.156 good %: 72.844 %\n"
          ]
        }
      ]
    },
    {
      "cell_type": "code",
      "metadata": {
        "colab": {
          "base_uri": "https://localhost:8080/"
        },
        "id": "QAuqcJ7xke4c",
        "outputId": "cf1018c8-fad5-4bb6-9bfa-788d2c5e5ab9"
      },
      "source": [
        "#outfile generation\r\n",
        "y_pred_ok=knn.predict(X_pred_ok)\r\n",
        "print(\"Prediction End\")\r\n",
        "\r\n",
        "X_pred_bd=pd.read_csv(basedir+\"/orig/test_values.csv\")\r\n",
        "\r\n",
        "y_pred_ok_int=[]\r\n",
        "for i in range(len(y_pred_ok)):\r\n",
        "    y_pred_ok_int.append(int(y_pred_ok[i]))"
      ],
      "execution_count": 93,
      "outputs": [
        {
          "output_type": "stream",
          "name": "stdout",
          "text": [
            "Prediction End\n"
          ]
        }
      ]
    },
    {
      "cell_type": "code",
      "metadata": {
        "colab": {
          "base_uri": "https://localhost:8080/"
        },
        "id": "wD9rzAN4pBR5",
        "outputId": "ab2363f0-11eb-4e5a-c1a4-a71d12168323"
      },
      "source": [
        "buildingid=X_pred_bd[\"building_id\"]\r\n",
        "head2=y_pred_ok_int\r\n",
        "\r\n",
        "\r\n",
        "outdf=pd.DataFrame(data={\"damage_grade\":y_pred_ok_int} ,index=buildingid)\r\n",
        "outdf.index.name=\"building_id\"\r\n",
        "\r\n",
        "\r\n",
        "outdf.head()\r\n",
        "st=24\r\n",
        "sts=str(st)\r\n",
        "outdf.to_csv(basedir+\"/out/submission_\"+sts+\"_xgboost.csv\")\r\n",
        "print()\r\n",
        "print(basedir+\"/out/submission_\"+sts+\"_xgboost.csv\")"
      ],
      "execution_count": 94,
      "outputs": [
        {
          "output_type": "stream",
          "name": "stdout",
          "text": [
            "\nC:/Users/sipocz/OneDrive/Dokumentumok/GitHub/_EarthQuake/gpos_lin/out/submission_24_xgboost.csv\n"
          ]
        }
      ]
    },
    {
      "cell_type": "code",
      "metadata": {
        "colab": {
          "base_uri": "https://localhost:8080/"
        },
        "id": "PjkOA2B1Pys6",
        "outputId": "e76ee986-189a-401e-9df9-722850ff2e5b"
      },
      "source": [
        "if not( _PCVERSION_):\r\n",
        "    !head \"/content/drive/My Drive/001_AI/_EarthQuake/gpos_lin/out/submission_24_xgboost.csv\""
      ],
      "execution_count": 95,
      "outputs": []
    }
  ]
}