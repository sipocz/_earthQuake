{
  "nbformat": 4,
  "nbformat_minor": 0,
  "metadata": {
    "colab": {
      "name": "_EarthQuake_outlier.ipynb másolata",
      "provenance": [],
      "collapsed_sections": [],
      "authorship_tag": "ABX9TyO9Q3m2dOYpHr+YPUkIFubf",
      "include_colab_link": true
    },
    "kernelspec": {
      "name": "python3",
      "display_name": "Python 3"
    }
  },
  "cells": [
    {
      "cell_type": "markdown",
      "metadata": {
        "id": "view-in-github",
        "colab_type": "text"
      },
      "source": [
        "<a href=\"https://colab.research.google.com/github/sipocz/_earthQuake/blob/main/_EarthQuake_outlier.ipynb\" target=\"_parent\"><img src=\"https://colab.research.google.com/assets/colab-badge.svg\" alt=\"Open In Colab\"/></a>"
      ]
    },
    {
      "cell_type": "code",
      "metadata": {
        "id": "ourMOFA7tuMi"
      },
      "source": [
        "from sklearn.ensemble import IsolationForest\n",
        "import numpy as np\n",
        "\n"
      ],
      "execution_count": 65,
      "outputs": []
    },
    {
      "cell_type": "code",
      "metadata": {
        "colab": {
          "base_uri": "https://localhost:8080/"
        },
        "id": "eu94_AfLv0aj",
        "outputId": "f508118c-44b9-4757-c328-cd0773c50aa1"
      },
      "source": [
        "#EarthQuake\n",
        "from google.colab import drive\n",
        "drive.mount('/content/drive',force_remount=True)\n",
        "import numpy as np\n",
        "import pandas as pd\n",
        "import matplotlib.pyplot as plt\n",
        "#import sweetviz as sw\n",
        "\n",
        "#!pip install sweetviz\n",
        "#import sweetviz as sw\n",
        "from sklearn.preprocessing import MinMaxScaler\n",
        "from sklearn.model_selection import train_test_split"
      ],
      "execution_count": 66,
      "outputs": [
        {
          "output_type": "stream",
          "text": [
            "Mounted at /content/drive\n"
          ],
          "name": "stdout"
        }
      ]
    },
    {
      "cell_type": "code",
      "metadata": {
        "id": "Hd2wpZ8TwEMv"
      },
      "source": [
        "df=pd.read_csv(\"/content/drive/My Drive/001_AI/_EarthQuake/features_a.csv\")\n",
        "df_clasters=pd.read_csv(\"/content/drive/My Drive/001_AI/_EarthQuake/train_labels.csv\")\n",
        "df_testvalues=pd.read_csv(\"/content/drive/My Drive/001_AI/_EarthQuake/test_a.csv\")"
      ],
      "execution_count": 67,
      "outputs": []
    },
    {
      "cell_type": "code",
      "metadata": {
        "colab": {
          "base_uri": "https://localhost:8080/"
        },
        "id": "j9rIQ6sqwJgX",
        "outputId": "70595f6a-1934-4eca-dc93-b6273a62b041"
      },
      "source": [
        "numx=260601\n",
        "Y=df_clasters[[\"damage_grade\"]]\n",
        "X=df\n",
        "scaler=MinMaxScaler()\n",
        "Xt=X[:numx]\n",
        "Xt=scaler.fit_transform(Xt)\n",
        "Xt=Xt[:numx]\n",
        "Y=Y[[\"damage_grade\"]]\n",
        "Y=Y[:numx]\n",
        "X_train, X_test, y_train, y_test = train_test_split(Xt, Y, random_state=32)\n",
        "\n",
        "heads=df.columns\n",
        "print(len(heads))\n",
        "print(len(df_testvalues.columns))\n",
        "for i in df_testvalues.columns:\n",
        "    if i not in heads:\n",
        "        df_testvalues.drop(columns=[i], inplace=True)\n",
        "\n",
        "print(len(df_testvalues.columns))\n",
        "print(len(X_train))"
      ],
      "execution_count": 68,
      "outputs": [
        {
          "output_type": "stream",
          "text": [
            "57\n",
            "78\n",
            "57\n",
            "195450\n"
          ],
          "name": "stdout"
        }
      ]
    },
    {
      "cell_type": "code",
      "metadata": {
        "colab": {
          "base_uri": "https://localhost:8080/"
        },
        "id": "pzZEUQ8vv6HQ",
        "outputId": "41733346-6373-4076-a705-e9ecc2cdb91b"
      },
      "source": [
        "clf = IsolationForest(n_estimators=3, warm_start=True, max_features=3)\n",
        "clf.fit(X_train)  # fit 10 trees  \n",
        "#clf.set_params()  # add 10 more trees  \n",
        "#clf.fit(X)  # fit the added trees "
      ],
      "execution_count": 69,
      "outputs": [
        {
          "output_type": "execute_result",
          "data": {
            "text/plain": [
              "IsolationForest(behaviour='deprecated', bootstrap=False, contamination='auto',\n",
              "                max_features=3, max_samples='auto', n_estimators=3, n_jobs=None,\n",
              "                random_state=None, verbose=0, warm_start=True)"
            ]
          },
          "metadata": {
            "tags": []
          },
          "execution_count": 69
        }
      ]
    },
    {
      "cell_type": "code",
      "metadata": {
        "colab": {
          "base_uri": "https://localhost:8080/"
        },
        "id": "iazEsgr_wDqr",
        "outputId": "f304ecec-ce71-4d42-8f3e-e2b26530bd41"
      },
      "source": [
        "X_train_predict=clf.predict(X_train)\n",
        "print(len(X_train))"
      ],
      "execution_count": 70,
      "outputs": [
        {
          "output_type": "stream",
          "text": [
            "195450\n"
          ],
          "name": "stdout"
        }
      ]
    },
    {
      "cell_type": "code",
      "metadata": {
        "colab": {
          "base_uri": "https://localhost:8080/"
        },
        "id": "w7dpyxTuw03D",
        "outputId": "bb115e5c-ec1e-49ae-a12a-d3d744442da9"
      },
      "source": [
        "print(X_train_predict)\n",
        "maxX=len(X_train_predict)\n",
        "outlier=0\n",
        "for i in X_train_predict:\n",
        "    if i==-1:\n",
        "        outlier+=1\n",
        "print(f\"A összes ({maxX} darabból {outlier} darab outlier van. Az {outlier/maxX*100:5.1f} %.)\")"
      ],
      "execution_count": 71,
      "outputs": [
        {
          "output_type": "stream",
          "text": [
            "[1 1 1 ... 1 1 1]\n",
            "A összes (195450 darabból 23395 darab outlier van. Az  12.0 %.)\n"
          ],
          "name": "stdout"
        }
      ]
    },
    {
      "cell_type": "code",
      "metadata": {
        "id": "KBEZnsQd5ces"
      },
      "source": [
        "print()"
      ],
      "execution_count": null,
      "outputs": []
    },
    {
      "cell_type": "code",
      "metadata": {
        "colab": {
          "base_uri": "https://localhost:8080/",
          "height": 298
        },
        "id": "DIL3LJrtt5KJ",
        "outputId": "f076ab9b-eb30-44e1-e084-dc987a3ea7f4"
      },
      "source": [
        "print(__doc__)\n",
        "\n",
        "import numpy as np\n",
        "import matplotlib.pyplot as plt\n",
        "from sklearn.ensemble import IsolationForest\n",
        "\n",
        "rng = np.random.RandomState(42)\n",
        "\n",
        "# Generate train data\n",
        "X = 0.3 * rng.randn(100, 2)\n",
        "X_train = np.r_[X + 2, X - 2]\n",
        "# Generate some regular novel observations\n",
        "X = 0.3 * rng.randn(20, 2)\n",
        "X_test = np.r_[X + 2, X - 2]\n",
        "# Generate some abnormal novel observations\n",
        "X_outliers = rng.uniform(low=-4, high=4, size=(20, 2))\n",
        "\n",
        "# fit the model\n",
        "clf = IsolationForest(max_samples=100, random_state=rng)\n",
        "clf.fit(X_train)\n",
        "y_pred_train = clf.predict(X_train)\n",
        "y_pred_test = clf.predict(X_test)\n",
        "y_pred_outliers = clf.predict(X_outliers)\n",
        "\n",
        "# plot the line, the samples, and the nearest vectors to the plane\n",
        "xx, yy = np.meshgrid(np.linspace(-5, 5, 50), np.linspace(-5, 5, 50))\n",
        "Z = clf.decision_function(np.c_[xx.ravel(), yy.ravel()])\n",
        "Z = Z.reshape(xx.shape)\n",
        "\n",
        "plt.title(\"IsolationForest\")\n",
        "plt.contourf(xx, yy, Z, cmap=plt.cm.Blues_r)\n",
        "\n",
        "b1 = plt.scatter(X_train[:, 0], X_train[:, 1], c='white',\n",
        "                 s=20, edgecolor='k')\n",
        "b2 = plt.scatter(X_test[:, 0], X_test[:, 1], c='green',\n",
        "                 s=20, edgecolor='k')\n",
        "c = plt.scatter(X_outliers[:, 0], X_outliers[:, 1], c='red',\n",
        "                s=20, edgecolor='k')\n",
        "plt.axis('tight')\n",
        "plt.xlim((-5, 5))\n",
        "plt.ylim((-5, 5))\n",
        "plt.legend([b1, b2, c],\n",
        "           [\"training observations\",\n",
        "            \"new regular observations\", \"new abnormal observations\"],\n",
        "           loc=\"upper left\")\n",
        "plt.show()"
      ],
      "execution_count": 72,
      "outputs": [
        {
          "output_type": "stream",
          "text": [
            "Automatically created module for IPython interactive environment\n"
          ],
          "name": "stdout"
        },
        {
          "output_type": "display_data",
          "data": {
            "image/png": "[encoded data removed]",
            "text/plain": [
              "<Figure size 432x288 with 1 Axes>"
            ]
          },
          "metadata": {
            "tags": [],
            "needs_background": "light"
          }
        }
      ]
    },
    {
      "cell_type": "code",
      "metadata": {
        "colab": {
          "base_uri": "https://localhost:8080/"
        },
        "id": "N-9iZQpKu4ZM",
        "outputId": "fb2826f4-81b1-4186-8bd3-b901e267f4f2"
      },
      "source": [
        "y_pred_test"
      ],
      "execution_count": 73,
      "outputs": [
        {
          "output_type": "execute_result",
          "data": {
            "text/plain": [
              "array([ 1, -1, -1,  1, -1, -1, -1,  1,  1,  1, -1, -1,  1,  1,  1,  1,  1,\n",
              "       -1, -1,  1,  1, -1, -1,  1, -1,  1, -1,  1,  1,  1, -1, -1,  1,  1,\n",
              "        1,  1,  1, -1, -1,  1])"
            ]
          },
          "metadata": {
            "tags": []
          },
          "execution_count": 73
        }
      ]
    }
  ]
}