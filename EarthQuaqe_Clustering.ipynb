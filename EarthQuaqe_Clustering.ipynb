{
  "nbformat": 4,
  "nbformat_minor": 0,
  "metadata": {
    "colab": {
      "name": "EarthQuaqe_Clustering.ipynb",
      "provenance": [],
      "authorship_tag": "ABX9TyMzA7ruVDQguasN+uoiR8bV",
      "include_colab_link": true
    },
    "kernelspec": {
      "name": "python3",
      "display_name": "Python 3"
    }
  },
  "cells": [
    {
      "cell_type": "markdown",
      "metadata": {
        "id": "view-in-github",
        "colab_type": "text"
      },
      "source": [
        "<a href=\"https://colab.research.google.com/github/sipocz/_earthQuake/blob/main/EarthQuaqe_Clustering.ipynb\" target=\"_parent\"><img src=\"https://colab.research.google.com/assets/colab-badge.svg\" alt=\"Open In Colab\"/></a>"
      ]
    },
    {
      "cell_type": "code",
      "metadata": {
        "id": "enG00axDBayq",
        "colab": {
          "base_uri": "https://localhost:8080/"
        },
        "outputId": "2a23aa6d-716f-43a9-87b3-3595fb19a84e"
      },
      "source": [
        "#EarthQuake\n",
        "from google.colab import drive\n",
        "drive.mount('/content/drive',force_remount=True)\n",
        "import numpy as np\n",
        "import pandas as pd\n",
        "import matplotlib.pyplot as plt\n",
        "#import sweetviz as sw\n",
        "\n",
        "!pip install sweetviz\n",
        "import sweetviz as sw\n"
      ],
      "execution_count": 3,
      "outputs": [
        {
          "output_type": "stream",
          "text": [
            "Mounted at /content/drive\n",
            "Requirement already satisfied: sweetviz in /usr/local/lib/python3.6/dist-packages (2.0.2)\n",
            "Requirement already satisfied: matplotlib>=3.1.3 in /usr/local/lib/python3.6/dist-packages (from sweetviz) (3.2.2)\n",
            "Requirement already satisfied: tqdm>=4.43.0 in /usr/local/lib/python3.6/dist-packages (from sweetviz) (4.54.0)\n",
            "Requirement already satisfied: jinja2>=2.11.1 in /usr/local/lib/python3.6/dist-packages (from sweetviz) (2.11.2)\n",
            "Requirement already satisfied: numpy>=1.16.0 in /usr/local/lib/python3.6/dist-packages (from sweetviz) (1.18.5)\n",
            "Requirement already satisfied: pandas!=1.0.0,!=1.0.1,!=1.0.2,>=0.25.3 in /usr/local/lib/python3.6/dist-packages (from sweetviz) (1.1.4)\n",
            "Requirement already satisfied: scipy>=1.3.2 in /usr/local/lib/python3.6/dist-packages (from sweetviz) (1.4.1)\n",
            "Requirement already satisfied: importlib-resources>=1.2.0 in /usr/local/lib/python3.6/dist-packages (from sweetviz) (3.3.0)\n",
            "Requirement already satisfied: kiwisolver>=1.0.1 in /usr/local/lib/python3.6/dist-packages (from matplotlib>=3.1.3->sweetviz) (1.3.1)\n",
            "Requirement already satisfied: python-dateutil>=2.1 in /usr/local/lib/python3.6/dist-packages (from matplotlib>=3.1.3->sweetviz) (2.8.1)\n",
            "Requirement already satisfied: pyparsing!=2.0.4,!=2.1.2,!=2.1.6,>=2.0.1 in /usr/local/lib/python3.6/dist-packages (from matplotlib>=3.1.3->sweetviz) (2.4.7)\n",
            "Requirement already satisfied: cycler>=0.10 in /usr/local/lib/python3.6/dist-packages (from matplotlib>=3.1.3->sweetviz) (0.10.0)\n",
            "Requirement already satisfied: MarkupSafe>=0.23 in /usr/local/lib/python3.6/dist-packages (from jinja2>=2.11.1->sweetviz) (1.1.1)\n",
            "Requirement already satisfied: pytz>=2017.2 in /usr/local/lib/python3.6/dist-packages (from pandas!=1.0.0,!=1.0.1,!=1.0.2,>=0.25.3->sweetviz) (2018.9)\n",
            "Requirement already satisfied: zipp>=0.4; python_version < \"3.8\" in /usr/local/lib/python3.6/dist-packages (from importlib-resources>=1.2.0->sweetviz) (3.4.0)\n",
            "Requirement already satisfied: six>=1.5 in /usr/local/lib/python3.6/dist-packages (from python-dateutil>=2.1->matplotlib>=3.1.3->sweetviz) (1.15.0)\n"
          ],
          "name": "stdout"
        }
      ]
    },
    {
      "cell_type": "code",
      "metadata": {
        "id": "AloUkCiPSvT7"
      },
      "source": [
        "df=pd.read_csv(\"/content/drive/My Drive/001_AI/_EarthQuake/features_a.csv\")\n",
        "df_clasters=pd.read_csv(\"/content/drive/My Drive/001_AI/_EarthQuake/train_labels.csv\")"
      ],
      "execution_count": 4,
      "outputs": []
    },
    {
      "cell_type": "code",
      "metadata": {
        "id": "-4ti9bn2C9qj"
      },
      "source": [
        "Y=df_clasters[[\"damage_grade\"]]\n",
        "X=df"
      ],
      "execution_count": 5,
      "outputs": []
    },
    {
      "cell_type": "code",
      "metadata": {
        "id": "h_Ie7GricXz1"
      },
      "source": [
        "len(X.columns)\n",
        "\n",
        "\n",
        "X=X[:10000]\n",
        "Y=Y[:10000]"
      ],
      "execution_count": 6,
      "outputs": []
    },
    {
      "cell_type": "code",
      "metadata": {
        "id": "8-2sQhdxTiFr"
      },
      "source": [
        "from sklearn.linear_model import Lasso\n",
        "alpha=0.000001\n",
        "lassoreg = Lasso(alpha=alpha,normalize=True, max_iter=1e6)\n",
        "lassoreg.fit(X,Y)\n",
        "lassopred = lassoreg.predict(X)\n"
      ],
      "execution_count": 7,
      "outputs": []
    },
    {
      "cell_type": "code",
      "metadata": {
        "id": "7z2TYJsxTyFM"
      },
      "source": [
        ""
      ],
      "execution_count": 7,
      "outputs": []
    },
    {
      "cell_type": "code",
      "metadata": {
        "id": "FvSca5aaTmUZ"
      },
      "source": [
        ""
      ],
      "execution_count": 7,
      "outputs": []
    },
    {
      "cell_type": "code",
      "metadata": {
        "id": "fM6tW6B6iwK6",
        "colab": {
          "base_uri": "https://localhost:8080/"
        },
        "outputId": "19cb9b20-ab93-4459-9e57-2181085d3b19"
      },
      "source": [
        "df.columns"
      ],
      "execution_count": 8,
      "outputs": [
        {
          "output_type": "execute_result",
          "data": {
            "text/plain": [
              "Index(['Unnamed: 0', 'geo_level_1_id', 'geo_level_2_id', 'count_floors_pre_eq',\n",
              "       'age', 'area_percentage', 'height_percentage',\n",
              "       'has_superstructure_adobe_mud', 'has_superstructure_mud_mortar_stone',\n",
              "       'has_superstructure_stone_flag',\n",
              "       'has_superstructure_cement_mortar_stone',\n",
              "       'has_superstructure_mud_mortar_brick',\n",
              "       'has_superstructure_cement_mortar_brick', 'has_superstructure_timber',\n",
              "       'has_superstructure_bamboo', 'has_superstructure_rc_non_engineered',\n",
              "       'has_superstructure_rc_engineered', 'has_superstructure_other',\n",
              "       'count_families', 'has_secondary_use', 'has_secondary_use_agriculture',\n",
              "       'has_secondary_use_hotel', 'has_secondary_use_rental',\n",
              "       'has_secondary_use_institution', 'has_secondary_use_school',\n",
              "       'has_secondary_use_industry', 'has_secondary_use_other',\n",
              "       'land_surface_condition_t', 'land_surface_condition_o',\n",
              "       'foundation_type_h', 'foundation_type_w', 'foundation_type_i',\n",
              "       'foundation_type_r', 'foundation_type_u', 'roof_type_q', 'roof_type_n',\n",
              "       'roof_type_x', 'ground_floor_type_z', 'ground_floor_type_v',\n",
              "       'ground_floor_type_f', 'ground_floor_type_m', 'other_floor_type_q',\n",
              "       'other_floor_type_s', 'other_floor_type_j', 'other_floor_type_x',\n",
              "       'position_j', 'position_s', 'position_t', 'plan_configuration_c',\n",
              "       'plan_configuration_s', 'plan_configuration_d', 'plan_configuration_a',\n",
              "       'plan_configuration_u', 'plan_configuration_o',\n",
              "       'legal_ownership_status_a', 'legal_ownership_status_w',\n",
              "       'legal_ownership_status_v'],\n",
              "      dtype='object')"
            ]
          },
          "metadata": {
            "tags": []
          },
          "execution_count": 8
        }
      ]
    },
    {
      "cell_type": "code",
      "metadata": {
        "id": "X3qfRbCZSnb-"
      },
      "source": [
        "from sklearn.preprocessing import StandardScaler\n",
        "# Separating out the features\n",
        "X\n",
        "# Separating out the target\n",
        "Y\n",
        "# Standardizing the features\n",
        "X = StandardScaler().fit_transform(X)"
      ],
      "execution_count": 9,
      "outputs": []
    },
    {
      "cell_type": "code",
      "metadata": {
        "id": "3B9jizW6TSM2"
      },
      "source": [
        "from sklearn.decomposition import PCA\n",
        "pca = PCA(n_components=3)\n",
        "principalComponents = pca.fit_transform(X)\n",
        "principalDf = pd.DataFrame(data = principalComponents, columns = ['p1', 'p2', 'p3'])"
      ],
      "execution_count": 10,
      "outputs": []
    },
    {
      "cell_type": "code",
      "metadata": {
        "id": "Z6FlCzcRTrvR",
        "colab": {
          "base_uri": "https://localhost:8080/",
          "height": 204
        },
        "outputId": "fd6e853c-9698-4709-95bf-c92874e92111"
      },
      "source": [
        "principalDf.head()"
      ],
      "execution_count": 11,
      "outputs": [
        {
          "output_type": "execute_result",
          "data": {
            "text/html": [
              "<div>\n",
              "<style scoped>\n",
              "    .dataframe tbody tr th:only-of-type {\n",
              "        vertical-align: middle;\n",
              "    }\n",
              "\n",
              "    .dataframe tbody tr th {\n",
              "        vertical-align: top;\n",
              "    }\n",
              "\n",
              "    .dataframe thead th {\n",
              "        text-align: right;\n",
              "    }\n",
              "</style>\n",
              "<table border=\"1\" class=\"dataframe\">\n",
              "  <thead>\n",
              "    <tr style=\"text-align: right;\">\n",
              "      <th></th>\n",
              "      <th>p1</th>\n",
              "      <th>p2</th>\n",
              "      <th>p3</th>\n",
              "    </tr>\n",
              "  </thead>\n",
              "  <tbody>\n",
              "    <tr>\n",
              "      <th>0</th>\n",
              "      <td>-1.113681</td>\n",
              "      <td>1.692528</td>\n",
              "      <td>-0.205095</td>\n",
              "    </tr>\n",
              "    <tr>\n",
              "      <th>1</th>\n",
              "      <td>-0.735387</td>\n",
              "      <td>0.350752</td>\n",
              "      <td>-1.198704</td>\n",
              "    </tr>\n",
              "    <tr>\n",
              "      <th>2</th>\n",
              "      <td>-0.688124</td>\n",
              "      <td>0.276734</td>\n",
              "      <td>-0.306627</td>\n",
              "    </tr>\n",
              "    <tr>\n",
              "      <th>3</th>\n",
              "      <td>-1.193459</td>\n",
              "      <td>-1.353587</td>\n",
              "      <td>1.066526</td>\n",
              "    </tr>\n",
              "    <tr>\n",
              "      <th>4</th>\n",
              "      <td>-0.202690</td>\n",
              "      <td>1.406377</td>\n",
              "      <td>1.009244</td>\n",
              "    </tr>\n",
              "  </tbody>\n",
              "</table>\n",
              "</div>"
            ],
            "text/plain": [
              "         p1        p2        p3\n",
              "0 -1.113681  1.692528 -0.205095\n",
              "1 -0.735387  0.350752 -1.198704\n",
              "2 -0.688124  0.276734 -0.306627\n",
              "3 -1.193459 -1.353587  1.066526\n",
              "4 -0.202690  1.406377  1.009244"
            ]
          },
          "metadata": {
            "tags": []
          },
          "execution_count": 11
        }
      ]
    },
    {
      "cell_type": "code",
      "metadata": {
        "id": "E1xDFp_iVVfK",
        "colab": {
          "base_uri": "https://localhost:8080/",
          "height": 419
        },
        "outputId": "2af36c05-2683-438e-9572-edc88846da2e"
      },
      "source": [
        "Y[[\"damage_grade\"]]"
      ],
      "execution_count": 12,
      "outputs": [
        {
          "output_type": "execute_result",
          "data": {
            "text/html": [
              "<div>\n",
              "<style scoped>\n",
              "    .dataframe tbody tr th:only-of-type {\n",
              "        vertical-align: middle;\n",
              "    }\n",
              "\n",
              "    .dataframe tbody tr th {\n",
              "        vertical-align: top;\n",
              "    }\n",
              "\n",
              "    .dataframe thead th {\n",
              "        text-align: right;\n",
              "    }\n",
              "</style>\n",
              "<table border=\"1\" class=\"dataframe\">\n",
              "  <thead>\n",
              "    <tr style=\"text-align: right;\">\n",
              "      <th></th>\n",
              "      <th>damage_grade</th>\n",
              "    </tr>\n",
              "  </thead>\n",
              "  <tbody>\n",
              "    <tr>\n",
              "      <th>0</th>\n",
              "      <td>3</td>\n",
              "    </tr>\n",
              "    <tr>\n",
              "      <th>1</th>\n",
              "      <td>2</td>\n",
              "    </tr>\n",
              "    <tr>\n",
              "      <th>2</th>\n",
              "      <td>3</td>\n",
              "    </tr>\n",
              "    <tr>\n",
              "      <th>3</th>\n",
              "      <td>2</td>\n",
              "    </tr>\n",
              "    <tr>\n",
              "      <th>4</th>\n",
              "      <td>3</td>\n",
              "    </tr>\n",
              "    <tr>\n",
              "      <th>...</th>\n",
              "      <td>...</td>\n",
              "    </tr>\n",
              "    <tr>\n",
              "      <th>9995</th>\n",
              "      <td>2</td>\n",
              "    </tr>\n",
              "    <tr>\n",
              "      <th>9996</th>\n",
              "      <td>2</td>\n",
              "    </tr>\n",
              "    <tr>\n",
              "      <th>9997</th>\n",
              "      <td>3</td>\n",
              "    </tr>\n",
              "    <tr>\n",
              "      <th>9998</th>\n",
              "      <td>2</td>\n",
              "    </tr>\n",
              "    <tr>\n",
              "      <th>9999</th>\n",
              "      <td>1</td>\n",
              "    </tr>\n",
              "  </tbody>\n",
              "</table>\n",
              "<p>10000 rows × 1 columns</p>\n",
              "</div>"
            ],
            "text/plain": [
              "      damage_grade\n",
              "0                3\n",
              "1                2\n",
              "2                3\n",
              "3                2\n",
              "4                3\n",
              "...            ...\n",
              "9995             2\n",
              "9996             2\n",
              "9997             3\n",
              "9998             2\n",
              "9999             1\n",
              "\n",
              "[10000 rows x 1 columns]"
            ]
          },
          "metadata": {
            "tags": []
          },
          "execution_count": 12
        }
      ]
    },
    {
      "cell_type": "code",
      "metadata": {
        "id": "tW5bOr4MXZIu",
        "colab": {
          "base_uri": "https://localhost:8080/",
          "height": 419
        },
        "outputId": "c2608004-8193-44cf-b8b8-b41c13044081"
      },
      "source": [
        "Y"
      ],
      "execution_count": 13,
      "outputs": [
        {
          "output_type": "execute_result",
          "data": {
            "text/html": [
              "<div>\n",
              "<style scoped>\n",
              "    .dataframe tbody tr th:only-of-type {\n",
              "        vertical-align: middle;\n",
              "    }\n",
              "\n",
              "    .dataframe tbody tr th {\n",
              "        vertical-align: top;\n",
              "    }\n",
              "\n",
              "    .dataframe thead th {\n",
              "        text-align: right;\n",
              "    }\n",
              "</style>\n",
              "<table border=\"1\" class=\"dataframe\">\n",
              "  <thead>\n",
              "    <tr style=\"text-align: right;\">\n",
              "      <th></th>\n",
              "      <th>damage_grade</th>\n",
              "    </tr>\n",
              "  </thead>\n",
              "  <tbody>\n",
              "    <tr>\n",
              "      <th>0</th>\n",
              "      <td>3</td>\n",
              "    </tr>\n",
              "    <tr>\n",
              "      <th>1</th>\n",
              "      <td>2</td>\n",
              "    </tr>\n",
              "    <tr>\n",
              "      <th>2</th>\n",
              "      <td>3</td>\n",
              "    </tr>\n",
              "    <tr>\n",
              "      <th>3</th>\n",
              "      <td>2</td>\n",
              "    </tr>\n",
              "    <tr>\n",
              "      <th>4</th>\n",
              "      <td>3</td>\n",
              "    </tr>\n",
              "    <tr>\n",
              "      <th>...</th>\n",
              "      <td>...</td>\n",
              "    </tr>\n",
              "    <tr>\n",
              "      <th>9995</th>\n",
              "      <td>2</td>\n",
              "    </tr>\n",
              "    <tr>\n",
              "      <th>9996</th>\n",
              "      <td>2</td>\n",
              "    </tr>\n",
              "    <tr>\n",
              "      <th>9997</th>\n",
              "      <td>3</td>\n",
              "    </tr>\n",
              "    <tr>\n",
              "      <th>9998</th>\n",
              "      <td>2</td>\n",
              "    </tr>\n",
              "    <tr>\n",
              "      <th>9999</th>\n",
              "      <td>1</td>\n",
              "    </tr>\n",
              "  </tbody>\n",
              "</table>\n",
              "<p>10000 rows × 1 columns</p>\n",
              "</div>"
            ],
            "text/plain": [
              "      damage_grade\n",
              "0                3\n",
              "1                2\n",
              "2                3\n",
              "3                2\n",
              "4                3\n",
              "...            ...\n",
              "9995             2\n",
              "9996             2\n",
              "9997             3\n",
              "9998             2\n",
              "9999             1\n",
              "\n",
              "[10000 rows x 1 columns]"
            ]
          },
          "metadata": {
            "tags": []
          },
          "execution_count": 13
        }
      ]
    },
    {
      "cell_type": "code",
      "metadata": {
        "colab": {
          "base_uri": "https://localhost:8080/",
          "height": 282
        },
        "id": "rdEJoK17UYI3",
        "outputId": "870e6d14-d428-4dec-b6a8-17ee24ffe0bb"
      },
      "source": [
        "color=[\"\",\"green\",\"blue\",\"red\"]\n",
        "colorl=[color[i] for i in list(Y[\"damage_grade\"])]\n",
        "plt.scatter(principalDf[[\"p1\"]],principalDf[[\"p2\"]], c=colorl, alpha=0.1)"
      ],
      "execution_count": 14,
      "outputs": [
        {
          "output_type": "execute_result",
          "data": {
            "text/plain": [
              "<matplotlib.collections.PathCollection at 0x7f487943f240>"
            ]
          },
          "metadata": {
            "tags": []
          },
          "execution_count": 14
        },
        {
          "output_type": "display_data",
          "data": {
            "image/png": "[encoded data removed]",
            "text/plain": [
              "<Figure size 432x288 with 1 Axes>"
            ]
          },
          "metadata": {
            "tags": [],
            "needs_background": "light"
          }
        }
      ]
    },
    {
      "cell_type": "code",
      "metadata": {
        "id": "DleKxj0QuAP5"
      },
      "source": [
        "from sklearn.cluster import KMeans\n",
        "from sklearn.cluster import DBSCAN\n",
        "from sklearn.cluster import Birch\n",
        "from sklearn.cluster import MeanShift\n",
        "import sklearn.cluster as cluster\n",
        "\n",
        "\n",
        "from sklearn.decomposition import PCA"
      ],
      "execution_count": 15,
      "outputs": []
    },
    {
      "cell_type": "code",
      "metadata": {
        "id": "Ekc2OW5BUfgh"
      },
      "source": [
        "n_cluster_num=3\n",
        "df_feature=X\n",
        "clusterer = KMeans(n_clusters=n_cluster_num, random_state=10)\n",
        "cluster_labels_Kmeans = clusterer.fit_predict(df_feature)\n",
        "\n"
      ],
      "execution_count": 16,
      "outputs": []
    },
    {
      "cell_type": "code",
      "metadata": {
        "colab": {
          "base_uri": "https://localhost:8080/",
          "height": 334
        },
        "id": "KoaYQUrQxF-_",
        "outputId": "39a971d9-052e-4428-a54e-3d1d64c8055d"
      },
      "source": [
        "# Kezdjünk új ábrát (plt.figure)!\n",
        "plt.figure(figsize=(10,5))\n",
        "# Rajzoljunk a plt.scatter segítségével!\n",
        "# Segítség: X_pca[:, 0], X_pca[:, 1], c=Y\n",
        "plt.subplot(121)\n",
        "plt.xlabel(\"Kmeans\")\n",
        "plt.scatter(principalDf[[\"p1\"]],principalDf[[\"p2\"]],c=cluster_labels_Kmeans,alpha=0.1)\n",
        "plt.subplot(122)\n",
        "plt.xlabel(\"PCA\")\n",
        "plt.scatter(principalDf[[\"p1\"]],principalDf[[\"p2\"]], c=colorl, alpha=0.1)\n",
        "\n",
        "# Állítsuk be a tengelyek címkéit és a címet!\n",
        "\n",
        "plt.show()"
      ],
      "execution_count": 17,
      "outputs": [
        {
          "output_type": "display_data",
          "data": {
            "image/png": "[encoded data removed]",
            "text/plain": [
              "<Figure size 720x360 with 2 Axes>"
            ]
          },
          "metadata": {
            "tags": [],
            "needs_background": "light"
          }
        }
      ]
    },
    {
      "cell_type": "code",
      "metadata": {
        "id": "xte0VtHvzDKU"
      },
      "source": [
        "cluster_labels_Kmeans=[]"
      ],
      "execution_count": 18,
      "outputs": []
    },
    {
      "cell_type": "code",
      "metadata": {
        "colab": {
          "base_uri": "https://localhost:8080/"
        },
        "id": "FzKhtqbvu05e",
        "outputId": "2fe16042-084d-4b48-d17b-89085bf84b9f"
      },
      "source": [
        "clusterer=DBSCAN(eps=0.395)\n",
        "cluster_label_DBScan=clusterer.fit_predict(df_feature)\n",
        "print(set(cluster_label_DBScan))\n"
      ],
      "execution_count": 19,
      "outputs": [
        {
          "output_type": "stream",
          "text": [
            "{0, 1, 2, -1}\n"
          ],
          "name": "stdout"
        }
      ]
    },
    {
      "cell_type": "code",
      "metadata": {
        "id": "78v8WZzOGfjO"
      },
      "source": [
        "color=[\"\",\"green\",\"blue\",\"red\"]\n",
        "colorpca=[color[i] for i in list(Y[\"damage_grade\"])]\n",
        "\n",
        "color2=[\"red\",\"green\",\"blue\",\"red\"]\n",
        "\n",
        "colordbs=[color2[i] for i in list(cluster_label_DBScan)]\n"
      ],
      "execution_count": 20,
      "outputs": []
    },
    {
      "cell_type": "code",
      "metadata": {
        "id": "bnmP0R5ORNCc"
      },
      "source": [
        "def calculacio(db):\n",
        "    db=list(db)\n",
        "    _a0=db.count(0)\n",
        "    _a1=db.count(1)\n",
        "    _a2=db.count(2)\n",
        "    _a3=db.count(3)\n",
        "    print(f\"0:{_a0:4} \\\\ 1:{_a1:4} \\\\ 2:{_a2:4} \\\\ 3:{_a3:4}\")\n",
        "    "
      ],
      "execution_count": 21,
      "outputs": []
    },
    {
      "cell_type": "code",
      "metadata": {
        "id": "-IqoDzOFy4eP",
        "colab": {
          "base_uri": "https://localhost:8080/"
        },
        "outputId": "ba646165-9ee5-4bad-c7ff-79c27f43a7c1"
      },
      "source": [
        "#eps=0.392 szemre nagyon jó eredményt produkál NEm lehet ilyen!!\n",
        "\n",
        "# 0,3919 -- 0.3900 \n",
        "a=np.linspace(0.8,0.8,1) \n",
        "for epsx in a:\n",
        "    clusterer=DBSCAN(eps=epsx)\n",
        "    cluster_label_DBScan=clusterer.fit_predict(df_feature)\n",
        "    print (epsx,end=\"-->\")\n",
        "    print(set(cluster_label_DBScan))\n",
        "    calculacio(cluster_label_DBScan)\n",
        "    #calculacio(Y[\"damage_grade\"])\n",
        "\n"
      ],
      "execution_count": 22,
      "outputs": [
        {
          "output_type": "stream",
          "text": [
            "0.8-->{0, 1, 2, 3, 4, 5, 6, 7, 8, 9, 10, 11, 12, 13, 14, 15, 16, 17, 18, 19, 20, 21, 22, 23, 24, 25, 26, 27, 28, 29, 30, 31, 32, 33, 34, 35, 36, 37, 38, 39, 40, 41, 42, 43, 44, 45, 46, 47, 48, 49, 50, 51, 52, 53, 54, 55, 56, 57, 58, 59, 60, 61, 62, 63, 64, -1}\n",
            "0: 903 \\ 1: 118 \\ 2:  36 \\ 3:   7\n"
          ],
          "name": "stdout"
        }
      ]
    },
    {
      "cell_type": "code",
      "metadata": {
        "id": "9BY8iuwfu29x",
        "colab": {
          "base_uri": "https://localhost:8080/"
        },
        "outputId": "e9b6b433-4474-460f-db04-4a274e11d187"
      },
      "source": [
        "colorpca[0:20]"
      ],
      "execution_count": 23,
      "outputs": [
        {
          "output_type": "execute_result",
          "data": {
            "text/plain": [
              "['red',\n",
              " 'blue',\n",
              " 'red',\n",
              " 'blue',\n",
              " 'red',\n",
              " 'blue',\n",
              " 'red',\n",
              " 'green',\n",
              " 'blue',\n",
              " 'green',\n",
              " 'red',\n",
              " 'blue',\n",
              " 'blue',\n",
              " 'red',\n",
              " 'red',\n",
              " 'blue',\n",
              " 'blue',\n",
              " 'red',\n",
              " 'blue',\n",
              " 'red']"
            ]
          },
          "metadata": {
            "tags": []
          },
          "execution_count": 23
        }
      ]
    },
    {
      "cell_type": "code",
      "metadata": {
        "id": "qLY5-MfCOTx7"
      },
      "source": [
        ""
      ],
      "execution_count": 23,
      "outputs": []
    },
    {
      "cell_type": "markdown",
      "metadata": {
        "id": "yiRGLlEOdvcm"
      },
      "source": [
        "Több clusterre kellene osztani. Vizsgálni kellene melyik kluszter melyik "
      ]
    },
    {
      "cell_type": "code",
      "metadata": {
        "id": "_S4RyptKlMf9"
      },
      "source": [
        ""
      ],
      "execution_count": 23,
      "outputs": []
    },
    {
      "cell_type": "code",
      "metadata": {
        "colab": {
          "base_uri": "https://localhost:8080/"
        },
        "id": "4GadZqDSACvM",
        "outputId": "e1caea77-169f-48fe-d0ab-eab80c48e163"
      },
      "source": [
        "\n",
        "\n",
        "\n",
        "    \n",
        "# ----------- Neural network - Multi-layer Perceptron  ------------\n",
        "from sklearn.neural_network import MLPClassifier\n",
        "\n",
        "# build the model on training data\n",
        "model=MLPClassifier(max_iter=220000,alpha=0.00001)\n",
        "a=model.fit(X, Y)\n",
        "\n",
        "    # make predictions for test data\n",
        "y_pred = model.predict(X)\n",
        "    # calculate the accuracy score\n",
        "accuracy =  accuracy_score(Y, y_pred) * 100\n",
        "\n",
        "print(accuracy)\n"
      ],
      "execution_count": 24,
      "outputs": [
        {
          "output_type": "stream",
          "text": [
            "/usr/local/lib/python3.6/dist-packages/sklearn/neural_network/_multilayer_perceptron.py:934: DataConversionWarning: A column-vector y was passed when a 1d array was expected. Please change the shape of y to (n_samples, ), for example using ravel().\n",
            "  y = column_or_1d(y, warn=True)\n"
          ],
          "name": "stderr"
        },
        {
          "output_type": "stream",
          "text": [
            "80.12\n"
          ],
          "name": "stdout"
        }
      ]
    },
    {
      "cell_type": "code",
      "metadata": {
        "colab": {
          "base_uri": "https://localhost:8080/",
          "height": 419
        },
        "id": "ElovKfHuYSKx",
        "outputId": "76351909-8e12-43d3-9147-3e6060c7f561"
      },
      "source": [
        "Y"
      ],
      "execution_count": 25,
      "outputs": [
        {
          "output_type": "execute_result",
          "data": {
            "text/html": [
              "<div>\n",
              "<style scoped>\n",
              "    .dataframe tbody tr th:only-of-type {\n",
              "        vertical-align: middle;\n",
              "    }\n",
              "\n",
              "    .dataframe tbody tr th {\n",
              "        vertical-align: top;\n",
              "    }\n",
              "\n",
              "    .dataframe thead th {\n",
              "        text-align: right;\n",
              "    }\n",
              "</style>\n",
              "<table border=\"1\" class=\"dataframe\">\n",
              "  <thead>\n",
              "    <tr style=\"text-align: right;\">\n",
              "      <th></th>\n",
              "      <th>damage_grade</th>\n",
              "    </tr>\n",
              "  </thead>\n",
              "  <tbody>\n",
              "    <tr>\n",
              "      <th>0</th>\n",
              "      <td>3</td>\n",
              "    </tr>\n",
              "    <tr>\n",
              "      <th>1</th>\n",
              "      <td>2</td>\n",
              "    </tr>\n",
              "    <tr>\n",
              "      <th>2</th>\n",
              "      <td>3</td>\n",
              "    </tr>\n",
              "    <tr>\n",
              "      <th>3</th>\n",
              "      <td>2</td>\n",
              "    </tr>\n",
              "    <tr>\n",
              "      <th>4</th>\n",
              "      <td>3</td>\n",
              "    </tr>\n",
              "    <tr>\n",
              "      <th>...</th>\n",
              "      <td>...</td>\n",
              "    </tr>\n",
              "    <tr>\n",
              "      <th>9995</th>\n",
              "      <td>2</td>\n",
              "    </tr>\n",
              "    <tr>\n",
              "      <th>9996</th>\n",
              "      <td>2</td>\n",
              "    </tr>\n",
              "    <tr>\n",
              "      <th>9997</th>\n",
              "      <td>3</td>\n",
              "    </tr>\n",
              "    <tr>\n",
              "      <th>9998</th>\n",
              "      <td>2</td>\n",
              "    </tr>\n",
              "    <tr>\n",
              "      <th>9999</th>\n",
              "      <td>1</td>\n",
              "    </tr>\n",
              "  </tbody>\n",
              "</table>\n",
              "<p>10000 rows × 1 columns</p>\n",
              "</div>"
            ],
            "text/plain": [
              "      damage_grade\n",
              "0                3\n",
              "1                2\n",
              "2                3\n",
              "3                2\n",
              "4                3\n",
              "...            ...\n",
              "9995             2\n",
              "9996             2\n",
              "9997             3\n",
              "9998             2\n",
              "9999             1\n",
              "\n",
              "[10000 rows x 1 columns]"
            ]
          },
          "metadata": {
            "tags": []
          },
          "execution_count": 25
        }
      ]
    },
    {
      "cell_type": "code",
      "metadata": {
        "colab": {
          "base_uri": "https://localhost:8080/"
        },
        "id": "9F6s-vAWG3DE",
        "outputId": "b465d84c-466a-40a4-e258-47539374554a"
      },
      "source": [
        "model.coefs_"
      ],
      "execution_count": 26,
      "outputs": [
        {
          "output_type": "execute_result",
          "data": {
            "text/plain": [
              "[array([[-0.15865611, -0.08851628,  0.33702003, ..., -0.02722181,\n",
              "         -0.17978923,  0.42501498],\n",
              "        [-0.74131402,  0.13617223,  0.49189976, ..., -0.44920258,\n",
              "          0.62131855, -0.02315365],\n",
              "        [-0.40967978,  0.56194045, -0.23638771, ...,  0.3682049 ,\n",
              "         -0.32804734,  0.24981558],\n",
              "        ...,\n",
              "        [ 0.02280559,  0.10321184, -0.27795096, ..., -0.71041537,\n",
              "          0.11465285, -0.04415369],\n",
              "        [-0.37905464,  0.16460134,  0.01561185, ...,  0.08152196,\n",
              "          0.00938687,  0.09235156],\n",
              "        [ 0.35150785,  0.21730266,  0.52365036, ...,  0.17478363,\n",
              "          0.83888565,  0.31260834]]),\n",
              " array([[ 0.74552834, -0.17537269, -0.56949916],\n",
              "        [ 0.99875969, -0.60630505, -0.48082768],\n",
              "        [-0.08349983,  0.70465961, -0.7888901 ],\n",
              "        [ 0.14284437, -0.85334459,  0.60718242],\n",
              "        [ 0.15822932, -0.72196141,  0.87457778],\n",
              "        [ 0.10673371,  0.66318947, -0.91674828],\n",
              "        [-0.12938085, -0.66214278,  0.48331663],\n",
              "        [-0.68026045,  1.02559769, -0.76506519],\n",
              "        [-0.84596089,  0.70347778, -0.15195342],\n",
              "        [-0.84995055,  0.64793568, -0.34230551],\n",
              "        [ 0.50653702, -0.65640578,  0.46299307],\n",
              "        [-0.83788476,  0.32912852,  0.23310004],\n",
              "        [ 0.14856227, -0.62732441,  1.00972826],\n",
              "        [ 0.46882348, -0.54086384,  0.79909825],\n",
              "        [-0.22467098,  0.50651841, -0.64434036],\n",
              "        [-0.36296827, -0.64360156,  0.50867112],\n",
              "        [ 0.52525578, -0.55103518,  0.5349599 ],\n",
              "        [-0.82649778,  0.53602925, -0.1371164 ],\n",
              "        [-0.1379185 ,  0.53571865, -0.85870498],\n",
              "        [ 0.24291342,  0.60817143, -0.74236287],\n",
              "        [ 0.36804938,  0.32258868, -0.89348367],\n",
              "        [-0.69903592,  0.6725317 , -0.42705732],\n",
              "        [ 0.88365548,  0.06872235, -0.371846  ],\n",
              "        [-0.76803364,  0.67045246,  0.00438002],\n",
              "        [ 0.28917011,  0.52655747, -0.8299498 ],\n",
              "        [-0.25025431,  0.50450092, -0.50273389],\n",
              "        [-0.54179713,  0.49547265,  0.08980927],\n",
              "        [-0.79582202,  0.68179713, -0.40551111],\n",
              "        [-0.33723774,  0.5965367 , -0.19143075],\n",
              "        [ 0.0581962 , -0.57681564,  0.88026923],\n",
              "        [ 1.03592329, -0.27807651, -0.17975238],\n",
              "        [-0.94039472, -0.17568504,  0.63545051],\n",
              "        [-1.11508494,  0.30907259,  0.43704605],\n",
              "        [-0.1695812 ,  0.71423872, -0.93047148],\n",
              "        [-0.38286412,  0.8487361 , -0.82855033],\n",
              "        [ 0.76948935,  0.3398007 , -0.96992094],\n",
              "        [-0.54822472,  0.83001533, -0.7133496 ],\n",
              "        [ 0.60228865, -0.69582058,  0.68941521],\n",
              "        [ 0.4865541 ,  0.4894646 , -0.73095977],\n",
              "        [-1.07044155,  0.74692634, -0.33078527],\n",
              "        [ 0.8027756 ,  0.34092811, -1.09920842],\n",
              "        [-0.8214644 ,  0.50353025, -0.40138377],\n",
              "        [-0.38968738, -0.32953563,  0.65429975],\n",
              "        [-0.26584132, -0.62261361,  0.64459804],\n",
              "        [ 0.87715905, -0.96658924,  0.65887119],\n",
              "        [-0.16442516,  0.72744169, -0.74795863],\n",
              "        [ 0.42641379,  0.61561788, -0.91534903],\n",
              "        [ 0.37157762, -0.61003834,  0.9479934 ],\n",
              "        [ 0.51968047, -0.72685738,  0.68587666],\n",
              "        [ 0.12213422, -0.77515258,  0.82967216],\n",
              "        [ 0.83017962,  0.18270921, -0.74822721],\n",
              "        [-1.02178885,  0.20666371,  0.4293776 ],\n",
              "        [-0.12943754, -0.57612839,  1.06540341],\n",
              "        [ 0.98976123, -0.5523802 ,  0.10152236],\n",
              "        [-0.23875911, -0.62955047,  0.80713855],\n",
              "        [ 0.15531356,  0.68002942, -0.64193698],\n",
              "        [ 0.51606037, -0.8718322 ,  0.80517869],\n",
              "        [ 0.57742047, -0.8424163 ,  0.50215812],\n",
              "        [-0.88496731,  0.31401434,  0.51842214],\n",
              "        [ 0.65488175,  0.13122055, -0.94688907],\n",
              "        [-0.99867902,  0.82961394,  0.05466431],\n",
              "        [-0.10533225,  0.80068682, -0.79383359],\n",
              "        [-0.89423807,  0.54904464, -0.05901512],\n",
              "        [-0.82957776,  0.41113814, -0.25659756],\n",
              "        [ 0.42598175,  0.71364298, -0.66952887],\n",
              "        [-1.11015925,  0.65374226,  0.1457938 ],\n",
              "        [-0.48257444,  0.72563036, -0.77299157],\n",
              "        [ 0.77680773,  0.02761526, -0.77801435],\n",
              "        [-0.50884226,  0.78475624, -0.61250905],\n",
              "        [-0.39380575,  0.76132299, -0.59505868],\n",
              "        [ 1.11905258, -0.69658914, -0.07031284],\n",
              "        [-1.16578129,  0.27112239,  0.38251628],\n",
              "        [-0.23213948, -0.67068791,  0.85956797],\n",
              "        [-0.55084612,  0.76090499, -0.36849565],\n",
              "        [-0.65347312,  0.81363683, -0.58086153],\n",
              "        [ 0.027132  , -0.71566894,  0.43419894],\n",
              "        [-0.51896505, -0.2435328 ,  0.68683244],\n",
              "        [ 0.34947908,  0.08142032, -0.97081979],\n",
              "        [ 0.93282656,  0.2975557 , -1.05253313],\n",
              "        [-0.90336353, -0.05272555,  0.94938378],\n",
              "        [-0.64038175, -0.34528588,  0.72392633],\n",
              "        [ 0.7583561 , -0.64146682,  0.32306878],\n",
              "        [ 0.27900934, -0.81158761,  1.31997222],\n",
              "        [ 0.4878171 , -0.94310911,  0.44091141],\n",
              "        [ 1.13704592, -0.40946174, -0.27991701],\n",
              "        [-0.22043747,  0.95993574, -0.72770623],\n",
              "        [ 0.36702777, -0.70656697,  0.47375628],\n",
              "        [ 0.09744579, -0.70471761,  0.83597923],\n",
              "        [-0.11857114, -0.76000658,  0.68084758],\n",
              "        [ 0.53472579,  0.21645168, -0.79924499],\n",
              "        [-0.09270576, -0.43655564,  1.0562914 ],\n",
              "        [-0.26995871,  0.80903181, -0.36327724],\n",
              "        [ 1.00770235, -0.46999698, -0.20841531],\n",
              "        [ 0.73860499, -0.91518971,  0.42285034],\n",
              "        [-0.3759409 ,  0.64282318, -0.41130347],\n",
              "        [-0.26002054, -0.50886544,  1.07340871],\n",
              "        [-1.11851727, -0.52544908,  0.7976489 ],\n",
              "        [ 0.62041935,  0.19370565, -1.20603346],\n",
              "        [-0.91236738, -0.32837735,  0.74871883],\n",
              "        [ 0.37189291, -0.49458815,  0.66578772]])]"
            ]
          },
          "metadata": {
            "tags": []
          },
          "execution_count": 26
        }
      ]
    },
    {
      "cell_type": "code",
      "metadata": {
        "colab": {
          "base_uri": "https://localhost:8080/",
          "height": 503
        },
        "id": "YViyfmPBBZUi",
        "outputId": "2c637ec2-5526-417e-a8fe-e74a1732cf7c"
      },
      "source": [
        "plt.scatter(Y,y_pred)\n",
        "print(Y)"
      ],
      "execution_count": 27,
      "outputs": [
        {
          "output_type": "stream",
          "text": [
            "      damage_grade\n",
            "0                3\n",
            "1                2\n",
            "2                3\n",
            "3                2\n",
            "4                3\n",
            "...            ...\n",
            "9995             2\n",
            "9996             2\n",
            "9997             3\n",
            "9998             2\n",
            "9999             1\n",
            "\n",
            "[10000 rows x 1 columns]\n"
          ],
          "name": "stdout"
        },
        {
          "output_type": "display_data",
          "data": {
            "image/png": "[encoded data removed]",
            "text/plain": [
              "<Figure size 432x288 with 1 Axes>"
            ]
          },
          "metadata": {
            "tags": [],
            "needs_background": "light"
          }
        }
      ]
    },
    {
      "cell_type": "code",
      "metadata": {
        "id": "iOoBJHCLGelM"
      },
      "source": [
        ""
      ],
      "execution_count": 27,
      "outputs": []
    },
    {
      "cell_type": "code",
      "metadata": {
        "colab": {
          "base_uri": "https://localhost:8080/"
        },
        "id": "0Y_WNG5cF14Q",
        "outputId": "456a5ed8-04e9-4e3f-e3b9-c25643361442"
      },
      "source": [
        "nr=range(1,10000)\n",
        "jo=0\n",
        "rossz=0\n",
        "for i in nr:\n",
        "    if list(Y[\"damage_grade\"])[i]==y_pred[i]:\n",
        "        jo+=1\n",
        "    else:\n",
        "        rossz+=1\n",
        "print(f\"jo: {jo} rossz:{rossz} \")       "
      ],
      "execution_count": 28,
      "outputs": [
        {
          "output_type": "stream",
          "text": [
            "jo: 8011 rossz:1988 \n"
          ],
          "name": "stdout"
        }
      ]
    },
    {
      "cell_type": "code",
      "metadata": {
        "colab": {
          "base_uri": "https://localhost:8080/",
          "height": 419
        },
        "id": "y44heJCCYehK",
        "outputId": "332f5e13-20e7-4ef7-dd70-adc7f2af049f"
      },
      "source": [
        "Y"
      ],
      "execution_count": 29,
      "outputs": [
        {
          "output_type": "execute_result",
          "data": {
            "text/html": [
              "<div>\n",
              "<style scoped>\n",
              "    .dataframe tbody tr th:only-of-type {\n",
              "        vertical-align: middle;\n",
              "    }\n",
              "\n",
              "    .dataframe tbody tr th {\n",
              "        vertical-align: top;\n",
              "    }\n",
              "\n",
              "    .dataframe thead th {\n",
              "        text-align: right;\n",
              "    }\n",
              "</style>\n",
              "<table border=\"1\" class=\"dataframe\">\n",
              "  <thead>\n",
              "    <tr style=\"text-align: right;\">\n",
              "      <th></th>\n",
              "      <th>damage_grade</th>\n",
              "    </tr>\n",
              "  </thead>\n",
              "  <tbody>\n",
              "    <tr>\n",
              "      <th>0</th>\n",
              "      <td>3</td>\n",
              "    </tr>\n",
              "    <tr>\n",
              "      <th>1</th>\n",
              "      <td>2</td>\n",
              "    </tr>\n",
              "    <tr>\n",
              "      <th>2</th>\n",
              "      <td>3</td>\n",
              "    </tr>\n",
              "    <tr>\n",
              "      <th>3</th>\n",
              "      <td>2</td>\n",
              "    </tr>\n",
              "    <tr>\n",
              "      <th>4</th>\n",
              "      <td>3</td>\n",
              "    </tr>\n",
              "    <tr>\n",
              "      <th>...</th>\n",
              "      <td>...</td>\n",
              "    </tr>\n",
              "    <tr>\n",
              "      <th>9995</th>\n",
              "      <td>2</td>\n",
              "    </tr>\n",
              "    <tr>\n",
              "      <th>9996</th>\n",
              "      <td>2</td>\n",
              "    </tr>\n",
              "    <tr>\n",
              "      <th>9997</th>\n",
              "      <td>3</td>\n",
              "    </tr>\n",
              "    <tr>\n",
              "      <th>9998</th>\n",
              "      <td>2</td>\n",
              "    </tr>\n",
              "    <tr>\n",
              "      <th>9999</th>\n",
              "      <td>1</td>\n",
              "    </tr>\n",
              "  </tbody>\n",
              "</table>\n",
              "<p>10000 rows × 1 columns</p>\n",
              "</div>"
            ],
            "text/plain": [
              "      damage_grade\n",
              "0                3\n",
              "1                2\n",
              "2                3\n",
              "3                2\n",
              "4                3\n",
              "...            ...\n",
              "9995             2\n",
              "9996             2\n",
              "9997             3\n",
              "9998             2\n",
              "9999             1\n",
              "\n",
              "[10000 rows x 1 columns]"
            ]
          },
          "metadata": {
            "tags": []
          },
          "execution_count": 29
        }
      ]
    },
    {
      "cell_type": "code",
      "metadata": {
        "colab": {
          "base_uri": "https://localhost:8080/"
        },
        "id": "T-iOZdAPHHxU",
        "outputId": "2e0d8b61-f9df-4d35-9c95-12f51040c3ae"
      },
      "source": [
        "begi=10000\n",
        "endi=30000\n",
        "X2=df\n",
        "X2=df[begi:endi]\n",
        "Y2=df_clasters[[\"damage_grade\"]]\n",
        "Y2=Y2[begi:endi]\n",
        "X2 = StandardScaler().fit_transform(X2)\n",
        "y_pred = model.predict(X2)\n",
        "    # calculate the accuracy score\n",
        "accuracy =  accuracy_score(Y2, y_pred) * 100\n",
        "print(Y2)\n",
        "print(accuracy)\n"
      ],
      "execution_count": 30,
      "outputs": [
        {
          "output_type": "stream",
          "text": [
            "       damage_grade\n",
            "10000             2\n",
            "10001             2\n",
            "10002             2\n",
            "10003             3\n",
            "10004             2\n",
            "...             ...\n",
            "29995             3\n",
            "29996             3\n",
            "29997             2\n",
            "29998             2\n",
            "29999             2\n",
            "\n",
            "[20000 rows x 1 columns]\n",
            "56.24\n"
          ],
          "name": "stdout"
        }
      ]
    },
    {
      "cell_type": "code",
      "metadata": {
        "colab": {
          "base_uri": "https://localhost:8080/",
          "height": 419
        },
        "id": "KWs1m4NQY8SF",
        "outputId": "1d40488d-8057-4782-ea48-28c1c5bba79c"
      },
      "source": [
        "Y2"
      ],
      "execution_count": 31,
      "outputs": [
        {
          "output_type": "execute_result",
          "data": {
            "text/html": [
              "<div>\n",
              "<style scoped>\n",
              "    .dataframe tbody tr th:only-of-type {\n",
              "        vertical-align: middle;\n",
              "    }\n",
              "\n",
              "    .dataframe tbody tr th {\n",
              "        vertical-align: top;\n",
              "    }\n",
              "\n",
              "    .dataframe thead th {\n",
              "        text-align: right;\n",
              "    }\n",
              "</style>\n",
              "<table border=\"1\" class=\"dataframe\">\n",
              "  <thead>\n",
              "    <tr style=\"text-align: right;\">\n",
              "      <th></th>\n",
              "      <th>damage_grade</th>\n",
              "    </tr>\n",
              "  </thead>\n",
              "  <tbody>\n",
              "    <tr>\n",
              "      <th>10000</th>\n",
              "      <td>2</td>\n",
              "    </tr>\n",
              "    <tr>\n",
              "      <th>10001</th>\n",
              "      <td>2</td>\n",
              "    </tr>\n",
              "    <tr>\n",
              "      <th>10002</th>\n",
              "      <td>2</td>\n",
              "    </tr>\n",
              "    <tr>\n",
              "      <th>10003</th>\n",
              "      <td>3</td>\n",
              "    </tr>\n",
              "    <tr>\n",
              "      <th>10004</th>\n",
              "      <td>2</td>\n",
              "    </tr>\n",
              "    <tr>\n",
              "      <th>...</th>\n",
              "      <td>...</td>\n",
              "    </tr>\n",
              "    <tr>\n",
              "      <th>29995</th>\n",
              "      <td>3</td>\n",
              "    </tr>\n",
              "    <tr>\n",
              "      <th>29996</th>\n",
              "      <td>3</td>\n",
              "    </tr>\n",
              "    <tr>\n",
              "      <th>29997</th>\n",
              "      <td>2</td>\n",
              "    </tr>\n",
              "    <tr>\n",
              "      <th>29998</th>\n",
              "      <td>2</td>\n",
              "    </tr>\n",
              "    <tr>\n",
              "      <th>29999</th>\n",
              "      <td>2</td>\n",
              "    </tr>\n",
              "  </tbody>\n",
              "</table>\n",
              "<p>20000 rows × 1 columns</p>\n",
              "</div>"
            ],
            "text/plain": [
              "       damage_grade\n",
              "10000             2\n",
              "10001             2\n",
              "10002             2\n",
              "10003             3\n",
              "10004             2\n",
              "...             ...\n",
              "29995             3\n",
              "29996             3\n",
              "29997             2\n",
              "29998             2\n",
              "29999             2\n",
              "\n",
              "[20000 rows x 1 columns]"
            ]
          },
          "metadata": {
            "tags": []
          },
          "execution_count": 31
        }
      ]
    },
    {
      "cell_type": "code",
      "metadata": {
        "id": "YEkF9B7oLYtv"
      },
      "source": [
        "from sklearn.neural_network import MLPClassifier\n",
        "from sklearn.metrics import accuracy_score\n",
        "model=MLPClassifier(max_iter=2220000,alpha=0.0000000001,warm_start=True,hidden_layer_sizes=(2000,100,50,10 ), solver=\"sgd\", verbose=True,momentum=0.5)"
      ],
      "execution_count": 34,
      "outputs": []
    },
    {
      "cell_type": "code",
      "metadata": {
        "colab": {
          "base_uri": "https://localhost:8080/",
          "height": 656
        },
        "id": "cymE6beIJ0fW",
        "outputId": "353c6343-abfc-4410-f635-4f4662bb788f"
      },
      "source": [
        "from sklearn.neural_network import MLPClassifier\n",
        "\n",
        "begi=10000\n",
        "endi=296000\n",
        "X2=df\n",
        "X2=df[begi:endi]\n",
        "Y2=df_clasters[[\"damage_grade\"]]\n",
        "Y2=Y2[begi:endi]\n",
        "\n",
        "from sklearn.decomposition import PCA\n",
        "pca = PCA(n_components=3)\n",
        "principalComponents = pca.fit_transform(X2)\n",
        "principalDf = pd.DataFrame(data = principalComponents, columns = ['p1', 'p2', 'p3'])\n",
        "\n",
        "plt.scatter(principalDf[\"p1\"],principalDf[\"p2\"])\n",
        "\n",
        "# build the model on training data\n",
        "\n",
        "#print(Y2)\n",
        "\n",
        "a=model.fit(principalDf, Y2)\n",
        "\n",
        "    # make predictions for test data\n",
        "y_pred2 = model.predict(X2)\n",
        "    # calculate the accuracy score\n",
        "accuracy =  accuracy_score(Y2, y_pred2) * 100\n",
        "\n",
        "print(accuracy)"
      ],
      "execution_count": 41,
      "outputs": [
        {
          "output_type": "stream",
          "text": [
            "/usr/local/lib/python3.6/dist-packages/sklearn/neural_network/_multilayer_perceptron.py:934: DataConversionWarning: A column-vector y was passed when a 1d array was expected. Please change the shape of y to (n_samples, ), for example using ravel().\n",
            "  y = column_or_1d(y, warn=True)\n"
          ],
          "name": "stderr"
        },
        {
          "output_type": "error",
          "ename": "ValueError",
          "evalue": "ignored",
          "traceback": [
            "\u001b[0;31m---------------------------------------------------------------------------\u001b[0m",
            "\u001b[0;31mValueError\u001b[0m                                Traceback (most recent call last)",
            "\u001b[0;32m<ipython-input-41-4ab6ec4743c5>\u001b[0m in \u001b[0;36m<module>\u001b[0;34m()\u001b[0m\n\u001b[1;32m     19\u001b[0m \u001b[0;31m#print(Y2)\u001b[0m\u001b[0;34m\u001b[0m\u001b[0;34m\u001b[0m\u001b[0;34m\u001b[0m\u001b[0m\n\u001b[1;32m     20\u001b[0m \u001b[0;34m\u001b[0m\u001b[0m\n\u001b[0;32m---> 21\u001b[0;31m \u001b[0ma\u001b[0m\u001b[0;34m=\u001b[0m\u001b[0mmodel\u001b[0m\u001b[0;34m.\u001b[0m\u001b[0mfit\u001b[0m\u001b[0;34m(\u001b[0m\u001b[0mprincipalDf\u001b[0m\u001b[0;34m,\u001b[0m \u001b[0mY2\u001b[0m\u001b[0;34m)\u001b[0m\u001b[0;34m\u001b[0m\u001b[0;34m\u001b[0m\u001b[0m\n\u001b[0m\u001b[1;32m     22\u001b[0m \u001b[0;34m\u001b[0m\u001b[0m\n\u001b[1;32m     23\u001b[0m     \u001b[0;31m# make predictions for test data\u001b[0m\u001b[0;34m\u001b[0m\u001b[0;34m\u001b[0m\u001b[0;34m\u001b[0m\u001b[0m\n",
            "\u001b[0;32m/usr/local/lib/python3.6/dist-packages/sklearn/neural_network/_multilayer_perceptron.py\u001b[0m in \u001b[0;36mfit\u001b[0;34m(self, X, y)\u001b[0m\n\u001b[1;32m    993\u001b[0m         \"\"\"\n\u001b[1;32m    994\u001b[0m         return self._fit(X, y, incremental=(self.warm_start and\n\u001b[0;32m--> 995\u001b[0;31m                                             hasattr(self, \"classes_\")))\n\u001b[0m\u001b[1;32m    996\u001b[0m \u001b[0;34m\u001b[0m\u001b[0m\n\u001b[1;32m    997\u001b[0m     \u001b[0;34m@\u001b[0m\u001b[0mproperty\u001b[0m\u001b[0;34m\u001b[0m\u001b[0;34m\u001b[0m\u001b[0m\n",
            "\u001b[0;32m/usr/local/lib/python3.6/dist-packages/sklearn/neural_network/_multilayer_perceptron.py\u001b[0m in \u001b[0;36m_fit\u001b[0;34m(self, X, y, incremental)\u001b[0m\n\u001b[1;32m    368\u001b[0m         \u001b[0;32mif\u001b[0m \u001b[0mself\u001b[0m\u001b[0;34m.\u001b[0m\u001b[0msolver\u001b[0m \u001b[0;32min\u001b[0m \u001b[0m_STOCHASTIC_SOLVERS\u001b[0m\u001b[0;34m:\u001b[0m\u001b[0;34m\u001b[0m\u001b[0;34m\u001b[0m\u001b[0m\n\u001b[1;32m    369\u001b[0m             self._fit_stochastic(X, y, activations, deltas, coef_grads,\n\u001b[0;32m--> 370\u001b[0;31m                                  intercept_grads, layer_units, incremental)\n\u001b[0m\u001b[1;32m    371\u001b[0m \u001b[0;34m\u001b[0m\u001b[0m\n\u001b[1;32m    372\u001b[0m         \u001b[0;31m# Run the LBFGS solver\u001b[0m\u001b[0;34m\u001b[0m\u001b[0;34m\u001b[0m\u001b[0;34m\u001b[0m\u001b[0m\n",
            "\u001b[0;32m/usr/local/lib/python3.6/dist-packages/sklearn/neural_network/_multilayer_perceptron.py\u001b[0m in \u001b[0;36m_fit_stochastic\u001b[0;34m(self, X, y, activations, deltas, coef_grads, intercept_grads, layer_units, incremental)\u001b[0m\n\u001b[1;32m    519\u001b[0m                     batch_loss, coef_grads, intercept_grads = self._backprop(\n\u001b[1;32m    520\u001b[0m                         \u001b[0mX\u001b[0m\u001b[0;34m[\u001b[0m\u001b[0mbatch_slice\u001b[0m\u001b[0;34m]\u001b[0m\u001b[0;34m,\u001b[0m \u001b[0my\u001b[0m\u001b[0;34m[\u001b[0m\u001b[0mbatch_slice\u001b[0m\u001b[0;34m]\u001b[0m\u001b[0;34m,\u001b[0m \u001b[0mactivations\u001b[0m\u001b[0;34m,\u001b[0m \u001b[0mdeltas\u001b[0m\u001b[0;34m,\u001b[0m\u001b[0;34m\u001b[0m\u001b[0;34m\u001b[0m\u001b[0m\n\u001b[0;32m--> 521\u001b[0;31m                         coef_grads, intercept_grads)\n\u001b[0m\u001b[1;32m    522\u001b[0m                     accumulated_loss += batch_loss * (batch_slice.stop -\n\u001b[1;32m    523\u001b[0m                                                       batch_slice.start)\n",
            "\u001b[0;32m/usr/local/lib/python3.6/dist-packages/sklearn/neural_network/_multilayer_perceptron.py\u001b[0m in \u001b[0;36m_backprop\u001b[0;34m(self, X, y, activations, deltas, coef_grads, intercept_grads)\u001b[0m\n\u001b[1;32m    219\u001b[0m \u001b[0;34m\u001b[0m\u001b[0m\n\u001b[1;32m    220\u001b[0m         \u001b[0;31m# Forward propagate\u001b[0m\u001b[0;34m\u001b[0m\u001b[0;34m\u001b[0m\u001b[0;34m\u001b[0m\u001b[0m\n\u001b[0;32m--> 221\u001b[0;31m         \u001b[0mactivations\u001b[0m \u001b[0;34m=\u001b[0m \u001b[0mself\u001b[0m\u001b[0;34m.\u001b[0m\u001b[0m_forward_pass\u001b[0m\u001b[0;34m(\u001b[0m\u001b[0mactivations\u001b[0m\u001b[0;34m)\u001b[0m\u001b[0;34m\u001b[0m\u001b[0;34m\u001b[0m\u001b[0m\n\u001b[0m\u001b[1;32m    222\u001b[0m \u001b[0;34m\u001b[0m\u001b[0m\n\u001b[1;32m    223\u001b[0m         \u001b[0;31m# Get loss\u001b[0m\u001b[0;34m\u001b[0m\u001b[0;34m\u001b[0m\u001b[0;34m\u001b[0m\u001b[0m\n",
            "\u001b[0;32m/usr/local/lib/python3.6/dist-packages/sklearn/neural_network/_multilayer_perceptron.py\u001b[0m in \u001b[0;36m_forward_pass\u001b[0;34m(self, activations)\u001b[0m\n\u001b[1;32m    102\u001b[0m         \u001b[0;32mfor\u001b[0m \u001b[0mi\u001b[0m \u001b[0;32min\u001b[0m \u001b[0mrange\u001b[0m\u001b[0;34m(\u001b[0m\u001b[0mself\u001b[0m\u001b[0;34m.\u001b[0m\u001b[0mn_layers_\u001b[0m \u001b[0;34m-\u001b[0m \u001b[0;36m1\u001b[0m\u001b[0;34m)\u001b[0m\u001b[0;34m:\u001b[0m\u001b[0;34m\u001b[0m\u001b[0;34m\u001b[0m\u001b[0m\n\u001b[1;32m    103\u001b[0m             activations[i + 1] = safe_sparse_dot(activations[i],\n\u001b[0;32m--> 104\u001b[0;31m                                                  self.coefs_[i])\n\u001b[0m\u001b[1;32m    105\u001b[0m             \u001b[0mactivations\u001b[0m\u001b[0;34m[\u001b[0m\u001b[0mi\u001b[0m \u001b[0;34m+\u001b[0m \u001b[0;36m1\u001b[0m\u001b[0;34m]\u001b[0m \u001b[0;34m+=\u001b[0m \u001b[0mself\u001b[0m\u001b[0;34m.\u001b[0m\u001b[0mintercepts_\u001b[0m\u001b[0;34m[\u001b[0m\u001b[0mi\u001b[0m\u001b[0;34m]\u001b[0m\u001b[0;34m\u001b[0m\u001b[0;34m\u001b[0m\u001b[0m\n\u001b[1;32m    106\u001b[0m \u001b[0;34m\u001b[0m\u001b[0m\n",
            "\u001b[0;32m/usr/local/lib/python3.6/dist-packages/sklearn/utils/extmath.py\u001b[0m in \u001b[0;36msafe_sparse_dot\u001b[0;34m(a, b, dense_output)\u001b[0m\n\u001b[1;32m    149\u001b[0m             \u001b[0mret\u001b[0m \u001b[0;34m=\u001b[0m \u001b[0mnp\u001b[0m\u001b[0;34m.\u001b[0m\u001b[0mdot\u001b[0m\u001b[0;34m(\u001b[0m\u001b[0ma\u001b[0m\u001b[0;34m,\u001b[0m \u001b[0mb\u001b[0m\u001b[0;34m)\u001b[0m\u001b[0;34m\u001b[0m\u001b[0;34m\u001b[0m\u001b[0m\n\u001b[1;32m    150\u001b[0m     \u001b[0;32melse\u001b[0m\u001b[0;34m:\u001b[0m\u001b[0;34m\u001b[0m\u001b[0;34m\u001b[0m\u001b[0m\n\u001b[0;32m--> 151\u001b[0;31m         \u001b[0mret\u001b[0m \u001b[0;34m=\u001b[0m \u001b[0ma\u001b[0m \u001b[0;34m@\u001b[0m \u001b[0mb\u001b[0m\u001b[0;34m\u001b[0m\u001b[0;34m\u001b[0m\u001b[0m\n\u001b[0m\u001b[1;32m    152\u001b[0m \u001b[0;34m\u001b[0m\u001b[0m\n\u001b[1;32m    153\u001b[0m     if (sparse.issparse(a) and sparse.issparse(b)\n",
            "\u001b[0;31mValueError\u001b[0m: matmul: Input operand 1 has a mismatch in its core dimension 0, with gufunc signature (n?,k),(k,m?)->(n?,m?) (size 57 is different from 3)"
          ]
        },
        {
          "output_type": "display_data",
          "data": {
            "image/png": "[encoded data removed]",
            "text/plain": [
              "<Figure size 432x288 with 1 Axes>"
            ]
          },
          "metadata": {
            "tags": [],
            "needs_background": "light"
          }
        }
      ]
    }
  ]
}