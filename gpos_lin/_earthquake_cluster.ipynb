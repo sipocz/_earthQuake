{
  "nbformat": 4,
  "nbformat_minor": 0,
  "metadata": {
    "colab": {
      "name": "_earthquake_distance_LDA.ipynb",
      "provenance": []
    },
    "kernelspec": {
      "name": "python3",
      "display_name": "Python 3",
      "language": "python"
    }
  },
  "cells": [
    {
      "cell_type": "code",
      "execution_count": 2,
      "metadata": {},
      "outputs": [],
      "source": [
        "\n",
        "\n",
        "_PCVERSION_=True\n",
        "\n",
        "\n",
        "if _PCVERSION_:\n",
        "    basedir=\"C:/Users/sipocz/OneDrive/Dokumentumok/GitHub/_EarthQuake/gpos_lin\"\n",
        "else:\n",
        "    from google.colab import drive\n",
        "    drive.mount('/content/drive',force_remount=True)\n",
        "    basedir=\"/content/drive/My Drive/001_AI/_EarthQuake/gpos_lin\"\n",
        "\n",
        "import numpy as np\n",
        "import pandas as pd\n",
        "import matplotlib.pyplot as plt\n",
        "\n",
        "\n",
        "#--------------scikit import \n",
        "from sklearn.ensemble import IsolationForest\n",
        "from sklearn.metrics import accuracy_score\n",
        "from sklearn.preprocessing import MinMaxScaler\n",
        "from sklearn.model_selection import train_test_split\n",
        "#--------------\n",
        "\n",
        "def outlierStatistic(X_train_predict):\n",
        "    print(X_train_predict)\n",
        "    maxX=len(X_train_predict)\n",
        "    outlier=0\n",
        "    for i in X_train_predict:\n",
        "        if i==-1:\n",
        "            outlier+=1\n",
        "    print(f\"A összes ({maxX} darabból {outlier} darab outlier van. Az {outlier/maxX*100:5.1f} %.)\")\n",
        "\n",
        "\n",
        "def checkvalues(df,columnname,key):\n",
        "    print(f\"{columnname} ellenőrzése !\")\n",
        "    numok=0\n",
        "    numerr=0\n",
        "    for i in df.index:\n",
        "        if df.at[i,columnname] in key:\n",
        "            #print(df.at[i,columnname])\n",
        "            numok+=1\n",
        "            pass\n",
        "        else:\n",
        "            numerr+=1\n",
        "            print(df.at[i,columnname],end=\", \")\n",
        "    sumall=numok+numerr\n",
        "    print(f\"\\n{sumall} mintából {numerr} db nem volt megfelelő\")\n",
        "\n",
        "\n",
        "def createcolumn(df,columnname,keys):\n",
        "    print(f\"{columnname} cseréje megy\")\n",
        "    for key in keys:\n",
        "        df[keys[key]]=0.0\n",
        "    for key in keys:\n",
        "        for i in df.index:\n",
        "            if df.at[i,columnname]==key:\n",
        "                df.at[i,keys[key]]=1.0\n",
        "\n",
        "\n",
        "def create_dict(idx,list):\n",
        "    o={}\n",
        "    for i in list:\n",
        "        o[i]=idx+\"_\"+i\n",
        "    return o\n",
        "\n",
        "def create_base_data(df):\n",
        "    t=['n', 't', 'o']\n",
        "    columnname=\"land_surface_condition\"\n",
        "    key=create_dict(columnname,t)\n",
        "\n",
        "\n",
        "    #checkvalues(df,columnname,key)\n",
        "    createcolumn(df,columnname,key)\n",
        "\n",
        "    t= ['h', 'w', 'i', 'r', 'u']\n",
        "    columnname=\"foundation_type\"\n",
        "    key=create_dict(columnname,t)\n",
        "\n",
        "    #checkvalues(df,columnname,key)\n",
        "    createcolumn(df,columnname,key)\n",
        "\n",
        "    t=  ['q', 'n', 'x']\n",
        "    columnname=\"roof_type\"\n",
        "    key=create_dict(columnname,t)\n",
        "\n",
        "    #checkvalues(df,columnname,key)\n",
        "    createcolumn(df,columnname,key)\n",
        "\n",
        "    t=  ['z', 'v', 'f', 'm', 'x']\n",
        "    columnname=\"ground_floor_type\"\n",
        "    key=create_dict(columnname,t)\n",
        "\n",
        "    #checkvalues(df,columnname,key)\n",
        "    createcolumn(df,columnname,key)\n",
        "\n",
        "    t=   ['q', 's', 'j', 'x']\n",
        "    columnname=\"other_floor_type\"\n",
        "    key=create_dict(columnname,t)\n",
        "\n",
        "    #checkvalues(df,columnname,key)\n",
        "    createcolumn(df,columnname,key)\n",
        "\n",
        "    t=   ['j', 's', 't', 'o']\n",
        "    columnname=\"position\"\n",
        "    key=create_dict(columnname,t)\n",
        "\n",
        "    #checkvalues(df,columnname,key)\n",
        "    createcolumn(df,columnname,key)\n",
        "\n",
        "    t=   ['c', 's', 'f', 'd', 'm', 'a', 'q', 'u', 'n', 'o']\n",
        "    columnname=\"plan_configuration\"\n",
        "    key=create_dict(columnname,t)\n",
        "\n",
        "    #checkvalues(df,columnname,key)\n",
        "    createcolumn(df,columnname,key)\n",
        "\n",
        "    t=['a', 'w', 'r', 'v']\n",
        "    columnname=\"legal_ownership_status\"\n",
        "    key=create_dict(columnname,t)\n",
        "\n",
        "    #checkvalues(df,columnname,key)\n",
        "    createcolumn(df,columnname,key)\n",
        "\n",
        "    # level 1: 0-30, level 2: 0-1427, level 3: 0-12567.\n",
        "    # level1:0--30\n",
        "    # level2: 0.0000-----------0.9999\n",
        "    # level3: 0.000000000------0.000099999\n",
        "    l1=df.geo_level_1_id\n",
        "    l2=(df.geo_level_2_id/1427*9999)/10000\n",
        "    l3=(df.geo_level_2_id/12567*99999)/1000000000\n",
        "    df[\"geopos\"]=l1+l2+l3\n",
        "    return(df)\n",
        "\n",
        "\n",
        "\n",
        "def kill_columns(df):\n",
        "    notkey=[\"Unnamed: 0\",\"building_id\",\"legal_ownership_status\",\"geo_level_1_id\",\t\"geo_level_2_id\",\t\"geo_level_3_id\", \"land_surface_condition\",\t\"foundation_type\",\t\"roof_type\",\t\"ground_floor_type\",\t\"other_floor_type\",\t\"position\",\t\"plan_configuration\"]\n",
        "    for i in df.columns:\n",
        "        #print(i)\n",
        "        if i in notkey:\n",
        "            df.drop(columns=[i], inplace=True)\n",
        "    return df\n",
        "\n",
        "\n",
        "\n",
        "\n",
        "\n"
      ]
    },
    {
      "cell_type": "code",
      "execution_count": 3,
      "metadata": {},
      "outputs": [],
      "source": [
        "def check_similarity_np(np1,np2):\n",
        "    db=0\n",
        "    maxi=0\n",
        "    for ind, i1 in enumerate(np1):\n",
        "        maxi+=1\n",
        "        i2=np2[ind]\n",
        "        if i1!=i2:\n",
        "            db+=1\n",
        "    #print(f\"{ind}. eset:  {i:3},{i2:3}\")\n",
        "    print(f\"hiba:{db} max:{maxi} -- error:{db/maxi*100.0 : 2.6} good %:{100-db/maxi*100.0 : 2.6} %\")"
      ]
    },
    {
      "cell_type": "code",
      "execution_count": 4,
      "metadata": {},
      "outputs": [],
      "source": [
        "def outlierDropfrom_df(df,inxlist):\n",
        "    a=df\n",
        "    out=a.drop(inxlist,axis=0)\n",
        "    return(out)"
      ]
    },
    {
      "cell_type": "code",
      "execution_count": 5,
      "metadata": {},
      "outputs": [],
      "source": [
        "def outlierDropfrom_numpyarray(na,inxlist):\n",
        "    \n",
        "    out=np.delete (na ,inxlist, axis=0)\n",
        "    return(out)"
      ]
    },
    {
      "cell_type": "code",
      "metadata": {
        "colab": {
          "base_uri": "https://localhost:8080/",
          "height": 502
        },
        "id": "HZHYUIgKIlT9",
        "outputId": "3740844a-f48c-4b06-87fd-f1eddb0431ab"
      },
      "source": [
        "\n",
        "features_train=basedir+\"/orig/train_values.csv\"\n",
        "labels_train=basedir+\"/orig/train_labels.csv\"\n",
        "features_predict=basedir+\"/orig/test_values.csv\"\n",
        "\n",
        "X_train=pd.read_csv(features_train)\n",
        "y_train=pd.read_csv(labels_train)\n",
        "X_pred=pd.read_csv(features_predict)\n",
        "#\n",
        "X_pred_conv=create_base_data(X_pred)\n",
        "X_train_conv=create_base_data(X_train)\n",
        "#\n",
        "X_train_ok=kill_columns(X_train_conv)\n",
        "X_pred_ok=kill_columns(X_pred_conv)\n",
        "y_train_ok=kill_columns(y_train)\n",
        "\n",
        "X_train_ok.to_csv(basedir+\"/tmp/X_tran_ok.csv\",index=False)\n",
        "X_pred_ok.to_csv(basedir+\"/tmp/X_pred_ok.csv\",index=False)\n",
        "y_train_ok.to_csv(basedir+\"/tmp/y_train_ok.csv\",index=False)\n",
        "\n",
        "\n",
        "\n",
        "\n",
        "#f=open(basedir+\"/tmp/similarity.csv\",\"a\")\n",
        "X_train_ok=pd.read_csv(basedir+\"/tmp/X_tran_ok.csv\",)\n",
        "X_pred_ok=pd.read_csv(basedir+\"/tmp/X_pred_ok.csv\")\n",
        "y_train_ok=pd.read_csv(basedir+\"/tmp/y_train_ok.csv\")\n",
        "\n",
        "X_train_ok.head()\n",
        "X_pred_ok.head()\n",
        "#print(\"Ready\")\n"
      ],
      "execution_count": 6,
      "outputs": [
        {
          "output_type": "stream",
          "name": "stdout",
          "text": [
            "land_surface_condition cseréje megy\n",
            "foundation_type cseréje megy\n",
            "roof_type cseréje megy\n",
            "ground_floor_type cseréje megy\n",
            "other_floor_type cseréje megy\n",
            "position cseréje megy\n",
            "plan_configuration cseréje megy\n",
            "legal_ownership_status cseréje megy\n",
            "land_surface_condition cseréje megy\n",
            "foundation_type cseréje megy\n",
            "roof_type cseréje megy\n",
            "ground_floor_type cseréje megy\n",
            "other_floor_type cseréje megy\n",
            "position cseréje megy\n",
            "plan_configuration cseréje megy\n",
            "legal_ownership_status cseréje megy\n"
          ]
        },
        {
          "output_type": "execute_result",
          "data": {
            "text/plain": [
              "   count_floors_pre_eq  age  area_percentage  height_percentage  \\\n",
              "0                    3   20                7                  6   \n",
              "1                    2   25               13                  5   \n",
              "2                    2    5                4                  5   \n",
              "3                    1    0               19                  3   \n",
              "4                    3   15                8                  7   \n",
              "\n",
              "   has_superstructure_adobe_mud  has_superstructure_mud_mortar_stone  \\\n",
              "0                             0                                    1   \n",
              "1                             0                                    1   \n",
              "2                             0                                    1   \n",
              "3                             0                                    0   \n",
              "4                             0                                    1   \n",
              "\n",
              "   has_superstructure_stone_flag  has_superstructure_cement_mortar_stone  \\\n",
              "0                              0                                       0   \n",
              "1                              0                                       0   \n",
              "2                              0                                       0   \n",
              "3                              0                                       0   \n",
              "4                              0                                       0   \n",
              "\n",
              "   has_superstructure_mud_mortar_brick  \\\n",
              "0                                    0   \n",
              "1                                    0   \n",
              "2                                    0   \n",
              "3                                    0   \n",
              "4                                    0   \n",
              "\n",
              "   has_superstructure_cement_mortar_brick  ...  plan_configuration_a  \\\n",
              "0                                       0  ...                   0.0   \n",
              "1                                       0  ...                   0.0   \n",
              "2                                       0  ...                   0.0   \n",
              "3                                       1  ...                   0.0   \n",
              "4                                       0  ...                   0.0   \n",
              "\n",
              "   plan_configuration_q  plan_configuration_u  plan_configuration_n  \\\n",
              "0                   0.0                   0.0                   0.0   \n",
              "1                   0.0                   0.0                   0.0   \n",
              "2                   0.0                   0.0                   0.0   \n",
              "3                   0.0                   0.0                   0.0   \n",
              "4                   0.0                   0.0                   0.0   \n",
              "\n",
              "   plan_configuration_o  legal_ownership_status_a  legal_ownership_status_w  \\\n",
              "0                   0.0                       0.0                       0.0   \n",
              "1                   0.0                       0.0                       0.0   \n",
              "2                   0.0                       0.0                       0.0   \n",
              "3                   0.0                       0.0                       0.0   \n",
              "4                   0.0                       0.0                       0.0   \n",
              "\n",
              "   legal_ownership_status_r  legal_ownership_status_v     geopos  \n",
              "0                       0.0                       1.0  17.417622  \n",
              "1                       0.0                       1.0   6.098800  \n",
              "2                       0.0                       1.0  22.013313  \n",
              "3                       0.0                       1.0  26.027328  \n",
              "4                       0.0                       1.0  17.202505  \n",
              "\n",
              "[5 rows x 66 columns]"
            ],
            "text/html": "<div>\n<style scoped>\n    .dataframe tbody tr th:only-of-type {\n        vertical-align: middle;\n    }\n\n    .dataframe tbody tr th {\n        vertical-align: top;\n    }\n\n    .dataframe thead th {\n        text-align: right;\n    }\n</style>\n<table border=\"1\" class=\"dataframe\">\n  <thead>\n    <tr style=\"text-align: right;\">\n      <th></th>\n      <th>count_floors_pre_eq</th>\n      <th>age</th>\n      <th>area_percentage</th>\n      <th>height_percentage</th>\n      <th>has_superstructure_adobe_mud</th>\n      <th>has_superstructure_mud_mortar_stone</th>\n      <th>has_superstructure_stone_flag</th>\n      <th>has_superstructure_cement_mortar_stone</th>\n      <th>has_superstructure_mud_mortar_brick</th>\n      <th>has_superstructure_cement_mortar_brick</th>\n      <th>...</th>\n      <th>plan_configuration_a</th>\n      <th>plan_configuration_q</th>\n      <th>plan_configuration_u</th>\n      <th>plan_configuration_n</th>\n      <th>plan_configuration_o</th>\n      <th>legal_ownership_status_a</th>\n      <th>legal_ownership_status_w</th>\n      <th>legal_ownership_status_r</th>\n      <th>legal_ownership_status_v</th>\n      <th>geopos</th>\n    </tr>\n  </thead>\n  <tbody>\n    <tr>\n      <th>0</th>\n      <td>3</td>\n      <td>20</td>\n      <td>7</td>\n      <td>6</td>\n      <td>0</td>\n      <td>1</td>\n      <td>0</td>\n      <td>0</td>\n      <td>0</td>\n      <td>0</td>\n      <td>...</td>\n      <td>0.0</td>\n      <td>0.0</td>\n      <td>0.0</td>\n      <td>0.0</td>\n      <td>0.0</td>\n      <td>0.0</td>\n      <td>0.0</td>\n      <td>0.0</td>\n      <td>1.0</td>\n      <td>17.417622</td>\n    </tr>\n    <tr>\n      <th>1</th>\n      <td>2</td>\n      <td>25</td>\n      <td>13</td>\n      <td>5</td>\n      <td>0</td>\n      <td>1</td>\n      <td>0</td>\n      <td>0</td>\n      <td>0</td>\n      <td>0</td>\n      <td>...</td>\n      <td>0.0</td>\n      <td>0.0</td>\n      <td>0.0</td>\n      <td>0.0</td>\n      <td>0.0</td>\n      <td>0.0</td>\n      <td>0.0</td>\n      <td>0.0</td>\n      <td>1.0</td>\n      <td>6.098800</td>\n    </tr>\n    <tr>\n      <th>2</th>\n      <td>2</td>\n      <td>5</td>\n      <td>4</td>\n      <td>5</td>\n      <td>0</td>\n      <td>1</td>\n      <td>0</td>\n      <td>0</td>\n      <td>0</td>\n      <td>0</td>\n      <td>...</td>\n      <td>0.0</td>\n      <td>0.0</td>\n      <td>0.0</td>\n      <td>0.0</td>\n      <td>0.0</td>\n      <td>0.0</td>\n      <td>0.0</td>\n      <td>0.0</td>\n      <td>1.0</td>\n      <td>22.013313</td>\n    </tr>\n    <tr>\n      <th>3</th>\n      <td>1</td>\n      <td>0</td>\n      <td>19</td>\n      <td>3</td>\n      <td>0</td>\n      <td>0</td>\n      <td>0</td>\n      <td>0</td>\n      <td>0</td>\n      <td>1</td>\n      <td>...</td>\n      <td>0.0</td>\n      <td>0.0</td>\n      <td>0.0</td>\n      <td>0.0</td>\n      <td>0.0</td>\n      <td>0.0</td>\n      <td>0.0</td>\n      <td>0.0</td>\n      <td>1.0</td>\n      <td>26.027328</td>\n    </tr>\n    <tr>\n      <th>4</th>\n      <td>3</td>\n      <td>15</td>\n      <td>8</td>\n      <td>7</td>\n      <td>0</td>\n      <td>1</td>\n      <td>0</td>\n      <td>0</td>\n      <td>0</td>\n      <td>0</td>\n      <td>...</td>\n      <td>0.0</td>\n      <td>0.0</td>\n      <td>0.0</td>\n      <td>0.0</td>\n      <td>0.0</td>\n      <td>0.0</td>\n      <td>0.0</td>\n      <td>0.0</td>\n      <td>1.0</td>\n      <td>17.202505</td>\n    </tr>\n  </tbody>\n</table>\n<p>5 rows × 66 columns</p>\n</div>"
          },
          "metadata": {},
          "execution_count": 6
        }
      ]
    },
    {
      "cell_type": "code",
      "metadata": {
        "id": "ZkluH7RwmL_M"
      },
      "source": [
        "X_pred_ok=kill_columns(X_pred_ok)\r\n",
        "X_train_ok=kill_columns(X_train_ok)\r\n",
        "y_train_ok=kill_columns(y_train_ok)"
      ],
      "execution_count": 7,
      "outputs": []
    },
    {
      "cell_type": "code",
      "metadata": {
        "id": "Q0rn-7TBQfRp"
      },
      "source": [
        "from sklearn.preprocessing import StandardScaler\n",
        "\n",
        "scaler1=StandardScaler()\n",
        "X_pred_scale=scaler1.fit_transform(X_pred_ok)\n",
        "\n",
        "scaler2=StandardScaler()\n",
        "X_train_scale=scaler2.fit_transform(X_train_ok)\n",
        "\"\"\"\n",
        "scaler3=StandardScaler()\n",
        "y_train_scale=scaler3.fit_transform(y_train_ok)\n",
        "\"\"\"\n",
        "y_train_np=y_train_ok.to_numpy()\n",
        "\n",
        "# szétszedjük a train és test részekre\n",
        "from sklearn.model_selection import train_test_split\n",
        "#X_train_train, X_train_test,y_train_train, y_train_test  = train_test_split( X_train_scale, y_train_scale, test_size=0.10, random_state=0)\n",
        "X_train_train, X_train_test,y_train_train, y_train_test  = train_test_split( X_train_scale, y_train_np, test_size=0.10, random_state=0)\n",
        "\n",
        "\n"
      ],
      "execution_count": 8,
      "outputs": []
    },
    {
      "cell_type": "code",
      "execution_count": 9,
      "metadata": {},
      "outputs": [
        {
          "output_type": "stream",
          "name": "stdout",
          "text": [
            "Help on package pyclustertend:\n\nNAME\n    pyclustertend - # -*- coding: utf-8 -*-\n\nPACKAGE CONTENTS\n    hopkins\n    metric\n    version\n    visual_assessment_of_tendency\n\nDATA\n    name = 'pyclustertend'\n\nFILE\n    c:\\users\\sipocz\\appdata\\local\\programs\\python\\python38\\lib\\site-packages\\pyclustertend\\__init__.py\n\n\n"
          ]
        },
        {
          "output_type": "execute_result",
          "data": {
            "text/plain": [
              "0.10501933290798514"
            ]
          },
          "metadata": {},
          "execution_count": 9
        },
        {
          "output_type": "display_data",
          "data": {
            "text/plain": "<Figure size 720x720 with 1 Axes>",
            "image/svg+xml": "<?xml version=\"1.0\" encoding=\"utf-8\" standalone=\"no\"?>\r\n<!DOCTYPE svg PUBLIC \"-//W3C//DTD SVG 1.1//EN\"\r\n  \"http://www.w3.org/Graphics/SVG/1.1/DTD/svg11.dtd\">\r\n<!-- Created with matplotlib (https://matplotlib.org/) -->\r\n<svg height=\"577.571344pt\" version=\"1.1\" viewBox=\"0 0 584.0875 577.571344\" width=\"584.0875pt\" xmlns=\"http://www.w3.org/2000/svg\" xmlns:xlink=\"http://www.w3.org/1999/xlink\">\r\n <metadata>\r\n  <rdf:RDF xmlns:cc=\"http://creativecommons.org/ns#\" xmlns:dc=\"http://purl.org/dc/elements/1.1/\" xmlns:rdf=\"http://www.w3.org/1999/02/22-rdf-syntax-ns#\">\r\n   <cc:Work>\r\n    <dc:type rdf:resource=\"http://purl.org/dc/dcmitype/StillImage\"/>\r\n    <dc:date>2020-12-13T17:23:02.583126</dc:date>\r\n    <dc:format>image/svg+xml</dc:format>\r\n    <dc:creator>\r\n     <cc:Agent>\r\n      <dc:title>Matplotlib v3.3.3, https://matplotlib.org/</dc:title>\r\n     </cc:Agent>\r\n    </dc:creator>\r\n   </cc:Work>\r\n  </rdf:RDF>\r\n </metadata>\r\n <defs>\r\n  <style type=\"text/css\">*{stroke-linecap:butt;stroke-linejoin:round;}</style>\r\n </defs>\r\n <g id=\"figure_1\">\r\n  <g id=\"patch_1\">\r\n   <path d=\"M 0 577.571344 \r\nL 584.0875 577.571344 \r\nL 584.0875 0 \r\nL 0 0 \r\nz\r\n\" style=\"fill:none;\"/>\r\n  </g>\r\n  <g id=\"axes_1\">\r\n   <g id=\"patch_2\">\r\n    <path d=\"M 33.2875 553.693219 \r\nL 576.8875 553.693219 \r\nL 576.8875 10.093219 \r\nL 33.2875 10.093219 \r\nz\r\n\" style=\"fill:#ffffff;\"/>\r\n   </g>\r\n   <g clip-path=\"url(#pd5678df1ea)\">\r\n    <image height=\"544\" id=\"image0d34c5209f\" transform=\"scale(1 -1)translate(0 -544)\" width=\"544\" x=\"33.2875\" xlink:href=\"data:image/png;base64,\r\niVBORw0KGgoAAAANSUhEUgAAAiAAAAIgCAYAAAC8idIcAABU6klEQVR4nO3deYyk6X0X8O9711193z1Hz33s7sxes/au14sTdomNrYQjCojDIsEWcQBFQiAhwR8QJETCESFQLIEUBf8RMJFwEIlNHNYxi73ewzO7413PfXZPT1/V1XW89d4Pf0ze113Tx/RRVW8d3480mumq6qqne7qrvvV7nuf3SEIIAQB/+hcRERFRU1SrVfzMz/wM3nrrLajhhQwgRERE1CzXr1/H7OwsDh06BACQxCNwXTfekREREVHX+pVf+RX83u/9Hv7bf/tvuHDhAisgRERE1DwfffQR3nvvPfT39+Mv/sW/iKmpKaTT6UcBRAjBAEJEREQN961vfQv/+B//Y3z1q1/FF7/4Rajqo9qHJIQQQRDAcZyYh0hERETd4sqVK/ja174GXdeRzWbxxhtv4OzZs1BVFZIk/WQKBuA0DBEREe2f7/u4efMm/sN/+A/4yle+gl/91V+FJEl1t1EBwHVdLC8vxzJIIiIi6h7z8/P49V//dQwMDOBrX/sajhw5suntVAAIggCWZbECQkRERLsWriWtVCq4e/cu3n33Xbzwwgt44403ojUfj1OBR6WSSqXCAEJERES7Zts2SqUS/uW//JdwXRe//uu/joMHD0JRlC0/J9oFEwQBgiBo2WCJiIioO8zOzuLBgwe4ceMGDMPAgQMHMD4+vu3nbF4XISIiItoBIQR++7d/G9/5zndQq9UwMzOzo8+ra0TGKRgiIiLaqVu3buH27dvI5XJ46aWXAADj4+PQdf2Jn8sAQkRERHvyR3/0R/jt3/5t/Nqv/Ro+85nPAAAURUEqlXri5zKAEBER0Y6EbTsePHiADz/8EJIk4Ytf/CIOHz4MWZYBALIsb+j5sRkGECIiItoR27YxOzuLd999F7/zO7+DL3/5y/hbf+tv7ShwPI6LUImIiGhHVlZW8Lu/+7uYm5vb931F23CJiIiINiOEgGVZWF1dxdWrV2GaJlKpFDRN2/N9RgHEtm32ASEiIqINSqUS/vW//teQZRm/9mu/Fu1yGR4e3vN9shEZERERbUoIgZWVFSwvL6NYLKKvrw/Hjx9HMpkEgD2t/QhFa0CCIIDv+/sfLREREXUFz/PwH//jf8SdO3fwD//hP8TU1BQSiURD7juqgHiexwBCREREAIC5uTksLCwgmUzi0KFDGBoaQi6Xq6t6hC3Yjx8/jsHBwV3df3QYXa1W4xQMERERAQB+//d/H//7f/9v/JN/8k/w7LPPbtrd9A//8A/xX/7Lf8E//+f/PGpEtlN123C5G4aIiKi33b17Fz/60Y9gGAZef/11jI6OQlXVTdd7nDlzBn/hL/wFTExM7Ppx2AeEiIiIIleuXMF//s//Gb/4i7+IP//n//y2az4++clP4uWXX957IzIhBFzX5RoQIiKiHjU/P49vfetbSKfT+PKXv4yTJ0829fG4CJWIiKjHeZ6Hhw8f4jvf+Q5ee+01/NW/+lf3fF9hb7EnNSnjFAwREVEPKxaL+J3f+R0kEgn8/b//9zE2Nrav+3vw4AF+8zd/E0899RT+2T/7Z1DVzaMGAwgREVGPCYIAQghUKhWsrKzg4cOHGB8fx6lTp/bd58N1Xdy7d++JXVIZQIiIiHqMaZool8v42te+hkqlgl/6pV/CwMDAltWK3ZicnMRXv/pV9PX1QVGULW/HAEJERNRjFhYWMD8/j4WFBXieh76+Pui6jhs3bmBgYACTk5N7vm9N0zA5ORm1a9+KvOdHICIioo705ptv4j/9p/+Ehw8fRpfdvXsX/+pf/St885vfbMkY6s6CYSdUIiKi7uM4DiqVCpaXl7G4uIhMJoMLFy4AAPL5PAzDQC6XwwsvvIBDhw5FnxcEAX74wx+iVqvhwoULyGazDRtTtA3X931uwyUiIupClUoFN2/exPvvv4//9//+H7785S/jF37hF+puk06n8bf/9t+uWwfi+z6+/vWv4969ezhx4kTjAwgRERF1r5WVFXzve9/D/Pz8rj5PURT8zM/8DCqVCnK5XEPHxABCRETUpYQQEEKgWCzi0qVLCIIAsizvuHW6LMt49dVXoarqtjta9oJTMERERF2kWq3CcRwAj5qMffvb30Ymk8Ev//IvR8FjZmYmziECWFcBEUJwESoREVGHq9VqqNVqcF0XS0tLuHbtGo4fP45z585Blh9tfm10NWMvOAVDRETURZaXl/Hw4UN8//vfBwD8pb/0lzAyMrKnE2ubiQGEiIioixSLRSwsLGBhYQGaprXt7AYDCBERUZcQQuCDDz7AxYsX4XkeAOBrX/sannnmGczMzLRVFYQBhIiIqIN5ngfLsrC8vIxCoYBsNoszZ87U3WZ6erqtwgewbheMECLusRAREdEuVatVPHz4EG+99RbeffddfOlLX8L58+frbrObrbetwgoIERFRB1teXsbbb7+N2dnZaL3H42Gj3cIHwABCRETUsYQQWFhYwFtvvQUA0TbbTqACj3q9W5YVLVghIiKi9raysoI//uM/Rjqdxi/+4i9Gl68/TK6dRRUQz/MYQIiIiNqcEAKu62J5eRkffPABnnnmGVy4cKEtp1m2U9cJlQtRiYiI2lulUsHv/d7vQZZl/I2/8TcwNDTUceEDYAAhIiLqGKVSCWtrayiVSsjlcpienkY6nY57WHvCAEJERNQBfN/HN77xDSwuLuLnf/7nMTAwAE3T4h7WnnEXDBERUZtbWlrC6uoqDMPAyMgI8vk8MplMR069hOoakbECQkRE1H6+973v4Z133sHf/Jt/E0eOHIGqdn79oPO/AiIioi41Pz+P27dvwzAMvPjii+jv74eiKHEPqyE6p2MJERFRj7l9+zb+x//4H8hms/jCF76A4eHhuIfUMNEUDPuAEBERtYelpSW8++67MAwDP/uzP4vDhw/HPSQAwMOHD/GNb3wDR48exWc/+9l93VcUQHzfh+/7DRkgERER7Z4QAkEQYGVlBe+88w5efPFFvPHGGxtu5/s+JElq+VqQYrGI//W//hdefvnlxgQQ4CdfNBEREcWjXC7jm9/8JgzDwC/8wi9gcHBww21M08T//J//E4lEAp///OdbuhV3enoa/+Jf/AsMDAzs+77qAggRERG1nhACpmlibW0NS0tLGB4exszMDHRd33Bb3/extLSEdDrdkNfuIAhQLpehKAoymcy2t02n03j++ef3/ZgAd8EQERHFznVd/P7v/z5M08QXvvAF5PP5LU+2TafT+Ot//a9DluWGVD+KxSJ+8zd/E6Ojo/jSl77Usmmd6FGCIGAVhIiIqMUKhUJUgUilUujv70c6nd6yyZgsy+jr64MkSQ1rRJbJZJBKpVra2KyuERnXgBAREbWOEALf/e53cf36dfz8z/88JiYmWt5eva+vD3/v7/09SJLU0h4jdXUWVkCIiIhaY3FxEQsLC0ilUjh27Biy2eymaz5CQRDg1q1bsCwLJ06cQCKRaMg4ZFmGYRgNua/d2HAYHUMIERFR8129ehXf+c538LM/+7N46qmnnlh9CIIA/+f//B8sLi7iK1/5SsMCSFw2VEA4DUNERNQY8/PzqFQqqFar0eur53mo1WqQZRmvvfYaRkdHd7T2QpZlvPDCC6jVakilUs0eetNtWOrKCggREdH+CSGwsLCA+fl5rKyswHVdAIBlWSgWi/jkJz+Jl19+ecvdLo+TZRnPPvssAHT0KbghbsMlIiJqAd/3UalUIEkS+vr6kEwm4x5SrHgYHRERUZOFR55YlgXf92EYRsN2nHieh2q1GlVYOgUDCBERUZMVi0Wsra1BCAHHcbCysgLTNBty3x999BF+4zd+A2+//XZD7q9VOAVDRETUJJZloVarwXVdBEFQt3OlURWQTt3BygBCRETUJA8ePMCNGzfg+z4SiQSOHj0aBY+hoaGGPMaZM2dw9uzZbXuItCMGECIiogZbXl7GysoKMpkMDh8+DAAwDAMTExNRAMlmsw15LE3TOrInSF0A4XkwRERE+/ejH/0I7777Lr7whS/g+PHjm95mp9tvuxX7gBAREe2T67qo1WooFot4+PAhFEXBCy+8gMHBwa7o2dEMGwIIO6ESERHtjuu6KBQKuHXrFt577z289tpreOWVVxg+tsE1IERERPtUqVTw/vvvo1gsxj2UpqhWq/jd3/1dJJNJfPGLX2zIgldOwRAREe2D53kwTRMPHjyA67pQVbXrKh+O4+Cdd95BNpvFX/trf63xAYSH0REREe2caZr44z/+Y6iqis9//vPRDpe+vr54B9Zg2WwW/+gf/aOG7rhhBYSIiGiXhBAwTRPlchnVahXpdBrj4+PQNA1A9+1wUVUVx44dgyzLDfvaNlRAGECIiIi25/s+3nzzTaytreGnfuqnkM/noapcVrkbrIAQERHtQPj6WCwWUS6Xoes68vk8stksUqlUzKPrPBsqIL7vxzUWIiKithU267x48SKuXbuGz33uc5icnGzYmS69hvUiIiKiHSgUCpibm8PKykr0Zl1RlK7b8dIqDCBEREQ7MDc3h7feegtA406y7WUbpmCIiIh63fqWFMViER9//DE0TcMrr7wC4NEul2ZutV1eXsb777+PgwcP4vz58017nDixFTsREdFjwr5YQggUi0VcvnwZZ8+exYULF6LbhFWQIAggSVJDt96WSiW89957kCSp5QEkXA8qy3JTp5c4BUNERPQYy7JQLpdx8eJFlEqlLd+c12o1fPe730UqlcKrr77asK244+Pj+Ct/5a9gYGCgIfe3G++//z7+6I/+CH/uz/25usDVaAwgREREjzFNE6VSCXNzc3BdF8lkctP240EQYHV1FY7jNHQZQzKZxNGjR2NZa1Iul3Hnzh2sra019XEYQIiIiNbxPA/vvPMOlpaW4DgORkdH8eqrr27a6yOZTOKzn/0sFEXpmkZkFy5cwFNPPYVcLtfUx+mO7xYREVEDhK3VFUVBOp1GOp3G0NAQ+vr6Nq1GyLKMfD7fVVtxU6kU8vl80x+HnVCJiIj+1HvvvYd79+7hjTfewNDQEABAkiQoitJ157vEjRUQIiLqStud8B4EATzPg23bKJfL8DwPvu/DMAwcOHAA6XS6a6ZU2hW/u0RE1JV834fjOJte57ouTNPE0tISrl27BtM0YZomfvqnfxpHjx7tqimVdsUAQkREXW2rpQVhvwvTNLcMKtQ8DCBERNSzPM+DaZoAwKpHizGAEBFRz6nVarh06RLK5TKAR42/JicnY2n81asYQIiIqGs9Pv0ihIDnebAsC8vLy3BdF5qmIZ/PY3JyEslkMqaRbs91XXieh0Qi0TW7cRhAiIioK3meh0qlsuGyixcvAkBd63TDMJBIJNp258tbb72Fy5cv4+d+7udw4MCBuIfTEO35nSYiIton3/ejyoHv+wiCAK7rwnEc6LqOvr4+aJoW3b7RB8o1UhAE8H2/q3p1MYAQEVFXsm0by8vLWFpaQrFYRK1WgyRJeO6555DP59u22rGZV155BS+99FLbThHtRed894mIiHYhbETmOA5M04Rt21BVFZqmQVXVjtr1YhgGDMPoqDE/CQMIERF1Ndd1UavV4h4GPYYBhIiIupJpmpifn0e1WgUA9Pf3I5lMYm5uDgsLCzAMA7lcDlNTUzGPtDcxgBARUVeqVqu4f/8+gEcLTIeHh5FKpXD16tWoInLw4EFMTU111dRGp6gLIN20upaIiHpTsVjEhx9+CF3X8dprr0WXhwtPBwcH4fs+ACCTycAwjOg2O90FEwQBLl26hFqthhdeeAGpVKqhX0Mv2FABYQghIqJOFC46rVaruHnzJo4cOYKTJ09uuN3w8HBDHuv+/fsolUp45plnmhZAfN+H7/tQVRWKojTlMeLCKRgiIup41WoV1WoVFy9ehKqqeP3115FOp5v2eJIk4eWXX0YQBE19nI8//hjf//738alPfQpPPfVU0x4nDgwgRETU0YQQqFarKBaLePjwIfr6+jAyMlLXZKzRZFnG8PAwJElq6voRx3FQLBa78rReBhAiIupoQRDg4sWLePjwIWzbjns4DXX27FkcP368K9eYMIAQEVHHWltbQ6VSga7r6O/vBwAMDg52za4WwzCaOsUTJwYQIiLqWJcvX8b169fx+uuvY2xsLLq82xZsdiMGECIianuP79AsFApYXFyEpmk4duwYMpkMQ0eH4TZcIiLqCOtfn2ZnZ/H222/j1VdfxalTp2IcFe0VKyBERNQRPM9DqVTC9evXoaoqXnrpJYyMjMQ9LNqjnbV8IyIiipEQAr7vo1gs4vLly3AcB2fOnIkWnnayIAjg+37PzUCwAkJERG3PNE18//vfx9raGoQQuHPnDtbW1nD27FkcOHAg7uHtWRAEeOeddzA3N4ef/umfbkiX1k7BAEJERG1LCAHHcVCtVlEoFGDbNpLJJHzfx/LyMizLinuI+xY2UHNdN+6htNSGw+h6rQRERETty3Vd/Mmf/Akcx8Frr70GXdfrru/0Bl2yLONTn/oUXnrppa6YTtoN7oIhIqK24Ps+HMdBEAQAHoUP27YhhICu68jn83Un1wLoioZj2WwWkiTt+CTebsEAQkREbaFcLuPevXtRALl37x6q1So+85nPYHBwsKlnu1DrcQ0IERG1Bdd1USqV4HkePM9DtVqF4zhQFAWapu242mFZFh48eIBMJoPR0dEmj5r2igGEiIjagm3bWFlZQbVahWmaALCnqkexWMSbb76Jo0ePMoC0MQYQIiJqC77vo1qtRrtB+vr6kM1mdx1CMpkMzp07h6GhoWYMkxqEAYSIiNqC53mo1WrRWsS+vj6MjIxs2PmyFSEEJElCJpPBc889F+sC1fBr6IZFss1SF0DChT9EREStUi6X8cMf/hCJRAKvvfZadHk6nUYikXhiAAmCABcvXkStVsPzzz+PRCLR5BE/2ccff4zbt2/jxRdfrDull36CFRAiIopF2ILcNE08ePAAExMTmJmZ2XC7J1URhBBYXFxEuVyG53nNGu6urKys4NatWzhz5kzcQ2lbGwKI7/txjIOIiHqMbdv43ve+BwD4zGc+s+emYrIs45Of/CR832+bxmTnz5/HyZMne6652G6wDwgREbWcaZowTROO40DXdQwMDOy5z4ckScjn8w0e4f5ks1nkcjmuAdkGp2CIiKilgiDAu+++i9XVVbzyyivI5XJQFCXuYVGLsQJCREQts7a2hkqlAl3X0d/fj1QqBcMweq4NOW1yGB0REVGzXL9+HVevXsVrr72GiYkJBo8exgoIERE1XbFYxPz8PFRVxYkTJ5DJZBg+ehz/94mIqOmWlpbw3nvvQdd1PP/88223aJRaj4tQiYioaUqlEn784x+jWCzGPRRqMwwgRETUFOGJtnfu3IHv+1AUhdMuFOEaECIiajjLsvDuu+9CURS8+uqrUfDIZrMxj4zaxYZdMAwgRET0JNudHeY4DkzTRLlcRjabxfDwMFSVBXeqtyGA8EA6IiLaju/7KJfLm75hDYIAly9fhuM4uHDhAtLpNMMHbYo/FUREtCtCCLiuu+HsMNu2Yds2AEDXdaRSqbY4mZbaEwMIERHtShAEsCxrw8mzt2/fRqFQwNNPP43BwUHouh7TCKkTMIAQEdGueZ4XTdmbpolarQbTNOH7PiRJ4m4XeiIGECIi2pUgCOoCyOrqKubm5gCAwYN2jAGEiIh2JQgCFAoF2LYN13VhmiYAYHBwEOl0GktLS9EOGJ5yS1thVCUiol3xfR/FYhErKytYXFxEpVIBAPT19WFsbCyqiDy+RmQ97rokVkCIiGhXhBCwLAuO4wB4FDwGBweRzWYhyzKOHTsGRVG2XIQabtUtl8t47rnnkE6nWzl8ahMMIEREtCPh9lvHcaAoCjRNAwBkMhn09/dDVVWoqopMJgNN07ZdD7K2tobV1dVtqyTU3diKnYiIdsR1XfzgBz+A53l46aWXogZjmqbVnfMiy/K2O2EkScJzzz2HIAiQyWRaNn5qL6yAEBHRlnzfh+d5cBwHtm0jCAKoqopcLrfnPh+SJCGdTkOSpAaPljoJKyBERLSlSqWCcrmMGzduoFQq4ZOf/CTy+Xw0/UK0V9wFQ0REWzJNE8vLy6hWq3BdN1r7sdPqhWVZuHfvHpaXl5s8Uuo0DCBERLSlpaUlXLlyBeVyeU+fv7a2hrfeegvXr19v8Mio0226BoTTMEREva1UKmF2dhaSJOH06dMAHi0u3e3hcul0GmfPnkV/f38zhtkUQRDg+vXr8H0fJ06c4Gm+TVL3XRVCMHwQEfU4IQRWV1fxox/9CGfPnsXZs2ej63a7cDSTyeDpp59u9BCbyvd9fPTRR3AcBzMzM1EACRunsd18YzDWERH1uFqtFvXjqNVquHPnDgzDwIULFzqqctEoiqLgxRdfhO/7MAwjunx2dhZXr17FqVOnMDU19cT7EULgnXfewerqKl5++WVks9lmDrvjMMYREfUwIQQcx4FlWTBNE8ViEffv30etVsOBAweQy+XiHmLLybKM6elpHDp0qK7aUSqVcPv2bZRKpR3f1/z8PG7duhV1jV3P933Ytt2zzdhYASEi6nGO46BareLWrVswTRO+78c9pLY0MzODkZGRHTdPkyQJn/70p+E4DvL5/IbrP/roI/zwhz/Ea6+9hmPHjjV6uG2PAYSIqMfZto1qtYpyuQzXdZFMJqHrek82CjNNE67rIpfLbVjrkUqlkEqldnV/201hhRWQXj2UjwGEiKiHCSFw9+5dLCwswPM8ZDIZnD17tmfXK7z33nuYm5vDG2+8gcHBwaY+1tmzZ3HixAkkk8mmPk67YgAhIupRpVIJlUoFhmFEL7bJZBLZbHbX2227RTabRX9/PxRFafpjaZoGwzB6dlcNW7ETEfWoW7du4ebNm/jEJz6BsbGx6HJJknpy+gUAzp07ByFESwJIr2MAISLqMaVSCYuLi1BVFUeOHEEmk+nZd+GP6+Xw1WpsREZE1GMWFxdx6dIlnDt3DmfOnOELLsWCa0CIiHpEuVzGzZs3oWkazp07h5GRkbiHRD1sQwDp1e1ARETdTAgB0zRx9+5dHDx4sK7yEQQBhBCQZZnVEGqZDVMwRETUXSzLwocffghVVfHSSy/V9bIQQuDy5cuoVqs4d+7crvtcEO0Vp2CIiLqUEAK2baNWq6FSqSCbzWJoaGjDDo/wer4JpVaqCyBBELAFLxFRl/B9Hx988AEsy8L58+eRTCY3TLFIkoRz584hCIKe7f1B8eA2XCKiLlSpVGDbNiRJQiKRQDKZ3DJgMHhQHBhAiIi60M2bN/Hw4UM8//zz6O/vh6ZpcQ+JqA7XgBARdbBwnYfruqjVavB9H77vQ9M0jI2NwTAMKIrC3S3UdhhAiIg6mO/7KJfLKJfLmJ+fh2VZqNVqOHfuHKamphg8qG2x9y4RURfwfR+1Wg2u68Y9FGpDc3Nz+PrXv44PPvgg7qFEGECIiDqcEAK+78OyLHie98Tbs+Fk71lcXMS3vvUtXLt2Le6hRDgFQ0TUwWzbxq1bt1Cr1QAA/f39GBwcRCaT2XDbUqmEK1euYHh4GEeOHGn1UClGMzMz+MpXvoLR0dG4hxJhACEi6kBCCHieB8dxYJomXNeFpmlIp9MYHBzcdGut67pYWVlBMpmMYcQUp3w+j/Pnz8c9jDoMIEREHcjzPHzwwQfwfR/nz5+Hqj56OldVFZqmbeh2CgB9fX145ZVXuCWX2gL7gBARdRjTNOE4DoIggKIoyGQyOwoViqIgm81Clrn8j+LHCggRUQcJggDXrl1DoVDAs88+i0wmE1U/iDoJf2qJiDpEuVxGtVqFpmkYGBiAruucTukSQRDg3r178H0fhw4d6olQyTocEVGHePDgAX74wx9icHAQTz/9NFKpVNxDogbxPA/f/va38Qd/8AfRjqZu1/0Ri4ioQ4X9OsrlMpaWlgAAR44cQTqdBgDcv38fADA5ObnpolPqHJIk4Zlnnol2M/WCDQGEDWqIiNqHEAKlUglXr17FiRMncPToUQCPttTevn0bADA2NsYA0uE0TcMLL7zQU63zWQEhImpTtVoNN27cQKVS2XCdoig4ceJE9G+iTsMAQkTUhoIggGVZWFxchO/7G060lWUZo6OjPfWOmboLAwgRUZtxXRc/+tGPIEkSnn322ahvBzuYUjdhACEiaiOWZcG2bdi2DcMwkM/nowDCBmLUTRhAiIjahBACV65cQaVSwVNPPYVUKsXQQV2rLoCwDTsRUTyq1SpM04xaqxuG0RbbMavVKqrVKvL5/KYH3BHtFaM1EVEbuHfvHi5evIixsTE888wzbfNif+fOHXz3u9/F8vJy3EOhLsMpGCKiGJXLZRQKBSiKgunpaaRSqbba2dLf34+ZmZmo+RlRo/A0XCKiGBUKBXz88cc4ffo0Dh48GPdwNpiYmMDk5GTcw6AuxAoIEVELCSFQq9VgmiaWlpagqipOnz6NgYGBPd2fZVm4ffs2kskkDh48WFc98X0fd+/ehe/7OHbsWFusKSEKcQ0IEVELBUEA0zRRLBZx7949uK6LAwcOIJvN7un+XNfF7Ozslms0Hj58iLm5Ofi+v59hEzUcKyBERC3kui7u3LkD0zQbMuWdTCZx/vx56Lq+Ye2ILMs4ffo0ALD6QW2HAYSIqAWEEHAcJ2o05vs+DMOAqu7vaVhVVQwNDW16nSRJ6O/vhyRJDTsvxrIsAEAikWirxbLUGYQQWF5ehuM4G/uAcBEqEVFjBEEQnTAeBAE++ugjuK6LM2fOQNd1AJ11kJzjOHjnnXcQBAE+8YlPtM1WYeoctm3j7/7dv4v333+fFRAiomYRQsD3fViWBcdxADyaCkkmkzAMI+bR7Z4sy9A0DUIIdmilPZEkCfl8HkNDQwwgRETN4nkeLMvCrVu3UCwWcfbsWeTz+aj60WlUVcULL7wQ/ZtotwzDwL/5N/8GQggGECKiZjFNE4VCAbVaDZ7noVAowPM8jI6OdtTUy3ph8OD6D9qrsNkeAwgRUZMUCgXcuHEj+vjOnTtIpVIYHBzs2ABC1CgMIERE++B5HoIgiBbxh2s+CoUCJEnC0aNH626v6zqnL4jAAEJEtGdh4AhDSBAEcF0Xq6uruHXrFg4dOoQTJ05s+DxOXxAxgBARNYxlWbh//37UK4OItsYAQkTUAL7vw3VdFItFBEEARVG4zoNoGwwgRET7FAQBbty4gWq1Ct/3kc/ncfDgQWQymbiHRtS2GECIiPbBsizUajVUq1XYto1UKhX96dR+H0StwABCRLQPd+/exdLSEjzPQyqVwunTp6HrOmRZ5mJTom1sCCA8C4aI6Mmq1Sqq1So0TUN/fz+ARwe0JRKJaJst25UTbY0VECKiPZibm8Pdu3fxzDPPYGRkZNPbsAJCtLVNAwirIEREm6tWq1hcXISiKDh48CDS6TSDBtEebKgPMnwQEW1tbW0NN27cgCRJOH78ONLpdNxDIupIdRUQhg8ionphi/VqtYr79+9D0zScOXMG+Xw+7qERdTSukCIiegLP82BZFubn52HbNiYmJlj5aBNhK3y+ge48XIRKRLQN13Xx8ccfwzRNBEEQ93DoMR9++CFmZ2fxiU98AkNDQ3EPh3aB23CJiLbgOA4sy4LjOPB9H4lEgs3F2ozjOAyHHWrDGhDf9+MaCxFR2xBC4MqVK6jVajh16lQUPMIeH9Qezp07h7NnzyKRSMQ9FNol/iYRET2mVqvBsiwoioJkMolEIgHDMOIeFm3CMAz+33QoBhAiosfMzs5ifn4eTz31FPr6+lj1IGoC/lYREf2parWKYrEIRVEwPj6ORCKxZZOxtbU1VCoVDAwMcEcM0R5wGy4R0Z8qFAq4du0aDMPAsWPHkEwmt7zt4uIiPv74Y1QqlRaOkKh7sAJCRD2vWq1ifn4eiqLg6NGj6Ovre+LnDA0NIZFIIJPJNH+ARF2I23CJqKcJIWBZFubm5jA5OYnDhw/v6PP6+/sxMDDQ5NERda8N23AZQIioV9i2jVu3bkFRlA1bOYUQuHXrFmzbxokTJ7jTgqjBOAVDRD1HCBG1V69UKshkMujv74cs1y+LC7fjsslV/IIggOM4kGWZYbBLMIAQUc8JggDXrl2D67o4fvz4prtdJEnCsWPHEAQBX/DaQKVSwZtvvomBgQF86lOf2nJ3EnWOtgggnPYholaxLAu2bQMANE1DKpWCpmmb3jYMHnyxi58kSdB1nT1Zugj/J4mop9y9exerq6s4deoUstnshmkXak+ZTAZ/9s/+WQAMhN2CAYSIusZ2azVM04RpmtA0Df39/TAMA4qitHB0tB+SJG1ZqaLOxABCRF0jCIItQ8jS0hLu37+PkydPYmRkpMUjI6LHMYAQUdfYLICYpolisYhSqRTTqNpPoVDA/Pw8xsfHMTQ0FPdwqEcxgBBR1wiCAJ7n1V1WqVQwOzsb04ja0+rqKq5cuYJEIsEAQrFhACGirhAEAWzbjna4eJ6HQqEAVVVx6NAhqKoKWZbZOh3A6OgoLly4gP7+/riHQj2MAYSIuobneXBdF77vw3VdFItF5HI5TE1NRQGkV7Zx+r4PIQRUVd2waySTySCTyXA3CcWqN34Tiahn+L6PpaUlOI7T0x1Mr1+/jpWVFTz99NPI5/NxD4doA26AJ6KuEVZAbNuG53nQNA2yLMOyLDiOE/fwGsY0TVQqlScGrF4OYK3mui4KhQIqlUrcQ2lb8/PzuHr1KkzTBMAAQkRdZGVlBfPz81H4GB8fh6ZpuHbtGgqFQtzDa4ggCHD9+nW8++670RP5Zo4ePYoLFy4gm822cHS9a3l5Gf/9v/93vP322+zuvYXf+I3fwOc+9zlcvnwZAKdgiKgLmKaJWq0GXdfR19cH4FGb9UwmA03T4LouEolE13Q9TafTCIJg268nXOvCdR6toes6RkdHo58/2ujw4cN4/vnno1AcewBhUiSi/Xr48CEePHiAU6dObbqzY3x8HAC6IoDIsoyZmZno39QeBgYG8PnPfx4AQ99WfvmXfxl/5+/8neiMpdgDCMB5SiLam1qthtXVVciyjImJCSSTyZ54Ue6Fr7HTSJIEWZYZPrYRfn/C7xF/iomoY62treHWrVtQVRUzMzNIpVJxD4mIdqgtKiBERLthWRbm5uagqiqOHj3KbaZPYNs2bt68iUQigWPHjsU9HCIArIAQUYcRQsCyLCwtLcHzPIyNjSGZTMY9rLbm+z7m5+extLTUkevufN/f0GKfOh8rIETUMVzXxc2bNyHLMk6ePIlEIhH3kDqCYRh4/vnnN+2K2u48z8P3v/99BEGAl19+OVrASJ2PAYSIOkLYYMy2bRiGgXw+33EvpnFRFAUDAwMbLnccB77vI5FIQFGUuutc14XjONB1Hbqut2qoGwghUKvVotby1D0YQIio7QkhcPPmTViWhaNHj8IwDIaPBrh27Rru37+PF198EcPDw3XXLS4u4uLFizh+/DhOnDgR0wgf9XN59dVXAYDVjy7DAEJEba1Wq8G2bciyjEQiAcMwoGla3MPqColEAul0ekP1A3jUyCydTrfFi34ymazbvkndgQGEiNragwcPsLi4iFOnTnHapcGOHDmCI0eObNpXZGRkBENDQ+w5Qk3DAEJEbalSqaBSqUBVVYyMjHDapQnCqsJm31dJkjatjBA1CqMtEbWlYrGIGzduwDAMHDlyhFttibpMW1RAuLKZiEK1Wg0LCwuQZRmHDh1CJpOJe0hE1ASxV0B4DgxR7xJCbPhjmibm5+cRBAGmpqYYQIi6FCsgRBSLIAhQKpVgWVbdx7qu4/jx4zzXhajLtUUAYRWEqDfZto1qtQrgUcfLUqmEXC6HgYGBLRechi25VbUtnr4azvM8CCG41Zi6Xnf+BhNRR7BtG6ZpwrIsSJKEfD6PbDa75e0dx8HVq1ejKkm37YoRQuDjjz+GaZo4d+4cW81TV2MAIaLY+L4P13XheR5kWY7WgWxFkiTIstzVvSkUReH2V+oJDCBEFBvXdaM1IL7vY3V1FUIITE5Obnp7TdNw4sQJyLLcddUP4FHAOnnyJAAwhFDXYwAhopar1WqoVqvQNA2Dg4N114W7XsLbZLPZuqkIVVXheR4KhQISiUTX7ZJh8KBWuHnzJlZXV3Hq1Kltpz2bqXvrmETUtlZWVnDjxg2k02kcO3as7s/4+DgkSUKhUMDVq1dRLBY3fL5pmrh27Rrm5+dbP3iiLvDtb38bX/3qV/Hw4cPYxsAKCBHt20630tdqNRQKBQDA1NQU0un0htuE6ztyuRwOHDiwaYVD13VMT09v+vlPsry8DNM0MTY21hYHrRHF4bnnnsPExAQGBgZiGwMDCBHt204DSLVaxezsLKampjA1NbXtbbPZLHK53KbXJRIJTE9P73qcQRBgaWkJhUIBAwMDDCDUs55//vmGLuYOnwN2szaLAYSI9iUIAti2vel1Qgg4jgPXdVEsFqFpGo4cObKnykUjyLKMyclJDA8Pc4srUYMIIfBf/+t/xc2bN/FLv/RLT3xzEeIaECLalyAI4Pv+pn88z0OtVkOlUkGhUIBt2+jr64v1xT+Xy2FoaKhrG5kRtZoQAleuXMEPfvCDqLHgTvA3kIiaJggCrKyswLIsCCFQKpXw4x//GCMjIxgbG4t7eETUAJIk4Utf+hJqtdqOqx8AAwgRNYAQAr7v1zUSC4IAnufBtm34vg9d1yFJEo9eIOoykiRhcnJy1715GECIaN9c10WtVkO5XIbnedH0Szg9YxgGpqenYRgGNE3j9AcRMYAQ0f6EFQ8hRFT1CEMIAKRSKSQSCei6DlVVo0oIEfU2BhAiaqgwhACPunpOTEzAMAyGDiKqw10wRNQQvu9H6z0ARNWOzc5tKZfLmJ+fj86BIaLewwoIETVEGEBCuq5vOd2ytraGubk5aJrGfhxEPYoBhIj2xXVdLC4uRtWMTCaDVCoFVVWhKMqmAaS/vx+GYXTdQXJEtHMMIES0Z0EQwHEclMtlBEEASZKQSqXQ19cX3Waz013T6TTDR48KFyvz1F9qiwCy03MkiKh9uK6LO3fuQFEUHDt2LDpXYv0228erH7IsN/T8Ceo8165dw71793D+/HmMjIzEPRyKUVsEECLqLK7rwnEc2LYNwzCQy+UaFizCXTSKokDTtIbcJ7UP27ZRqVTYkI7aI4CwAkLUGYIgQBAEuH37NhzHweHDh6OdLo1SLpdx8+ZNjIyM4MCBAw27X2oPJ0+exMzMDFKpVNxDoZjFHkAYPog6h2VZcBwHlmXB932oqtrwKoUkSVHTsrjUajU4joNMJtOytQqmacK2bWSz2a7uFKvrOgzDiHsY1AY4GUtEO7a4uIjr16+jVqs17TEymQxOnz4d62F1s7Oz+PDDD1GpVFr2mHfv3sV7772HUqnUssckilP3xmyiHtLs+XTLslCpVKAoCgYHBwE8WmzajOrAZo3LWi2TyWBkZKSla1Dy+Xx0bg5RL2iLAMLFSESN0awpzWKxiNnZWRw6dAjT09PR5XEHhWYZHx/H+Ph4Sx9zYmICExMTLX1Moji1RQAhovZkWRZWVlYgSRKmpqbYu4OIGoZrQIi6xHbVDyHErv/4vg/LsrCwsAAhBEZHR9k2nYgahhUQoh6w22lO13Xx4MEDqKqKmZkZBg8iajhWQIgIwE+qJJ7nwXVdmKYJz/OQzWahaRo8z+u6bfNCCLiuG53gS0StwwoIUQ8IG4htx3VduK6LpaUlAMDBgwehaRpkWcbKygoWFhYwNTWFgYGBVgy5JWzbxpUrV5BKpXD8+PGuXVRL1I4YQIgIwKMXY9u2YVkWFEXZ0AysW1+cJUlq268tCAJUq1VomsZpMOo6DCBEBCEEisUi1tbWIITY0N+jv78f/f39Xdeh0zAMnDlzpm1DSKVSwXvvvYfR0VGcOXMm7uEQNVR3PZsQ0aa2m4KxbRuO40BRFGSzWQCIznfxPA+maSKRSCCZTLZyyC0hSVJbhypVVTE0NBT9vxB1k/b9zSOihvE8b8sAsrq6ikKhgOnpaeRyOQCPXphlWUalUsHt27cxMjKCqampVg6ZAKRSKTz99NNxD4OoKRhAiHpA2Ndj/W4Pz/NQq9XqznUJpyE8z0OhUEAQBBgdHWUDMiJqOAYQoh7g+35UBQm30pqmiUKhsOntPc/DwsICMpkMDh8+XLcmJAgCyDJ38BPR/jCAEPWQIAjgeR4qlQpc1wXw6OC1TCaDarWKSqWC4eFh6LqO6elpqKpaFzaWlpZQrVYxNjaGVCoV15dBRF2Ab2OIekgYQEzThOM4kCQJiUQCmUwmCiZhhaOvr2/D1ItpmigWi/A8L6avgIi6BSsgRD0iCAIUi0W4rgshBBKJBHK5HBKJBGRZxsjICIQQ0HV9y/sYHx/HyMgIe1IQ0b4xgBD1gCAIok6nnudBVVVomhZttwVQ9++t7OQ2REQ7wQBC1OWEECgUCiiVSgiCALquY3h4GIqiQJKkDU3HiIhagQGEqEuEi0rXcxwnqniE6zk0TatrKhYGEVmWWd0gopZhACHqAkKIaAHpeoVCAZVKBTMzM1GTMaB7z3Uhos7BAELUBYQQde3WXdeNDpcLggBra2twXRf9/f2cctmEbdtYXl5GJpNBf39/3MPpCq7rYnZ2Frqu48CBAwy9tAHrrURdRAgBIQQsy0KhUIBt2wAe9e+Ym5vj9tktVCoV3Lx5E8vLy3EPpWs4joMPP/wQV69erevASxRiBYSoCwRBgHK5DNd1ox0vwKOzRJLJJBKJBDRNa+uD1+KUyWRw7NgxtpxvIF3Xce7cOei6zqobbYrPRkRdQAiBWq0WLToNJRIJZLNZ5HI5aJoW4wjbm2EYmJiY4DRBA2mahsOHD0OSJH5faVMMIERdYv1hc8lkEtlslqGDiNoWAwhRBwoPlAsXn7quC0VRoikWwzCis1pkWd73O1C+gyVqjSAIUK1WoSgK0ul03MNpKgYQog5jmiYqlQqARwFkdXUVAHDo0KEogKzv6cESOFHnKJVK+PrXv47BwUH83M/9XNzDaSoGEKIOEwQBfN+H53nRtIuiKNB1vemLTNmo7NHujmq1ilQqxTNxqOFkWUY6na5rFtitGECIOkw47VIul2FZFgYGBpBMJrnToEVWVlbw4x//GEePHsXBgwfjHg51mWw2i7/8l/9y1J24mzGAEHUYz/Ngmma05da2bciyDCFES6dafN/H2toaVFVFPp/vmWmeRCKBkZGRnniHSq0nSVK0eLzbf6cYQIg6jG3bWFtbiz4ul8twHAcTExMtfcfkeR7u3buHRCKBXC7X9U+Wof7+fnZLJWqA2ANI2LmRqJs14mc87G4qSRKmpqbqrlMUpeVTMKqqYmJiAqqq9kz4IKLGiT2AAI15ciZqZ48fErcXlmVhYWEBo6OjGBsba8Co9kdRFIyOjgLo/lIxETVeWwQQom4W7ljZK9d1sbS0BFVVcfjwYe68IKKuwABC1GRCiF0fxrW+0Zht26hUKshkMsjlcl2/Mr7bCSHgeR4kSeLZPNTT+NNP1GRBEOy6AmJZFlzXRblchiRJmJiYgGEYTRohtZJt27h8+TJSqRTOnDnD6SvqWQwgRE2224XWQgi4rgvbtmHbNlRVhaZpPNelyzB4UK9jACFqQ9VqFdVqFUIIlum7jGEYePbZZ9kin3oen9mIWuBJFRDf9+E4TlQtcV0XQggkk0kYhsF1H12Eaz+IHuFvAVGTha3Tt1Or1bC6ugrf96PbyrKMwcFBBhAi6koMIERtINwpE1ZK0uk0dF2Hoigs0xNRV2IAIWoDj1dJMpkMMplMjCMiImouBhCiJvN9H5ZlbXldrVaD67oAgFQqhVQqVbfl1nVdLC8vI5lMRp1HiYg6HQMIUZNt1Qk1bEhVrVYBPFqcaBgGMplM3ZqPIAhQqVSe+DitPg2XiGg/GECIWuDxRahCiCh45HI5qKoKXdc33R2haRqmpqa23Tnhui7u3r0LXddx4MCBxg6eiKgJGECIWiwIgqg7qizLUaOxrTqdyrIcLUjdSlhNafWJuEREe8UAQtQC6ysg1WoVnudBCNGw7bWapuHo0aMNuS8iolZgACFqsnCHS9hkLPy3qqpQFAWu6+47iLC5FRF1Gj5jETVZ2OXUdd3oVFxJkpBOpyGEQLlcRhAESKfTMY+UiKh12F6RqMkebzIWrveQJAmyLCORSOzooDnbtrG8vBwtXiUi6gSXLl3Cb/3Wb+HKlSt1lzOAEDVZEARwXTdaB2IYBhKJBGRZhizLSKfTWy5AXc+yLMzOzmJtba3ZQyYiapg333wTv/qrv4of/OAHdZe3xRTMk87JIOpElmVhZWUFiqJgeno6ulzTtA1rPhRFqdvBsr6fR1gpyWQymJ6eRiqVav7gqS0tLCxgeXkZU1NTyOfzcQ+HaEf+zJ/5M/i3//bf4sKFC3WXt0UAIepE2wXnIAiiADI4OIiJiYl9P56qqkilUmw21sOKxSLu3buHwcFBBhDqGOfOncO5c+c2PHcxgBA1SBg6XNfF6uoqVFXFgQMHkEgk4h4adYmpqSkMDg4im83GPRSifWMAIWogx3FgWRYqlQpSqRQymQy3x1LDpNNp7pairsFnRqIGWl1dhWmaXNdERPQEDCBEexA2FAu5rhu1Vg93tOxkZwsRUa9iACHahyAI4Ps+Hj58iGq1ioMHDyKZTEbXN6rVOhFRt+GzI9E+2LaNUqkEx3Hg+z4qlQrK5TIAhg8iou2wAkK0D5VKBQsLC9HHCwsL0HUdyWQSuq7HODIiovbGAEK0B5ZloVAowDRNAEAul0MymYQkSVAUBaqqwrZtrK6uIpVKYWBgIOYRd66w/fzo6Ci3NBN1EQYQoj0Iz2UJz3fJ5XLo6+sD8JOpF9d1sbS0hKGhIQaQfSgWi1hcXEQ+n2cAIeoiDCDUM3a7NdZxHHieV3eZ53lYW1uDqqo4ePBgdHkqlYpaqYfd/lKpFA4ePMgXzX0aGxtDX18fMplM3EMhogZiAKGe8Pi22Z0IgqAugARBAMdxsLa2hmw2i8nJyW0/X1XVqCpCmwuCAEEQbNusLZPJMHwQdSEGEKItBEEQTbEEQYCVlRU4jsMmYw00OzuLcrmMI0eOsFJE1GMYQIi2Efb58H0/2mqraRrbqzeIECIKeZ3Ksiz4vo9kMll3ojERbY/PokRb8DwPlmWhXC5HlQ9N07gbo4Gmp6efOAXTzoQQuH79OtbW1nD+/HlOFRHtQmf+1hO1gOd5sG0bnuchCAIYhgFd1/kut4FkWe74hm3h4XD8uSDaHQYQoi1YloVSqQTg0QvlwMAAdF2PdrkQSZKEmZmZuIdB1JEYQKgn+L4Py7J2dFvP81Cr1SDLMoaGhgA8eqFJJpPRO/ZOf9dOjcVQSrR7DCDUE4QQsCxrRwseTdPE6uoqRkdHMTY2tultGECIiPaHAYR6QtgHZLsA4vs+qtUqXNdt4ciIiHoTAwj1jO36dwghoqkXIURUUg+CgNUOIqImYAChnhCuAdmsAhJOz8iyjL6+PsiyDEmSYFkW7ty5g7GxMaRSqRhGTUTUvRhAqGf4vr8hgISNsFzXhaqq0DQtWmQangXDzqftK2yPr+s6K1VEHYYBhHpCGDTWBxAhBGzb3nJtyODgILuetrlCoYBbt27hwIEDmJiYiHs4RLQLfMtAPWN9CAlbrEuSBEmSoCgKFEWp204pyzI0TeMWyzamKApSqRRDYodzXRcPHjxAoVCIeyjUQvytpZ6xvsrhui48z0MikYimXNjJsvP09/ejr6+PIbHDlUolvPnmm5iamsKnP/3puIdDLcIAQj0hPPY9nG4J13V4ngdFUXa9fsC2bZimiWQyyQWqMWP46HyGYeDIkSPo7++PeyjUQgwg1DPCBaXrF5V6ngff93ddwq/Varh//z5GR0cZQIj2KZPJ4KWXXop7GNRiXANCPWN9+FAUBZqmQdf1aJ2H7/solUo7atmeTCYxOTmJbDbb7GET9YyVlRW8/fbbmJ2djXso1AKsgFBPCNd/hOV6RVGgqmq0CDUMILVaDZIkRSecbsUwDCSTyaaPm6iXrK2t4cc//jEMw8DU1FTcw6Emiz2AsMdC79rJuSz7Fa6uVxQFhw8fji6XJKlu3YckSRBCwPf9qDoS7o7ZDNcdEDXe2NgYXn/9dVYWe0TsAYR6W7NCSLjY1HEcWJaFRCLBJzWiNpdKpbimqocwgFBs1u9GeZLHF4/u5Pbz8/MIggBTU1PQdX2vwyQioiZgAKGOsJsA4jhOdFtZlmEYBhtVERG1GT4rU0cIz/zYiZWVFdRqNUxMTCCRSHC9BhFRG2IAoa7hui4cx4Esy0gmk1GHUx5SRo8LggDFYhEA0NfXt20X3CAIUCgUoCgKBgYGGGiJGoQBhDrCVgfGrVetVlEsFjE8PIx0Os11H7QlIQTu3r0Lz/PwzDPPbBtAPM/D1atXYRgG8vk8p/OIGoS/SdQRhBBwXXfT63zfh2VZO2ogRgQ82kY9Pj6OIAieGCgURcHBgwehqiqraUQNxABCHcH3fXiet+l1lmWhVCptuDwIAr5g0KZkWcbY2NiOplMURcH09DSnXogajAGEOpbv+6hWq1EwSaVSSKfT0UFxkiRB13WMj4+zbE5E1Gb4rEwdY/0akLBrqeM4EEJEYSOVSqFWq6FWqwF4NH/fio6rRETdxnEcuK4LVVWb8iaOAYQ6gud5sG0bwKPwYVkWJElCLpeLznIJF5329fVFiwUVReE0DBHRHvzBH/wBvve97+FXfuVXcObMmYbfPwMIdQQhRNQ5VQgBz/Mgy3J0psv6oBEmdV3XuQ2XiGiPwrV3zaoiM4BQxxBCwLbtaM2H7/soFoswDAO5XC7m0RERdZfPfe5zeP311zEwMNCU+2cAoY4QBAE8z4tarCuKUlf9ICKixkokEkgmk01bxM8AQh3Bdd2oz4ckSdH5LoZhxDwyIiLaCwYQik1Y1diO4zgwTROyLGNoaCi6PFzfsT6Zr6+KAI96PQghsLKyAk3T0NfX15Svg4iIdo8BhGITLibdTqVSweLiIsbGxjAyMrLrx3AcBwsLC0gmkwwgRERthAGEYrNdd1PP81AqlaAoCkZGRuC6Lubm5jA4OIhEIrHjx1BVFRMTE2xERkTUZrg/kWIVBMGmf1zXRaVSge/7yOVyCIIAa2trT6yYPE6WZfT19SGbzTbpKyAior3g20KKzfrmYqEgCFCpVCDLMoaHh6FpGgBgYGAA/f39POGWiKhLMIBQbB5fAxK2V7dtG5qmQdf1aIutpmmcRiEi6iJ8RqfYhGe5hCzLgu/7Ua8PIiLqXgwgFKv17dXD8BEefMTjz4mIuhcDCMUmDB2u60ZTMbIsI5vNRms/iIioOzGAUGw2a68eNhNbvxhVlmVkMhmuASEi6iJ8RqfYhNWPkK7r0dSL67pYW1uLrpNlGalUKo5hEhFRE7RFANltbwfqbI7jYHV1FbIsY2JiIrpcVdXocDnf95HJZKJjoFOpVNRifbe4loSIqP3EHkCEENGLDLVWHN/3IAhQq9WwtLSE4eFhjI+Pt3wMREQUv9gDCMWn1dtdPc/D4uJi3dZbIiLqTQwgPWqrylOzqiJhe/Ww14eiKHueUiEios7HANLDXNfdUAVpxpRYEAQoFAoAgPHx8WinC7faEhH1LgaQHhUe+va4sDFYo4TbbIUQUegIF5uyAkJE1LsYQKhOI6sfQgiUSiXYto3BwUHous7QQUREABhAaBONqIB4ngfP8yDLMgzDiPp9JBIJhhAiImIAoXpbTc3slmmaqFQqGBgYQCKRwNLSEiRJQi6Xa8AoiYio0zGAUJ3drAEJ13as5/s+PM+r22orSRIymQwbghERUYQBhOrsZhfM+gWmoXCr7XqSJCGdTm+68DT8XIYTIqLewgBC++b7fnSwnCzLSCQSUFUVqqrWbbX1PA8PHz6EYRgYHh5GuVzG2toaBgcHkc1mY/wKiIio1bgakPYtCIJo6iUIAqiqCl3XkUgkoChK3e1M04RlWQiCALZto1Qq1R1IR0REvYEVENoXIURdQzPP82CaJiRJgq7rdbfVNA2Tk5NRF9S+vj7kcrkNtyMiou7HAEJ7Fi5YDdeBPGl7rSRJMAwjul04TUPUrRzHgeu6MAyDP+tEj+EUDO2JEAKWZcE0zSh8pFIppNNppNNpVjWIAMzPz+Odd97B8vJy3EMhajuM5LTBk3bChFWP9ee5yLJc9w6Pu1qIAF3XkcvleO4R0SYYQKhOGC7CNR2bBRHLsmDbNvL5fN0T6/rQwQBCBIyNjWF0dJS/D0SbYAChLT1eCfF9H77vA0C0loNPrERbkySJvyNEW+AaENrW+oWmnufBsixIksQzXYiIaF9YAaFtOY4TVULCaZlw260kSdHiU4YRIiLaDQYQ2pIQIupyuv58mPVTMbIsI5lMxjVEIiLqUAwgtK314UNRFOi6Hs1rhw3FWP0gIqLdYgChTYVTLusPi1MUBaqqRgFEVVWGD6J98n0frutC0zQ2K6OewlcP2kAIAdM0Ua1WIYSAoijIZDLRwlOu7CdqnPn5ebz99ttYWFiIeyhELcW4TXXC3S5h9SOseqw/VG43PM+DEIKdUYm2oKoqkskkqx/Uc/gTT3Usy0K5XAbwaIFpJpPZst/HTqog5XIZtm1jeHh4zyGGqJuNjo5iZGSE05nUcxhACMCj7baO40ShA/jJ4XFbBY3tnjDDaZpEIhFVUDhtQ81SqVRgmib6+/thGEbcw9mV8HeFvx/UaxhACABQq9WwurqKoaEh9Pf3N+x+8/l83cd8kqVmWFpawoMHD3D69OmOCyBEvYoBpIeFq+9N04QkSejv74frulhdXUU2m+WcNHWMwcFBGIbBnjREHYSTjj3M933Yto1SqQQhBHK5HHzfR6lUihqNEXWCXC6HqakppFKpuIdCRDvEt7g9yvM8FItFuK4LADBNE67rIpFIYGRkhMeHExFRU7EC0kPCM13C9urhdltFUSCEgOM40DQNyWSyKSvyucqfiIhCbVEBWX/kOzVHEASwLAuu66JYLAIApqamNoSCZu5WCR+LC1GJiKgtAsj6g86oeTzPg23bsG07OteFvTmIiLqHEAIrKyuwbbvtp9NZE+8hpVIJKysr8Dwv7qEQEVETCCHwjW98A//+3/97LC0txT2cbcVeAeH0S/OFUy+qqkZNxto5FRMR0d5IkhRNrycSibiHs63YAwjAENII222bLZVKKBQKmJycxMjISHQ5p1+IiLqLJEl4/fXXo3+3s7YIILR/QRBsWEvjui5qtRoAYGBgoK7qwR0pRETdqd2DR4ivQl3C9314nlf3p1aroVAoAHgUQNq9HEdERL2DFZAuIISA53lwXRdBEEQdThVFwcDAANtTExFR22EFpEuEFZDwVFvTNOH7PlKpFBecEhFR22EFpIsIIVCr1XiOCxERtT0GkC4RTr2EbdbDRaae50Ut2GVZ5uJTIiJqCwwgXcI0TVSrVQghoCgKstksPM/D4uJitCJ6YmIC6XQ65pESERG1SQBhH5C9cxwHnudBUZRosamiKDAMA4qiRFtzJUli9YOIiNpG7AFks/4VtHPFYhFra2uYnJxEKpXa9rYMIERE1C5iDyAAD6N73JO+H+G2W9u2Icsy8vk8VFXtmOYzREREsQcQIQR3bTwmXFC6FSEETNPE2toahoaGMDAwwOoGERF1lNgDCO2O53moVCo80ZaIiDoaA0ib2mphru/7qNVq0fWcduk94bZqSZL4/09EHYsBpA2tP0QuJISoa68e4vkuvadQKGBlZQWjo6Po6+uLezhERHvCANKGgiCom2IJ3/G6rgvg0TbbsKmYoihxDZNi4vs+LMtqm8Xb4c+mLMtQVT6lENHO8NmiDYWBY33wEELAMAwIIbCysoJkMolcLhf3UCkGg4OD0c6ndlCtVnHz5k0MDAzgwIEDcQ+HiDpEezyD0abCHinhO91w3UdYAdnvfTuOA1mWYRjGvsdKraMoStuED+DROiRd19tqTETU/viM0cbCE25DlmVB13UMDAzse/Gh67q4f/8+kskkpqamuJiR9iydTuPkyZP8GSKiXWEAaUNho7Gw8iHLcrTjIWw4tt8ne0mSkM1moes6Xzho39iHhoh2iwGkDfm+D8dxoo81TYOiKFEAaQRd1zE+Pt6Q+yIiItqt2API49MMvczzPNRqNUiShP7+/ujyMHyEB8pxrp2IiDpdW7ySMYD8pM9HqVRCLpfb8Q4Xlr6JiKgTxR5AnnTuSacK13Fs1dH08duGO1Ly+TybixERUdeLPYAA3XkabnjI3nYBJLwu3BKr6zoMw+AUCxERdT2+0jVR2Ehsu+vDxaaGYUDTNO5IISKinsAAEpNurPoQERHtFANIEwkhtgwarusiCIKoC6lt2xBCIJlMtnKIREREsWAAaaH157sAj3awrG82FjYcIyIi6nYMIE20fv3H+nNdgiCImovZtg0ASCaTXHxKREQ9g694LRQEwYZFqQwdRETUi/jq1yJbrQfRNA0AOPVCREQ9hQGkidZPuQA/CRsAO5gSEVFvYwBporDq4fv+lotMhRCsfhARUc/h2/AmCTuhhm3mw26n4ceu68JxnB21aiciIuo2rIA0UBgmwspHeHrteuGptmHVY/3He6mE+L6PIAigqioURdn/F0FERNQCsQeQbjqMLqx4hO3V0+n0pgEEABKJxIbpl72sCykWi6hWqxgfH0cqldrH6ImIiFon9gDSTYIggOd5G5qLbeXxisdeKiCqqkLXdS5qJSKijsIA0kCe58F1XQCt21abz+fR39/PAEJERB2FAaQBfN+H53mQJAm6rgNgXw8iIqLttEUA6fSdIJ7nwbIsJBIJJBKJ6HJWJYiIiDbXFgGkkzx+vovrupAkCYlEgm3ViYiIdohv0fco3L0T9vLQdZ3bYImIiHaIb9n3IAgC2La96dkuRERE9GQMILskhIi6nLKNOhER0d4wgOyCEAKWZUXhQ1EUJBIJhhAiIqJdYgDZofUn2wohoiZjzdjpEnZU1TSNO2mIiKgrMYDsgBACtm3XNRlLpVJ7Pr/lSarVKiqVCgYHB5FOpxt+/0RERHFriwDSzn1Awt0ukiRB0zQAGw+UazRVVZFKpbitt0tYlgXLspBKper6xBAR9bK2eYVr1xDiui4cx0EikYCmaS1Z75FKpZDL5Zr+ONQalUoFs7OzmJ6eZgAhIvpTbRNA2k14sByAqMcHF5vSXqTTaUxMTHA6jYhonbYIIO1Y/QiCAI7jQNd16LrO8EF7lkwmGT6IiB4TewARQrRVQy8hRF17de5CISIiary2CCDhn3YQLjpVFKXrFoGG32NWc4iIKG5t8fa+XcKH4zjwPA+apkU7XrrJ0tIS7t27F20nJiIiikt3vcXfo8crMLIsx1IlWN/krBnaJegRERExgADwPA9BEMTeedR1XVQqFeRyOei63vD7Hx4eBgCuayEiotj19CvR+gWw66seYcv1VpNlOdry26z7Z/ggov1yXRcPHjzA8vJyW1dWy+Uy7ty5g7W1tbiHQpvo6Vcj3/fhOA4URYmajAkhorUgraaqKvL5PJLJZMsfm4hop0zTxA9+8AN8/PHHbR1A5ubm8K1vfQt3796Neyi0iZ4MIEKIKGCoqlq33kOSpOgyx3Hg+z6AR9M0tm1vWhnxfR+2bUe33atmtncnImoUwzBw9OhRTE1NtfVzVn9/P5555plo+pla69atW/h3/+7f4bvf/e6m1/dkAFnf5fTxALL+svUBxHVd2La9adoPA0gcVRMiolZLJBJ46qmnMDMz09YBZHR0FC+99BLGx8fjHkpPunr1Kv7pP/2n+OY3v7np9V2/CHV9YBBC1B0st916CFmWkUgkEAQBLMuqm6Z5nKqqSCaTTVu7QURE1Gmefvpp/NZv/RZOnTq16fVdH0CAn4SQ3TQZCxdsuq77xN4g4W3b+Z0AERFRK01OTuLpp5/e8rWx6wNIuNNlr+szVFWFoijcPUJERNRAPRFA9tPqPVwYyuoGERFR43R9APF9P9q5sn6HCxEREcWnawNIWPWQJCmaPllfyVi/nZbTK93P8zxYlgVVVZFIJOIeDhFRz+vaV17P86ImY7quQ9f1aOdL2Gws/BNH11NqrVqthlu3bqFQKMQ9FCIiQhdWQMID3SRJgqIom063hNet/5i6m6ZpGBgYQCqVinsoRESELgsg4Y6XcNvsVltteSZK70kkEpiamop7GERE9Ke65lU4bK++l+22vu+ziykREVELdVUA8X1/T9ttwwCy30OV2vlQJiIionbS0VMw4U4Xz/MgSRJ0XY+u830fvu9v2T59PU3TonUj+xGeoptIJNiWnYiIaBsdXQEJA0i48DRc2xGu79hpA7L1W3X3O571VZhwXERERFSvYysgYeVjqy204QLUVu5wCbf7SpIEIQSq1SpkWUY6neZOGyIionXaIoDstkqw/vbhC7skSQiCINbW6eurKOGUDoMHERHRRrEHkCAIdt0ILGyvHlYbwvsJG49tdWptK0mShEwmE/2biIiIfiL2ALJTYdUj/Ht9e/Xw781OrQ3DTRx9Pxg8iIiINte2AeTxaZn1C07DoLH+BX6r5mLhOhHDMBgIiIiI2kTbBpD11u90AVC36+VJNgsrRNRZhBBYWFiA53kYGxvbsssxEXWOjvktXl8RCashO+ndwX4cRJ1PCIGlpSVYloWhoSEGEKIu0Na/xWHlI/R4vw5WNYh6gyRJmJ6ehhCiruEgEXWutg0g66scoTi32BJRfCRJQl9fX9zDIKIGatsAsn7NR1j5aHbwcBwHkiS1xTZeIiKibtZ2AeTx7bYAWlr1YOt0IiKi5muLALL+RX/9WSphb49WhQ/OLRMREbVGWwQQYOOaj52s94i79ToRtY8gCFCpVOB5HvL5PHfAEbW5tjkN9/GW7IqiPPEJxPM8uK7b7KERUYe4f/8+rl69Ctu24x4KET1B7BWQx5uM7aaiwXc4P1EulxEEAbLZLL8v1LMGBweRTqfZJ4SoA7TFb+l2vT6206z1Ievvs1OmdtbW1mDbNpLJJAMI9SRZljE2Nhb3MIhohzYEkFbtAjFNE3Nzc9A0DSdOnIgu380LfjMPmGvEupK9jC/8nJ2GiHCMhmHA931kMpltH7edAlWrxxLHgYTN0g7/j80ew17+v9rh+0JEO9PyCkhY7XAcB0tLSxgeHsbhw4dbPYyuk06n4x4CERHRjtUFECEEfN9v6gO6rotbt25BlmWcPn2aW1+JiIh6UF0AWb8YtBHWr+0AHu1asSwLpVIJiUSCCyaJiLZgWRZkWeabNOpaG6ZgPM9r2J3bth1thwuCAAsLC6jVanAcB4lEomGPQ0TUTRzHwaVLl6DrOs6dO9dV65eIQhumYB6vWuyH7/uwLAtBEEQdThVFQTabRTqd5oIxIqJNSJKEZDIJVVX5PEldq6mLUF3XhWmaKJfLsG0b4+PjSKfT6Ovrg6qqTPVERJvQNA1PP/00AO7soe7V1ATgeR5qtRo8z0MQBDBNE5VKBQB/qYiItsMjJqjbNTWAOI6DcrkctUtfXV3F8vJy03faEBERUXtryhSMZVlYXl6GLMuYnp6uu05RFLZJJiIi6nEbFqHuZxtu+LmWZWFhYQGjo6OYmJiou40sy9HW2yAIuA6EiIioBzWkFXsQBFhdXYVt26jVatB1HUeOHNl2q221WsX9+/fR19eHqampXT8mERERda4NAWQv23CFEKjVajBNE9VqFdlsFrlcbtvqRhAEqFQq7AdCRETUgxq2GKNaraJWq+24gpJKpfDUU09xPQgREVEP2rAGZKeCIEAQBNEWW1VVYRgGAER/b0dRFLYYJiIi6lEbzoKxLGtHn2hZFmzbxtraGlzXxeHDh6PpFFmWuX+diIiItrTnCojneTBNE67rwvd9yLIcrfngzhYiIiLazp4XYFiWhbW1NQAMHERERLQ7dQFk/eFxW/UE8X0/6mw6NDQE4FEA4WJSIiIi2qkNAcS2bbiuC8/zNv0Ex3FgmiaGhoaiAAKAAYSIiIh27ImpQQgR7XQJ/yYiIiLaj20DSDgN4/s+giCIpl6Axp1mGwYa7pwhorgFQQDf96GqKp+PiJpsR6tHXdeNwoeqqshkMg3r4bG6uopLly5hcXGxIfdHRLRXS0tLuHTpEpaXl+MeClHXe2IFxPf9qBISHiT3pHcHYbUkvI2u61vulFn/GEREcQobLPL5iKj5tg0gtVoNnudF4SOdTu+oLFmpVHD37t3ol/jAgQMYGBjY9LYDAwPo6+vjVl4iit3IyAgGBwe5qJ6oBTb9LQu32obvBFRVjRqN7SSAKIqCVCr1kwfZ5pc5rKoQEcVNURQ+HxG1yKbJwHEcVKtVAI8WmyaTyQ2/lNsFkXQ6jSNHjkCSJC7kIiIiog3qAojneahUKtGCU8MwoKoqdF3fECQsy4LjOEin09B1HYVCAZIkoa+vDwAYPoiIaFue5+HOnTtQFAUzMzOsPvWYugDiOA7K5XL0cSqVig6Ye1y5XEalUsHk5CRUVcXi4iKEEMhms/whIqKu1ytvsJr5dbqui8uXL0PTNBw8eJCvHXvUqYumVQBYWVnBH/7hH2Jubg4AcPr0aRw+fBi6rm+5fiPcmptOp6EoCk6ePAkAyOfz0YLSzX5ww8vY94OI2sl2z0ePX7ff564nfX4znhs3e17eyePsZyzbVcIlSYLnefipn/opyLKMwcFBSJK07YaEvYyl0d/Lzb5/j/+93pM2WOxnfMvLy/i///f/4tChQ3j11Vc77jVVtSwLKysruHTpElzXRSKRwMzMDF544YW4x0ZERF1u/ZEevWp9gFkfFCVJilpfbHZbx3Fw+fLlLW/z+GOsrzApirJlOHp8MXb4cbgZZf3nheNcHzYf//eWX/enP/1pUSwWcfnyZXz2s5/FP/gH/wD9/f3I5XJbfhIRERE11lbBYauqlWVZmJ+fRyaTwdjY2Lb38/jlT6r4rb9eUZQN4eJJnx8GFk3TNjxm+Lf6J3/yJ9GV4+Pj+PSnP73lnRIREVH7OHr0aNxD2LP/D4fm+wP+8kvcAAAAAElFTkSuQmCC\" y=\"-9.693219\"/>\r\n   </g>\r\n   <g id=\"matplotlib.axis_1\">\r\n    <g id=\"xtick_1\">\r\n     <g id=\"line2d_1\">\r\n      <defs>\r\n       <path d=\"M 0 0 \r\nL 0 3.5 \r\n\" id=\"m1d66266856\" style=\"stroke:#000000;stroke-width:0.8;\"/>\r\n      </defs>\r\n      <g>\r\n       <use style=\"stroke:#000000;stroke-width:0.8;\" x=\"34.1935\" xlink:href=\"#m1d66266856\" y=\"553.693219\"/>\r\n      </g>\r\n     </g>\r\n     <g id=\"text_1\">\r\n      <!-- 0 -->\r\n      <g transform=\"translate(31.01225 568.291656)scale(0.1 -0.1)\">\r\n       <defs>\r\n        <path d=\"M 31.78125 66.40625 \r\nQ 24.171875 66.40625 20.328125 58.90625 \r\nQ 16.5 51.421875 16.5 36.375 \r\nQ 16.5 21.390625 20.328125 13.890625 \r\nQ 24.171875 6.390625 31.78125 6.390625 \r\nQ 39.453125 6.390625 43.28125 13.890625 \r\nQ 47.125 21.390625 47.125 36.375 \r\nQ 47.125 51.421875 43.28125 58.90625 \r\nQ 39.453125 66.40625 31.78125 66.40625 \r\nz\r\nM 31.78125 74.21875 \r\nQ 44.046875 74.21875 50.515625 64.515625 \r\nQ 56.984375 54.828125 56.984375 36.375 \r\nQ 56.984375 17.96875 50.515625 8.265625 \r\nQ 44.046875 -1.421875 31.78125 -1.421875 \r\nQ 19.53125 -1.421875 13.0625 8.265625 \r\nQ 6.59375 17.96875 6.59375 36.375 \r\nQ 6.59375 54.828125 13.0625 64.515625 \r\nQ 19.53125 74.21875 31.78125 74.21875 \r\nz\r\n\" id=\"DejaVuSans-48\"/>\r\n       </defs>\r\n       <use xlink:href=\"#DejaVuSans-48\"/>\r\n      </g>\r\n     </g>\r\n    </g>\r\n    <g id=\"xtick_2\">\r\n     <g id=\"line2d_2\">\r\n      <g>\r\n       <use style=\"stroke:#000000;stroke-width:0.8;\" x=\"124.7935\" xlink:href=\"#m1d66266856\" y=\"553.693219\"/>\r\n      </g>\r\n     </g>\r\n     <g id=\"text_2\">\r\n      <!-- 50 -->\r\n      <g transform=\"translate(118.431 568.291656)scale(0.1 -0.1)\">\r\n       <defs>\r\n        <path d=\"M 10.796875 72.90625 \r\nL 49.515625 72.90625 \r\nL 49.515625 64.59375 \r\nL 19.828125 64.59375 \r\nL 19.828125 46.734375 \r\nQ 21.96875 47.46875 24.109375 47.828125 \r\nQ 26.265625 48.1875 28.421875 48.1875 \r\nQ 40.625 48.1875 47.75 41.5 \r\nQ 54.890625 34.8125 54.890625 23.390625 \r\nQ 54.890625 11.625 47.5625 5.09375 \r\nQ 40.234375 -1.421875 26.90625 -1.421875 \r\nQ 22.3125 -1.421875 17.546875 -0.640625 \r\nQ 12.796875 0.140625 7.71875 1.703125 \r\nL 7.71875 11.625 \r\nQ 12.109375 9.234375 16.796875 8.0625 \r\nQ 21.484375 6.890625 26.703125 6.890625 \r\nQ 35.15625 6.890625 40.078125 11.328125 \r\nQ 45.015625 15.765625 45.015625 23.390625 \r\nQ 45.015625 31 40.078125 35.4375 \r\nQ 35.15625 39.890625 26.703125 39.890625 \r\nQ 22.75 39.890625 18.8125 39.015625 \r\nQ 14.890625 38.140625 10.796875 36.28125 \r\nz\r\n\" id=\"DejaVuSans-53\"/>\r\n       </defs>\r\n       <use xlink:href=\"#DejaVuSans-53\"/>\r\n       <use x=\"63.623047\" xlink:href=\"#DejaVuSans-48\"/>\r\n      </g>\r\n     </g>\r\n    </g>\r\n    <g id=\"xtick_3\">\r\n     <g id=\"line2d_3\">\r\n      <g>\r\n       <use style=\"stroke:#000000;stroke-width:0.8;\" x=\"215.3935\" xlink:href=\"#m1d66266856\" y=\"553.693219\"/>\r\n      </g>\r\n     </g>\r\n     <g id=\"text_3\">\r\n      <!-- 100 -->\r\n      <g transform=\"translate(205.84975 568.291656)scale(0.1 -0.1)\">\r\n       <defs>\r\n        <path d=\"M 12.40625 8.296875 \r\nL 28.515625 8.296875 \r\nL 28.515625 63.921875 \r\nL 10.984375 60.40625 \r\nL 10.984375 69.390625 \r\nL 28.421875 72.90625 \r\nL 38.28125 72.90625 \r\nL 38.28125 8.296875 \r\nL 54.390625 8.296875 \r\nL 54.390625 0 \r\nL 12.40625 0 \r\nz\r\n\" id=\"DejaVuSans-49\"/>\r\n       </defs>\r\n       <use xlink:href=\"#DejaVuSans-49\"/>\r\n       <use x=\"63.623047\" xlink:href=\"#DejaVuSans-48\"/>\r\n       <use x=\"127.246094\" xlink:href=\"#DejaVuSans-48\"/>\r\n      </g>\r\n     </g>\r\n    </g>\r\n    <g id=\"xtick_4\">\r\n     <g id=\"line2d_4\">\r\n      <g>\r\n       <use style=\"stroke:#000000;stroke-width:0.8;\" x=\"305.9935\" xlink:href=\"#m1d66266856\" y=\"553.693219\"/>\r\n      </g>\r\n     </g>\r\n     <g id=\"text_4\">\r\n      <!-- 150 -->\r\n      <g transform=\"translate(296.44975 568.291656)scale(0.1 -0.1)\">\r\n       <use xlink:href=\"#DejaVuSans-49\"/>\r\n       <use x=\"63.623047\" xlink:href=\"#DejaVuSans-53\"/>\r\n       <use x=\"127.246094\" xlink:href=\"#DejaVuSans-48\"/>\r\n      </g>\r\n     </g>\r\n    </g>\r\n    <g id=\"xtick_5\">\r\n     <g id=\"line2d_5\">\r\n      <g>\r\n       <use style=\"stroke:#000000;stroke-width:0.8;\" x=\"396.5935\" xlink:href=\"#m1d66266856\" y=\"553.693219\"/>\r\n      </g>\r\n     </g>\r\n     <g id=\"text_5\">\r\n      <!-- 200 -->\r\n      <g transform=\"translate(387.04975 568.291656)scale(0.1 -0.1)\">\r\n       <defs>\r\n        <path d=\"M 19.1875 8.296875 \r\nL 53.609375 8.296875 \r\nL 53.609375 0 \r\nL 7.328125 0 \r\nL 7.328125 8.296875 \r\nQ 12.9375 14.109375 22.625 23.890625 \r\nQ 32.328125 33.6875 34.8125 36.53125 \r\nQ 39.546875 41.84375 41.421875 45.53125 \r\nQ 43.3125 49.21875 43.3125 52.78125 \r\nQ 43.3125 58.59375 39.234375 62.25 \r\nQ 35.15625 65.921875 28.609375 65.921875 \r\nQ 23.96875 65.921875 18.8125 64.3125 \r\nQ 13.671875 62.703125 7.8125 59.421875 \r\nL 7.8125 69.390625 \r\nQ 13.765625 71.78125 18.9375 73 \r\nQ 24.125 74.21875 28.421875 74.21875 \r\nQ 39.75 74.21875 46.484375 68.546875 \r\nQ 53.21875 62.890625 53.21875 53.421875 \r\nQ 53.21875 48.921875 51.53125 44.890625 \r\nQ 49.859375 40.875 45.40625 35.40625 \r\nQ 44.1875 33.984375 37.640625 27.21875 \r\nQ 31.109375 20.453125 19.1875 8.296875 \r\nz\r\n\" id=\"DejaVuSans-50\"/>\r\n       </defs>\r\n       <use xlink:href=\"#DejaVuSans-50\"/>\r\n       <use x=\"63.623047\" xlink:href=\"#DejaVuSans-48\"/>\r\n       <use x=\"127.246094\" xlink:href=\"#DejaVuSans-48\"/>\r\n      </g>\r\n     </g>\r\n    </g>\r\n    <g id=\"xtick_6\">\r\n     <g id=\"line2d_6\">\r\n      <g>\r\n       <use style=\"stroke:#000000;stroke-width:0.8;\" x=\"487.1935\" xlink:href=\"#m1d66266856\" y=\"553.693219\"/>\r\n      </g>\r\n     </g>\r\n     <g id=\"text_6\">\r\n      <!-- 250 -->\r\n      <g transform=\"translate(477.64975 568.291656)scale(0.1 -0.1)\">\r\n       <use xlink:href=\"#DejaVuSans-50\"/>\r\n       <use x=\"63.623047\" xlink:href=\"#DejaVuSans-53\"/>\r\n       <use x=\"127.246094\" xlink:href=\"#DejaVuSans-48\"/>\r\n      </g>\r\n     </g>\r\n    </g>\r\n   </g>\r\n   <g id=\"matplotlib.axis_2\">\r\n    <g id=\"ytick_1\">\r\n     <g id=\"line2d_7\">\r\n      <defs>\r\n       <path d=\"M 0 0 \r\nL -3.5 0 \r\n\" id=\"m42074b32a3\" style=\"stroke:#000000;stroke-width:0.8;\"/>\r\n      </defs>\r\n      <g>\r\n       <use style=\"stroke:#000000;stroke-width:0.8;\" x=\"33.2875\" xlink:href=\"#m42074b32a3\" y=\"10.999219\"/>\r\n      </g>\r\n     </g>\r\n     <g id=\"text_7\">\r\n      <!-- 0 -->\r\n      <g transform=\"translate(19.925 14.798438)scale(0.1 -0.1)\">\r\n       <use xlink:href=\"#DejaVuSans-48\"/>\r\n      </g>\r\n     </g>\r\n    </g>\r\n    <g id=\"ytick_2\">\r\n     <g id=\"line2d_8\">\r\n      <g>\r\n       <use style=\"stroke:#000000;stroke-width:0.8;\" x=\"33.2875\" xlink:href=\"#m42074b32a3\" y=\"101.599219\"/>\r\n      </g>\r\n     </g>\r\n     <g id=\"text_8\">\r\n      <!-- 50 -->\r\n      <g transform=\"translate(13.5625 105.398438)scale(0.1 -0.1)\">\r\n       <use xlink:href=\"#DejaVuSans-53\"/>\r\n       <use x=\"63.623047\" xlink:href=\"#DejaVuSans-48\"/>\r\n      </g>\r\n     </g>\r\n    </g>\r\n    <g id=\"ytick_3\">\r\n     <g id=\"line2d_9\">\r\n      <g>\r\n       <use style=\"stroke:#000000;stroke-width:0.8;\" x=\"33.2875\" xlink:href=\"#m42074b32a3\" y=\"192.199219\"/>\r\n      </g>\r\n     </g>\r\n     <g id=\"text_9\">\r\n      <!-- 100 -->\r\n      <g transform=\"translate(7.2 195.998438)scale(0.1 -0.1)\">\r\n       <use xlink:href=\"#DejaVuSans-49\"/>\r\n       <use x=\"63.623047\" xlink:href=\"#DejaVuSans-48\"/>\r\n       <use x=\"127.246094\" xlink:href=\"#DejaVuSans-48\"/>\r\n      </g>\r\n     </g>\r\n    </g>\r\n    <g id=\"ytick_4\">\r\n     <g id=\"line2d_10\">\r\n      <g>\r\n       <use style=\"stroke:#000000;stroke-width:0.8;\" x=\"33.2875\" xlink:href=\"#m42074b32a3\" y=\"282.799219\"/>\r\n      </g>\r\n     </g>\r\n     <g id=\"text_10\">\r\n      <!-- 150 -->\r\n      <g transform=\"translate(7.2 286.598438)scale(0.1 -0.1)\">\r\n       <use xlink:href=\"#DejaVuSans-49\"/>\r\n       <use x=\"63.623047\" xlink:href=\"#DejaVuSans-53\"/>\r\n       <use x=\"127.246094\" xlink:href=\"#DejaVuSans-48\"/>\r\n      </g>\r\n     </g>\r\n    </g>\r\n    <g id=\"ytick_5\">\r\n     <g id=\"line2d_11\">\r\n      <g>\r\n       <use style=\"stroke:#000000;stroke-width:0.8;\" x=\"33.2875\" xlink:href=\"#m42074b32a3\" y=\"373.399219\"/>\r\n      </g>\r\n     </g>\r\n     <g id=\"text_11\">\r\n      <!-- 200 -->\r\n      <g transform=\"translate(7.2 377.198438)scale(0.1 -0.1)\">\r\n       <use xlink:href=\"#DejaVuSans-50\"/>\r\n       <use x=\"63.623047\" xlink:href=\"#DejaVuSans-48\"/>\r\n       <use x=\"127.246094\" xlink:href=\"#DejaVuSans-48\"/>\r\n      </g>\r\n     </g>\r\n    </g>\r\n    <g id=\"ytick_6\">\r\n     <g id=\"line2d_12\">\r\n      <g>\r\n       <use style=\"stroke:#000000;stroke-width:0.8;\" x=\"33.2875\" xlink:href=\"#m42074b32a3\" y=\"463.999219\"/>\r\n      </g>\r\n     </g>\r\n     <g id=\"text_12\">\r\n      <!-- 250 -->\r\n      <g transform=\"translate(7.2 467.798438)scale(0.1 -0.1)\">\r\n       <use xlink:href=\"#DejaVuSans-50\"/>\r\n       <use x=\"63.623047\" xlink:href=\"#DejaVuSans-53\"/>\r\n       <use x=\"127.246094\" xlink:href=\"#DejaVuSans-48\"/>\r\n      </g>\r\n     </g>\r\n    </g>\r\n   </g>\r\n   <g id=\"patch_3\">\r\n    <path d=\"M 33.2875 553.693219 \r\nL 33.2875 10.093219 \r\n\" style=\"fill:none;stroke:#000000;stroke-linecap:square;stroke-linejoin:miter;stroke-width:0.8;\"/>\r\n   </g>\r\n   <g id=\"patch_4\">\r\n    <path d=\"M 576.8875 553.693219 \r\nL 576.8875 10.093219 \r\n\" style=\"fill:none;stroke:#000000;stroke-linecap:square;stroke-linejoin:miter;stroke-width:0.8;\"/>\r\n   </g>\r\n   <g id=\"patch_5\">\r\n    <path d=\"M 33.2875 553.693219 \r\nL 576.8875 553.693219 \r\n\" style=\"fill:none;stroke:#000000;stroke-linecap:square;stroke-linejoin:miter;stroke-width:0.8;\"/>\r\n   </g>\r\n   <g id=\"patch_6\">\r\n    <path d=\"M 33.2875 10.093219 \r\nL 576.8875 10.093219 \r\n\" style=\"fill:none;stroke:#000000;stroke-linecap:square;stroke-linejoin:miter;stroke-width:0.8;\"/>\r\n   </g>\r\n  </g>\r\n </g>\r\n <defs>\r\n  <clipPath id=\"pd5678df1ea\">\r\n   <rect height=\"543.6\" width=\"543.6\" x=\"33.2875\" y=\"10.093219\"/>\r\n  </clipPath>\r\n </defs>\r\n</svg>\r\n",
            "image/png": "[encoded data removed]"
          },
          "metadata": {
            "needs_background": "light"
          }
        }
      ],
      "source": [
        "from sklearn import datasets\n",
        "from pyclustertend import ivat\n",
        "from pyclustertend import assess_tendency_by_metric as atm\n",
        "import pyclustertend\n",
        "from sklearn.preprocessing import scale\n",
        "X = scale(X_train_scale[19000:19300])\n",
        "ivat(X)\n",
        "atm(X)\n",
        "help(pyclustertend)\n",
        "\n",
        "from pyclustertend import hopkins\n",
        "hopkins(X,100)\n"
      ]
    },
    {
      "cell_type": "code",
      "execution_count": 10,
      "metadata": {},
      "outputs": [
        {
          "output_type": "error",
          "ename": "SyntaxError",
          "evalue": "EOF while scanning triple-quoted string literal (<ipython-input-10-7c1e71e5c6ea>, line 19)",
          "traceback": [
            "\u001b[1;36m  File \u001b[1;32m\"<ipython-input-10-7c1e71e5c6ea>\"\u001b[1;36m, line \u001b[1;32m19\u001b[0m\n\u001b[1;33m    plt.show()\u001b[0m\n\u001b[1;37m              \n^\u001b[0m\n\u001b[1;31mSyntaxError\u001b[0m\u001b[1;31m:\u001b[0m EOF while scanning triple-quoted string literal\n"
          ]
        }
      ],
      "source": [
        "'''\n",
        "# K-means próba 45-nél van egy törés a görbében. Ezt fogjuk továbbvinni\n",
        "from sklearn.cluster import KMeans\n",
        "labnum=[]\n",
        "dist=[]\n",
        "for cnum in range(10,80):\n",
        "    km = KMeans(n_clusters=cnum)\n",
        "    print(\"#_\",end=\"\")\n",
        "    km.fit(X_train_scale)\n",
        "    km.predict(X_train_scale[0:5000])\n",
        "    #labelnum=km.n_clusters\n",
        "    labnum.append(cnum)\n",
        "    dist.append(km.inertia_)\n",
        "plt.figure(figsize=(16,8))\n",
        "plt.plot(labnum, dist, 'bx-')\n",
        "plt.xlabel('k')\n",
        "plt.ylabel('Distortion')\n",
        "plt.title('The Elbow Method showing the optimal k')\n",
        "plt.show()"
      ]
    },
    {
      "cell_type": "code",
      "execution_count": 107,
      "metadata": {},
      "outputs": [
        {
          "output_type": "error",
          "ename": "AttributeError",
          "evalue": "'DataFrame' object has no attribute 'view'",
          "traceback": [
            "\u001b[1;31m---------------------------------------------------------------------------\u001b[0m",
            "\u001b[1;31mAttributeError\u001b[0m                            Traceback (most recent call last)",
            "\u001b[1;32m<ipython-input-107-24e7afb1c5cd>\u001b[0m in \u001b[0;36m<module>\u001b[1;34m\u001b[0m\n\u001b[1;32m----> 1\u001b[1;33m \u001b[0mprint\u001b[0m\u001b[1;33m(\u001b[0m\u001b[1;33m(\u001b[0m\u001b[0mX_train_ok\u001b[0m\u001b[1;33m.\u001b[0m\u001b[0mview\u001b[0m\u001b[1;33m(\u001b[0m\u001b[1;33m)\u001b[0m\u001b[1;33m)\u001b[0m\u001b[1;33m)\u001b[0m\u001b[1;33m\u001b[0m\u001b[1;33m\u001b[0m\u001b[0m\n\u001b[0m",
            "\u001b[1;32m~\\AppData\\Local\\Programs\\Python\\Python38\\lib\\site-packages\\pandas\\core\\generic.py\u001b[0m in \u001b[0;36m__getattr__\u001b[1;34m(self, name)\u001b[0m\n\u001b[0;32m   5137\u001b[0m             \u001b[1;32mif\u001b[0m \u001b[0mself\u001b[0m\u001b[1;33m.\u001b[0m\u001b[0m_info_axis\u001b[0m\u001b[1;33m.\u001b[0m\u001b[0m_can_hold_identifiers_and_holds_name\u001b[0m\u001b[1;33m(\u001b[0m\u001b[0mname\u001b[0m\u001b[1;33m)\u001b[0m\u001b[1;33m:\u001b[0m\u001b[1;33m\u001b[0m\u001b[1;33m\u001b[0m\u001b[0m\n\u001b[0;32m   5138\u001b[0m                 \u001b[1;32mreturn\u001b[0m \u001b[0mself\u001b[0m\u001b[1;33m[\u001b[0m\u001b[0mname\u001b[0m\u001b[1;33m]\u001b[0m\u001b[1;33m\u001b[0m\u001b[1;33m\u001b[0m\u001b[0m\n\u001b[1;32m-> 5139\u001b[1;33m             \u001b[1;32mreturn\u001b[0m \u001b[0mobject\u001b[0m\u001b[1;33m.\u001b[0m\u001b[0m__getattribute__\u001b[0m\u001b[1;33m(\u001b[0m\u001b[0mself\u001b[0m\u001b[1;33m,\u001b[0m \u001b[0mname\u001b[0m\u001b[1;33m)\u001b[0m\u001b[1;33m\u001b[0m\u001b[1;33m\u001b[0m\u001b[0m\n\u001b[0m\u001b[0;32m   5140\u001b[0m \u001b[1;33m\u001b[0m\u001b[0m\n\u001b[0;32m   5141\u001b[0m     \u001b[1;32mdef\u001b[0m \u001b[0m__setattr__\u001b[0m\u001b[1;33m(\u001b[0m\u001b[0mself\u001b[0m\u001b[1;33m,\u001b[0m \u001b[0mname\u001b[0m\u001b[1;33m:\u001b[0m \u001b[0mstr\u001b[0m\u001b[1;33m,\u001b[0m \u001b[0mvalue\u001b[0m\u001b[1;33m)\u001b[0m \u001b[1;33m->\u001b[0m \u001b[1;32mNone\u001b[0m\u001b[1;33m:\u001b[0m\u001b[1;33m\u001b[0m\u001b[1;33m\u001b[0m\u001b[0m\n",
            "\u001b[1;31mAttributeError\u001b[0m: 'DataFrame' object has no attribute 'view'"
          ]
        }
      ],
      "source": [
        "print((X_train_ok.view()))"
      ]
    },
    {
      "cell_type": "code",
      "execution_count": 82,
      "metadata": {},
      "outputs": [
        {
          "output_type": "stream",
          "name": "stdout",
          "text": [
            "(260601, 66)\n(260601, 1)\n(260601, 67)\n"
          ]
        }
      ],
      "source": [
        "#pakoljuk bele a damage-et is a listába\n",
        "print(X_train_scale.shape)\n",
        "y_train_np=y_train_ok.damage_grade.to_numpy().reshape(260601,1)\n",
        "print(y_train_np.shape)\n",
        "\n",
        "X_np_all=np.concatenate((X_train_scale,y_train_np),axis=1)\n",
        "print(X_np_all.shape)\n"
      ]
    },
    {
      "cell_type": "code",
      "execution_count": 33,
      "metadata": {},
      "outputs": [
        {
          "output_type": "stream",
          "name": "stdout",
          "text": [
            "DBSCAN fitting start:\n",
            "DBSCAN prediction start:\n"
          ]
        },
        {
          "output_type": "execute_result",
          "data": {
            "text/plain": [
              "1093"
            ]
          },
          "metadata": {},
          "execution_count": 33
        }
      ],
      "source": [
        "from sklearn.cluster import DBSCAN\n",
        "cnum=45 # ez jött ki az előző tesztből\n",
        "km = DBSCAN(eps=5)\n",
        "print(\"DBSCAN fitting start:\")\n",
        "km.fit(X_train_scale[0000:10000])  # km.fit(X_train_scale)\n",
        "print(\"DBSCAN prediction start:\")\n",
        "#km.fit(X_train_ok) #km.predict(X_train_scale)\n",
        "list(km.labels_).count(-1)"
      ]
    },
    {
      "cell_type": "code",
      "execution_count": 37,
      "metadata": {},
      "outputs": [
        {
          "output_type": "stream",
          "name": "stdout",
          "text": [
            "[[0, 0, 0, 0, 0], [0, 0, 0, 0, 0], [0, 0, 0, 0, 0], [0, 0, 0, 0, 0], [0, 0, 0, 0, 0], [0, 0, 0, 0, 0], [0, 0, 0, 0, 0], [0, 0, 0, 0, 0], [0, 0, 0, 0, 0], [0, 0, 0, 0, 0], [0, 0, 0, 0, 0], [0, 0, 0, 0, 0], [0, 0, 0, 0, 0], [0, 0, 0, 0, 0], [0, 0, 0, 0, 0], [0, 0, 0, 0, 0], [0, 0, 0, 0, 0], [0, 0, 0, 0, 0], [0, 0, 0, 0, 0], [0, 0, 0, 0, 0], [0, 0, 0, 0, 0], [0, 0, 0, 0, 0], [0, 0, 0, 0, 0], [0, 0, 0, 0, 0], [0, 0, 0, 0, 0], [0, 0, 0, 0, 0], [0, 0, 0, 0, 0], [0, 0, 0, 0, 0], [0, 0, 0, 0, 0], [0, 0, 0, 0, 0], [0, 0, 0, 0, 0], [0, 0, 0, 0, 0], [0, 0, 0, 0, 0], [0, 0, 0, 0, 0], [0, 0, 0, 0, 0], [0, 0, 0, 0, 0], [0, 0, 0, 0, 0], [0, 0, 0, 0, 0], [0, 0, 0, 0, 0], [0, 0, 0, 0, 0], [0, 0, 0, 0, 0], [0, 0, 0, 0, 0], [0, 0, 0, 0, 0], [0, 0, 0, 0, 0], [0, 0, 0, 0, 0], [0, 0, 0, 0, 0], [0, 0, 0, 0, 0], [0, 0, 0, 0, 0], [0, 0, 0, 0, 0], [0, 0, 0, 0, 0], [0, 0, 0, 0, 0], [0, 0, 0, 0, 0], [0, 0, 0, 0, 0], [0, 0, 0, 0, 0], [0, 0, 0, 0, 0]]\n"
          ]
        }
      ],
      "source": [
        "# Statisztaki kell a km_labels és a y_train_ok közé\n",
        "a=[0,0,0,0]\n",
        "kmcluster_list=[]\n",
        "for i in range(max(km.labels_)+1):\n",
        "    kmcluster_list.append([0,0,0,0,0])\n",
        "print(kmcluster_list) "
      ]
    },
    {
      "cell_type": "code",
      "execution_count": 38,
      "metadata": {
        "tags": []
      },
      "outputs": [
        {
          "output_type": "stream",
          "name": "stdout",
          "text": [
            "[[0, 289, 3449, 2401, 0], [0, 12, 120, 78, 0], [0, 12, 293, 155, 0], [0, 30, 19, 0, 0], [0, 2, 7, 0, 0], [0, 4, 95, 108, 0], [0, 60, 138, 35, 0], [0, 101, 214, 33, 0], [0, 16, 7, 0, 0], [0, 5, 39, 20, 0], [0, 2, 8, 13, 0], [0, 0, 31, 17, 0], [0, 2, 23, 4, 0], [0, 7, 156, 88, 0], [0, 0, 6, 0, 0], [0, 0, 42, 53, 0], [0, 1, 28, 35, 0], [0, 4, 36, 25, 0], [0, 2, 10, 2, 0], [0, 8, 6, 0, 0], [0, 3, 20, 13, 0], [0, 12, 50, 3, 0], [0, 7, 7, 0, 0], [0, 23, 7, 1, 0], [0, 9, 2, 0, 0], [0, 18, 10, 0, 0], [0, 0, 18, 4, 0], [0, 32, 26, 2, 0], [0, 12, 18, 2, 0], [0, 9, 7, 0, 0], [0, 4, 4, 0, 0], [0, 4, 4, 1, 0], [0, 0, 1, 6, 0], [0, 1, 37, 9, 0], [0, 0, 9, 2, 0], [0, 5, 22, 0, 0], [0, 7, 2, 0, 0], [0, 6, 8, 9, 0], [0, 0, 2, 4, 0], [0, 5, 1, 0, 0], [0, 3, 2, 0, 0], [0, 0, 5, 4, 0], [0, 3, 1, 0, 0], [0, 1, 7, 2, 0], [0, 4, 2, 0, 0], [0, 0, 5, 2, 0], [0, 0, 3, 1, 0], [0, 1, 4, 1, 0], [0, 1, 2, 2, 0], [0, 1, 3, 1, 0], [0, 0, 4, 3, 0], [0, 0, 3, 2, 0], [0, 1, 2, 2, 0], [0, 1, 3, 1, 0], [0, 236, 650, 212, 0]]\n"
          ]
        }
      ],
      "source": [
        "\n",
        "for inx,km_cluster in enumerate(km.labels_):\n",
        "    #print(inx,km_cluster)\n",
        "    ind2=y_train_ok.damage_grade[inx]\n",
        "    #print(km_cluster,\":\",inx,\":\",ind2,\" - \", end=\"\")\n",
        "    res=kmcluster_list[km_cluster][ind2]+1\n",
        "    kmcluster_list[km_cluster][ind2]=res\n",
        "    if inx%1000==0:\n",
        "        pass\n",
        "        #print(inx,\"\\n\",kmcluster_list)\n",
        "print(kmcluster_list)"
      ]
    },
    {
      "cell_type": "code",
      "execution_count": 56,
      "metadata": {},
      "outputs": [
        {
          "output_type": "stream",
          "name": "stdout",
          "text": [
            "5\n"
          ]
        }
      ],
      "source": [
        "kmcluster_list[1][2]=5\n",
        "print(kmcluster_list[3][2])"
      ]
    },
    {
      "cell_type": "code",
      "metadata": {
        "colab": {
          "base_uri": "https://localhost:8080/"
        },
        "id": "KpEo_arRSK-Y",
        "outputId": "ed01a5e0-f52e-4b28-afc5-4711ca297ada",
        "tags": []
      },
      "source": [
        "# XGBClassifier\n",
        "\n",
        "from xgboost import XGBClassifier  # 72.09\n",
        "# max_depth=10 : 72.79857561664441\n",
        "\n",
        "XGB = XGBClassifier(verbosity=3,max_depth = 13,n_estimators=100,loss=\"deviance\", criterion=\"mae\")\n",
        "\n",
        "print(\"Fit: Inlier betanitás Start--\")\n",
        "\n",
        "XGB.fit(km.labels_, y_train_ok)\n",
        "\n",
        "print(\"Fit End - Prediction Start \")\n"
      ],
      "execution_count": 19,
      "outputs": [
        {
          "output_type": "stream",
          "name": "stdout",
          "text": [
            "Fit: Inlier betanitás Start--\n"
          ]
        },
        {
          "output_type": "error",
          "ename": "ValueError",
          "evalue": "Please reshape the input data X into 2-dimensional matrix.",
          "traceback": [
            "\u001b[1;31m---------------------------------------------------------------------------\u001b[0m",
            "\u001b[1;31mValueError\u001b[0m                                Traceback (most recent call last)",
            "\u001b[1;32m<ipython-input-19-59c430c65172>\u001b[0m in \u001b[0;36m<module>\u001b[1;34m\u001b[0m\n\u001b[0;32m      8\u001b[0m \u001b[0mprint\u001b[0m\u001b[1;33m(\u001b[0m\u001b[1;34m\"Fit: Inlier betanitás Start--\"\u001b[0m\u001b[1;33m)\u001b[0m\u001b[1;33m\u001b[0m\u001b[1;33m\u001b[0m\u001b[0m\n\u001b[0;32m      9\u001b[0m \u001b[1;33m\u001b[0m\u001b[0m\n\u001b[1;32m---> 10\u001b[1;33m \u001b[0mXGB\u001b[0m\u001b[1;33m.\u001b[0m\u001b[0mfit\u001b[0m\u001b[1;33m(\u001b[0m\u001b[0mkm\u001b[0m\u001b[1;33m.\u001b[0m\u001b[0mlabels_\u001b[0m\u001b[1;33m,\u001b[0m \u001b[0my_train_ok\u001b[0m\u001b[1;33m)\u001b[0m\u001b[1;33m\u001b[0m\u001b[1;33m\u001b[0m\u001b[0m\n\u001b[0m\u001b[0;32m     11\u001b[0m \u001b[1;33m\u001b[0m\u001b[0m\n\u001b[0;32m     12\u001b[0m \u001b[0mprint\u001b[0m\u001b[1;33m(\u001b[0m\u001b[1;34m\"Fit End - Prediction Start \"\u001b[0m\u001b[1;33m)\u001b[0m\u001b[1;33m\u001b[0m\u001b[1;33m\u001b[0m\u001b[0m\n",
            "\u001b[1;32m~\\AppData\\Local\\Programs\\Python\\Python38\\lib\\site-packages\\xgboost\\sklearn.py\u001b[0m in \u001b[0;36mfit\u001b[1;34m(self, X, y, sample_weight, base_margin, eval_set, eval_metric, early_stopping_rounds, verbose, xgb_model, sample_weight_eval_set, callbacks)\u001b[0m\n\u001b[0;32m    816\u001b[0m             \u001b[1;31m# Simply raise an error here since there might be many\u001b[0m\u001b[1;33m\u001b[0m\u001b[1;33m\u001b[0m\u001b[1;33m\u001b[0m\u001b[0m\n\u001b[0;32m    817\u001b[0m             \u001b[1;31m# different ways of reshaping\u001b[0m\u001b[1;33m\u001b[0m\u001b[1;33m\u001b[0m\u001b[1;33m\u001b[0m\u001b[0m\n\u001b[1;32m--> 818\u001b[1;33m             raise ValueError(\n\u001b[0m\u001b[0;32m    819\u001b[0m                 'Please reshape the input data X into 2-dimensional matrix.')\n\u001b[0;32m    820\u001b[0m \u001b[1;33m\u001b[0m\u001b[0m\n",
            "\u001b[1;31mValueError\u001b[0m: Please reshape the input data X into 2-dimensional matrix."
          ]
        }
      ]
    },
    {
      "cell_type": "code",
      "execution_count": null,
      "metadata": {},
      "outputs": [],
      "source": [
        "print(y_train_train_out)"
      ]
    },
    {
      "cell_type": "code",
      "execution_count": null,
      "metadata": {},
      "outputs": [],
      "source": [
        "# test the traing\n",
        "#------------------------------------\n",
        "\n",
        "y_pred_train=knn.predict(X_train_train)\n",
        "\n",
        "#------------------------------------"
      ]
    },
    {
      "cell_type": "code",
      "execution_count": null,
      "metadata": {},
      "outputs": [],
      "source": [
        "check_similarity_np(y_pred_train,y_train_train)"
      ]
    },
    {
      "cell_type": "code",
      "metadata": {
        "id": "ut8Tk6p4tMUr"
      },
      "source": [
        "# the prediction\n",
        "#------------------------------------\n",
        "\n",
        "y_pred_test=knn.predict(X_test_lda)\n",
        "\n",
        "#------------------------------------"
      ],
      "execution_count": null,
      "outputs": []
    },
    {
      "cell_type": "code",
      "metadata": {
        "colab": {
          "base_uri": "https://localhost:8080/"
        },
        "id": "IyQx3aPoyim9",
        "outputId": "785937c2-57e6-4e74-edd6-7e3b81a4748e"
      },
      "source": [
        "check_similarity_np(y_pred_test,y_train_test)"
      ],
      "execution_count": null,
      "outputs": []
    },
    {
      "cell_type": "code",
      "execution_count": null,
      "metadata": {},
      "outputs": [],
      "source": [
        "# futtass ez felett !!"
      ]
    },
    {
      "cell_type": "code",
      "metadata": {
        "colab": {
          "base_uri": "https://localhost:8080/"
        },
        "id": "QAuqcJ7xke4c",
        "outputId": "cf1018c8-fad5-4bb6-9bfa-788d2c5e5ab9"
      },
      "source": [
        "#outfile generation\r\n",
        "y_pred_ok=knn.predict(X_pred_ok)\r\n",
        "print(\"Prediction End\")\r\n",
        "\r\n",
        "X_pred_bd=pd.read_csv(basedir+\"/orig/test_values.csv\")\r\n",
        "\r\n",
        "y_pred_ok_int=[]\r\n",
        "for i in range(len(y_pred_ok)):\r\n",
        "    y_pred_ok_int.append(int(y_pred_ok[i]))"
      ],
      "execution_count": null,
      "outputs": []
    },
    {
      "cell_type": "code",
      "metadata": {
        "colab": {
          "base_uri": "https://localhost:8080/"
        },
        "id": "wD9rzAN4pBR5",
        "outputId": "ab2363f0-11eb-4e5a-c1a4-a71d12168323"
      },
      "source": [
        "buildingid=X_pred_bd[\"building_id\"]\r\n",
        "head2=y_pred_ok_int\r\n",
        "\r\n",
        "\r\n",
        "outdf=pd.DataFrame(data={\"damage_grade\":y_pred_ok_int} ,index=buildingid)\r\n",
        "outdf.index.name=\"building_id\"\r\n",
        "\r\n",
        "\r\n",
        "outdf.head()\r\n",
        "st=24\r\n",
        "sts=str(st)\r\n",
        "outdf.to_csv(basedir+\"/out/submission_\"+sts+\"_xgboost.csv\")\r\n",
        "print()\r\n",
        "print(basedir+\"/out/submission_\"+sts+\"_xgboost.csv\")"
      ],
      "execution_count": null,
      "outputs": []
    },
    {
      "cell_type": "code",
      "metadata": {
        "colab": {
          "base_uri": "https://localhost:8080/"
        },
        "id": "PjkOA2B1Pys6",
        "outputId": "e76ee986-189a-401e-9df9-722850ff2e5b"
      },
      "source": [
        "if not( _PCVERSION_):\r\n",
        "    !head \"/content/drive/My Drive/001_AI/_EarthQuake/gpos_lin/out/submission_24_xgboost.csv\""
      ],
      "execution_count": null,
      "outputs": []
    }
  ]
}