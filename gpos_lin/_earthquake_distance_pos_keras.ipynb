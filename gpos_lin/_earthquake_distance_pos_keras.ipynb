{
  "nbformat": 4,
  "nbformat_minor": 0,
  "metadata": {
    "colab": {
      "name": "_earthquake_distance_LDA.ipynb",
      "provenance": []
    },
    "kernelspec": {
      "name": "python3",
      "display_name": "Python 3",
      "language": "python"
    }
  },
  "cells": [
    {
      "cell_type": "code",
      "execution_count": 127,
      "metadata": {},
      "outputs": [],
      "source": [
        "import tensorflow\n"
      ]
    },
    {
      "cell_type": "code",
      "execution_count": 128,
      "metadata": {},
      "outputs": [],
      "source": [
        "\n",
        "\n",
        "_PCVERSION_=True\n",
        "\n",
        "\n",
        "if _PCVERSION_:\n",
        "    basedir=\"C:/Users/sipocz/OneDrive/Dokumentumok/GitHub/_EarthQuake/gpos_lin\"\n",
        "else:\n",
        "    from google.colab import drive\n",
        "    drive.mount('/content/drive',force_remount=True)\n",
        "    basedir=\"/content/drive/My Drive/001_AI/_EarthQuake/gpos_lin\"\n",
        "\n",
        "import numpy as np\n",
        "import pandas as pd\n",
        "import matplotlib.pyplot as plt\n",
        "\n",
        "\n",
        "#--------------scikit import \n",
        "from sklearn.ensemble import IsolationForest\n",
        "from sklearn.metrics import accuracy_score\n",
        "from sklearn.preprocessing import MinMaxScaler\n",
        "from sklearn.model_selection import train_test_split\n",
        "#--------------\n",
        "\n",
        "def outlierStatistic(X_train_predict):\n",
        "    print(X_train_predict)\n",
        "    maxX=len(X_train_predict)\n",
        "    outlier=0\n",
        "    for i in X_train_predict:\n",
        "        if i==-1:\n",
        "            outlier+=1\n",
        "    print(f\"A összes ({maxX} darabból {outlier} darab outlier van. Az {outlier/maxX*100:5.1f} %.)\")\n",
        "\n",
        "\n",
        "def checkvalues(df,columnname,key):\n",
        "    print(f\"{columnname} ellenőrzése !\")\n",
        "    numok=0\n",
        "    numerr=0\n",
        "    for i in df.index:\n",
        "        if df.at[i,columnname] in key:\n",
        "            #print(df.at[i,columnname])\n",
        "            numok+=1\n",
        "            pass\n",
        "        else:\n",
        "            numerr+=1\n",
        "            print(df.at[i,columnname],end=\", \")\n",
        "    sumall=numok+numerr\n",
        "    print(f\"\\n{sumall} mintából {numerr} db nem volt megfelelő\")\n",
        "\n",
        "\n",
        "def createcolumn(df,columnname,keys):\n",
        "    print(f\"{columnname} cseréje megy\")\n",
        "    for key in keys:\n",
        "        df[keys[key]]=0\n",
        "    for key in keys:\n",
        "        for i in df.index:\n",
        "            if df.at[i,columnname]==key:\n",
        "                df.at[i,keys[key]]=1\n",
        "\n",
        "\n",
        "def create_dict(idx,list):\n",
        "    o={}\n",
        "    for i in list:\n",
        "        o[i]=idx+\"_\"+str(i)\n",
        "    return o\n",
        "\n",
        "def create_base_data(df):\n",
        "    t=['n', 't', 'o']\n",
        "    columnname=\"land_surface_condition\"\n",
        "    key=create_dict(columnname,t)\n",
        "\n",
        "\n",
        "    #checkvalues(df,columnname,key)\n",
        "    createcolumn(df,columnname,key)\n",
        "\n",
        "    t= ['h', 'w', 'i', 'r', 'u']\n",
        "    columnname=\"foundation_type\"\n",
        "    key=create_dict(columnname,t)\n",
        "\n",
        "    #checkvalues(df,columnname,key)\n",
        "    createcolumn(df,columnname,key)\n",
        "\n",
        "    t=  ['q', 'n', 'x']\n",
        "    columnname=\"roof_type\"\n",
        "    key=create_dict(columnname,t)\n",
        "\n",
        "    #checkvalues(df,columnname,key)\n",
        "    createcolumn(df,columnname,key)\n",
        "\n",
        "    t=  ['z', 'v', 'f', 'm', 'x']\n",
        "    columnname=\"ground_floor_type\"\n",
        "    key=create_dict(columnname,t)\n",
        "\n",
        "    #checkvalues(df,columnname,key)\n",
        "    createcolumn(df,columnname,key)\n",
        "\n",
        "    t=   ['q', 's', 'j', 'x']\n",
        "    columnname=\"other_floor_type\"\n",
        "    key=create_dict(columnname,t)\n",
        "\n",
        "    #checkvalues(df,columnname,key)\n",
        "    createcolumn(df,columnname,key)\n",
        "\n",
        "    t=   ['j', 's', 't', 'o']\n",
        "    columnname=\"position\"\n",
        "    key=create_dict(columnname,t)\n",
        "\n",
        "    #checkvalues(df,columnname,key)\n",
        "    createcolumn(df,columnname,key)\n",
        "\n",
        "    t=   ['c', 's', 'f', 'd', 'm', 'a', 'q', 'u', 'n', 'o']\n",
        "    columnname=\"plan_configuration\"\n",
        "    key=create_dict(columnname,t)\n",
        "\n",
        "    #checkvalues(df,columnname,key)\n",
        "    createcolumn(df,columnname,key)\n",
        "\n",
        "    t=['a', 'w', 'r', 'v']\n",
        "    columnname=\"legal_ownership_status\"\n",
        "    key=create_dict(columnname,t)\n",
        "\n",
        "    #checkvalues(df,columnname,key)\n",
        "    createcolumn(df,columnname,key)\n",
        "\n",
        "    # level 1: 0-30, level 2: 0-1427, level 3: 0-12567.\n",
        "    # level1:0--30\n",
        "    # level2: 0.0000-----------0.9999\n",
        "    # level3: 0.000000000------0.000099999\n",
        "    '''\n",
        "    l1=df.geo_level_1_id\n",
        "    l2=(df.geo_level_2_id/1427*9999)/10000\n",
        "    l3=(df.geo_level_2_id/12567*99999)/1000000000\n",
        "    df[\"geopos\"]=l1+l2+l3\n",
        "    '''\n",
        "    return(df)\n",
        "\n",
        "\n",
        "\n",
        "def kill_columns(df):\n",
        "    notkey=[\"Unnamed: 0\",\"building_id\",\"legal_ownership_status\", \"land_surface_condition\",\t\"foundation_type\",\t\"roof_type\",\t\"ground_floor_type\",\t\"other_floor_type\",\t\"position\",\t\"plan_configuration\"]\n",
        "    for i in df.columns:\n",
        "        #print(i)\n",
        "        if i in notkey:\n",
        "            df.drop(columns=[i], inplace=True)\n",
        "    return df\n",
        "\n",
        "\n",
        "\n",
        "\n",
        "\n"
      ]
    },
    {
      "cell_type": "code",
      "execution_count": 129,
      "metadata": {},
      "outputs": [],
      "source": [
        "def check_similarity_np(np1,np2):\n",
        "    db=0\n",
        "    maxi=0\n",
        "    for ind, i1 in enumerate(np1):\n",
        "        maxi+=1\n",
        "        i2=np2[ind]\n",
        "        if i1!=i2:\n",
        "            db+=1\n",
        "    #print(f\"{ind}. eset:  {i:3},{i2:3}\")\n",
        "    print(f\"hiba:{db} max:{maxi} -- error:{db/maxi*100.0 : 2.6} good %:{100-db/maxi*100.0 : 2.6} %\")\n",
        "    return(1-db/maxi)"
      ]
    },
    {
      "cell_type": "code",
      "metadata": {
        "colab": {
          "base_uri": "https://localhost:8080/",
          "height": 502
        },
        "id": "HZHYUIgKIlT9",
        "outputId": "3740844a-f48c-4b06-87fd-f1eddb0431ab"
      },
      "source": [
        "\n",
        "features_train=basedir+\"/orig/train_values.csv\"\n",
        "labels_train=basedir+\"/orig/train_labels.csv\"\n",
        "features_predict=basedir+\"/orig/test_values.csv\"\n",
        "X_train=pd.read_csv(features_train)\n",
        "X_pred=pd.read_csv(features_predict)\n",
        "y_train=pd.read_csv(labels_train)\n",
        "\n"
      ],
      "execution_count": 130,
      "outputs": []
    },
    {
      "cell_type": "code",
      "execution_count": 131,
      "metadata": {},
      "outputs": [
        {
          "output_type": "execute_result",
          "data": {
            "text/plain": [
              "Index(['building_id', 'geo_level_1_id', 'geo_level_2_id', 'geo_level_3_id',\n",
              "       'count_floors_pre_eq', 'age', 'area_percentage', 'height_percentage',\n",
              "       'land_surface_condition', 'foundation_type', 'roof_type',\n",
              "       'ground_floor_type', 'other_floor_type', 'position',\n",
              "       'plan_configuration', 'has_superstructure_adobe_mud',\n",
              "       'has_superstructure_mud_mortar_stone', 'has_superstructure_stone_flag',\n",
              "       'has_superstructure_cement_mortar_stone',\n",
              "       'has_superstructure_mud_mortar_brick',\n",
              "       'has_superstructure_cement_mortar_brick', 'has_superstructure_timber',\n",
              "       'has_superstructure_bamboo', 'has_superstructure_rc_non_engineered',\n",
              "       'has_superstructure_rc_engineered', 'has_superstructure_other',\n",
              "       'legal_ownership_status', 'count_families', 'has_secondary_use',\n",
              "       'has_secondary_use_agriculture', 'has_secondary_use_hotel',\n",
              "       'has_secondary_use_rental', 'has_secondary_use_institution',\n",
              "       'has_secondary_use_school', 'has_secondary_use_industry',\n",
              "       'has_secondary_use_health_post', 'has_secondary_use_gov_office',\n",
              "       'has_secondary_use_use_police', 'has_secondary_use_other'],\n",
              "      dtype='object')"
            ]
          },
          "metadata": {},
          "execution_count": 131
        }
      ],
      "source": [
        "X_train.columns"
      ]
    },
    {
      "cell_type": "code",
      "execution_count": 132,
      "metadata": {},
      "outputs": [],
      "source": [
        "added=pd.concat([X_train.geo_level_1_id,X_train.geo_level_2_id,X_train.geo_level_3_id,y_train.damage_grade], axis=1)"
      ]
    },
    {
      "cell_type": "code",
      "execution_count": 133,
      "metadata": {},
      "outputs": [],
      "source": [
        "#added"
      ]
    },
    {
      "cell_type": "code",
      "execution_count": 134,
      "metadata": {},
      "outputs": [
        {
          "output_type": "display_data",
          "data": {
            "text/plain": "<Figure size 432x288 with 1 Axes>",
            "image/svg+xml": "<?xml version=\"1.0\" encoding=\"utf-8\" standalone=\"no\"?>\r\n<!DOCTYPE svg PUBLIC \"-//W3C//DTD SVG 1.1//EN\"\r\n  \"http://www.w3.org/Graphics/SVG/1.1/DTD/svg11.dtd\">\r\n<!-- Created with matplotlib (https://matplotlib.org/) -->\r\n<svg height=\"248.518125pt\" version=\"1.1\" viewBox=\"0 0 388.0125 248.518125\" width=\"388.0125pt\" xmlns=\"http://www.w3.org/2000/svg\" xmlns:xlink=\"http://www.w3.org/1999/xlink\">\r\n <metadata>\r\n  <rdf:RDF xmlns:cc=\"http://creativecommons.org/ns#\" xmlns:dc=\"http://purl.org/dc/elements/1.1/\" xmlns:rdf=\"http://www.w3.org/1999/02/22-rdf-syntax-ns#\">\r\n   <cc:Work>\r\n    <dc:type rdf:resource=\"http://purl.org/dc/dcmitype/StillImage\"/>\r\n    <dc:date>2021-02-11T22:43:03.749972</dc:date>\r\n    <dc:format>image/svg+xml</dc:format>\r\n    <dc:creator>\r\n     <cc:Agent>\r\n      <dc:title>Matplotlib v3.3.3, https://matplotlib.org/</dc:title>\r\n     </cc:Agent>\r\n    </dc:creator>\r\n   </cc:Work>\r\n  </rdf:RDF>\r\n </metadata>\r\n <defs>\r\n  <style type=\"text/css\">*{stroke-linecap:butt;stroke-linejoin:round;}</style>\r\n </defs>\r\n <g id=\"figure_1\">\r\n  <g id=\"patch_1\">\r\n   <path d=\"M 0 248.518125 \r\nL 388.0125 248.518125 \r\nL 388.0125 0 \r\nL 0 0 \r\nz\r\n\" style=\"fill:none;\"/>\r\n  </g>\r\n  <g id=\"axes_1\">\r\n   <g id=\"patch_2\">\r\n    <path d=\"M 46.0125 224.64 \r\nL 380.8125 224.64 \r\nL 380.8125 7.2 \r\nL 46.0125 7.2 \r\nz\r\n\" style=\"fill:#ffffff;\"/>\r\n   </g>\r\n   <g id=\"patch_3\">\r\n    <path clip-path=\"url(#pd295877d6e)\" d=\"M 61.230682 224.64 \r\nL 71.048864 224.64 \r\nL 71.048864 217.598028 \r\nL 61.230682 217.598028 \r\nz\r\n\" style=\"fill:#1f77b4;\"/>\r\n   </g>\r\n   <g id=\"patch_4\">\r\n    <path clip-path=\"url(#pd295877d6e)\" d=\"M 71.048864 224.64 \r\nL 80.867045 224.64 \r\nL 80.867045 221.054355 \r\nL 71.048864 221.054355 \r\nz\r\n\" style=\"fill:#1f77b4;\"/>\r\n   </g>\r\n   <g id=\"patch_5\">\r\n    <path clip-path=\"url(#pd295877d6e)\" d=\"M 80.867045 224.64 \r\nL 90.685227 224.64 \r\nL 90.685227 221.865533 \r\nL 80.867045 221.865533 \r\nz\r\n\" style=\"fill:#1f77b4;\"/>\r\n   </g>\r\n   <g id=\"patch_6\">\r\n    <path clip-path=\"url(#pd295877d6e)\" d=\"M 90.685227 224.64 \r\nL 100.503409 224.64 \r\nL 100.503409 192.369192 \r\nL 90.685227 192.369192 \r\nz\r\n\" style=\"fill:#1f77b4;\"/>\r\n   </g>\r\n   <g id=\"patch_7\">\r\n    <path clip-path=\"url(#pd295877d6e)\" d=\"M 100.503409 224.64 \r\nL 110.321591 224.64 \r\nL 110.321591 190.746834 \r\nL 100.503409 190.746834 \r\nz\r\n\" style=\"fill:#1f77b4;\"/>\r\n   </g>\r\n   <g id=\"patch_8\">\r\n    <path clip-path=\"url(#pd295877d6e)\" d=\"M 110.321591 224.64 \r\nL 120.139773 224.64 \r\nL 120.139773 221.936071 \r\nL 110.321591 221.936071 \r\nz\r\n\" style=\"fill:#1f77b4;\"/>\r\n   </g>\r\n   <g id=\"patch_9\">\r\n    <path clip-path=\"url(#pd295877d6e)\" d=\"M 120.139773 224.64 \r\nL 129.957955 224.64 \r\nL 129.957955 153.503147 \r\nL 120.139773 153.503147 \r\nz\r\n\" style=\"fill:#1f77b4;\"/>\r\n   </g>\r\n   <g id=\"patch_10\">\r\n    <path clip-path=\"url(#pd295877d6e)\" d=\"M 129.957955 224.64 \r\nL 139.776136 224.64 \r\nL 139.776136 146.014439 \r\nL 129.957955 146.014439 \r\nz\r\n\" style=\"fill:#1f77b4;\"/>\r\n   </g>\r\n   <g id=\"patch_11\">\r\n    <path clip-path=\"url(#pd295877d6e)\" d=\"M 139.776136 224.64 \r\nL 149.594318 224.64 \r\nL 149.594318 108.100648 \r\nL 139.776136 108.100648 \r\nz\r\n\" style=\"fill:#1f77b4;\"/>\r\n   </g>\r\n   <g id=\"patch_12\">\r\n    <path clip-path=\"url(#pd295877d6e)\" d=\"M 149.594318 224.64 \r\nL 159.4125 224.64 \r\nL 159.4125 216.833874 \r\nL 149.594318 216.833874 \r\nz\r\n\" style=\"fill:#1f77b4;\"/>\r\n   </g>\r\n   <g id=\"patch_13\">\r\n    <path clip-path=\"url(#pd295877d6e)\" d=\"M 159.4125 224.64 \r\nL 169.230682 224.64 \r\nL 169.230682 121.643807 \r\nL 159.4125 121.643807 \r\nz\r\n\" style=\"fill:#1f77b4;\"/>\r\n   </g>\r\n   <g id=\"patch_14\">\r\n    <path clip-path=\"url(#pd295877d6e)\" d=\"M 169.230682 224.64 \r\nL 179.048864 224.64 \r\nL 179.048864 187.46685 \r\nL 169.230682 187.46685 \r\nz\r\n\" style=\"fill:#1f77b4;\"/>\r\n   </g>\r\n   <g id=\"patch_15\">\r\n    <path clip-path=\"url(#pd295877d6e)\" d=\"M 179.048864 224.64 \r\nL 188.867045 224.64 \r\nL 188.867045 216.586993 \r\nL 179.048864 216.586993 \r\nz\r\n\" style=\"fill:#1f77b4;\"/>\r\n   </g>\r\n   <g id=\"patch_16\">\r\n    <path clip-path=\"url(#pd295877d6e)\" d=\"M 188.867045 224.64 \r\nL 198.685227 224.64 \r\nL 198.685227 208.569255 \r\nL 188.867045 208.569255 \r\nz\r\n\" style=\"fill:#1f77b4;\"/>\r\n   </g>\r\n   <g id=\"patch_17\">\r\n    <path clip-path=\"url(#pd295877d6e)\" d=\"M 198.685227 224.64 \r\nL 208.503409 224.64 \r\nL 208.503409 221.395285 \r\nL 198.685227 221.395285 \r\nz\r\n\" style=\"fill:#1f77b4;\"/>\r\n   </g>\r\n   <g id=\"patch_18\">\r\n    <path clip-path=\"url(#pd295877d6e)\" d=\"M 208.503409 224.64 \r\nL 218.321591 224.64 \r\nL 218.321591 218.949992 \r\nL 208.503409 218.949992 \r\nz\r\n\" style=\"fill:#1f77b4;\"/>\r\n   </g>\r\n   <g id=\"patch_19\">\r\n    <path clip-path=\"url(#pd295877d6e)\" d=\"M 218.321591 224.64 \r\nL 228.139773 224.64 \r\nL 228.139773 213.542134 \r\nL 218.321591 213.542134 \r\nz\r\n\" style=\"fill:#1f77b4;\"/>\r\n   </g>\r\n   <g id=\"patch_20\">\r\n    <path clip-path=\"url(#pd295877d6e)\" d=\"M 228.139773 224.64 \r\nL 237.957955 224.64 \r\nL 237.957955 17.554286 \r\nL 228.139773 17.554286 \r\nz\r\n\" style=\"fill:#1f77b4;\"/>\r\n   </g>\r\n   <g id=\"patch_21\">\r\n    <path clip-path=\"url(#pd295877d6e)\" d=\"M 237.957955 224.64 \r\nL 247.776136 224.64 \r\nL 247.776136 197.236265 \r\nL 237.957955 197.236265 \r\nz\r\n\" style=\"fill:#1f77b4;\"/>\r\n   </g>\r\n   <g id=\"patch_22\">\r\n    <path clip-path=\"url(#pd295877d6e)\" d=\"M 247.776136 224.64 \r\nL 257.594318 224.64 \r\nL 257.594318 223.86409 \r\nL 247.776136 223.86409 \r\nz\r\n\" style=\"fill:#1f77b4;\"/>\r\n   </g>\r\n   <g id=\"patch_23\">\r\n    <path clip-path=\"url(#pd295877d6e)\" d=\"M 257.594318 224.64 \r\nL 267.4125 224.64 \r\nL 267.4125 200.598542 \r\nL 257.594318 200.598542 \r\nz\r\n\" style=\"fill:#1f77b4;\"/>\r\n   </g>\r\n   <g id=\"patch_24\">\r\n    <path clip-path=\"url(#pd295877d6e)\" d=\"M 267.4125 224.64 \r\nL 277.230682 224.64 \r\nL 277.230682 122.243374 \r\nL 267.4125 122.243374 \r\nz\r\n\" style=\"fill:#1f77b4;\"/>\r\n   </g>\r\n   <g id=\"patch_25\">\r\n    <path clip-path=\"url(#pd295877d6e)\" d=\"M 277.230682 224.64 \r\nL 287.048864 224.64 \r\nL 287.048864 215.035173 \r\nL 277.230682 215.035173 \r\nz\r\n\" style=\"fill:#1f77b4;\"/>\r\n   </g>\r\n   <g id=\"patch_26\">\r\n    <path clip-path=\"url(#pd295877d6e)\" d=\"M 287.048864 224.64 \r\nL 296.867045 224.64 \r\nL 296.867045 221.336504 \r\nL 287.048864 221.336504 \r\nz\r\n\" style=\"fill:#1f77b4;\"/>\r\n   </g>\r\n   <g id=\"patch_27\">\r\n    <path clip-path=\"url(#pd295877d6e)\" d=\"M 296.867045 224.64 \r\nL 306.685227 224.64 \r\nL 306.685227 223.08818 \r\nL 296.867045 223.08818 \r\nz\r\n\" style=\"fill:#1f77b4;\"/>\r\n   </g>\r\n   <g id=\"patch_28\">\r\n    <path clip-path=\"url(#pd295877d6e)\" d=\"M 306.685227 224.64 \r\nL 316.503409 224.64 \r\nL 316.503409 215.564203 \r\nL 306.685227 215.564203 \r\nz\r\n\" style=\"fill:#1f77b4;\"/>\r\n   </g>\r\n   <g id=\"patch_29\">\r\n    <path clip-path=\"url(#pd295877d6e)\" d=\"M 316.503409 224.64 \r\nL 326.321591 224.64 \r\nL 326.321591 201.809432 \r\nL 316.503409 201.809432 \r\nz\r\n\" style=\"fill:#1f77b4;\"/>\r\n   </g>\r\n   <g id=\"patch_30\">\r\n    <path clip-path=\"url(#pd295877d6e)\" d=\"M 326.321591 224.64 \r\nL 336.139773 224.64 \r\nL 336.139773 153.397342 \r\nL 326.321591 153.397342 \r\nz\r\n\" style=\"fill:#1f77b4;\"/>\r\n   </g>\r\n   <g id=\"patch_31\">\r\n    <path clip-path=\"url(#pd295877d6e)\" d=\"M 336.139773 224.64 \r\nL 345.957955 224.64 \r\nL 345.957955 223.370329 \r\nL 336.139773 223.370329 \r\nz\r\n\" style=\"fill:#1f77b4;\"/>\r\n   </g>\r\n   <g id=\"patch_32\">\r\n    <path clip-path=\"url(#pd295877d6e)\" d=\"M 345.957955 224.64 \r\nL 355.776136 224.64 \r\nL 355.776136 224.181508 \r\nL 345.957955 224.181508 \r\nz\r\n\" style=\"fill:#1f77b4;\"/>\r\n   </g>\r\n   <g id=\"patch_33\">\r\n    <path clip-path=\"url(#pd295877d6e)\" d=\"M 355.776136 224.64 \r\nL 365.594318 224.64 \r\nL 365.594318 221.030842 \r\nL 355.776136 221.030842 \r\nz\r\n\" style=\"fill:#1f77b4;\"/>\r\n   </g>\r\n   <g id=\"matplotlib.axis_1\">\r\n    <g id=\"xtick_1\">\r\n     <g id=\"line2d_1\">\r\n      <defs>\r\n       <path d=\"M 0 0 \r\nL 0 3.5 \r\n\" id=\"m5190f74257\" style=\"stroke:#000000;stroke-width:0.8;\"/>\r\n      </defs>\r\n      <g>\r\n       <use style=\"stroke:#000000;stroke-width:0.8;\" x=\"61.230682\" xlink:href=\"#m5190f74257\" y=\"224.64\"/>\r\n      </g>\r\n     </g>\r\n     <g id=\"text_1\">\r\n      <!-- 0 -->\r\n      <g transform=\"translate(58.049432 239.238437)scale(0.1 -0.1)\">\r\n       <defs>\r\n        <path d=\"M 31.78125 66.40625 \r\nQ 24.171875 66.40625 20.328125 58.90625 \r\nQ 16.5 51.421875 16.5 36.375 \r\nQ 16.5 21.390625 20.328125 13.890625 \r\nQ 24.171875 6.390625 31.78125 6.390625 \r\nQ 39.453125 6.390625 43.28125 13.890625 \r\nQ 47.125 21.390625 47.125 36.375 \r\nQ 47.125 51.421875 43.28125 58.90625 \r\nQ 39.453125 66.40625 31.78125 66.40625 \r\nz\r\nM 31.78125 74.21875 \r\nQ 44.046875 74.21875 50.515625 64.515625 \r\nQ 56.984375 54.828125 56.984375 36.375 \r\nQ 56.984375 17.96875 50.515625 8.265625 \r\nQ 44.046875 -1.421875 31.78125 -1.421875 \r\nQ 19.53125 -1.421875 13.0625 8.265625 \r\nQ 6.59375 17.96875 6.59375 36.375 \r\nQ 6.59375 54.828125 13.0625 64.515625 \r\nQ 19.53125 74.21875 31.78125 74.21875 \r\nz\r\n\" id=\"DejaVuSans-48\"/>\r\n       </defs>\r\n       <use xlink:href=\"#DejaVuSans-48\"/>\r\n      </g>\r\n     </g>\r\n    </g>\r\n    <g id=\"xtick_2\">\r\n     <g id=\"line2d_2\">\r\n      <g>\r\n       <use style=\"stroke:#000000;stroke-width:0.8;\" x=\"111.957955\" xlink:href=\"#m5190f74257\" y=\"224.64\"/>\r\n      </g>\r\n     </g>\r\n     <g id=\"text_2\">\r\n      <!-- 5 -->\r\n      <g transform=\"translate(108.776705 239.238437)scale(0.1 -0.1)\">\r\n       <defs>\r\n        <path d=\"M 10.796875 72.90625 \r\nL 49.515625 72.90625 \r\nL 49.515625 64.59375 \r\nL 19.828125 64.59375 \r\nL 19.828125 46.734375 \r\nQ 21.96875 47.46875 24.109375 47.828125 \r\nQ 26.265625 48.1875 28.421875 48.1875 \r\nQ 40.625 48.1875 47.75 41.5 \r\nQ 54.890625 34.8125 54.890625 23.390625 \r\nQ 54.890625 11.625 47.5625 5.09375 \r\nQ 40.234375 -1.421875 26.90625 -1.421875 \r\nQ 22.3125 -1.421875 17.546875 -0.640625 \r\nQ 12.796875 0.140625 7.71875 1.703125 \r\nL 7.71875 11.625 \r\nQ 12.109375 9.234375 16.796875 8.0625 \r\nQ 21.484375 6.890625 26.703125 6.890625 \r\nQ 35.15625 6.890625 40.078125 11.328125 \r\nQ 45.015625 15.765625 45.015625 23.390625 \r\nQ 45.015625 31 40.078125 35.4375 \r\nQ 35.15625 39.890625 26.703125 39.890625 \r\nQ 22.75 39.890625 18.8125 39.015625 \r\nQ 14.890625 38.140625 10.796875 36.28125 \r\nz\r\n\" id=\"DejaVuSans-53\"/>\r\n       </defs>\r\n       <use xlink:href=\"#DejaVuSans-53\"/>\r\n      </g>\r\n     </g>\r\n    </g>\r\n    <g id=\"xtick_3\">\r\n     <g id=\"line2d_3\">\r\n      <g>\r\n       <use style=\"stroke:#000000;stroke-width:0.8;\" x=\"162.685227\" xlink:href=\"#m5190f74257\" y=\"224.64\"/>\r\n      </g>\r\n     </g>\r\n     <g id=\"text_3\">\r\n      <!-- 10 -->\r\n      <g transform=\"translate(156.322727 239.238437)scale(0.1 -0.1)\">\r\n       <defs>\r\n        <path d=\"M 12.40625 8.296875 \r\nL 28.515625 8.296875 \r\nL 28.515625 63.921875 \r\nL 10.984375 60.40625 \r\nL 10.984375 69.390625 \r\nL 28.421875 72.90625 \r\nL 38.28125 72.90625 \r\nL 38.28125 8.296875 \r\nL 54.390625 8.296875 \r\nL 54.390625 0 \r\nL 12.40625 0 \r\nz\r\n\" id=\"DejaVuSans-49\"/>\r\n       </defs>\r\n       <use xlink:href=\"#DejaVuSans-49\"/>\r\n       <use x=\"63.623047\" xlink:href=\"#DejaVuSans-48\"/>\r\n      </g>\r\n     </g>\r\n    </g>\r\n    <g id=\"xtick_4\">\r\n     <g id=\"line2d_4\">\r\n      <g>\r\n       <use style=\"stroke:#000000;stroke-width:0.8;\" x=\"213.4125\" xlink:href=\"#m5190f74257\" y=\"224.64\"/>\r\n      </g>\r\n     </g>\r\n     <g id=\"text_4\">\r\n      <!-- 15 -->\r\n      <g transform=\"translate(207.05 239.238437)scale(0.1 -0.1)\">\r\n       <use xlink:href=\"#DejaVuSans-49\"/>\r\n       <use x=\"63.623047\" xlink:href=\"#DejaVuSans-53\"/>\r\n      </g>\r\n     </g>\r\n    </g>\r\n    <g id=\"xtick_5\">\r\n     <g id=\"line2d_5\">\r\n      <g>\r\n       <use style=\"stroke:#000000;stroke-width:0.8;\" x=\"264.139773\" xlink:href=\"#m5190f74257\" y=\"224.64\"/>\r\n      </g>\r\n     </g>\r\n     <g id=\"text_5\">\r\n      <!-- 20 -->\r\n      <g transform=\"translate(257.777273 239.238437)scale(0.1 -0.1)\">\r\n       <defs>\r\n        <path d=\"M 19.1875 8.296875 \r\nL 53.609375 8.296875 \r\nL 53.609375 0 \r\nL 7.328125 0 \r\nL 7.328125 8.296875 \r\nQ 12.9375 14.109375 22.625 23.890625 \r\nQ 32.328125 33.6875 34.8125 36.53125 \r\nQ 39.546875 41.84375 41.421875 45.53125 \r\nQ 43.3125 49.21875 43.3125 52.78125 \r\nQ 43.3125 58.59375 39.234375 62.25 \r\nQ 35.15625 65.921875 28.609375 65.921875 \r\nQ 23.96875 65.921875 18.8125 64.3125 \r\nQ 13.671875 62.703125 7.8125 59.421875 \r\nL 7.8125 69.390625 \r\nQ 13.765625 71.78125 18.9375 73 \r\nQ 24.125 74.21875 28.421875 74.21875 \r\nQ 39.75 74.21875 46.484375 68.546875 \r\nQ 53.21875 62.890625 53.21875 53.421875 \r\nQ 53.21875 48.921875 51.53125 44.890625 \r\nQ 49.859375 40.875 45.40625 35.40625 \r\nQ 44.1875 33.984375 37.640625 27.21875 \r\nQ 31.109375 20.453125 19.1875 8.296875 \r\nz\r\n\" id=\"DejaVuSans-50\"/>\r\n       </defs>\r\n       <use xlink:href=\"#DejaVuSans-50\"/>\r\n       <use x=\"63.623047\" xlink:href=\"#DejaVuSans-48\"/>\r\n      </g>\r\n     </g>\r\n    </g>\r\n    <g id=\"xtick_6\">\r\n     <g id=\"line2d_6\">\r\n      <g>\r\n       <use style=\"stroke:#000000;stroke-width:0.8;\" x=\"314.867045\" xlink:href=\"#m5190f74257\" y=\"224.64\"/>\r\n      </g>\r\n     </g>\r\n     <g id=\"text_6\">\r\n      <!-- 25 -->\r\n      <g transform=\"translate(308.504545 239.238437)scale(0.1 -0.1)\">\r\n       <use xlink:href=\"#DejaVuSans-50\"/>\r\n       <use x=\"63.623047\" xlink:href=\"#DejaVuSans-53\"/>\r\n      </g>\r\n     </g>\r\n    </g>\r\n    <g id=\"xtick_7\">\r\n     <g id=\"line2d_7\">\r\n      <g>\r\n       <use style=\"stroke:#000000;stroke-width:0.8;\" x=\"365.594318\" xlink:href=\"#m5190f74257\" y=\"224.64\"/>\r\n      </g>\r\n     </g>\r\n     <g id=\"text_7\">\r\n      <!-- 30 -->\r\n      <g transform=\"translate(359.231818 239.238437)scale(0.1 -0.1)\">\r\n       <defs>\r\n        <path d=\"M 40.578125 39.3125 \r\nQ 47.65625 37.796875 51.625 33 \r\nQ 55.609375 28.21875 55.609375 21.1875 \r\nQ 55.609375 10.40625 48.1875 4.484375 \r\nQ 40.765625 -1.421875 27.09375 -1.421875 \r\nQ 22.515625 -1.421875 17.65625 -0.515625 \r\nQ 12.796875 0.390625 7.625 2.203125 \r\nL 7.625 11.71875 \r\nQ 11.71875 9.328125 16.59375 8.109375 \r\nQ 21.484375 6.890625 26.8125 6.890625 \r\nQ 36.078125 6.890625 40.9375 10.546875 \r\nQ 45.796875 14.203125 45.796875 21.1875 \r\nQ 45.796875 27.640625 41.28125 31.265625 \r\nQ 36.765625 34.90625 28.71875 34.90625 \r\nL 20.21875 34.90625 \r\nL 20.21875 43.015625 \r\nL 29.109375 43.015625 \r\nQ 36.375 43.015625 40.234375 45.921875 \r\nQ 44.09375 48.828125 44.09375 54.296875 \r\nQ 44.09375 59.90625 40.109375 62.90625 \r\nQ 36.140625 65.921875 28.71875 65.921875 \r\nQ 24.65625 65.921875 20.015625 65.03125 \r\nQ 15.375 64.15625 9.8125 62.3125 \r\nL 9.8125 71.09375 \r\nQ 15.4375 72.65625 20.34375 73.4375 \r\nQ 25.25 74.21875 29.59375 74.21875 \r\nQ 40.828125 74.21875 47.359375 69.109375 \r\nQ 53.90625 64.015625 53.90625 55.328125 \r\nQ 53.90625 49.265625 50.4375 45.09375 \r\nQ 46.96875 40.921875 40.578125 39.3125 \r\nz\r\n\" id=\"DejaVuSans-51\"/>\r\n       </defs>\r\n       <use xlink:href=\"#DejaVuSans-51\"/>\r\n       <use x=\"63.623047\" xlink:href=\"#DejaVuSans-48\"/>\r\n      </g>\r\n     </g>\r\n    </g>\r\n   </g>\r\n   <g id=\"matplotlib.axis_2\">\r\n    <g id=\"ytick_1\">\r\n     <g id=\"line2d_8\">\r\n      <defs>\r\n       <path d=\"M 0 0 \r\nL -3.5 0 \r\n\" id=\"m78c87c88b4\" style=\"stroke:#000000;stroke-width:0.8;\"/>\r\n      </defs>\r\n      <g>\r\n       <use style=\"stroke:#000000;stroke-width:0.8;\" x=\"46.0125\" xlink:href=\"#m78c87c88b4\" y=\"224.64\"/>\r\n      </g>\r\n     </g>\r\n     <g id=\"text_8\">\r\n      <!-- 0 -->\r\n      <g transform=\"translate(32.65 228.439219)scale(0.1 -0.1)\">\r\n       <use xlink:href=\"#DejaVuSans-48\"/>\r\n      </g>\r\n     </g>\r\n    </g>\r\n    <g id=\"ytick_2\">\r\n     <g id=\"line2d_9\">\r\n      <g>\r\n       <use style=\"stroke:#000000;stroke-width:0.8;\" x=\"46.0125\" xlink:href=\"#m78c87c88b4\" y=\"195.249464\"/>\r\n      </g>\r\n     </g>\r\n     <g id=\"text_9\">\r\n      <!-- 2500 -->\r\n      <g transform=\"translate(13.5625 199.048683)scale(0.1 -0.1)\">\r\n       <use xlink:href=\"#DejaVuSans-50\"/>\r\n       <use x=\"63.623047\" xlink:href=\"#DejaVuSans-53\"/>\r\n       <use x=\"127.246094\" xlink:href=\"#DejaVuSans-48\"/>\r\n       <use x=\"190.869141\" xlink:href=\"#DejaVuSans-48\"/>\r\n      </g>\r\n     </g>\r\n    </g>\r\n    <g id=\"ytick_3\">\r\n     <g id=\"line2d_10\">\r\n      <g>\r\n       <use style=\"stroke:#000000;stroke-width:0.8;\" x=\"46.0125\" xlink:href=\"#m78c87c88b4\" y=\"165.858929\"/>\r\n      </g>\r\n     </g>\r\n     <g id=\"text_10\">\r\n      <!-- 5000 -->\r\n      <g transform=\"translate(13.5625 169.658147)scale(0.1 -0.1)\">\r\n       <use xlink:href=\"#DejaVuSans-53\"/>\r\n       <use x=\"63.623047\" xlink:href=\"#DejaVuSans-48\"/>\r\n       <use x=\"127.246094\" xlink:href=\"#DejaVuSans-48\"/>\r\n       <use x=\"190.869141\" xlink:href=\"#DejaVuSans-48\"/>\r\n      </g>\r\n     </g>\r\n    </g>\r\n    <g id=\"ytick_4\">\r\n     <g id=\"line2d_11\">\r\n      <g>\r\n       <use style=\"stroke:#000000;stroke-width:0.8;\" x=\"46.0125\" xlink:href=\"#m78c87c88b4\" y=\"136.468393\"/>\r\n      </g>\r\n     </g>\r\n     <g id=\"text_11\">\r\n      <!-- 7500 -->\r\n      <g transform=\"translate(13.5625 140.267612)scale(0.1 -0.1)\">\r\n       <defs>\r\n        <path d=\"M 8.203125 72.90625 \r\nL 55.078125 72.90625 \r\nL 55.078125 68.703125 \r\nL 28.609375 0 \r\nL 18.3125 0 \r\nL 43.21875 64.59375 \r\nL 8.203125 64.59375 \r\nz\r\n\" id=\"DejaVuSans-55\"/>\r\n       </defs>\r\n       <use xlink:href=\"#DejaVuSans-55\"/>\r\n       <use x=\"63.623047\" xlink:href=\"#DejaVuSans-53\"/>\r\n       <use x=\"127.246094\" xlink:href=\"#DejaVuSans-48\"/>\r\n       <use x=\"190.869141\" xlink:href=\"#DejaVuSans-48\"/>\r\n      </g>\r\n     </g>\r\n    </g>\r\n    <g id=\"ytick_5\">\r\n     <g id=\"line2d_12\">\r\n      <g>\r\n       <use style=\"stroke:#000000;stroke-width:0.8;\" x=\"46.0125\" xlink:href=\"#m78c87c88b4\" y=\"107.077857\"/>\r\n      </g>\r\n     </g>\r\n     <g id=\"text_12\">\r\n      <!-- 10000 -->\r\n      <g transform=\"translate(7.2 110.877076)scale(0.1 -0.1)\">\r\n       <use xlink:href=\"#DejaVuSans-49\"/>\r\n       <use x=\"63.623047\" xlink:href=\"#DejaVuSans-48\"/>\r\n       <use x=\"127.246094\" xlink:href=\"#DejaVuSans-48\"/>\r\n       <use x=\"190.869141\" xlink:href=\"#DejaVuSans-48\"/>\r\n       <use x=\"254.492188\" xlink:href=\"#DejaVuSans-48\"/>\r\n      </g>\r\n     </g>\r\n    </g>\r\n    <g id=\"ytick_6\">\r\n     <g id=\"line2d_13\">\r\n      <g>\r\n       <use style=\"stroke:#000000;stroke-width:0.8;\" x=\"46.0125\" xlink:href=\"#m78c87c88b4\" y=\"77.687322\"/>\r\n      </g>\r\n     </g>\r\n     <g id=\"text_13\">\r\n      <!-- 12500 -->\r\n      <g transform=\"translate(7.2 81.48654)scale(0.1 -0.1)\">\r\n       <use xlink:href=\"#DejaVuSans-49\"/>\r\n       <use x=\"63.623047\" xlink:href=\"#DejaVuSans-50\"/>\r\n       <use x=\"127.246094\" xlink:href=\"#DejaVuSans-53\"/>\r\n       <use x=\"190.869141\" xlink:href=\"#DejaVuSans-48\"/>\r\n       <use x=\"254.492188\" xlink:href=\"#DejaVuSans-48\"/>\r\n      </g>\r\n     </g>\r\n    </g>\r\n    <g id=\"ytick_7\">\r\n     <g id=\"line2d_14\">\r\n      <g>\r\n       <use style=\"stroke:#000000;stroke-width:0.8;\" x=\"46.0125\" xlink:href=\"#m78c87c88b4\" y=\"48.296786\"/>\r\n      </g>\r\n     </g>\r\n     <g id=\"text_14\">\r\n      <!-- 15000 -->\r\n      <g transform=\"translate(7.2 52.096005)scale(0.1 -0.1)\">\r\n       <use xlink:href=\"#DejaVuSans-49\"/>\r\n       <use x=\"63.623047\" xlink:href=\"#DejaVuSans-53\"/>\r\n       <use x=\"127.246094\" xlink:href=\"#DejaVuSans-48\"/>\r\n       <use x=\"190.869141\" xlink:href=\"#DejaVuSans-48\"/>\r\n       <use x=\"254.492188\" xlink:href=\"#DejaVuSans-48\"/>\r\n      </g>\r\n     </g>\r\n    </g>\r\n    <g id=\"ytick_8\">\r\n     <g id=\"line2d_15\">\r\n      <g>\r\n       <use style=\"stroke:#000000;stroke-width:0.8;\" x=\"46.0125\" xlink:href=\"#m78c87c88b4\" y=\"18.90625\"/>\r\n      </g>\r\n     </g>\r\n     <g id=\"text_15\">\r\n      <!-- 17500 -->\r\n      <g transform=\"translate(7.2 22.705469)scale(0.1 -0.1)\">\r\n       <use xlink:href=\"#DejaVuSans-49\"/>\r\n       <use x=\"63.623047\" xlink:href=\"#DejaVuSans-55\"/>\r\n       <use x=\"127.246094\" xlink:href=\"#DejaVuSans-53\"/>\r\n       <use x=\"190.869141\" xlink:href=\"#DejaVuSans-48\"/>\r\n       <use x=\"254.492188\" xlink:href=\"#DejaVuSans-48\"/>\r\n      </g>\r\n     </g>\r\n    </g>\r\n   </g>\r\n   <g id=\"patch_34\">\r\n    <path d=\"M 46.0125 224.64 \r\nL 46.0125 7.2 \r\n\" style=\"fill:none;stroke:#000000;stroke-linecap:square;stroke-linejoin:miter;stroke-width:0.8;\"/>\r\n   </g>\r\n   <g id=\"patch_35\">\r\n    <path d=\"M 380.8125 224.64 \r\nL 380.8125 7.2 \r\n\" style=\"fill:none;stroke:#000000;stroke-linecap:square;stroke-linejoin:miter;stroke-width:0.8;\"/>\r\n   </g>\r\n   <g id=\"patch_36\">\r\n    <path d=\"M 46.0125 224.64 \r\nL 380.8125 224.64 \r\n\" style=\"fill:none;stroke:#000000;stroke-linecap:square;stroke-linejoin:miter;stroke-width:0.8;\"/>\r\n   </g>\r\n   <g id=\"patch_37\">\r\n    <path d=\"M 46.0125 7.2 \r\nL 380.8125 7.2 \r\n\" style=\"fill:none;stroke:#000000;stroke-linecap:square;stroke-linejoin:miter;stroke-width:0.8;\"/>\r\n   </g>\r\n  </g>\r\n </g>\r\n <defs>\r\n  <clipPath id=\"pd295877d6e\">\r\n   <rect height=\"217.44\" width=\"334.8\" x=\"46.0125\" y=\"7.2\"/>\r\n  </clipPath>\r\n </defs>\r\n</svg>\r\n",
            "image/png": "[encoded data removed]"
          },
          "metadata": {
            "needs_background": "light"
          }
        }
      ],
      "source": [
        "a=plt.hist(added.geo_level_1_id.where(added.damage_grade==3),bins=31)"
      ]
    },
    {
      "cell_type": "code",
      "execution_count": 135,
      "metadata": {},
      "outputs": [
        {
          "output_type": "execute_result",
          "data": {
            "text/plain": [
              "31"
            ]
          },
          "metadata": {},
          "execution_count": 135
        }
      ],
      "source": [
        "len(a[0])"
      ]
    },
    {
      "cell_type": "code",
      "execution_count": 136,
      "metadata": {},
      "outputs": [],
      "source": [
        "quake_effect={}\n",
        "maxi=max(a[0])\n",
        "for inx,val in enumerate(a[0]):\n",
        "    quake_effect[inx]=1-(maxi-val)/maxi"
      ]
    },
    {
      "cell_type": "code",
      "execution_count": 137,
      "metadata": {},
      "outputs": [],
      "source": [
        "eartquakeDist=[]\n",
        "for idx,i in enumerate(X_train.geo_level_1_id):\n",
        "    eartquakeDist.append(quake_effect[X_train.geo_level_1_id[idx]])\n",
        "\n",
        "eartquakeDist2=[]\n",
        "for idx,i in enumerate(X_pred.geo_level_1_id):\n",
        "    eartquakeDist2.append(quake_effect[X_pred.geo_level_1_id[idx]])"
      ]
    },
    {
      "cell_type": "code",
      "execution_count": 138,
      "metadata": {},
      "outputs": [
        {
          "output_type": "execute_result",
          "data": {
            "text/plain": [
              "1.0"
            ]
          },
          "metadata": {},
          "execution_count": 138
        }
      ],
      "source": [
        "eartquakeDist2[0]"
      ]
    },
    {
      "cell_type": "code",
      "execution_count": 139,
      "metadata": {},
      "outputs": [],
      "source": [
        "added2=pd.concat([X_train.geo_level_1_id,X_train.geo_level_2_id,X_train.geo_level_3_id,y_train.damage_grade,pd.DataFrame(eartquakeDist,columns=[\"QuakeForce\"])], axis=1)\n",
        "\n",
        "#X_train_geolevel=pd.concat([X_train,pd.DataFrame(eartquakeDist,columns=[\"QuakeForce\"])], axis=1)\n",
        "#X_pred_geolevel=pd.concat([X_pred,pd.DataFrame(eartquakeDist2,columns=[\"QuakeForce\"])], axis=1)\n",
        "\n"
      ]
    },
    {
      "cell_type": "code",
      "execution_count": 140,
      "metadata": {},
      "outputs": [
        {
          "output_type": "stream",
          "name": "stdout",
          "text": [
            "land_surface_condition cseréje megy\n",
            "foundation_type cseréje megy\n",
            "roof_type cseréje megy\n",
            "ground_floor_type cseréje megy\n",
            "other_floor_type cseréje megy\n",
            "position cseréje megy\n",
            "plan_configuration cseréje megy\n",
            "legal_ownership_status cseréje megy\n",
            "land_surface_condition cseréje megy\n",
            "foundation_type cseréje megy\n",
            "roof_type cseréje megy\n",
            "ground_floor_type cseréje megy\n",
            "other_floor_type cseréje megy\n",
            "position cseréje megy\n",
            "plan_configuration cseréje megy\n",
            "legal_ownership_status cseréje megy\n"
          ]
        }
      ],
      "source": [
        "X_pred_conv=create_base_data(X_pred)\n",
        "X_train_conv=create_base_data(X_train)\n",
        "\n"
      ]
    },
    {
      "cell_type": "code",
      "execution_count": 141,
      "metadata": {},
      "outputs": [],
      "source": [
        "#--------------------------"
      ]
    },
    {
      "cell_type": "code",
      "execution_count": 142,
      "metadata": {},
      "outputs": [
        {
          "output_type": "execute_result",
          "data": {
            "text/plain": [
              "   geo_level_1_id  geo_level_2_id  geo_level_3_id  count_floors_pre_eq  age  \\\n",
              "0              17             596           11307                    3   20   \n",
              "1               6             141           11987                    2   25   \n",
              "2              22              19           10044                    2    5   \n",
              "3              26              39             633                    1    0   \n",
              "4              17             289            7970                    3   15   \n",
              "\n",
              "   area_percentage  height_percentage  has_superstructure_adobe_mud  \\\n",
              "0                7                  6                             0   \n",
              "1               13                  5                             0   \n",
              "2                4                  5                             0   \n",
              "3               19                  3                             0   \n",
              "4                8                  7                             0   \n",
              "\n",
              "   has_superstructure_mud_mortar_stone  has_superstructure_stone_flag  ...  \\\n",
              "0                                    1                              0  ...   \n",
              "1                                    1                              0  ...   \n",
              "2                                    1                              0  ...   \n",
              "3                                    0                              0  ...   \n",
              "4                                    1                              0  ...   \n",
              "\n",
              "   plan_configuration_m  plan_configuration_a  plan_configuration_q  \\\n",
              "0                     0                     0                     0   \n",
              "1                     0                     0                     0   \n",
              "2                     0                     0                     0   \n",
              "3                     0                     0                     0   \n",
              "4                     0                     0                     0   \n",
              "\n",
              "   plan_configuration_u  plan_configuration_n  plan_configuration_o  \\\n",
              "0                     0                     0                     0   \n",
              "1                     0                     0                     0   \n",
              "2                     0                     0                     0   \n",
              "3                     0                     0                     0   \n",
              "4                     0                     0                     0   \n",
              "\n",
              "   legal_ownership_status_a  legal_ownership_status_w  \\\n",
              "0                         0                         0   \n",
              "1                         0                         0   \n",
              "2                         0                         0   \n",
              "3                         0                         0   \n",
              "4                         0                         0   \n",
              "\n",
              "   legal_ownership_status_r  legal_ownership_status_v  \n",
              "0                         0                         1  \n",
              "1                         0                         1  \n",
              "2                         0                         1  \n",
              "3                         0                         1  \n",
              "4                         0                         1  \n",
              "\n",
              "[5 rows x 68 columns]"
            ],
            "text/html": "<div>\n<style scoped>\n    .dataframe tbody tr th:only-of-type {\n        vertical-align: middle;\n    }\n\n    .dataframe tbody tr th {\n        vertical-align: top;\n    }\n\n    .dataframe thead th {\n        text-align: right;\n    }\n</style>\n<table border=\"1\" class=\"dataframe\">\n  <thead>\n    <tr style=\"text-align: right;\">\n      <th></th>\n      <th>geo_level_1_id</th>\n      <th>geo_level_2_id</th>\n      <th>geo_level_3_id</th>\n      <th>count_floors_pre_eq</th>\n      <th>age</th>\n      <th>area_percentage</th>\n      <th>height_percentage</th>\n      <th>has_superstructure_adobe_mud</th>\n      <th>has_superstructure_mud_mortar_stone</th>\n      <th>has_superstructure_stone_flag</th>\n      <th>...</th>\n      <th>plan_configuration_m</th>\n      <th>plan_configuration_a</th>\n      <th>plan_configuration_q</th>\n      <th>plan_configuration_u</th>\n      <th>plan_configuration_n</th>\n      <th>plan_configuration_o</th>\n      <th>legal_ownership_status_a</th>\n      <th>legal_ownership_status_w</th>\n      <th>legal_ownership_status_r</th>\n      <th>legal_ownership_status_v</th>\n    </tr>\n  </thead>\n  <tbody>\n    <tr>\n      <th>0</th>\n      <td>17</td>\n      <td>596</td>\n      <td>11307</td>\n      <td>3</td>\n      <td>20</td>\n      <td>7</td>\n      <td>6</td>\n      <td>0</td>\n      <td>1</td>\n      <td>0</td>\n      <td>...</td>\n      <td>0</td>\n      <td>0</td>\n      <td>0</td>\n      <td>0</td>\n      <td>0</td>\n      <td>0</td>\n      <td>0</td>\n      <td>0</td>\n      <td>0</td>\n      <td>1</td>\n    </tr>\n    <tr>\n      <th>1</th>\n      <td>6</td>\n      <td>141</td>\n      <td>11987</td>\n      <td>2</td>\n      <td>25</td>\n      <td>13</td>\n      <td>5</td>\n      <td>0</td>\n      <td>1</td>\n      <td>0</td>\n      <td>...</td>\n      <td>0</td>\n      <td>0</td>\n      <td>0</td>\n      <td>0</td>\n      <td>0</td>\n      <td>0</td>\n      <td>0</td>\n      <td>0</td>\n      <td>0</td>\n      <td>1</td>\n    </tr>\n    <tr>\n      <th>2</th>\n      <td>22</td>\n      <td>19</td>\n      <td>10044</td>\n      <td>2</td>\n      <td>5</td>\n      <td>4</td>\n      <td>5</td>\n      <td>0</td>\n      <td>1</td>\n      <td>0</td>\n      <td>...</td>\n      <td>0</td>\n      <td>0</td>\n      <td>0</td>\n      <td>0</td>\n      <td>0</td>\n      <td>0</td>\n      <td>0</td>\n      <td>0</td>\n      <td>0</td>\n      <td>1</td>\n    </tr>\n    <tr>\n      <th>3</th>\n      <td>26</td>\n      <td>39</td>\n      <td>633</td>\n      <td>1</td>\n      <td>0</td>\n      <td>19</td>\n      <td>3</td>\n      <td>0</td>\n      <td>0</td>\n      <td>0</td>\n      <td>...</td>\n      <td>0</td>\n      <td>0</td>\n      <td>0</td>\n      <td>0</td>\n      <td>0</td>\n      <td>0</td>\n      <td>0</td>\n      <td>0</td>\n      <td>0</td>\n      <td>1</td>\n    </tr>\n    <tr>\n      <th>4</th>\n      <td>17</td>\n      <td>289</td>\n      <td>7970</td>\n      <td>3</td>\n      <td>15</td>\n      <td>8</td>\n      <td>7</td>\n      <td>0</td>\n      <td>1</td>\n      <td>0</td>\n      <td>...</td>\n      <td>0</td>\n      <td>0</td>\n      <td>0</td>\n      <td>0</td>\n      <td>0</td>\n      <td>0</td>\n      <td>0</td>\n      <td>0</td>\n      <td>0</td>\n      <td>1</td>\n    </tr>\n  </tbody>\n</table>\n<p>5 rows × 68 columns</p>\n</div>"
          },
          "metadata": {},
          "execution_count": 142
        }
      ],
      "source": [
        "#\n",
        "X_train_ok=kill_columns(X_train_conv)\n",
        "X_pred_ok=kill_columns(X_pred_conv)\n",
        "y_train_ok=kill_columns(y_train)\n",
        "\n",
        "\n",
        "\n",
        "X_train_ok.to_csv(basedir+\"/tmp/X_tran_ok.csv\",index=False)\n",
        "X_pred_ok.to_csv(basedir+\"/tmp/X_pred_ok.csv\",index=False)\n",
        "y_train_ok.to_csv(basedir+\"/tmp/y_train_ok.csv\",index=False)\n",
        "\n",
        "\n",
        "\n",
        "\n",
        "#f=open(basedir+\"/tmp/similarity.csv\",\"a\")\n",
        "X_train_ok=pd.read_csv(basedir+\"/tmp/X_tran_ok.csv\",)\n",
        "X_pred_ok=pd.read_csv(basedir+\"/tmp/X_pred_ok.csv\")\n",
        "y_train_ok=pd.read_csv(basedir+\"/tmp/y_train_ok.csv\")\n",
        "\n",
        "X_train_ok.head()\n",
        "X_pred_ok.head()\n",
        "#print(\"Ready\")"
      ]
    },
    {
      "cell_type": "code",
      "execution_count": 143,
      "metadata": {},
      "outputs": [
        {
          "output_type": "execute_result",
          "data": {
            "text/plain": [
              "        damage_grade\n",
              "0                  3\n",
              "1                  2\n",
              "2                  3\n",
              "3                  2\n",
              "4                  3\n",
              "...              ...\n",
              "260596             2\n",
              "260597             3\n",
              "260598             3\n",
              "260599             2\n",
              "260600             3\n",
              "\n",
              "[260601 rows x 1 columns]"
            ],
            "text/html": "<div>\n<style scoped>\n    .dataframe tbody tr th:only-of-type {\n        vertical-align: middle;\n    }\n\n    .dataframe tbody tr th {\n        vertical-align: top;\n    }\n\n    .dataframe thead th {\n        text-align: right;\n    }\n</style>\n<table border=\"1\" class=\"dataframe\">\n  <thead>\n    <tr style=\"text-align: right;\">\n      <th></th>\n      <th>damage_grade</th>\n    </tr>\n  </thead>\n  <tbody>\n    <tr>\n      <th>0</th>\n      <td>3</td>\n    </tr>\n    <tr>\n      <th>1</th>\n      <td>2</td>\n    </tr>\n    <tr>\n      <th>2</th>\n      <td>3</td>\n    </tr>\n    <tr>\n      <th>3</th>\n      <td>2</td>\n    </tr>\n    <tr>\n      <th>4</th>\n      <td>3</td>\n    </tr>\n    <tr>\n      <th>...</th>\n      <td>...</td>\n    </tr>\n    <tr>\n      <th>260596</th>\n      <td>2</td>\n    </tr>\n    <tr>\n      <th>260597</th>\n      <td>3</td>\n    </tr>\n    <tr>\n      <th>260598</th>\n      <td>3</td>\n    </tr>\n    <tr>\n      <th>260599</th>\n      <td>2</td>\n    </tr>\n    <tr>\n      <th>260600</th>\n      <td>3</td>\n    </tr>\n  </tbody>\n</table>\n<p>260601 rows × 1 columns</p>\n</div>"
          },
          "metadata": {},
          "execution_count": 143
        }
      ],
      "source": [
        "y_train_ok"
      ]
    },
    {
      "cell_type": "code",
      "metadata": {
        "id": "ZkluH7RwmL_M",
        "tags": []
      },
      "source": [
        "X_pred_ok=kill_columns(X_pred_ok)\n",
        "X_train_ok=kill_columns(X_train_ok)\n",
        "y_train_ok=kill_columns(y_train_ok)\n",
        "\n",
        "t=[1, 2, 3]\n",
        "columnname=\"damage_grade\"\n",
        "key=create_dict(columnname,t)\n",
        "\n",
        "\n",
        "checkvalues(y_train_ok,columnname,key)\n",
        "createcolumn(y_train_ok,columnname,key)"
      ],
      "execution_count": 144,
      "outputs": [
        {
          "output_type": "stream",
          "name": "stdout",
          "text": [
            "damage_grade ellenőrzése !\n",
            "\n",
            "260601 mintából 0 db nem volt megfelelő\n",
            "damage_grade cseréje megy\n"
          ]
        }
      ]
    },
    {
      "cell_type": "code",
      "execution_count": 149,
      "metadata": {},
      "outputs": [],
      "source": [
        "y_train_ok[\"damage_grade\"]=y_train_ok[\"damage_grade\"]-1"
      ]
    },
    {
      "cell_type": "code",
      "execution_count": 150,
      "metadata": {},
      "outputs": [
        {
          "output_type": "execute_result",
          "data": {
            "text/plain": [
              "        damage_grade  damage_grade_1  damage_grade_2  damage_grade_3\n",
              "0                  2               0               0               1\n",
              "1                  1               0               1               0\n",
              "2                  2               0               0               1\n",
              "3                  1               0               1               0\n",
              "4                  2               0               0               1\n",
              "...              ...             ...             ...             ...\n",
              "260596             1               0               1               0\n",
              "260597             2               0               0               1\n",
              "260598             2               0               0               1\n",
              "260599             1               0               1               0\n",
              "260600             2               0               0               1\n",
              "\n",
              "[260601 rows x 4 columns]"
            ],
            "text/html": "<div>\n<style scoped>\n    .dataframe tbody tr th:only-of-type {\n        vertical-align: middle;\n    }\n\n    .dataframe tbody tr th {\n        vertical-align: top;\n    }\n\n    .dataframe thead th {\n        text-align: right;\n    }\n</style>\n<table border=\"1\" class=\"dataframe\">\n  <thead>\n    <tr style=\"text-align: right;\">\n      <th></th>\n      <th>damage_grade</th>\n      <th>damage_grade_1</th>\n      <th>damage_grade_2</th>\n      <th>damage_grade_3</th>\n    </tr>\n  </thead>\n  <tbody>\n    <tr>\n      <th>0</th>\n      <td>2</td>\n      <td>0</td>\n      <td>0</td>\n      <td>1</td>\n    </tr>\n    <tr>\n      <th>1</th>\n      <td>1</td>\n      <td>0</td>\n      <td>1</td>\n      <td>0</td>\n    </tr>\n    <tr>\n      <th>2</th>\n      <td>2</td>\n      <td>0</td>\n      <td>0</td>\n      <td>1</td>\n    </tr>\n    <tr>\n      <th>3</th>\n      <td>1</td>\n      <td>0</td>\n      <td>1</td>\n      <td>0</td>\n    </tr>\n    <tr>\n      <th>4</th>\n      <td>2</td>\n      <td>0</td>\n      <td>0</td>\n      <td>1</td>\n    </tr>\n    <tr>\n      <th>...</th>\n      <td>...</td>\n      <td>...</td>\n      <td>...</td>\n      <td>...</td>\n    </tr>\n    <tr>\n      <th>260596</th>\n      <td>1</td>\n      <td>0</td>\n      <td>1</td>\n      <td>0</td>\n    </tr>\n    <tr>\n      <th>260597</th>\n      <td>2</td>\n      <td>0</td>\n      <td>0</td>\n      <td>1</td>\n    </tr>\n    <tr>\n      <th>260598</th>\n      <td>2</td>\n      <td>0</td>\n      <td>0</td>\n      <td>1</td>\n    </tr>\n    <tr>\n      <th>260599</th>\n      <td>1</td>\n      <td>0</td>\n      <td>1</td>\n      <td>0</td>\n    </tr>\n    <tr>\n      <th>260600</th>\n      <td>2</td>\n      <td>0</td>\n      <td>0</td>\n      <td>1</td>\n    </tr>\n  </tbody>\n</table>\n<p>260601 rows × 4 columns</p>\n</div>"
          },
          "metadata": {},
          "execution_count": 150
        }
      ],
      "source": [
        "y_train_ok"
      ]
    },
    {
      "cell_type": "code",
      "metadata": {
        "id": "Q0rn-7TBQfRp"
      },
      "source": [
        "from sklearn.preprocessing import StandardScaler\n",
        "from sklearn.preprocessing import MinMaxScaler\n",
        "\n",
        "\n",
        "scaler2=MinMaxScaler()\n",
        "X_train_scale=scaler2.fit_transform(X_train_ok)\n",
        "\n",
        "#scaler1=StandardScaler()\n",
        "X_pred_scale=scaler2.fit_transform(X_pred_ok)\n",
        "\"\"\"\n",
        "scaler3=StandardScaler()\n",
        "y_train_scale=scaler3.fit_transform(y_train_ok)\n",
        "\"\"\"\n",
        "y_train_np=y_train_ok.to_numpy()\n",
        "\n",
        "# szétszedjük a train és test részekre\n",
        "from sklearn.model_selection import train_test_split\n",
        "#X_train_train, X_train_test,y_train_train, y_train_test  = train_test_split( X_train_scale, y_train_scale, test_size=0.10, random_state=0)\n",
        "X_train_train, X_train_test,y_train_train, y_train_test  = train_test_split( X_train_scale, y_train_np, test_size=0.1, random_state=0)\n",
        "\n",
        "\n"
      ],
      "execution_count": 151,
      "outputs": []
    },
    {
      "cell_type": "code",
      "execution_count": 152,
      "metadata": {},
      "outputs": [
        {
          "output_type": "execute_result",
          "data": {
            "text/plain": [
              "array([[2, 0, 0, 1],\n",
              "       [1, 0, 1, 0],\n",
              "       [2, 0, 0, 1],\n",
              "       ...,\n",
              "       [2, 0, 0, 1],\n",
              "       [1, 0, 1, 0],\n",
              "       [2, 0, 0, 1]], dtype=int64)"
            ]
          },
          "metadata": {},
          "execution_count": 152
        }
      ],
      "source": [
        "y_train_np"
      ]
    },
    {
      "cell_type": "code",
      "execution_count": 153,
      "metadata": {},
      "outputs": [],
      "source": [
        "def outlierDropfrom_df(df,inxlist):\n",
        "    a=df\n",
        "    out=a.drop(inxlist,axis=0)\n",
        "    return(out)"
      ]
    },
    {
      "cell_type": "code",
      "execution_count": 154,
      "metadata": {},
      "outputs": [],
      "source": [
        "def outlierDropfrom_numpyarray(na,inxlist):\n",
        "    \n",
        "    out=np.delete (na ,inxlist, axis=0)\n",
        "    return(out)"
      ]
    },
    {
      "cell_type": "code",
      "execution_count": 155,
      "metadata": {},
      "outputs": [],
      "source": [
        "def calc_the_range(y_train,hist):    \n",
        "    num1=sum(1 for val in y_train if val==1)\n",
        "    #print(num1)\n",
        "    num2=sum(1 for val in y_train if val==2)\n",
        "    #print(num2)\n",
        "    num3=sum(1 for val in y_train if val==3)\n",
        "    #print(num3)\n",
        "    \n",
        "    out=(num1,num1+num2,num1+num2+num3)\n",
        "    print(\"out: \" ,out)\n",
        "    steps=[]\n",
        "    for i in range(len(hist[0])):\n",
        "        print(hist[0][i], end=\"\")\n",
        "        if hist[0][i]>out[0]:\n",
        "            steps.append(i)\n",
        "            break\n",
        "    for i in range(len(hist[0])):\n",
        "        #print(hist[0][i])\n",
        "        if hist[0][i]>out[1]:\n",
        "            steps.append(i)\n",
        "            break\n",
        "    print(\"step:\",steps)\n",
        "    limits_out=(hist[1][steps[0]],hist[1][steps[1]])\n",
        "    print(\"Limits:\",limits_out)\n",
        "    return (limits_out)"
      ]
    },
    {
      "cell_type": "code",
      "execution_count": 25,
      "metadata": {},
      "outputs": [],
      "source": [
        "def conv_a_floatlist(alist, range_x):\n",
        "    o=[]\n",
        "    print(\"conv:\" ,range_x)\n",
        "    for i in alist:\n",
        "        if i<range_x[0]:\n",
        "            o.append(1)\n",
        "        if range_x[0]<= i <range_x[1]:\n",
        "            o.append(2)\n",
        "        if range_x[1]<=i:\n",
        "            o.append(3)\n",
        "    return(o)"
      ]
    },
    {
      "cell_type": "code",
      "execution_count": 156,
      "metadata": {},
      "outputs": [],
      "source": [
        "\n",
        "\n",
        "from tensorflow.keras.layers  import Input,Dense\n",
        "from tensorflow.keras.models import Model\n",
        "from tensorflow.keras.optimizers import SGD, Adam\n",
        "from tensorflow.keras.layers import Dropout\n",
        "from tensorflow.keras.optimizers import Adadelta, Adagrad, Ftrl\n"
      ]
    },
    {
      "cell_type": "code",
      "execution_count": 157,
      "metadata": {},
      "outputs": [],
      "source": [
        "def display_history(history):\n",
        "    \"\"\"Summarize history for accuracy and loss.\n",
        "    \"\"\"\n",
        "    plt.plot(history.history['accuracy'])\n",
        "    plt.plot(history.history['val_accuracy'])\n",
        "    plt.title('Baseline model accuracy')\n",
        "    plt.ylabel('accuracy')\n",
        "    plt.xlabel('epoch')\n",
        "    plt.legend(['train', 'valid'], loc='upper left')\n",
        "    plt.show()\n",
        "    plt.plot(history.history['loss'])\n",
        "    plt.plot(history.history['val_loss'])\n",
        "    plt.title('Baseline model loss')\n",
        "    plt.ylabel('loss')\n",
        "    plt.xlabel('epoch')\n",
        "    #plt.legend(['train', 'valid'], loc='upper left')\n",
        "    plt.show()"
      ]
    },
    {
      "cell_type": "code",
      "execution_count": 170,
      "metadata": {},
      "outputs": [],
      "source": [
        "# ide jöhet a tensorflow\n",
        "data_row=X_train_train.shape[0]\n",
        "data_column=X_train_train.shape[1]\n",
        "hidden_size=42\n",
        "hidden_size2=38\n",
        "hidden_size3=38\n",
        "\n"
      ]
    },
    {
      "cell_type": "code",
      "execution_count": 180,
      "metadata": {},
      "outputs": [],
      "source": [
        "drop_frac=0.50\n",
        "inputs=Input(shape=(data_column,))\n",
        "hidden_output=Dense(hidden_size,activation=\"linear\")(inputs)\n",
        "d1=Dropout(drop_frac)(hidden_output)\n",
        "\n",
        "hidden_output2=Dense(hidden_size2,activation=\"linear\")(d1)\n",
        "d2=Dropout(drop_frac)(hidden_output2)\n",
        "\n",
        "hidden_output3=Dense(hidden_size3,activation=\"linear\")(d2)\n",
        "d3=Dropout(drop_frac)(hidden_output3)\n",
        "\n",
        "\n",
        "\n",
        "prediction=Dense(3,activation=\"softmax\")(d3)\n",
        "\n",
        "model=Model(inputs=inputs, outputs=prediction)\n",
        "optimizer=Ftrl()\n",
        "\n",
        "model.compile(optimizer=optimizer,\n",
        "                loss=\"sparse_categorical_crossentropy\",\n",
        "                metrics=[\"accuracy\"])\n"
      ]
    },
    {
      "cell_type": "code",
      "execution_count": 179,
      "metadata": {
        "tags": []
      },
      "outputs": [
        {
          "output_type": "stream",
          "name": "stdout",
          "text": [
            "Epoch 1/10\n",
            "2346/2346 [==============================] - 5s 2ms/step - loss: 1.0809 - accuracy: 0.5683 - val_loss: 1.0553 - val_accuracy: 0.5684\n",
            "Epoch 2/10\n",
            "2346/2346 [==============================] - 5s 2ms/step - loss: 1.0439 - accuracy: 0.5722 - val_loss: 0.9918 - val_accuracy: 0.5684\n",
            "Epoch 3/10\n",
            "2346/2346 [==============================] - 5s 2ms/step - loss: 0.9696 - accuracy: 0.5696 - val_loss: 0.9270 - val_accuracy: 0.5684\n",
            "Epoch 4/10\n",
            "2346/2346 [==============================] - 5s 2ms/step - loss: 0.9229 - accuracy: 0.5681 - val_loss: 0.9159 - val_accuracy: 0.5684\n",
            "Epoch 5/10\n",
            "2346/2346 [==============================] - 5s 2ms/step - loss: 0.9154 - accuracy: 0.5674 - val_loss: 0.9145 - val_accuracy: 0.5684\n",
            "Epoch 6/10\n",
            " 407/2346 [====>.........................] - ETA: 4s - loss: 0.9156 - accuracy: 0.5699"
          ]
        },
        {
          "output_type": "error",
          "ename": "KeyboardInterrupt",
          "evalue": "",
          "traceback": [
            "\u001b[1;31m---------------------------------------------------------------------------\u001b[0m",
            "\u001b[1;31mKeyboardInterrupt\u001b[0m                         Traceback (most recent call last)",
            "\u001b[1;32m<ipython-input-179-52e1e426d70d>\u001b[0m in \u001b[0;36m<module>\u001b[1;34m\u001b[0m\n\u001b[1;32m----> 1\u001b[1;33m \u001b[0mhistory\u001b[0m\u001b[1;33m=\u001b[0m\u001b[0mmodel\u001b[0m\u001b[1;33m.\u001b[0m\u001b[0mfit\u001b[0m\u001b[1;33m(\u001b[0m\u001b[0mx\u001b[0m\u001b[1;33m=\u001b[0m\u001b[0mX_train_train\u001b[0m \u001b[1;33m,\u001b[0m\u001b[0my\u001b[0m\u001b[1;33m=\u001b[0m\u001b[0my_train_train\u001b[0m\u001b[1;33m[\u001b[0m\u001b[1;33m:\u001b[0m\u001b[1;33m,\u001b[0m\u001b[1;36m0\u001b[0m\u001b[1;33m]\u001b[0m\u001b[1;33m,\u001b[0m \u001b[0mvalidation_data\u001b[0m\u001b[1;33m=\u001b[0m\u001b[1;33m(\u001b[0m\u001b[0mX_train_test\u001b[0m\u001b[1;33m,\u001b[0m\u001b[0my_train_test\u001b[0m\u001b[1;33m[\u001b[0m\u001b[1;33m:\u001b[0m\u001b[1;33m,\u001b[0m\u001b[1;36m0\u001b[0m\u001b[1;33m]\u001b[0m\u001b[1;33m)\u001b[0m\u001b[1;33m,\u001b[0m\u001b[0mepochs\u001b[0m\u001b[1;33m=\u001b[0m\u001b[1;36m10\u001b[0m\u001b[1;33m,\u001b[0m \u001b[0mbatch_size\u001b[0m\u001b[1;33m=\u001b[0m\u001b[1;36m100\u001b[0m\u001b[1;33m,\u001b[0m \u001b[0mshuffle\u001b[0m\u001b[1;33m=\u001b[0m\u001b[1;32mTrue\u001b[0m\u001b[1;33m,\u001b[0m\u001b[0muse_multiprocessing\u001b[0m\u001b[1;33m=\u001b[0m\u001b[1;32mTrue\u001b[0m \u001b[1;33m)\u001b[0m\u001b[1;33m\u001b[0m\u001b[1;33m\u001b[0m\u001b[0m\n\u001b[0m\u001b[0;32m      2\u001b[0m \u001b[1;33m\u001b[0m\u001b[0m\n\u001b[0;32m      3\u001b[0m \u001b[1;33m\u001b[0m\u001b[0m\n\u001b[0;32m      4\u001b[0m \u001b[1;33m\u001b[0m\u001b[0m\n",
            "\u001b[1;32m~\\AppData\\Local\\Programs\\Python\\Python38\\lib\\site-packages\\tensorflow\\python\\keras\\engine\\training.py\u001b[0m in \u001b[0;36mfit\u001b[1;34m(self, x, y, batch_size, epochs, verbose, callbacks, validation_split, validation_data, shuffle, class_weight, sample_weight, initial_epoch, steps_per_epoch, validation_steps, validation_batch_size, validation_freq, max_queue_size, workers, use_multiprocessing)\u001b[0m\n\u001b[0;32m   1098\u001b[0m                 _r=1):\n\u001b[0;32m   1099\u001b[0m               \u001b[0mcallbacks\u001b[0m\u001b[1;33m.\u001b[0m\u001b[0mon_train_batch_begin\u001b[0m\u001b[1;33m(\u001b[0m\u001b[0mstep\u001b[0m\u001b[1;33m)\u001b[0m\u001b[1;33m\u001b[0m\u001b[1;33m\u001b[0m\u001b[0m\n\u001b[1;32m-> 1100\u001b[1;33m               \u001b[0mtmp_logs\u001b[0m \u001b[1;33m=\u001b[0m \u001b[0mself\u001b[0m\u001b[1;33m.\u001b[0m\u001b[0mtrain_function\u001b[0m\u001b[1;33m(\u001b[0m\u001b[0miterator\u001b[0m\u001b[1;33m)\u001b[0m\u001b[1;33m\u001b[0m\u001b[1;33m\u001b[0m\u001b[0m\n\u001b[0m\u001b[0;32m   1101\u001b[0m               \u001b[1;32mif\u001b[0m \u001b[0mdata_handler\u001b[0m\u001b[1;33m.\u001b[0m\u001b[0mshould_sync\u001b[0m\u001b[1;33m:\u001b[0m\u001b[1;33m\u001b[0m\u001b[1;33m\u001b[0m\u001b[0m\n\u001b[0;32m   1102\u001b[0m                 \u001b[0mcontext\u001b[0m\u001b[1;33m.\u001b[0m\u001b[0masync_wait\u001b[0m\u001b[1;33m(\u001b[0m\u001b[1;33m)\u001b[0m\u001b[1;33m\u001b[0m\u001b[1;33m\u001b[0m\u001b[0m\n",
            "\u001b[1;32m~\\AppData\\Local\\Programs\\Python\\Python38\\lib\\site-packages\\tensorflow\\python\\eager\\def_function.py\u001b[0m in \u001b[0;36m__call__\u001b[1;34m(self, *args, **kwds)\u001b[0m\n\u001b[0;32m    826\u001b[0m     \u001b[0mtracing_count\u001b[0m \u001b[1;33m=\u001b[0m \u001b[0mself\u001b[0m\u001b[1;33m.\u001b[0m\u001b[0mexperimental_get_tracing_count\u001b[0m\u001b[1;33m(\u001b[0m\u001b[1;33m)\u001b[0m\u001b[1;33m\u001b[0m\u001b[1;33m\u001b[0m\u001b[0m\n\u001b[0;32m    827\u001b[0m     \u001b[1;32mwith\u001b[0m \u001b[0mtrace\u001b[0m\u001b[1;33m.\u001b[0m\u001b[0mTrace\u001b[0m\u001b[1;33m(\u001b[0m\u001b[0mself\u001b[0m\u001b[1;33m.\u001b[0m\u001b[0m_name\u001b[0m\u001b[1;33m)\u001b[0m \u001b[1;32mas\u001b[0m \u001b[0mtm\u001b[0m\u001b[1;33m:\u001b[0m\u001b[1;33m\u001b[0m\u001b[1;33m\u001b[0m\u001b[0m\n\u001b[1;32m--> 828\u001b[1;33m       \u001b[0mresult\u001b[0m \u001b[1;33m=\u001b[0m \u001b[0mself\u001b[0m\u001b[1;33m.\u001b[0m\u001b[0m_call\u001b[0m\u001b[1;33m(\u001b[0m\u001b[1;33m*\u001b[0m\u001b[0margs\u001b[0m\u001b[1;33m,\u001b[0m \u001b[1;33m**\u001b[0m\u001b[0mkwds\u001b[0m\u001b[1;33m)\u001b[0m\u001b[1;33m\u001b[0m\u001b[1;33m\u001b[0m\u001b[0m\n\u001b[0m\u001b[0;32m    829\u001b[0m       \u001b[0mcompiler\u001b[0m \u001b[1;33m=\u001b[0m \u001b[1;34m\"xla\"\u001b[0m \u001b[1;32mif\u001b[0m \u001b[0mself\u001b[0m\u001b[1;33m.\u001b[0m\u001b[0m_experimental_compile\u001b[0m \u001b[1;32melse\u001b[0m \u001b[1;34m\"nonXla\"\u001b[0m\u001b[1;33m\u001b[0m\u001b[1;33m\u001b[0m\u001b[0m\n\u001b[0;32m    830\u001b[0m       \u001b[0mnew_tracing_count\u001b[0m \u001b[1;33m=\u001b[0m \u001b[0mself\u001b[0m\u001b[1;33m.\u001b[0m\u001b[0mexperimental_get_tracing_count\u001b[0m\u001b[1;33m(\u001b[0m\u001b[1;33m)\u001b[0m\u001b[1;33m\u001b[0m\u001b[1;33m\u001b[0m\u001b[0m\n",
            "\u001b[1;32m~\\AppData\\Local\\Programs\\Python\\Python38\\lib\\site-packages\\tensorflow\\python\\eager\\def_function.py\u001b[0m in \u001b[0;36m_call\u001b[1;34m(self, *args, **kwds)\u001b[0m\n\u001b[0;32m    853\u001b[0m       \u001b[1;31m# In this case we have created variables on the first call, so we run the\u001b[0m\u001b[1;33m\u001b[0m\u001b[1;33m\u001b[0m\u001b[1;33m\u001b[0m\u001b[0m\n\u001b[0;32m    854\u001b[0m       \u001b[1;31m# defunned version which is guaranteed to never create variables.\u001b[0m\u001b[1;33m\u001b[0m\u001b[1;33m\u001b[0m\u001b[1;33m\u001b[0m\u001b[0m\n\u001b[1;32m--> 855\u001b[1;33m       \u001b[1;32mreturn\u001b[0m \u001b[0mself\u001b[0m\u001b[1;33m.\u001b[0m\u001b[0m_stateless_fn\u001b[0m\u001b[1;33m(\u001b[0m\u001b[1;33m*\u001b[0m\u001b[0margs\u001b[0m\u001b[1;33m,\u001b[0m \u001b[1;33m**\u001b[0m\u001b[0mkwds\u001b[0m\u001b[1;33m)\u001b[0m  \u001b[1;31m# pylint: disable=not-callable\u001b[0m\u001b[1;33m\u001b[0m\u001b[1;33m\u001b[0m\u001b[0m\n\u001b[0m\u001b[0;32m    856\u001b[0m     \u001b[1;32melif\u001b[0m \u001b[0mself\u001b[0m\u001b[1;33m.\u001b[0m\u001b[0m_stateful_fn\u001b[0m \u001b[1;32mis\u001b[0m \u001b[1;32mnot\u001b[0m \u001b[1;32mNone\u001b[0m\u001b[1;33m:\u001b[0m\u001b[1;33m\u001b[0m\u001b[1;33m\u001b[0m\u001b[0m\n\u001b[0;32m    857\u001b[0m       \u001b[1;31m# Release the lock early so that multiple threads can perform the call\u001b[0m\u001b[1;33m\u001b[0m\u001b[1;33m\u001b[0m\u001b[1;33m\u001b[0m\u001b[0m\n",
            "\u001b[1;32m~\\AppData\\Local\\Programs\\Python\\Python38\\lib\\site-packages\\tensorflow\\python\\eager\\function.py\u001b[0m in \u001b[0;36m__call__\u001b[1;34m(self, *args, **kwargs)\u001b[0m\n\u001b[0;32m   2940\u001b[0m       (graph_function,\n\u001b[0;32m   2941\u001b[0m        filtered_flat_args) = self._maybe_define_function(args, kwargs)\n\u001b[1;32m-> 2942\u001b[1;33m     return graph_function._call_flat(\n\u001b[0m\u001b[0;32m   2943\u001b[0m         filtered_flat_args, captured_inputs=graph_function.captured_inputs)  # pylint: disable=protected-access\n\u001b[0;32m   2944\u001b[0m \u001b[1;33m\u001b[0m\u001b[0m\n",
            "\u001b[1;32m~\\AppData\\Local\\Programs\\Python\\Python38\\lib\\site-packages\\tensorflow\\python\\eager\\function.py\u001b[0m in \u001b[0;36m_call_flat\u001b[1;34m(self, args, captured_inputs, cancellation_manager)\u001b[0m\n\u001b[0;32m   1916\u001b[0m         and executing_eagerly):\n\u001b[0;32m   1917\u001b[0m       \u001b[1;31m# No tape is watching; skip to running the function.\u001b[0m\u001b[1;33m\u001b[0m\u001b[1;33m\u001b[0m\u001b[1;33m\u001b[0m\u001b[0m\n\u001b[1;32m-> 1918\u001b[1;33m       return self._build_call_outputs(self._inference_function.call(\n\u001b[0m\u001b[0;32m   1919\u001b[0m           ctx, args, cancellation_manager=cancellation_manager))\n\u001b[0;32m   1920\u001b[0m     forward_backward = self._select_forward_and_backward_functions(\n",
            "\u001b[1;32m~\\AppData\\Local\\Programs\\Python\\Python38\\lib\\site-packages\\tensorflow\\python\\eager\\function.py\u001b[0m in \u001b[0;36mcall\u001b[1;34m(self, ctx, args, cancellation_manager)\u001b[0m\n\u001b[0;32m    553\u001b[0m       \u001b[1;32mwith\u001b[0m \u001b[0m_InterpolateFunctionError\u001b[0m\u001b[1;33m(\u001b[0m\u001b[0mself\u001b[0m\u001b[1;33m)\u001b[0m\u001b[1;33m:\u001b[0m\u001b[1;33m\u001b[0m\u001b[1;33m\u001b[0m\u001b[0m\n\u001b[0;32m    554\u001b[0m         \u001b[1;32mif\u001b[0m \u001b[0mcancellation_manager\u001b[0m \u001b[1;32mis\u001b[0m \u001b[1;32mNone\u001b[0m\u001b[1;33m:\u001b[0m\u001b[1;33m\u001b[0m\u001b[1;33m\u001b[0m\u001b[0m\n\u001b[1;32m--> 555\u001b[1;33m           outputs = execute.execute(\n\u001b[0m\u001b[0;32m    556\u001b[0m               \u001b[0mstr\u001b[0m\u001b[1;33m(\u001b[0m\u001b[0mself\u001b[0m\u001b[1;33m.\u001b[0m\u001b[0msignature\u001b[0m\u001b[1;33m.\u001b[0m\u001b[0mname\u001b[0m\u001b[1;33m)\u001b[0m\u001b[1;33m,\u001b[0m\u001b[1;33m\u001b[0m\u001b[1;33m\u001b[0m\u001b[0m\n\u001b[0;32m    557\u001b[0m               \u001b[0mnum_outputs\u001b[0m\u001b[1;33m=\u001b[0m\u001b[0mself\u001b[0m\u001b[1;33m.\u001b[0m\u001b[0m_num_outputs\u001b[0m\u001b[1;33m,\u001b[0m\u001b[1;33m\u001b[0m\u001b[1;33m\u001b[0m\u001b[0m\n",
            "\u001b[1;32m~\\AppData\\Local\\Programs\\Python\\Python38\\lib\\site-packages\\tensorflow\\python\\eager\\execute.py\u001b[0m in \u001b[0;36mquick_execute\u001b[1;34m(op_name, num_outputs, inputs, attrs, ctx, name)\u001b[0m\n\u001b[0;32m     57\u001b[0m   \u001b[1;32mtry\u001b[0m\u001b[1;33m:\u001b[0m\u001b[1;33m\u001b[0m\u001b[1;33m\u001b[0m\u001b[0m\n\u001b[0;32m     58\u001b[0m     \u001b[0mctx\u001b[0m\u001b[1;33m.\u001b[0m\u001b[0mensure_initialized\u001b[0m\u001b[1;33m(\u001b[0m\u001b[1;33m)\u001b[0m\u001b[1;33m\u001b[0m\u001b[1;33m\u001b[0m\u001b[0m\n\u001b[1;32m---> 59\u001b[1;33m     tensors = pywrap_tfe.TFE_Py_Execute(ctx._handle, device_name, op_name,\n\u001b[0m\u001b[0;32m     60\u001b[0m                                         inputs, attrs, num_outputs)\n\u001b[0;32m     61\u001b[0m   \u001b[1;32mexcept\u001b[0m \u001b[0mcore\u001b[0m\u001b[1;33m.\u001b[0m\u001b[0m_NotOkStatusException\u001b[0m \u001b[1;32mas\u001b[0m \u001b[0me\u001b[0m\u001b[1;33m:\u001b[0m\u001b[1;33m\u001b[0m\u001b[1;33m\u001b[0m\u001b[0m\n",
            "\u001b[1;31mKeyboardInterrupt\u001b[0m: "
          ]
        }
      ],
      "source": [
        "\n",
        "\n",
        "\n",
        "history=model.fit(x=X_train_train ,y=y_train_train[:,0], validation_data=(X_train_test,y_train_test[:,0]),epochs=10, batch_size=100, shuffle=True)\n",
        "\n",
        "\n",
        "\n"
      ]
    },
    {
      "cell_type": "code",
      "execution_count": 173,
      "metadata": {},
      "outputs": [
        {
          "output_type": "display_data",
          "data": {
            "text/plain": "<Figure size 432x288 with 1 Axes>",
            "image/svg+xml": "<?xml version=\"1.0\" encoding=\"utf-8\" standalone=\"no\"?>\r\n<!DOCTYPE svg PUBLIC \"-//W3C//DTD SVG 1.1//EN\"\r\n  \"http://www.w3.org/Graphics/SVG/1.1/DTD/svg11.dtd\">\r\n<!-- Created with matplotlib (https://matplotlib.org/) -->\r\n<svg height=\"277.314375pt\" version=\"1.1\" viewBox=\"0 0 404.86875 277.314375\" width=\"404.86875pt\" xmlns=\"http://www.w3.org/2000/svg\" xmlns:xlink=\"http://www.w3.org/1999/xlink\">\r\n <metadata>\r\n  <rdf:RDF xmlns:cc=\"http://creativecommons.org/ns#\" xmlns:dc=\"http://purl.org/dc/elements/1.1/\" xmlns:rdf=\"http://www.w3.org/1999/02/22-rdf-syntax-ns#\">\r\n   <cc:Work>\r\n    <dc:type rdf:resource=\"http://purl.org/dc/dcmitype/StillImage\"/>\r\n    <dc:date>2021-02-11T22:55:24.641792</dc:date>\r\n    <dc:format>image/svg+xml</dc:format>\r\n    <dc:creator>\r\n     <cc:Agent>\r\n      <dc:title>Matplotlib v3.3.3, https://matplotlib.org/</dc:title>\r\n     </cc:Agent>\r\n    </dc:creator>\r\n   </cc:Work>\r\n  </rdf:RDF>\r\n </metadata>\r\n <defs>\r\n  <style type=\"text/css\">*{stroke-linecap:butt;stroke-linejoin:round;}</style>\r\n </defs>\r\n <g id=\"figure_1\">\r\n  <g id=\"patch_1\">\r\n   <path d=\"M 0 277.314375 \r\nL 404.86875 277.314375 \r\nL 404.86875 0 \r\nL 0 0 \r\nz\r\n\" style=\"fill:none;\"/>\r\n  </g>\r\n  <g id=\"axes_1\">\r\n   <g id=\"patch_2\">\r\n    <path d=\"M 62.86875 239.758125 \r\nL 397.66875 239.758125 \r\nL 397.66875 22.318125 \r\nL 62.86875 22.318125 \r\nz\r\n\" style=\"fill:#ffffff;\"/>\r\n   </g>\r\n   <g id=\"matplotlib.axis_1\">\r\n    <g id=\"xtick_1\">\r\n     <g id=\"line2d_1\">\r\n      <defs>\r\n       <path d=\"M 0 0 \r\nL 0 3.5 \r\n\" id=\"m707bcd0e88\" style=\"stroke:#000000;stroke-width:0.8;\"/>\r\n      </defs>\r\n      <g>\r\n       <use style=\"stroke:#000000;stroke-width:0.8;\" x=\"78.086932\" xlink:href=\"#m707bcd0e88\" y=\"239.758125\"/>\r\n      </g>\r\n     </g>\r\n     <g id=\"text_1\">\r\n      <!-- 0 -->\r\n      <g transform=\"translate(74.905682 254.356562)scale(0.1 -0.1)\">\r\n       <defs>\r\n        <path d=\"M 31.78125 66.40625 \r\nQ 24.171875 66.40625 20.328125 58.90625 \r\nQ 16.5 51.421875 16.5 36.375 \r\nQ 16.5 21.390625 20.328125 13.890625 \r\nQ 24.171875 6.390625 31.78125 6.390625 \r\nQ 39.453125 6.390625 43.28125 13.890625 \r\nQ 47.125 21.390625 47.125 36.375 \r\nQ 47.125 51.421875 43.28125 58.90625 \r\nQ 39.453125 66.40625 31.78125 66.40625 \r\nz\r\nM 31.78125 74.21875 \r\nQ 44.046875 74.21875 50.515625 64.515625 \r\nQ 56.984375 54.828125 56.984375 36.375 \r\nQ 56.984375 17.96875 50.515625 8.265625 \r\nQ 44.046875 -1.421875 31.78125 -1.421875 \r\nQ 19.53125 -1.421875 13.0625 8.265625 \r\nQ 6.59375 17.96875 6.59375 36.375 \r\nQ 6.59375 54.828125 13.0625 64.515625 \r\nQ 19.53125 74.21875 31.78125 74.21875 \r\nz\r\n\" id=\"DejaVuSans-48\"/>\r\n       </defs>\r\n       <use xlink:href=\"#DejaVuSans-48\"/>\r\n      </g>\r\n     </g>\r\n    </g>\r\n    <g id=\"xtick_2\">\r\n     <g id=\"line2d_2\">\r\n      <g>\r\n       <use style=\"stroke:#000000;stroke-width:0.8;\" x=\"145.723295\" xlink:href=\"#m707bcd0e88\" y=\"239.758125\"/>\r\n      </g>\r\n     </g>\r\n     <g id=\"text_2\">\r\n      <!-- 2 -->\r\n      <g transform=\"translate(142.542045 254.356562)scale(0.1 -0.1)\">\r\n       <defs>\r\n        <path d=\"M 19.1875 8.296875 \r\nL 53.609375 8.296875 \r\nL 53.609375 0 \r\nL 7.328125 0 \r\nL 7.328125 8.296875 \r\nQ 12.9375 14.109375 22.625 23.890625 \r\nQ 32.328125 33.6875 34.8125 36.53125 \r\nQ 39.546875 41.84375 41.421875 45.53125 \r\nQ 43.3125 49.21875 43.3125 52.78125 \r\nQ 43.3125 58.59375 39.234375 62.25 \r\nQ 35.15625 65.921875 28.609375 65.921875 \r\nQ 23.96875 65.921875 18.8125 64.3125 \r\nQ 13.671875 62.703125 7.8125 59.421875 \r\nL 7.8125 69.390625 \r\nQ 13.765625 71.78125 18.9375 73 \r\nQ 24.125 74.21875 28.421875 74.21875 \r\nQ 39.75 74.21875 46.484375 68.546875 \r\nQ 53.21875 62.890625 53.21875 53.421875 \r\nQ 53.21875 48.921875 51.53125 44.890625 \r\nQ 49.859375 40.875 45.40625 35.40625 \r\nQ 44.1875 33.984375 37.640625 27.21875 \r\nQ 31.109375 20.453125 19.1875 8.296875 \r\nz\r\n\" id=\"DejaVuSans-50\"/>\r\n       </defs>\r\n       <use xlink:href=\"#DejaVuSans-50\"/>\r\n      </g>\r\n     </g>\r\n    </g>\r\n    <g id=\"xtick_3\">\r\n     <g id=\"line2d_3\">\r\n      <g>\r\n       <use style=\"stroke:#000000;stroke-width:0.8;\" x=\"213.359659\" xlink:href=\"#m707bcd0e88\" y=\"239.758125\"/>\r\n      </g>\r\n     </g>\r\n     <g id=\"text_3\">\r\n      <!-- 4 -->\r\n      <g transform=\"translate(210.178409 254.356562)scale(0.1 -0.1)\">\r\n       <defs>\r\n        <path d=\"M 37.796875 64.3125 \r\nL 12.890625 25.390625 \r\nL 37.796875 25.390625 \r\nz\r\nM 35.203125 72.90625 \r\nL 47.609375 72.90625 \r\nL 47.609375 25.390625 \r\nL 58.015625 25.390625 \r\nL 58.015625 17.1875 \r\nL 47.609375 17.1875 \r\nL 47.609375 0 \r\nL 37.796875 0 \r\nL 37.796875 17.1875 \r\nL 4.890625 17.1875 \r\nL 4.890625 26.703125 \r\nz\r\n\" id=\"DejaVuSans-52\"/>\r\n       </defs>\r\n       <use xlink:href=\"#DejaVuSans-52\"/>\r\n      </g>\r\n     </g>\r\n    </g>\r\n    <g id=\"xtick_4\">\r\n     <g id=\"line2d_4\">\r\n      <g>\r\n       <use style=\"stroke:#000000;stroke-width:0.8;\" x=\"280.996023\" xlink:href=\"#m707bcd0e88\" y=\"239.758125\"/>\r\n      </g>\r\n     </g>\r\n     <g id=\"text_4\">\r\n      <!-- 6 -->\r\n      <g transform=\"translate(277.814773 254.356562)scale(0.1 -0.1)\">\r\n       <defs>\r\n        <path d=\"M 33.015625 40.375 \r\nQ 26.375 40.375 22.484375 35.828125 \r\nQ 18.609375 31.296875 18.609375 23.390625 \r\nQ 18.609375 15.53125 22.484375 10.953125 \r\nQ 26.375 6.390625 33.015625 6.390625 \r\nQ 39.65625 6.390625 43.53125 10.953125 \r\nQ 47.40625 15.53125 47.40625 23.390625 \r\nQ 47.40625 31.296875 43.53125 35.828125 \r\nQ 39.65625 40.375 33.015625 40.375 \r\nz\r\nM 52.59375 71.296875 \r\nL 52.59375 62.3125 \r\nQ 48.875 64.0625 45.09375 64.984375 \r\nQ 41.3125 65.921875 37.59375 65.921875 \r\nQ 27.828125 65.921875 22.671875 59.328125 \r\nQ 17.53125 52.734375 16.796875 39.40625 \r\nQ 19.671875 43.65625 24.015625 45.921875 \r\nQ 28.375 48.1875 33.59375 48.1875 \r\nQ 44.578125 48.1875 50.953125 41.515625 \r\nQ 57.328125 34.859375 57.328125 23.390625 \r\nQ 57.328125 12.15625 50.6875 5.359375 \r\nQ 44.046875 -1.421875 33.015625 -1.421875 \r\nQ 20.359375 -1.421875 13.671875 8.265625 \r\nQ 6.984375 17.96875 6.984375 36.375 \r\nQ 6.984375 53.65625 15.1875 63.9375 \r\nQ 23.390625 74.21875 37.203125 74.21875 \r\nQ 40.921875 74.21875 44.703125 73.484375 \r\nQ 48.484375 72.75 52.59375 71.296875 \r\nz\r\n\" id=\"DejaVuSans-54\"/>\r\n       </defs>\r\n       <use xlink:href=\"#DejaVuSans-54\"/>\r\n      </g>\r\n     </g>\r\n    </g>\r\n    <g id=\"xtick_5\">\r\n     <g id=\"line2d_5\">\r\n      <g>\r\n       <use style=\"stroke:#000000;stroke-width:0.8;\" x=\"348.632386\" xlink:href=\"#m707bcd0e88\" y=\"239.758125\"/>\r\n      </g>\r\n     </g>\r\n     <g id=\"text_5\">\r\n      <!-- 8 -->\r\n      <g transform=\"translate(345.451136 254.356562)scale(0.1 -0.1)\">\r\n       <defs>\r\n        <path d=\"M 31.78125 34.625 \r\nQ 24.75 34.625 20.71875 30.859375 \r\nQ 16.703125 27.09375 16.703125 20.515625 \r\nQ 16.703125 13.921875 20.71875 10.15625 \r\nQ 24.75 6.390625 31.78125 6.390625 \r\nQ 38.8125 6.390625 42.859375 10.171875 \r\nQ 46.921875 13.96875 46.921875 20.515625 \r\nQ 46.921875 27.09375 42.890625 30.859375 \r\nQ 38.875 34.625 31.78125 34.625 \r\nz\r\nM 21.921875 38.8125 \r\nQ 15.578125 40.375 12.03125 44.71875 \r\nQ 8.5 49.078125 8.5 55.328125 \r\nQ 8.5 64.0625 14.71875 69.140625 \r\nQ 20.953125 74.21875 31.78125 74.21875 \r\nQ 42.671875 74.21875 48.875 69.140625 \r\nQ 55.078125 64.0625 55.078125 55.328125 \r\nQ 55.078125 49.078125 51.53125 44.71875 \r\nQ 48 40.375 41.703125 38.8125 \r\nQ 48.828125 37.15625 52.796875 32.3125 \r\nQ 56.78125 27.484375 56.78125 20.515625 \r\nQ 56.78125 9.90625 50.3125 4.234375 \r\nQ 43.84375 -1.421875 31.78125 -1.421875 \r\nQ 19.734375 -1.421875 13.25 4.234375 \r\nQ 6.78125 9.90625 6.78125 20.515625 \r\nQ 6.78125 27.484375 10.78125 32.3125 \r\nQ 14.796875 37.15625 21.921875 38.8125 \r\nz\r\nM 18.3125 54.390625 \r\nQ 18.3125 48.734375 21.84375 45.5625 \r\nQ 25.390625 42.390625 31.78125 42.390625 \r\nQ 38.140625 42.390625 41.71875 45.5625 \r\nQ 45.3125 48.734375 45.3125 54.390625 \r\nQ 45.3125 60.0625 41.71875 63.234375 \r\nQ 38.140625 66.40625 31.78125 66.40625 \r\nQ 25.390625 66.40625 21.84375 63.234375 \r\nQ 18.3125 60.0625 18.3125 54.390625 \r\nz\r\n\" id=\"DejaVuSans-56\"/>\r\n       </defs>\r\n       <use xlink:href=\"#DejaVuSans-56\"/>\r\n      </g>\r\n     </g>\r\n    </g>\r\n    <g id=\"text_6\">\r\n     <!-- epoch -->\r\n     <g transform=\"translate(215.040625 268.034687)scale(0.1 -0.1)\">\r\n      <defs>\r\n       <path d=\"M 56.203125 29.59375 \r\nL 56.203125 25.203125 \r\nL 14.890625 25.203125 \r\nQ 15.484375 15.921875 20.484375 11.0625 \r\nQ 25.484375 6.203125 34.421875 6.203125 \r\nQ 39.59375 6.203125 44.453125 7.46875 \r\nQ 49.3125 8.734375 54.109375 11.28125 \r\nL 54.109375 2.78125 \r\nQ 49.265625 0.734375 44.1875 -0.34375 \r\nQ 39.109375 -1.421875 33.890625 -1.421875 \r\nQ 20.796875 -1.421875 13.15625 6.1875 \r\nQ 5.515625 13.8125 5.515625 26.8125 \r\nQ 5.515625 40.234375 12.765625 48.109375 \r\nQ 20.015625 56 32.328125 56 \r\nQ 43.359375 56 49.78125 48.890625 \r\nQ 56.203125 41.796875 56.203125 29.59375 \r\nz\r\nM 47.21875 32.234375 \r\nQ 47.125 39.59375 43.09375 43.984375 \r\nQ 39.0625 48.390625 32.421875 48.390625 \r\nQ 24.90625 48.390625 20.390625 44.140625 \r\nQ 15.875 39.890625 15.1875 32.171875 \r\nz\r\n\" id=\"DejaVuSans-101\"/>\r\n       <path d=\"M 18.109375 8.203125 \r\nL 18.109375 -20.796875 \r\nL 9.078125 -20.796875 \r\nL 9.078125 54.6875 \r\nL 18.109375 54.6875 \r\nL 18.109375 46.390625 \r\nQ 20.953125 51.265625 25.265625 53.625 \r\nQ 29.59375 56 35.59375 56 \r\nQ 45.5625 56 51.78125 48.09375 \r\nQ 58.015625 40.1875 58.015625 27.296875 \r\nQ 58.015625 14.40625 51.78125 6.484375 \r\nQ 45.5625 -1.421875 35.59375 -1.421875 \r\nQ 29.59375 -1.421875 25.265625 0.953125 \r\nQ 20.953125 3.328125 18.109375 8.203125 \r\nz\r\nM 48.6875 27.296875 \r\nQ 48.6875 37.203125 44.609375 42.84375 \r\nQ 40.53125 48.484375 33.40625 48.484375 \r\nQ 26.265625 48.484375 22.1875 42.84375 \r\nQ 18.109375 37.203125 18.109375 27.296875 \r\nQ 18.109375 17.390625 22.1875 11.75 \r\nQ 26.265625 6.109375 33.40625 6.109375 \r\nQ 40.53125 6.109375 44.609375 11.75 \r\nQ 48.6875 17.390625 48.6875 27.296875 \r\nz\r\n\" id=\"DejaVuSans-112\"/>\r\n       <path d=\"M 30.609375 48.390625 \r\nQ 23.390625 48.390625 19.1875 42.75 \r\nQ 14.984375 37.109375 14.984375 27.296875 \r\nQ 14.984375 17.484375 19.15625 11.84375 \r\nQ 23.34375 6.203125 30.609375 6.203125 \r\nQ 37.796875 6.203125 41.984375 11.859375 \r\nQ 46.1875 17.53125 46.1875 27.296875 \r\nQ 46.1875 37.015625 41.984375 42.703125 \r\nQ 37.796875 48.390625 30.609375 48.390625 \r\nz\r\nM 30.609375 56 \r\nQ 42.328125 56 49.015625 48.375 \r\nQ 55.71875 40.765625 55.71875 27.296875 \r\nQ 55.71875 13.875 49.015625 6.21875 \r\nQ 42.328125 -1.421875 30.609375 -1.421875 \r\nQ 18.84375 -1.421875 12.171875 6.21875 \r\nQ 5.515625 13.875 5.515625 27.296875 \r\nQ 5.515625 40.765625 12.171875 48.375 \r\nQ 18.84375 56 30.609375 56 \r\nz\r\n\" id=\"DejaVuSans-111\"/>\r\n       <path d=\"M 48.78125 52.59375 \r\nL 48.78125 44.1875 \r\nQ 44.96875 46.296875 41.140625 47.34375 \r\nQ 37.3125 48.390625 33.40625 48.390625 \r\nQ 24.65625 48.390625 19.8125 42.84375 \r\nQ 14.984375 37.3125 14.984375 27.296875 \r\nQ 14.984375 17.28125 19.8125 11.734375 \r\nQ 24.65625 6.203125 33.40625 6.203125 \r\nQ 37.3125 6.203125 41.140625 7.25 \r\nQ 44.96875 8.296875 48.78125 10.40625 \r\nL 48.78125 2.09375 \r\nQ 45.015625 0.34375 40.984375 -0.53125 \r\nQ 36.96875 -1.421875 32.421875 -1.421875 \r\nQ 20.0625 -1.421875 12.78125 6.34375 \r\nQ 5.515625 14.109375 5.515625 27.296875 \r\nQ 5.515625 40.671875 12.859375 48.328125 \r\nQ 20.21875 56 33.015625 56 \r\nQ 37.15625 56 41.109375 55.140625 \r\nQ 45.0625 54.296875 48.78125 52.59375 \r\nz\r\n\" id=\"DejaVuSans-99\"/>\r\n       <path d=\"M 54.890625 33.015625 \r\nL 54.890625 0 \r\nL 45.90625 0 \r\nL 45.90625 32.71875 \r\nQ 45.90625 40.484375 42.875 44.328125 \r\nQ 39.84375 48.1875 33.796875 48.1875 \r\nQ 26.515625 48.1875 22.3125 43.546875 \r\nQ 18.109375 38.921875 18.109375 30.90625 \r\nL 18.109375 0 \r\nL 9.078125 0 \r\nL 9.078125 75.984375 \r\nL 18.109375 75.984375 \r\nL 18.109375 46.1875 \r\nQ 21.34375 51.125 25.703125 53.5625 \r\nQ 30.078125 56 35.796875 56 \r\nQ 45.21875 56 50.046875 50.171875 \r\nQ 54.890625 44.34375 54.890625 33.015625 \r\nz\r\n\" id=\"DejaVuSans-104\"/>\r\n      </defs>\r\n      <use xlink:href=\"#DejaVuSans-101\"/>\r\n      <use x=\"61.523438\" xlink:href=\"#DejaVuSans-112\"/>\r\n      <use x=\"125\" xlink:href=\"#DejaVuSans-111\"/>\r\n      <use x=\"186.181641\" xlink:href=\"#DejaVuSans-99\"/>\r\n      <use x=\"241.162109\" xlink:href=\"#DejaVuSans-104\"/>\r\n     </g>\r\n    </g>\r\n   </g>\r\n   <g id=\"matplotlib.axis_2\">\r\n    <g id=\"ytick_1\">\r\n     <g id=\"line2d_6\">\r\n      <defs>\r\n       <path d=\"M 0 0 \r\nL -3.5 0 \r\n\" id=\"m9d57036ff3\" style=\"stroke:#000000;stroke-width:0.8;\"/>\r\n      </defs>\r\n      <g>\r\n       <use style=\"stroke:#000000;stroke-width:0.8;\" x=\"62.86875\" xlink:href=\"#m9d57036ff3\" y=\"216.632882\"/>\r\n      </g>\r\n     </g>\r\n     <g id=\"text_7\">\r\n      <!-- 0.5684 -->\r\n      <g transform=\"translate(20.878125 220.432101)scale(0.1 -0.1)\">\r\n       <defs>\r\n        <path d=\"M 10.6875 12.40625 \r\nL 21 12.40625 \r\nL 21 0 \r\nL 10.6875 0 \r\nz\r\n\" id=\"DejaVuSans-46\"/>\r\n        <path d=\"M 10.796875 72.90625 \r\nL 49.515625 72.90625 \r\nL 49.515625 64.59375 \r\nL 19.828125 64.59375 \r\nL 19.828125 46.734375 \r\nQ 21.96875 47.46875 24.109375 47.828125 \r\nQ 26.265625 48.1875 28.421875 48.1875 \r\nQ 40.625 48.1875 47.75 41.5 \r\nQ 54.890625 34.8125 54.890625 23.390625 \r\nQ 54.890625 11.625 47.5625 5.09375 \r\nQ 40.234375 -1.421875 26.90625 -1.421875 \r\nQ 22.3125 -1.421875 17.546875 -0.640625 \r\nQ 12.796875 0.140625 7.71875 1.703125 \r\nL 7.71875 11.625 \r\nQ 12.109375 9.234375 16.796875 8.0625 \r\nQ 21.484375 6.890625 26.703125 6.890625 \r\nQ 35.15625 6.890625 40.078125 11.328125 \r\nQ 45.015625 15.765625 45.015625 23.390625 \r\nQ 45.015625 31 40.078125 35.4375 \r\nQ 35.15625 39.890625 26.703125 39.890625 \r\nQ 22.75 39.890625 18.8125 39.015625 \r\nQ 14.890625 38.140625 10.796875 36.28125 \r\nz\r\n\" id=\"DejaVuSans-53\"/>\r\n       </defs>\r\n       <use xlink:href=\"#DejaVuSans-48\"/>\r\n       <use x=\"63.623047\" xlink:href=\"#DejaVuSans-46\"/>\r\n       <use x=\"95.410156\" xlink:href=\"#DejaVuSans-53\"/>\r\n       <use x=\"159.033203\" xlink:href=\"#DejaVuSans-54\"/>\r\n       <use x=\"222.65625\" xlink:href=\"#DejaVuSans-56\"/>\r\n       <use x=\"286.279297\" xlink:href=\"#DejaVuSans-52\"/>\r\n      </g>\r\n     </g>\r\n    </g>\r\n    <g id=\"ytick_2\">\r\n     <g id=\"line2d_7\">\r\n      <g>\r\n       <use style=\"stroke:#000000;stroke-width:0.8;\" x=\"62.86875\" xlink:href=\"#m9d57036ff3\" y=\"184.462952\"/>\r\n      </g>\r\n     </g>\r\n     <g id=\"text_8\">\r\n      <!-- 0.5685 -->\r\n      <g transform=\"translate(20.878125 188.262171)scale(0.1 -0.1)\">\r\n       <use xlink:href=\"#DejaVuSans-48\"/>\r\n       <use x=\"63.623047\" xlink:href=\"#DejaVuSans-46\"/>\r\n       <use x=\"95.410156\" xlink:href=\"#DejaVuSans-53\"/>\r\n       <use x=\"159.033203\" xlink:href=\"#DejaVuSans-54\"/>\r\n       <use x=\"222.65625\" xlink:href=\"#DejaVuSans-56\"/>\r\n       <use x=\"286.279297\" xlink:href=\"#DejaVuSans-53\"/>\r\n      </g>\r\n     </g>\r\n    </g>\r\n    <g id=\"ytick_3\">\r\n     <g id=\"line2d_8\">\r\n      <g>\r\n       <use style=\"stroke:#000000;stroke-width:0.8;\" x=\"62.86875\" xlink:href=\"#m9d57036ff3\" y=\"152.293023\"/>\r\n      </g>\r\n     </g>\r\n     <g id=\"text_9\">\r\n      <!-- 0.5686 -->\r\n      <g transform=\"translate(20.878125 156.092241)scale(0.1 -0.1)\">\r\n       <use xlink:href=\"#DejaVuSans-48\"/>\r\n       <use x=\"63.623047\" xlink:href=\"#DejaVuSans-46\"/>\r\n       <use x=\"95.410156\" xlink:href=\"#DejaVuSans-53\"/>\r\n       <use x=\"159.033203\" xlink:href=\"#DejaVuSans-54\"/>\r\n       <use x=\"222.65625\" xlink:href=\"#DejaVuSans-56\"/>\r\n       <use x=\"286.279297\" xlink:href=\"#DejaVuSans-54\"/>\r\n      </g>\r\n     </g>\r\n    </g>\r\n    <g id=\"ytick_4\">\r\n     <g id=\"line2d_9\">\r\n      <g>\r\n       <use style=\"stroke:#000000;stroke-width:0.8;\" x=\"62.86875\" xlink:href=\"#m9d57036ff3\" y=\"120.123093\"/>\r\n      </g>\r\n     </g>\r\n     <g id=\"text_10\">\r\n      <!-- 0.5687 -->\r\n      <g transform=\"translate(20.878125 123.922312)scale(0.1 -0.1)\">\r\n       <defs>\r\n        <path d=\"M 8.203125 72.90625 \r\nL 55.078125 72.90625 \r\nL 55.078125 68.703125 \r\nL 28.609375 0 \r\nL 18.3125 0 \r\nL 43.21875 64.59375 \r\nL 8.203125 64.59375 \r\nz\r\n\" id=\"DejaVuSans-55\"/>\r\n       </defs>\r\n       <use xlink:href=\"#DejaVuSans-48\"/>\r\n       <use x=\"63.623047\" xlink:href=\"#DejaVuSans-46\"/>\r\n       <use x=\"95.410156\" xlink:href=\"#DejaVuSans-53\"/>\r\n       <use x=\"159.033203\" xlink:href=\"#DejaVuSans-54\"/>\r\n       <use x=\"222.65625\" xlink:href=\"#DejaVuSans-56\"/>\r\n       <use x=\"286.279297\" xlink:href=\"#DejaVuSans-55\"/>\r\n      </g>\r\n     </g>\r\n    </g>\r\n    <g id=\"ytick_5\">\r\n     <g id=\"line2d_10\">\r\n      <g>\r\n       <use style=\"stroke:#000000;stroke-width:0.8;\" x=\"62.86875\" xlink:href=\"#m9d57036ff3\" y=\"87.953163\"/>\r\n      </g>\r\n     </g>\r\n     <g id=\"text_11\">\r\n      <!-- 0.5688 -->\r\n      <g transform=\"translate(20.878125 91.752382)scale(0.1 -0.1)\">\r\n       <use xlink:href=\"#DejaVuSans-48\"/>\r\n       <use x=\"63.623047\" xlink:href=\"#DejaVuSans-46\"/>\r\n       <use x=\"95.410156\" xlink:href=\"#DejaVuSans-53\"/>\r\n       <use x=\"159.033203\" xlink:href=\"#DejaVuSans-54\"/>\r\n       <use x=\"222.65625\" xlink:href=\"#DejaVuSans-56\"/>\r\n       <use x=\"286.279297\" xlink:href=\"#DejaVuSans-56\"/>\r\n      </g>\r\n     </g>\r\n    </g>\r\n    <g id=\"ytick_6\">\r\n     <g id=\"line2d_11\">\r\n      <g>\r\n       <use style=\"stroke:#000000;stroke-width:0.8;\" x=\"62.86875\" xlink:href=\"#m9d57036ff3\" y=\"55.783234\"/>\r\n      </g>\r\n     </g>\r\n     <g id=\"text_12\">\r\n      <!-- 0.5689 -->\r\n      <g transform=\"translate(20.878125 59.582453)scale(0.1 -0.1)\">\r\n       <defs>\r\n        <path d=\"M 10.984375 1.515625 \r\nL 10.984375 10.5 \r\nQ 14.703125 8.734375 18.5 7.8125 \r\nQ 22.3125 6.890625 25.984375 6.890625 \r\nQ 35.75 6.890625 40.890625 13.453125 \r\nQ 46.046875 20.015625 46.78125 33.40625 \r\nQ 43.953125 29.203125 39.59375 26.953125 \r\nQ 35.25 24.703125 29.984375 24.703125 \r\nQ 19.046875 24.703125 12.671875 31.3125 \r\nQ 6.296875 37.9375 6.296875 49.421875 \r\nQ 6.296875 60.640625 12.9375 67.421875 \r\nQ 19.578125 74.21875 30.609375 74.21875 \r\nQ 43.265625 74.21875 49.921875 64.515625 \r\nQ 56.59375 54.828125 56.59375 36.375 \r\nQ 56.59375 19.140625 48.40625 8.859375 \r\nQ 40.234375 -1.421875 26.421875 -1.421875 \r\nQ 22.703125 -1.421875 18.890625 -0.6875 \r\nQ 15.09375 0.046875 10.984375 1.515625 \r\nz\r\nM 30.609375 32.421875 \r\nQ 37.25 32.421875 41.125 36.953125 \r\nQ 45.015625 41.5 45.015625 49.421875 \r\nQ 45.015625 57.28125 41.125 61.84375 \r\nQ 37.25 66.40625 30.609375 66.40625 \r\nQ 23.96875 66.40625 20.09375 61.84375 \r\nQ 16.21875 57.28125 16.21875 49.421875 \r\nQ 16.21875 41.5 20.09375 36.953125 \r\nQ 23.96875 32.421875 30.609375 32.421875 \r\nz\r\n\" id=\"DejaVuSans-57\"/>\r\n       </defs>\r\n       <use xlink:href=\"#DejaVuSans-48\"/>\r\n       <use x=\"63.623047\" xlink:href=\"#DejaVuSans-46\"/>\r\n       <use x=\"95.410156\" xlink:href=\"#DejaVuSans-53\"/>\r\n       <use x=\"159.033203\" xlink:href=\"#DejaVuSans-54\"/>\r\n       <use x=\"222.65625\" xlink:href=\"#DejaVuSans-56\"/>\r\n       <use x=\"286.279297\" xlink:href=\"#DejaVuSans-57\"/>\r\n      </g>\r\n     </g>\r\n    </g>\r\n    <g id=\"ytick_7\">\r\n     <g id=\"line2d_12\">\r\n      <g>\r\n       <use style=\"stroke:#000000;stroke-width:0.8;\" x=\"62.86875\" xlink:href=\"#m9d57036ff3\" y=\"23.613304\"/>\r\n      </g>\r\n     </g>\r\n     <g id=\"text_13\">\r\n      <!-- 0.5690 -->\r\n      <g transform=\"translate(20.878125 27.412523)scale(0.1 -0.1)\">\r\n       <use xlink:href=\"#DejaVuSans-48\"/>\r\n       <use x=\"63.623047\" xlink:href=\"#DejaVuSans-46\"/>\r\n       <use x=\"95.410156\" xlink:href=\"#DejaVuSans-53\"/>\r\n       <use x=\"159.033203\" xlink:href=\"#DejaVuSans-54\"/>\r\n       <use x=\"222.65625\" xlink:href=\"#DejaVuSans-57\"/>\r\n       <use x=\"286.279297\" xlink:href=\"#DejaVuSans-48\"/>\r\n      </g>\r\n     </g>\r\n    </g>\r\n    <g id=\"text_14\">\r\n     <!-- accuracy -->\r\n     <g transform=\"translate(14.798438 153.5975)rotate(-90)scale(0.1 -0.1)\">\r\n      <defs>\r\n       <path d=\"M 34.28125 27.484375 \r\nQ 23.390625 27.484375 19.1875 25 \r\nQ 14.984375 22.515625 14.984375 16.5 \r\nQ 14.984375 11.71875 18.140625 8.90625 \r\nQ 21.296875 6.109375 26.703125 6.109375 \r\nQ 34.1875 6.109375 38.703125 11.40625 \r\nQ 43.21875 16.703125 43.21875 25.484375 \r\nL 43.21875 27.484375 \r\nz\r\nM 52.203125 31.203125 \r\nL 52.203125 0 \r\nL 43.21875 0 \r\nL 43.21875 8.296875 \r\nQ 40.140625 3.328125 35.546875 0.953125 \r\nQ 30.953125 -1.421875 24.3125 -1.421875 \r\nQ 15.921875 -1.421875 10.953125 3.296875 \r\nQ 6 8.015625 6 15.921875 \r\nQ 6 25.140625 12.171875 29.828125 \r\nQ 18.359375 34.515625 30.609375 34.515625 \r\nL 43.21875 34.515625 \r\nL 43.21875 35.40625 \r\nQ 43.21875 41.609375 39.140625 45 \r\nQ 35.0625 48.390625 27.6875 48.390625 \r\nQ 23 48.390625 18.546875 47.265625 \r\nQ 14.109375 46.140625 10.015625 43.890625 \r\nL 10.015625 52.203125 \r\nQ 14.9375 54.109375 19.578125 55.046875 \r\nQ 24.21875 56 28.609375 56 \r\nQ 40.484375 56 46.34375 49.84375 \r\nQ 52.203125 43.703125 52.203125 31.203125 \r\nz\r\n\" id=\"DejaVuSans-97\"/>\r\n       <path d=\"M 8.5 21.578125 \r\nL 8.5 54.6875 \r\nL 17.484375 54.6875 \r\nL 17.484375 21.921875 \r\nQ 17.484375 14.15625 20.5 10.265625 \r\nQ 23.53125 6.390625 29.59375 6.390625 \r\nQ 36.859375 6.390625 41.078125 11.03125 \r\nQ 45.3125 15.671875 45.3125 23.6875 \r\nL 45.3125 54.6875 \r\nL 54.296875 54.6875 \r\nL 54.296875 0 \r\nL 45.3125 0 \r\nL 45.3125 8.40625 \r\nQ 42.046875 3.421875 37.71875 1 \r\nQ 33.40625 -1.421875 27.6875 -1.421875 \r\nQ 18.265625 -1.421875 13.375 4.4375 \r\nQ 8.5 10.296875 8.5 21.578125 \r\nz\r\nM 31.109375 56 \r\nz\r\n\" id=\"DejaVuSans-117\"/>\r\n       <path d=\"M 41.109375 46.296875 \r\nQ 39.59375 47.171875 37.8125 47.578125 \r\nQ 36.03125 48 33.890625 48 \r\nQ 26.265625 48 22.1875 43.046875 \r\nQ 18.109375 38.09375 18.109375 28.8125 \r\nL 18.109375 0 \r\nL 9.078125 0 \r\nL 9.078125 54.6875 \r\nL 18.109375 54.6875 \r\nL 18.109375 46.1875 \r\nQ 20.953125 51.171875 25.484375 53.578125 \r\nQ 30.03125 56 36.53125 56 \r\nQ 37.453125 56 38.578125 55.875 \r\nQ 39.703125 55.765625 41.0625 55.515625 \r\nz\r\n\" id=\"DejaVuSans-114\"/>\r\n       <path d=\"M 32.171875 -5.078125 \r\nQ 28.375 -14.84375 24.75 -17.8125 \r\nQ 21.140625 -20.796875 15.09375 -20.796875 \r\nL 7.90625 -20.796875 \r\nL 7.90625 -13.28125 \r\nL 13.1875 -13.28125 \r\nQ 16.890625 -13.28125 18.9375 -11.515625 \r\nQ 21 -9.765625 23.484375 -3.21875 \r\nL 25.09375 0.875 \r\nL 2.984375 54.6875 \r\nL 12.5 54.6875 \r\nL 29.59375 11.921875 \r\nL 46.6875 54.6875 \r\nL 56.203125 54.6875 \r\nz\r\n\" id=\"DejaVuSans-121\"/>\r\n      </defs>\r\n      <use xlink:href=\"#DejaVuSans-97\"/>\r\n      <use x=\"61.279297\" xlink:href=\"#DejaVuSans-99\"/>\r\n      <use x=\"116.259766\" xlink:href=\"#DejaVuSans-99\"/>\r\n      <use x=\"171.240234\" xlink:href=\"#DejaVuSans-117\"/>\r\n      <use x=\"234.619141\" xlink:href=\"#DejaVuSans-114\"/>\r\n      <use x=\"275.732422\" xlink:href=\"#DejaVuSans-97\"/>\r\n      <use x=\"337.011719\" xlink:href=\"#DejaVuSans-99\"/>\r\n      <use x=\"391.992188\" xlink:href=\"#DejaVuSans-121\"/>\r\n     </g>\r\n    </g>\r\n   </g>\r\n   <g id=\"line2d_13\">\r\n    <path clip-path=\"url(#p6ce542fcdc)\" d=\"M 78.086932 76.092815 \r\nL 111.905114 32.201761 \r\nL 145.723295 32.201761 \r\nL 179.541477 32.201761 \r\nL 213.359659 32.201761 \r\nL 247.177841 32.201761 \r\nL 280.996023 32.201761 \r\nL 314.814205 32.201761 \r\nL 348.632386 32.201761 \r\nL 382.450568 32.201761 \r\n\" style=\"fill:none;stroke:#1f77b4;stroke-linecap:square;stroke-width:1.5;\"/>\r\n   </g>\r\n   <g id=\"line2d_14\">\r\n    <path clip-path=\"url(#p6ce542fcdc)\" d=\"M 78.086932 229.874489 \r\nL 111.905114 229.874489 \r\nL 145.723295 229.874489 \r\nL 179.541477 229.874489 \r\nL 213.359659 229.874489 \r\nL 247.177841 229.874489 \r\nL 280.996023 229.874489 \r\nL 314.814205 229.874489 \r\nL 348.632386 229.874489 \r\nL 382.450568 229.874489 \r\n\" style=\"fill:none;stroke:#ff7f0e;stroke-linecap:square;stroke-width:1.5;\"/>\r\n   </g>\r\n   <g id=\"patch_3\">\r\n    <path d=\"M 62.86875 239.758125 \r\nL 62.86875 22.318125 \r\n\" style=\"fill:none;stroke:#000000;stroke-linecap:square;stroke-linejoin:miter;stroke-width:0.8;\"/>\r\n   </g>\r\n   <g id=\"patch_4\">\r\n    <path d=\"M 397.66875 239.758125 \r\nL 397.66875 22.318125 \r\n\" style=\"fill:none;stroke:#000000;stroke-linecap:square;stroke-linejoin:miter;stroke-width:0.8;\"/>\r\n   </g>\r\n   <g id=\"patch_5\">\r\n    <path d=\"M 62.86875 239.758125 \r\nL 397.66875 239.758125 \r\n\" style=\"fill:none;stroke:#000000;stroke-linecap:square;stroke-linejoin:miter;stroke-width:0.8;\"/>\r\n   </g>\r\n   <g id=\"patch_6\">\r\n    <path d=\"M 62.86875 22.318125 \r\nL 397.66875 22.318125 \r\n\" style=\"fill:none;stroke:#000000;stroke-linecap:square;stroke-linejoin:miter;stroke-width:0.8;\"/>\r\n   </g>\r\n   <g id=\"text_15\">\r\n    <!-- Baseline model accuracy -->\r\n    <g transform=\"translate(155.26125 16.318125)scale(0.12 -0.12)\">\r\n     <defs>\r\n      <path d=\"M 19.671875 34.8125 \r\nL 19.671875 8.109375 \r\nL 35.5 8.109375 \r\nQ 43.453125 8.109375 47.28125 11.40625 \r\nQ 51.125 14.703125 51.125 21.484375 \r\nQ 51.125 28.328125 47.28125 31.5625 \r\nQ 43.453125 34.8125 35.5 34.8125 \r\nz\r\nM 19.671875 64.796875 \r\nL 19.671875 42.828125 \r\nL 34.28125 42.828125 \r\nQ 41.5 42.828125 45.03125 45.53125 \r\nQ 48.578125 48.25 48.578125 53.8125 \r\nQ 48.578125 59.328125 45.03125 62.0625 \r\nQ 41.5 64.796875 34.28125 64.796875 \r\nz\r\nM 9.8125 72.90625 \r\nL 35.015625 72.90625 \r\nQ 46.296875 72.90625 52.390625 68.21875 \r\nQ 58.5 63.53125 58.5 54.890625 \r\nQ 58.5 48.1875 55.375 44.234375 \r\nQ 52.25 40.28125 46.1875 39.3125 \r\nQ 53.46875 37.75 57.5 32.78125 \r\nQ 61.53125 27.828125 61.53125 20.40625 \r\nQ 61.53125 10.640625 54.890625 5.3125 \r\nQ 48.25 0 35.984375 0 \r\nL 9.8125 0 \r\nz\r\n\" id=\"DejaVuSans-66\"/>\r\n      <path d=\"M 44.28125 53.078125 \r\nL 44.28125 44.578125 \r\nQ 40.484375 46.53125 36.375 47.5 \r\nQ 32.28125 48.484375 27.875 48.484375 \r\nQ 21.1875 48.484375 17.84375 46.4375 \r\nQ 14.5 44.390625 14.5 40.28125 \r\nQ 14.5 37.15625 16.890625 35.375 \r\nQ 19.28125 33.59375 26.515625 31.984375 \r\nL 29.59375 31.296875 \r\nQ 39.15625 29.25 43.1875 25.515625 \r\nQ 47.21875 21.78125 47.21875 15.09375 \r\nQ 47.21875 7.46875 41.1875 3.015625 \r\nQ 35.15625 -1.421875 24.609375 -1.421875 \r\nQ 20.21875 -1.421875 15.453125 -0.5625 \r\nQ 10.6875 0.296875 5.421875 2 \r\nL 5.421875 11.28125 \r\nQ 10.40625 8.6875 15.234375 7.390625 \r\nQ 20.0625 6.109375 24.8125 6.109375 \r\nQ 31.15625 6.109375 34.5625 8.28125 \r\nQ 37.984375 10.453125 37.984375 14.40625 \r\nQ 37.984375 18.0625 35.515625 20.015625 \r\nQ 33.0625 21.96875 24.703125 23.78125 \r\nL 21.578125 24.515625 \r\nQ 13.234375 26.265625 9.515625 29.90625 \r\nQ 5.8125 33.546875 5.8125 39.890625 \r\nQ 5.8125 47.609375 11.28125 51.796875 \r\nQ 16.75 56 26.8125 56 \r\nQ 31.78125 56 36.171875 55.265625 \r\nQ 40.578125 54.546875 44.28125 53.078125 \r\nz\r\n\" id=\"DejaVuSans-115\"/>\r\n      <path d=\"M 9.421875 75.984375 \r\nL 18.40625 75.984375 \r\nL 18.40625 0 \r\nL 9.421875 0 \r\nz\r\n\" id=\"DejaVuSans-108\"/>\r\n      <path d=\"M 9.421875 54.6875 \r\nL 18.40625 54.6875 \r\nL 18.40625 0 \r\nL 9.421875 0 \r\nz\r\nM 9.421875 75.984375 \r\nL 18.40625 75.984375 \r\nL 18.40625 64.59375 \r\nL 9.421875 64.59375 \r\nz\r\n\" id=\"DejaVuSans-105\"/>\r\n      <path d=\"M 54.890625 33.015625 \r\nL 54.890625 0 \r\nL 45.90625 0 \r\nL 45.90625 32.71875 \r\nQ 45.90625 40.484375 42.875 44.328125 \r\nQ 39.84375 48.1875 33.796875 48.1875 \r\nQ 26.515625 48.1875 22.3125 43.546875 \r\nQ 18.109375 38.921875 18.109375 30.90625 \r\nL 18.109375 0 \r\nL 9.078125 0 \r\nL 9.078125 54.6875 \r\nL 18.109375 54.6875 \r\nL 18.109375 46.1875 \r\nQ 21.34375 51.125 25.703125 53.5625 \r\nQ 30.078125 56 35.796875 56 \r\nQ 45.21875 56 50.046875 50.171875 \r\nQ 54.890625 44.34375 54.890625 33.015625 \r\nz\r\n\" id=\"DejaVuSans-110\"/>\r\n      <path id=\"DejaVuSans-32\"/>\r\n      <path d=\"M 52 44.1875 \r\nQ 55.375 50.25 60.0625 53.125 \r\nQ 64.75 56 71.09375 56 \r\nQ 79.640625 56 84.28125 50.015625 \r\nQ 88.921875 44.046875 88.921875 33.015625 \r\nL 88.921875 0 \r\nL 79.890625 0 \r\nL 79.890625 32.71875 \r\nQ 79.890625 40.578125 77.09375 44.375 \r\nQ 74.3125 48.1875 68.609375 48.1875 \r\nQ 61.625 48.1875 57.5625 43.546875 \r\nQ 53.515625 38.921875 53.515625 30.90625 \r\nL 53.515625 0 \r\nL 44.484375 0 \r\nL 44.484375 32.71875 \r\nQ 44.484375 40.625 41.703125 44.40625 \r\nQ 38.921875 48.1875 33.109375 48.1875 \r\nQ 26.21875 48.1875 22.15625 43.53125 \r\nQ 18.109375 38.875 18.109375 30.90625 \r\nL 18.109375 0 \r\nL 9.078125 0 \r\nL 9.078125 54.6875 \r\nL 18.109375 54.6875 \r\nL 18.109375 46.1875 \r\nQ 21.1875 51.21875 25.484375 53.609375 \r\nQ 29.78125 56 35.6875 56 \r\nQ 41.65625 56 45.828125 52.96875 \r\nQ 50 49.953125 52 44.1875 \r\nz\r\n\" id=\"DejaVuSans-109\"/>\r\n      <path d=\"M 45.40625 46.390625 \r\nL 45.40625 75.984375 \r\nL 54.390625 75.984375 \r\nL 54.390625 0 \r\nL 45.40625 0 \r\nL 45.40625 8.203125 \r\nQ 42.578125 3.328125 38.25 0.953125 \r\nQ 33.9375 -1.421875 27.875 -1.421875 \r\nQ 17.96875 -1.421875 11.734375 6.484375 \r\nQ 5.515625 14.40625 5.515625 27.296875 \r\nQ 5.515625 40.1875 11.734375 48.09375 \r\nQ 17.96875 56 27.875 56 \r\nQ 33.9375 56 38.25 53.625 \r\nQ 42.578125 51.265625 45.40625 46.390625 \r\nz\r\nM 14.796875 27.296875 \r\nQ 14.796875 17.390625 18.875 11.75 \r\nQ 22.953125 6.109375 30.078125 6.109375 \r\nQ 37.203125 6.109375 41.296875 11.75 \r\nQ 45.40625 17.390625 45.40625 27.296875 \r\nQ 45.40625 37.203125 41.296875 42.84375 \r\nQ 37.203125 48.484375 30.078125 48.484375 \r\nQ 22.953125 48.484375 18.875 42.84375 \r\nQ 14.796875 37.203125 14.796875 27.296875 \r\nz\r\n\" id=\"DejaVuSans-100\"/>\r\n     </defs>\r\n     <use xlink:href=\"#DejaVuSans-66\"/>\r\n     <use x=\"68.603516\" xlink:href=\"#DejaVuSans-97\"/>\r\n     <use x=\"129.882812\" xlink:href=\"#DejaVuSans-115\"/>\r\n     <use x=\"181.982422\" xlink:href=\"#DejaVuSans-101\"/>\r\n     <use x=\"243.505859\" xlink:href=\"#DejaVuSans-108\"/>\r\n     <use x=\"271.289062\" xlink:href=\"#DejaVuSans-105\"/>\r\n     <use x=\"299.072266\" xlink:href=\"#DejaVuSans-110\"/>\r\n     <use x=\"362.451172\" xlink:href=\"#DejaVuSans-101\"/>\r\n     <use x=\"423.974609\" xlink:href=\"#DejaVuSans-32\"/>\r\n     <use x=\"455.761719\" xlink:href=\"#DejaVuSans-109\"/>\r\n     <use x=\"553.173828\" xlink:href=\"#DejaVuSans-111\"/>\r\n     <use x=\"614.355469\" xlink:href=\"#DejaVuSans-100\"/>\r\n     <use x=\"677.832031\" xlink:href=\"#DejaVuSans-101\"/>\r\n     <use x=\"739.355469\" xlink:href=\"#DejaVuSans-108\"/>\r\n     <use x=\"767.138672\" xlink:href=\"#DejaVuSans-32\"/>\r\n     <use x=\"798.925781\" xlink:href=\"#DejaVuSans-97\"/>\r\n     <use x=\"860.205078\" xlink:href=\"#DejaVuSans-99\"/>\r\n     <use x=\"915.185547\" xlink:href=\"#DejaVuSans-99\"/>\r\n     <use x=\"970.166016\" xlink:href=\"#DejaVuSans-117\"/>\r\n     <use x=\"1033.544922\" xlink:href=\"#DejaVuSans-114\"/>\r\n     <use x=\"1074.658203\" xlink:href=\"#DejaVuSans-97\"/>\r\n     <use x=\"1135.9375\" xlink:href=\"#DejaVuSans-99\"/>\r\n     <use x=\"1190.917969\" xlink:href=\"#DejaVuSans-121\"/>\r\n    </g>\r\n   </g>\r\n   <g id=\"legend_1\">\r\n    <g id=\"patch_7\">\r\n     <path d=\"M 69.86875 59.674375 \r\nL 125.820312 59.674375 \r\nQ 127.820312 59.674375 127.820312 57.674375 \r\nL 127.820312 29.318125 \r\nQ 127.820312 27.318125 125.820312 27.318125 \r\nL 69.86875 27.318125 \r\nQ 67.86875 27.318125 67.86875 29.318125 \r\nL 67.86875 57.674375 \r\nQ 67.86875 59.674375 69.86875 59.674375 \r\nz\r\n\" style=\"fill:#ffffff;opacity:0.8;stroke:#cccccc;stroke-linejoin:miter;\"/>\r\n    </g>\r\n    <g id=\"line2d_15\">\r\n     <path d=\"M 71.86875 35.416562 \r\nL 91.86875 35.416562 \r\n\" style=\"fill:none;stroke:#1f77b4;stroke-linecap:square;stroke-width:1.5;\"/>\r\n    </g>\r\n    <g id=\"line2d_16\"/>\r\n    <g id=\"text_16\">\r\n     <!-- train -->\r\n     <g transform=\"translate(99.86875 38.916562)scale(0.1 -0.1)\">\r\n      <defs>\r\n       <path d=\"M 18.3125 70.21875 \r\nL 18.3125 54.6875 \r\nL 36.8125 54.6875 \r\nL 36.8125 47.703125 \r\nL 18.3125 47.703125 \r\nL 18.3125 18.015625 \r\nQ 18.3125 11.328125 20.140625 9.421875 \r\nQ 21.96875 7.515625 27.59375 7.515625 \r\nL 36.8125 7.515625 \r\nL 36.8125 0 \r\nL 27.59375 0 \r\nQ 17.1875 0 13.234375 3.875 \r\nQ 9.28125 7.765625 9.28125 18.015625 \r\nL 9.28125 47.703125 \r\nL 2.6875 47.703125 \r\nL 2.6875 54.6875 \r\nL 9.28125 54.6875 \r\nL 9.28125 70.21875 \r\nz\r\n\" id=\"DejaVuSans-116\"/>\r\n      </defs>\r\n      <use xlink:href=\"#DejaVuSans-116\"/>\r\n      <use x=\"39.208984\" xlink:href=\"#DejaVuSans-114\"/>\r\n      <use x=\"80.322266\" xlink:href=\"#DejaVuSans-97\"/>\r\n      <use x=\"141.601562\" xlink:href=\"#DejaVuSans-105\"/>\r\n      <use x=\"169.384766\" xlink:href=\"#DejaVuSans-110\"/>\r\n     </g>\r\n    </g>\r\n    <g id=\"line2d_17\">\r\n     <path d=\"M 71.86875 50.094687 \r\nL 91.86875 50.094687 \r\n\" style=\"fill:none;stroke:#ff7f0e;stroke-linecap:square;stroke-width:1.5;\"/>\r\n    </g>\r\n    <g id=\"line2d_18\"/>\r\n    <g id=\"text_17\">\r\n     <!-- valid -->\r\n     <g transform=\"translate(99.86875 53.594687)scale(0.1 -0.1)\">\r\n      <defs>\r\n       <path d=\"M 2.984375 54.6875 \r\nL 12.5 54.6875 \r\nL 29.59375 8.796875 \r\nL 46.6875 54.6875 \r\nL 56.203125 54.6875 \r\nL 35.6875 0 \r\nL 23.484375 0 \r\nz\r\n\" id=\"DejaVuSans-118\"/>\r\n      </defs>\r\n      <use xlink:href=\"#DejaVuSans-118\"/>\r\n      <use x=\"59.179688\" xlink:href=\"#DejaVuSans-97\"/>\r\n      <use x=\"120.458984\" xlink:href=\"#DejaVuSans-108\"/>\r\n      <use x=\"148.242188\" xlink:href=\"#DejaVuSans-105\"/>\r\n      <use x=\"176.025391\" xlink:href=\"#DejaVuSans-100\"/>\r\n     </g>\r\n    </g>\r\n   </g>\r\n  </g>\r\n </g>\r\n <defs>\r\n  <clipPath id=\"p6ce542fcdc\">\r\n   <rect height=\"217.44\" width=\"334.8\" x=\"62.86875\" y=\"22.318125\"/>\r\n  </clipPath>\r\n </defs>\r\n</svg>\r\n",
            "image/png": "[encoded data removed]"
          },
          "metadata": {
            "needs_background": "light"
          }
        },
        {
          "output_type": "display_data",
          "data": {
            "text/plain": "<Figure size 432x288 with 1 Axes>",
            "image/svg+xml": "<?xml version=\"1.0\" encoding=\"utf-8\" standalone=\"no\"?>\r\n<!DOCTYPE svg PUBLIC \"-//W3C//DTD SVG 1.1//EN\"\r\n  \"http://www.w3.org/Graphics/SVG/1.1/DTD/svg11.dtd\">\r\n<!-- Created with matplotlib (https://matplotlib.org/) -->\r\n<svg height=\"277.314375pt\" version=\"1.1\" viewBox=\"0 0 392.14375 277.314375\" width=\"392.14375pt\" xmlns=\"http://www.w3.org/2000/svg\" xmlns:xlink=\"http://www.w3.org/1999/xlink\">\r\n <metadata>\r\n  <rdf:RDF xmlns:cc=\"http://creativecommons.org/ns#\" xmlns:dc=\"http://purl.org/dc/elements/1.1/\" xmlns:rdf=\"http://www.w3.org/1999/02/22-rdf-syntax-ns#\">\r\n   <cc:Work>\r\n    <dc:type rdf:resource=\"http://purl.org/dc/dcmitype/StillImage\"/>\r\n    <dc:date>2021-02-11T22:55:24.839290</dc:date>\r\n    <dc:format>image/svg+xml</dc:format>\r\n    <dc:creator>\r\n     <cc:Agent>\r\n      <dc:title>Matplotlib v3.3.3, https://matplotlib.org/</dc:title>\r\n     </cc:Agent>\r\n    </dc:creator>\r\n   </cc:Work>\r\n  </rdf:RDF>\r\n </metadata>\r\n <defs>\r\n  <style type=\"text/css\">*{stroke-linecap:butt;stroke-linejoin:round;}</style>\r\n </defs>\r\n <g id=\"figure_1\">\r\n  <g id=\"patch_1\">\r\n   <path d=\"M 0 277.314375 \r\nL 392.14375 277.314375 \r\nL 392.14375 0 \r\nL 0 0 \r\nz\r\n\" style=\"fill:none;\"/>\r\n  </g>\r\n  <g id=\"axes_1\">\r\n   <g id=\"patch_2\">\r\n    <path d=\"M 50.14375 239.758125 \r\nL 384.94375 239.758125 \r\nL 384.94375 22.318125 \r\nL 50.14375 22.318125 \r\nz\r\n\" style=\"fill:#ffffff;\"/>\r\n   </g>\r\n   <g id=\"matplotlib.axis_1\">\r\n    <g id=\"xtick_1\">\r\n     <g id=\"line2d_1\">\r\n      <defs>\r\n       <path d=\"M 0 0 \r\nL 0 3.5 \r\n\" id=\"ma3cc451187\" style=\"stroke:#000000;stroke-width:0.8;\"/>\r\n      </defs>\r\n      <g>\r\n       <use style=\"stroke:#000000;stroke-width:0.8;\" x=\"65.361932\" xlink:href=\"#ma3cc451187\" y=\"239.758125\"/>\r\n      </g>\r\n     </g>\r\n     <g id=\"text_1\">\r\n      <!-- 0 -->\r\n      <g transform=\"translate(62.180682 254.356562)scale(0.1 -0.1)\">\r\n       <defs>\r\n        <path d=\"M 31.78125 66.40625 \r\nQ 24.171875 66.40625 20.328125 58.90625 \r\nQ 16.5 51.421875 16.5 36.375 \r\nQ 16.5 21.390625 20.328125 13.890625 \r\nQ 24.171875 6.390625 31.78125 6.390625 \r\nQ 39.453125 6.390625 43.28125 13.890625 \r\nQ 47.125 21.390625 47.125 36.375 \r\nQ 47.125 51.421875 43.28125 58.90625 \r\nQ 39.453125 66.40625 31.78125 66.40625 \r\nz\r\nM 31.78125 74.21875 \r\nQ 44.046875 74.21875 50.515625 64.515625 \r\nQ 56.984375 54.828125 56.984375 36.375 \r\nQ 56.984375 17.96875 50.515625 8.265625 \r\nQ 44.046875 -1.421875 31.78125 -1.421875 \r\nQ 19.53125 -1.421875 13.0625 8.265625 \r\nQ 6.59375 17.96875 6.59375 36.375 \r\nQ 6.59375 54.828125 13.0625 64.515625 \r\nQ 19.53125 74.21875 31.78125 74.21875 \r\nz\r\n\" id=\"DejaVuSans-48\"/>\r\n       </defs>\r\n       <use xlink:href=\"#DejaVuSans-48\"/>\r\n      </g>\r\n     </g>\r\n    </g>\r\n    <g id=\"xtick_2\">\r\n     <g id=\"line2d_2\">\r\n      <g>\r\n       <use style=\"stroke:#000000;stroke-width:0.8;\" x=\"132.998295\" xlink:href=\"#ma3cc451187\" y=\"239.758125\"/>\r\n      </g>\r\n     </g>\r\n     <g id=\"text_2\">\r\n      <!-- 2 -->\r\n      <g transform=\"translate(129.817045 254.356562)scale(0.1 -0.1)\">\r\n       <defs>\r\n        <path d=\"M 19.1875 8.296875 \r\nL 53.609375 8.296875 \r\nL 53.609375 0 \r\nL 7.328125 0 \r\nL 7.328125 8.296875 \r\nQ 12.9375 14.109375 22.625 23.890625 \r\nQ 32.328125 33.6875 34.8125 36.53125 \r\nQ 39.546875 41.84375 41.421875 45.53125 \r\nQ 43.3125 49.21875 43.3125 52.78125 \r\nQ 43.3125 58.59375 39.234375 62.25 \r\nQ 35.15625 65.921875 28.609375 65.921875 \r\nQ 23.96875 65.921875 18.8125 64.3125 \r\nQ 13.671875 62.703125 7.8125 59.421875 \r\nL 7.8125 69.390625 \r\nQ 13.765625 71.78125 18.9375 73 \r\nQ 24.125 74.21875 28.421875 74.21875 \r\nQ 39.75 74.21875 46.484375 68.546875 \r\nQ 53.21875 62.890625 53.21875 53.421875 \r\nQ 53.21875 48.921875 51.53125 44.890625 \r\nQ 49.859375 40.875 45.40625 35.40625 \r\nQ 44.1875 33.984375 37.640625 27.21875 \r\nQ 31.109375 20.453125 19.1875 8.296875 \r\nz\r\n\" id=\"DejaVuSans-50\"/>\r\n       </defs>\r\n       <use xlink:href=\"#DejaVuSans-50\"/>\r\n      </g>\r\n     </g>\r\n    </g>\r\n    <g id=\"xtick_3\">\r\n     <g id=\"line2d_3\">\r\n      <g>\r\n       <use style=\"stroke:#000000;stroke-width:0.8;\" x=\"200.634659\" xlink:href=\"#ma3cc451187\" y=\"239.758125\"/>\r\n      </g>\r\n     </g>\r\n     <g id=\"text_3\">\r\n      <!-- 4 -->\r\n      <g transform=\"translate(197.453409 254.356562)scale(0.1 -0.1)\">\r\n       <defs>\r\n        <path d=\"M 37.796875 64.3125 \r\nL 12.890625 25.390625 \r\nL 37.796875 25.390625 \r\nz\r\nM 35.203125 72.90625 \r\nL 47.609375 72.90625 \r\nL 47.609375 25.390625 \r\nL 58.015625 25.390625 \r\nL 58.015625 17.1875 \r\nL 47.609375 17.1875 \r\nL 47.609375 0 \r\nL 37.796875 0 \r\nL 37.796875 17.1875 \r\nL 4.890625 17.1875 \r\nL 4.890625 26.703125 \r\nz\r\n\" id=\"DejaVuSans-52\"/>\r\n       </defs>\r\n       <use xlink:href=\"#DejaVuSans-52\"/>\r\n      </g>\r\n     </g>\r\n    </g>\r\n    <g id=\"xtick_4\">\r\n     <g id=\"line2d_4\">\r\n      <g>\r\n       <use style=\"stroke:#000000;stroke-width:0.8;\" x=\"268.271023\" xlink:href=\"#ma3cc451187\" y=\"239.758125\"/>\r\n      </g>\r\n     </g>\r\n     <g id=\"text_4\">\r\n      <!-- 6 -->\r\n      <g transform=\"translate(265.089773 254.356562)scale(0.1 -0.1)\">\r\n       <defs>\r\n        <path d=\"M 33.015625 40.375 \r\nQ 26.375 40.375 22.484375 35.828125 \r\nQ 18.609375 31.296875 18.609375 23.390625 \r\nQ 18.609375 15.53125 22.484375 10.953125 \r\nQ 26.375 6.390625 33.015625 6.390625 \r\nQ 39.65625 6.390625 43.53125 10.953125 \r\nQ 47.40625 15.53125 47.40625 23.390625 \r\nQ 47.40625 31.296875 43.53125 35.828125 \r\nQ 39.65625 40.375 33.015625 40.375 \r\nz\r\nM 52.59375 71.296875 \r\nL 52.59375 62.3125 \r\nQ 48.875 64.0625 45.09375 64.984375 \r\nQ 41.3125 65.921875 37.59375 65.921875 \r\nQ 27.828125 65.921875 22.671875 59.328125 \r\nQ 17.53125 52.734375 16.796875 39.40625 \r\nQ 19.671875 43.65625 24.015625 45.921875 \r\nQ 28.375 48.1875 33.59375 48.1875 \r\nQ 44.578125 48.1875 50.953125 41.515625 \r\nQ 57.328125 34.859375 57.328125 23.390625 \r\nQ 57.328125 12.15625 50.6875 5.359375 \r\nQ 44.046875 -1.421875 33.015625 -1.421875 \r\nQ 20.359375 -1.421875 13.671875 8.265625 \r\nQ 6.984375 17.96875 6.984375 36.375 \r\nQ 6.984375 53.65625 15.1875 63.9375 \r\nQ 23.390625 74.21875 37.203125 74.21875 \r\nQ 40.921875 74.21875 44.703125 73.484375 \r\nQ 48.484375 72.75 52.59375 71.296875 \r\nz\r\n\" id=\"DejaVuSans-54\"/>\r\n       </defs>\r\n       <use xlink:href=\"#DejaVuSans-54\"/>\r\n      </g>\r\n     </g>\r\n    </g>\r\n    <g id=\"xtick_5\">\r\n     <g id=\"line2d_5\">\r\n      <g>\r\n       <use style=\"stroke:#000000;stroke-width:0.8;\" x=\"335.907386\" xlink:href=\"#ma3cc451187\" y=\"239.758125\"/>\r\n      </g>\r\n     </g>\r\n     <g id=\"text_5\">\r\n      <!-- 8 -->\r\n      <g transform=\"translate(332.726136 254.356562)scale(0.1 -0.1)\">\r\n       <defs>\r\n        <path d=\"M 31.78125 34.625 \r\nQ 24.75 34.625 20.71875 30.859375 \r\nQ 16.703125 27.09375 16.703125 20.515625 \r\nQ 16.703125 13.921875 20.71875 10.15625 \r\nQ 24.75 6.390625 31.78125 6.390625 \r\nQ 38.8125 6.390625 42.859375 10.171875 \r\nQ 46.921875 13.96875 46.921875 20.515625 \r\nQ 46.921875 27.09375 42.890625 30.859375 \r\nQ 38.875 34.625 31.78125 34.625 \r\nz\r\nM 21.921875 38.8125 \r\nQ 15.578125 40.375 12.03125 44.71875 \r\nQ 8.5 49.078125 8.5 55.328125 \r\nQ 8.5 64.0625 14.71875 69.140625 \r\nQ 20.953125 74.21875 31.78125 74.21875 \r\nQ 42.671875 74.21875 48.875 69.140625 \r\nQ 55.078125 64.0625 55.078125 55.328125 \r\nQ 55.078125 49.078125 51.53125 44.71875 \r\nQ 48 40.375 41.703125 38.8125 \r\nQ 48.828125 37.15625 52.796875 32.3125 \r\nQ 56.78125 27.484375 56.78125 20.515625 \r\nQ 56.78125 9.90625 50.3125 4.234375 \r\nQ 43.84375 -1.421875 31.78125 -1.421875 \r\nQ 19.734375 -1.421875 13.25 4.234375 \r\nQ 6.78125 9.90625 6.78125 20.515625 \r\nQ 6.78125 27.484375 10.78125 32.3125 \r\nQ 14.796875 37.15625 21.921875 38.8125 \r\nz\r\nM 18.3125 54.390625 \r\nQ 18.3125 48.734375 21.84375 45.5625 \r\nQ 25.390625 42.390625 31.78125 42.390625 \r\nQ 38.140625 42.390625 41.71875 45.5625 \r\nQ 45.3125 48.734375 45.3125 54.390625 \r\nQ 45.3125 60.0625 41.71875 63.234375 \r\nQ 38.140625 66.40625 31.78125 66.40625 \r\nQ 25.390625 66.40625 21.84375 63.234375 \r\nQ 18.3125 60.0625 18.3125 54.390625 \r\nz\r\n\" id=\"DejaVuSans-56\"/>\r\n       </defs>\r\n       <use xlink:href=\"#DejaVuSans-56\"/>\r\n      </g>\r\n     </g>\r\n    </g>\r\n    <g id=\"text_6\">\r\n     <!-- epoch -->\r\n     <g transform=\"translate(202.315625 268.034687)scale(0.1 -0.1)\">\r\n      <defs>\r\n       <path d=\"M 56.203125 29.59375 \r\nL 56.203125 25.203125 \r\nL 14.890625 25.203125 \r\nQ 15.484375 15.921875 20.484375 11.0625 \r\nQ 25.484375 6.203125 34.421875 6.203125 \r\nQ 39.59375 6.203125 44.453125 7.46875 \r\nQ 49.3125 8.734375 54.109375 11.28125 \r\nL 54.109375 2.78125 \r\nQ 49.265625 0.734375 44.1875 -0.34375 \r\nQ 39.109375 -1.421875 33.890625 -1.421875 \r\nQ 20.796875 -1.421875 13.15625 6.1875 \r\nQ 5.515625 13.8125 5.515625 26.8125 \r\nQ 5.515625 40.234375 12.765625 48.109375 \r\nQ 20.015625 56 32.328125 56 \r\nQ 43.359375 56 49.78125 48.890625 \r\nQ 56.203125 41.796875 56.203125 29.59375 \r\nz\r\nM 47.21875 32.234375 \r\nQ 47.125 39.59375 43.09375 43.984375 \r\nQ 39.0625 48.390625 32.421875 48.390625 \r\nQ 24.90625 48.390625 20.390625 44.140625 \r\nQ 15.875 39.890625 15.1875 32.171875 \r\nz\r\n\" id=\"DejaVuSans-101\"/>\r\n       <path d=\"M 18.109375 8.203125 \r\nL 18.109375 -20.796875 \r\nL 9.078125 -20.796875 \r\nL 9.078125 54.6875 \r\nL 18.109375 54.6875 \r\nL 18.109375 46.390625 \r\nQ 20.953125 51.265625 25.265625 53.625 \r\nQ 29.59375 56 35.59375 56 \r\nQ 45.5625 56 51.78125 48.09375 \r\nQ 58.015625 40.1875 58.015625 27.296875 \r\nQ 58.015625 14.40625 51.78125 6.484375 \r\nQ 45.5625 -1.421875 35.59375 -1.421875 \r\nQ 29.59375 -1.421875 25.265625 0.953125 \r\nQ 20.953125 3.328125 18.109375 8.203125 \r\nz\r\nM 48.6875 27.296875 \r\nQ 48.6875 37.203125 44.609375 42.84375 \r\nQ 40.53125 48.484375 33.40625 48.484375 \r\nQ 26.265625 48.484375 22.1875 42.84375 \r\nQ 18.109375 37.203125 18.109375 27.296875 \r\nQ 18.109375 17.390625 22.1875 11.75 \r\nQ 26.265625 6.109375 33.40625 6.109375 \r\nQ 40.53125 6.109375 44.609375 11.75 \r\nQ 48.6875 17.390625 48.6875 27.296875 \r\nz\r\n\" id=\"DejaVuSans-112\"/>\r\n       <path d=\"M 30.609375 48.390625 \r\nQ 23.390625 48.390625 19.1875 42.75 \r\nQ 14.984375 37.109375 14.984375 27.296875 \r\nQ 14.984375 17.484375 19.15625 11.84375 \r\nQ 23.34375 6.203125 30.609375 6.203125 \r\nQ 37.796875 6.203125 41.984375 11.859375 \r\nQ 46.1875 17.53125 46.1875 27.296875 \r\nQ 46.1875 37.015625 41.984375 42.703125 \r\nQ 37.796875 48.390625 30.609375 48.390625 \r\nz\r\nM 30.609375 56 \r\nQ 42.328125 56 49.015625 48.375 \r\nQ 55.71875 40.765625 55.71875 27.296875 \r\nQ 55.71875 13.875 49.015625 6.21875 \r\nQ 42.328125 -1.421875 30.609375 -1.421875 \r\nQ 18.84375 -1.421875 12.171875 6.21875 \r\nQ 5.515625 13.875 5.515625 27.296875 \r\nQ 5.515625 40.765625 12.171875 48.375 \r\nQ 18.84375 56 30.609375 56 \r\nz\r\n\" id=\"DejaVuSans-111\"/>\r\n       <path d=\"M 48.78125 52.59375 \r\nL 48.78125 44.1875 \r\nQ 44.96875 46.296875 41.140625 47.34375 \r\nQ 37.3125 48.390625 33.40625 48.390625 \r\nQ 24.65625 48.390625 19.8125 42.84375 \r\nQ 14.984375 37.3125 14.984375 27.296875 \r\nQ 14.984375 17.28125 19.8125 11.734375 \r\nQ 24.65625 6.203125 33.40625 6.203125 \r\nQ 37.3125 6.203125 41.140625 7.25 \r\nQ 44.96875 8.296875 48.78125 10.40625 \r\nL 48.78125 2.09375 \r\nQ 45.015625 0.34375 40.984375 -0.53125 \r\nQ 36.96875 -1.421875 32.421875 -1.421875 \r\nQ 20.0625 -1.421875 12.78125 6.34375 \r\nQ 5.515625 14.109375 5.515625 27.296875 \r\nQ 5.515625 40.671875 12.859375 48.328125 \r\nQ 20.21875 56 33.015625 56 \r\nQ 37.15625 56 41.109375 55.140625 \r\nQ 45.0625 54.296875 48.78125 52.59375 \r\nz\r\n\" id=\"DejaVuSans-99\"/>\r\n       <path d=\"M 54.890625 33.015625 \r\nL 54.890625 0 \r\nL 45.90625 0 \r\nL 45.90625 32.71875 \r\nQ 45.90625 40.484375 42.875 44.328125 \r\nQ 39.84375 48.1875 33.796875 48.1875 \r\nQ 26.515625 48.1875 22.3125 43.546875 \r\nQ 18.109375 38.921875 18.109375 30.90625 \r\nL 18.109375 0 \r\nL 9.078125 0 \r\nL 9.078125 75.984375 \r\nL 18.109375 75.984375 \r\nL 18.109375 46.1875 \r\nQ 21.34375 51.125 25.703125 53.5625 \r\nQ 30.078125 56 35.796875 56 \r\nQ 45.21875 56 50.046875 50.171875 \r\nQ 54.890625 44.34375 54.890625 33.015625 \r\nz\r\n\" id=\"DejaVuSans-104\"/>\r\n      </defs>\r\n      <use xlink:href=\"#DejaVuSans-101\"/>\r\n      <use x=\"61.523438\" xlink:href=\"#DejaVuSans-112\"/>\r\n      <use x=\"125\" xlink:href=\"#DejaVuSans-111\"/>\r\n      <use x=\"186.181641\" xlink:href=\"#DejaVuSans-99\"/>\r\n      <use x=\"241.162109\" xlink:href=\"#DejaVuSans-104\"/>\r\n     </g>\r\n    </g>\r\n   </g>\r\n   <g id=\"matplotlib.axis_2\">\r\n    <g id=\"ytick_1\">\r\n     <g id=\"line2d_6\">\r\n      <defs>\r\n       <path d=\"M 0 0 \r\nL -3.5 0 \r\n\" id=\"m49acc78a9b\" style=\"stroke:#000000;stroke-width:0.8;\"/>\r\n      </defs>\r\n      <g>\r\n       <use style=\"stroke:#000000;stroke-width:0.8;\" x=\"50.14375\" xlink:href=\"#m49acc78a9b\" y=\"234.097031\"/>\r\n      </g>\r\n     </g>\r\n     <g id=\"text_7\">\r\n      <!-- 0.98 -->\r\n      <g transform=\"translate(20.878125 237.89625)scale(0.1 -0.1)\">\r\n       <defs>\r\n        <path d=\"M 10.6875 12.40625 \r\nL 21 12.40625 \r\nL 21 0 \r\nL 10.6875 0 \r\nz\r\n\" id=\"DejaVuSans-46\"/>\r\n        <path d=\"M 10.984375 1.515625 \r\nL 10.984375 10.5 \r\nQ 14.703125 8.734375 18.5 7.8125 \r\nQ 22.3125 6.890625 25.984375 6.890625 \r\nQ 35.75 6.890625 40.890625 13.453125 \r\nQ 46.046875 20.015625 46.78125 33.40625 \r\nQ 43.953125 29.203125 39.59375 26.953125 \r\nQ 35.25 24.703125 29.984375 24.703125 \r\nQ 19.046875 24.703125 12.671875 31.3125 \r\nQ 6.296875 37.9375 6.296875 49.421875 \r\nQ 6.296875 60.640625 12.9375 67.421875 \r\nQ 19.578125 74.21875 30.609375 74.21875 \r\nQ 43.265625 74.21875 49.921875 64.515625 \r\nQ 56.59375 54.828125 56.59375 36.375 \r\nQ 56.59375 19.140625 48.40625 8.859375 \r\nQ 40.234375 -1.421875 26.421875 -1.421875 \r\nQ 22.703125 -1.421875 18.890625 -0.6875 \r\nQ 15.09375 0.046875 10.984375 1.515625 \r\nz\r\nM 30.609375 32.421875 \r\nQ 37.25 32.421875 41.125 36.953125 \r\nQ 45.015625 41.5 45.015625 49.421875 \r\nQ 45.015625 57.28125 41.125 61.84375 \r\nQ 37.25 66.40625 30.609375 66.40625 \r\nQ 23.96875 66.40625 20.09375 61.84375 \r\nQ 16.21875 57.28125 16.21875 49.421875 \r\nQ 16.21875 41.5 20.09375 36.953125 \r\nQ 23.96875 32.421875 30.609375 32.421875 \r\nz\r\n\" id=\"DejaVuSans-57\"/>\r\n       </defs>\r\n       <use xlink:href=\"#DejaVuSans-48\"/>\r\n       <use x=\"63.623047\" xlink:href=\"#DejaVuSans-46\"/>\r\n       <use x=\"95.410156\" xlink:href=\"#DejaVuSans-57\"/>\r\n       <use x=\"159.033203\" xlink:href=\"#DejaVuSans-56\"/>\r\n      </g>\r\n     </g>\r\n    </g>\r\n    <g id=\"ytick_2\">\r\n     <g id=\"line2d_7\">\r\n      <g>\r\n       <use style=\"stroke:#000000;stroke-width:0.8;\" x=\"50.14375\" xlink:href=\"#m49acc78a9b\" y=\"189.449777\"/>\r\n      </g>\r\n     </g>\r\n     <g id=\"text_8\">\r\n      <!-- 1.00 -->\r\n      <g transform=\"translate(20.878125 193.248996)scale(0.1 -0.1)\">\r\n       <defs>\r\n        <path d=\"M 12.40625 8.296875 \r\nL 28.515625 8.296875 \r\nL 28.515625 63.921875 \r\nL 10.984375 60.40625 \r\nL 10.984375 69.390625 \r\nL 28.421875 72.90625 \r\nL 38.28125 72.90625 \r\nL 38.28125 8.296875 \r\nL 54.390625 8.296875 \r\nL 54.390625 0 \r\nL 12.40625 0 \r\nz\r\n\" id=\"DejaVuSans-49\"/>\r\n       </defs>\r\n       <use xlink:href=\"#DejaVuSans-49\"/>\r\n       <use x=\"63.623047\" xlink:href=\"#DejaVuSans-46\"/>\r\n       <use x=\"95.410156\" xlink:href=\"#DejaVuSans-48\"/>\r\n       <use x=\"159.033203\" xlink:href=\"#DejaVuSans-48\"/>\r\n      </g>\r\n     </g>\r\n    </g>\r\n    <g id=\"ytick_3\">\r\n     <g id=\"line2d_8\">\r\n      <g>\r\n       <use style=\"stroke:#000000;stroke-width:0.8;\" x=\"50.14375\" xlink:href=\"#m49acc78a9b\" y=\"144.802523\"/>\r\n      </g>\r\n     </g>\r\n     <g id=\"text_9\">\r\n      <!-- 1.02 -->\r\n      <g transform=\"translate(20.878125 148.601742)scale(0.1 -0.1)\">\r\n       <use xlink:href=\"#DejaVuSans-49\"/>\r\n       <use x=\"63.623047\" xlink:href=\"#DejaVuSans-46\"/>\r\n       <use x=\"95.410156\" xlink:href=\"#DejaVuSans-48\"/>\r\n       <use x=\"159.033203\" xlink:href=\"#DejaVuSans-50\"/>\r\n      </g>\r\n     </g>\r\n    </g>\r\n    <g id=\"ytick_4\">\r\n     <g id=\"line2d_9\">\r\n      <g>\r\n       <use style=\"stroke:#000000;stroke-width:0.8;\" x=\"50.14375\" xlink:href=\"#m49acc78a9b\" y=\"100.155269\"/>\r\n      </g>\r\n     </g>\r\n     <g id=\"text_10\">\r\n      <!-- 1.04 -->\r\n      <g transform=\"translate(20.878125 103.954488)scale(0.1 -0.1)\">\r\n       <use xlink:href=\"#DejaVuSans-49\"/>\r\n       <use x=\"63.623047\" xlink:href=\"#DejaVuSans-46\"/>\r\n       <use x=\"95.410156\" xlink:href=\"#DejaVuSans-48\"/>\r\n       <use x=\"159.033203\" xlink:href=\"#DejaVuSans-52\"/>\r\n      </g>\r\n     </g>\r\n    </g>\r\n    <g id=\"ytick_5\">\r\n     <g id=\"line2d_10\">\r\n      <g>\r\n       <use style=\"stroke:#000000;stroke-width:0.8;\" x=\"50.14375\" xlink:href=\"#m49acc78a9b\" y=\"55.508015\"/>\r\n      </g>\r\n     </g>\r\n     <g id=\"text_11\">\r\n      <!-- 1.06 -->\r\n      <g transform=\"translate(20.878125 59.307233)scale(0.1 -0.1)\">\r\n       <use xlink:href=\"#DejaVuSans-49\"/>\r\n       <use x=\"63.623047\" xlink:href=\"#DejaVuSans-46\"/>\r\n       <use x=\"95.410156\" xlink:href=\"#DejaVuSans-48\"/>\r\n       <use x=\"159.033203\" xlink:href=\"#DejaVuSans-54\"/>\r\n      </g>\r\n     </g>\r\n    </g>\r\n    <g id=\"text_12\">\r\n     <!-- loss -->\r\n     <g transform=\"translate(14.798438 140.695937)rotate(-90)scale(0.1 -0.1)\">\r\n      <defs>\r\n       <path d=\"M 9.421875 75.984375 \r\nL 18.40625 75.984375 \r\nL 18.40625 0 \r\nL 9.421875 0 \r\nz\r\n\" id=\"DejaVuSans-108\"/>\r\n       <path d=\"M 44.28125 53.078125 \r\nL 44.28125 44.578125 \r\nQ 40.484375 46.53125 36.375 47.5 \r\nQ 32.28125 48.484375 27.875 48.484375 \r\nQ 21.1875 48.484375 17.84375 46.4375 \r\nQ 14.5 44.390625 14.5 40.28125 \r\nQ 14.5 37.15625 16.890625 35.375 \r\nQ 19.28125 33.59375 26.515625 31.984375 \r\nL 29.59375 31.296875 \r\nQ 39.15625 29.25 43.1875 25.515625 \r\nQ 47.21875 21.78125 47.21875 15.09375 \r\nQ 47.21875 7.46875 41.1875 3.015625 \r\nQ 35.15625 -1.421875 24.609375 -1.421875 \r\nQ 20.21875 -1.421875 15.453125 -0.5625 \r\nQ 10.6875 0.296875 5.421875 2 \r\nL 5.421875 11.28125 \r\nQ 10.40625 8.6875 15.234375 7.390625 \r\nQ 20.0625 6.109375 24.8125 6.109375 \r\nQ 31.15625 6.109375 34.5625 8.28125 \r\nQ 37.984375 10.453125 37.984375 14.40625 \r\nQ 37.984375 18.0625 35.515625 20.015625 \r\nQ 33.0625 21.96875 24.703125 23.78125 \r\nL 21.578125 24.515625 \r\nQ 13.234375 26.265625 9.515625 29.90625 \r\nQ 5.8125 33.546875 5.8125 39.890625 \r\nQ 5.8125 47.609375 11.28125 51.796875 \r\nQ 16.75 56 26.8125 56 \r\nQ 31.78125 56 36.171875 55.265625 \r\nQ 40.578125 54.546875 44.28125 53.078125 \r\nz\r\n\" id=\"DejaVuSans-115\"/>\r\n      </defs>\r\n      <use xlink:href=\"#DejaVuSans-108\"/>\r\n      <use x=\"27.783203\" xlink:href=\"#DejaVuSans-111\"/>\r\n      <use x=\"88.964844\" xlink:href=\"#DejaVuSans-115\"/>\r\n      <use x=\"141.064453\" xlink:href=\"#DejaVuSans-115\"/>\r\n     </g>\r\n    </g>\r\n   </g>\r\n   <g id=\"line2d_11\">\r\n    <path clip-path=\"url(#p5f5afccff0)\" d=\"M 65.361932 32.201761 \r\nL 99.180114 84.384381 \r\nL 132.998295 116.241677 \r\nL 166.816477 140.544938 \r\nL 200.634659 160.406682 \r\nL 234.452841 177.238936 \r\nL 268.271023 191.834065 \r\nL 302.089205 204.662567 \r\nL 335.907386 216.095944 \r\nL 369.725568 226.389402 \r\n\" style=\"fill:none;stroke:#1f77b4;stroke-linecap:square;stroke-width:1.5;\"/>\r\n   </g>\r\n   <g id=\"line2d_12\">\r\n    <path clip-path=\"url(#p5f5afccff0)\" d=\"M 65.361932 63.875968 \r\nL 99.180114 101.443633 \r\nL 132.998295 128.611924 \r\nL 166.816477 150.268637 \r\nL 200.634659 168.348719 \r\nL 234.452841 183.864751 \r\nL 268.271023 197.42601 \r\nL 302.089205 209.438327 \r\nL 335.907386 220.18472 \r\nL 369.725568 229.874489 \r\n\" style=\"fill:none;stroke:#ff7f0e;stroke-linecap:square;stroke-width:1.5;\"/>\r\n   </g>\r\n   <g id=\"patch_3\">\r\n    <path d=\"M 50.14375 239.758125 \r\nL 50.14375 22.318125 \r\n\" style=\"fill:none;stroke:#000000;stroke-linecap:square;stroke-linejoin:miter;stroke-width:0.8;\"/>\r\n   </g>\r\n   <g id=\"patch_4\">\r\n    <path d=\"M 384.94375 239.758125 \r\nL 384.94375 22.318125 \r\n\" style=\"fill:none;stroke:#000000;stroke-linecap:square;stroke-linejoin:miter;stroke-width:0.8;\"/>\r\n   </g>\r\n   <g id=\"patch_5\">\r\n    <path d=\"M 50.14375 239.758125 \r\nL 384.94375 239.758125 \r\n\" style=\"fill:none;stroke:#000000;stroke-linecap:square;stroke-linejoin:miter;stroke-width:0.8;\"/>\r\n   </g>\r\n   <g id=\"patch_6\">\r\n    <path d=\"M 50.14375 22.318125 \r\nL 384.94375 22.318125 \r\n\" style=\"fill:none;stroke:#000000;stroke-linecap:square;stroke-linejoin:miter;stroke-width:0.8;\"/>\r\n   </g>\r\n   <g id=\"text_13\">\r\n    <!-- Baseline model loss -->\r\n    <g transform=\"translate(158.018125 16.318125)scale(0.12 -0.12)\">\r\n     <defs>\r\n      <path d=\"M 19.671875 34.8125 \r\nL 19.671875 8.109375 \r\nL 35.5 8.109375 \r\nQ 43.453125 8.109375 47.28125 11.40625 \r\nQ 51.125 14.703125 51.125 21.484375 \r\nQ 51.125 28.328125 47.28125 31.5625 \r\nQ 43.453125 34.8125 35.5 34.8125 \r\nz\r\nM 19.671875 64.796875 \r\nL 19.671875 42.828125 \r\nL 34.28125 42.828125 \r\nQ 41.5 42.828125 45.03125 45.53125 \r\nQ 48.578125 48.25 48.578125 53.8125 \r\nQ 48.578125 59.328125 45.03125 62.0625 \r\nQ 41.5 64.796875 34.28125 64.796875 \r\nz\r\nM 9.8125 72.90625 \r\nL 35.015625 72.90625 \r\nQ 46.296875 72.90625 52.390625 68.21875 \r\nQ 58.5 63.53125 58.5 54.890625 \r\nQ 58.5 48.1875 55.375 44.234375 \r\nQ 52.25 40.28125 46.1875 39.3125 \r\nQ 53.46875 37.75 57.5 32.78125 \r\nQ 61.53125 27.828125 61.53125 20.40625 \r\nQ 61.53125 10.640625 54.890625 5.3125 \r\nQ 48.25 0 35.984375 0 \r\nL 9.8125 0 \r\nz\r\n\" id=\"DejaVuSans-66\"/>\r\n      <path d=\"M 34.28125 27.484375 \r\nQ 23.390625 27.484375 19.1875 25 \r\nQ 14.984375 22.515625 14.984375 16.5 \r\nQ 14.984375 11.71875 18.140625 8.90625 \r\nQ 21.296875 6.109375 26.703125 6.109375 \r\nQ 34.1875 6.109375 38.703125 11.40625 \r\nQ 43.21875 16.703125 43.21875 25.484375 \r\nL 43.21875 27.484375 \r\nz\r\nM 52.203125 31.203125 \r\nL 52.203125 0 \r\nL 43.21875 0 \r\nL 43.21875 8.296875 \r\nQ 40.140625 3.328125 35.546875 0.953125 \r\nQ 30.953125 -1.421875 24.3125 -1.421875 \r\nQ 15.921875 -1.421875 10.953125 3.296875 \r\nQ 6 8.015625 6 15.921875 \r\nQ 6 25.140625 12.171875 29.828125 \r\nQ 18.359375 34.515625 30.609375 34.515625 \r\nL 43.21875 34.515625 \r\nL 43.21875 35.40625 \r\nQ 43.21875 41.609375 39.140625 45 \r\nQ 35.0625 48.390625 27.6875 48.390625 \r\nQ 23 48.390625 18.546875 47.265625 \r\nQ 14.109375 46.140625 10.015625 43.890625 \r\nL 10.015625 52.203125 \r\nQ 14.9375 54.109375 19.578125 55.046875 \r\nQ 24.21875 56 28.609375 56 \r\nQ 40.484375 56 46.34375 49.84375 \r\nQ 52.203125 43.703125 52.203125 31.203125 \r\nz\r\n\" id=\"DejaVuSans-97\"/>\r\n      <path d=\"M 9.421875 54.6875 \r\nL 18.40625 54.6875 \r\nL 18.40625 0 \r\nL 9.421875 0 \r\nz\r\nM 9.421875 75.984375 \r\nL 18.40625 75.984375 \r\nL 18.40625 64.59375 \r\nL 9.421875 64.59375 \r\nz\r\n\" id=\"DejaVuSans-105\"/>\r\n      <path d=\"M 54.890625 33.015625 \r\nL 54.890625 0 \r\nL 45.90625 0 \r\nL 45.90625 32.71875 \r\nQ 45.90625 40.484375 42.875 44.328125 \r\nQ 39.84375 48.1875 33.796875 48.1875 \r\nQ 26.515625 48.1875 22.3125 43.546875 \r\nQ 18.109375 38.921875 18.109375 30.90625 \r\nL 18.109375 0 \r\nL 9.078125 0 \r\nL 9.078125 54.6875 \r\nL 18.109375 54.6875 \r\nL 18.109375 46.1875 \r\nQ 21.34375 51.125 25.703125 53.5625 \r\nQ 30.078125 56 35.796875 56 \r\nQ 45.21875 56 50.046875 50.171875 \r\nQ 54.890625 44.34375 54.890625 33.015625 \r\nz\r\n\" id=\"DejaVuSans-110\"/>\r\n      <path id=\"DejaVuSans-32\"/>\r\n      <path d=\"M 52 44.1875 \r\nQ 55.375 50.25 60.0625 53.125 \r\nQ 64.75 56 71.09375 56 \r\nQ 79.640625 56 84.28125 50.015625 \r\nQ 88.921875 44.046875 88.921875 33.015625 \r\nL 88.921875 0 \r\nL 79.890625 0 \r\nL 79.890625 32.71875 \r\nQ 79.890625 40.578125 77.09375 44.375 \r\nQ 74.3125 48.1875 68.609375 48.1875 \r\nQ 61.625 48.1875 57.5625 43.546875 \r\nQ 53.515625 38.921875 53.515625 30.90625 \r\nL 53.515625 0 \r\nL 44.484375 0 \r\nL 44.484375 32.71875 \r\nQ 44.484375 40.625 41.703125 44.40625 \r\nQ 38.921875 48.1875 33.109375 48.1875 \r\nQ 26.21875 48.1875 22.15625 43.53125 \r\nQ 18.109375 38.875 18.109375 30.90625 \r\nL 18.109375 0 \r\nL 9.078125 0 \r\nL 9.078125 54.6875 \r\nL 18.109375 54.6875 \r\nL 18.109375 46.1875 \r\nQ 21.1875 51.21875 25.484375 53.609375 \r\nQ 29.78125 56 35.6875 56 \r\nQ 41.65625 56 45.828125 52.96875 \r\nQ 50 49.953125 52 44.1875 \r\nz\r\n\" id=\"DejaVuSans-109\"/>\r\n      <path d=\"M 45.40625 46.390625 \r\nL 45.40625 75.984375 \r\nL 54.390625 75.984375 \r\nL 54.390625 0 \r\nL 45.40625 0 \r\nL 45.40625 8.203125 \r\nQ 42.578125 3.328125 38.25 0.953125 \r\nQ 33.9375 -1.421875 27.875 -1.421875 \r\nQ 17.96875 -1.421875 11.734375 6.484375 \r\nQ 5.515625 14.40625 5.515625 27.296875 \r\nQ 5.515625 40.1875 11.734375 48.09375 \r\nQ 17.96875 56 27.875 56 \r\nQ 33.9375 56 38.25 53.625 \r\nQ 42.578125 51.265625 45.40625 46.390625 \r\nz\r\nM 14.796875 27.296875 \r\nQ 14.796875 17.390625 18.875 11.75 \r\nQ 22.953125 6.109375 30.078125 6.109375 \r\nQ 37.203125 6.109375 41.296875 11.75 \r\nQ 45.40625 17.390625 45.40625 27.296875 \r\nQ 45.40625 37.203125 41.296875 42.84375 \r\nQ 37.203125 48.484375 30.078125 48.484375 \r\nQ 22.953125 48.484375 18.875 42.84375 \r\nQ 14.796875 37.203125 14.796875 27.296875 \r\nz\r\n\" id=\"DejaVuSans-100\"/>\r\n     </defs>\r\n     <use xlink:href=\"#DejaVuSans-66\"/>\r\n     <use x=\"68.603516\" xlink:href=\"#DejaVuSans-97\"/>\r\n     <use x=\"129.882812\" xlink:href=\"#DejaVuSans-115\"/>\r\n     <use x=\"181.982422\" xlink:href=\"#DejaVuSans-101\"/>\r\n     <use x=\"243.505859\" xlink:href=\"#DejaVuSans-108\"/>\r\n     <use x=\"271.289062\" xlink:href=\"#DejaVuSans-105\"/>\r\n     <use x=\"299.072266\" xlink:href=\"#DejaVuSans-110\"/>\r\n     <use x=\"362.451172\" xlink:href=\"#DejaVuSans-101\"/>\r\n     <use x=\"423.974609\" xlink:href=\"#DejaVuSans-32\"/>\r\n     <use x=\"455.761719\" xlink:href=\"#DejaVuSans-109\"/>\r\n     <use x=\"553.173828\" xlink:href=\"#DejaVuSans-111\"/>\r\n     <use x=\"614.355469\" xlink:href=\"#DejaVuSans-100\"/>\r\n     <use x=\"677.832031\" xlink:href=\"#DejaVuSans-101\"/>\r\n     <use x=\"739.355469\" xlink:href=\"#DejaVuSans-108\"/>\r\n     <use x=\"767.138672\" xlink:href=\"#DejaVuSans-32\"/>\r\n     <use x=\"798.925781\" xlink:href=\"#DejaVuSans-108\"/>\r\n     <use x=\"826.708984\" xlink:href=\"#DejaVuSans-111\"/>\r\n     <use x=\"887.890625\" xlink:href=\"#DejaVuSans-115\"/>\r\n     <use x=\"939.990234\" xlink:href=\"#DejaVuSans-115\"/>\r\n    </g>\r\n   </g>\r\n  </g>\r\n </g>\r\n <defs>\r\n  <clipPath id=\"p5f5afccff0\">\r\n   <rect height=\"217.44\" width=\"334.8\" x=\"50.14375\" y=\"22.318125\"/>\r\n  </clipPath>\r\n </defs>\r\n</svg>\r\n",
            "image/png": "[encoded data removed]"
          },
          "metadata": {
            "needs_background": "light"
          }
        }
      ],
      "source": [
        "display_history(history)"
      ]
    },
    {
      "cell_type": "code",
      "execution_count": 174,
      "metadata": {},
      "outputs": [],
      "source": [
        "y_pred2=model.predict(X_train_test)"
      ]
    },
    {
      "cell_type": "code",
      "execution_count": 175,
      "metadata": {},
      "outputs": [
        {
          "output_type": "stream",
          "name": "stdout",
          "text": [
            "AA: [0.23242821 0.43961483 0.32795697] ,1\nAA: [0.23242821 0.43961483 0.32795697] ,1\nAA: [0.23242821 0.43961483 0.32795697] ,2\nAA: [0.23242821 0.43961483 0.32795697] ,2\nAA: [0.23242821 0.43961483 0.32795697] ,2\nAA: [0.23242821 0.43961483 0.32795697] ,0\nAA: [0.23242821 0.43961483 0.32795697] ,2\nAA: [0.23242821 0.43961483 0.32795697] ,1\nAA: [0.23242821 0.43961483 0.32795697] ,1\nAA: [0.23242821 0.43961483 0.32795697] ,2\nAA: [0.23242821 0.43961483 0.32795697] ,1\nAA: [0.23242821 0.43961483 0.32795697] ,1\nAA: [0.23242821 0.43961483 0.32795697] ,1\nAA: [0.23242821 0.43961483 0.32795697] ,0\nAA: [0.23242821 0.43961483 0.32795697] ,1\nAA: [0.23242821 0.43961483 0.32795697] ,1\nAA: [0.23242821 0.43961483 0.32795697] ,1\nAA: [0.23242821 0.43961483 0.32795697] ,1\nAA: [0.23242821 0.43961483 0.32795697] ,2\nAA: [0.23242821 0.43961483 0.32795697] ,1\nAA: [0.23242821 0.43961483 0.32795697] ,1\nAA: [0.23242821 0.43961483 0.32795697] ,2\nAA: [0.23242821 0.43961483 0.32795697] ,2\nAA: [0.23242821 0.43961483 0.32795697] ,1\nAA: [0.23242821 0.43961483 0.32795697] ,1\nAA: [0.23242821 0.43961483 0.32795697] ,1\nAA: [0.23242821 0.43961483 0.32795697] ,1\nAA: [0.23242821 0.43961483 0.32795697] ,2\nAA: [0.23242821 0.43961483 0.32795697] ,2\nAA: [0.23242821 0.43961483 0.32795697] ,0\nAA: [0.23242821 0.43961483 0.32795697] ,0\nAA: [0.23242821 0.43961483 0.32795697] ,1\nAA: [0.23242821 0.43961483 0.32795697] ,1\nAA: [0.23242821 0.43961483 0.32795697] ,1\nAA: [0.23242821 0.43961483 0.32795697] ,2\nAA: [0.23242821 0.43961483 0.32795697] ,2\nAA: [0.23242821 0.43961483 0.32795697] ,0\nAA: [0.23242821 0.43961483 0.32795697] ,1\nAA: [0.23242821 0.43961483 0.32795697] ,2\nAA: [0.23242821 0.43961483 0.32795697] ,2\nAA: [0.23242821 0.43961483 0.32795697] ,0\nAA: [0.23242821 0.43961483 0.32795697] ,1\nAA: [0.23242821 0.43961483 0.32795697] ,2\nAA: [0.23242821 0.43961483 0.32795697] ,1\nAA: [0.23242821 0.43961483 0.32795697] ,1\nAA: [0.23242821 0.43961483 0.32795697] ,1\nAA: [0.23242821 0.43961483 0.32795697] ,2\nAA: [0.23242821 0.43961483 0.32795697] ,2\nAA: [0.23242821 0.43961483 0.32795697] ,1\nAA: [0.23242821 0.43961483 0.32795697] ,1\nAA: [0.23242821 0.43961483 0.32795697] ,2\nAA: [0.23242821 0.43961483 0.32795697] ,0\nAA: [0.23242821 0.43961483 0.32795697] ,1\nAA: [0.23242821 0.43961483 0.32795697] ,1\nAA: [0.23242821 0.43961483 0.32795697] ,0\nAA: [0.23242821 0.43961483 0.32795697] ,2\nAA: [0.23242821 0.43961483 0.32795697] ,1\nAA: [0.23242821 0.43961483 0.32795697] ,1\nAA: [0.23242821 0.43961483 0.32795697] ,1\nAA: [0.23242821 0.43961483 0.32795697] ,2\nAA: [0.23242821 0.43961483 0.32795697] ,1\nAA: [0.23242821 0.43961483 0.32795697] ,0\nAA: [0.23242821 0.43961483 0.32795697] ,1\nAA: [0.23242821 0.43961483 0.32795697] ,1\nAA: [0.23242821 0.43961483 0.32795697] ,2\nAA: [0.23242821 0.43961483 0.32795697] ,1\nAA: [0.23242821 0.43961483 0.32795697] ,2\nAA: [0.23242821 0.43961483 0.32795697] ,2\nAA: [0.23242821 0.43961483 0.32795697] ,2\nAA: [0.23242821 0.43961483 0.32795697] ,1\nAA: [0.23242821 0.43961483 0.32795697] ,1\nAA: [0.23242821 0.43961483 0.32795697] ,1\nAA: [0.23242821 0.43961483 0.32795697] ,1\nAA: [0.23242821 0.43961483 0.32795697] ,1\nAA: [0.23242821 0.43961483 0.32795697] ,1\nAA: [0.23242821 0.43961483 0.32795697] ,2\nAA: [0.23242821 0.43961483 0.32795697] ,2\nAA: [0.23242821 0.43961483 0.32795697] ,1\nAA: [0.23242821 0.43961483 0.32795697] ,2\nAA: [0.23242821 0.43961483 0.32795697] ,2\nAA: [0.23242821 0.43961483 0.32795697] ,1\nAA: [0.23242821 0.43961483 0.32795697] ,1\nAA: [0.23242821 0.43961483 0.32795697] ,1\nAA: [0.23242821 0.43961483 0.32795697] ,1\nAA: [0.23242821 0.43961483 0.32795697] ,1\nAA: [0.23242821 0.43961483 0.32795697] ,2\nAA: [0.23242821 0.43961483 0.32795697] ,1\nAA: [0.23242821 0.43961483 0.32795697] ,2\nAA: [0.23242821 0.43961483 0.32795697] ,1\nAA: [0.23242821 0.43961483 0.32795697] ,1\nAA: [0.23242821 0.43961483 0.32795697] ,1\nAA: [0.23242821 0.43961483 0.32795697] ,1\nAA: [0.23242821 0.43961483 0.32795697] ,2\nAA: [0.23242821 0.43961483 0.32795697] ,1\nAA: [0.23242821 0.43961483 0.32795697] ,1\nAA: [0.23242821 0.43961483 0.32795697] ,2\nAA: [0.23242821 0.43961483 0.32795697] ,2\nAA: [0.23242821 0.43961483 0.32795697] ,2\nAA: [0.23242821 0.43961483 0.32795697] ,1\nAA: [0.23242821 0.43961483 0.32795697] ,2\n"
          ]
        }
      ],
      "source": [
        "for i in range(360,460):\n",
        "    print(f\"AA: {y_pred2[i]} ,{y_train_test[i][0]}\")"
      ]
    },
    {
      "cell_type": "code",
      "execution_count": 52,
      "metadata": {},
      "outputs": [
        {
          "output_type": "execute_result",
          "data": {
            "text/plain": [
              "(86868, 2)"
            ]
          },
          "metadata": {},
          "execution_count": 52
        }
      ],
      "source": [
        "y_pred2.shape"
      ]
    },
    {
      "cell_type": "code",
      "execution_count": 25,
      "metadata": {
        "tags": []
      },
      "outputs": [],
      "source": [
        "\n",
        "\n",
        "\n",
        "from sklearn.linear_model import LogisticRegression\n",
        "LR=LogisticRegression(max_iter=2000)\n",
        "LR.fit(X_train_train,y_train_train[:,1])\n",
        "LR_score2=LR.score(X_train_test,y_train_test[:,1] )\n",
        "\n"
      ]
    },
    {
      "cell_type": "code",
      "execution_count": 26,
      "metadata": {},
      "outputs": [],
      "source": [
        "LR_res=[]\n",
        "for i in range(0,4):\n",
        "    LR=LogisticRegression(max_iter=2000)\n",
        "    LR.fit(X_train_train,y_train_train[:,i])\n",
        "    LR_score=LR.score(X_train_test,y_train_test[:,i] )    \n",
        "    LR_res.append(LR_score)"
      ]
    },
    {
      "cell_type": "code",
      "execution_count": 27,
      "metadata": {},
      "outputs": [],
      "source": [
        "DT_res=[]\n",
        "from sklearn.tree import DecisionTreeClassifier\n",
        "\n",
        "for i in range(0,4):\n",
        "    DT=DecisionTreeClassifier()\n",
        "    DT.fit(X_train_train,y_train_train[:,i])\n",
        "    DT_score=DT.score(X_train_test,y_train_test[:,i] )    \n",
        "    DT_res.append(DT_score)"
      ]
    },
    {
      "cell_type": "code",
      "execution_count": 29,
      "metadata": {},
      "outputs": [],
      "source": [
        "from sklearn.discriminant_analysis import LinearDiscriminantAnalysis\n",
        "\n",
        "LD_res=[]\n",
        "for i in range(0,4):\n",
        "    LD=LinearDiscriminantAnalysis()\n",
        "    LD.fit(X_train_train,y_train_train[:,i])\n",
        "    LD_score=LD.score(X_train_test,y_train_test[:,i] )    \n",
        "    LD_res.append(LD_score)\n"
      ]
    },
    {
      "cell_type": "code",
      "execution_count": 32,
      "metadata": {},
      "outputs": [],
      "source": [
        "from sklearn.naive_bayes import GaussianNB\n",
        "GNB_res=[]\n",
        "for i in range(0,4):\n",
        "    GNB=GaussianNB()\n",
        "    GNB.fit(X_train_train,y_train_train[:,i])\n",
        "    GNB_score=GNB.score(X_train_test,y_train_test[:,i] )    \n",
        "    GNB_res.append(GNB_score)"
      ]
    },
    {
      "cell_type": "code",
      "execution_count": 33,
      "metadata": {},
      "outputs": [],
      "source": [
        "from sklearn.neighbors import KNeighborsClassifier\n",
        "KN_res=[]\n",
        "for i in range(0,4):\n",
        "    KN=KNeighborsClassifier()\n",
        "    KN.fit(X_train_train,y_train_train[:,i])\n",
        "    KN_score=KN.score(X_train_test,y_train_test[:,i] )    \n",
        "    KN_res.append(KN_score)\n"
      ]
    },
    {
      "cell_type": "code",
      "execution_count": 60,
      "metadata": {},
      "outputs": [],
      "source": [
        "from sklearn.ensemble import AdaBoostClassifier\n",
        "ADA_res=[]\n",
        "for i in range(0,4):\n",
        "    ADA=AdaBoostClassifier(n_estimators=300)\n",
        "    ADA.fit(X_train_train,y_train_train[:,i])\n",
        "    ADA_score=ADA.score(X_train_test,y_train_test[:,i] )    \n",
        "    ADA_res.append(ADA_score)"
      ]
    },
    {
      "cell_type": "code",
      "execution_count": 67,
      "metadata": {},
      "outputs": [],
      "source": [
        "from sklearn.ensemble import GradientBoostingClassifier\n",
        "GBC_res=[]\n",
        "for i in range(0,4):\n",
        "    GBC=GradientBoostingClassifier(n_estimators=200)\n",
        "    GBC.fit(X_train_train,y_train_train[:,i])\n",
        "    GBC_score=GBC.score(X_train_test,y_train_test[:,i] )    \n",
        "    GBC_res.append(GBC_score)"
      ]
    },
    {
      "cell_type": "code",
      "execution_count": 126,
      "metadata": {
        "tags": [
          "outputPrepend"
        ]
      },
      "outputs": [
        {
          "output_type": "stream",
          "name": "stdout",
          "text": [
            "pth = 11, train loss: 0.50772, val loss: 0.58876, in 0.143s\n",
            "[574/3600] 3 trees, 93 leaves (31 on avg), max depth = 14, train loss: 0.50758, val loss: 0.58874, in 0.125s\n",
            "[575/3600] 3 trees, 93 leaves (31 on avg), max depth = 11, train loss: 0.50747, val loss: 0.58874, in 0.125s\n",
            "[576/3600] 3 trees, 93 leaves (31 on avg), max depth = 16, train loss: 0.50736, val loss: 0.58870, in 0.133s\n",
            "[577/3600] 3 trees, 93 leaves (31 on avg), max depth = 15, train loss: 0.50725, val loss: 0.58873, in 0.129s\n",
            "[578/3600] 3 trees, 93 leaves (31 on avg), max depth = 13, train loss: 0.50710, val loss: 0.58871, in 0.124s\n",
            "[579/3600] 3 trees, 93 leaves (31 on avg), max depth = 13, train loss: 0.50694, val loss: 0.58869, in 0.120s\n",
            "[580/3600] 3 trees, 93 leaves (31 on avg), max depth = 14, train loss: 0.50682, val loss: 0.58865, in 0.119s\n",
            "[581/3600] 3 trees, 93 leaves (31 on avg), max depth = 15, train loss: 0.50664, val loss: 0.58861, in 0.138s\n",
            "[582/3600] 3 trees, 93 leaves (31 on avg), max depth = 11, train loss: 0.50646, val loss: 0.58855, in 0.127s\n",
            "[583/3600] 3 trees, 93 leaves (31 on avg), max depth = 11, train loss: 0.50633, val loss: 0.58855, in 0.119s\n",
            "[584/3600] 3 trees, 93 leaves (31 on avg), max depth = 18, train loss: 0.50622, val loss: 0.58856, in 0.133s\n",
            "[585/3600] 3 trees, 93 leaves (31 on avg), max depth = 13, train loss: 0.50608, val loss: 0.58854, in 0.125s\n",
            "[586/3600] 3 trees, 93 leaves (31 on avg), max depth = 14, train loss: 0.50595, val loss: 0.58857, in 0.120s\n",
            "[587/3600] 3 trees, 93 leaves (31 on avg), max depth = 13, train loss: 0.50582, val loss: 0.58852, in 0.126s\n",
            "[588/3600] 3 trees, 93 leaves (31 on avg), max depth = 15, train loss: 0.50572, val loss: 0.58852, in 0.175s\n",
            "[589/3600] 3 trees, 93 leaves (31 on avg), max depth = 13, train loss: 0.50559, val loss: 0.58852, in 0.123s\n",
            "[590/3600] 3 trees, 93 leaves (31 on avg), max depth = 16, train loss: 0.50543, val loss: 0.58849, in 0.133s\n",
            "[591/3600] 3 trees, 93 leaves (31 on avg), max depth = 11, train loss: 0.50532, val loss: 0.58847, in 0.124s\n",
            "[592/3600] 3 trees, 93 leaves (31 on avg), max depth = 13, train loss: 0.50515, val loss: 0.58842, in 0.136s\n",
            "[593/3600] 3 trees, 93 leaves (31 on avg), max depth = 14, train loss: 0.50498, val loss: 0.58833, in 0.126s\n",
            "[594/3600] 3 trees, 93 leaves (31 on avg), max depth = 12, train loss: 0.50480, val loss: 0.58831, in 0.122s\n",
            "[595/3600] 3 trees, 93 leaves (31 on avg), max depth = 14, train loss: 0.50464, val loss: 0.58828, in 0.150s\n",
            "[596/3600] 3 trees, 93 leaves (31 on avg), max depth = 14, train loss: 0.50447, val loss: 0.58817, in 0.120s\n",
            "[597/3600] 3 trees, 93 leaves (31 on avg), max depth = 17, train loss: 0.50436, val loss: 0.58819, in 0.116s\n",
            "[598/3600] 3 trees, 93 leaves (31 on avg), max depth = 14, train loss: 0.50419, val loss: 0.58813, in 0.132s\n",
            "[599/3600] 3 trees, 93 leaves (31 on avg), max depth = 12, train loss: 0.50408, val loss: 0.58813, in 0.119s\n",
            "[600/3600] 3 trees, 93 leaves (31 on avg), max depth = 17, train loss: 0.50393, val loss: 0.58810, in 0.140s\n",
            "[601/3600] 3 trees, 93 leaves (31 on avg), max depth = 14, train loss: 0.50384, val loss: 0.58808, in 0.125s\n",
            "[602/3600] 3 trees, 93 leaves (31 on avg), max depth = 16, train loss: 0.50370, val loss: 0.58803, in 0.143s\n",
            "[603/3600] 3 trees, 93 leaves (31 on avg), max depth = 17, train loss: 0.50358, val loss: 0.58800, in 0.120s\n",
            "[604/3600] 3 trees, 93 leaves (31 on avg), max depth = 16, train loss: 0.50351, val loss: 0.58798, in 0.117s\n",
            "[605/3600] 3 trees, 93 leaves (31 on avg), max depth = 12, train loss: 0.50340, val loss: 0.58791, in 0.116s\n",
            "[606/3600] 3 trees, 93 leaves (31 on avg), max depth = 13, train loss: 0.50330, val loss: 0.58789, in 0.119s\n",
            "[607/3600] 3 trees, 93 leaves (31 on avg), max depth = 19, train loss: 0.50316, val loss: 0.58787, in 0.147s\n",
            "[608/3600] 3 trees, 93 leaves (31 on avg), max depth = 19, train loss: 0.50301, val loss: 0.58785, in 0.131s\n",
            "[609/3600] 3 trees, 93 leaves (31 on avg), max depth = 12, train loss: 0.50284, val loss: 0.58776, in 0.161s\n",
            "[610/3600] 3 trees, 93 leaves (31 on avg), max depth = 13, train loss: 0.50273, val loss: 0.58774, in 0.114s\n",
            "[611/3600] 3 trees, 93 leaves (31 on avg), max depth = 16, train loss: 0.50258, val loss: 0.58764, in 0.127s\n",
            "[612/3600] 3 trees, 93 leaves (31 on avg), max depth = 14, train loss: 0.50245, val loss: 0.58763, in 0.125s\n",
            "[613/3600] 3 trees, 93 leaves (31 on avg), max depth = 18, train loss: 0.50231, val loss: 0.58763, in 0.127s\n",
            "[614/3600] 3 trees, 93 leaves (31 on avg), max depth = 12, train loss: 0.50221, val loss: 0.58764, in 0.119s\n",
            "[615/3600] 3 trees, 93 leaves (31 on avg), max depth = 12, train loss: 0.50205, val loss: 0.58755, in 0.144s\n",
            "[616/3600] 3 trees, 93 leaves (31 on avg), max depth = 12, train loss: 0.50187, val loss: 0.58754, in 0.147s\n",
            "[617/3600] 3 trees, 93 leaves (31 on avg), max depth = 12, train loss: 0.50173, val loss: 0.58752, in 0.122s\n",
            "[618/3600] 3 trees, 93 leaves (31 on avg), max depth = 15, train loss: 0.50158, val loss: 0.58748, in 0.123s\n",
            "[619/3600] 3 trees, 93 leaves (31 on avg), max depth = 19, train loss: 0.50144, val loss: 0.58747, in 0.125s\n",
            "[620/3600] 3 trees, 93 leaves (31 on avg), max depth = 11, train loss: 0.50131, val loss: 0.58746, in 0.122s\n",
            "[621/3600] 3 trees, 93 leaves (31 on avg), max depth = 12, train loss: 0.50112, val loss: 0.58740, in 0.134s\n",
            "[622/3600] 3 trees, 93 leaves (31 on avg), max depth = 15, train loss: 0.50100, val loss: 0.58737, in 0.136s\n",
            "[623/3600] 3 trees, 93 leaves (31 on avg), max depth = 14, train loss: 0.50090, val loss: 0.58731, in 0.152s\n",
            "[624/3600] 3 trees, 93 leaves (31 on avg), max depth = 13, train loss: 0.50079, val loss: 0.58726, in 0.149s\n",
            "[625/3600] 3 trees, 93 leaves (31 on avg), max depth = 12, train loss: 0.50056, val loss: 0.58716, in 0.130s\n",
            "[626/3600] 3 trees, 93 leaves (31 on avg), max depth = 13, train loss: 0.50044, val loss: 0.58713, in 0.128s\n",
            "[627/3600] 3 trees, 93 leaves (31 on avg), max depth = 14, train loss: 0.50030, val loss: 0.58711, in 0.156s\n",
            "[628/3600] 3 trees, 93 leaves (31 on avg), max depth = 12, train loss: 0.50019, val loss: 0.58713, in 0.139s\n",
            "[629/3600] 3 trees, 93 leaves (31 on avg), max depth = 13, train loss: 0.50009, val loss: 0.58717, in 0.141s\n",
            "[630/3600] 3 trees, 93 leaves (31 on avg), max depth = 13, train loss: 0.49994, val loss: 0.58709, in 0.158s\n",
            "[631/3600] 3 trees, 93 leaves (31 on avg), max depth = 13, train loss: 0.49982, val loss: 0.58711, in 0.176s\n",
            "[632/3600] 3 trees, 93 leaves (31 on avg), max depth = 13, train loss: 0.49974, val loss: 0.58710, in 0.118s\n",
            "[633/3600] 3 trees, 93 leaves (31 on avg), max depth = 11, train loss: 0.49962, val loss: 0.58704, in 0.121s\n",
            "[634/3600] 3 trees, 93 leaves (31 on avg), max depth = 14, train loss: 0.49954, val loss: 0.58706, in 0.127s\n",
            "[635/3600] 3 trees, 93 leaves (31 on avg), max depth = 12, train loss: 0.49947, val loss: 0.58706, in 0.131s\n",
            "[636/3600] 3 trees, 93 leaves (31 on avg), max depth = 11, train loss: 0.49936, val loss: 0.58704, in 0.149s\n",
            "[637/3600] 3 trees, 93 leaves (31 on avg), max depth = 12, train loss: 0.49916, val loss: 0.58695, in 0.161s\n",
            "[638/3600] 3 trees, 93 leaves (31 on avg), max depth = 14, train loss: 0.49903, val loss: 0.58686, in 0.133s\n",
            "[639/3600] 3 trees, 93 leaves (31 on avg), max depth = 15, train loss: 0.49889, val loss: 0.58682, in 0.147s\n",
            "[640/3600] 3 trees, 93 leaves (31 on avg), max depth = 14, train loss: 0.49877, val loss: 0.58680, in 0.118s\n",
            "[641/3600] 3 trees, 93 leaves (31 on avg), max depth = 17, train loss: 0.49867, val loss: 0.58679, in 0.119s\n",
            "[642/3600] 3 trees, 93 leaves (31 on avg), max depth = 15, train loss: 0.49855, val loss: 0.58677, in 0.121s\n",
            "[643/3600] 3 trees, 93 leaves (31 on avg), max depth = 16, train loss: 0.49838, val loss: 0.58669, in 0.134s\n",
            "[644/3600] 3 trees, 93 leaves (31 on avg), max depth = 12, train loss: 0.49830, val loss: 0.58670, in 0.147s\n",
            "[645/3600] 3 trees, 93 leaves (31 on avg), max depth = 15, train loss: 0.49817, val loss: 0.58663, in 0.158s\n",
            "[646/3600] 3 trees, 93 leaves (31 on avg), max depth = 12, train loss: 0.49807, val loss: 0.58661, in 0.156s\n",
            "[647/3600] 3 trees, 93 leaves (31 on avg), max depth = 15, train loss: 0.49797, val loss: 0.58657, in 0.124s\n",
            "[648/3600] 3 trees, 93 leaves (31 on avg), max depth = 14, train loss: 0.49786, val loss: 0.58656, in 0.121s\n",
            "[649/3600] 3 trees, 93 leaves (31 on avg), max depth = 13, train loss: 0.49776, val loss: 0.58657, in 0.125s\n",
            "[650/3600] 3 trees, 93 leaves (31 on avg), max depth = 17, train loss: 0.49767, val loss: 0.58653, in 0.144s\n",
            "[651/3600] 3 trees, 93 leaves (31 on avg), max depth = 14, train loss: 0.49755, val loss: 0.58647, in 0.165s\n",
            "[652/3600] 3 trees, 93 leaves (31 on avg), max depth = 13, train loss: 0.49746, val loss: 0.58643, in 0.153s\n",
            "[653/3600] 3 trees, 93 leaves (31 on avg), max depth = 13, train loss: 0.49734, val loss: 0.58643, in 0.169s\n",
            "[654/3600] 3 trees, 93 leaves (31 on avg), max depth = 14, train loss: 0.49719, val loss: 0.58645, in 0.127s\n",
            "[655/3600] 3 trees, 93 leaves (31 on avg), max depth = 12, train loss: 0.49708, val loss: 0.58643, in 0.126s\n",
            "[656/3600] 3 trees, 93 leaves (31 on avg), max depth = 11, train loss: 0.49693, val loss: 0.58640, in 0.124s\n",
            "[657/3600] 3 trees, 93 leaves (31 on avg), max depth = 14, train loss: 0.49683, val loss: 0.58640, in 0.124s\n",
            "[658/3600] 3 trees, 93 leaves (31 on avg), max depth = 16, train loss: 0.49669, val loss: 0.58638, in 0.142s\n",
            "[659/3600] 3 trees, 93 leaves (31 on avg), max depth = 12, train loss: 0.49652, val loss: 0.58638, in 0.138s\n",
            "[660/3600] 3 trees, 93 leaves (31 on avg), max depth = 14, train loss: 0.49645, val loss: 0.58637, in 0.163s\n",
            "[661/3600] 3 trees, 93 leaves (31 on avg), max depth = 14, train loss: 0.49629, val loss: 0.58629, in 0.123s\n",
            "[662/3600] 3 trees, 93 leaves (31 on avg), max depth = 16, train loss: 0.49618, val loss: 0.58629, in 0.122s\n",
            "[663/3600] 3 trees, 93 leaves (31 on avg), max depth = 13, train loss: 0.49606, val loss: 0.58623, in 0.125s\n",
            "[664/3600] 3 trees, 93 leaves (31 on avg), max depth = 10, train loss: 0.49592, val loss: 0.58620, in 0.131s\n",
            "[665/3600] 3 trees, 93 leaves (31 on avg), max depth = 16, train loss: 0.49576, val loss: 0.58617, in 0.145s\n",
            "[666/3600] 3 trees, 93 leaves (31 on avg), max depth = 13, train loss: 0.49561, val loss: 0.58610, in 0.151s\n",
            "[667/3600] 3 trees, 93 leaves (31 on avg), max depth = 13, train loss: 0.49553, val loss: 0.58608, in 0.127s\n",
            "[668/3600] 3 trees, 93 leaves (31 on avg), max depth = 14, train loss: 0.49542, val loss: 0.58602, in 0.155s\n",
            "[669/3600] 3 trees, 93 leaves (31 on avg), max depth = 12, train loss: 0.49529, val loss: 0.58598, in 0.125s\n",
            "[670/3600] 3 trees, 93 leaves (31 on avg), max depth = 16, train loss: 0.49521, val loss: 0.58596, in 0.160s\n",
            "[671/3600] 3 trees, 93 leaves (31 on avg), max depth = 13, train loss: 0.49512, val loss: 0.58598, in 0.125s\n",
            "[672/3600] 3 trees, 93 leaves (31 on avg), max depth = 14, train loss: 0.49500, val loss: 0.58595, in 0.127s\n",
            "[673/3600] 3 trees, 93 leaves (31 on avg), max depth = 16, train loss: 0.49482, val loss: 0.58590, in 0.156s\n",
            "[674/3600] 3 trees, 93 leaves (31 on avg), max depth = 14, train loss: 0.49471, val loss: 0.58589, in 0.131s\n",
            "[675/3600] 3 trees, 93 leaves (31 on avg), max depth = 18, train loss: 0.49460, val loss: 0.58586, in 0.160s\n",
            "[676/3600] 3 trees, 93 leaves (31 on avg), max depth = 16, train loss: 0.49449, val loss: 0.58583, in 0.132s\n",
            "[677/3600] 3 trees, 93 leaves (31 on avg), max depth = 13, train loss: 0.49439, val loss: 0.58580, in 0.123s\n",
            "[678/3600] 3 trees, 93 leaves (31 on avg), max depth = 13, train loss: 0.49426, val loss: 0.58575, in 0.126s\n",
            "[679/3600] 3 trees, 93 leaves (31 on avg), max depth = 14, train loss: 0.49415, val loss: 0.58573, in 0.128s\n",
            "[680/3600] 3 trees, 93 leaves (31 on avg), max depth = 14, train loss: 0.49402, val loss: 0.58575, in 0.154s\n",
            "[681/3600] 3 trees, 93 leaves (31 on avg), max depth = 14, train loss: 0.49392, val loss: 0.58573, in 0.135s\n",
            "[682/3600] 3 trees, 93 leaves (31 on avg), max depth = 16, train loss: 0.49377, val loss: 0.58573, in 0.177s\n",
            "[683/3600] 3 trees, 93 leaves (31 on avg), max depth = 13, train loss: 0.49363, val loss: 0.58569, in 0.131s\n",
            "[684/3600] 3 trees, 93 leaves (31 on avg), max depth = 13, train loss: 0.49347, val loss: 0.58562, in 0.132s\n",
            "[685/3600] 3 trees, 93 leaves (31 on avg), max depth = 13, train loss: 0.49335, val loss: 0.58564, in 0.122s\n",
            "[686/3600] 3 trees, 93 leaves (31 on avg), max depth = 18, train loss: 0.49325, val loss: 0.58563, in 0.141s\n",
            "[687/3600] 3 trees, 93 leaves (31 on avg), max depth = 15, train loss: 0.49312, val loss: 0.58563, in 0.159s\n",
            "[688/3600] 3 trees, 93 leaves (31 on avg), max depth = 14, train loss: 0.49301, val loss: 0.58558, in 0.146s\n",
            "[689/3600] 3 trees, 93 leaves (31 on avg), max depth = 12, train loss: 0.49290, val loss: 0.58558, in 0.179s\n",
            "[690/3600] 3 trees, 93 leaves (31 on avg), max depth = 12, train loss: 0.49280, val loss: 0.58560, in 0.125s\n",
            "[691/3600] 3 trees, 93 leaves (31 on avg), max depth = 16, train loss: 0.49267, val loss: 0.58559, in 0.135s\n",
            "[692/3600] 3 trees, 93 leaves (31 on avg), max depth = 17, train loss: 0.49260, val loss: 0.58560, in 0.127s\n",
            "[693/3600] 3 trees, 93 leaves (31 on avg), max depth = 11, train loss: 0.49251, val loss: 0.58563, in 0.130s\n",
            "[694/3600] 3 trees, 93 leaves (31 on avg), max depth = 17, train loss: 0.49241, val loss: 0.58559, in 0.153s\n",
            "[695/3600] 3 trees, 93 leaves (31 on avg), max depth = 20, train loss: 0.49229, val loss: 0.58558, in 0.144s\n",
            "[696/3600] 3 trees, 93 leaves (31 on avg), max depth = 12, train loss: 0.49216, val loss: 0.58555, in 0.138s\n",
            "[697/3600] 3 trees, 93 leaves (31 on avg), max depth = 16, train loss: 0.49202, val loss: 0.58553, in 0.181s\n",
            "[698/3600] 3 trees, 93 leaves (31 on avg), max depth = 11, train loss: 0.49187, val loss: 0.58550, in 0.147s\n",
            "[699/3600] 3 trees, 93 leaves (31 on avg), max depth = 12, train loss: 0.49172, val loss: 0.58545, in 0.141s\n",
            "[700/3600] 3 trees, 93 leaves (31 on avg), max depth = 15, train loss: 0.49160, val loss: 0.58547, in 0.145s\n",
            "[701/3600] 3 trees, 93 leaves (31 on avg), max depth = 16, train loss: 0.49147, val loss: 0.58547, in 0.153s\n",
            "[702/3600] 3 trees, 93 leaves (31 on avg), max depth = 17, train loss: 0.49137, val loss: 0.58545, in 0.145s\n",
            "[703/3600] 3 trees, 93 leaves (31 on avg), max depth = 15, train loss: 0.49130, val loss: 0.58544, in 0.124s\n",
            "[704/3600] 3 trees, 93 leaves (31 on avg), max depth = 14, train loss: 0.49119, val loss: 0.58544, in 0.178s\n",
            "[705/3600] 3 trees, 93 leaves (31 on avg), max depth = 17, train loss: 0.49108, val loss: 0.58539, in 0.138s\n",
            "[706/3600] 3 trees, 93 leaves (31 on avg), max depth = 12, train loss: 0.49097, val loss: 0.58541, in 0.127s\n",
            "[707/3600] 3 trees, 93 leaves (31 on avg), max depth = 12, train loss: 0.49088, val loss: 0.58539, in 0.137s\n",
            "[708/3600] 3 trees, 93 leaves (31 on avg), max depth = 14, train loss: 0.49077, val loss: 0.58536, in 0.171s\n",
            "[709/3600] 3 trees, 93 leaves (31 on avg), max depth = 15, train loss: 0.49065, val loss: 0.58536, in 0.135s\n",
            "[710/3600] 3 trees, 93 leaves (31 on avg), max depth = 14, train loss: 0.49057, val loss: 0.58536, in 0.155s\n",
            "[711/3600] 3 trees, 93 leaves (31 on avg), max depth = 14, train loss: 0.49042, val loss: 0.58533, in 0.181s\n",
            "[712/3600] 3 trees, 93 leaves (31 on avg), max depth = 12, train loss: 0.49027, val loss: 0.58533, in 0.183s\n",
            "[713/3600] 3 trees, 93 leaves (31 on avg), max depth = 18, train loss: 0.49016, val loss: 0.58531, in 0.146s\n",
            "[714/3600] 3 trees, 93 leaves (31 on avg), max depth = 14, train loss: 0.49007, val loss: 0.58530, in 0.168s\n",
            "[715/3600] 3 trees, 93 leaves (31 on avg), max depth = 17, train loss: 0.48998, val loss: 0.58531, in 0.136s\n",
            "[716/3600] 3 trees, 93 leaves (31 on avg), max depth = 17, train loss: 0.48987, val loss: 0.58529, in 0.132s\n",
            "[717/3600] 3 trees, 93 leaves (31 on avg), max depth = 13, train loss: 0.48975, val loss: 0.58523, in 0.137s\n",
            "[718/3600] 3 trees, 93 leaves (31 on avg), max depth = 12, train loss: 0.48960, val loss: 0.58518, in 0.154s\n",
            "[719/3600] 3 trees, 93 leaves (31 on avg), max depth = 12, train loss: 0.48947, val loss: 0.58518, in 0.182s\n",
            "[720/3600] 3 trees, 93 leaves (31 on avg), max depth = 12, train loss: 0.48931, val loss: 0.58513, in 0.139s\n",
            "[721/3600] 3 trees, 93 leaves (31 on avg), max depth = 13, train loss: 0.48915, val loss: 0.58507, in 0.156s\n",
            "[722/3600] 3 trees, 93 leaves (31 on avg), max depth = 13, train loss: 0.48900, val loss: 0.58505, in 0.142s\n",
            "[723/3600] 3 trees, 93 leaves (31 on avg), max depth = 12, train loss: 0.48889, val loss: 0.58507, in 0.152s\n",
            "[724/3600] 3 trees, 93 leaves (31 on avg), max depth = 14, train loss: 0.48881, val loss: 0.58505, in 0.160s\n",
            "[725/3600] 3 trees, 93 leaves (31 on avg), max depth = 19, train loss: 0.48871, val loss: 0.58504, in 0.142s\n",
            "[726/3600] 3 trees, 93 leaves (31 on avg), max depth = 11, train loss: 0.48860, val loss: 0.58501, in 0.186s\n",
            "[727/3600] 3 trees, 93 leaves (31 on avg), max depth = 14, train loss: 0.48849, val loss: 0.58502, in 0.145s\n",
            "[728/3600] 3 trees, 93 leaves (31 on avg), max depth = 15, train loss: 0.48842, val loss: 0.58499, in 0.129s\n",
            "[729/3600] 3 trees, 93 leaves (31 on avg), max depth = 18, train loss: 0.48828, val loss: 0.58499, in 0.139s\n",
            "[730/3600] 3 trees, 93 leaves (31 on avg), max depth = 14, train loss: 0.48815, val loss: 0.58499, in 0.134s\n",
            "[731/3600] 3 trees, 93 leaves (31 on avg), max depth = 14, train loss: 0.48809, val loss: 0.58502, in 0.129s\n",
            "[732/3600] 3 trees, 93 leaves (31 on avg), max depth = 19, train loss: 0.48800, val loss: 0.58503, in 0.141s\n",
            "[733/3600] 3 trees, 93 leaves (31 on avg), max depth = 16, train loss: 0.48788, val loss: 0.58504, in 0.195s\n",
            "[734/3600] 3 trees, 93 leaves (31 on avg), max depth = 16, train loss: 0.48779, val loss: 0.58502, in 0.158s\n",
            "[735/3600] 3 trees, 93 leaves (31 on avg), max depth = 11, train loss: 0.48767, val loss: 0.58504, in 0.151s\n",
            "[736/3600] 3 trees, 93 leaves (31 on avg), max depth = 11, train loss: 0.48752, val loss: 0.58501, in 0.136s\n",
            "[737/3600] 3 trees, 93 leaves (31 on avg), max depth = 11, train loss: 0.48742, val loss: 0.58498, in 0.131s\n",
            "[738/3600] 3 trees, 93 leaves (31 on avg), max depth = 14, train loss: 0.48730, val loss: 0.58499, in 0.146s\n",
            "[739/3600] 3 trees, 93 leaves (31 on avg), max depth = 11, train loss: 0.48719, val loss: 0.58498, in 0.141s\n",
            "[740/3600] 3 trees, 93 leaves (31 on avg), max depth = 12, train loss: 0.48705, val loss: 0.58496, in 0.156s\n",
            "[741/3600] 3 trees, 93 leaves (31 on avg), max depth = 17, train loss: 0.48689, val loss: 0.58487, in 0.210s\n",
            "[742/3600] 3 trees, 93 leaves (31 on avg), max depth = 13, train loss: 0.48678, val loss: 0.58486, in 0.133s\n",
            "[743/3600] 3 trees, 93 leaves (31 on avg), max depth = 12, train loss: 0.48665, val loss: 0.58483, in 0.173s\n",
            "[744/3600] 3 trees, 93 leaves (31 on avg), max depth = 14, train loss: 0.48653, val loss: 0.58480, in 0.140s\n",
            "[745/3600] 3 trees, 93 leaves (31 on avg), max depth = 12, train loss: 0.48643, val loss: 0.58482, in 0.150s\n",
            "[746/3600] 3 trees, 93 leaves (31 on avg), max depth = 10, train loss: 0.48628, val loss: 0.58481, in 0.194s\n",
            "[747/3600] 3 trees, 93 leaves (31 on avg), max depth = 11, train loss: 0.48619, val loss: 0.58485, in 0.160s\n",
            "[748/3600] 3 trees, 93 leaves (31 on avg), max depth = 16, train loss: 0.48609, val loss: 0.58488, in 0.185s\n",
            "[749/3600] 3 trees, 93 leaves (31 on avg), max depth = 14, train loss: 0.48599, val loss: 0.58489, in 0.134s\n",
            "[750/3600] 3 trees, 93 leaves (31 on avg), max depth = 14, train loss: 0.48585, val loss: 0.58490, in 0.143s\n",
            "[751/3600] 3 trees, 93 leaves (31 on avg), max depth = 16, train loss: 0.48573, val loss: 0.58486, in 0.159s\n",
            "[752/3600] 3 trees, 93 leaves (31 on avg), max depth = 12, train loss: 0.48567, val loss: 0.58488, in 0.143s\n",
            "[753/3600] 3 trees, 93 leaves (31 on avg), max depth = 14, train loss: 0.48555, val loss: 0.58487, in 0.173s\n",
            "[754/3600] 3 trees, 93 leaves (31 on avg), max depth = 16, train loss: 0.48546, val loss: 0.58487, in 0.149s\n",
            "Fit 2262 trees in 117.008 s, (70122 total leaves)\n",
            "Time spent computing histograms: 40.063s\n",
            "Time spent finding best splits:  3.462s\n",
            "Time spent applying splits:      9.456s\n",
            "Time spent predicting:           0.979s\n"
          ]
        }
      ],
      "source": [
        "from sklearn.experimental import enable_hist_gradient_boosting\n",
        "from sklearn.ensemble import HistGradientBoostingClassifier\n",
        "HGB_res=[]\n",
        "for i in range(0,1):\n",
        "    HGB=HistGradientBoostingClassifier(max_iter=3600, verbose=1, tol=1e-8)\n",
        "    HGB.fit(X_train_train,y_train_train[:,i])\n",
        "    HGB_score=HGB.score(X_train_test,y_train_test[:,i] )    \n",
        "    HGB_res.append(HGB_score)"
      ]
    },
    {
      "cell_type": "code",
      "execution_count": 127,
      "metadata": {},
      "outputs": [
        {
          "output_type": "execute_result",
          "data": {
            "text/plain": [
              "[0.7433831990794016]"
            ]
          },
          "metadata": {},
          "execution_count": 127
        }
      ],
      "source": [
        "HGB_res"
      ]
    },
    {
      "cell_type": "code",
      "execution_count": 44,
      "metadata": {},
      "outputs": [
        {
          "output_type": "execute_result",
          "data": {
            "text/plain": [
              "[0.9163789796701189, 0.685078634445723, 0.7614115841963943]"
            ]
          },
          "metadata": {},
          "execution_count": 44
        }
      ],
      "source": [
        "GBC_res"
      ]
    },
    {
      "source": [
        "from sklearn.svm import SVC\n",
        "SVC_res=[]\n",
        "for i in range(1,4):\n",
        "    SVC=SVC()\n",
        "    SVC.fit(X_train_train,y_train_train[:,i])\n",
        "    SVC_score=SVC.score(X_train_test,y_train_test[:,i] )    \n",
        "    SVC_res.append(SVC_score)\n"
      ],
      "cell_type": "markdown",
      "metadata": {}
    },
    {
      "cell_type": "code",
      "execution_count": 78,
      "metadata": {},
      "outputs": [
        {
          "output_type": "execute_result",
          "data": {
            "text/plain": [
              "[0.7364787111622555,\n",
              " 0.9271192942079018,\n",
              " 0.7280398925968546,\n",
              " 0.8020713463751439]"
            ]
          },
          "metadata": {},
          "execution_count": 78
        }
      ],
      "source": [
        "HGB_res"
      ]
    },
    {
      "cell_type": "code",
      "execution_count": 79,
      "metadata": {},
      "outputs": [
        {
          "output_type": "display_data",
          "data": {
            "text/plain": "<Figure size 720x576 with 1 Axes>",
            "image/svg+xml": "<?xml version=\"1.0\" encoding=\"utf-8\" standalone=\"no\"?>\r\n<!DOCTYPE svg PUBLIC \"-//W3C//DTD SVG 1.1//EN\"\r\n  \"http://www.w3.org/Graphics/SVG/1.1/DTD/svg11.dtd\">\r\n<!-- Created with matplotlib (https://matplotlib.org/) -->\r\n<svg height=\"465.958125pt\" version=\"1.1\" viewBox=\"0 0 595.303125 465.958125\" width=\"595.303125pt\" xmlns=\"http://www.w3.org/2000/svg\" xmlns:xlink=\"http://www.w3.org/1999/xlink\">\r\n <metadata>\r\n  <rdf:RDF xmlns:cc=\"http://creativecommons.org/ns#\" xmlns:dc=\"http://purl.org/dc/elements/1.1/\" xmlns:rdf=\"http://www.w3.org/1999/02/22-rdf-syntax-ns#\">\r\n   <cc:Work>\r\n    <dc:type rdf:resource=\"http://purl.org/dc/dcmitype/StillImage\"/>\r\n    <dc:date>2021-01-01T20:38:48.544504</dc:date>\r\n    <dc:format>image/svg+xml</dc:format>\r\n    <dc:creator>\r\n     <cc:Agent>\r\n      <dc:title>Matplotlib v3.3.3, https://matplotlib.org/</dc:title>\r\n     </cc:Agent>\r\n    </dc:creator>\r\n   </cc:Work>\r\n  </rdf:RDF>\r\n </metadata>\r\n <defs>\r\n  <style type=\"text/css\">*{stroke-linecap:butt;stroke-linejoin:round;}</style>\r\n </defs>\r\n <g id=\"figure_1\">\r\n  <g id=\"patch_1\">\r\n   <path d=\"M -0 465.958125 \r\nL 595.303125 465.958125 \r\nL 595.303125 0 \r\nL -0 0 \r\nz\r\n\" style=\"fill:none;\"/>\r\n  </g>\r\n  <g id=\"axes_1\">\r\n   <g id=\"patch_2\">\r\n    <path d=\"M 30.103125 442.08 \r\nL 588.103125 442.08 \r\nL 588.103125 7.2 \r\nL 30.103125 7.2 \r\nz\r\n\" style=\"fill:#ffffff;\"/>\r\n   </g>\r\n   <g id=\"patch_3\">\r\n    <path clip-path=\"url(#pf51a976073)\" d=\"M 64.978125 442.08 \r\nL 73.696875 442.08 \r\nL 73.696875 174.933431 \r\nL 64.978125 174.933431 \r\nz\r\n\" style=\"fill:#1f77b4;\"/>\r\n   </g>\r\n   <g id=\"patch_4\">\r\n    <path clip-path=\"url(#pf51a976073)\" d=\"M 204.478125 442.08 \r\nL 213.196875 442.08 \r\nL 213.196875 36.819169 \r\nL 204.478125 36.819169 \r\nz\r\n\" style=\"fill:#1f77b4;\"/>\r\n   </g>\r\n   <g id=\"patch_5\">\r\n    <path clip-path=\"url(#pf51a976073)\" d=\"M 343.978125 442.08 \r\nL 352.696875 442.08 \r\nL 352.696875 175.276146 \r\nL 343.978125 175.276146 \r\nz\r\n\" style=\"fill:#1f77b4;\"/>\r\n   </g>\r\n   <g id=\"patch_6\">\r\n    <path clip-path=\"url(#pf51a976073)\" d=\"M 483.478125 442.08 \r\nL 492.196875 442.08 \r\nL 492.196875 133.978954 \r\nL 483.478125 133.978954 \r\nz\r\n\" style=\"fill:#1f77b4;\"/>\r\n   </g>\r\n   <g id=\"patch_7\">\r\n    <path clip-path=\"url(#pf51a976073)\" d=\"M 73.696875 442.08 \r\nL 82.415625 442.08 \r\nL 82.415625 144.089055 \r\nL 73.696875 144.089055 \r\nz\r\n\" style=\"fill:#ff7f0e;\"/>\r\n   </g>\r\n   <g id=\"patch_8\">\r\n    <path clip-path=\"url(#pf51a976073)\" d=\"M 213.196875 442.08 \r\nL 221.915625 442.08 \r\nL 221.915625 40.931752 \r\nL 213.196875 40.931752 \r\nz\r\n\" style=\"fill:#ff7f0e;\"/>\r\n   </g>\r\n   <g id=\"patch_9\">\r\n    <path clip-path=\"url(#pf51a976073)\" d=\"M 352.696875 442.08 \r\nL 361.415625 442.08 \r\nL 361.415625 143.060909 \r\nL 352.696875 143.060909 \r\nz\r\n\" style=\"fill:#ff7f0e;\"/>\r\n   </g>\r\n   <g id=\"patch_10\">\r\n    <path clip-path=\"url(#pf51a976073)\" d=\"M 492.196875 442.08 \r\nL 500.915625 442.08 \r\nL 500.915625 110.502956 \r\nL 492.196875 110.502956 \r\nz\r\n\" style=\"fill:#ff7f0e;\"/>\r\n   </g>\r\n   <g id=\"patch_11\">\r\n    <path clip-path=\"url(#pf51a976073)\" d=\"M 82.415625 442.08 \r\nL 91.134375 442.08 \r\nL 91.134375 174.419358 \r\nL 82.415625 174.419358 \r\nz\r\n\" style=\"fill:#2ca02c;\"/>\r\n   </g>\r\n   <g id=\"patch_12\">\r\n    <path clip-path=\"url(#pf51a976073)\" d=\"M 221.915625 442.08 \r\nL 230.634375 442.08 \r\nL 230.634375 38.532745 \r\nL 221.915625 38.532745 \r\nz\r\n\" style=\"fill:#2ca02c;\"/>\r\n   </g>\r\n   <g id=\"patch_13\">\r\n    <path clip-path=\"url(#pf51a976073)\" d=\"M 361.415625 442.08 \r\nL 370.134375 442.08 \r\nL 370.134375 174.590716 \r\nL 361.415625 174.590716 \r\nz\r\n\" style=\"fill:#2ca02c;\"/>\r\n   </g>\r\n   <g id=\"patch_14\">\r\n    <path clip-path=\"url(#pf51a976073)\" d=\"M 500.915625 442.08 \r\nL 509.634375 442.08 \r\nL 509.634375 134.835742 \r\nL 500.915625 134.835742 \r\nz\r\n\" style=\"fill:#2ca02c;\"/>\r\n   </g>\r\n   <g id=\"patch_15\">\r\n    <path clip-path=\"url(#pf51a976073)\" d=\"M 91.134375 442.08 \r\nL 99.853125 442.08 \r\nL 99.853125 253.243875 \r\nL 91.134375 253.243875 \r\nz\r\n\" style=\"fill:#d62728;\"/>\r\n   </g>\r\n   <g id=\"patch_16\">\r\n    <path clip-path=\"url(#pf51a976073)\" d=\"M 230.634375 442.08 \r\nL 239.353125 442.08 \r\nL 239.353125 63.722319 \r\nL 230.634375 63.722319 \r\nz\r\n\" style=\"fill:#d62728;\"/>\r\n   </g>\r\n   <g id=\"patch_17\">\r\n    <path clip-path=\"url(#pf51a976073)\" d=\"M 370.134375 442.08 \r\nL 378.853125 442.08 \r\nL 378.853125 184.015386 \r\nL 370.134375 184.015386 \r\nz\r\n\" style=\"fill:#d62728;\"/>\r\n   </g>\r\n   <g id=\"patch_18\">\r\n    <path clip-path=\"url(#pf51a976073)\" d=\"M 509.634375 442.08 \r\nL 518.353125 442.08 \r\nL 518.353125 212.632113 \r\nL 509.634375 212.632113 \r\nz\r\n\" style=\"fill:#d62728;\"/>\r\n   </g>\r\n   <g id=\"patch_19\">\r\n    <path clip-path=\"url(#pf51a976073)\" d=\"M 99.853125 442.08 \r\nL 108.571875 442.08 \r\nL 108.571875 137.406107 \r\nL 99.853125 137.406107 \r\nz\r\n\" style=\"fill:#9467bd;\"/>\r\n   </g>\r\n   <g id=\"patch_20\">\r\n    <path clip-path=\"url(#pf51a976073)\" d=\"M 239.353125 442.08 \r\nL 248.071875 442.08 \r\nL 248.071875 34.420162 \r\nL 239.353125 34.420162 \r\nz\r\n\" style=\"fill:#9467bd;\"/>\r\n   </g>\r\n   <g id=\"patch_21\">\r\n    <path clip-path=\"url(#pf51a976073)\" d=\"M 378.853125 442.08 \r\nL 387.571875 442.08 \r\nL 387.571875 134.493027 \r\nL 378.853125 134.493027 \r\nz\r\n\" style=\"fill:#9467bd;\"/>\r\n   </g>\r\n   <g id=\"patch_22\">\r\n    <path clip-path=\"url(#pf51a976073)\" d=\"M 518.353125 442.08 \r\nL 527.071875 442.08 \r\nL 527.071875 100.564213 \r\nL 518.353125 100.564213 \r\nz\r\n\" style=\"fill:#9467bd;\"/>\r\n   </g>\r\n   <g id=\"patch_23\">\r\n    <path clip-path=\"url(#pf51a976073)\" d=\"M 108.571875 442.08 \r\nL 117.290625 442.08 \r\nL 117.290625 140.661902 \r\nL 108.571875 140.661902 \r\nz\r\n\" style=\"fill:#8c564b;\"/>\r\n   </g>\r\n   <g id=\"patch_24\">\r\n    <path clip-path=\"url(#pf51a976073)\" d=\"M 248.071875 442.08 \r\nL 256.790625 442.08 \r\nL 256.790625 30.821651 \r\nL 248.071875 30.821651 \r\nz\r\n\" style=\"fill:#8c564b;\"/>\r\n   </g>\r\n   <g id=\"patch_25\">\r\n    <path clip-path=\"url(#pf51a976073)\" d=\"M 387.571875 442.08 \r\nL 396.290625 442.08 \r\nL 396.290625 141.861406 \r\nL 387.571875 141.861406 \r\nz\r\n\" style=\"fill:#8c564b;\"/>\r\n   </g>\r\n   <g id=\"patch_26\">\r\n    <path clip-path=\"url(#pf51a976073)\" d=\"M 527.071875 442.08 \r\nL 535.790625 442.08 \r\nL 535.790625 101.078286 \r\nL 527.071875 101.078286 \r\nz\r\n\" style=\"fill:#8c564b;\"/>\r\n   </g>\r\n   <g id=\"patch_27\">\r\n    <path clip-path=\"url(#pf51a976073)\" d=\"M 117.290625 442.08 \r\nL 126.009375 442.08 \r\nL 126.009375 131.579947 \r\nL 117.290625 131.579947 \r\nz\r\n\" style=\"fill:#e377c2;\"/>\r\n   </g>\r\n   <g id=\"patch_28\">\r\n    <path clip-path=\"url(#pf51a976073)\" d=\"M 256.790625 442.08 \r\nL 265.509375 442.08 \r\nL 265.509375 31.507082 \r\nL 256.790625 31.507082 \r\nz\r\n\" style=\"fill:#e377c2;\"/>\r\n   </g>\r\n   <g id=\"patch_29\">\r\n    <path clip-path=\"url(#pf51a976073)\" d=\"M 396.290625 442.08 \r\nL 405.009375 442.08 \r\nL 405.009375 135.178457 \r\nL 396.290625 135.178457 \r\nz\r\n\" style=\"fill:#e377c2;\"/>\r\n   </g>\r\n   <g id=\"patch_30\">\r\n    <path clip-path=\"url(#pf51a976073)\" d=\"M 535.790625 442.08 \r\nL 544.509375 442.08 \r\nL 544.509375 99.021994 \r\nL 535.790625 99.021994 \r\nz\r\n\" style=\"fill:#e377c2;\"/>\r\n   </g>\r\n   <g id=\"patch_31\">\r\n    <path clip-path=\"url(#pf51a976073)\" d=\"M 126.009375 442.08 \r\nL 134.728125 442.08 \r\nL 134.728125 113.073321 \r\nL 126.009375 113.073321 \r\nz\r\n\" style=\"fill:#7f7f7f;\"/>\r\n   </g>\r\n   <g id=\"patch_32\">\r\n    <path clip-path=\"url(#pf51a976073)\" d=\"M 265.509375 442.08 \r\nL 274.228125 442.08 \r\nL 274.228125 27.908571 \r\nL 265.509375 27.908571 \r\nz\r\n\" style=\"fill:#7f7f7f;\"/>\r\n   </g>\r\n   <g id=\"patch_33\">\r\n    <path clip-path=\"url(#pf51a976073)\" d=\"M 405.009375 442.08 \r\nL 413.728125 442.08 \r\nL 413.728125 116.843189 \r\nL 405.009375 116.843189 \r\nz\r\n\" style=\"fill:#7f7f7f;\"/>\r\n   </g>\r\n   <g id=\"patch_34\">\r\n    <path clip-path=\"url(#pf51a976073)\" d=\"M 544.509375 442.08 \r\nL 553.228125 442.08 \r\nL 553.228125 83.771164 \r\nL 544.509375 83.771164 \r\nz\r\n\" style=\"fill:#7f7f7f;\"/>\r\n   </g>\r\n   <g id=\"matplotlib.axis_1\">\r\n    <g id=\"xtick_1\">\r\n     <g id=\"line2d_1\">\r\n      <defs>\r\n       <path d=\"M 0 0 \r\nL 0 3.5 \r\n\" id=\"mabdf18e31f\" style=\"stroke:#000000;stroke-width:0.8;\"/>\r\n      </defs>\r\n      <g>\r\n       <use style=\"stroke:#000000;stroke-width:0.8;\" x=\"99.853125\" xlink:href=\"#mabdf18e31f\" y=\"442.08\"/>\r\n      </g>\r\n     </g>\r\n     <g id=\"text_1\">\r\n      <!-- 0 -->\r\n      <g transform=\"translate(96.671875 456.678437)scale(0.1 -0.1)\">\r\n       <defs>\r\n        <path d=\"M 31.78125 66.40625 \r\nQ 24.171875 66.40625 20.328125 58.90625 \r\nQ 16.5 51.421875 16.5 36.375 \r\nQ 16.5 21.390625 20.328125 13.890625 \r\nQ 24.171875 6.390625 31.78125 6.390625 \r\nQ 39.453125 6.390625 43.28125 13.890625 \r\nQ 47.125 21.390625 47.125 36.375 \r\nQ 47.125 51.421875 43.28125 58.90625 \r\nQ 39.453125 66.40625 31.78125 66.40625 \r\nz\r\nM 31.78125 74.21875 \r\nQ 44.046875 74.21875 50.515625 64.515625 \r\nQ 56.984375 54.828125 56.984375 36.375 \r\nQ 56.984375 17.96875 50.515625 8.265625 \r\nQ 44.046875 -1.421875 31.78125 -1.421875 \r\nQ 19.53125 -1.421875 13.0625 8.265625 \r\nQ 6.59375 17.96875 6.59375 36.375 \r\nQ 6.59375 54.828125 13.0625 64.515625 \r\nQ 19.53125 74.21875 31.78125 74.21875 \r\nz\r\n\" id=\"DejaVuSans-48\"/>\r\n       </defs>\r\n       <use xlink:href=\"#DejaVuSans-48\"/>\r\n      </g>\r\n     </g>\r\n    </g>\r\n    <g id=\"xtick_2\">\r\n     <g id=\"line2d_2\">\r\n      <g>\r\n       <use style=\"stroke:#000000;stroke-width:0.8;\" x=\"239.353125\" xlink:href=\"#mabdf18e31f\" y=\"442.08\"/>\r\n      </g>\r\n     </g>\r\n     <g id=\"text_2\">\r\n      <!-- 1 -->\r\n      <g transform=\"translate(236.171875 456.678437)scale(0.1 -0.1)\">\r\n       <defs>\r\n        <path d=\"M 12.40625 8.296875 \r\nL 28.515625 8.296875 \r\nL 28.515625 63.921875 \r\nL 10.984375 60.40625 \r\nL 10.984375 69.390625 \r\nL 28.421875 72.90625 \r\nL 38.28125 72.90625 \r\nL 38.28125 8.296875 \r\nL 54.390625 8.296875 \r\nL 54.390625 0 \r\nL 12.40625 0 \r\nz\r\n\" id=\"DejaVuSans-49\"/>\r\n       </defs>\r\n       <use xlink:href=\"#DejaVuSans-49\"/>\r\n      </g>\r\n     </g>\r\n    </g>\r\n    <g id=\"xtick_3\">\r\n     <g id=\"line2d_3\">\r\n      <g>\r\n       <use style=\"stroke:#000000;stroke-width:0.8;\" x=\"378.853125\" xlink:href=\"#mabdf18e31f\" y=\"442.08\"/>\r\n      </g>\r\n     </g>\r\n     <g id=\"text_3\">\r\n      <!-- 2 -->\r\n      <g transform=\"translate(375.671875 456.678437)scale(0.1 -0.1)\">\r\n       <defs>\r\n        <path d=\"M 19.1875 8.296875 \r\nL 53.609375 8.296875 \r\nL 53.609375 0 \r\nL 7.328125 0 \r\nL 7.328125 8.296875 \r\nQ 12.9375 14.109375 22.625 23.890625 \r\nQ 32.328125 33.6875 34.8125 36.53125 \r\nQ 39.546875 41.84375 41.421875 45.53125 \r\nQ 43.3125 49.21875 43.3125 52.78125 \r\nQ 43.3125 58.59375 39.234375 62.25 \r\nQ 35.15625 65.921875 28.609375 65.921875 \r\nQ 23.96875 65.921875 18.8125 64.3125 \r\nQ 13.671875 62.703125 7.8125 59.421875 \r\nL 7.8125 69.390625 \r\nQ 13.765625 71.78125 18.9375 73 \r\nQ 24.125 74.21875 28.421875 74.21875 \r\nQ 39.75 74.21875 46.484375 68.546875 \r\nQ 53.21875 62.890625 53.21875 53.421875 \r\nQ 53.21875 48.921875 51.53125 44.890625 \r\nQ 49.859375 40.875 45.40625 35.40625 \r\nQ 44.1875 33.984375 37.640625 27.21875 \r\nQ 31.109375 20.453125 19.1875 8.296875 \r\nz\r\n\" id=\"DejaVuSans-50\"/>\r\n       </defs>\r\n       <use xlink:href=\"#DejaVuSans-50\"/>\r\n      </g>\r\n     </g>\r\n    </g>\r\n    <g id=\"xtick_4\">\r\n     <g id=\"line2d_4\">\r\n      <g>\r\n       <use style=\"stroke:#000000;stroke-width:0.8;\" x=\"518.353125\" xlink:href=\"#mabdf18e31f\" y=\"442.08\"/>\r\n      </g>\r\n     </g>\r\n     <g id=\"text_4\">\r\n      <!-- 3 -->\r\n      <g transform=\"translate(515.171875 456.678437)scale(0.1 -0.1)\">\r\n       <defs>\r\n        <path d=\"M 40.578125 39.3125 \r\nQ 47.65625 37.796875 51.625 33 \r\nQ 55.609375 28.21875 55.609375 21.1875 \r\nQ 55.609375 10.40625 48.1875 4.484375 \r\nQ 40.765625 -1.421875 27.09375 -1.421875 \r\nQ 22.515625 -1.421875 17.65625 -0.515625 \r\nQ 12.796875 0.390625 7.625 2.203125 \r\nL 7.625 11.71875 \r\nQ 11.71875 9.328125 16.59375 8.109375 \r\nQ 21.484375 6.890625 26.8125 6.890625 \r\nQ 36.078125 6.890625 40.9375 10.546875 \r\nQ 45.796875 14.203125 45.796875 21.1875 \r\nQ 45.796875 27.640625 41.28125 31.265625 \r\nQ 36.765625 34.90625 28.71875 34.90625 \r\nL 20.21875 34.90625 \r\nL 20.21875 43.015625 \r\nL 29.109375 43.015625 \r\nQ 36.375 43.015625 40.234375 45.921875 \r\nQ 44.09375 48.828125 44.09375 54.296875 \r\nQ 44.09375 59.90625 40.109375 62.90625 \r\nQ 36.140625 65.921875 28.71875 65.921875 \r\nQ 24.65625 65.921875 20.015625 65.03125 \r\nQ 15.375 64.15625 9.8125 62.3125 \r\nL 9.8125 71.09375 \r\nQ 15.4375 72.65625 20.34375 73.4375 \r\nQ 25.25 74.21875 29.59375 74.21875 \r\nQ 40.828125 74.21875 47.359375 69.109375 \r\nQ 53.90625 64.015625 53.90625 55.328125 \r\nQ 53.90625 49.265625 50.4375 45.09375 \r\nQ 46.96875 40.921875 40.578125 39.3125 \r\nz\r\n\" id=\"DejaVuSans-51\"/>\r\n       </defs>\r\n       <use xlink:href=\"#DejaVuSans-51\"/>\r\n      </g>\r\n     </g>\r\n    </g>\r\n   </g>\r\n   <g id=\"matplotlib.axis_2\">\r\n    <g id=\"ytick_1\">\r\n     <g id=\"line2d_5\">\r\n      <defs>\r\n       <path d=\"M 0 0 \r\nL -3.5 0 \r\n\" id=\"m820a434ddc\" style=\"stroke:#000000;stroke-width:0.8;\"/>\r\n      </defs>\r\n      <g>\r\n       <use style=\"stroke:#000000;stroke-width:0.8;\" x=\"30.103125\" xlink:href=\"#m820a434ddc\" y=\"442.08\"/>\r\n      </g>\r\n     </g>\r\n     <g id=\"text_5\">\r\n      <!-- 0.0 -->\r\n      <g transform=\"translate(7.2 445.879219)scale(0.1 -0.1)\">\r\n       <defs>\r\n        <path d=\"M 10.6875 12.40625 \r\nL 21 12.40625 \r\nL 21 0 \r\nL 10.6875 0 \r\nz\r\n\" id=\"DejaVuSans-46\"/>\r\n       </defs>\r\n       <use xlink:href=\"#DejaVuSans-48\"/>\r\n       <use x=\"63.623047\" xlink:href=\"#DejaVuSans-46\"/>\r\n       <use x=\"95.410156\" xlink:href=\"#DejaVuSans-48\"/>\r\n      </g>\r\n     </g>\r\n    </g>\r\n    <g id=\"ytick_2\">\r\n     <g id=\"line2d_6\">\r\n      <g>\r\n       <use style=\"stroke:#000000;stroke-width:0.8;\" x=\"30.103125\" xlink:href=\"#m820a434ddc\" y=\"352.734124\"/>\r\n      </g>\r\n     </g>\r\n     <g id=\"text_6\">\r\n      <!-- 0.2 -->\r\n      <g transform=\"translate(7.2 356.533343)scale(0.1 -0.1)\">\r\n       <use xlink:href=\"#DejaVuSans-48\"/>\r\n       <use x=\"63.623047\" xlink:href=\"#DejaVuSans-46\"/>\r\n       <use x=\"95.410156\" xlink:href=\"#DejaVuSans-50\"/>\r\n      </g>\r\n     </g>\r\n    </g>\r\n    <g id=\"ytick_3\">\r\n     <g id=\"line2d_7\">\r\n      <g>\r\n       <use style=\"stroke:#000000;stroke-width:0.8;\" x=\"30.103125\" xlink:href=\"#m820a434ddc\" y=\"263.388248\"/>\r\n      </g>\r\n     </g>\r\n     <g id=\"text_7\">\r\n      <!-- 0.4 -->\r\n      <g transform=\"translate(7.2 267.187466)scale(0.1 -0.1)\">\r\n       <defs>\r\n        <path d=\"M 37.796875 64.3125 \r\nL 12.890625 25.390625 \r\nL 37.796875 25.390625 \r\nz\r\nM 35.203125 72.90625 \r\nL 47.609375 72.90625 \r\nL 47.609375 25.390625 \r\nL 58.015625 25.390625 \r\nL 58.015625 17.1875 \r\nL 47.609375 17.1875 \r\nL 47.609375 0 \r\nL 37.796875 0 \r\nL 37.796875 17.1875 \r\nL 4.890625 17.1875 \r\nL 4.890625 26.703125 \r\nz\r\n\" id=\"DejaVuSans-52\"/>\r\n       </defs>\r\n       <use xlink:href=\"#DejaVuSans-48\"/>\r\n       <use x=\"63.623047\" xlink:href=\"#DejaVuSans-46\"/>\r\n       <use x=\"95.410156\" xlink:href=\"#DejaVuSans-52\"/>\r\n      </g>\r\n     </g>\r\n    </g>\r\n    <g id=\"ytick_4\">\r\n     <g id=\"line2d_8\">\r\n      <g>\r\n       <use style=\"stroke:#000000;stroke-width:0.8;\" x=\"30.103125\" xlink:href=\"#m820a434ddc\" y=\"174.042371\"/>\r\n      </g>\r\n     </g>\r\n     <g id=\"text_8\">\r\n      <!-- 0.6 -->\r\n      <g transform=\"translate(7.2 177.84159)scale(0.1 -0.1)\">\r\n       <defs>\r\n        <path d=\"M 33.015625 40.375 \r\nQ 26.375 40.375 22.484375 35.828125 \r\nQ 18.609375 31.296875 18.609375 23.390625 \r\nQ 18.609375 15.53125 22.484375 10.953125 \r\nQ 26.375 6.390625 33.015625 6.390625 \r\nQ 39.65625 6.390625 43.53125 10.953125 \r\nQ 47.40625 15.53125 47.40625 23.390625 \r\nQ 47.40625 31.296875 43.53125 35.828125 \r\nQ 39.65625 40.375 33.015625 40.375 \r\nz\r\nM 52.59375 71.296875 \r\nL 52.59375 62.3125 \r\nQ 48.875 64.0625 45.09375 64.984375 \r\nQ 41.3125 65.921875 37.59375 65.921875 \r\nQ 27.828125 65.921875 22.671875 59.328125 \r\nQ 17.53125 52.734375 16.796875 39.40625 \r\nQ 19.671875 43.65625 24.015625 45.921875 \r\nQ 28.375 48.1875 33.59375 48.1875 \r\nQ 44.578125 48.1875 50.953125 41.515625 \r\nQ 57.328125 34.859375 57.328125 23.390625 \r\nQ 57.328125 12.15625 50.6875 5.359375 \r\nQ 44.046875 -1.421875 33.015625 -1.421875 \r\nQ 20.359375 -1.421875 13.671875 8.265625 \r\nQ 6.984375 17.96875 6.984375 36.375 \r\nQ 6.984375 53.65625 15.1875 63.9375 \r\nQ 23.390625 74.21875 37.203125 74.21875 \r\nQ 40.921875 74.21875 44.703125 73.484375 \r\nQ 48.484375 72.75 52.59375 71.296875 \r\nz\r\n\" id=\"DejaVuSans-54\"/>\r\n       </defs>\r\n       <use xlink:href=\"#DejaVuSans-48\"/>\r\n       <use x=\"63.623047\" xlink:href=\"#DejaVuSans-46\"/>\r\n       <use x=\"95.410156\" xlink:href=\"#DejaVuSans-54\"/>\r\n      </g>\r\n     </g>\r\n    </g>\r\n    <g id=\"ytick_5\">\r\n     <g id=\"line2d_9\">\r\n      <g>\r\n       <use style=\"stroke:#000000;stroke-width:0.8;\" x=\"30.103125\" xlink:href=\"#m820a434ddc\" y=\"84.696495\"/>\r\n      </g>\r\n     </g>\r\n     <g id=\"text_9\">\r\n      <!-- 0.8 -->\r\n      <g transform=\"translate(7.2 88.495714)scale(0.1 -0.1)\">\r\n       <defs>\r\n        <path d=\"M 31.78125 34.625 \r\nQ 24.75 34.625 20.71875 30.859375 \r\nQ 16.703125 27.09375 16.703125 20.515625 \r\nQ 16.703125 13.921875 20.71875 10.15625 \r\nQ 24.75 6.390625 31.78125 6.390625 \r\nQ 38.8125 6.390625 42.859375 10.171875 \r\nQ 46.921875 13.96875 46.921875 20.515625 \r\nQ 46.921875 27.09375 42.890625 30.859375 \r\nQ 38.875 34.625 31.78125 34.625 \r\nz\r\nM 21.921875 38.8125 \r\nQ 15.578125 40.375 12.03125 44.71875 \r\nQ 8.5 49.078125 8.5 55.328125 \r\nQ 8.5 64.0625 14.71875 69.140625 \r\nQ 20.953125 74.21875 31.78125 74.21875 \r\nQ 42.671875 74.21875 48.875 69.140625 \r\nQ 55.078125 64.0625 55.078125 55.328125 \r\nQ 55.078125 49.078125 51.53125 44.71875 \r\nQ 48 40.375 41.703125 38.8125 \r\nQ 48.828125 37.15625 52.796875 32.3125 \r\nQ 56.78125 27.484375 56.78125 20.515625 \r\nQ 56.78125 9.90625 50.3125 4.234375 \r\nQ 43.84375 -1.421875 31.78125 -1.421875 \r\nQ 19.734375 -1.421875 13.25 4.234375 \r\nQ 6.78125 9.90625 6.78125 20.515625 \r\nQ 6.78125 27.484375 10.78125 32.3125 \r\nQ 14.796875 37.15625 21.921875 38.8125 \r\nz\r\nM 18.3125 54.390625 \r\nQ 18.3125 48.734375 21.84375 45.5625 \r\nQ 25.390625 42.390625 31.78125 42.390625 \r\nQ 38.140625 42.390625 41.71875 45.5625 \r\nQ 45.3125 48.734375 45.3125 54.390625 \r\nQ 45.3125 60.0625 41.71875 63.234375 \r\nQ 38.140625 66.40625 31.78125 66.40625 \r\nQ 25.390625 66.40625 21.84375 63.234375 \r\nQ 18.3125 60.0625 18.3125 54.390625 \r\nz\r\n\" id=\"DejaVuSans-56\"/>\r\n       </defs>\r\n       <use xlink:href=\"#DejaVuSans-48\"/>\r\n       <use x=\"63.623047\" xlink:href=\"#DejaVuSans-46\"/>\r\n       <use x=\"95.410156\" xlink:href=\"#DejaVuSans-56\"/>\r\n      </g>\r\n     </g>\r\n    </g>\r\n   </g>\r\n   <g id=\"patch_35\">\r\n    <path d=\"M 30.103125 442.08 \r\nL 30.103125 7.2 \r\n\" style=\"fill:none;stroke:#000000;stroke-linecap:square;stroke-linejoin:miter;stroke-width:0.8;\"/>\r\n   </g>\r\n   <g id=\"patch_36\">\r\n    <path d=\"M 588.103125 442.08 \r\nL 588.103125 7.2 \r\n\" style=\"fill:none;stroke:#000000;stroke-linecap:square;stroke-linejoin:miter;stroke-width:0.8;\"/>\r\n   </g>\r\n   <g id=\"patch_37\">\r\n    <path d=\"M 30.103125 442.08 \r\nL 588.103125 442.08 \r\n\" style=\"fill:none;stroke:#000000;stroke-linecap:square;stroke-linejoin:miter;stroke-width:0.8;\"/>\r\n   </g>\r\n   <g id=\"patch_38\">\r\n    <path d=\"M 30.103125 7.2 \r\nL 588.103125 7.2 \r\n\" style=\"fill:none;stroke:#000000;stroke-linecap:square;stroke-linejoin:miter;stroke-width:0.8;\"/>\r\n   </g>\r\n   <g id=\"legend_1\">\r\n    <g id=\"patch_39\">\r\n     <path d=\"M 37.103125 132.625 \r\nL 91.232813 132.625 \r\nQ 93.232813 132.625 93.232813 130.625 \r\nL 93.232813 14.2 \r\nQ 93.232813 12.2 91.232813 12.2 \r\nL 37.103125 12.2 \r\nQ 35.103125 12.2 35.103125 14.2 \r\nL 35.103125 130.625 \r\nQ 35.103125 132.625 37.103125 132.625 \r\nz\r\n\" style=\"fill:#ffffff;opacity:0.8;stroke:#cccccc;stroke-linejoin:miter;\"/>\r\n    </g>\r\n    <g id=\"patch_40\">\r\n     <path d=\"M 39.103125 23.798437 \r\nL 59.103125 23.798437 \r\nL 59.103125 16.798437 \r\nL 39.103125 16.798437 \r\nz\r\n\" style=\"fill:#1f77b4;\"/>\r\n    </g>\r\n    <g id=\"text_10\">\r\n     <!-- LR -->\r\n     <g transform=\"translate(67.103125 23.798437)scale(0.1 -0.1)\">\r\n      <defs>\r\n       <path d=\"M 9.8125 72.90625 \r\nL 19.671875 72.90625 \r\nL 19.671875 8.296875 \r\nL 55.171875 8.296875 \r\nL 55.171875 0 \r\nL 9.8125 0 \r\nz\r\n\" id=\"DejaVuSans-76\"/>\r\n       <path d=\"M 44.390625 34.1875 \r\nQ 47.5625 33.109375 50.5625 29.59375 \r\nQ 53.5625 26.078125 56.59375 19.921875 \r\nL 66.609375 0 \r\nL 56 0 \r\nL 46.6875 18.703125 \r\nQ 43.0625 26.03125 39.671875 28.421875 \r\nQ 36.28125 30.8125 30.421875 30.8125 \r\nL 19.671875 30.8125 \r\nL 19.671875 0 \r\nL 9.8125 0 \r\nL 9.8125 72.90625 \r\nL 32.078125 72.90625 \r\nQ 44.578125 72.90625 50.734375 67.671875 \r\nQ 56.890625 62.453125 56.890625 51.90625 \r\nQ 56.890625 45.015625 53.6875 40.46875 \r\nQ 50.484375 35.9375 44.390625 34.1875 \r\nz\r\nM 19.671875 64.796875 \r\nL 19.671875 38.921875 \r\nL 32.078125 38.921875 \r\nQ 39.203125 38.921875 42.84375 42.21875 \r\nQ 46.484375 45.515625 46.484375 51.90625 \r\nQ 46.484375 58.296875 42.84375 61.546875 \r\nQ 39.203125 64.796875 32.078125 64.796875 \r\nz\r\n\" id=\"DejaVuSans-82\"/>\r\n      </defs>\r\n      <use xlink:href=\"#DejaVuSans-76\"/>\r\n      <use x=\"55.712891\" xlink:href=\"#DejaVuSans-82\"/>\r\n     </g>\r\n    </g>\r\n    <g id=\"patch_41\">\r\n     <path d=\"M 39.103125 38.476562 \r\nL 59.103125 38.476562 \r\nL 59.103125 31.476562 \r\nL 39.103125 31.476562 \r\nz\r\n\" style=\"fill:#ff7f0e;\"/>\r\n    </g>\r\n    <g id=\"text_11\">\r\n     <!-- DT -->\r\n     <g transform=\"translate(67.103125 38.476562)scale(0.1 -0.1)\">\r\n      <defs>\r\n       <path d=\"M 19.671875 64.796875 \r\nL 19.671875 8.109375 \r\nL 31.59375 8.109375 \r\nQ 46.6875 8.109375 53.6875 14.9375 \r\nQ 60.6875 21.78125 60.6875 36.53125 \r\nQ 60.6875 51.171875 53.6875 57.984375 \r\nQ 46.6875 64.796875 31.59375 64.796875 \r\nz\r\nM 9.8125 72.90625 \r\nL 30.078125 72.90625 \r\nQ 51.265625 72.90625 61.171875 64.09375 \r\nQ 71.09375 55.28125 71.09375 36.53125 \r\nQ 71.09375 17.671875 61.125 8.828125 \r\nQ 51.171875 0 30.078125 0 \r\nL 9.8125 0 \r\nz\r\n\" id=\"DejaVuSans-68\"/>\r\n       <path d=\"M -0.296875 72.90625 \r\nL 61.375 72.90625 \r\nL 61.375 64.59375 \r\nL 35.5 64.59375 \r\nL 35.5 0 \r\nL 25.59375 0 \r\nL 25.59375 64.59375 \r\nL -0.296875 64.59375 \r\nz\r\n\" id=\"DejaVuSans-84\"/>\r\n      </defs>\r\n      <use xlink:href=\"#DejaVuSans-68\"/>\r\n      <use x=\"77.001953\" xlink:href=\"#DejaVuSans-84\"/>\r\n     </g>\r\n    </g>\r\n    <g id=\"patch_42\">\r\n     <path d=\"M 39.103125 53.154687 \r\nL 59.103125 53.154687 \r\nL 59.103125 46.154687 \r\nL 39.103125 46.154687 \r\nz\r\n\" style=\"fill:#2ca02c;\"/>\r\n    </g>\r\n    <g id=\"text_12\">\r\n     <!-- LD -->\r\n     <g transform=\"translate(67.103125 53.154687)scale(0.1 -0.1)\">\r\n      <use xlink:href=\"#DejaVuSans-76\"/>\r\n      <use x=\"55.712891\" xlink:href=\"#DejaVuSans-68\"/>\r\n     </g>\r\n    </g>\r\n    <g id=\"patch_43\">\r\n     <path d=\"M 39.103125 67.832812 \r\nL 59.103125 67.832812 \r\nL 59.103125 60.832812 \r\nL 39.103125 60.832812 \r\nz\r\n\" style=\"fill:#d62728;\"/>\r\n    </g>\r\n    <g id=\"text_13\">\r\n     <!-- GNB -->\r\n     <g transform=\"translate(67.103125 67.832812)scale(0.1 -0.1)\">\r\n      <defs>\r\n       <path d=\"M 59.515625 10.40625 \r\nL 59.515625 29.984375 \r\nL 43.40625 29.984375 \r\nL 43.40625 38.09375 \r\nL 69.28125 38.09375 \r\nL 69.28125 6.78125 \r\nQ 63.578125 2.734375 56.6875 0.65625 \r\nQ 49.8125 -1.421875 42 -1.421875 \r\nQ 24.90625 -1.421875 15.25 8.5625 \r\nQ 5.609375 18.5625 5.609375 36.375 \r\nQ 5.609375 54.25 15.25 64.234375 \r\nQ 24.90625 74.21875 42 74.21875 \r\nQ 49.125 74.21875 55.546875 72.453125 \r\nQ 61.96875 70.703125 67.390625 67.28125 \r\nL 67.390625 56.78125 \r\nQ 61.921875 61.421875 55.765625 63.765625 \r\nQ 49.609375 66.109375 42.828125 66.109375 \r\nQ 29.4375 66.109375 22.71875 58.640625 \r\nQ 16.015625 51.171875 16.015625 36.375 \r\nQ 16.015625 21.625 22.71875 14.15625 \r\nQ 29.4375 6.6875 42.828125 6.6875 \r\nQ 48.046875 6.6875 52.140625 7.59375 \r\nQ 56.25 8.5 59.515625 10.40625 \r\nz\r\n\" id=\"DejaVuSans-71\"/>\r\n       <path d=\"M 9.8125 72.90625 \r\nL 23.09375 72.90625 \r\nL 55.421875 11.921875 \r\nL 55.421875 72.90625 \r\nL 64.984375 72.90625 \r\nL 64.984375 0 \r\nL 51.703125 0 \r\nL 19.390625 60.984375 \r\nL 19.390625 0 \r\nL 9.8125 0 \r\nz\r\n\" id=\"DejaVuSans-78\"/>\r\n       <path d=\"M 19.671875 34.8125 \r\nL 19.671875 8.109375 \r\nL 35.5 8.109375 \r\nQ 43.453125 8.109375 47.28125 11.40625 \r\nQ 51.125 14.703125 51.125 21.484375 \r\nQ 51.125 28.328125 47.28125 31.5625 \r\nQ 43.453125 34.8125 35.5 34.8125 \r\nz\r\nM 19.671875 64.796875 \r\nL 19.671875 42.828125 \r\nL 34.28125 42.828125 \r\nQ 41.5 42.828125 45.03125 45.53125 \r\nQ 48.578125 48.25 48.578125 53.8125 \r\nQ 48.578125 59.328125 45.03125 62.0625 \r\nQ 41.5 64.796875 34.28125 64.796875 \r\nz\r\nM 9.8125 72.90625 \r\nL 35.015625 72.90625 \r\nQ 46.296875 72.90625 52.390625 68.21875 \r\nQ 58.5 63.53125 58.5 54.890625 \r\nQ 58.5 48.1875 55.375 44.234375 \r\nQ 52.25 40.28125 46.1875 39.3125 \r\nQ 53.46875 37.75 57.5 32.78125 \r\nQ 61.53125 27.828125 61.53125 20.40625 \r\nQ 61.53125 10.640625 54.890625 5.3125 \r\nQ 48.25 0 35.984375 0 \r\nL 9.8125 0 \r\nz\r\n\" id=\"DejaVuSans-66\"/>\r\n      </defs>\r\n      <use xlink:href=\"#DejaVuSans-71\"/>\r\n      <use x=\"77.490234\" xlink:href=\"#DejaVuSans-78\"/>\r\n      <use x=\"152.294922\" xlink:href=\"#DejaVuSans-66\"/>\r\n     </g>\r\n    </g>\r\n    <g id=\"patch_44\">\r\n     <path d=\"M 39.103125 82.510937 \r\nL 59.103125 82.510937 \r\nL 59.103125 75.510937 \r\nL 39.103125 75.510937 \r\nz\r\n\" style=\"fill:#9467bd;\"/>\r\n    </g>\r\n    <g id=\"text_14\">\r\n     <!-- KN -->\r\n     <g transform=\"translate(67.103125 82.510937)scale(0.1 -0.1)\">\r\n      <defs>\r\n       <path d=\"M 9.8125 72.90625 \r\nL 19.671875 72.90625 \r\nL 19.671875 42.09375 \r\nL 52.390625 72.90625 \r\nL 65.09375 72.90625 \r\nL 28.90625 38.921875 \r\nL 67.671875 0 \r\nL 54.6875 0 \r\nL 19.671875 35.109375 \r\nL 19.671875 0 \r\nL 9.8125 0 \r\nz\r\n\" id=\"DejaVuSans-75\"/>\r\n      </defs>\r\n      <use xlink:href=\"#DejaVuSans-75\"/>\r\n      <use x=\"65.576172\" xlink:href=\"#DejaVuSans-78\"/>\r\n     </g>\r\n    </g>\r\n    <g id=\"patch_45\">\r\n     <path d=\"M 39.103125 97.189062 \r\nL 59.103125 97.189062 \r\nL 59.103125 90.189062 \r\nL 39.103125 90.189062 \r\nz\r\n\" style=\"fill:#8c564b;\"/>\r\n    </g>\r\n    <g id=\"text_15\">\r\n     <!-- ADA -->\r\n     <g transform=\"translate(67.103125 97.189062)scale(0.1 -0.1)\">\r\n      <defs>\r\n       <path d=\"M 34.1875 63.1875 \r\nL 20.796875 26.90625 \r\nL 47.609375 26.90625 \r\nz\r\nM 28.609375 72.90625 \r\nL 39.796875 72.90625 \r\nL 67.578125 0 \r\nL 57.328125 0 \r\nL 50.6875 18.703125 \r\nL 17.828125 18.703125 \r\nL 11.1875 0 \r\nL 0.78125 0 \r\nz\r\n\" id=\"DejaVuSans-65\"/>\r\n      </defs>\r\n      <use xlink:href=\"#DejaVuSans-65\"/>\r\n      <use x=\"68.408203\" xlink:href=\"#DejaVuSans-68\"/>\r\n      <use x=\"143.660156\" xlink:href=\"#DejaVuSans-65\"/>\r\n     </g>\r\n    </g>\r\n    <g id=\"patch_46\">\r\n     <path d=\"M 39.103125 111.867188 \r\nL 59.103125 111.867188 \r\nL 59.103125 104.867188 \r\nL 39.103125 104.867188 \r\nz\r\n\" style=\"fill:#e377c2;\"/>\r\n    </g>\r\n    <g id=\"text_16\">\r\n     <!-- GBC -->\r\n     <g transform=\"translate(67.103125 111.867188)scale(0.1 -0.1)\">\r\n      <defs>\r\n       <path d=\"M 64.40625 67.28125 \r\nL 64.40625 56.890625 \r\nQ 59.421875 61.53125 53.78125 63.8125 \r\nQ 48.140625 66.109375 41.796875 66.109375 \r\nQ 29.296875 66.109375 22.65625 58.46875 \r\nQ 16.015625 50.828125 16.015625 36.375 \r\nQ 16.015625 21.96875 22.65625 14.328125 \r\nQ 29.296875 6.6875 41.796875 6.6875 \r\nQ 48.140625 6.6875 53.78125 8.984375 \r\nQ 59.421875 11.28125 64.40625 15.921875 \r\nL 64.40625 5.609375 \r\nQ 59.234375 2.09375 53.4375 0.328125 \r\nQ 47.65625 -1.421875 41.21875 -1.421875 \r\nQ 24.65625 -1.421875 15.125 8.703125 \r\nQ 5.609375 18.84375 5.609375 36.375 \r\nQ 5.609375 53.953125 15.125 64.078125 \r\nQ 24.65625 74.21875 41.21875 74.21875 \r\nQ 47.75 74.21875 53.53125 72.484375 \r\nQ 59.328125 70.75 64.40625 67.28125 \r\nz\r\n\" id=\"DejaVuSans-67\"/>\r\n      </defs>\r\n      <use xlink:href=\"#DejaVuSans-71\"/>\r\n      <use x=\"77.490234\" xlink:href=\"#DejaVuSans-66\"/>\r\n      <use x=\"144.34375\" xlink:href=\"#DejaVuSans-67\"/>\r\n     </g>\r\n    </g>\r\n    <g id=\"patch_47\">\r\n     <path d=\"M 39.103125 126.545312 \r\nL 59.103125 126.545312 \r\nL 59.103125 119.545312 \r\nL 39.103125 119.545312 \r\nz\r\n\" style=\"fill:#7f7f7f;\"/>\r\n    </g>\r\n    <g id=\"text_17\">\r\n     <!-- HGB -->\r\n     <g transform=\"translate(67.103125 126.545312)scale(0.1 -0.1)\">\r\n      <defs>\r\n       <path d=\"M 9.8125 72.90625 \r\nL 19.671875 72.90625 \r\nL 19.671875 43.015625 \r\nL 55.515625 43.015625 \r\nL 55.515625 72.90625 \r\nL 65.375 72.90625 \r\nL 65.375 0 \r\nL 55.515625 0 \r\nL 55.515625 34.71875 \r\nL 19.671875 34.71875 \r\nL 19.671875 0 \r\nL 9.8125 0 \r\nz\r\n\" id=\"DejaVuSans-72\"/>\r\n      </defs>\r\n      <use xlink:href=\"#DejaVuSans-72\"/>\r\n      <use x=\"75.195312\" xlink:href=\"#DejaVuSans-71\"/>\r\n      <use x=\"152.685547\" xlink:href=\"#DejaVuSans-66\"/>\r\n     </g>\r\n    </g>\r\n   </g>\r\n  </g>\r\n </g>\r\n <defs>\r\n  <clipPath id=\"pf51a976073\">\r\n   <rect height=\"434.88\" width=\"558\" x=\"30.103125\" y=\"7.2\"/>\r\n  </clipPath>\r\n </defs>\r\n</svg>\r\n",
            "image/png": "[encoded data removed]"
          },
          "metadata": {
            "needs_background": "light"
          }
        }
      ],
      "source": [
        "df=pd.DataFrame({'LR' : LR_res, 'DT': DT_res,'LD':LD_res,'GNB':GNB_res, 'KN': KN_res,'ADA':ADA_res,'GBC':GBC_res,\"HGB\":HGB_res}, index=['0','1',\"2\",\"3\"])\n",
        "df.plot.bar(rot=0,figsize=(10,8));"
      ]
    },
    {
      "cell_type": "code",
      "execution_count": 102,
      "metadata": {},
      "outputs": [],
      "source": [
        " HGB=HistGradientBoostingClassifier(max_iter=1100,verbose=1,max_leaf_nodes=99,n_iter_no_change=50,   early_stopping=False,warm_start=True)"
      ]
    },
    {
      "cell_type": "code",
      "execution_count": null,
      "metadata": {},
      "outputs": [],
      "source": [
        "HGB_res2=[]"
      ]
    },
    {
      "cell_type": "code",
      "execution_count": 116,
      "metadata": {
        "tags": [
          "outputPrepend"
        ]
      },
      "outputs": [
        {
          "output_type": "stream",
          "name": "stdout",
          "text": [
            "eaves (99 on avg), max depth = 21, in 0.455s\n",
            "[4823/5100] 3 trees, 297 leaves (99 on avg), max depth = 22, in 0.315s\n",
            "[4824/5100] 3 trees, 297 leaves (99 on avg), max depth = 23, in 0.521s\n",
            "[4825/5100] 3 trees, 297 leaves (99 on avg), max depth = 22, in 0.327s\n",
            "[4826/5100] 3 trees, 297 leaves (99 on avg), max depth = 22, in 0.588s\n",
            "[4827/5100] 3 trees, 297 leaves (99 on avg), max depth = 23, in 0.336s\n",
            "[4828/5100] 3 trees, 297 leaves (99 on avg), max depth = 21, in 0.544s\n",
            "[4829/5100] 3 trees, 297 leaves (99 on avg), max depth = 21, in 0.316s\n",
            "[4830/5100] 3 trees, 297 leaves (99 on avg), max depth = 19, in 0.377s\n",
            "[4831/5100] 3 trees, 297 leaves (99 on avg), max depth = 25, in 0.520s\n",
            "[4832/5100] 3 trees, 297 leaves (99 on avg), max depth = 20, in 0.390s\n",
            "[4833/5100] 3 trees, 297 leaves (99 on avg), max depth = 25, in 0.507s\n",
            "[4834/5100] 3 trees, 297 leaves (99 on avg), max depth = 24, in 0.376s\n",
            "[4835/5100] 3 trees, 297 leaves (99 on avg), max depth = 21, in 0.569s\n",
            "[4836/5100] 3 trees, 297 leaves (99 on avg), max depth = 21, in 0.410s\n",
            "[4837/5100] 3 trees, 297 leaves (99 on avg), max depth = 22, in 0.639s\n",
            "[4838/5100] 3 trees, 297 leaves (99 on avg), max depth = 21, in 0.379s\n",
            "[4839/5100] 3 trees, 297 leaves (99 on avg), max depth = 17, in 0.566s\n",
            "[4840/5100] 3 trees, 297 leaves (99 on avg), max depth = 22, in 0.402s\n",
            "[4841/5100] 3 trees, 297 leaves (99 on avg), max depth = 21, in 0.546s\n",
            "[4842/5100] 3 trees, 297 leaves (99 on avg), max depth = 24, in 0.406s\n",
            "[4843/5100] 3 trees, 297 leaves (99 on avg), max depth = 22, in 0.512s\n",
            "[4844/5100] 3 trees, 297 leaves (99 on avg), max depth = 22, in 2.325s\n",
            "[4845/5100] 3 trees, 297 leaves (99 on avg), max depth = 22, in 0.208s\n",
            "[4846/5100] 3 trees, 297 leaves (99 on avg), max depth = 25, in 0.188s\n",
            "[4847/5100] 3 trees, 297 leaves (99 on avg), max depth = 19, in 0.179s\n",
            "[4848/5100] 3 trees, 297 leaves (99 on avg), max depth = 20, in 0.199s\n",
            "[4849/5100] 3 trees, 297 leaves (99 on avg), max depth = 19, in 0.192s\n",
            "[4850/5100] 3 trees, 297 leaves (99 on avg), max depth = 20, in 0.228s\n",
            "[4851/5100] 3 trees, 297 leaves (99 on avg), max depth = 18, in 0.188s\n",
            "[4852/5100] 3 trees, 297 leaves (99 on avg), max depth = 17, in 0.249s\n",
            "[4853/5100] 3 trees, 297 leaves (99 on avg), max depth = 23, in 0.183s\n",
            "[4854/5100] 3 trees, 297 leaves (99 on avg), max depth = 21, in 0.270s\n",
            "[4855/5100] 3 trees, 297 leaves (99 on avg), max depth = 21, in 0.183s\n",
            "[4856/5100] 3 trees, 297 leaves (99 on avg), max depth = 22, in 0.231s\n",
            "[4857/5100] 3 trees, 297 leaves (99 on avg), max depth = 27, in 0.175s\n",
            "[4858/5100] 3 trees, 297 leaves (99 on avg), max depth = 16, in 0.252s\n",
            "[4859/5100] 3 trees, 297 leaves (99 on avg), max depth = 19, in 0.193s\n",
            "[4860/5100] 3 trees, 297 leaves (99 on avg), max depth = 24, in 0.271s\n",
            "[4861/5100] 3 trees, 297 leaves (99 on avg), max depth = 22, in 0.187s\n",
            "[4862/5100] 3 trees, 297 leaves (99 on avg), max depth = 20, in 0.268s\n",
            "[4863/5100] 3 trees, 297 leaves (99 on avg), max depth = 24, in 0.200s\n",
            "[4864/5100] 3 trees, 297 leaves (99 on avg), max depth = 23, in 0.289s\n",
            "[4865/5100] 3 trees, 297 leaves (99 on avg), max depth = 25, in 0.189s\n",
            "[4866/5100] 3 trees, 297 leaves (99 on avg), max depth = 20, in 0.244s\n",
            "[4867/5100] 3 trees, 297 leaves (99 on avg), max depth = 22, in 0.283s\n",
            "[4868/5100] 3 trees, 297 leaves (99 on avg), max depth = 23, in 0.226s\n",
            "[4869/5100] 3 trees, 297 leaves (99 on avg), max depth = 28, in 0.258s\n",
            "[4870/5100] 3 trees, 297 leaves (99 on avg), max depth = 22, in 0.231s\n",
            "[4871/5100] 3 trees, 297 leaves (99 on avg), max depth = 22, in 0.321s\n",
            "[4872/5100] 3 trees, 297 leaves (99 on avg), max depth = 19, in 0.223s\n",
            "[4873/5100] 3 trees, 297 leaves (99 on avg), max depth = 22, in 0.301s\n",
            "[4874/5100] 3 trees, 297 leaves (99 on avg), max depth = 19, in 0.230s\n",
            "[4875/5100] 3 trees, 297 leaves (99 on avg), max depth = 19, in 0.342s\n",
            "[4876/5100] 3 trees, 297 leaves (99 on avg), max depth = 22, in 0.241s\n",
            "[4877/5100] 3 trees, 297 leaves (99 on avg), max depth = 23, in 0.335s\n",
            "[4878/5100] 3 trees, 297 leaves (99 on avg), max depth = 17, in 0.238s\n",
            "[4879/5100] 3 trees, 297 leaves (99 on avg), max depth = 20, in 0.340s\n",
            "[4880/5100] 3 trees, 297 leaves (99 on avg), max depth = 25, in 0.235s\n",
            "[4881/5100] 3 trees, 297 leaves (99 on avg), max depth = 21, in 0.256s\n",
            "[4882/5100] 3 trees, 297 leaves (99 on avg), max depth = 21, in 0.318s\n",
            "[4883/5100] 3 trees, 297 leaves (99 on avg), max depth = 23, in 0.267s\n",
            "[4884/5100] 3 trees, 297 leaves (99 on avg), max depth = 25, in 0.308s\n",
            "[4885/5100] 3 trees, 297 leaves (99 on avg), max depth = 22, in 0.249s\n",
            "[4886/5100] 3 trees, 297 leaves (99 on avg), max depth = 21, in 0.328s\n",
            "[4887/5100] 3 trees, 297 leaves (99 on avg), max depth = 21, in 0.245s\n",
            "[4888/5100] 3 trees, 297 leaves (99 on avg), max depth = 23, in 0.351s\n",
            "[4889/5100] 3 trees, 297 leaves (99 on avg), max depth = 21, in 0.262s\n",
            "[4890/5100] 3 trees, 297 leaves (99 on avg), max depth = 22, in 0.312s\n",
            "[4891/5100] 3 trees, 297 leaves (99 on avg), max depth = 23, in 0.243s\n",
            "[4892/5100] 3 trees, 297 leaves (99 on avg), max depth = 26, in 0.364s\n",
            "[4893/5100] 3 trees, 297 leaves (99 on avg), max depth = 18, in 0.259s\n",
            "[4894/5100] 3 trees, 297 leaves (99 on avg), max depth = 22, in 0.327s\n",
            "[4895/5100] 3 trees, 297 leaves (99 on avg), max depth = 19, in 0.262s\n",
            "[4896/5100] 3 trees, 297 leaves (99 on avg), max depth = 15, in 0.410s\n",
            "[4897/5100] 3 trees, 297 leaves (99 on avg), max depth = 19, in 0.280s\n",
            "[4898/5100] 3 trees, 297 leaves (99 on avg), max depth = 20, in 0.297s\n",
            "[4899/5100] 3 trees, 297 leaves (99 on avg), max depth = 22, in 0.370s\n",
            "[4900/5100] 3 trees, 297 leaves (99 on avg), max depth = 22, in 0.254s\n",
            "[4901/5100] 3 trees, 297 leaves (99 on avg), max depth = 20, in 0.352s\n",
            "[4902/5100] 3 trees, 297 leaves (99 on avg), max depth = 22, in 0.273s\n",
            "[4903/5100] 3 trees, 297 leaves (99 on avg), max depth = 20, in 0.367s\n",
            "[4904/5100] 3 trees, 297 leaves (99 on avg), max depth = 17, in 0.281s\n",
            "[4905/5100] 3 trees, 297 leaves (99 on avg), max depth = 20, in 0.438s\n",
            "[4906/5100] 3 trees, 297 leaves (99 on avg), max depth = 21, in 0.262s\n",
            "[4907/5100] 3 trees, 297 leaves (99 on avg), max depth = 25, in 0.379s\n",
            "[4908/5100] 3 trees, 297 leaves (99 on avg), max depth = 21, in 0.279s\n",
            "[4909/5100] 3 trees, 297 leaves (99 on avg), max depth = 23, in 0.448s\n",
            "[4910/5100] 3 trees, 297 leaves (99 on avg), max depth = 18, in 0.288s\n",
            "[4911/5100] 3 trees, 297 leaves (99 on avg), max depth = 21, in 0.437s\n",
            "[4912/5100] 3 trees, 297 leaves (99 on avg), max depth = 17, in 0.284s\n",
            "[4913/5100] 3 trees, 297 leaves (99 on avg), max depth = 28, in 0.501s\n",
            "[4914/5100] 3 trees, 297 leaves (99 on avg), max depth = 18, in 0.349s\n",
            "[4915/5100] 3 trees, 297 leaves (99 on avg), max depth = 18, in 0.357s\n",
            "[4916/5100] 3 trees, 297 leaves (99 on avg), max depth = 21, in 0.503s\n",
            "[4917/5100] 3 trees, 297 leaves (99 on avg), max depth = 22, in 0.327s\n",
            "[4918/5100] 3 trees, 297 leaves (99 on avg), max depth = 19, in 0.459s\n",
            "[4919/5100] 3 trees, 297 leaves (99 on avg), max depth = 22, in 0.372s\n",
            "[4920/5100] 3 trees, 297 leaves (99 on avg), max depth = 24, in 0.508s\n",
            "[4921/5100] 3 trees, 297 leaves (99 on avg), max depth = 23, in 0.383s\n",
            "[4922/5100] 3 trees, 297 leaves (99 on avg), max depth = 21, in 0.566s\n",
            "[4923/5100] 3 trees, 297 leaves (99 on avg), max depth = 20, in 0.360s\n",
            "[4924/5100] 3 trees, 297 leaves (99 on avg), max depth = 23, in 0.543s\n",
            "[4925/5100] 3 trees, 297 leaves (99 on avg), max depth = 26, in 0.369s\n",
            "[4926/5100] 3 trees, 297 leaves (99 on avg), max depth = 21, in 0.651s\n",
            "[4927/5100] 3 trees, 297 leaves (99 on avg), max depth = 19, in 0.386s\n",
            "[4928/5100] 3 trees, 297 leaves (99 on avg), max depth = 16, in 0.550s\n",
            "[4929/5100] 3 trees, 297 leaves (99 on avg), max depth = 22, in 0.379s\n",
            "[4930/5100] 3 trees, 297 leaves (99 on avg), max depth = 23, in 0.448s\n",
            "[4931/5100] 3 trees, 297 leaves (99 on avg), max depth = 24, in 0.635s\n",
            "[4932/5100] 3 trees, 297 leaves (99 on avg), max depth = 18, in 0.421s\n",
            "[4933/5100] 3 trees, 297 leaves (99 on avg), max depth = 18, in 0.633s\n",
            "[4934/5100] 3 trees, 297 leaves (99 on avg), max depth = 22, in 0.475s\n",
            "[4935/5100] 3 trees, 297 leaves (99 on avg), max depth = 22, in 2.555s\n",
            "[4936/5100] 3 trees, 297 leaves (99 on avg), max depth = 22, in 0.271s\n",
            "[4937/5100] 3 trees, 297 leaves (99 on avg), max depth = 20, in 0.228s\n",
            "[4938/5100] 3 trees, 297 leaves (99 on avg), max depth = 23, in 0.201s\n",
            "[4939/5100] 3 trees, 297 leaves (99 on avg), max depth = 22, in 0.221s\n",
            "[4940/5100] 3 trees, 297 leaves (99 on avg), max depth = 19, in 0.165s\n",
            "[4941/5100] 3 trees, 297 leaves (99 on avg), max depth = 18, in 0.216s\n",
            "[4942/5100] 3 trees, 297 leaves (99 on avg), max depth = 15, in 0.177s\n",
            "[4943/5100] 3 trees, 297 leaves (99 on avg), max depth = 20, in 0.217s\n",
            "[4944/5100] 3 trees, 297 leaves (99 on avg), max depth = 18, in 0.173s\n",
            "[4945/5100] 3 trees, 297 leaves (99 on avg), max depth = 20, in 0.224s\n",
            "[4946/5100] 3 trees, 297 leaves (99 on avg), max depth = 22, in 0.193s\n",
            "[4947/5100] 3 trees, 297 leaves (99 on avg), max depth = 29, in 0.216s\n",
            "[4948/5100] 3 trees, 297 leaves (99 on avg), max depth = 24, in 0.245s\n",
            "[4949/5100] 3 trees, 297 leaves (99 on avg), max depth = 22, in 0.194s\n",
            "[4950/5100] 3 trees, 297 leaves (99 on avg), max depth = 19, in 0.217s\n",
            "[4951/5100] 3 trees, 297 leaves (99 on avg), max depth = 23, in 0.206s\n",
            "[4952/5100] 3 trees, 297 leaves (99 on avg), max depth = 19, in 0.230s\n",
            "[4953/5100] 3 trees, 297 leaves (99 on avg), max depth = 23, in 0.193s\n",
            "[4954/5100] 3 trees, 297 leaves (99 on avg), max depth = 19, in 0.279s\n",
            "[4955/5100] 3 trees, 297 leaves (99 on avg), max depth = 21, in 0.183s\n",
            "[4956/5100] 3 trees, 297 leaves (99 on avg), max depth = 21, in 0.256s\n",
            "[4957/5100] 3 trees, 297 leaves (99 on avg), max depth = 20, in 0.216s\n",
            "[4958/5100] 3 trees, 297 leaves (99 on avg), max depth = 22, in 0.293s\n",
            "[4959/5100] 3 trees, 297 leaves (99 on avg), max depth = 20, in 0.195s\n",
            "[4960/5100] 3 trees, 297 leaves (99 on avg), max depth = 20, in 0.298s\n",
            "[4961/5100] 3 trees, 297 leaves (99 on avg), max depth = 22, in 0.210s\n",
            "[4962/5100] 3 trees, 297 leaves (99 on avg), max depth = 23, in 0.336s\n",
            "[4963/5100] 3 trees, 297 leaves (99 on avg), max depth = 18, in 0.223s\n",
            "[4964/5100] 3 trees, 297 leaves (99 on avg), max depth = 19, in 0.280s\n",
            "[4965/5100] 3 trees, 297 leaves (99 on avg), max depth = 22, in 0.317s\n",
            "[4966/5100] 3 trees, 297 leaves (99 on avg), max depth = 20, in 0.252s\n",
            "[4967/5100] 3 trees, 297 leaves (99 on avg), max depth = 22, in 0.289s\n",
            "[4968/5100] 3 trees, 297 leaves (99 on avg), max depth = 20, in 0.266s\n",
            "[4969/5100] 3 trees, 297 leaves (99 on avg), max depth = 21, in 0.317s\n",
            "[4970/5100] 3 trees, 297 leaves (99 on avg), max depth = 20, in 0.251s\n",
            "[4971/5100] 3 trees, 297 leaves (99 on avg), max depth = 21, in 0.302s\n",
            "[4972/5100] 3 trees, 297 leaves (99 on avg), max depth = 23, in 0.266s\n",
            "[4973/5100] 3 trees, 297 leaves (99 on avg), max depth = 20, in 0.344s\n",
            "[4974/5100] 3 trees, 297 leaves (99 on avg), max depth = 17, in 0.250s\n",
            "[4975/5100] 3 trees, 297 leaves (99 on avg), max depth = 23, in 0.358s\n",
            "[4976/5100] 3 trees, 297 leaves (99 on avg), max depth = 19, in 0.270s\n",
            "[4977/5100] 3 trees, 297 leaves (99 on avg), max depth = 20, in 0.318s\n",
            "[4978/5100] 3 trees, 297 leaves (99 on avg), max depth = 22, in 0.255s\n",
            "[4979/5100] 3 trees, 297 leaves (99 on avg), max depth = 22, in 0.361s\n",
            "[4980/5100] 3 trees, 297 leaves (99 on avg), max depth = 21, in 0.260s\n",
            "[4981/5100] 3 trees, 297 leaves (99 on avg), max depth = 20, in 0.271s\n",
            "[4982/5100] 3 trees, 297 leaves (99 on avg), max depth = 23, in 0.337s\n",
            "[4983/5100] 3 trees, 297 leaves (99 on avg), max depth = 20, in 0.261s\n",
            "[4984/5100] 3 trees, 297 leaves (99 on avg), max depth = 20, in 0.332s\n",
            "[4985/5100] 3 trees, 297 leaves (99 on avg), max depth = 20, in 0.270s\n",
            "[4986/5100] 3 trees, 297 leaves (99 on avg), max depth = 19, in 0.356s\n",
            "[4987/5100] 3 trees, 297 leaves (99 on avg), max depth = 21, in 0.248s\n",
            "[4988/5100] 3 trees, 297 leaves (99 on avg), max depth = 24, in 0.418s\n",
            "[4989/5100] 3 trees, 297 leaves (99 on avg), max depth = 22, in 0.257s\n",
            "[4990/5100] 3 trees, 297 leaves (99 on avg), max depth = 22, in 0.368s\n",
            "[4991/5100] 3 trees, 297 leaves (99 on avg), max depth = 19, in 0.309s\n",
            "[4992/5100] 3 trees, 297 leaves (99 on avg), max depth = 24, in 0.405s\n",
            "[4993/5100] 3 trees, 297 leaves (99 on avg), max depth = 19, in 0.252s\n",
            "[4994/5100] 3 trees, 297 leaves (99 on avg), max depth = 19, in 0.403s\n",
            "[4995/5100] 3 trees, 297 leaves (99 on avg), max depth = 20, in 0.263s\n",
            "[4996/5100] 3 trees, 297 leaves (99 on avg), max depth = 20, in 0.423s\n",
            "[4997/5100] 3 trees, 297 leaves (99 on avg), max depth = 23, in 0.281s\n",
            "[4998/5100] 3 trees, 297 leaves (99 on avg), max depth = 25, in 0.334s\n",
            "[4999/5100] 3 trees, 297 leaves (99 on avg), max depth = 20, in 0.431s\n",
            "[5000/5100] 3 trees, 297 leaves (99 on avg), max depth = 25, in 0.362s\n",
            "[5001/5100] 3 trees, 297 leaves (99 on avg), max depth = 19, in 0.401s\n",
            "[5002/5100] 3 trees, 297 leaves (99 on avg), max depth = 20, in 0.308s\n",
            "[5003/5100] 3 trees, 297 leaves (99 on avg), max depth = 24, in 0.421s\n",
            "[5004/5100] 3 trees, 297 leaves (99 on avg), max depth = 17, in 0.307s\n",
            "[5005/5100] 3 trees, 297 leaves (99 on avg), max depth = 25, in 0.485s\n",
            "[5006/5100] 3 trees, 297 leaves (99 on avg), max depth = 26, in 0.308s\n",
            "[5007/5100] 3 trees, 297 leaves (99 on avg), max depth = 20, in 0.418s\n",
            "[5008/5100] 3 trees, 297 leaves (99 on avg), max depth = 17, in 0.329s\n",
            "[5009/5100] 3 trees, 297 leaves (99 on avg), max depth = 27, in 0.515s\n",
            "[5010/5100] 3 trees, 297 leaves (99 on avg), max depth = 24, in 0.326s\n",
            "[5011/5100] 3 trees, 297 leaves (99 on avg), max depth = 25, in 0.527s\n",
            "[5012/5100] 3 trees, 297 leaves (99 on avg), max depth = 22, in 0.346s\n",
            "[5013/5100] 3 trees, 297 leaves (99 on avg), max depth = 22, in 0.444s\n",
            "[5014/5100] 3 trees, 297 leaves (99 on avg), max depth = 27, in 0.742s\n",
            "[5015/5100] 3 trees, 297 leaves (99 on avg), max depth = 19, in 0.401s\n",
            "[5016/5100] 3 trees, 297 leaves (99 on avg), max depth = 22, in 0.501s\n",
            "[5017/5100] 3 trees, 297 leaves (99 on avg), max depth = 24, in 0.377s\n",
            "[5018/5100] 3 trees, 297 leaves (99 on avg), max depth = 34, in 0.521s\n",
            "[5019/5100] 3 trees, 297 leaves (99 on avg), max depth = 17, in 0.406s\n",
            "[5020/5100] 3 trees, 297 leaves (99 on avg), max depth = 22, in 0.752s\n",
            "[5021/5100] 3 trees, 297 leaves (99 on avg), max depth = 17, in 0.448s\n",
            "[5022/5100] 3 trees, 297 leaves (99 on avg), max depth = 20, in 0.686s\n",
            "[5023/5100] 3 trees, 297 leaves (99 on avg), max depth = 18, in 0.436s\n",
            "[5024/5100] 3 trees, 297 leaves (99 on avg), max depth = 26, in 0.748s\n",
            "[5025/5100] 3 trees, 297 leaves (99 on avg), max depth = 21, in 0.462s\n",
            "[5026/5100] 3 trees, 297 leaves (99 on avg), max depth = 17, in 2.995s\n",
            "[5027/5100] 3 trees, 297 leaves (99 on avg), max depth = 22, in 0.254s\n",
            "[5028/5100] 3 trees, 297 leaves (99 on avg), max depth = 17, in 0.271s\n",
            "[5029/5100] 3 trees, 297 leaves (99 on avg), max depth = 20, in 0.170s\n",
            "[5030/5100] 3 trees, 297 leaves (99 on avg), max depth = 24, in 0.174s\n",
            "[5031/5100] 3 trees, 297 leaves (99 on avg), max depth = 19, in 0.219s\n",
            "[5032/5100] 3 trees, 297 leaves (99 on avg), max depth = 15, in 0.178s\n",
            "[5033/5100] 3 trees, 297 leaves (99 on avg), max depth = 18, in 0.220s\n",
            "[5034/5100] 3 trees, 297 leaves (99 on avg), max depth = 21, in 0.194s\n",
            "[5035/5100] 3 trees, 297 leaves (99 on avg), max depth = 21, in 0.224s\n",
            "[5036/5100] 3 trees, 297 leaves (99 on avg), max depth = 21, in 0.183s\n",
            "[5037/5100] 3 trees, 297 leaves (99 on avg), max depth = 18, in 0.242s\n",
            "[5038/5100] 3 trees, 297 leaves (99 on avg), max depth = 22, in 0.174s\n",
            "[5039/5100] 3 trees, 297 leaves (99 on avg), max depth = 25, in 0.221s\n",
            "[5040/5100] 3 trees, 297 leaves (99 on avg), max depth = 29, in 0.188s\n",
            "[5041/5100] 3 trees, 297 leaves (99 on avg), max depth = 17, in 0.250s\n",
            "[5042/5100] 3 trees, 297 leaves (99 on avg), max depth = 21, in 0.171s\n",
            "[5043/5100] 3 trees, 297 leaves (99 on avg), max depth = 21, in 0.265s\n",
            "[5044/5100] 3 trees, 297 leaves (99 on avg), max depth = 24, in 0.173s\n",
            "[5045/5100] 3 trees, 297 leaves (99 on avg), max depth = 23, in 0.202s\n",
            "[5046/5100] 3 trees, 297 leaves (99 on avg), max depth = 19, in 0.239s\n",
            "[5047/5100] 3 trees, 297 leaves (99 on avg), max depth = 20, in 0.215s\n",
            "[5048/5100] 3 trees, 297 leaves (99 on avg), max depth = 19, in 0.248s\n",
            "[5049/5100] 3 trees, 297 leaves (99 on avg), max depth = 19, in 0.209s\n",
            "[5050/5100] 3 trees, 297 leaves (99 on avg), max depth = 20, in 0.284s\n",
            "[5051/5100] 3 trees, 297 leaves (99 on avg), max depth = 22, in 0.210s\n",
            "[5052/5100] 3 trees, 297 leaves (99 on avg), max depth = 22, in 0.311s\n",
            "[5053/5100] 3 trees, 297 leaves (99 on avg), max depth = 26, in 0.201s\n",
            "[5054/5100] 3 trees, 297 leaves (99 on avg), max depth = 23, in 0.282s\n",
            "[5055/5100] 3 trees, 297 leaves (99 on avg), max depth = 26, in 0.205s\n",
            "[5056/5100] 3 trees, 297 leaves (99 on avg), max depth = 19, in 0.350s\n",
            "[5057/5100] 3 trees, 297 leaves (99 on avg), max depth = 19, in 0.203s\n",
            "[5058/5100] 3 trees, 297 leaves (99 on avg), max depth = 23, in 0.340s\n",
            "[5059/5100] 3 trees, 297 leaves (99 on avg), max depth = 23, in 0.214s\n",
            "[5060/5100] 3 trees, 297 leaves (99 on avg), max depth = 21, in 0.283s\n",
            "[5061/5100] 3 trees, 297 leaves (99 on avg), max depth = 26, in 0.317s\n",
            "[5062/5100] 3 trees, 297 leaves (99 on avg), max depth = 19, in 0.259s\n",
            "[5063/5100] 3 trees, 297 leaves (99 on avg), max depth = 23, in 0.345s\n",
            "[5064/5100] 3 trees, 297 leaves (99 on avg), max depth = 21, in 0.276s\n",
            "[5065/5100] 3 trees, 297 leaves (99 on avg), max depth = 18, in 0.329s\n",
            "[5066/5100] 3 trees, 297 leaves (99 on avg), max depth = 21, in 0.272s\n",
            "[5067/5100] 3 trees, 297 leaves (99 on avg), max depth = 20, in 0.336s\n",
            "[5068/5100] 3 trees, 297 leaves (99 on avg), max depth = 18, in 0.241s\n",
            "[5069/5100] 3 trees, 297 leaves (99 on avg), max depth = 23, in 0.326s\n",
            "[5070/5100] 3 trees, 297 leaves (99 on avg), max depth = 22, in 0.252s\n",
            "[5071/5100] 3 trees, 297 leaves (99 on avg), max depth = 21, in 0.340s\n",
            "[5072/5100] 3 trees, 297 leaves (99 on avg), max depth = 18, in 0.264s\n",
            "[5073/5100] 3 trees, 297 leaves (99 on avg), max depth = 20, in 0.394s\n",
            "[5074/5100] 3 trees, 297 leaves (99 on avg), max depth = 19, in 0.252s\n",
            "[5075/5100] 3 trees, 297 leaves (99 on avg), max depth = 20, in 0.321s\n",
            "[5076/5100] 3 trees, 297 leaves (99 on avg), max depth = 21, in 0.272s\n",
            "[5077/5100] 3 trees, 297 leaves (99 on avg), max depth = 22, in 0.274s\n",
            "[5078/5100] 3 trees, 297 leaves (99 on avg), max depth = 26, in 0.384s\n",
            "[5079/5100] 3 trees, 297 leaves (99 on avg), max depth = 23, in 0.253s\n",
            "[5080/5100] 3 trees, 297 leaves (99 on avg), max depth = 27, in 0.344s\n",
            "[5081/5100] 3 trees, 297 leaves (99 on avg), max depth = 22, in 0.278s\n",
            "[5082/5100] 3 trees, 297 leaves (99 on avg), max depth = 20, in 0.394s\n",
            "[5083/5100] 3 trees, 297 leaves (99 on avg), max depth = 21, in 0.267s\n",
            "[5084/5100] 3 trees, 297 leaves (99 on avg), max depth = 19, in 0.450s\n",
            "[5085/5100] 3 trees, 297 leaves (99 on avg), max depth = 23, in 0.276s\n",
            "[5086/5100] 3 trees, 297 leaves (99 on avg), max depth = 19, in 0.378s\n",
            "[5087/5100] 3 trees, 297 leaves (99 on avg), max depth = 21, in 0.264s\n",
            "[5088/5100] 3 trees, 297 leaves (99 on avg), max depth = 20, in 0.450s\n",
            "[5089/5100] 3 trees, 297 leaves (99 on avg), max depth = 23, in 0.257s\n",
            "[5090/5100] 3 trees, 297 leaves (99 on avg), max depth = 32, in 0.442s\n",
            "[5091/5100] 3 trees, 297 leaves (99 on avg), max depth = 21, in 0.318s\n",
            "[5092/5100] 3 trees, 297 leaves (99 on avg), max depth = 22, in 0.558s\n",
            "[5093/5100] 3 trees, 297 leaves (99 on avg), max depth = 20, in 0.272s\n",
            "[5094/5100] 3 trees, 297 leaves (99 on avg), max depth = 24, in 0.297s\n",
            "[5095/5100] 3 trees, 297 leaves (99 on avg), max depth = 22, in 0.660s\n",
            "[5096/5100] 3 trees, 297 leaves (99 on avg), max depth = 22, in 0.364s\n",
            "[5097/5100] 3 trees, 297 leaves (99 on avg), max depth = 20, in 0.467s\n",
            "[5098/5100] 3 trees, 297 leaves (99 on avg), max depth = 18, in 0.336s\n",
            "[5099/5100] 3 trees, 297 leaves (99 on avg), max depth = 20, in 0.536s\n",
            "[5100/5100] 3 trees, 297 leaves (99 on avg), max depth = 21, in 0.349s\n",
            "Fit 15300 trees in 358.143 s, (1514700 total leaves)\n",
            "Time spent computing histograms: 191.573s\n",
            "Time spent finding best splits:  19.730s\n",
            "Time spent applying splits:      66.029s\n",
            "Time spent predicting:           1.456s\n"
          ]
        }
      ],
      "source": [
        "from sklearn.metrics import confusion_matrix\n",
        "from sklearn.experimental import enable_hist_gradient_boosting\n",
        "from sklearn.ensemble import HistGradientBoostingClassifier\n",
        "HGB.set_params(max_iter=5100)\n",
        "for i in [0]:\n",
        "    HGB.fit(X_train_train,y_train_train[:,i])\n",
        "    HGB_score=HGB.score(X_train_test,y_train_test[:,i] )    \n",
        "    HGB_res2.append(HGB_score)\n"
      ]
    },
    {
      "cell_type": "code",
      "execution_count": 117,
      "metadata": {},
      "outputs": [
        {
          "output_type": "execute_result",
          "data": {
            "text/plain": [
              "[0.744150364403529,\n",
              " 0.744150364403529,\n",
              " 0.7433831990794016,\n",
              " 0.7403145377828922,\n",
              " 0.7391637897967012,\n",
              " 0.7353279631760644]"
            ]
          },
          "metadata": {},
          "execution_count": 117
        }
      ],
      "source": [
        "HGB_res2"
      ]
    },
    {
      "cell_type": "code",
      "execution_count": 118,
      "metadata": {},
      "outputs": [
        {
          "output_type": "stream",
          "name": "stdout",
          "text": [
            "[[ 126  123    7]\n [  61 1225  209]\n [   5  285  566]]\n"
          ]
        }
      ],
      "source": [
        "pred = HGB.predict(X_train_test)\n",
        "print(confusion_matrix(y_train_test[:,0], pred))"
      ]
    },
    {
      "cell_type": "code",
      "execution_count": null,
      "metadata": {},
      "outputs": [],
      "source": []
    },
    {
      "cell_type": "code",
      "execution_count": 146,
      "metadata": {},
      "outputs": [],
      "source": [
        "# ITT kezdődik az okítási ciklus IDe jön vissza"
      ]
    },
    {
      "cell_type": "code",
      "execution_count": 34,
      "metadata": {},
      "outputs": [],
      "source": [
        "def reconvert (X):\n",
        "    yo=[]\n",
        "    o=1\n",
        "    y1=X\n",
        "    for idx,_ in enumerate(y1):\n",
        "       if y1[idx][0]==max(y1[idx][0],y1[idx][1],y1[idx][2]):\n",
        "           o=1\n",
        "       if y1[idx][1]==max(y1[idx][0],y1[idx][1],y1[idx][2]):\n",
        "           o=2\n",
        "       if y1[idx][2]==max(y1[idx][0],y1[idx][1],y1[idx][2]):\n",
        "           o=3\n",
        "       '''\n",
        "       ox=o\n",
        "       if ox==3 and yerror[idx]:\n",
        "           o=2\n",
        "       if ox==1 and yerror[idx]:\n",
        "           o=2\n",
        "       if ox==2 and yerror[idx]:\n",
        "           # 2 eset van \n",
        "           if y3[idx]>y1[idx]:\n",
        "               o=3\n",
        "           else:\n",
        "               o=1\n",
        "\n",
        "       '''\n",
        "       \n",
        "       yo.append(o)\n",
        "    return(yo)\n",
        "    "
      ]
    },
    {
      "cell_type": "code",
      "execution_count": 149,
      "metadata": {
        "tags": []
      },
      "outputs": [
        {
          "output_type": "stream",
          "name": "stdout",
          "text": [
            "[2. 0. 1. 0.] : 0.009 _  0.225 _  0.620 _ False_ 0.000\n",
            "[1. 1. 0. 0.] : 0.593 _  0.363 _  0.126 _ True_ 0.000\n",
            "[2. 0. 1. 0.] : 0.476 _  0.494 _  0.048 _ True_ 0.000\n",
            "[2. 0. 1. 0.] :-0.003 _  0.432 _  0.602 _ False_ 0.000\n",
            "[2. 0. 1. 0.] : 0.177 _  0.727 _  0.109 _ True_ 0.000\n",
            "[3. 0. 0. 1.] :-0.007 _  0.429 _  0.575 _ True_ 0.000\n",
            "[2. 0. 1. 0.] : 0.140 _  0.759 _  0.128 _ True_ 0.000\n",
            "[2. 0. 1. 0.] : 0.154 _  0.659 _  0.166 _ True_ 0.000\n",
            "[3. 0. 0. 1.] :-0.005 _  0.120 _  0.877 _ True_ 0.000\n",
            "[1. 1. 0. 0.] : 0.147 _  0.615 _  0.228 _ False_ 0.000\n",
            "[2. 0. 1. 0.] :-0.010 _  0.148 _  0.862 _ False_ 0.000\n",
            "[1. 1. 0. 0.] : 0.670 _  0.397 _ -0.040 _ True_ 0.000\n",
            "[2. 0. 1. 0.] : 0.004 _  0.193 _  0.829 _ False_ 0.000\n",
            "[3. 0. 0. 1.] : 0.002 _  0.458 _  0.531 _ True_ 0.000\n",
            "[3. 0. 0. 1.] :-0.009 _  0.104 _  0.893 _ True_ 0.000\n",
            "[3. 0. 0. 1.] : 0.004 _  0.452 _  0.556 _ True_ 0.000\n",
            "[1. 1. 0. 0.] : 0.320 _  0.561 _  0.132 _ False_ 0.000\n",
            "[2. 0. 1. 0.] : 0.013 _  0.816 _  0.161 _ True_ 0.000\n",
            "[3. 0. 0. 1.] :-0.009 _  0.659 _  0.395 _ False_ 1.000\n",
            "[3. 0. 0. 1.] :-0.004 _  0.502 _  0.550 _ True_ 0.000\n",
            "[3. 0. 0. 1.] : 0.050 _  0.338 _  0.449 _ True_ 0.000\n",
            "[2. 0. 1. 0.] : 0.325 _  0.395 _  0.441 _ False_ 0.000\n",
            "[2. 0. 1. 0.] : 0.344 _  0.585 _  0.076 _ True_ 0.000\n",
            "[2. 0. 1. 0.] : 0.016 _  0.728 _  0.260 _ True_ 0.000\n",
            "[2. 0. 1. 0.] : 0.011 _  0.818 _  0.241 _ True_ 0.000\n",
            "[2. 0. 1. 0.] : 0.007 _  0.752 _  0.255 _ True_ 0.000\n",
            "257994 177400 0.6876128902222532\n"
          ]
        }
      ],
      "source": [
        "\n",
        "yhibaold=[]\n",
        "maxlen=len(y_train_train)\n",
        "#maxlen=1000\n",
        "stimm=0\n",
        "for idx,_ in enumerate(y1):\n",
        "    if idx in range(0,maxlen):\n",
        "        ou1=y1[idx]\n",
        "        ou2=y2[idx]\n",
        "        ou3=y3[idx]\n",
        "        ouh=yhiba_pred[idx]\n",
        "        match=(y_train_train[idx][0]==1 and ou1==max(ou1,ou2,ou3)) or (y_train_train[idx][0]==2 and ou2==max(ou1,ou2,ou3)) or (y_train_train[idx][0]==3 and ou3==max(ou1,ou2,ou3)) \n",
        "        if match:\n",
        "            yhibaold.append(0)\n",
        "            stimm+=1\n",
        "        else:\n",
        "            yhibaold.append(1)\n",
        "        if idx%10000==1:\n",
        "            print(f\"{y_train_train[idx]} :{ou1:6.3f} _ {ou2:6.3f} _ {ou3:6.3f} _ {match}_{ouh:6.3f}\")\n",
        "\n",
        "print(maxlen,stimm,stimm/maxlen) \n",
        "#print(yhiba)\n",
        "\n"
      ]
    },
    {
      "cell_type": "code",
      "execution_count": 154,
      "metadata": {},
      "outputs": [],
      "source": [
        "def show_similarity(a,b):\n",
        "    for i in range(min(len(a),1000)):\n",
        "        print(f\"{a[i]}-{b[i]} \",end=\"\")"
      ]
    },
    {
      "cell_type": "code",
      "execution_count": 155,
      "metadata": {},
      "outputs": [],
      "source": [
        "def search_outliers(y_t1,y_pred,X_orig,yrealpred):\n",
        "    y1=[] # y orig \n",
        "    x1=[] # X orig\n",
        "    yp=[] # y predikt\n",
        "    yrp=[] # y predicted real value\n",
        "    for inx,i in enumerate(y_t1):\n",
        "        if y_t1[inx][0]==y_pred[inx]:\n",
        "            pass\n",
        "        else:\n",
        "            y1.append(y_t1[inx][0])\n",
        "            x1.append(X_orig[inx])\n",
        "            yp.append(y_pred[inx])\n",
        "            yrp.append(yrealpred[inx])\n",
        "    out=(y1,yp,x1,yrp)\n",
        "    return out\n",
        "\n",
        "\n",
        "\n",
        "\n"
      ]
    },
    {
      "cell_type": "code",
      "execution_count": 156,
      "metadata": {},
      "outputs": [],
      "source": [
        "# futtass ez felett !!"
      ]
    },
    {
      "cell_type": "code",
      "execution_count": 37,
      "metadata": {},
      "outputs": [
        {
          "output_type": "stream",
          "name": "stdout",
          "text": [
            "hiba:698 max:2607 -- error: 26.7741 good %: 73.2259 %\n"
          ]
        },
        {
          "output_type": "execute_result",
          "data": {
            "text/plain": [
              "0.7322593018795551"
            ]
          },
          "metadata": {},
          "execution_count": 37
        }
      ],
      "source": [
        "ypred2=ann2(X_train_test)\n",
        "io=reconvert(ypred2)\n",
        "check_similarity_np(io,y_train_test[:,0])"
      ]
    },
    {
      "cell_type": "code",
      "execution_count": 38,
      "metadata": {},
      "outputs": [
        {
          "output_type": "stream",
          "name": "stdout",
          "text": [
            "hiba:67590 max:257994 -- error: 26.1983 good %: 73.8017 %\n"
          ]
        },
        {
          "output_type": "execute_result",
          "data": {
            "text/plain": [
              "0.7380171631898416"
            ]
          },
          "metadata": {},
          "execution_count": 38
        }
      ],
      "source": [
        "ypred1=ann2.predict(X_train_train)\n",
        "io=reconvert(ypred1)\n",
        "check_similarity_np(io,y_train_train[:,0])"
      ]
    },
    {
      "cell_type": "code",
      "execution_count": 91,
      "metadata": {},
      "outputs": [
        {
          "output_type": "execute_result",
          "data": {
            "text/plain": [
              "array([[0.15499848, 0.76536214, 0.0816348 ],\n",
              "       [0.00503527, 0.14800292, 0.8563725 ],\n",
              "       [0.45224142, 0.5335499 , 0.01439941],\n",
              "       ...,\n",
              "       [0.2014128 , 0.5197657 , 0.3004445 ],\n",
              "       [0.01349376, 0.28768444, 0.70185846],\n",
              "       [0.0423561 , 0.74841315, 0.21801093]], dtype=float32)"
            ]
          },
          "metadata": {},
          "execution_count": 91
        }
      ],
      "source": [
        "ypred1"
      ]
    },
    {
      "cell_type": "code",
      "execution_count": 40,
      "metadata": {},
      "outputs": [],
      "source": [
        "#outfile generation\n",
        "y_pred_ok=ann2.predict(X_pred_scale)\n",
        "io=reconvert( y_pred_ok)\n",
        "\n",
        "X_pred_bd=pd.read_csv(basedir+\"/orig/test_values.csv\")\n",
        "\n",
        "#y_pred_ok_int=conv_a_floatlist(y_pred_ok,range_x)"
      ]
    },
    {
      "cell_type": "code",
      "metadata": {
        "colab": {
          "base_uri": "https://localhost:8080/"
        },
        "id": "wD9rzAN4pBR5",
        "outputId": "ab2363f0-11eb-4e5a-c1a4-a71d12168323"
      },
      "source": [
        "buildingid=X_pred_bd[\"building_id\"]\n",
        "\n",
        "head2=y_pred_ok\n",
        "\n",
        "\n",
        "outdf=pd.DataFrame(data={\"damage_grade\":io} ,index=buildingid)\n",
        "outdf.index.name=\"building_id\"\n",
        "\n",
        "\n",
        "outdf.head()\n",
        "st=43\n",
        "sts=str(st)\n",
        "outdf.to_csv(basedir+\"/out/submission_\"+sts+\"_xgboost.csv\")\n",
        "print()\n",
        "print(basedir+\"/out/submission_\"+sts+\"_xgboost.csv\")"
      ],
      "execution_count": 41,
      "outputs": [
        {
          "output_type": "stream",
          "name": "stdout",
          "text": [
            "\nC:/Users/sipocz/OneDrive/Dokumentumok/GitHub/_EarthQuake/gpos_lin/out/submission_43_xgboost.csv\n"
          ]
        }
      ]
    },
    {
      "cell_type": "code",
      "metadata": {
        "colab": {
          "base_uri": "https://localhost:8080/"
        },
        "id": "PjkOA2B1Pys6",
        "outputId": "e76ee986-189a-401e-9df9-722850ff2e5b"
      },
      "source": [
        "if not( _PCVERSION_):\r\n",
        "    !head \"/content/drive/My Drive/001_AI/_EarthQuake/gpos_lin/out/submission_24_xgboost.csv\""
      ],
      "execution_count": null,
      "outputs": []
    },
    {
      "cell_type": "code",
      "execution_count": 167,
      "metadata": {},
      "outputs": [
        {
          "output_type": "execute_result",
          "data": {
            "text/plain": [
              "array([[0.28571429, 0.0201005 , 0.06593407, ..., 0.        , 1.        ,\n",
              "        0.56170323],\n",
              "       [0.14285714, 0.02512563, 0.13186813, ..., 0.        , 1.        ,\n",
              "        0.19576828],\n",
              "       [0.14285714, 0.00502513, 0.03296703, ..., 0.        , 1.        ,\n",
              "        0.71028087],\n",
              "       ...,\n",
              "       [0.        , 0.05025126, 0.02197802, ..., 0.        , 1.        ,\n",
              "        0.73558512],\n",
              "       [0.14285714, 0.00502513, 0.08791209, ..., 0.        , 0.        ,\n",
              "        0.21615666],\n",
              "       [0.14285714, 0.01005025, 0.10989011, ..., 0.        , 1.        ,\n",
              "        0.83998508]])"
            ]
          },
          "metadata": {},
          "execution_count": 167
        }
      ],
      "source": [
        "X_pred_scale"
      ]
    },
    {
      "source": [],
      "cell_type": "markdown",
      "metadata": {}
    },
    {
      "source": [
        "<img src=\"https://www.python.org/static/community_logos/python-logo-master-v3-TM.png\" title=\"Python Logo\"/>"
      ],
      "cell_type": "markdown",
      "metadata": {}
    }
  ]
}