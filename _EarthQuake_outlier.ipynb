{
  "nbformat": 4,
  "nbformat_minor": 0,
  "metadata": {
    "colab": {
      "name": "_EarthQuake_outlier",
      "provenance": [],
      "collapsed_sections": [],
      "authorship_tag": "ABX9TyP24R8D1IX4IFysdkd67dyI",
      "include_colab_link": true
    },
    "kernelspec": {
      "name": "python3",
      "display_name": "Python 3"
    }
  },
  "cells": [
    {
      "cell_type": "markdown",
      "metadata": {
        "id": "view-in-github",
        "colab_type": "text"
      },
      "source": [
        "<a href=\"https://colab.research.google.com/github/sipocz/_earthQuake/blob/main/_EarthQuake_outlier.ipynb\" target=\"_parent\"><img src=\"https://colab.research.google.com/assets/colab-badge.svg\" alt=\"Open In Colab\"/></a>"
      ]
    },
    {
      "cell_type": "code",
      "metadata": {
        "id": "ourMOFA7tuMi"
      },
      "source": [
        "from sklearn.ensemble import IsolationForest\n",
        "import numpy as np\n",
        "\n"
      ],
      "execution_count": 260,
      "outputs": []
    },
    {
      "cell_type": "code",
      "metadata": {
        "colab": {
          "base_uri": "https://localhost:8080/"
        },
        "id": "eu94_AfLv0aj",
        "outputId": "8b29145c-a7b0-41cd-861b-8e062b6fdb04"
      },
      "source": [
        "#EarthQuake\n",
        "from google.colab import drive\n",
        "drive.mount('/content/drive',force_remount=True)\n",
        "import numpy as np\n",
        "import pandas as pd\n",
        "import matplotlib.pyplot as plt\n",
        "#import sweetviz as sw\n",
        "\n",
        "#!pip install sweetviz\n",
        "#import sweetviz as sw\n",
        "from sklearn.preprocessing import MinMaxScaler\n",
        "from sklearn.model_selection import train_test_split"
      ],
      "execution_count": 261,
      "outputs": [
        {
          "output_type": "stream",
          "text": [
            "Mounted at /content/drive\n"
          ],
          "name": "stdout"
        }
      ]
    },
    {
      "cell_type": "code",
      "metadata": {
        "id": "Hd2wpZ8TwEMv"
      },
      "source": [
        "df=pd.read_csv(\"/content/drive/My Drive/001_AI/_EarthQuake/features_a.csv\")\n",
        "df_clasters=pd.read_csv(\"/content/drive/My Drive/001_AI/_EarthQuake/train_labels.csv\")\n",
        "df_testvalues=pd.read_csv(\"/content/drive/My Drive/001_AI/_EarthQuake/test_a.csv\")\n",
        "#official_testvalues=pd.read_csv(\"/content/drive/My Drive/001_AI/_EarthQuake/test_values.csv\")\n"
      ],
      "execution_count": 262,
      "outputs": []
    },
    {
      "cell_type": "code",
      "metadata": {
        "colab": {
          "base_uri": "https://localhost:8080/"
        },
        "id": "j9rIQ6sqwJgX",
        "outputId": "893221a2-3437-4387-f9b1-9b6a895c4c92"
      },
      "source": [
        "numx=260601\n",
        "#numx=50000\n",
        "Y=df_clasters[[\"damage_grade\"]]\n",
        "X=df\n",
        "scaler=MinMaxScaler()\n",
        "Xt=X[:numx]\n",
        "Xt=scaler.fit_transform(Xt)\n",
        "Xt=Xt[:numx]\n",
        "Y=Y[[\"damage_grade\"]]\n",
        "Y=Y[:numx]\n",
        "X_train, X_test, y_train, y_test = train_test_split(Xt, Y, random_state=2,test_size=0.0001)\n",
        "df_buildings=df_testvalues[[\"building_id\"]]\n",
        "heads=df.columns\n",
        "print(len(heads))\n",
        "print(len(df_testvalues.columns))\n",
        "for i in df_testvalues.columns:\n",
        "    if i not in heads:\n",
        "        df_testvalues.drop(columns=[i], inplace=True)\n",
        "\n",
        "print(len(df_testvalues.columns))\n",
        "print(len(X_train))\n",
        "print(X_train)"
      ],
      "execution_count": 263,
      "outputs": [
        {
          "output_type": "stream",
          "text": [
            "57\n",
            "78\n",
            "57\n",
            "260574\n",
            "[[0.57266692 0.26666667 0.70707779 ... 0.         0.         1.        ]\n",
            " [0.9415848  0.86666667 0.71688858 ... 0.         0.         1.        ]\n",
            " [0.12814275 0.13333333 0.41205326 ... 0.         0.         1.        ]\n",
            " ...\n",
            " [0.77991174 0.86666667 0.51857043 ... 0.         0.         1.        ]\n",
            " [0.38710284 0.16666667 0.18710582 ... 0.         0.         1.        ]\n",
            " [0.34250192 0.26666667 0.99088998 ... 0.         0.         1.        ]]\n"
          ],
          "name": "stdout"
        }
      ]
    },
    {
      "cell_type": "code",
      "metadata": {
        "colab": {
          "base_uri": "https://localhost:8080/"
        },
        "id": "pzZEUQ8vv6HQ",
        "outputId": "1af61d6b-1783-4399-af62-cf86ec9e36aa"
      },
      "source": [
        "# inlier és outlier bombázás\n",
        "clf = IsolationForest(n_estimators=3, warm_start=True, max_features=12)\n",
        "clf.fit(X_train)  # fit 10 trees  \n",
        "#clf.set_params()  # add 10 more trees  \n",
        "#clf.fit(X)  # fit the added trees "
      ],
      "execution_count": 264,
      "outputs": [
        {
          "output_type": "execute_result",
          "data": {
            "text/plain": [
              "IsolationForest(behaviour='deprecated', bootstrap=False, contamination='auto',\n",
              "                max_features=12, max_samples='auto', n_estimators=3,\n",
              "                n_jobs=None, random_state=None, verbose=0, warm_start=True)"
            ]
          },
          "metadata": {
            "tags": []
          },
          "execution_count": 264
        }
      ]
    },
    {
      "cell_type": "code",
      "metadata": {
        "colab": {
          "base_uri": "https://localhost:8080/"
        },
        "id": "iazEsgr_wDqr",
        "outputId": "d7251e3f-8639-4964-9f98-5173eac62bb6"
      },
      "source": [
        "X_train_predict=clf.predict(X_train)\n",
        "print(len(X_train))\n",
        "print(X_train)"
      ],
      "execution_count": 265,
      "outputs": [
        {
          "output_type": "stream",
          "text": [
            "260574\n",
            "[[0.57266692 0.26666667 0.70707779 ... 0.         0.         1.        ]\n",
            " [0.9415848  0.86666667 0.71688858 ... 0.         0.         1.        ]\n",
            " [0.12814275 0.13333333 0.41205326 ... 0.         0.         1.        ]\n",
            " ...\n",
            " [0.77991174 0.86666667 0.51857043 ... 0.         0.         1.        ]\n",
            " [0.38710284 0.16666667 0.18710582 ... 0.         0.         1.        ]\n",
            " [0.34250192 0.26666667 0.99088998 ... 0.         0.         1.        ]]\n"
          ],
          "name": "stdout"
        }
      ]
    },
    {
      "cell_type": "code",
      "metadata": {
        "colab": {
          "base_uri": "https://localhost:8080/"
        },
        "id": "w7dpyxTuw03D",
        "outputId": "1f352911-05ad-4000-c5f7-06389bf60caa"
      },
      "source": [
        "def outlierStatistic(X_train_predict):\n",
        "    print(X_train_predict)\n",
        "    maxX=len(X_train_predict)\n",
        "    outlier=0\n",
        "    for i in X_train_predict:\n",
        "        if i==-1:\n",
        "            outlier+=1\n",
        "    print(f\"A összes ({maxX} darabból {outlier} darab outlier van. Az {outlier/maxX*100:5.1f} %.)\")\n",
        "outlierStatistic(X_train_predict)"
      ],
      "execution_count": 266,
      "outputs": [
        {
          "output_type": "stream",
          "text": [
            "[1 1 1 ... 1 1 1]\n",
            "A összes (260574 darabból 54060 darab outlier van. Az  20.7 %.)\n"
          ],
          "name": "stdout"
        }
      ]
    },
    {
      "cell_type": "code",
      "metadata": {
        "id": "CYLuRZ7kFAlk"
      },
      "source": [
        "# az official test vizsgálata outlierekre nézve:\n",
        "outlier_official_predikt=clf.predict(df_testvalues)"
      ],
      "execution_count": 267,
      "outputs": []
    },
    {
      "cell_type": "code",
      "metadata": {
        "colab": {
          "base_uri": "https://localhost:8080/"
        },
        "id": "9SgQCJDTFswv",
        "outputId": "011b6bcf-2831-4a8f-d7af-bd7902d459b2"
      },
      "source": [
        "outlierStatistic(outlier_official_predikt)"
      ],
      "execution_count": 268,
      "outputs": [
        {
          "output_type": "stream",
          "text": [
            "[-1 -1 -1 ... -1 -1 -1]\n",
            "A összes (86868 darabból 86493 darab outlier van. Az  99.6 %.)\n"
          ],
          "name": "stdout"
        }
      ]
    },
    {
      "cell_type": "code",
      "metadata": {
        "colab": {
          "base_uri": "https://localhost:8080/"
        },
        "id": "mjXOHMz1-lMs",
        "outputId": "159c740b-a4d9-4050-a85f-40a01e7c47eb"
      },
      "source": [
        "print(list(y_train[[\"damage_grade\"]].index)[0])"
      ],
      "execution_count": 269,
      "outputs": [
        {
          "output_type": "stream",
          "text": [
            "149237\n"
          ],
          "name": "stdout"
        }
      ]
    },
    {
      "cell_type": "code",
      "metadata": {
        "colab": {
          "base_uri": "https://localhost:8080/"
        },
        "id": "189eiLBcNMDe",
        "outputId": "0e375d57-f4a1-4049-ce32-cfcb54ac43f2"
      },
      "source": [
        "print(X_train[1])"
      ],
      "execution_count": 270,
      "outputs": [
        {
          "output_type": "stream",
          "text": [
            "[0.9415848  0.86666667 0.71688858 0.125      0.01507538 0.06060606\n",
            " 0.1        0.         1.         0.         0.         0.\n",
            " 0.         1.         0.         0.         0.         0.\n",
            " 0.11111111 0.         0.         0.         0.         0.\n",
            " 0.         0.         0.         1.         0.         0.\n",
            " 1.         0.         0.         0.         0.         1.\n",
            " 0.         0.         0.         1.         0.         0.\n",
            " 0.         0.         1.         0.         1.         0.\n",
            " 0.         0.         1.         0.         0.         0.\n",
            " 0.         0.         1.        ]\n"
          ],
          "name": "stdout"
        }
      ]
    },
    {
      "cell_type": "code",
      "metadata": {
        "colab": {
          "base_uri": "https://localhost:8080/"
        },
        "id": "xESw_txRjtfp",
        "outputId": "e7573836-1d2b-4a65-b15f-8b11e826efbe"
      },
      "source": [
        "\n",
        "y_train[\"damage_grade\"].values"
      ],
      "execution_count": 271,
      "outputs": [
        {
          "output_type": "execute_result",
          "data": {
            "text/plain": [
              "array([3, 2, 2, ..., 2, 2, 3])"
            ]
          },
          "metadata": {
            "tags": []
          },
          "execution_count": 271
        }
      ]
    },
    {
      "cell_type": "code",
      "metadata": {
        "id": "KBEZnsQd5ces"
      },
      "source": [
        "\n",
        "\n",
        "X_train_inliers=[X_train[inx] for inx,i in enumerate(X_train_predict) if i==1 ]\n",
        "X_train_outliers=[X_train[index] for index,i in enumerate(X_train_predict) if i==-1 ]\n",
        "tmp=list(y_train[\"damage_grade\"].values)\n",
        "y_train_inliers=[tmp[inx] for inx,i in enumerate(X_train_predict) if i==1 ]\n",
        "y_train_outliers=[tmp[inx] for inx,i in enumerate(X_train_predict) if i==-1 ]\n",
        "\n"
      ],
      "execution_count": 272,
      "outputs": []
    },
    {
      "cell_type": "code",
      "metadata": {
        "id": "tOrPzBrGMvY5"
      },
      "source": [
        "dX1=pd.DataFrame (X_train_inliers)\n",
        "dY1=pd.DataFrame (y_train_inliers)\n",
        "DtX=pd.DataFrame(X_test)"
      ],
      "execution_count": 273,
      "outputs": []
    },
    {
      "cell_type": "code",
      "metadata": {
        "id": "emF0IgUY9Y7I",
        "colab": {
          "base_uri": "https://localhost:8080/"
        },
        "outputId": "ed76e9ad-4dab-473f-bf86-310c470a892f"
      },
      "source": [
        "# KNN inlier modell\n",
        "\n",
        "from xgboost import XGBClassifier  # 72.09\n",
        "# max_depth=10 : 72.79857561664441\n",
        "\n",
        "\n",
        "\n",
        "knn_inlier = XGBClassifier(verbosity=3,max_depth = 35)"
      ],
      "execution_count": 274,
      "outputs": [
        {
          "output_type": "stream",
          "text": [
            "[21:54:21] ======== Monitor: Learner ========\n",
            "[21:54:21] GetGradient: 3.07378s, 100 calls @ 30737us\n",
            "[21:54:21] PredictRaw: 0.218167s, 100 calls @ 2181us\n",
            "[21:54:21] UpdateOneIter: 1448.27s, 100 calls @ 14482689us\n",
            "[21:54:21] ======== Monitor: GBTree ========\n",
            "[21:54:21] BoostNewTrees: 1404.76s, 100 calls @ 14047589us\n",
            "[21:54:21] CommitModel: 40.2167s, 100 calls @ 402166us\n"
          ],
          "name": "stdout"
        }
      ]
    },
    {
      "cell_type": "code",
      "metadata": {
        "colab": {
          "base_uri": "https://localhost:8080/"
        },
        "id": "U7qMZnpO9tlR",
        "outputId": "784dd8a4-3378-4f47-b964-19f617571c05"
      },
      "source": [
        "print(\"Fit Start--\")\n",
        "knn_inlier.fit(dX1, dY1)\n",
        "print(\"Fit End--\")"
      ],
      "execution_count": null,
      "outputs": [
        {
          "output_type": "stream",
          "text": [
            "Fit Start--\n"
          ],
          "name": "stdout"
        },
        {
          "output_type": "stream",
          "text": [
            "/usr/local/lib/python3.6/dist-packages/sklearn/preprocessing/_label.py:235: DataConversionWarning: A column-vector y was passed when a 1d array was expected. Please change the shape of y to (n_samples, ), for example using ravel().\n",
            "  y = column_or_1d(y, warn=True)\n",
            "/usr/local/lib/python3.6/dist-packages/sklearn/preprocessing/_label.py:268: DataConversionWarning: A column-vector y was passed when a 1d array was expected. Please change the shape of y to (n_samples, ), for example using ravel().\n",
            "  y = column_or_1d(y, warn=True)\n"
          ],
          "name": "stderr"
        },
        {
          "output_type": "stream",
          "text": [
            "[21:54:27] INFO: /workspace/src/tree/updater_prune.cc:74: tree pruning end, 1 roots, 13908 extra nodes, 0 pruned nodes, max_depth=34\n",
            "[21:54:32] INFO: /workspace/src/tree/updater_prune.cc:74: tree pruning end, 1 roots, 46244 extra nodes, 0 pruned nodes, max_depth=35\n",
            "[21:54:37] INFO: /workspace/src/tree/updater_prune.cc:74: tree pruning end, 1 roots, 44148 extra nodes, 0 pruned nodes, max_depth=35\n",
            "[21:54:41] INFO: /workspace/src/tree/updater_prune.cc:74: tree pruning end, 1 roots, 14618 extra nodes, 0 pruned nodes, max_depth=35\n",
            "[21:54:47] INFO: /workspace/src/tree/updater_prune.cc:74: tree pruning end, 1 roots, 47960 extra nodes, 0 pruned nodes, max_depth=35\n",
            "[21:54:52] INFO: /workspace/src/tree/updater_prune.cc:74: tree pruning end, 1 roots, 45414 extra nodes, 0 pruned nodes, max_depth=35\n",
            "[21:54:56] INFO: /workspace/src/tree/updater_prune.cc:74: tree pruning end, 1 roots, 14704 extra nodes, 0 pruned nodes, max_depth=32\n",
            "[21:55:02] INFO: /workspace/src/tree/updater_prune.cc:74: tree pruning end, 1 roots, 49190 extra nodes, 0 pruned nodes, max_depth=35\n",
            "[21:55:07] INFO: /workspace/src/tree/updater_prune.cc:74: tree pruning end, 1 roots, 46416 extra nodes, 0 pruned nodes, max_depth=35\n",
            "[21:55:11] INFO: /workspace/src/tree/updater_prune.cc:74: tree pruning end, 1 roots, 15332 extra nodes, 0 pruned nodes, max_depth=35\n",
            "[21:55:17] INFO: /workspace/src/tree/updater_prune.cc:74: tree pruning end, 1 roots, 50704 extra nodes, 0 pruned nodes, max_depth=35\n",
            "[21:55:22] INFO: /workspace/src/tree/updater_prune.cc:74: tree pruning end, 1 roots, 46960 extra nodes, 0 pruned nodes, max_depth=35\n",
            "[21:55:27] INFO: /workspace/src/tree/updater_prune.cc:74: tree pruning end, 1 roots, 15506 extra nodes, 0 pruned nodes, max_depth=34\n",
            "[21:55:33] INFO: /workspace/src/tree/updater_prune.cc:74: tree pruning end, 1 roots, 52278 extra nodes, 0 pruned nodes, max_depth=35\n",
            "[21:55:38] INFO: /workspace/src/tree/updater_prune.cc:74: tree pruning end, 1 roots, 47738 extra nodes, 0 pruned nodes, max_depth=35\n",
            "[21:55:43] INFO: /workspace/src/tree/updater_prune.cc:74: tree pruning end, 1 roots, 15946 extra nodes, 0 pruned nodes, max_depth=35\n",
            "[21:55:48] INFO: /workspace/src/tree/updater_prune.cc:74: tree pruning end, 1 roots, 52776 extra nodes, 0 pruned nodes, max_depth=35\n",
            "[21:55:54] INFO: /workspace/src/tree/updater_prune.cc:74: tree pruning end, 1 roots, 47980 extra nodes, 0 pruned nodes, max_depth=35\n",
            "[21:55:59] INFO: /workspace/src/tree/updater_prune.cc:74: tree pruning end, 1 roots, 16176 extra nodes, 0 pruned nodes, max_depth=35\n",
            "[21:56:04] INFO: /workspace/src/tree/updater_prune.cc:74: tree pruning end, 1 roots, 54096 extra nodes, 0 pruned nodes, max_depth=35\n",
            "[21:56:10] INFO: /workspace/src/tree/updater_prune.cc:74: tree pruning end, 1 roots, 49134 extra nodes, 0 pruned nodes, max_depth=35\n",
            "[21:56:14] INFO: /workspace/src/tree/updater_prune.cc:74: tree pruning end, 1 roots, 16570 extra nodes, 0 pruned nodes, max_depth=35\n",
            "[21:56:20] INFO: /workspace/src/tree/updater_prune.cc:74: tree pruning end, 1 roots, 56218 extra nodes, 0 pruned nodes, max_depth=35\n",
            "[21:56:25] INFO: /workspace/src/tree/updater_prune.cc:74: tree pruning end, 1 roots, 49440 extra nodes, 0 pruned nodes, max_depth=35\n",
            "[21:56:30] INFO: /workspace/src/tree/updater_prune.cc:74: tree pruning end, 1 roots, 16652 extra nodes, 0 pruned nodes, max_depth=35\n",
            "[21:56:36] INFO: /workspace/src/tree/updater_prune.cc:74: tree pruning end, 1 roots, 56470 extra nodes, 0 pruned nodes, max_depth=35\n",
            "[21:56:41] INFO: /workspace/src/tree/updater_prune.cc:74: tree pruning end, 1 roots, 49880 extra nodes, 0 pruned nodes, max_depth=35\n",
            "[21:56:45] INFO: /workspace/src/tree/updater_prune.cc:74: tree pruning end, 1 roots, 16558 extra nodes, 0 pruned nodes, max_depth=35\n",
            "[21:56:51] INFO: /workspace/src/tree/updater_prune.cc:74: tree pruning end, 1 roots, 57720 extra nodes, 0 pruned nodes, max_depth=35\n",
            "[21:56:57] INFO: /workspace/src/tree/updater_prune.cc:74: tree pruning end, 1 roots, 49862 extra nodes, 0 pruned nodes, max_depth=35\n",
            "[21:57:01] INFO: /workspace/src/tree/updater_prune.cc:74: tree pruning end, 1 roots, 16804 extra nodes, 0 pruned nodes, max_depth=35\n",
            "[21:57:07] INFO: /workspace/src/tree/updater_prune.cc:74: tree pruning end, 1 roots, 57894 extra nodes, 0 pruned nodes, max_depth=35\n",
            "[21:57:13] INFO: /workspace/src/tree/updater_prune.cc:74: tree pruning end, 1 roots, 49746 extra nodes, 0 pruned nodes, max_depth=35\n",
            "[21:57:17] INFO: /workspace/src/tree/updater_prune.cc:74: tree pruning end, 1 roots, 17026 extra nodes, 0 pruned nodes, max_depth=35\n",
            "[21:57:23] INFO: /workspace/src/tree/updater_prune.cc:74: tree pruning end, 1 roots, 57904 extra nodes, 0 pruned nodes, max_depth=35\n",
            "[21:57:29] INFO: /workspace/src/tree/updater_prune.cc:74: tree pruning end, 1 roots, 49332 extra nodes, 0 pruned nodes, max_depth=35\n",
            "[21:57:33] INFO: /workspace/src/tree/updater_prune.cc:74: tree pruning end, 1 roots, 17244 extra nodes, 0 pruned nodes, max_depth=35\n",
            "[21:57:39] INFO: /workspace/src/tree/updater_prune.cc:74: tree pruning end, 1 roots, 59222 extra nodes, 0 pruned nodes, max_depth=35\n",
            "[21:57:44] INFO: /workspace/src/tree/updater_prune.cc:74: tree pruning end, 1 roots, 49298 extra nodes, 0 pruned nodes, max_depth=35\n",
            "[21:57:49] INFO: /workspace/src/tree/updater_prune.cc:74: tree pruning end, 1 roots, 16982 extra nodes, 0 pruned nodes, max_depth=35\n",
            "[21:57:55] INFO: /workspace/src/tree/updater_prune.cc:74: tree pruning end, 1 roots, 59116 extra nodes, 0 pruned nodes, max_depth=35\n",
            "[21:58:00] INFO: /workspace/src/tree/updater_prune.cc:74: tree pruning end, 1 roots, 49672 extra nodes, 0 pruned nodes, max_depth=35\n",
            "[21:58:05] INFO: /workspace/src/tree/updater_prune.cc:74: tree pruning end, 1 roots, 17058 extra nodes, 0 pruned nodes, max_depth=35\n",
            "[21:58:11] INFO: /workspace/src/tree/updater_prune.cc:74: tree pruning end, 1 roots, 58848 extra nodes, 0 pruned nodes, max_depth=35\n",
            "[21:58:16] INFO: /workspace/src/tree/updater_prune.cc:74: tree pruning end, 1 roots, 49990 extra nodes, 0 pruned nodes, max_depth=35\n",
            "[21:58:21] INFO: /workspace/src/tree/updater_prune.cc:74: tree pruning end, 1 roots, 17148 extra nodes, 0 pruned nodes, max_depth=35\n",
            "[21:58:28] INFO: /workspace/src/tree/updater_prune.cc:74: tree pruning end, 1 roots, 58820 extra nodes, 0 pruned nodes, max_depth=35\n",
            "[21:58:35] INFO: /workspace/src/tree/updater_prune.cc:74: tree pruning end, 1 roots, 48898 extra nodes, 0 pruned nodes, max_depth=35\n",
            "[21:58:41] INFO: /workspace/src/tree/updater_prune.cc:74: tree pruning end, 1 roots, 17078 extra nodes, 0 pruned nodes, max_depth=35\n"
          ],
          "name": "stdout"
        }
      ]
    },
    {
      "cell_type": "code",
      "metadata": {
        "id": "ifZAM9pcnMKA"
      },
      "source": [
        "y_pred=knn_inlier.predict(DtX)\n",
        "print(\"Prediction End--\")"
      ],
      "execution_count": null,
      "outputs": []
    },
    {
      "cell_type": "code",
      "metadata": {
        "id": "X-Nzj3gInc5p"
      },
      "source": [
        "# Inlier statistics\n",
        "from sklearn.metrics import accuracy_score\n",
        "accuracy =  accuracy_score(y_test, y_pred) * 100\n",
        "print(f\"Accuracy a testhalmazra nézve: {accuracy}\")\n",
        "y_pred2=knn.predict(dX1)\n",
        "accuracy =  accuracy_score(y_pred2, y_train_inliers) * 100\n",
        "print(f\"Accuracy a betanított halmazra : {accuracy}\")\n",
        "\n"
      ],
      "execution_count": null,
      "outputs": []
    },
    {
      "cell_type": "code",
      "metadata": {
        "id": "mFm0B_zrIzo2"
      },
      "source": [
        "dX1_ol=pd.DataFrame (X_train_outliers)\n",
        "dY1_ol=pd.DataFrame (y_train_outliers)\n",
        "DtX=pd.DataFrame(X_test)"
      ],
      "execution_count": null,
      "outputs": []
    },
    {
      "cell_type": "code",
      "metadata": {
        "id": "yQnY70jTrX31"
      },
      "source": [
        "# készítsünk modell az outlierekre is\n",
        "# KNN outlier modell\n",
        "\n",
        "from xgboost import XGBClassifier  \n",
        "knn_outlier = XGBClassifier(verbosity=3,max_depth = 35)"
      ],
      "execution_count": null,
      "outputs": []
    },
    {
      "cell_type": "code",
      "metadata": {
        "id": "WqBZVsj5Ihxz"
      },
      "source": [
        "print(\"Fit Start--\")\n",
        "knn_outlier.fit(dX1_ol, dY1_ol)\n",
        "print(\"Fit End--\")"
      ],
      "execution_count": null,
      "outputs": []
    },
    {
      "cell_type": "code",
      "metadata": {
        "id": "kSsVLwd6IyUs"
      },
      "source": [
        "from sklearn.metrics import accuracy_score\n",
        "y_pred_ol=knn_outlier.predict(dX1_ol)\n",
        "accuracy =  accuracy_score(y_pred_ol, y_train_outliers) * 100\n",
        "print(f\"Accuracy a betanított halmazra : {accuracy}\")\n",
        "\n"
      ],
      "execution_count": null,
      "outputs": []
    },
    {
      "cell_type": "code",
      "metadata": {
        "id": "s0uFyZksPsCm"
      },
      "source": [
        "# megvan a két modell, inlierekre és oulierekre\n"
      ],
      "execution_count": null,
      "outputs": []
    },
    {
      "cell_type": "code",
      "metadata": {
        "id": "cA1kFKYjPyZA"
      },
      "source": [
        "#az eredeti adatok itt vannak\n",
        "df_testvalues"
      ],
      "execution_count": null,
      "outputs": []
    },
    {
      "cell_type": "code",
      "metadata": {
        "id": "x8NsmR6gQjeA"
      },
      "source": [
        "# szét kellene kapni inlierekre és outlierekre a korábban betanított modellel.\n",
        "test_outliers=clf.predict(df_testvalues)\n",
        "outlierStatistic(test_outliers)"
      ],
      "execution_count": null,
      "outputs": []
    },
    {
      "cell_type": "code",
      "metadata": {
        "id": "gQ_YOrfUSE-Q"
      },
      "source": [
        "#szedjük szét inlier és outlier listákra\n",
        "\n",
        "\n",
        "X_test_inliers=[X_train[inx] for inx,i in enumerate(test_outliers) if i==1 ]\n",
        "X_test_outliers=[X_train[index] for index,i in enumerate(test_outliers) if i==-1 ]"
      ],
      "execution_count": null,
      "outputs": []
    },
    {
      "cell_type": "code",
      "metadata": {
        "id": "STlKoc3CT3Zn"
      },
      "source": [
        "df_X_test_inliers=pd.DataFrame (X_test_inliers)\n",
        "df_X_test_outliers=pd.DataFrame (X_test_outliers)"
      ],
      "execution_count": null,
      "outputs": []
    },
    {
      "cell_type": "code",
      "metadata": {
        "id": "irsQQkAtStHr"
      },
      "source": [
        "#predikáljuk az értékeket\n",
        "#van betanított inlier predikátorunk\n",
        "y_inlier_predikt=knn_inlier.predict(df_X_test_inliers)\n",
        "y_outlier_predikt=knn_outlier.predict(df_X_test_outliers)"
      ],
      "execution_count": null,
      "outputs": []
    },
    {
      "cell_type": "code",
      "metadata": {
        "id": "3fCvK_pvdSfg"
      },
      "source": [
        "df_test_buildings=pd.read_csv(\"/content/drive/My Drive/001_AI/_EarthQuake/test_a.csv\")\n",
        "df_buildings=df_test_buildings[[\"building_id\"]]"
      ],
      "execution_count": null,
      "outputs": []
    },
    {
      "cell_type": "code",
      "metadata": {
        "id": "SDDe4HtHdovg"
      },
      "source": [
        "building_id=df_buildings[[\"building_id\"]].values"
      ],
      "execution_count": null,
      "outputs": []
    },
    {
      "cell_type": "code",
      "metadata": {
        "id": "BncKYPQfe0B2"
      },
      "source": [
        "building_id"
      ],
      "execution_count": null,
      "outputs": []
    },
    {
      "cell_type": "code",
      "metadata": {
        "id": "sLXqdz2OUXWn"
      },
      "source": [
        "building=[]\n",
        "damage=[]\n",
        "opi=0 # outlier predikt index\n",
        "ipi=0 # inlier predikt index\n",
        "bid=0\n",
        "#össze kellene rakni az eredeti listát\n",
        "for idx,i in enumerate(test_outliers):\n",
        "    building.append(building_id[idx][0])  # idx-el kell hivatkozni \n",
        "    if i==-1:\n",
        "        damage.append(y_outlier_predikt[opi])\n",
        "        opi+=1\n",
        "    else:\n",
        "        damage.append(y_inlier_predikt[ipi])    \n",
        "        ipi+=1"
      ],
      "execution_count": null,
      "outputs": []
    },
    {
      "cell_type": "code",
      "metadata": {
        "id": "QnI1VxB5rwd3"
      },
      "source": [
        "print(len(building))"
      ],
      "execution_count": null,
      "outputs": []
    },
    {
      "cell_type": "code",
      "metadata": {
        "id": "mqPaX0r6fevg"
      },
      "source": [
        "\n",
        "outdf=pd.DataFrame(data={\"damage_grade\":damage} ,index=building)\n",
        "outdf.index.name=\"building_id\"\n"
      ],
      "execution_count": null,
      "outputs": []
    },
    {
      "cell_type": "code",
      "metadata": {
        "id": "3npm7ufIg26p"
      },
      "source": [
        "outdf.head()"
      ],
      "execution_count": null,
      "outputs": []
    },
    {
      "cell_type": "code",
      "metadata": {
        "id": "nyGcSzjjs6KE"
      },
      "source": [
        "basedir=\"/content/drive/My Drive/001_AI\"\n",
        "outdf.to_csv(basedir+\"/_EarthQuake/submission_6_outlier.csv\")"
      ],
      "execution_count": null,
      "outputs": []
    },
    {
      "cell_type": "code",
      "metadata": {
        "id": "k4IKDq2Ltukb"
      },
      "source": [
        "!head \"/content/drive/My Drive/001_AI/_EarthQuake/submission_6_outlier.csv\""
      ],
      "execution_count": null,
      "outputs": []
    },
    {
      "cell_type": "code",
      "metadata": {
        "id": "c7gkR3Nzu0vV"
      },
      "source": [
        "!head \"/content/drive/My Drive/001_AI/_EarthQuake/test_a.csv\""
      ],
      "execution_count": null,
      "outputs": []
    }
  ]
}