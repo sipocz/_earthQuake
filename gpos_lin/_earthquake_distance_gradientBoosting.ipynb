{
  "nbformat": 4,
  "nbformat_minor": 0,
  "metadata": {
    "colab": {
      "name": "_earthquake_distance_LDA.ipynb",
      "provenance": []
    },
    "kernelspec": {
      "name": "python3",
      "display_name": "Python 3",
      "language": "python"
    }
  },
  "cells": [
    {
      "cell_type": "code",
      "execution_count": 83,
      "metadata": {},
      "outputs": [],
      "source": [
        "\n"
      ]
    },
    {
      "cell_type": "code",
      "execution_count": 84,
      "metadata": {},
      "outputs": [],
      "source": [
        "\n",
        "\n",
        "_PCVERSION_=True\n",
        "\n",
        "\n",
        "if _PCVERSION_:\n",
        "    basedir=\"C:/Users/sipocz/OneDrive/Dokumentumok/GitHub/_EarthQuake/gpos_lin\"\n",
        "else:\n",
        "    from google.colab import drive\n",
        "    drive.mount('/content/drive',force_remount=True)\n",
        "    basedir=\"/content/drive/My Drive/001_AI/_EarthQuake/gpos_lin\"\n",
        "\n",
        "import numpy as np\n",
        "import pandas as pd\n",
        "import matplotlib.pyplot as plt\n",
        "\n",
        "\n",
        "#--------------scikit import \n",
        "from sklearn.ensemble import IsolationForest\n",
        "from sklearn.metrics import accuracy_score\n",
        "from sklearn.preprocessing import MinMaxScaler\n",
        "from sklearn.model_selection import train_test_split\n",
        "#--------------\n",
        "\n",
        "def outlierStatistic(X_train_predict):\n",
        "    print(X_train_predict)\n",
        "    maxX=len(X_train_predict)\n",
        "    outlier=0\n",
        "    for i in X_train_predict:\n",
        "        if i==-1:\n",
        "            outlier+=1\n",
        "    print(f\"A összes ({maxX} darabból {outlier} darab outlier van. Az {outlier/maxX*100:5.1f} %.)\")\n",
        "\n",
        "\n",
        "def checkvalues(df,columnname,key):\n",
        "    print(f\"{columnname} ellenőrzése !\")\n",
        "    numok=0\n",
        "    numerr=0\n",
        "    for i in df.index:\n",
        "        if df.at[i,columnname] in key:\n",
        "            #print(df.at[i,columnname])\n",
        "            numok+=1\n",
        "            pass\n",
        "        else:\n",
        "            numerr+=1\n",
        "            print(df.at[i,columnname],end=\", \")\n",
        "    sumall=numok+numerr\n",
        "    print(f\"\\n{sumall} mintából {numerr} db nem volt megfelelő\")\n",
        "\n",
        "\n",
        "def createcolumn(df,columnname,keys):\n",
        "    print(f\"{columnname} cseréje megy\")\n",
        "    for key in keys:\n",
        "        df[keys[key]]=0.0\n",
        "    for key in keys:\n",
        "        for i in df.index:\n",
        "            if df.at[i,columnname]==key:\n",
        "                df.at[i,keys[key]]=1.0\n",
        "\n",
        "\n",
        "def create_dict(idx,list):\n",
        "    o={}\n",
        "    for i in list:\n",
        "        o[i]=idx+\"_\"+i\n",
        "    return o\n",
        "\n",
        "def create_base_data(df):\n",
        "    t=['n', 't', 'o']\n",
        "    columnname=\"land_surface_condition\"\n",
        "    key=create_dict(columnname,t)\n",
        "\n",
        "\n",
        "    #checkvalues(df,columnname,key)\n",
        "    createcolumn(df,columnname,key)\n",
        "\n",
        "    t= ['h', 'w', 'i', 'r', 'u']\n",
        "    columnname=\"foundation_type\"\n",
        "    key=create_dict(columnname,t)\n",
        "\n",
        "    #checkvalues(df,columnname,key)\n",
        "    createcolumn(df,columnname,key)\n",
        "\n",
        "    t=  ['q', 'n', 'x']\n",
        "    columnname=\"roof_type\"\n",
        "    key=create_dict(columnname,t)\n",
        "\n",
        "    #checkvalues(df,columnname,key)\n",
        "    createcolumn(df,columnname,key)\n",
        "\n",
        "    t=  ['z', 'v', 'f', 'm', 'x']\n",
        "    columnname=\"ground_floor_type\"\n",
        "    key=create_dict(columnname,t)\n",
        "\n",
        "    #checkvalues(df,columnname,key)\n",
        "    createcolumn(df,columnname,key)\n",
        "\n",
        "    t=   ['q', 's', 'j', 'x']\n",
        "    columnname=\"other_floor_type\"\n",
        "    key=create_dict(columnname,t)\n",
        "\n",
        "    #checkvalues(df,columnname,key)\n",
        "    createcolumn(df,columnname,key)\n",
        "\n",
        "    t=   ['j', 's', 't', 'o']\n",
        "    columnname=\"position\"\n",
        "    key=create_dict(columnname,t)\n",
        "\n",
        "    #checkvalues(df,columnname,key)\n",
        "    createcolumn(df,columnname,key)\n",
        "\n",
        "    t=   ['c', 's', 'f', 'd', 'm', 'a', 'q', 'u', 'n', 'o']\n",
        "    columnname=\"plan_configuration\"\n",
        "    key=create_dict(columnname,t)\n",
        "\n",
        "    #checkvalues(df,columnname,key)\n",
        "    createcolumn(df,columnname,key)\n",
        "\n",
        "    t=['a', 'w', 'r', 'v']\n",
        "    columnname=\"legal_ownership_status\"\n",
        "    key=create_dict(columnname,t)\n",
        "\n",
        "    #checkvalues(df,columnname,key)\n",
        "    createcolumn(df,columnname,key)\n",
        "\n",
        "    # level 1: 0-30, level 2: 0-1427, level 3: 0-12567.\n",
        "    # level1:0--30\n",
        "    # level2: 0.0000-----------0.9999\n",
        "    # level3: 0.000000000------0.000099999\n",
        "    l1=df.geo_level_1_id\n",
        "    l2=(df.geo_level_2_id/1427*9999)/10000\n",
        "    l3=(df.geo_level_2_id/12567*99999)/1000000000\n",
        "    df[\"geopos\"]=l1+l2+l3\n",
        "    return(df)\n",
        "\n",
        "\n",
        "\n",
        "def kill_columns(df):\n",
        "    notkey=[\"Unnamed: 0\",\"building_id\",\"legal_ownership_status\",\"geo_level_1_id\",\t\"geo_level_2_id\",\t\"geo_level_3_id\", \"land_surface_condition\",\t\"foundation_type\",\t\"roof_type\",\t\"ground_floor_type\",\t\"other_floor_type\",\t\"position\",\t\"plan_configuration\"]\n",
        "    for i in df.columns:\n",
        "        #print(i)\n",
        "        if i in notkey:\n",
        "            df.drop(columns=[i], inplace=True)\n",
        "    return df\n",
        "\n",
        "\n",
        "\n",
        "\n",
        "\n"
      ]
    },
    {
      "cell_type": "code",
      "execution_count": null,
      "metadata": {},
      "outputs": [],
      "source": []
    },
    {
      "cell_type": "code",
      "execution_count": 85,
      "metadata": {},
      "outputs": [],
      "source": [
        "def check_similarity_np(np1,np2):\n",
        "    db=0\n",
        "    maxi=0\n",
        "    for ind, i1 in enumerate(np1):\n",
        "        maxi+=1\n",
        "        i2=np2[ind]\n",
        "        if i1!=i2:\n",
        "            db+=1\n",
        "    #print(f\"{ind}. eset:  {i:3},{i2:3}\")\n",
        "    print(f\"hiba:{db} max:{maxi} -- error:{db/maxi*100.0 : 2.6} good %:{100-db/maxi*100.0 : 2.6} %\")"
      ]
    },
    {
      "cell_type": "code",
      "metadata": {
        "colab": {
          "base_uri": "https://localhost:8080/",
          "height": 502
        },
        "id": "HZHYUIgKIlT9",
        "outputId": "3740844a-f48c-4b06-87fd-f1eddb0431ab"
      },
      "source": [
        "\n",
        "features_train=basedir+\"/orig/train_values.csv\"\n",
        "labels_train=basedir+\"/orig/train_labels.csv\"\n",
        "features_predict=basedir+\"/orig/test_values.csv\"\n",
        "\n",
        "X_train=pd.read_csv(features_train)\n",
        "y_train=pd.read_csv(labels_train)\n",
        "X_pred=pd.read_csv(features_predict)\n",
        "#\n",
        "X_pred_conv=create_base_data(X_pred)\n",
        "X_train_conv=create_base_data(X_train)\n",
        "#\n",
        "X_train_ok=kill_columns(X_train_conv)\n",
        "X_pred_ok=kill_columns(X_pred_conv)\n",
        "y_train_ok=kill_columns(y_train)\n",
        "\n",
        "X_train_ok.to_csv(basedir+\"/tmp/X_tran_ok.csv\",index=False)\n",
        "X_pred_ok.to_csv(basedir+\"/tmp/X_pred_ok.csv\",index=False)\n",
        "y_train_ok.to_csv(basedir+\"/tmp/y_train_ok.csv\",index=False)\n",
        "\n",
        "\n",
        "\n",
        "\n",
        "#f=open(basedir+\"/tmp/similarity.csv\",\"a\")\n",
        "X_train_ok=pd.read_csv(basedir+\"/tmp/X_tran_ok.csv\",)\n",
        "X_pred_ok=pd.read_csv(basedir+\"/tmp/X_pred_ok.csv\")\n",
        "y_train_ok=pd.read_csv(basedir+\"/tmp/y_train_ok.csv\")\n",
        "\n",
        "X_train_ok.head()\n",
        "X_pred_ok.head()\n",
        "#print(\"Ready\")"
      ],
      "execution_count": 86,
      "outputs": [
        {
          "output_type": "stream",
          "name": "stdout",
          "text": [
            "land_surface_condition cseréje megy\n",
            "foundation_type cseréje megy\n",
            "roof_type cseréje megy\n",
            "ground_floor_type cseréje megy\n",
            "other_floor_type cseréje megy\n",
            "position cseréje megy\n",
            "plan_configuration cseréje megy\n",
            "legal_ownership_status cseréje megy\n",
            "land_surface_condition cseréje megy\n",
            "foundation_type cseréje megy\n",
            "roof_type cseréje megy\n",
            "ground_floor_type cseréje megy\n",
            "other_floor_type cseréje megy\n",
            "position cseréje megy\n",
            "plan_configuration cseréje megy\n",
            "legal_ownership_status cseréje megy\n"
          ]
        },
        {
          "output_type": "execute_result",
          "data": {
            "text/plain": [
              "   count_floors_pre_eq  age  area_percentage  height_percentage  \\\n",
              "0                    3   20                7                  6   \n",
              "1                    2   25               13                  5   \n",
              "2                    2    5                4                  5   \n",
              "3                    1    0               19                  3   \n",
              "4                    3   15                8                  7   \n",
              "\n",
              "   has_superstructure_adobe_mud  has_superstructure_mud_mortar_stone  \\\n",
              "0                             0                                    1   \n",
              "1                             0                                    1   \n",
              "2                             0                                    1   \n",
              "3                             0                                    0   \n",
              "4                             0                                    1   \n",
              "\n",
              "   has_superstructure_stone_flag  has_superstructure_cement_mortar_stone  \\\n",
              "0                              0                                       0   \n",
              "1                              0                                       0   \n",
              "2                              0                                       0   \n",
              "3                              0                                       0   \n",
              "4                              0                                       0   \n",
              "\n",
              "   has_superstructure_mud_mortar_brick  \\\n",
              "0                                    0   \n",
              "1                                    0   \n",
              "2                                    0   \n",
              "3                                    0   \n",
              "4                                    0   \n",
              "\n",
              "   has_superstructure_cement_mortar_brick  ...  plan_configuration_a  \\\n",
              "0                                       0  ...                   0.0   \n",
              "1                                       0  ...                   0.0   \n",
              "2                                       0  ...                   0.0   \n",
              "3                                       1  ...                   0.0   \n",
              "4                                       0  ...                   0.0   \n",
              "\n",
              "   plan_configuration_q  plan_configuration_u  plan_configuration_n  \\\n",
              "0                   0.0                   0.0                   0.0   \n",
              "1                   0.0                   0.0                   0.0   \n",
              "2                   0.0                   0.0                   0.0   \n",
              "3                   0.0                   0.0                   0.0   \n",
              "4                   0.0                   0.0                   0.0   \n",
              "\n",
              "   plan_configuration_o  legal_ownership_status_a  legal_ownership_status_w  \\\n",
              "0                   0.0                       0.0                       0.0   \n",
              "1                   0.0                       0.0                       0.0   \n",
              "2                   0.0                       0.0                       0.0   \n",
              "3                   0.0                       0.0                       0.0   \n",
              "4                   0.0                       0.0                       0.0   \n",
              "\n",
              "   legal_ownership_status_r  legal_ownership_status_v     geopos  \n",
              "0                       0.0                       1.0  17.417622  \n",
              "1                       0.0                       1.0   6.098800  \n",
              "2                       0.0                       1.0  22.013313  \n",
              "3                       0.0                       1.0  26.027328  \n",
              "4                       0.0                       1.0  17.202505  \n",
              "\n",
              "[5 rows x 66 columns]"
            ],
            "text/html": "<div>\n<style scoped>\n    .dataframe tbody tr th:only-of-type {\n        vertical-align: middle;\n    }\n\n    .dataframe tbody tr th {\n        vertical-align: top;\n    }\n\n    .dataframe thead th {\n        text-align: right;\n    }\n</style>\n<table border=\"1\" class=\"dataframe\">\n  <thead>\n    <tr style=\"text-align: right;\">\n      <th></th>\n      <th>count_floors_pre_eq</th>\n      <th>age</th>\n      <th>area_percentage</th>\n      <th>height_percentage</th>\n      <th>has_superstructure_adobe_mud</th>\n      <th>has_superstructure_mud_mortar_stone</th>\n      <th>has_superstructure_stone_flag</th>\n      <th>has_superstructure_cement_mortar_stone</th>\n      <th>has_superstructure_mud_mortar_brick</th>\n      <th>has_superstructure_cement_mortar_brick</th>\n      <th>...</th>\n      <th>plan_configuration_a</th>\n      <th>plan_configuration_q</th>\n      <th>plan_configuration_u</th>\n      <th>plan_configuration_n</th>\n      <th>plan_configuration_o</th>\n      <th>legal_ownership_status_a</th>\n      <th>legal_ownership_status_w</th>\n      <th>legal_ownership_status_r</th>\n      <th>legal_ownership_status_v</th>\n      <th>geopos</th>\n    </tr>\n  </thead>\n  <tbody>\n    <tr>\n      <th>0</th>\n      <td>3</td>\n      <td>20</td>\n      <td>7</td>\n      <td>6</td>\n      <td>0</td>\n      <td>1</td>\n      <td>0</td>\n      <td>0</td>\n      <td>0</td>\n      <td>0</td>\n      <td>...</td>\n      <td>0.0</td>\n      <td>0.0</td>\n      <td>0.0</td>\n      <td>0.0</td>\n      <td>0.0</td>\n      <td>0.0</td>\n      <td>0.0</td>\n      <td>0.0</td>\n      <td>1.0</td>\n      <td>17.417622</td>\n    </tr>\n    <tr>\n      <th>1</th>\n      <td>2</td>\n      <td>25</td>\n      <td>13</td>\n      <td>5</td>\n      <td>0</td>\n      <td>1</td>\n      <td>0</td>\n      <td>0</td>\n      <td>0</td>\n      <td>0</td>\n      <td>...</td>\n      <td>0.0</td>\n      <td>0.0</td>\n      <td>0.0</td>\n      <td>0.0</td>\n      <td>0.0</td>\n      <td>0.0</td>\n      <td>0.0</td>\n      <td>0.0</td>\n      <td>1.0</td>\n      <td>6.098800</td>\n    </tr>\n    <tr>\n      <th>2</th>\n      <td>2</td>\n      <td>5</td>\n      <td>4</td>\n      <td>5</td>\n      <td>0</td>\n      <td>1</td>\n      <td>0</td>\n      <td>0</td>\n      <td>0</td>\n      <td>0</td>\n      <td>...</td>\n      <td>0.0</td>\n      <td>0.0</td>\n      <td>0.0</td>\n      <td>0.0</td>\n      <td>0.0</td>\n      <td>0.0</td>\n      <td>0.0</td>\n      <td>0.0</td>\n      <td>1.0</td>\n      <td>22.013313</td>\n    </tr>\n    <tr>\n      <th>3</th>\n      <td>1</td>\n      <td>0</td>\n      <td>19</td>\n      <td>3</td>\n      <td>0</td>\n      <td>0</td>\n      <td>0</td>\n      <td>0</td>\n      <td>0</td>\n      <td>1</td>\n      <td>...</td>\n      <td>0.0</td>\n      <td>0.0</td>\n      <td>0.0</td>\n      <td>0.0</td>\n      <td>0.0</td>\n      <td>0.0</td>\n      <td>0.0</td>\n      <td>0.0</td>\n      <td>1.0</td>\n      <td>26.027328</td>\n    </tr>\n    <tr>\n      <th>4</th>\n      <td>3</td>\n      <td>15</td>\n      <td>8</td>\n      <td>7</td>\n      <td>0</td>\n      <td>1</td>\n      <td>0</td>\n      <td>0</td>\n      <td>0</td>\n      <td>0</td>\n      <td>...</td>\n      <td>0.0</td>\n      <td>0.0</td>\n      <td>0.0</td>\n      <td>0.0</td>\n      <td>0.0</td>\n      <td>0.0</td>\n      <td>0.0</td>\n      <td>0.0</td>\n      <td>1.0</td>\n      <td>17.202505</td>\n    </tr>\n  </tbody>\n</table>\n<p>5 rows × 66 columns</p>\n</div>"
          },
          "metadata": {},
          "execution_count": 86
        }
      ]
    },
    {
      "cell_type": "code",
      "metadata": {
        "id": "ZkluH7RwmL_M"
      },
      "source": [
        "X_pred_ok=kill_columns(X_pred_ok)\r\n",
        "X_train_ok=kill_columns(X_train_ok)\r\n",
        "y_train_ok=kill_columns(y_train_ok)"
      ],
      "execution_count": 87,
      "outputs": []
    },
    {
      "cell_type": "code",
      "metadata": {
        "id": "Q0rn-7TBQfRp"
      },
      "source": [
        "from sklearn.preprocessing import StandardScaler\n",
        "\n",
        "\n",
        "\n",
        "scaler2=StandardScaler()\n",
        "X_train_scale=scaler2.fit_transform(X_train_ok)\n",
        "\n",
        "#scaler1=StandardScaler()\n",
        "X_pred_scale=scaler2.fit_transform(X_pred_ok)\n",
        "\"\"\"\n",
        "scaler3=StandardScaler()\n",
        "y_train_scale=scaler3.fit_transform(y_train_ok)\n",
        "\"\"\"\n",
        "y_train_np=y_train_ok.to_numpy()\n",
        "\n",
        "# szétszedjük a train és test részekre\n",
        "from sklearn.model_selection import train_test_split\n",
        "#X_train_train, X_train_test,y_train_train, y_train_test  = train_test_split( X_train_scale, y_train_scale, test_size=0.10, random_state=0)\n",
        "X_train_train, X_train_test,y_train_train, y_train_test  = train_test_split( X_train_scale, y_train_np, test_size=0.30, random_state=0)\n",
        "\n",
        "\n"
      ],
      "execution_count": 88,
      "outputs": []
    },
    {
      "cell_type": "code",
      "execution_count": 89,
      "metadata": {},
      "outputs": [],
      "source": [
        "# *************\n",
        "# * LDA       *\n",
        "# *************\n",
        "\n",
        "from sklearn.discriminant_analysis import LinearDiscriminantAnalysis\n",
        "\n",
        "lda = LinearDiscriminantAnalysis(n_components=2, solver=\"svd\", tol=0.000000001)\n",
        "lda.fit(X_train_train, y_train_train)\n",
        "\n",
        "X_train_lda = lda.transform(X_train_train)\n",
        "#y_train = lda.transform(y_train_train)\n",
        "X_test_lda=lda.transform(X_train_test)\n",
        "\n",
        "\n",
        "\n",
        "\n"
      ]
    },
    {
      "cell_type": "code",
      "execution_count": 90,
      "metadata": {},
      "outputs": [],
      "source": [
        "def outlierDropfrom_df(df,inxlist):\n",
        "    a=df\n",
        "    out=a.drop(inxlist,axis=0)\n",
        "    return(out)"
      ]
    },
    {
      "cell_type": "code",
      "execution_count": 91,
      "metadata": {},
      "outputs": [],
      "source": [
        "def outlierDropfrom_numpyarray(na,inxlist):\n",
        "    \n",
        "    out=np.delete (na ,inxlist, axis=0)\n",
        "    return(out)"
      ]
    },
    {
      "cell_type": "code",
      "execution_count": 118,
      "metadata": {},
      "outputs": [],
      "source": [
        "def calc_the_range(y_train,hist):    \n",
        "    num1=sum(1 for val in y_train if val==1)\n",
        "    #print(num1)\n",
        "    num2=sum(1 for val in y_train if val==2)\n",
        "    #print(num2)\n",
        "    num3=sum(1 for val in y_train if val==3)\n",
        "    #print(num3)\n",
        "    \n",
        "    out=(num1,num1+num2,num1+num2+num3)\n",
        "    print(\"out: \" ,out)\n",
        "    steps=[]\n",
        "    for i in range(len(hist[0])):\n",
        "        print(hist[0][i], end=\"\")\n",
        "        if hist[0][i]>out[0]:\n",
        "            steps.append(i)\n",
        "            break\n",
        "    for i in range(len(hist[0])):\n",
        "        #print(hist[0][i])\n",
        "        if hist[0][i]>out[1]:\n",
        "            steps.append(i)\n",
        "            break\n",
        "    print(\"step:\",steps)\n",
        "    limits_out=(hist[1][steps[0]],hist[1][steps[1]])\n",
        "    print(\"Limits:\",limits_out)\n",
        "    return (limits_out)"
      ]
    },
    {
      "cell_type": "code",
      "execution_count": 108,
      "metadata": {},
      "outputs": [],
      "source": [
        "def conv_a_floatlist(alist, range_x):\n",
        "    o=[]\n",
        "    print(\"conv:\" ,range_x)\n",
        "    for i in alist:\n",
        "        if i<=range_x[0]:\n",
        "            o.append(1)\n",
        "        if range_x[0]< i <=range_x[1]:\n",
        "            o.append(2)\n",
        "        if range_x[1]<i:\n",
        "            o.append(3)\n",
        "    return(o)"
      ]
    },
    {
      "cell_type": "code",
      "execution_count": 91,
      "metadata": {},
      "outputs": [],
      "source": [
        "\n",
        "\n",
        "\n",
        "\n"
      ]
    },
    {
      "cell_type": "code",
      "execution_count": 92,
      "metadata": {},
      "outputs": [
        {
          "output_type": "stream",
          "name": "stdout",
          "text": [
            "[[3]\n [2]\n [2]\n ...\n [3]\n [3]\n [2]]\n"
          ]
        }
      ],
      "source": [
        "print(y_train_train)"
      ]
    },
    {
      "cell_type": "code",
      "metadata": {
        "colab": {
          "base_uri": "https://localhost:8080/"
        },
        "id": "KpEo_arRSK-Y",
        "outputId": "ed01a5e0-f52e-4b28-afc5-4711ca297ada",
        "tags": []
      },
      "source": [
        "# XGBClassifier\n",
        "'''\n",
        "from xgboost import XGBClassifier  # 72.09\n",
        "# max_depth=10 : 72.79857561664441\n",
        "\n",
        "knn = XGBClassifier(verbosity=3,max_depth = 13,n_estimators=100,loss=\"deviance\", criterion=\"mae\")\n",
        "\n",
        "print(\"Fit: Inlier betanitás Start--\")\n",
        "\n",
        "knn.fit(X_train_train_out, y_train_train_out)\n",
        "\n",
        "print(\"Fit End - Prediction Start \")\n",
        "'''"
      ],
      "execution_count": 93,
      "outputs": [
        {
          "output_type": "execute_result",
          "data": {
            "text/plain": [
              "'\\nfrom xgboost import XGBClassifier  # 72.09\\n# max_depth=10 : 72.79857561664441\\n\\nknn = XGBClassifier(verbosity=3,max_depth = 13,n_estimators=100,loss=\"deviance\", criterion=\"mae\")\\n\\nprint(\"Fit: Inlier betanitás Start--\")\\n\\nknn.fit(X_train_train_out, y_train_train_out)\\n\\nprint(\"Fit End - Prediction Start \")\\n'"
            ]
          },
          "metadata": {},
          "execution_count": 93
        }
      ]
    },
    {
      "cell_type": "code",
      "execution_count": 176,
      "metadata": {
        "tags": [
          "outputPrepend"
        ]
      },
      "outputs": [
        {
          "output_type": "stream",
          "name": "stdout",
          "text": [
            "89/4000] 1 tree, 31 leaves, max depth = 13, train loss: 0.04381, val loss: 0.05099, in 0.030s\n",
            "[1490/4000] 1 tree, 31 leaves, max depth = 15, train loss: 0.04381, val loss: 0.05099, in 0.050s\n",
            "[1491/4000] 1 tree, 31 leaves, max depth = 12, train loss: 0.04381, val loss: 0.05099, in 0.058s\n",
            "[1492/4000] 1 tree, 31 leaves, max depth = 12, train loss: 0.04380, val loss: 0.05099, in 0.038s\n",
            "[1493/4000] 1 tree, 31 leaves, max depth = 14, train loss: 0.04380, val loss: 0.05099, in 0.035s\n",
            "[1494/4000] 1 tree, 31 leaves, max depth = 16, train loss: 0.04379, val loss: 0.05099, in 0.031s\n",
            "[1495/4000] 1 tree, 31 leaves, max depth = 11, train loss: 0.04379, val loss: 0.05099, in 0.031s\n",
            "[1496/4000] 1 tree, 31 leaves, max depth = 9, train loss: 0.04379, val loss: 0.05099, in 0.029s\n",
            "[1497/4000] 1 tree, 31 leaves, max depth = 9, train loss: 0.04378, val loss: 0.05099, in 0.034s\n",
            "[1498/4000] 1 tree, 31 leaves, max depth = 12, train loss: 0.04378, val loss: 0.05099, in 0.033s\n",
            "[1499/4000] 1 tree, 31 leaves, max depth = 11, train loss: 0.04378, val loss: 0.05099, in 0.032s\n",
            "[1500/4000] 1 tree, 31 leaves, max depth = 13, train loss: 0.04378, val loss: 0.05099, in 0.030s\n",
            "[1501/4000] 1 tree, 31 leaves, max depth = 12, train loss: 0.04377, val loss: 0.05099, in 0.032s\n",
            "[1502/4000] 1 tree, 31 leaves, max depth = 16, train loss: 0.04377, val loss: 0.05099, in 0.032s\n",
            "[1503/4000] 1 tree, 31 leaves, max depth = 11, train loss: 0.04377, val loss: 0.05099, in 0.028s\n",
            "[1504/4000] 1 tree, 31 leaves, max depth = 9, train loss: 0.04376, val loss: 0.05099, in 0.029s\n",
            "[1505/4000] 1 tree, 31 leaves, max depth = 12, train loss: 0.04376, val loss: 0.05100, in 0.033s\n",
            "[1506/4000] 1 tree, 31 leaves, max depth = 11, train loss: 0.04376, val loss: 0.05100, in 0.031s\n",
            "[1507/4000] 1 tree, 31 leaves, max depth = 11, train loss: 0.04375, val loss: 0.05100, in 0.034s\n",
            "[1508/4000] 1 tree, 31 leaves, max depth = 11, train loss: 0.04375, val loss: 0.05100, in 0.032s\n",
            "[1509/4000] 1 tree, 31 leaves, max depth = 9, train loss: 0.04374, val loss: 0.05100, in 0.037s\n",
            "[1510/4000] 1 tree, 31 leaves, max depth = 17, train loss: 0.04374, val loss: 0.05099, in 0.032s\n",
            "[1511/4000] 1 tree, 31 leaves, max depth = 10, train loss: 0.04374, val loss: 0.05100, in 0.042s\n",
            "[1512/4000] 1 tree, 31 leaves, max depth = 16, train loss: 0.04373, val loss: 0.05099, in 0.033s\n",
            "[1513/4000] 1 tree, 31 leaves, max depth = 13, train loss: 0.04373, val loss: 0.05099, in 0.032s\n",
            "[1514/4000] 1 tree, 31 leaves, max depth = 14, train loss: 0.04373, val loss: 0.05099, in 0.029s\n",
            "[1515/4000] 1 tree, 31 leaves, max depth = 10, train loss: 0.04372, val loss: 0.05099, in 0.031s\n",
            "[1516/4000] 1 tree, 31 leaves, max depth = 10, train loss: 0.04372, val loss: 0.05099, in 0.031s\n",
            "[1517/4000] 1 tree, 31 leaves, max depth = 12, train loss: 0.04371, val loss: 0.05099, in 0.031s\n",
            "[1518/4000] 1 tree, 31 leaves, max depth = 13, train loss: 0.04371, val loss: 0.05099, in 0.028s\n",
            "[1519/4000] 1 tree, 31 leaves, max depth = 9, train loss: 0.04371, val loss: 0.05099, in 0.032s\n",
            "[1520/4000] 1 tree, 31 leaves, max depth = 9, train loss: 0.04370, val loss: 0.05099, in 0.033s\n",
            "[1521/4000] 1 tree, 31 leaves, max depth = 12, train loss: 0.04370, val loss: 0.05099, in 0.031s\n",
            "[1522/4000] 1 tree, 31 leaves, max depth = 12, train loss: 0.04370, val loss: 0.05099, in 0.032s\n",
            "[1523/4000] 1 tree, 31 leaves, max depth = 12, train loss: 0.04369, val loss: 0.05098, in 0.034s\n",
            "[1524/4000] 1 tree, 31 leaves, max depth = 14, train loss: 0.04369, val loss: 0.05098, in 0.029s\n",
            "[1525/4000] 1 tree, 31 leaves, max depth = 13, train loss: 0.04369, val loss: 0.05099, in 0.030s\n",
            "[1526/4000] 1 tree, 31 leaves, max depth = 15, train loss: 0.04369, val loss: 0.05099, in 0.034s\n",
            "[1527/4000] 1 tree, 31 leaves, max depth = 13, train loss: 0.04368, val loss: 0.05099, in 0.032s\n",
            "[1528/4000] 1 tree, 31 leaves, max depth = 11, train loss: 0.04368, val loss: 0.05099, in 0.032s\n",
            "[1529/4000] 1 tree, 31 leaves, max depth = 9, train loss: 0.04368, val loss: 0.05099, in 0.033s\n",
            "[1530/4000] 1 tree, 31 leaves, max depth = 16, train loss: 0.04367, val loss: 0.05099, in 0.030s\n",
            "[1531/4000] 1 tree, 31 leaves, max depth = 15, train loss: 0.04367, val loss: 0.05099, in 0.030s\n",
            "[1532/4000] 1 tree, 31 leaves, max depth = 11, train loss: 0.04367, val loss: 0.05099, in 0.032s\n",
            "[1533/4000] 1 tree, 31 leaves, max depth = 10, train loss: 0.04366, val loss: 0.05099, in 0.031s\n",
            "[1534/4000] 1 tree, 31 leaves, max depth = 11, train loss: 0.04366, val loss: 0.05099, in 0.032s\n",
            "[1535/4000] 1 tree, 31 leaves, max depth = 16, train loss: 0.04365, val loss: 0.05099, in 0.046s\n",
            "[1536/4000] 1 tree, 31 leaves, max depth = 9, train loss: 0.04365, val loss: 0.05099, in 0.031s\n",
            "[1537/4000] 1 tree, 31 leaves, max depth = 13, train loss: 0.04365, val loss: 0.05099, in 0.028s\n",
            "[1538/4000] 1 tree, 31 leaves, max depth = 11, train loss: 0.04364, val loss: 0.05099, in 0.031s\n",
            "[1539/4000] 1 tree, 31 leaves, max depth = 14, train loss: 0.04364, val loss: 0.05099, in 0.030s\n",
            "[1540/4000] 1 tree, 31 leaves, max depth = 12, train loss: 0.04364, val loss: 0.05099, in 0.032s\n",
            "[1541/4000] 1 tree, 31 leaves, max depth = 9, train loss: 0.04363, val loss: 0.05099, in 0.032s\n",
            "[1542/4000] 1 tree, 31 leaves, max depth = 15, train loss: 0.04363, val loss: 0.05099, in 0.029s\n",
            "[1543/4000] 1 tree, 31 leaves, max depth = 13, train loss: 0.04362, val loss: 0.05099, in 0.032s\n",
            "[1544/4000] 1 tree, 31 leaves, max depth = 10, train loss: 0.04362, val loss: 0.05099, in 0.032s\n",
            "[1545/4000] 1 tree, 31 leaves, max depth = 10, train loss: 0.04362, val loss: 0.05099, in 0.033s\n",
            "[1546/4000] 1 tree, 31 leaves, max depth = 15, train loss: 0.04361, val loss: 0.05099, in 0.031s\n",
            "[1547/4000] 1 tree, 31 leaves, max depth = 16, train loss: 0.04361, val loss: 0.05099, in 0.032s\n",
            "[1548/4000] 1 tree, 31 leaves, max depth = 10, train loss: 0.04361, val loss: 0.05099, in 0.031s\n",
            "[1549/4000] 1 tree, 31 leaves, max depth = 11, train loss: 0.04360, val loss: 0.05099, in 0.030s\n",
            "[1550/4000] 1 tree, 31 leaves, max depth = 14, train loss: 0.04360, val loss: 0.05099, in 0.029s\n",
            "[1551/4000] 1 tree, 31 leaves, max depth = 11, train loss: 0.04360, val loss: 0.05099, in 0.031s\n",
            "[1552/4000] 1 tree, 31 leaves, max depth = 14, train loss: 0.04359, val loss: 0.05099, in 0.033s\n",
            "[1553/4000] 1 tree, 31 leaves, max depth = 10, train loss: 0.04359, val loss: 0.05099, in 0.030s\n",
            "[1554/4000] 1 tree, 31 leaves, max depth = 15, train loss: 0.04359, val loss: 0.05099, in 0.036s\n",
            "[1555/4000] 1 tree, 31 leaves, max depth = 12, train loss: 0.04358, val loss: 0.05099, in 0.034s\n",
            "[1556/4000] 1 tree, 31 leaves, max depth = 9, train loss: 0.04358, val loss: 0.05099, in 0.037s\n",
            "[1557/4000] 1 tree, 31 leaves, max depth = 12, train loss: 0.04358, val loss: 0.05099, in 0.028s\n",
            "[1558/4000] 1 tree, 31 leaves, max depth = 12, train loss: 0.04358, val loss: 0.05099, in 0.035s\n",
            "[1559/4000] 1 tree, 31 leaves, max depth = 13, train loss: 0.04357, val loss: 0.05099, in 0.046s\n",
            "[1560/4000] 1 tree, 31 leaves, max depth = 12, train loss: 0.04357, val loss: 0.05099, in 0.029s\n",
            "[1561/4000] 1 tree, 31 leaves, max depth = 12, train loss: 0.04357, val loss: 0.05099, in 0.030s\n",
            "[1562/4000] 1 tree, 31 leaves, max depth = 13, train loss: 0.04356, val loss: 0.05099, in 0.029s\n",
            "[1563/4000] 1 tree, 31 leaves, max depth = 10, train loss: 0.04356, val loss: 0.05099, in 0.033s\n",
            "[1564/4000] 1 tree, 31 leaves, max depth = 12, train loss: 0.04356, val loss: 0.05099, in 0.033s\n",
            "[1565/4000] 1 tree, 31 leaves, max depth = 9, train loss: 0.04355, val loss: 0.05099, in 0.035s\n",
            "[1566/4000] 1 tree, 31 leaves, max depth = 17, train loss: 0.04355, val loss: 0.05099, in 0.029s\n",
            "[1567/4000] 1 tree, 31 leaves, max depth = 14, train loss: 0.04355, val loss: 0.05099, in 0.030s\n",
            "[1568/4000] 1 tree, 31 leaves, max depth = 13, train loss: 0.04354, val loss: 0.05099, in 0.031s\n",
            "[1569/4000] 1 tree, 31 leaves, max depth = 11, train loss: 0.04354, val loss: 0.05099, in 0.033s\n",
            "[1570/4000] 1 tree, 31 leaves, max depth = 13, train loss: 0.04354, val loss: 0.05099, in 0.033s\n",
            "[1571/4000] 1 tree, 31 leaves, max depth = 16, train loss: 0.04354, val loss: 0.05099, in 0.032s\n",
            "[1572/4000] 1 tree, 31 leaves, max depth = 11, train loss: 0.04353, val loss: 0.05099, in 0.032s\n",
            "[1573/4000] 1 tree, 31 leaves, max depth = 10, train loss: 0.04353, val loss: 0.05099, in 0.034s\n",
            "[1574/4000] 1 tree, 31 leaves, max depth = 9, train loss: 0.04352, val loss: 0.05099, in 0.033s\n",
            "[1575/4000] 1 tree, 31 leaves, max depth = 10, train loss: 0.04352, val loss: 0.05099, in 0.030s\n",
            "[1576/4000] 1 tree, 31 leaves, max depth = 9, train loss: 0.04352, val loss: 0.05099, in 0.030s\n",
            "[1577/4000] 1 tree, 31 leaves, max depth = 13, train loss: 0.04351, val loss: 0.05099, in 0.035s\n",
            "[1578/4000] 1 tree, 31 leaves, max depth = 15, train loss: 0.04351, val loss: 0.05099, in 0.032s\n",
            "[1579/4000] 1 tree, 31 leaves, max depth = 11, train loss: 0.04351, val loss: 0.05099, in 0.031s\n",
            "[1580/4000] 1 tree, 31 leaves, max depth = 11, train loss: 0.04350, val loss: 0.05098, in 0.035s\n",
            "[1581/4000] 1 tree, 31 leaves, max depth = 11, train loss: 0.04350, val loss: 0.05098, in 0.033s\n",
            "[1582/4000] 1 tree, 31 leaves, max depth = 18, train loss: 0.04349, val loss: 0.05098, in 0.030s\n",
            "[1583/4000] 1 tree, 31 leaves, max depth = 10, train loss: 0.04349, val loss: 0.05098, in 0.035s\n",
            "[1584/4000] 1 tree, 31 leaves, max depth = 13, train loss: 0.04348, val loss: 0.05098, in 0.041s\n",
            "[1585/4000] 1 tree, 31 leaves, max depth = 15, train loss: 0.04348, val loss: 0.05099, in 0.028s\n",
            "[1586/4000] 1 tree, 31 leaves, max depth = 11, train loss: 0.04348, val loss: 0.05099, in 0.033s\n",
            "[1587/4000] 1 tree, 31 leaves, max depth = 10, train loss: 0.04347, val loss: 0.05098, in 0.030s\n",
            "[1588/4000] 1 tree, 31 leaves, max depth = 13, train loss: 0.04347, val loss: 0.05099, in 0.031s\n",
            "[1589/4000] 1 tree, 31 leaves, max depth = 9, train loss: 0.04347, val loss: 0.05098, in 0.033s\n",
            "[1590/4000] 1 tree, 31 leaves, max depth = 12, train loss: 0.04346, val loss: 0.05098, in 0.033s\n",
            "[1591/4000] 1 tree, 31 leaves, max depth = 12, train loss: 0.04346, val loss: 0.05098, in 0.029s\n",
            "[1592/4000] 1 tree, 31 leaves, max depth = 16, train loss: 0.04346, val loss: 0.05099, in 0.032s\n",
            "[1593/4000] 1 tree, 31 leaves, max depth = 12, train loss: 0.04345, val loss: 0.05099, in 0.029s\n",
            "[1594/4000] 1 tree, 31 leaves, max depth = 10, train loss: 0.04345, val loss: 0.05099, in 0.031s\n",
            "[1595/4000] 1 tree, 31 leaves, max depth = 13, train loss: 0.04345, val loss: 0.05098, in 0.029s\n",
            "[1596/4000] 1 tree, 31 leaves, max depth = 12, train loss: 0.04344, val loss: 0.05098, in 0.030s\n",
            "[1597/4000] 1 tree, 31 leaves, max depth = 17, train loss: 0.04344, val loss: 0.05099, in 0.031s\n",
            "[1598/4000] 1 tree, 31 leaves, max depth = 11, train loss: 0.04344, val loss: 0.05098, in 0.031s\n",
            "[1599/4000] 1 tree, 31 leaves, max depth = 12, train loss: 0.04343, val loss: 0.05098, in 0.029s\n",
            "[1600/4000] 1 tree, 31 leaves, max depth = 10, train loss: 0.04343, val loss: 0.05098, in 0.030s\n",
            "[1601/4000] 1 tree, 31 leaves, max depth = 14, train loss: 0.04343, val loss: 0.05098, in 0.031s\n",
            "[1602/4000] 1 tree, 31 leaves, max depth = 12, train loss: 0.04342, val loss: 0.05098, in 0.030s\n",
            "[1603/4000] 1 tree, 31 leaves, max depth = 12, train loss: 0.04342, val loss: 0.05098, in 0.033s\n",
            "[1604/4000] 1 tree, 31 leaves, max depth = 12, train loss: 0.04341, val loss: 0.05098, in 0.030s\n",
            "[1605/4000] 1 tree, 31 leaves, max depth = 19, train loss: 0.04341, val loss: 0.05098, in 0.031s\n",
            "[1606/4000] 1 tree, 31 leaves, max depth = 13, train loss: 0.04341, val loss: 0.05098, in 0.032s\n",
            "[1607/4000] 1 tree, 31 leaves, max depth = 19, train loss: 0.04341, val loss: 0.05098, in 0.030s\n",
            "[1608/4000] 1 tree, 31 leaves, max depth = 11, train loss: 0.04341, val loss: 0.05098, in 0.042s\n",
            "[1609/4000] 1 tree, 31 leaves, max depth = 15, train loss: 0.04340, val loss: 0.05099, in 0.031s\n",
            "[1610/4000] 1 tree, 31 leaves, max depth = 14, train loss: 0.04340, val loss: 0.05099, in 0.033s\n",
            "[1611/4000] 1 tree, 31 leaves, max depth = 8, train loss: 0.04339, val loss: 0.05098, in 0.030s\n",
            "[1612/4000] 1 tree, 31 leaves, max depth = 13, train loss: 0.04339, val loss: 0.05098, in 0.030s\n",
            "[1613/4000] 1 tree, 31 leaves, max depth = 10, train loss: 0.04339, val loss: 0.05098, in 0.030s\n",
            "[1614/4000] 1 tree, 31 leaves, max depth = 17, train loss: 0.04339, val loss: 0.05098, in 0.031s\n",
            "[1615/4000] 1 tree, 31 leaves, max depth = 10, train loss: 0.04338, val loss: 0.05098, in 0.034s\n",
            "[1616/4000] 1 tree, 31 leaves, max depth = 13, train loss: 0.04338, val loss: 0.05099, in 0.033s\n",
            "[1617/4000] 1 tree, 31 leaves, max depth = 13, train loss: 0.04337, val loss: 0.05099, in 0.034s\n",
            "[1618/4000] 1 tree, 31 leaves, max depth = 16, train loss: 0.04337, val loss: 0.05099, in 0.033s\n",
            "[1619/4000] 1 tree, 31 leaves, max depth = 13, train loss: 0.04337, val loss: 0.05099, in 0.048s\n",
            "[1620/4000] 1 tree, 31 leaves, max depth = 12, train loss: 0.04336, val loss: 0.05099, in 0.031s\n",
            "[1621/4000] 1 tree, 31 leaves, max depth = 10, train loss: 0.04336, val loss: 0.05099, in 0.033s\n",
            "[1622/4000] 1 tree, 31 leaves, max depth = 13, train loss: 0.04335, val loss: 0.05099, in 0.031s\n",
            "[1623/4000] 1 tree, 31 leaves, max depth = 11, train loss: 0.04335, val loss: 0.05099, in 0.030s\n",
            "[1624/4000] 1 tree, 31 leaves, max depth = 14, train loss: 0.04334, val loss: 0.05099, in 0.032s\n",
            "[1625/4000] 1 tree, 31 leaves, max depth = 8, train loss: 0.04334, val loss: 0.05099, in 0.034s\n",
            "[1626/4000] 1 tree, 31 leaves, max depth = 11, train loss: 0.04333, val loss: 0.05099, in 0.030s\n",
            "[1627/4000] 1 tree, 31 leaves, max depth = 8, train loss: 0.04333, val loss: 0.05099, in 0.034s\n",
            "[1628/4000] 1 tree, 31 leaves, max depth = 9, train loss: 0.04333, val loss: 0.05099, in 0.036s\n",
            "[1629/4000] 1 tree, 31 leaves, max depth = 16, train loss: 0.04332, val loss: 0.05099, in 0.028s\n",
            "[1630/4000] 1 tree, 31 leaves, max depth = 13, train loss: 0.04332, val loss: 0.05099, in 0.030s\n",
            "[1631/4000] 1 tree, 31 leaves, max depth = 14, train loss: 0.04332, val loss: 0.05099, in 0.035s\n",
            "[1632/4000] 1 tree, 31 leaves, max depth = 9, train loss: 0.04332, val loss: 0.05099, in 0.046s\n",
            "[1633/4000] 1 tree, 31 leaves, max depth = 9, train loss: 0.04331, val loss: 0.05098, in 0.032s\n",
            "[1634/4000] 1 tree, 31 leaves, max depth = 13, train loss: 0.04331, val loss: 0.05099, in 0.038s\n",
            "[1635/4000] 1 tree, 31 leaves, max depth = 10, train loss: 0.04330, val loss: 0.05099, in 0.031s\n",
            "[1636/4000] 1 tree, 31 leaves, max depth = 20, train loss: 0.04330, val loss: 0.05099, in 0.028s\n",
            "[1637/4000] 1 tree, 31 leaves, max depth = 17, train loss: 0.04330, val loss: 0.05099, in 0.032s\n",
            "[1638/4000] 1 tree, 31 leaves, max depth = 11, train loss: 0.04329, val loss: 0.05099, in 0.032s\n",
            "[1639/4000] 1 tree, 31 leaves, max depth = 10, train loss: 0.04329, val loss: 0.05099, in 0.030s\n",
            "[1640/4000] 1 tree, 31 leaves, max depth = 13, train loss: 0.04329, val loss: 0.05099, in 0.033s\n",
            "[1641/4000] 1 tree, 31 leaves, max depth = 19, train loss: 0.04328, val loss: 0.05099, in 0.030s\n",
            "[1642/4000] 1 tree, 31 leaves, max depth = 14, train loss: 0.04328, val loss: 0.05099, in 0.035s\n",
            "[1643/4000] 1 tree, 31 leaves, max depth = 16, train loss: 0.04328, val loss: 0.05099, in 0.031s\n",
            "[1644/4000] 1 tree, 31 leaves, max depth = 13, train loss: 0.04327, val loss: 0.05099, in 0.036s\n",
            "[1645/4000] 1 tree, 31 leaves, max depth = 10, train loss: 0.04327, val loss: 0.05099, in 0.034s\n",
            "[1646/4000] 1 tree, 31 leaves, max depth = 9, train loss: 0.04326, val loss: 0.05099, in 0.032s\n",
            "[1647/4000] 1 tree, 31 leaves, max depth = 13, train loss: 0.04326, val loss: 0.05099, in 0.031s\n",
            "[1648/4000] 1 tree, 31 leaves, max depth = 15, train loss: 0.04326, val loss: 0.05099, in 0.030s\n",
            "[1649/4000] 1 tree, 31 leaves, max depth = 11, train loss: 0.04326, val loss: 0.05099, in 0.029s\n",
            "[1650/4000] 1 tree, 31 leaves, max depth = 12, train loss: 0.04325, val loss: 0.05099, in 0.031s\n",
            "[1651/4000] 1 tree, 31 leaves, max depth = 13, train loss: 0.04325, val loss: 0.05099, in 0.031s\n",
            "[1652/4000] 1 tree, 31 leaves, max depth = 11, train loss: 0.04325, val loss: 0.05099, in 0.031s\n",
            "[1653/4000] 1 tree, 31 leaves, max depth = 15, train loss: 0.04324, val loss: 0.05099, in 0.029s\n",
            "[1654/4000] 1 tree, 31 leaves, max depth = 17, train loss: 0.04324, val loss: 0.05099, in 0.036s\n",
            "[1655/4000] 1 tree, 31 leaves, max depth = 15, train loss: 0.04324, val loss: 0.05099, in 0.035s\n",
            "[1656/4000] 1 tree, 31 leaves, max depth = 9, train loss: 0.04323, val loss: 0.05099, in 0.044s\n",
            "[1657/4000] 1 tree, 31 leaves, max depth = 10, train loss: 0.04323, val loss: 0.05099, in 0.030s\n",
            "[1658/4000] 1 tree, 31 leaves, max depth = 13, train loss: 0.04323, val loss: 0.05099, in 0.031s\n",
            "[1659/4000] 1 tree, 31 leaves, max depth = 17, train loss: 0.04323, val loss: 0.05099, in 0.028s\n",
            "[1660/4000] 1 tree, 31 leaves, max depth = 14, train loss: 0.04322, val loss: 0.05099, in 0.030s\n",
            "[1661/4000] 1 tree, 31 leaves, max depth = 20, train loss: 0.04322, val loss: 0.05099, in 0.029s\n",
            "[1662/4000] 1 tree, 31 leaves, max depth = 16, train loss: 0.04322, val loss: 0.05100, in 0.032s\n",
            "[1663/4000] 1 tree, 31 leaves, max depth = 13, train loss: 0.04322, val loss: 0.05100, in 0.030s\n",
            "[1664/4000] 1 tree, 31 leaves, max depth = 12, train loss: 0.04321, val loss: 0.05100, in 0.030s\n",
            "[1665/4000] 1 tree, 31 leaves, max depth = 10, train loss: 0.04321, val loss: 0.05100, in 0.035s\n",
            "[1666/4000] 1 tree, 31 leaves, max depth = 11, train loss: 0.04320, val loss: 0.05100, in 0.032s\n",
            "[1667/4000] 1 tree, 31 leaves, max depth = 10, train loss: 0.04320, val loss: 0.05100, in 0.034s\n",
            "[1668/4000] 1 tree, 31 leaves, max depth = 12, train loss: 0.04319, val loss: 0.05100, in 0.032s\n",
            "[1669/4000] 1 tree, 31 leaves, max depth = 16, train loss: 0.04319, val loss: 0.05101, in 0.032s\n",
            "[1670/4000] 1 tree, 31 leaves, max depth = 10, train loss: 0.04319, val loss: 0.05101, in 0.049s\n",
            "[1671/4000] 1 tree, 31 leaves, max depth = 13, train loss: 0.04318, val loss: 0.05101, in 0.035s\n",
            "[1672/4000] 1 tree, 31 leaves, max depth = 8, train loss: 0.04318, val loss: 0.05101, in 0.041s\n",
            "[1673/4000] 1 tree, 31 leaves, max depth = 11, train loss: 0.04318, val loss: 0.05101, in 0.036s\n",
            "[1674/4000] 1 tree, 31 leaves, max depth = 11, train loss: 0.04318, val loss: 0.05101, in 0.035s\n",
            "[1675/4000] 1 tree, 31 leaves, max depth = 15, train loss: 0.04317, val loss: 0.05100, in 0.032s\n",
            "[1676/4000] 1 tree, 31 leaves, max depth = 12, train loss: 0.04317, val loss: 0.05101, in 0.029s\n",
            "[1677/4000] 1 tree, 31 leaves, max depth = 17, train loss: 0.04317, val loss: 0.05101, in 0.030s\n",
            "[1678/4000] 1 tree, 31 leaves, max depth = 14, train loss: 0.04317, val loss: 0.05100, in 0.033s\n",
            "[1679/4000] 1 tree, 31 leaves, max depth = 13, train loss: 0.04316, val loss: 0.05100, in 0.043s\n",
            "[1680/4000] 1 tree, 31 leaves, max depth = 12, train loss: 0.04316, val loss: 0.05101, in 0.080s\n",
            "[1681/4000] 1 tree, 31 leaves, max depth = 11, train loss: 0.04315, val loss: 0.05101, in 0.030s\n",
            "[1682/4000] 1 tree, 31 leaves, max depth = 10, train loss: 0.04315, val loss: 0.05100, in 0.035s\n",
            "[1683/4000] 1 tree, 31 leaves, max depth = 13, train loss: 0.04315, val loss: 0.05100, in 0.030s\n",
            "[1684/4000] 1 tree, 31 leaves, max depth = 13, train loss: 0.04315, val loss: 0.05100, in 0.030s\n",
            "[1685/4000] 1 tree, 31 leaves, max depth = 10, train loss: 0.04314, val loss: 0.05100, in 0.032s\n",
            "[1686/4000] 1 tree, 31 leaves, max depth = 15, train loss: 0.04314, val loss: 0.05100, in 0.027s\n",
            "[1687/4000] 1 tree, 31 leaves, max depth = 13, train loss: 0.04313, val loss: 0.05100, in 0.035s\n",
            "[1688/4000] 1 tree, 31 leaves, max depth = 11, train loss: 0.04313, val loss: 0.05100, in 0.033s\n",
            "[1689/4000] 1 tree, 31 leaves, max depth = 16, train loss: 0.04312, val loss: 0.05100, in 0.037s\n",
            "[1690/4000] 1 tree, 31 leaves, max depth = 15, train loss: 0.04312, val loss: 0.05100, in 0.031s\n",
            "[1691/4000] 1 tree, 31 leaves, max depth = 13, train loss: 0.04312, val loss: 0.05100, in 0.028s\n",
            "[1692/4000] 1 tree, 31 leaves, max depth = 18, train loss: 0.04312, val loss: 0.05100, in 0.032s\n",
            "Fit 1692 trees in 59.418 s, (52452 total leaves)\n",
            "Time spent computing histograms: 20.329s\n",
            "Time spent finding best splits:  1.740s\n",
            "Time spent applying splits:      4.091s\n",
            "Time spent predicting:           0.554s\n",
            "Fit End - Prediction Start \n"
          ]
        }
      ],
      "source": [
        "# explicitly require this experimental feature\n",
        "from sklearn.experimental import enable_hist_gradient_boosting  # noqa\n",
        "# now you can import normally from ensemble\n",
        "#from sklearn.ensemble import HistGradientBoostingClassifier\n",
        "from sklearn.ensemble import HistGradientBoostingRegressor\n",
        "from sklearn.ensemble import GradientBoostingClassifier\n",
        "#clf = GradientBoostingClassifier(random_state=0,n_estimators=5250, max_depth=43, verbose=3, tol=0.0001)\n",
        "#clf = HistGradientBoostingClassifier(random_state=1, max_depth=53, verbose=3, tol=0.000001, learning_rate=0.6, max_iter=2000,early_stopping=False,min_samples_leaf=5000, scoring=\"balanced_accuracy\")\n",
        "clf=HistGradientBoostingRegressor(random_state=1, max_depth=113, verbose=3, tol=0.00000001, learning_rate=0.1, max_iter=4000,early_stopping=True,min_samples_leaf=50, loss=\"poisson\",n_iter_no_change=80)\n",
        "\n",
        "clf.fit(X_train_train, y_train_train)\n",
        "print(\"Fit End - Prediction Start \")"
      ]
    },
    {
      "cell_type": "code",
      "execution_count": 177,
      "metadata": {},
      "outputs": [],
      "source": [
        "# test the training set\n",
        "#------------------------------------\n",
        "\n",
        "y_train_train_pred=clf.predict(X_train_train)\n",
        "\n",
        "\n",
        "#------------------------------------"
      ]
    },
    {
      "cell_type": "code",
      "execution_count": 178,
      "metadata": {},
      "outputs": [
        {
          "output_type": "stream",
          "name": "stdout",
          "text": [
            "[5.00000e+00 1.40000e+01 6.60000e+01 2.25000e+02 5.50000e+02 1.05200e+03\n 1.74300e+03 2.59700e+03 3.65500e+03 4.83200e+03 6.16200e+03 7.50300e+03\n 8.98300e+03 1.05170e+04 1.21750e+04 1.39020e+04 1.58670e+04 1.79970e+04\n 2.04600e+04 2.35040e+04 2.70650e+04 3.16700e+04 3.75420e+04 4.57400e+04\n 5.62550e+04 6.86090e+04 8.10990e+04 9.22180e+04 1.01603e+05 1.10011e+05\n 1.18291e+05 1.26142e+05 1.33371e+05 1.40090e+05 1.46200e+05 1.51653e+05\n 1.56585e+05 1.61303e+05 1.65968e+05 1.71278e+05 1.76273e+05 1.79619e+05\n 1.81451e+05 1.82100e+05 1.82304e+05 1.82383e+05 1.82410e+05 1.82415e+05\n 1.82419e+05 1.82420e+05]\n"
          ]
        },
        {
          "output_type": "display_data",
          "data": {
            "text/plain": "<Figure size 432x288 with 1 Axes>",
            "image/svg+xml": "<?xml version=\"1.0\" encoding=\"utf-8\" standalone=\"no\"?>\r\n<!DOCTYPE svg PUBLIC \"-//W3C//DTD SVG 1.1//EN\"\r\n  \"http://www.w3.org/Graphics/SVG/1.1/DTD/svg11.dtd\">\r\n<!-- Created with matplotlib (https://matplotlib.org/) -->\r\n<svg height=\"248.518125pt\" version=\"1.1\" viewBox=\"0 0 401.860698 248.518125\" width=\"401.860698pt\" xmlns=\"http://www.w3.org/2000/svg\" xmlns:xlink=\"http://www.w3.org/1999/xlink\">\r\n <metadata>\r\n  <rdf:RDF xmlns:cc=\"http://creativecommons.org/ns#\" xmlns:dc=\"http://purl.org/dc/elements/1.1/\" xmlns:rdf=\"http://www.w3.org/1999/02/22-rdf-syntax-ns#\">\r\n   <cc:Work>\r\n    <dc:type rdf:resource=\"http://purl.org/dc/dcmitype/StillImage\"/>\r\n    <dc:date>2020-12-14T19:31:09.586043</dc:date>\r\n    <dc:format>image/svg+xml</dc:format>\r\n    <dc:creator>\r\n     <cc:Agent>\r\n      <dc:title>Matplotlib v3.3.3, https://matplotlib.org/</dc:title>\r\n     </cc:Agent>\r\n    </dc:creator>\r\n   </cc:Work>\r\n  </rdf:RDF>\r\n </metadata>\r\n <defs>\r\n  <style type=\"text/css\">*{stroke-linecap:butt;stroke-linejoin:round;}</style>\r\n </defs>\r\n <g id=\"figure_1\">\r\n  <g id=\"patch_1\">\r\n   <path d=\"M 0 248.518125 \r\nL 401.860698 248.518125 \r\nL 401.860698 0 \r\nL 0 0 \r\nz\r\n\" style=\"fill:none;\"/>\r\n  </g>\r\n  <g id=\"axes_1\">\r\n   <g id=\"patch_2\">\r\n    <path d=\"M 52.375 224.64 \r\nL 387.175 224.64 \r\nL 387.175 7.2 \r\nL 52.375 7.2 \r\nz\r\n\" style=\"fill:#ffffff;\"/>\r\n   </g>\r\n   <g id=\"patch_3\">\r\n    <path clip-path=\"url(#p1acecaf116)\" d=\"M 67.593182 224.64 \r\nL 73.680455 224.64 \r\nL 73.680455 224.634324 \r\nL 67.593182 224.634324 \r\nz\r\n\" style=\"fill:#1f77b4;\"/>\r\n   </g>\r\n   <g id=\"patch_4\">\r\n    <path clip-path=\"url(#p1acecaf116)\" d=\"M 73.680455 224.64 \r\nL 79.767727 224.64 \r\nL 79.767727 224.624107 \r\nL 73.680455 224.624107 \r\nz\r\n\" style=\"fill:#1f77b4;\"/>\r\n   </g>\r\n   <g id=\"patch_5\">\r\n    <path clip-path=\"url(#p1acecaf116)\" d=\"M 79.767727 224.64 \r\nL 85.855 224.64 \r\nL 85.855 224.565076 \r\nL 79.767727 224.565076 \r\nz\r\n\" style=\"fill:#1f77b4;\"/>\r\n   </g>\r\n   <g id=\"patch_6\">\r\n    <path clip-path=\"url(#p1acecaf116)\" d=\"M 85.855 224.64 \r\nL 91.942273 224.64 \r\nL 91.942273 224.384577 \r\nL 85.855 224.384577 \r\nz\r\n\" style=\"fill:#1f77b4;\"/>\r\n   </g>\r\n   <g id=\"patch_7\">\r\n    <path clip-path=\"url(#p1acecaf116)\" d=\"M 91.942273 224.64 \r\nL 98.029545 224.64 \r\nL 98.029545 224.015632 \r\nL 91.942273 224.015632 \r\nz\r\n\" style=\"fill:#1f77b4;\"/>\r\n   </g>\r\n   <g id=\"patch_8\">\r\n    <path clip-path=\"url(#p1acecaf116)\" d=\"M 98.029545 224.64 \r\nL 104.116818 224.64 \r\nL 104.116818 223.445755 \r\nL 98.029545 223.445755 \r\nz\r\n\" style=\"fill:#1f77b4;\"/>\r\n   </g>\r\n   <g id=\"patch_9\">\r\n    <path clip-path=\"url(#p1acecaf116)\" d=\"M 104.116818 224.64 \r\nL 110.204091 224.64 \r\nL 110.204091 222.661322 \r\nL 104.116818 222.661322 \r\nz\r\n\" style=\"fill:#1f77b4;\"/>\r\n   </g>\r\n   <g id=\"patch_10\">\r\n    <path clip-path=\"url(#p1acecaf116)\" d=\"M 110.204091 224.64 \r\nL 116.291364 224.64 \r\nL 116.291364 221.69185 \r\nL 110.204091 221.69185 \r\nz\r\n\" style=\"fill:#1f77b4;\"/>\r\n   </g>\r\n   <g id=\"patch_11\">\r\n    <path clip-path=\"url(#p1acecaf116)\" d=\"M 116.291364 224.64 \r\nL 122.378636 224.64 \r\nL 122.378636 220.490793 \r\nL 116.291364 220.490793 \r\nz\r\n\" style=\"fill:#1f77b4;\"/>\r\n   </g>\r\n   <g id=\"patch_12\">\r\n    <path clip-path=\"url(#p1acecaf116)\" d=\"M 122.378636 224.64 \r\nL 128.465909 224.64 \r\nL 128.465909 219.154647 \r\nL 122.378636 219.154647 \r\nz\r\n\" style=\"fill:#1f77b4;\"/>\r\n   </g>\r\n   <g id=\"patch_13\">\r\n    <path clip-path=\"url(#p1acecaf116)\" d=\"M 128.465909 224.64 \r\nL 134.553182 224.64 \r\nL 134.553182 217.644812 \r\nL 128.465909 217.644812 \r\nz\r\n\" style=\"fill:#1f77b4;\"/>\r\n   </g>\r\n   <g id=\"patch_14\">\r\n    <path clip-path=\"url(#p1acecaf116)\" d=\"M 134.553182 224.64 \r\nL 140.640455 224.64 \r\nL 140.640455 216.12249 \r\nL 134.553182 216.12249 \r\nz\r\n\" style=\"fill:#1f77b4;\"/>\r\n   </g>\r\n   <g id=\"patch_15\">\r\n    <path clip-path=\"url(#p1acecaf116)\" d=\"M 140.640455 224.64 \r\nL 146.727727 224.64 \r\nL 146.727727 214.442374 \r\nL 140.640455 214.442374 \r\nz\r\n\" style=\"fill:#1f77b4;\"/>\r\n   </g>\r\n   <g id=\"patch_16\">\r\n    <path clip-path=\"url(#p1acecaf116)\" d=\"M 146.727727 224.64 \r\nL 152.815 224.64 \r\nL 152.815 212.700956 \r\nL 146.727727 212.700956 \r\nz\r\n\" style=\"fill:#1f77b4;\"/>\r\n   </g>\r\n   <g id=\"patch_17\">\r\n    <path clip-path=\"url(#p1acecaf116)\" d=\"M 152.815 224.64 \r\nL 158.902273 224.64 \r\nL 158.902273 210.818771 \r\nL 152.815 210.818771 \r\nz\r\n\" style=\"fill:#1f77b4;\"/>\r\n   </g>\r\n   <g id=\"patch_18\">\r\n    <path clip-path=\"url(#p1acecaf116)\" d=\"M 158.902273 224.64 \r\nL 164.989545 224.64 \r\nL 164.989545 208.858257 \r\nL 158.902273 208.858257 \r\nz\r\n\" style=\"fill:#1f77b4;\"/>\r\n   </g>\r\n   <g id=\"patch_19\">\r\n    <path clip-path=\"url(#p1acecaf116)\" d=\"M 164.989545 224.64 \r\nL 171.076818 224.64 \r\nL 171.076818 206.627562 \r\nL 164.989545 206.627562 \r\nz\r\n\" style=\"fill:#1f77b4;\"/>\r\n   </g>\r\n   <g id=\"patch_20\">\r\n    <path clip-path=\"url(#p1acecaf116)\" d=\"M 171.076818 224.64 \r\nL 177.164091 224.64 \r\nL 177.164091 204.209556 \r\nL 171.076818 204.209556 \r\nz\r\n\" style=\"fill:#1f77b4;\"/>\r\n   </g>\r\n   <g id=\"patch_21\">\r\n    <path clip-path=\"url(#p1acecaf116)\" d=\"M 177.164091 224.64 \r\nL 183.251364 224.64 \r\nL 183.251364 201.413524 \r\nL 177.164091 201.413524 \r\nz\r\n\" style=\"fill:#1f77b4;\"/>\r\n   </g>\r\n   <g id=\"patch_22\">\r\n    <path clip-path=\"url(#p1acecaf116)\" d=\"M 183.251364 224.64 \r\nL 189.338636 224.64 \r\nL 189.338636 197.957933 \r\nL 183.251364 197.957933 \r\nz\r\n\" style=\"fill:#1f77b4;\"/>\r\n   </g>\r\n   <g id=\"patch_23\">\r\n    <path clip-path=\"url(#p1acecaf116)\" d=\"M 189.338636 224.64 \r\nL 195.425909 224.64 \r\nL 195.425909 193.915437 \r\nL 189.338636 193.915437 \r\nz\r\n\" style=\"fill:#1f77b4;\"/>\r\n   </g>\r\n   <g id=\"patch_24\">\r\n    <path clip-path=\"url(#p1acecaf116)\" d=\"M 195.425909 224.64 \r\nL 201.513182 224.64 \r\nL 201.513182 188.687777 \r\nL 195.425909 188.687777 \r\nz\r\n\" style=\"fill:#1f77b4;\"/>\r\n   </g>\r\n   <g id=\"patch_25\">\r\n    <path clip-path=\"url(#p1acecaf116)\" d=\"M 201.513182 224.64 \r\nL 207.600455 224.64 \r\nL 207.600455 182.021801 \r\nL 201.513182 182.021801 \r\nz\r\n\" style=\"fill:#1f77b4;\"/>\r\n   </g>\r\n   <g id=\"patch_26\">\r\n    <path clip-path=\"url(#p1acecaf116)\" d=\"M 207.600455 224.64 \r\nL 213.687727 224.64 \r\nL 213.687727 172.715318 \r\nL 207.600455 172.715318 \r\nz\r\n\" style=\"fill:#1f77b4;\"/>\r\n   </g>\r\n   <g id=\"patch_27\">\r\n    <path clip-path=\"url(#p1acecaf116)\" d=\"M 213.687727 224.64 \r\nL 219.775 224.64 \r\nL 219.775 160.778544 \r\nL 213.687727 160.778544 \r\nz\r\n\" style=\"fill:#1f77b4;\"/>\r\n   </g>\r\n   <g id=\"patch_28\">\r\n    <path clip-path=\"url(#p1acecaf116)\" d=\"M 219.775 224.64 \r\nL 225.862273 224.64 \r\nL 225.862273 146.754112 \r\nL 219.775 146.754112 \r\nz\r\n\" style=\"fill:#1f77b4;\"/>\r\n   </g>\r\n   <g id=\"patch_29\">\r\n    <path clip-path=\"url(#p1acecaf116)\" d=\"M 225.862273 224.64 \r\nL 231.949545 224.64 \r\nL 231.949545 132.57529 \r\nL 225.862273 132.57529 \r\nz\r\n\" style=\"fill:#1f77b4;\"/>\r\n   </g>\r\n   <g id=\"patch_30\">\r\n    <path clip-path=\"url(#p1acecaf116)\" d=\"M 231.949545 224.64 \r\nL 238.036818 224.64 \r\nL 238.036818 119.952847 \r\nL 231.949545 119.952847 \r\nz\r\n\" style=\"fill:#1f77b4;\"/>\r\n   </g>\r\n   <g id=\"patch_31\">\r\n    <path clip-path=\"url(#p1acecaf116)\" d=\"M 238.036818 224.64 \r\nL 244.124091 224.64 \r\nL 244.124091 109.298865 \r\nL 238.036818 109.298865 \r\nz\r\n\" style=\"fill:#1f77b4;\"/>\r\n   </g>\r\n   <g id=\"patch_32\">\r\n    <path clip-path=\"url(#p1acecaf116)\" d=\"M 244.124091 224.64 \r\nL 250.211364 224.64 \r\nL 250.211364 99.753987 \r\nL 244.124091 99.753987 \r\nz\r\n\" style=\"fill:#1f77b4;\"/>\r\n   </g>\r\n   <g id=\"patch_33\">\r\n    <path clip-path=\"url(#p1acecaf116)\" d=\"M 250.211364 224.64 \r\nL 256.298636 224.64 \r\nL 256.298636 90.354416 \r\nL 250.211364 90.354416 \r\nz\r\n\" style=\"fill:#1f77b4;\"/>\r\n   </g>\r\n   <g id=\"patch_34\">\r\n    <path clip-path=\"url(#p1acecaf116)\" d=\"M 256.298636 224.64 \r\nL 262.385909 224.64 \r\nL 262.385909 81.441852 \r\nL 256.298636 81.441852 \r\nz\r\n\" style=\"fill:#1f77b4;\"/>\r\n   </g>\r\n   <g id=\"patch_35\">\r\n    <path clip-path=\"url(#p1acecaf116)\" d=\"M 262.385909 224.64 \r\nL 268.473182 224.64 \r\nL 268.473182 73.235391 \r\nL 262.385909 73.235391 \r\nz\r\n\" style=\"fill:#1f77b4;\"/>\r\n   </g>\r\n   <g id=\"patch_36\">\r\n    <path clip-path=\"url(#p1acecaf116)\" d=\"M 268.473182 224.64 \r\nL 274.560455 224.64 \r\nL 274.560455 65.607889 \r\nL 268.473182 65.607889 \r\nz\r\n\" style=\"fill:#1f77b4;\"/>\r\n   </g>\r\n   <g id=\"patch_37\">\r\n    <path clip-path=\"url(#p1acecaf116)\" d=\"M 274.560455 224.64 \r\nL 280.647727 224.64 \r\nL 280.647727 58.671732 \r\nL 274.560455 58.671732 \r\nz\r\n\" style=\"fill:#1f77b4;\"/>\r\n   </g>\r\n   <g id=\"patch_38\">\r\n    <path clip-path=\"url(#p1acecaf116)\" d=\"M 280.647727 224.64 \r\nL 286.735 224.64 \r\nL 286.735 52.481411 \r\nL 280.647727 52.481411 \r\nz\r\n\" style=\"fill:#1f77b4;\"/>\r\n   </g>\r\n   <g id=\"patch_39\">\r\n    <path clip-path=\"url(#p1acecaf116)\" d=\"M 286.735 224.64 \r\nL 292.822273 224.64 \r\nL 292.822273 46.882536 \r\nL 286.735 46.882536 \r\nz\r\n\" style=\"fill:#1f77b4;\"/>\r\n   </g>\r\n   <g id=\"patch_40\">\r\n    <path clip-path=\"url(#p1acecaf116)\" d=\"M 292.822273 224.64 \r\nL 298.909545 224.64 \r\nL 298.909545 41.526597 \r\nL 292.822273 41.526597 \r\nz\r\n\" style=\"fill:#1f77b4;\"/>\r\n   </g>\r\n   <g id=\"patch_41\">\r\n    <path clip-path=\"url(#p1acecaf116)\" d=\"M 298.909545 224.64 \r\nL 304.996818 224.64 \r\nL 304.996818 36.230824 \r\nL 298.909545 36.230824 \r\nz\r\n\" style=\"fill:#1f77b4;\"/>\r\n   </g>\r\n   <g id=\"patch_42\">\r\n    <path clip-path=\"url(#p1acecaf116)\" d=\"M 304.996818 224.64 \r\nL 311.084091 224.64 \r\nL 311.084091 30.202839 \r\nL 304.996818 30.202839 \r\nz\r\n\" style=\"fill:#1f77b4;\"/>\r\n   </g>\r\n   <g id=\"patch_43\">\r\n    <path clip-path=\"url(#p1acecaf116)\" d=\"M 311.084091 224.64 \r\nL 317.171364 224.64 \r\nL 317.171364 24.532445 \r\nL 311.084091 24.532445 \r\nz\r\n\" style=\"fill:#1f77b4;\"/>\r\n   </g>\r\n   <g id=\"patch_44\">\r\n    <path clip-path=\"url(#p1acecaf116)\" d=\"M 317.171364 224.64 \r\nL 323.258636 224.64 \r\nL 323.258636 20.73402 \r\nL 317.171364 20.73402 \r\nz\r\n\" style=\"fill:#1f77b4;\"/>\r\n   </g>\r\n   <g id=\"patch_45\">\r\n    <path clip-path=\"url(#p1acecaf116)\" d=\"M 323.258636 224.64 \r\nL 329.345909 224.64 \r\nL 329.345909 18.654308 \r\nL 323.258636 18.654308 \r\nz\r\n\" style=\"fill:#1f77b4;\"/>\r\n   </g>\r\n   <g id=\"patch_46\">\r\n    <path clip-path=\"url(#p1acecaf116)\" d=\"M 329.345909 224.64 \r\nL 335.433182 224.64 \r\nL 335.433182 17.917554 \r\nL 329.345909 17.917554 \r\nz\r\n\" style=\"fill:#1f77b4;\"/>\r\n   </g>\r\n   <g id=\"patch_47\">\r\n    <path clip-path=\"url(#p1acecaf116)\" d=\"M 335.433182 224.64 \r\nL 341.520455 224.64 \r\nL 341.520455 17.685971 \r\nL 335.433182 17.685971 \r\nz\r\n\" style=\"fill:#1f77b4;\"/>\r\n   </g>\r\n   <g id=\"patch_48\">\r\n    <path clip-path=\"url(#p1acecaf116)\" d=\"M 341.520455 224.64 \r\nL 347.607727 224.64 \r\nL 347.607727 17.596289 \r\nL 341.520455 17.596289 \r\nz\r\n\" style=\"fill:#1f77b4;\"/>\r\n   </g>\r\n   <g id=\"patch_49\">\r\n    <path clip-path=\"url(#p1acecaf116)\" d=\"M 347.607727 224.64 \r\nL 353.695 224.64 \r\nL 353.695 17.565638 \r\nL 347.607727 17.565638 \r\nz\r\n\" style=\"fill:#1f77b4;\"/>\r\n   </g>\r\n   <g id=\"patch_50\">\r\n    <path clip-path=\"url(#p1acecaf116)\" d=\"M 353.695 224.64 \r\nL 359.782273 224.64 \r\nL 359.782273 17.559962 \r\nL 353.695 17.559962 \r\nz\r\n\" style=\"fill:#1f77b4;\"/>\r\n   </g>\r\n   <g id=\"patch_51\">\r\n    <path clip-path=\"url(#p1acecaf116)\" d=\"M 359.782273 224.64 \r\nL 365.869545 224.64 \r\nL 365.869545 17.555421 \r\nL 359.782273 17.555421 \r\nz\r\n\" style=\"fill:#1f77b4;\"/>\r\n   </g>\r\n   <g id=\"patch_52\">\r\n    <path clip-path=\"url(#p1acecaf116)\" d=\"M 365.869545 224.64 \r\nL 371.956818 224.64 \r\nL 371.956818 17.554286 \r\nL 365.869545 17.554286 \r\nz\r\n\" style=\"fill:#1f77b4;\"/>\r\n   </g>\r\n   <g id=\"matplotlib.axis_1\">\r\n    <g id=\"xtick_1\">\r\n     <g id=\"line2d_1\">\r\n      <defs>\r\n       <path d=\"M 0 0 \r\nL 0 3.5 \r\n\" id=\"m8904d14b01\" style=\"stroke:#000000;stroke-width:0.8;\"/>\r\n      </defs>\r\n      <g>\r\n       <use style=\"stroke:#000000;stroke-width:0.8;\" x=\"93.304573\" xlink:href=\"#m8904d14b01\" y=\"224.64\"/>\r\n      </g>\r\n     </g>\r\n     <g id=\"text_1\">\r\n      <!-- 1.0 -->\r\n      <g transform=\"translate(85.35301 239.238437)scale(0.1 -0.1)\">\r\n       <defs>\r\n        <path d=\"M 12.40625 8.296875 \r\nL 28.515625 8.296875 \r\nL 28.515625 63.921875 \r\nL 10.984375 60.40625 \r\nL 10.984375 69.390625 \r\nL 28.421875 72.90625 \r\nL 38.28125 72.90625 \r\nL 38.28125 8.296875 \r\nL 54.390625 8.296875 \r\nL 54.390625 0 \r\nL 12.40625 0 \r\nz\r\n\" id=\"DejaVuSans-49\"/>\r\n        <path d=\"M 10.6875 12.40625 \r\nL 21 12.40625 \r\nL 21 0 \r\nL 10.6875 0 \r\nz\r\n\" id=\"DejaVuSans-46\"/>\r\n        <path d=\"M 31.78125 66.40625 \r\nQ 24.171875 66.40625 20.328125 58.90625 \r\nQ 16.5 51.421875 16.5 36.375 \r\nQ 16.5 21.390625 20.328125 13.890625 \r\nQ 24.171875 6.390625 31.78125 6.390625 \r\nQ 39.453125 6.390625 43.28125 13.890625 \r\nQ 47.125 21.390625 47.125 36.375 \r\nQ 47.125 51.421875 43.28125 58.90625 \r\nQ 39.453125 66.40625 31.78125 66.40625 \r\nz\r\nM 31.78125 74.21875 \r\nQ 44.046875 74.21875 50.515625 64.515625 \r\nQ 56.984375 54.828125 56.984375 36.375 \r\nQ 56.984375 17.96875 50.515625 8.265625 \r\nQ 44.046875 -1.421875 31.78125 -1.421875 \r\nQ 19.53125 -1.421875 13.0625 8.265625 \r\nQ 6.59375 17.96875 6.59375 36.375 \r\nQ 6.59375 54.828125 13.0625 64.515625 \r\nQ 19.53125 74.21875 31.78125 74.21875 \r\nz\r\n\" id=\"DejaVuSans-48\"/>\r\n       </defs>\r\n       <use xlink:href=\"#DejaVuSans-49\"/>\r\n       <use x=\"63.623047\" xlink:href=\"#DejaVuSans-46\"/>\r\n       <use x=\"95.410156\" xlink:href=\"#DejaVuSans-48\"/>\r\n      </g>\r\n     </g>\r\n    </g>\r\n    <g id=\"xtick_2\">\r\n     <g id=\"line2d_2\">\r\n      <g>\r\n       <use style=\"stroke:#000000;stroke-width:0.8;\" x=\"151.985485\" xlink:href=\"#m8904d14b01\" y=\"224.64\"/>\r\n      </g>\r\n     </g>\r\n     <g id=\"text_2\">\r\n      <!-- 1.5 -->\r\n      <g transform=\"translate(144.033923 239.238437)scale(0.1 -0.1)\">\r\n       <defs>\r\n        <path d=\"M 10.796875 72.90625 \r\nL 49.515625 72.90625 \r\nL 49.515625 64.59375 \r\nL 19.828125 64.59375 \r\nL 19.828125 46.734375 \r\nQ 21.96875 47.46875 24.109375 47.828125 \r\nQ 26.265625 48.1875 28.421875 48.1875 \r\nQ 40.625 48.1875 47.75 41.5 \r\nQ 54.890625 34.8125 54.890625 23.390625 \r\nQ 54.890625 11.625 47.5625 5.09375 \r\nQ 40.234375 -1.421875 26.90625 -1.421875 \r\nQ 22.3125 -1.421875 17.546875 -0.640625 \r\nQ 12.796875 0.140625 7.71875 1.703125 \r\nL 7.71875 11.625 \r\nQ 12.109375 9.234375 16.796875 8.0625 \r\nQ 21.484375 6.890625 26.703125 6.890625 \r\nQ 35.15625 6.890625 40.078125 11.328125 \r\nQ 45.015625 15.765625 45.015625 23.390625 \r\nQ 45.015625 31 40.078125 35.4375 \r\nQ 35.15625 39.890625 26.703125 39.890625 \r\nQ 22.75 39.890625 18.8125 39.015625 \r\nQ 14.890625 38.140625 10.796875 36.28125 \r\nz\r\n\" id=\"DejaVuSans-53\"/>\r\n       </defs>\r\n       <use xlink:href=\"#DejaVuSans-49\"/>\r\n       <use x=\"63.623047\" xlink:href=\"#DejaVuSans-46\"/>\r\n       <use x=\"95.410156\" xlink:href=\"#DejaVuSans-53\"/>\r\n      </g>\r\n     </g>\r\n    </g>\r\n    <g id=\"xtick_3\">\r\n     <g id=\"line2d_3\">\r\n      <g>\r\n       <use style=\"stroke:#000000;stroke-width:0.8;\" x=\"210.666398\" xlink:href=\"#m8904d14b01\" y=\"224.64\"/>\r\n      </g>\r\n     </g>\r\n     <g id=\"text_3\">\r\n      <!-- 2.0 -->\r\n      <g transform=\"translate(202.714835 239.238437)scale(0.1 -0.1)\">\r\n       <defs>\r\n        <path d=\"M 19.1875 8.296875 \r\nL 53.609375 8.296875 \r\nL 53.609375 0 \r\nL 7.328125 0 \r\nL 7.328125 8.296875 \r\nQ 12.9375 14.109375 22.625 23.890625 \r\nQ 32.328125 33.6875 34.8125 36.53125 \r\nQ 39.546875 41.84375 41.421875 45.53125 \r\nQ 43.3125 49.21875 43.3125 52.78125 \r\nQ 43.3125 58.59375 39.234375 62.25 \r\nQ 35.15625 65.921875 28.609375 65.921875 \r\nQ 23.96875 65.921875 18.8125 64.3125 \r\nQ 13.671875 62.703125 7.8125 59.421875 \r\nL 7.8125 69.390625 \r\nQ 13.765625 71.78125 18.9375 73 \r\nQ 24.125 74.21875 28.421875 74.21875 \r\nQ 39.75 74.21875 46.484375 68.546875 \r\nQ 53.21875 62.890625 53.21875 53.421875 \r\nQ 53.21875 48.921875 51.53125 44.890625 \r\nQ 49.859375 40.875 45.40625 35.40625 \r\nQ 44.1875 33.984375 37.640625 27.21875 \r\nQ 31.109375 20.453125 19.1875 8.296875 \r\nz\r\n\" id=\"DejaVuSans-50\"/>\r\n       </defs>\r\n       <use xlink:href=\"#DejaVuSans-50\"/>\r\n       <use x=\"63.623047\" xlink:href=\"#DejaVuSans-46\"/>\r\n       <use x=\"95.410156\" xlink:href=\"#DejaVuSans-48\"/>\r\n      </g>\r\n     </g>\r\n    </g>\r\n    <g id=\"xtick_4\">\r\n     <g id=\"line2d_4\">\r\n      <g>\r\n       <use style=\"stroke:#000000;stroke-width:0.8;\" x=\"269.34731\" xlink:href=\"#m8904d14b01\" y=\"224.64\"/>\r\n      </g>\r\n     </g>\r\n     <g id=\"text_4\">\r\n      <!-- 2.5 -->\r\n      <g transform=\"translate(261.395748 239.238437)scale(0.1 -0.1)\">\r\n       <use xlink:href=\"#DejaVuSans-50\"/>\r\n       <use x=\"63.623047\" xlink:href=\"#DejaVuSans-46\"/>\r\n       <use x=\"95.410156\" xlink:href=\"#DejaVuSans-53\"/>\r\n      </g>\r\n     </g>\r\n    </g>\r\n    <g id=\"xtick_5\">\r\n     <g id=\"line2d_5\">\r\n      <g>\r\n       <use style=\"stroke:#000000;stroke-width:0.8;\" x=\"328.028223\" xlink:href=\"#m8904d14b01\" y=\"224.64\"/>\r\n      </g>\r\n     </g>\r\n     <g id=\"text_5\">\r\n      <!-- 3.0 -->\r\n      <g transform=\"translate(320.07666 239.238437)scale(0.1 -0.1)\">\r\n       <defs>\r\n        <path d=\"M 40.578125 39.3125 \r\nQ 47.65625 37.796875 51.625 33 \r\nQ 55.609375 28.21875 55.609375 21.1875 \r\nQ 55.609375 10.40625 48.1875 4.484375 \r\nQ 40.765625 -1.421875 27.09375 -1.421875 \r\nQ 22.515625 -1.421875 17.65625 -0.515625 \r\nQ 12.796875 0.390625 7.625 2.203125 \r\nL 7.625 11.71875 \r\nQ 11.71875 9.328125 16.59375 8.109375 \r\nQ 21.484375 6.890625 26.8125 6.890625 \r\nQ 36.078125 6.890625 40.9375 10.546875 \r\nQ 45.796875 14.203125 45.796875 21.1875 \r\nQ 45.796875 27.640625 41.28125 31.265625 \r\nQ 36.765625 34.90625 28.71875 34.90625 \r\nL 20.21875 34.90625 \r\nL 20.21875 43.015625 \r\nL 29.109375 43.015625 \r\nQ 36.375 43.015625 40.234375 45.921875 \r\nQ 44.09375 48.828125 44.09375 54.296875 \r\nQ 44.09375 59.90625 40.109375 62.90625 \r\nQ 36.140625 65.921875 28.71875 65.921875 \r\nQ 24.65625 65.921875 20.015625 65.03125 \r\nQ 15.375 64.15625 9.8125 62.3125 \r\nL 9.8125 71.09375 \r\nQ 15.4375 72.65625 20.34375 73.4375 \r\nQ 25.25 74.21875 29.59375 74.21875 \r\nQ 40.828125 74.21875 47.359375 69.109375 \r\nQ 53.90625 64.015625 53.90625 55.328125 \r\nQ 53.90625 49.265625 50.4375 45.09375 \r\nQ 46.96875 40.921875 40.578125 39.3125 \r\nz\r\n\" id=\"DejaVuSans-51\"/>\r\n       </defs>\r\n       <use xlink:href=\"#DejaVuSans-51\"/>\r\n       <use x=\"63.623047\" xlink:href=\"#DejaVuSans-46\"/>\r\n       <use x=\"95.410156\" xlink:href=\"#DejaVuSans-48\"/>\r\n      </g>\r\n     </g>\r\n    </g>\r\n    <g id=\"xtick_6\">\r\n     <g id=\"line2d_6\">\r\n      <g>\r\n       <use style=\"stroke:#000000;stroke-width:0.8;\" x=\"386.709135\" xlink:href=\"#m8904d14b01\" y=\"224.64\"/>\r\n      </g>\r\n     </g>\r\n     <g id=\"text_6\">\r\n      <!-- 3.5 -->\r\n      <g transform=\"translate(378.757573 239.238437)scale(0.1 -0.1)\">\r\n       <use xlink:href=\"#DejaVuSans-51\"/>\r\n       <use x=\"63.623047\" xlink:href=\"#DejaVuSans-46\"/>\r\n       <use x=\"95.410156\" xlink:href=\"#DejaVuSans-53\"/>\r\n      </g>\r\n     </g>\r\n    </g>\r\n   </g>\r\n   <g id=\"matplotlib.axis_2\">\r\n    <g id=\"ytick_1\">\r\n     <g id=\"line2d_7\">\r\n      <defs>\r\n       <path d=\"M 0 0 \r\nL -3.5 0 \r\n\" id=\"m20d9ec1db3\" style=\"stroke:#000000;stroke-width:0.8;\"/>\r\n      </defs>\r\n      <g>\r\n       <use style=\"stroke:#000000;stroke-width:0.8;\" x=\"52.375\" xlink:href=\"#m20d9ec1db3\" y=\"224.64\"/>\r\n      </g>\r\n     </g>\r\n     <g id=\"text_7\">\r\n      <!-- 0 -->\r\n      <g transform=\"translate(39.0125 228.439219)scale(0.1 -0.1)\">\r\n       <use xlink:href=\"#DejaVuSans-48\"/>\r\n      </g>\r\n     </g>\r\n    </g>\r\n    <g id=\"ytick_2\">\r\n     <g id=\"line2d_8\">\r\n      <g>\r\n       <use style=\"stroke:#000000;stroke-width:0.8;\" x=\"52.375\" xlink:href=\"#m20d9ec1db3\" y=\"196.259653\"/>\r\n      </g>\r\n     </g>\r\n     <g id=\"text_8\">\r\n      <!-- 25000 -->\r\n      <g transform=\"translate(13.5625 200.058872)scale(0.1 -0.1)\">\r\n       <use xlink:href=\"#DejaVuSans-50\"/>\r\n       <use x=\"63.623047\" xlink:href=\"#DejaVuSans-53\"/>\r\n       <use x=\"127.246094\" xlink:href=\"#DejaVuSans-48\"/>\r\n       <use x=\"190.869141\" xlink:href=\"#DejaVuSans-48\"/>\r\n       <use x=\"254.492188\" xlink:href=\"#DejaVuSans-48\"/>\r\n      </g>\r\n     </g>\r\n    </g>\r\n    <g id=\"ytick_3\">\r\n     <g id=\"line2d_9\">\r\n      <g>\r\n       <use style=\"stroke:#000000;stroke-width:0.8;\" x=\"52.375\" xlink:href=\"#m20d9ec1db3\" y=\"167.879306\"/>\r\n      </g>\r\n     </g>\r\n     <g id=\"text_9\">\r\n      <!-- 50000 -->\r\n      <g transform=\"translate(13.5625 171.678525)scale(0.1 -0.1)\">\r\n       <use xlink:href=\"#DejaVuSans-53\"/>\r\n       <use x=\"63.623047\" xlink:href=\"#DejaVuSans-48\"/>\r\n       <use x=\"127.246094\" xlink:href=\"#DejaVuSans-48\"/>\r\n       <use x=\"190.869141\" xlink:href=\"#DejaVuSans-48\"/>\r\n       <use x=\"254.492188\" xlink:href=\"#DejaVuSans-48\"/>\r\n      </g>\r\n     </g>\r\n    </g>\r\n    <g id=\"ytick_4\">\r\n     <g id=\"line2d_10\">\r\n      <g>\r\n       <use style=\"stroke:#000000;stroke-width:0.8;\" x=\"52.375\" xlink:href=\"#m20d9ec1db3\" y=\"139.49896\"/>\r\n      </g>\r\n     </g>\r\n     <g id=\"text_10\">\r\n      <!-- 75000 -->\r\n      <g transform=\"translate(13.5625 143.298178)scale(0.1 -0.1)\">\r\n       <defs>\r\n        <path d=\"M 8.203125 72.90625 \r\nL 55.078125 72.90625 \r\nL 55.078125 68.703125 \r\nL 28.609375 0 \r\nL 18.3125 0 \r\nL 43.21875 64.59375 \r\nL 8.203125 64.59375 \r\nz\r\n\" id=\"DejaVuSans-55\"/>\r\n       </defs>\r\n       <use xlink:href=\"#DejaVuSans-55\"/>\r\n       <use x=\"63.623047\" xlink:href=\"#DejaVuSans-53\"/>\r\n       <use x=\"127.246094\" xlink:href=\"#DejaVuSans-48\"/>\r\n       <use x=\"190.869141\" xlink:href=\"#DejaVuSans-48\"/>\r\n       <use x=\"254.492188\" xlink:href=\"#DejaVuSans-48\"/>\r\n      </g>\r\n     </g>\r\n    </g>\r\n    <g id=\"ytick_5\">\r\n     <g id=\"line2d_11\">\r\n      <g>\r\n       <use style=\"stroke:#000000;stroke-width:0.8;\" x=\"52.375\" xlink:href=\"#m20d9ec1db3\" y=\"111.118613\"/>\r\n      </g>\r\n     </g>\r\n     <g id=\"text_11\">\r\n      <!-- 100000 -->\r\n      <g transform=\"translate(7.2 114.917832)scale(0.1 -0.1)\">\r\n       <use xlink:href=\"#DejaVuSans-49\"/>\r\n       <use x=\"63.623047\" xlink:href=\"#DejaVuSans-48\"/>\r\n       <use x=\"127.246094\" xlink:href=\"#DejaVuSans-48\"/>\r\n       <use x=\"190.869141\" xlink:href=\"#DejaVuSans-48\"/>\r\n       <use x=\"254.492188\" xlink:href=\"#DejaVuSans-48\"/>\r\n       <use x=\"318.115234\" xlink:href=\"#DejaVuSans-48\"/>\r\n      </g>\r\n     </g>\r\n    </g>\r\n    <g id=\"ytick_6\">\r\n     <g id=\"line2d_12\">\r\n      <g>\r\n       <use style=\"stroke:#000000;stroke-width:0.8;\" x=\"52.375\" xlink:href=\"#m20d9ec1db3\" y=\"82.738266\"/>\r\n      </g>\r\n     </g>\r\n     <g id=\"text_12\">\r\n      <!-- 125000 -->\r\n      <g transform=\"translate(7.2 86.537485)scale(0.1 -0.1)\">\r\n       <use xlink:href=\"#DejaVuSans-49\"/>\r\n       <use x=\"63.623047\" xlink:href=\"#DejaVuSans-50\"/>\r\n       <use x=\"127.246094\" xlink:href=\"#DejaVuSans-53\"/>\r\n       <use x=\"190.869141\" xlink:href=\"#DejaVuSans-48\"/>\r\n       <use x=\"254.492188\" xlink:href=\"#DejaVuSans-48\"/>\r\n       <use x=\"318.115234\" xlink:href=\"#DejaVuSans-48\"/>\r\n      </g>\r\n     </g>\r\n    </g>\r\n    <g id=\"ytick_7\">\r\n     <g id=\"line2d_13\">\r\n      <g>\r\n       <use style=\"stroke:#000000;stroke-width:0.8;\" x=\"52.375\" xlink:href=\"#m20d9ec1db3\" y=\"54.357919\"/>\r\n      </g>\r\n     </g>\r\n     <g id=\"text_13\">\r\n      <!-- 150000 -->\r\n      <g transform=\"translate(7.2 58.157138)scale(0.1 -0.1)\">\r\n       <use xlink:href=\"#DejaVuSans-49\"/>\r\n       <use x=\"63.623047\" xlink:href=\"#DejaVuSans-53\"/>\r\n       <use x=\"127.246094\" xlink:href=\"#DejaVuSans-48\"/>\r\n       <use x=\"190.869141\" xlink:href=\"#DejaVuSans-48\"/>\r\n       <use x=\"254.492188\" xlink:href=\"#DejaVuSans-48\"/>\r\n       <use x=\"318.115234\" xlink:href=\"#DejaVuSans-48\"/>\r\n      </g>\r\n     </g>\r\n    </g>\r\n    <g id=\"ytick_8\">\r\n     <g id=\"line2d_14\">\r\n      <g>\r\n       <use style=\"stroke:#000000;stroke-width:0.8;\" x=\"52.375\" xlink:href=\"#m20d9ec1db3\" y=\"25.977573\"/>\r\n      </g>\r\n     </g>\r\n     <g id=\"text_14\">\r\n      <!-- 175000 -->\r\n      <g transform=\"translate(7.2 29.776791)scale(0.1 -0.1)\">\r\n       <use xlink:href=\"#DejaVuSans-49\"/>\r\n       <use x=\"63.623047\" xlink:href=\"#DejaVuSans-55\"/>\r\n       <use x=\"127.246094\" xlink:href=\"#DejaVuSans-53\"/>\r\n       <use x=\"190.869141\" xlink:href=\"#DejaVuSans-48\"/>\r\n       <use x=\"254.492188\" xlink:href=\"#DejaVuSans-48\"/>\r\n       <use x=\"318.115234\" xlink:href=\"#DejaVuSans-48\"/>\r\n      </g>\r\n     </g>\r\n    </g>\r\n   </g>\r\n   <g id=\"patch_53\">\r\n    <path d=\"M 52.375 224.64 \r\nL 52.375 7.2 \r\n\" style=\"fill:none;stroke:#000000;stroke-linecap:square;stroke-linejoin:miter;stroke-width:0.8;\"/>\r\n   </g>\r\n   <g id=\"patch_54\">\r\n    <path d=\"M 387.175 224.64 \r\nL 387.175 7.2 \r\n\" style=\"fill:none;stroke:#000000;stroke-linecap:square;stroke-linejoin:miter;stroke-width:0.8;\"/>\r\n   </g>\r\n   <g id=\"patch_55\">\r\n    <path d=\"M 52.375 224.64 \r\nL 387.175 224.64 \r\n\" style=\"fill:none;stroke:#000000;stroke-linecap:square;stroke-linejoin:miter;stroke-width:0.8;\"/>\r\n   </g>\r\n   <g id=\"patch_56\">\r\n    <path d=\"M 52.375 7.2 \r\nL 387.175 7.2 \r\n\" style=\"fill:none;stroke:#000000;stroke-linecap:square;stroke-linejoin:miter;stroke-width:0.8;\"/>\r\n   </g>\r\n  </g>\r\n </g>\r\n <defs>\r\n  <clipPath id=\"p1acecaf116\">\r\n   <rect height=\"217.44\" width=\"334.8\" x=\"52.375\" y=\"7.2\"/>\r\n  </clipPath>\r\n </defs>\r\n</svg>\r\n",
            "image/png": "[encoded data removed]"
          },
          "metadata": {
            "needs_background": "light"
          }
        }
      ],
      "source": [
        "a=plt.hist(y_train_train_pred,50,cumulative=True);\n",
        "print(a[0])"
      ]
    },
    {
      "cell_type": "code",
      "execution_count": 179,
      "metadata": {},
      "outputs": [],
      "source": [
        "def show_similarity(a,b):\n",
        "    for i in range(min(len(a),1000)):\n",
        "        print(f\"{a[i]}-{b[i]} \",end=\"\")"
      ]
    },
    {
      "cell_type": "code",
      "execution_count": 180,
      "metadata": {
        "tags": []
      },
      "outputs": [
        {
          "output_type": "stream",
          "name": "stdout",
          "text": [
            "out:  (17667, 121503, 182420)\n",
            "5.014.066.0225.0550.01052.01743.02597.03655.04832.06162.07503.08983.010517.012175.013902.015867.017997.0step: [17, 31]\n",
            "Limits: (1.6626707225309552, 2.3888167087358267)\n",
            "conv: (1.6626707225309552, 2.3888167087358267)\n",
            "hiba:46697 max:182420 -- error: 25.5986 good %: 74.4014 %\n",
            "3-[3] 2-[2] 3-[2] 2-[3] 2-[2] 3-[3] 2-[2] 3-[3] 3-[3] 2-[2] 2-[2] 3-[3] 2-[2] 1-[2] 2-[2] 3-[3] 3-[2] 2-[1] 2-[3] 2-[2] 3-[3] 2-[2] 3-[3] 3-[3] 2-[2] 3-[3] 1-[1] 3-[2] 2-[2] 2-[2] 2-[2] 1-[1] 3-[3] 2-[2] 3-[2] 3-[2] 2-[2] 1-[2] 3-[3] 3-[2] 2-[2] 2-[2] 3-[2] 1-[1] 3-[2] 2-[3] 2-[2] 2-[2] 3-[2] 3-[3] 1-[2] 2-[2] 2-[2] 2-[2] 3-[3] 2-[2] 2-[2] 3-[3] 2-[2] 2-[2] 2-[2] 2-[2] 2-[2] 2-[3] 2-[3] 3-[2] 2-[2] 2-[2] 1-[2] 1-[2] 1-[2] 1-[1] 2-[2] 3-[3] 3-[3] 3-[3] 2-[2] 2-[3] 2-[2] 2-[3] 2-[1] 3-[2] 3-[3] 2-[2] 3-[2] 2-[3] 3-[3] 2-[2] 2-[2] 3-[2] 3-[3] 2-[3] 2-[2] 2-[2] 2-[2] 3-[2] 2-[3] 2-[2] 2-[2] 3-[3] 2-[2] 1-[1] 1-[1] 2-[3] 2-[2] 3-[2] 3-[3] 3-[3] 1-[2] 1-[1] 2-[3] 2-[2] 3-[2] 2-[3] 1-[1] 2-[2] 2-[2] 2-[3] 2-[3] 1-[1] 2-[2] 3-[2] 2-[1] 2-[3] 3-[3] 3-[3] 2-[2] 2-[2] 3-[3] 2-[2] 3-[2] 1-[1] 3-[2] 2-[3] 2-[2] 3-[3] 2-[2] 2-[2] 3-[3] 2-[2] 1-[1] 3-[3] 2-[3] 1-[2] 3-[3] 2-[2] 2-[2] 2-[2] 3-[3] 3-[2] 3-[3] 2-[2] 2-[2] 3-[3] 3-[3] 2-[3] 3-[3] 1-[1] 2-[2] 3-[2] 3-[3] 2-[1] 2-[2] 2-[3] 2-[2] 3-[3] 2-[2] 3-[2] 3-[3] 3-[2] 2-[2] 3-[2] 2-[2] 2-[2] 2-[2] 2-[2] 2-[2] 2-[3] 2-[2] 1-[1] 2-[2] 2-[3] 2-[2] 3-[3] 3-[2] 1-[1] 3-[3] 2-[3] 3-[3] 3-[2] 3-[3] 2-[2] 3-[3] 2-[2] 2-[3] 3-[3] 2-[2] 3-[3] 3-[3] 3-[2] 2-[3] 3-[3] 2-[3] 1-[1] 2-[2] 3-[2] 3-[3] 1-[1] 2-[1] 3-[3] 3-[3] 3-[3] 2-[2] 2-[2] 1-[1] 2-[2] 2-[2] 3-[3] 3-[3] 2-[2] 1-[2] 2-[2] 2-[2] 3-[3] 1-[1] 2-[2] 3-[3] 3-[2] 2-[2] 1-[1] 3-[2] 3-[3] 2-[2] 3-[3] 3-[3] 3-[2] 2-[2] 2-[2] 1-[1] 2-[2] 2-[2] 3-[2] 2-[2] 3-[2] 2-[2] 2-[2] 3-[2] 3-[2] 2-[2] 3-[3] 2-[2] 2-[2] 2-[2] 2-[2] 3-[3] 3-[2] 3-[3] 2-[2] 2-[2] 2-[2] 3-[3] 2-[2] 2-[2] 2-[2] 3-[2] 2-[1] 3-[3] 1-[2] 3-[3] 2-[2] 2-[2] 1-[1] 2-[2] 1-[1] 1-[1] 2-[1] 3-[2] 2-[3] 1-[1] 2-[2] 2-[2] 3-[2] 3-[2] 2-[2] 2-[2] 2-[2] 2-[2] 2-[2] 1-[1] 1-[1] 3-[3] 2-[1] 1-[1] 3-[2] 2-[2] 3-[3] 2-[2] 3-[3] 3-[3] 3-[3] 2-[2] 2-[2] 3-[2] 3-[3] 1-[2] 3-[2] 2-[2] 3-[3] 3-[3] 3-[3] 2-[3] 3-[3] 2-[2] 3-[3] 2-[3] 3-[2] 3-[3] 2-[2] 3-[3] 2-[2] 2-[2] 2-[2] 1-[2] 2-[3] 2-[3] 3-[2] 3-[2] 2-[2] 3-[3] 2-[1] 2-[3] 2-[3] 1-[1] 3-[2] 2-[3] 2-[3] 2-[2] 1-[2] 2-[2] 3-[2] 3-[3] 2-[2] 1-[2] 2-[1] 1-[2] 2-[3] 3-[3] 1-[1] 3-[3] 3-[3] 3-[3] 3-[3] 2-[2] 1-[1] 2-[2] 3-[3] 2-[3] 1-[2] 2-[3] 3-[2] 2-[2] 2-[3] 3-[3] 1-[2] 3-[2] 1-[1] 3-[3] 3-[3] 1-[1] 2-[3] 3-[2] 2-[2] 2-[2] 3-[3] 2-[1] 2-[2] 2-[2] 3-[2] 3-[3] 3-[3] 2-[2] 3-[3] 2-[2] 2-[3] 2-[2] 3-[3] 1-[1] 2-[3] 2-[2] 2-[2] 3-[3] 3-[3] 3-[3] 2-[2] 2-[2] 2-[2] 2-[3] 3-[3] 2-[2] 2-[1] 3-[3] 2-[2] 1-[1] 2-[3] 3-[3] 3-[2] 2-[2] 3-[2] 2-[3] 3-[2] 3-[3] 2-[2] 1-[1] 3-[3] 2-[2] 2-[2] 2-[2] 2-[2] 1-[1] 3-[3] 2-[2] 2-[2] 2-[2] 2-[2] 3-[3] 2-[2] 2-[2] 2-[2] 3-[3] 2-[1] 3-[3] 3-[3] 2-[2] 2-[2] 2-[3] 2-[2] 3-[3] 3-[3] 3-[3] 2-[2] 1-[1] 2-[2] 2-[2] 3-[3] 2-[2] 2-[2] 3-[3] 3-[2] 2-[2] 3-[2] 2-[3] 3-[3] 2-[3] 2-[3] 2-[3] 3-[2] 2-[2] 2-[2] 2-[2] 3-[3] 2-[2] 2-[2] 2-[2] 2-[3] 2-[2] 2-[2] 1-[2] 3-[3] 2-[2] 3-[3] 1-[1] 3-[3] 2-[2] 2-[3] 2-[2] 2-[1] 2-[2] 2-[2] 2-[2] 2-[3] 2-[2] 3-[2] 2-[2] 3-[3] 2-[1] 2-[1] 2-[3] 2-[2] 2-[3] 2-[2] 3-[3] 3-[3] 2-[2] 2-[3] 2-[3] 3-[2] 2-[2] 2-[2] 2-[3] 3-[3] 3-[3] 2-[2] 2-[2] 2-[2] 3-[3] 1-[1] 2-[2] 2-[2] 2-[2] 2-[2] 2-[2] 3-[2] 3-[3] 3-[2] 2-[2] 2-[3] 2-[2] 2-[2] 3-[2] 2-[2] 1-[1] 2-[2] 3-[3] 2-[3] 3-[3] 2-[2] 2-[3] 2-[2] 3-[2] 3-[2] 1-[2] 1-[1] 3-[3] 2-[2] 3-[3] 2-[3] 3-[3] 2-[2] 2-[1] 3-[3] 3-[3] 2-[3] 2-[2] 2-[2] 3-[2] 2-[3] 2-[2] 1-[2] 2-[2] 3-[2] 3-[3] 3-[3] 3-[2] 3-[2] 2-[2] 3-[3] 2-[2] 2-[2] 2-[2] 2-[2] 1-[1] 2-[2] 3-[3] 2-[3] 2-[2] 3-[2] 2-[2] 2-[2] 3-[2] 2-[2] 2-[2] 2-[3] 2-[2] 1-[1] 2-[2] 1-[3] 2-[2] 2-[3] 2-[3] 3-[2] 2-[2] 1-[1] 2-[2] 3-[3] 3-[3] 2-[2] 2-[2] 3-[3] 2-[2] 3-[3] 3-[3] 1-[2] 2-[2] 3-[2] 2-[2] 2-[2] 2-[2] 2-[2] 2-[3] 2-[2] 3-[3] 1-[2] 3-[3] 1-[1] 2-[2] 2-[2] 2-[2] 2-[1] 2-[2] 2-[2] 2-[2] 3-[3] 3-[3] 3-[3] 3-[3] 2-[2] 2-[2] 2-[2] 2-[2] 2-[2] 3-[3] 2-[2] 2-[2] 3-[3] 2-[2] 1-[1] 2-[2] 2-[2] 2-[2] 1-[1] 3-[2] 3-[2] 2-[2] 2-[2] 2-[2] 3-[3] 2-[1] 2-[2] 1-[2] 3-[2] 2-[2] 2-[2] 2-[2] 2-[3] 2-[2] 2-[2] 2-[3] 3-[3] 1-[1] 3-[3] 2-[1] 2-[2] 2-[2] 2-[2] 3-[3] 3-[3] 2-[2] 2-[2] 2-[2] 2-[1] 2-[2] 2-[2] 3-[2] 2-[3] 2-[2] 2-[2] 2-[2] 2-[2] 3-[3] 2-[2] 3-[2] 2-[2] 2-[1] 2-[2] 2-[2] 2-[2] 3-[3] 2-[2] 2-[3] 2-[2] 2-[2] 2-[2] 1-[1] 3-[2] 3-[3] 2-[2] 2-[2] 2-[3] 3-[2] 3-[3] 3-[3] 2-[2] 2-[2] 2-[2] 2-[2] 2-[2] 3-[3] 2-[2] 1-[1] 2-[2] 3-[2] 2-[2] 2-[2] 2-[2] 2-[3] 3-[3] 2-[2] 2-[3] 2-[2] 3-[3] 2-[2] 1-[1] 2-[2] 2-[2] 2-[2] 2-[2] 3-[3] 3-[2] 2-[3] 2-[2] 2-[2] 3-[2] 3-[3] 3-[3] 3-[3] 2-[1] 2-[2] 2-[2] 2-[1] 3-[3] 2-[3] 2-[2] 2-[3] 1-[1] 3-[3] 2-[2] 3-[2] 2-[2] 2-[2] 2-[3] 1-[1] 1-[2] 3-[2] 2-[2] 2-[2] 2-[2] 3-[2] 2-[2] 2-[2] 2-[2] 3-[3] 2-[2] 3-[3] 2-[2] 3-[2] 2-[3] 2-[2] 2-[2] 2-[3] 2-[2] 2-[2] 3-[2] 2-[2] 2-[2] 2-[2] 2-[3] 3-[3] 2-[3] 2-[2] 2-[2] 1-[1] 3-[3] 2-[2] 2-[2] 3-[2] 1-[2] 3-[3] 2-[2] 2-[2] 2-[3] 2-[2] 2-[2] 3-[3] 3-[3] 2-[3] 3-[3] 3-[2] 2-[2] 2-[2] 3-[3] 2-[2] 3-[3] 2-[2] 2-[2] 3-[3] 2-[2] 2-[2] 2-[2] 1-[1] 3-[3] 3-[2] 3-[3] 3-[3] 1-[2] 2-[2] 3-[3] 3-[2] 1-[1] 2-[2] 2-[2] 3-[2] 2-[2] 2-[2] 2-[2] 2-[3] 3-[3] 3-[3] 2-[3] 2-[2] 2-[3] 2-[2] 3-[2] 3-[3] 2-[2] 2-[2] 2-[2] 3-[2] 2-[2] 3-[3] 2-[2] 2-[2] 2-[2] 3-[3] 2-[2] 2-[1] 3-[3] 3-[3] 3-[2] 3-[2] 1-[1] 1-[1] 3-[3] 2-[2] 2-[2] 3-[3] 3-[2] 2-[2] 3-[2] 2-[2] 3-[2] 1-[2] 3-[3] 2-[2] 3-[2] 2-[1] 2-[3] 2-[2] 3-[2] 3-[3] 2-[2] 2-[2] 3-[3] 2-[2] 2-[2] 2-[2] 3-[3] 3-[3] 2-[3] 2-[2] 2-[2] 3-[2] 3-[3] 2-[2] 3-[2] 2-[2] 2-[2] 2-[2] 3-[3] 2-[2] 2-[2] 3-[3] 2-[2] 3-[3] 3-[2] 2-[3] 3-[2] 2-[1] 2-[2] 2-[2] 2-[3] 3-[3] 3-[2] 2-[3] 3-[3] 1-[1] 2-[2] 2-[2] 2-[2] 2-[2] 2-[2] 2-[3] 3-[3] 3-[3] 2-[2] 3-[3] 2-[2] 2-[2] 3-[2] 2-[2] 2-[1] 3-[3] 2-[2] 2-[3] 1-[2] 3-[3] 1-[2] 3-[3] 3-[2] 1-[2] 2-[2] 3-[2] 2-[2] 2-[2] 3-[3] 3-[3] 2-[1] 2-[3] 3-[3] 3-[3] 2-[2] 2-[2] 2-[2] 2-[2] 1-[1] 2-[2] 2-[2] 1-[2] 2-[2] 2-[2] 3-[2] 2-[2] 2-[2] 1-[1] 1-[2] 2-[1] 1-[1] 2-[2] 2-[2] 2-[2] 3-[3] 3-[2] 2-[2] 2-[2] 2-[3] 2-[2] 3-[2] 2-[3] 2-[2] 2-[2] 3-[3] 2-[2] 2-[3] 3-[3] 3-[3] 2-[2] 2-[2] 2-[3] 1-[1] 3-[3] 2-[2] 2-[2] 3-[3] 2-[2] 2-[2] 2-[2] 2-[2] 2-[3] 2-[1] 3-[3] 2-[2] 2-[2] 3-[3] 3-[3] 1-[1] 2-[2] 2-[2] 3-[3] 2-[2] 3-[3] 3-[3] 3-[3] 3-[3] 2-[2] 2-[2] 2-[2] 3-[3] 3-[3] 2-[2] 3-[3] 2-[2] "
          ]
        }
      ],
      "source": [
        "range_x=calc_the_range(y_train_train,a)\n",
        "y_train_train_conv=conv_a_floatlist(y_train_train_pred,range_x)\n",
        "check_similarity_np(y_train_train_conv,y_train_train)\n",
        "show_similarity(y_train_train_conv,y_train_train)\n"
      ]
    },
    {
      "cell_type": "code",
      "execution_count": 181,
      "metadata": {},
      "outputs": [
        {
          "output_type": "stream",
          "name": "stdout",
          "text": [
            "conv: (1.6626707225309552, 2.3888167087358267)\nhiba:22812 max:78181 -- error: 29.1784 good %: 70.8216 %\n"
          ]
        }
      ],
      "source": [
        "# test the test set\n",
        "#------------------------------------\n",
        "\n",
        "y_train_test_pred=clf.predict(X_train_test)\n",
        "y_train_test_conv=conv_a_floatlist(y_train_test_pred,range_x)\n",
        "check_similarity_np(y_train_test_conv,y_train_test)\n",
        "#------------------------------------"
      ]
    },
    {
      "cell_type": "code",
      "execution_count": 137,
      "metadata": {},
      "outputs": [],
      "source": [
        "# futtass ez felett !!"
      ]
    },
    {
      "cell_type": "code",
      "metadata": {
        "colab": {
          "base_uri": "https://localhost:8080/"
        },
        "id": "QAuqcJ7xke4c",
        "outputId": "cf1018c8-fad5-4bb6-9bfa-788d2c5e5ab9"
      },
      "source": [
        "#outfile generation\n",
        "y_pred_ok=clf.predict(X_pred_scale)\n",
        "print(\"Prediction End\")\n",
        "\n",
        "X_pred_bd=pd.read_csv(basedir+\"/orig/test_values.csv\")\n",
        "\n",
        "y_pred_ok_int=[]\n",
        "for i in range(len(y_pred_ok)):\n",
        "    y_pred_ok_int.append(int(y_pred_ok[i]))"
      ],
      "execution_count": 63,
      "outputs": [
        {
          "output_type": "stream",
          "name": "stdout",
          "text": [
            "Prediction End\n"
          ]
        }
      ]
    },
    {
      "cell_type": "code",
      "metadata": {
        "colab": {
          "base_uri": "https://localhost:8080/"
        },
        "id": "wD9rzAN4pBR5",
        "outputId": "ab2363f0-11eb-4e5a-c1a4-a71d12168323"
      },
      "source": [
        "buildingid=X_pred_bd[\"building_id\"]\n",
        "head2=y_pred_ok_int\n",
        "\n",
        "\n",
        "outdf=pd.DataFrame(data={\"damage_grade\":y_pred_ok_int} ,index=buildingid)\n",
        "outdf.index.name=\"building_id\"\n",
        "\n",
        "\n",
        "outdf.head()\n",
        "st=29\n",
        "sts=str(st)\n",
        "outdf.to_csv(basedir+\"/out/submission_\"+sts+\"_xgboost.csv\")\n",
        "print()\n",
        "print(basedir+\"/out/submission_\"+sts+\"_xgboost.csv\")"
      ],
      "execution_count": 152,
      "outputs": [
        {
          "output_type": "stream",
          "name": "stdout",
          "text": [
            "\nC:/Users/sipocz/OneDrive/Dokumentumok/GitHub/_EarthQuake/gpos_lin/out/submission_28_xgboost.csv\n"
          ]
        }
      ]
    },
    {
      "cell_type": "code",
      "metadata": {
        "colab": {
          "base_uri": "https://localhost:8080/"
        },
        "id": "PjkOA2B1Pys6",
        "outputId": "e76ee986-189a-401e-9df9-722850ff2e5b"
      },
      "source": [
        "if not( _PCVERSION_):\r\n",
        "    !head \"/content/drive/My Drive/001_AI/_EarthQuake/gpos_lin/out/submission_24_xgboost.csv\""
      ],
      "execution_count": null,
      "outputs": []
    }
  ]
}